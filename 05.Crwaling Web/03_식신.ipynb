{
  "nbformat": 4,
  "nbformat_minor": 2,
  "metadata": {
    "colab": {
      "name": "03_식신.ipynb",
      "provenance": [],
      "collapsed_sections": []
    },
    "kernelspec": {
      "name": "python3",
      "display_name": "Python 3"
    },
    "language_info": {
      "name": "python"
    }
  },
  "cells": [
    {
      "cell_type": "markdown",
      "source": [
        "# 식신 - 양재역으로 검색\n",
        "- 명칭, 주요메뉴, 평점, 전화번호, 주소"
      ],
      "metadata": {
        "id": "486etQiTtVqt"
      }
    },
    {
      "cell_type": "code",
      "execution_count": 1,
      "source": [
        "import requests\n",
        "import pandas as pd\n",
        "from urllib.parse import quote    #한글데이터 전달하기 위함"
      ],
      "outputs": [],
      "metadata": {
        "id": "BU5csw-KtT0i"
      }
    },
    {
      "cell_type": "markdown",
      "source": [
        "- 데이터 가져오기"
      ],
      "metadata": {
        "id": "23X00F8Tt5CJ"
      }
    },
    {
      "cell_type": "code",
      "execution_count": 2,
      "source": [
        "base_url = 'https://www.siksinhot.com'\n",
        "url = f'{base_url}/search?keywords={quote(\"양재역\")}'\n",
        "req = requests.get(url)\n",
        "html = req.text"
      ],
      "outputs": [],
      "metadata": {
        "id": "5gnVHYH0trTo"
      }
    },
    {
      "cell_type": "code",
      "execution_count": 3,
      "source": [
        "from bs4 import BeautifulSoup\n",
        "\n",
        "soup = BeautifulSoup(html, 'html.parser')\n"
      ],
      "outputs": [],
      "metadata": {
        "id": "LjEAnlVmu751"
      }
    },
    {
      "cell_type": "markdown",
      "source": [
        "- 찾으려고 하는 데이터의 태그 찾기"
      ],
      "metadata": {
        "id": "VuNdfCXSusP5"
      }
    },
    {
      "cell_type": "code",
      "execution_count": 16,
      "source": [
        "lis = soup.select('div.listTy1 > ul > li')\n",
        "len(lis)"
      ],
      "outputs": [
        {
          "output_type": "execute_result",
          "data": {
            "text/plain": [
              "12"
            ]
          },
          "metadata": {
            "tags": []
          },
          "execution_count": 16
        }
      ],
      "metadata": {
        "colab": {
          "base_uri": "https://localhost:8080/"
        },
        "id": "dnOZ_7j2uXSI",
        "outputId": "04ce8f68-6cec-4f57-e036-bdf718f316e3"
      }
    },
    {
      "cell_type": "markdown",
      "source": [
        "- 여러개의 데이터중 하나를 선택해서 원하는 정보 추출"
      ],
      "metadata": {
        "id": "gflX57qJwoBt"
      }
    },
    {
      "cell_type": "code",
      "execution_count": 5,
      "source": [
        "li = lis[0]\n",
        "href = li.select_one('a')['href']\n",
        "href"
      ],
      "outputs": [
        {
          "output_type": "execute_result",
          "data": {
            "text/plain": [
              "'/P/358859'"
            ],
            "application/vnd.google.colaboratory.intrinsic+json": {
              "type": "string"
            }
          },
          "metadata": {
            "tags": []
          },
          "execution_count": 5
        }
      ],
      "metadata": {
        "colab": {
          "base_uri": "https://localhost:8080/",
          "height": 35
        },
        "id": "DJOmWvKRvN4T",
        "outputId": "2748ce18-0b3f-4d71-840d-110b8bfe4c96"
      }
    },
    {
      "cell_type": "code",
      "execution_count": 6,
      "source": [
        "url = base_url + href\n",
        "req = requests.get(url)\n",
        "sub_soup = BeautifulSoup(req.text, 'html.parser')"
      ],
      "outputs": [],
      "metadata": {
        "id": "rnhuCInIxPkq"
      }
    },
    {
      "cell_type": "code",
      "execution_count": 7,
      "source": [
        "store = sub_soup.select_one('.title')\n",
        "info = store.find('h3').get_text()\n",
        "info"
      ],
      "outputs": [
        {
          "output_type": "execute_result",
          "data": {
            "text/plain": [
              "'그릭슈바인 양재역점3.6HOT'"
            ],
            "application/vnd.google.colaboratory.intrinsic+json": {
              "type": "string"
            }
          },
          "metadata": {
            "tags": []
          },
          "execution_count": 7
        }
      ],
      "metadata": {
        "colab": {
          "base_uri": "https://localhost:8080/",
          "height": 35
        },
        "id": "WzIZUOBNyxys",
        "outputId": "72c1d64d-eca2-4a0f-d0ef-0ec6df96a061"
      }
    },
    {
      "cell_type": "code",
      "execution_count": 8,
      "source": [
        "score = store.select_one('h3 > strong').string\n",
        "score"
      ],
      "outputs": [
        {
          "output_type": "execute_result",
          "data": {
            "text/plain": [
              "'3.6'"
            ],
            "application/vnd.google.colaboratory.intrinsic+json": {
              "type": "string"
            }
          },
          "metadata": {
            "tags": []
          },
          "execution_count": 8
        }
      ],
      "metadata": {
        "colab": {
          "base_uri": "https://localhost:8080/",
          "height": 35
        },
        "id": "kZZc3m8-zKsz",
        "outputId": "3c7d1676-5722-4b9e-ddb3-f75348d9c75d"
      }
    },
    {
      "cell_type": "code",
      "execution_count": 9,
      "source": [
        "info.find(score)"
      ],
      "outputs": [
        {
          "output_type": "execute_result",
          "data": {
            "text/plain": [
              "10"
            ]
          },
          "metadata": {
            "tags": []
          },
          "execution_count": 9
        }
      ],
      "metadata": {
        "colab": {
          "base_uri": "https://localhost:8080/"
        },
        "id": "NJlFkuWbzpFH",
        "outputId": "c8653d65-0050-435b-bdfb-58ffdd6ab54f"
      }
    },
    {
      "cell_type": "code",
      "execution_count": 10,
      "source": [
        "name = info[:info.find(score)]\r\n",
        "name"
      ],
      "outputs": [
        {
          "output_type": "execute_result",
          "data": {
            "text/plain": [
              "'그릭슈바인 양재역점'"
            ],
            "application/vnd.google.colaboratory.intrinsic+json": {
              "type": "string"
            }
          },
          "metadata": {
            "tags": []
          },
          "execution_count": 10
        }
      ],
      "metadata": {
        "colab": {
          "base_uri": "https://localhost:8080/",
          "height": 35
        },
        "id": "JJes4A4uz25j",
        "outputId": "06d5d460-fd4d-4dc4-ad03-664fd5a811bd"
      }
    },
    {
      "cell_type": "code",
      "execution_count": 11,
      "source": [
        "menu = sub_soup.select('.store_info p')[1].get_text()\r\n",
        "menu"
      ],
      "outputs": [
        {
          "output_type": "execute_result",
          "data": {
            "text/plain": [
              "'나이트라이프 > 맥주/호프'"
            ],
            "application/vnd.google.colaboratory.intrinsic+json": {
              "type": "string"
            }
          },
          "metadata": {
            "tags": []
          },
          "execution_count": 11
        }
      ],
      "metadata": {
        "colab": {
          "base_uri": "https://localhost:8080/",
          "height": 35
        },
        "id": "aPumOu8v0D6P",
        "outputId": "e318a059-f6e0-4dd9-c084-44292de61013"
      }
    },
    {
      "cell_type": "code",
      "execution_count": 12,
      "source": [
        "tel = sub_soup.select_one('.p_tel p').get_text()\r\n",
        "tel"
      ],
      "outputs": [
        {
          "output_type": "execute_result",
          "data": {
            "text/plain": [
              "'02-572-6100'"
            ],
            "application/vnd.google.colaboratory.intrinsic+json": {
              "type": "string"
            }
          },
          "metadata": {
            "tags": []
          },
          "execution_count": 12
        }
      ],
      "metadata": {
        "colab": {
          "base_uri": "https://localhost:8080/",
          "height": 35
        },
        "id": "8ETf-qca029i",
        "outputId": "cb808b69-69ba-4059-b461-6d8e8fb98dde"
      }
    },
    {
      "cell_type": "code",
      "execution_count": 13,
      "source": [
        "addr = sub_soup.select_one('.txt_adr').get_text()\r\n",
        "addr"
      ],
      "outputs": [
        {
          "output_type": "execute_result",
          "data": {
            "text/plain": [
              "'서울특별시 서초구 강남대로 224'"
            ],
            "application/vnd.google.colaboratory.intrinsic+json": {
              "type": "string"
            }
          },
          "metadata": {
            "tags": []
          },
          "execution_count": 13
        }
      ],
      "metadata": {
        "colab": {
          "base_uri": "https://localhost:8080/",
          "height": 35
        },
        "id": "WBTHzeLc1Knq",
        "outputId": "4fcc761a-e39f-4d80-ed99-e803bddb4f4b"
      }
    },
    {
      "cell_type": "markdown",
      "source": [
        "- 한 페이지에 있는 모든 데이터를 반복문으로 가져오기"
      ],
      "metadata": {
        "id": "G8D2iwa62Ndu"
      }
    },
    {
      "cell_type": "code",
      "execution_count": 17,
      "source": [
        "name_list, score_list, menu_list, tel_list, addr_list = [], [], [], [], []\r\n",
        "\r\n",
        "for i, li in enumerate(lis):\r\n",
        "  href = li.select_one('a')['href']\r\n",
        "  url = base_url + href\r\n",
        "  req = requests.get(url)\r\n",
        "  sub_soup = BeautifulSoup(req.text, 'html.parser')\r\n",
        "  \r\n",
        "  try:\r\n",
        "    store = sub_soup.select_one('.title')\r\n",
        "    info = store.find('h3').get_text()\r\n",
        "    score = store.select_one('h3 > strong').string\r\n",
        "    name = info[:info.find(score)]\r\n",
        "    menu = sub_soup.select('.store_info p')[1].get_text()\r\n",
        "    tel = sub_soup.select_one('.p_tel p').get_text()\r\n",
        "    addr = sub_soup.select_one('.txt_adr').get_text()\r\n",
        "  except:\r\n",
        "    print(i)\r\n",
        "\r\n",
        "  name_list.append(name)\r\n",
        "  score_list.append(score)\r\n",
        "  menu_list.append(menu)\r\n",
        "  tel_list.append(tel)\r\n",
        "  addr_list.append(addr)"
      ],
      "outputs": [
        {
          "output_type": "stream",
          "name": "stdout",
          "text": [
            "3\n",
            "4\n"
          ]
        }
      ],
      "metadata": {
        "colab": {
          "base_uri": "https://localhost:8080/"
        },
        "id": "9XhvKfu_14qF",
        "outputId": "2b77743f-7702-4e1e-806f-845bafd8cad5"
      }
    },
    {
      "cell_type": "code",
      "execution_count": 18,
      "source": [
        "df = pd.DataFrame({\r\n",
        "    'name':name_list,\r\n",
        "    'score':score_list,\r\n",
        "    'menu':menu_list,\r\n",
        "    'tell':tel_list,\r\n",
        "    'addr':addr_list\r\n",
        "    })\r\n",
        "df"
      ],
      "outputs": [
        {
          "output_type": "execute_result",
          "data": {
            "text/plain": [
              "            name score  ...          tell                           addr\n",
              "0     그릭슈바인 양재역점   3.6  ...   02-572-6100             서울특별시 서초구 강남대로 224\n",
              "1    미스터브리즈 양재역점   3.4  ...   02-576-4333               서울 서초구 강남대로34길 6\n",
              "2      동신참치 양재역점   3.0  ...   02-529-7130                서울 서초구 강남대로 213\n",
              "3      동신참치 양재역점  None  ...   02-529-7130                서울 서초구 강남대로 213\n",
              "4      동신참치 양재역점  None  ...   02-529-7130                서울 서초구 강남대로 213\n",
              "5       영동족발 3호점   4.1  ...   02-575-0250        서울특별시 서초구 남부순환로 2628-18\n",
              "6            황재벌   3.9  ...  02-3471-5454  서울특별시 서초구 남부순환로347길 42-4 신화빌딩\n",
              "7   김영모과자점 도곡타워점   4.1  ...  02-3460-2005     서울특별시 강남구 언주로30길 10 현대비젼21\n",
              "8         소호정 본점   4.0  ...   02-579-7282               서울특별시 서초구 논현로 27\n",
              "9          산동칼국수   3.9  ...  02-3473-7972           서울특별시 서초구 강남대로37길 63\n",
              "10        양재정육식당   4.1  ...   02-577-5804               서울 서초구 바우뫼로35길 3\n",
              "11          스타쉐프   3.9  ...   02-529-8248          서울특별시 강남구 논현로38길 38-6\n",
              "\n",
              "[12 rows x 5 columns]"
            ],
            "text/html": [
              "<div>\n",
              "<style scoped>\n",
              "    .dataframe tbody tr th:only-of-type {\n",
              "        vertical-align: middle;\n",
              "    }\n",
              "\n",
              "    .dataframe tbody tr th {\n",
              "        vertical-align: top;\n",
              "    }\n",
              "\n",
              "    .dataframe thead th {\n",
              "        text-align: right;\n",
              "    }\n",
              "</style>\n",
              "<table border=\"1\" class=\"dataframe\">\n",
              "  <thead>\n",
              "    <tr style=\"text-align: right;\">\n",
              "      <th></th>\n",
              "      <th>name</th>\n",
              "      <th>score</th>\n",
              "      <th>menu</th>\n",
              "      <th>tell</th>\n",
              "      <th>addr</th>\n",
              "    </tr>\n",
              "  </thead>\n",
              "  <tbody>\n",
              "    <tr>\n",
              "      <th>0</th>\n",
              "      <td>그릭슈바인 양재역점</td>\n",
              "      <td>3.6</td>\n",
              "      <td>나이트라이프 &gt; 맥주/호프</td>\n",
              "      <td>02-572-6100</td>\n",
              "      <td>서울특별시 서초구 강남대로 224</td>\n",
              "    </tr>\n",
              "    <tr>\n",
              "      <th>1</th>\n",
              "      <td>미스터브리즈 양재역점</td>\n",
              "      <td>3.4</td>\n",
              "      <td>세계음식 &gt; 카페/커피숍</td>\n",
              "      <td>02-576-4333</td>\n",
              "      <td>서울 서초구 강남대로34길 6</td>\n",
              "    </tr>\n",
              "    <tr>\n",
              "      <th>2</th>\n",
              "      <td>동신참치 양재역점</td>\n",
              "      <td>3.0</td>\n",
              "      <td>한국음식 &gt; 회</td>\n",
              "      <td>02-529-7130</td>\n",
              "      <td>서울 서초구 강남대로 213</td>\n",
              "    </tr>\n",
              "    <tr>\n",
              "      <th>3</th>\n",
              "      <td>동신참치 양재역점</td>\n",
              "      <td>None</td>\n",
              "      <td>한국음식 &gt; 회</td>\n",
              "      <td>02-529-7130</td>\n",
              "      <td>서울 서초구 강남대로 213</td>\n",
              "    </tr>\n",
              "    <tr>\n",
              "      <th>4</th>\n",
              "      <td>동신참치 양재역점</td>\n",
              "      <td>None</td>\n",
              "      <td>한국음식 &gt; 회</td>\n",
              "      <td>02-529-7130</td>\n",
              "      <td>서울 서초구 강남대로 213</td>\n",
              "    </tr>\n",
              "    <tr>\n",
              "      <th>5</th>\n",
              "      <td>영동족발 3호점</td>\n",
              "      <td>4.1</td>\n",
              "      <td>한국음식 &gt; 족발/보쌈</td>\n",
              "      <td>02-575-0250</td>\n",
              "      <td>서울특별시 서초구 남부순환로 2628-18</td>\n",
              "    </tr>\n",
              "    <tr>\n",
              "      <th>6</th>\n",
              "      <td>황재벌</td>\n",
              "      <td>3.9</td>\n",
              "      <td>한국음식 &gt; 장어구이/꼼장어</td>\n",
              "      <td>02-3471-5454</td>\n",
              "      <td>서울특별시 서초구 남부순환로347길 42-4 신화빌딩</td>\n",
              "    </tr>\n",
              "    <tr>\n",
              "      <th>7</th>\n",
              "      <td>김영모과자점 도곡타워점</td>\n",
              "      <td>4.1</td>\n",
              "      <td>세계음식 &gt; 베이커리/제과점</td>\n",
              "      <td>02-3460-2005</td>\n",
              "      <td>서울특별시 강남구 언주로30길 10 현대비젼21</td>\n",
              "    </tr>\n",
              "    <tr>\n",
              "      <th>8</th>\n",
              "      <td>소호정 본점</td>\n",
              "      <td>4.0</td>\n",
              "      <td>한국음식 &gt; 라면/칼국수/국수/수제비</td>\n",
              "      <td>02-579-7282</td>\n",
              "      <td>서울특별시 서초구 논현로 27</td>\n",
              "    </tr>\n",
              "    <tr>\n",
              "      <th>9</th>\n",
              "      <td>산동칼국수</td>\n",
              "      <td>3.9</td>\n",
              "      <td>한국음식 &gt; 라면/칼국수/국수/수제비</td>\n",
              "      <td>02-3473-7972</td>\n",
              "      <td>서울특별시 서초구 강남대로37길 63</td>\n",
              "    </tr>\n",
              "    <tr>\n",
              "      <th>10</th>\n",
              "      <td>양재정육식당</td>\n",
              "      <td>4.1</td>\n",
              "      <td>한국음식 &gt; 꽃등심/등심/육회</td>\n",
              "      <td>02-577-5804</td>\n",
              "      <td>서울 서초구 바우뫼로35길 3</td>\n",
              "    </tr>\n",
              "    <tr>\n",
              "      <th>11</th>\n",
              "      <td>스타쉐프</td>\n",
              "      <td>3.9</td>\n",
              "      <td>세계음식 &gt; 퓨전레스토랑</td>\n",
              "      <td>02-529-8248</td>\n",
              "      <td>서울특별시 강남구 논현로38길 38-6</td>\n",
              "    </tr>\n",
              "  </tbody>\n",
              "</table>\n",
              "</div>"
            ]
          },
          "metadata": {
            "tags": []
          },
          "execution_count": 18
        }
      ],
      "metadata": {
        "id": "8t6yh8e_3ZK3",
        "colab": {
          "base_uri": "https://localhost:8080/",
          "height": 421
        },
        "outputId": "d89e3b01-0f06-4b7b-f6af-4f3151f84168"
      }
    },
    {
      "cell_type": "markdown",
      "source": [
        "- 문제가 발생한 두번째 페이지 살펴보기"
      ],
      "metadata": {
        "id": "APbMuyHsup7L"
      }
    },
    {
      "cell_type": "code",
      "execution_count": 20,
      "source": [
        "li = lis[1]\r\n",
        "li.select_one('.store').string"
      ],
      "outputs": [
        {
          "output_type": "execute_result",
          "data": {
            "text/plain": [
              "'미스터브리즈 양재역점'"
            ],
            "application/vnd.google.colaboratory.intrinsic+json": {
              "type": "string"
            }
          },
          "metadata": {
            "tags": []
          },
          "execution_count": 20
        }
      ],
      "metadata": {
        "colab": {
          "base_uri": "https://localhost:8080/",
          "height": 35
        },
        "id": "KH_vcrWvt6MY",
        "outputId": "5b523303-02f5-4925-af57-1c697c3a2367"
      }
    },
    {
      "cell_type": "code",
      "execution_count": 29,
      "source": [
        "li.select_one('.socre').string"
      ],
      "outputs": [
        {
          "output_type": "error",
          "ename": "AttributeError",
          "evalue": "ignored",
          "traceback": [
            "\u001b[0;31m---------------------------------------------------------------------------\u001b[0m",
            "\u001b[0;31mAttributeError\u001b[0m                            Traceback (most recent call last)",
            "\u001b[0;32m<ipython-input-29-aa33448e7138>\u001b[0m in \u001b[0;36m<module>\u001b[0;34m()\u001b[0m\n\u001b[0;32m----> 1\u001b[0;31m \u001b[0mli\u001b[0m\u001b[0;34m.\u001b[0m\u001b[0mselect_one\u001b[0m\u001b[0;34m(\u001b[0m\u001b[0;34m'.socre'\u001b[0m\u001b[0;34m)\u001b[0m\u001b[0;34m.\u001b[0m\u001b[0mstring\u001b[0m\u001b[0;34m\u001b[0m\u001b[0;34m\u001b[0m\u001b[0m\n\u001b[0m",
            "\u001b[0;31mAttributeError\u001b[0m: 'NoneType' object has no attribute 'string'"
          ]
        }
      ],
      "metadata": {
        "colab": {
          "base_uri": "https://localhost:8080/",
          "height": 172
        },
        "id": "pRwR7T1IvC8G",
        "outputId": "ea81cb86-7ce3-4d28-f873-1d050cc02ed3"
      }
    },
    {
      "cell_type": "code",
      "execution_count": 24,
      "source": [
        "li.select_one('.cnt p').get_text()"
      ],
      "outputs": [
        {
          "output_type": "execute_result",
          "data": {
            "text/plain": [
              "'아메리카노, 허니버터브레드, 와플'"
            ],
            "application/vnd.google.colaboratory.intrinsic+json": {
              "type": "string"
            }
          },
          "metadata": {
            "tags": []
          },
          "execution_count": 24
        }
      ],
      "metadata": {
        "colab": {
          "base_uri": "https://localhost:8080/",
          "height": 35
        },
        "id": "XRnUtQk2vQKN",
        "outputId": "ba05c35b-11cf-405f-e1d6-1f8fde886344"
      }
    },
    {
      "cell_type": "markdown",
      "source": [
        "- 문제 발생한 네번째 업소 보기"
      ],
      "metadata": {
        "id": "-9kkPxhYvyoD"
      }
    },
    {
      "cell_type": "code",
      "execution_count": 28,
      "source": [
        "li = lis[3]\n",
        "li.select_one('em').string"
      ],
      "outputs": [
        {
          "output_type": "execute_result",
          "data": {
            "text/plain": [
              "'평가중'"
            ],
            "application/vnd.google.colaboratory.intrinsic+json": {
              "type": "string"
            }
          },
          "metadata": {
            "tags": []
          },
          "execution_count": 28
        }
      ],
      "metadata": {
        "colab": {
          "base_uri": "https://localhost:8080/",
          "height": 35
        },
        "id": "rSfAhUqevc9o",
        "outputId": "1177d799-a238-4b84-8bcf-c02f4da67a0c"
      }
    },
    {
      "cell_type": "code",
      "execution_count": null,
      "source": [
        "score = li.select_one('em').string\n",
        "if score == '평가중':\n",
        "  score = '0'"
      ],
      "outputs": [],
      "metadata": {
        "id": "XzaKqaR7yhvp"
      }
    },
    {
      "cell_type": "markdown",
      "source": [
        "- 변경된 방법으로 재시도"
      ],
      "metadata": {
        "id": "cvyX24ZzzH77"
      }
    },
    {
      "cell_type": "code",
      "execution_count": 31,
      "source": [
        "name_list, score_list, menu_list, tel_list, addr_list = [], [], [], [], []\n",
        "\n",
        "for i, li in enumerate(lis):\n",
        "  href = li.select_one('a')['href']\n",
        "  url = base_url + href\n",
        "  req = requests.get(url)\n",
        "  sub_soup = BeautifulSoup(req.text, 'html.parser')\n",
        "  \n",
        "  name = li.select_one('.store').string\n",
        "  score = li.select_one('em').string\n",
        "  if score == '평가중':\n",
        "    score = '0'  \n",
        "  menu = li.select_one('.cnt p').get_text()\n",
        "  tel = sub_soup.select_one('.p_tel p').get_text()\n",
        "  addr = sub_soup.select_one('.txt_adr').get_text()\n",
        "\n",
        "\n",
        "  name_list.append(name)\n",
        "  score_list.append(score)\n",
        "  menu_list.append(menu)\n",
        "  tel_list.append(tel)\n",
        "  addr_list.append(addr)"
      ],
      "outputs": [],
      "metadata": {
        "id": "ZTE0_eUNzKQP"
      }
    },
    {
      "cell_type": "code",
      "execution_count": 32,
      "source": [
        "df = pd.DataFrame({\n",
        "    'name':name_list,\n",
        "    'score':score_list,\n",
        "    'menu':menu_list,\n",
        "    'tell':tel_list,\n",
        "    'addr':addr_list\n",
        "    })\n",
        "df"
      ],
      "outputs": [
        {
          "output_type": "execute_result",
          "data": {
            "text/plain": [
              "            name score  ...          tell                           addr\n",
              "0     그릭슈바인 양재역점   3.6  ...   02-572-6100             서울특별시 서초구 강남대로 224\n",
              "1    미스터브리즈 양재역점   3.4  ...   02-576-4333               서울 서초구 강남대로34길 6\n",
              "2      동신참치 양재역점   3.0  ...   02-529-7130                서울 서초구 강남대로 213\n",
              "3       새우닭 양재역점     0  ...   02-575-6088     서울특별시 서초구 남부순환로356길 52  1층\n",
              "4       양재역 옛날짜장     0  ...  031-503-2550              경기도 시흥시 공단1대로 13 \n",
              "5       영동족발 3호점   4.1  ...   02-575-0250        서울특별시 서초구 남부순환로 2628-18\n",
              "6            황재벌   3.9  ...  02-3471-5454  서울특별시 서초구 남부순환로347길 42-4 신화빌딩\n",
              "7   김영모과자점 도곡타워점   4.1  ...  02-3460-2005     서울특별시 강남구 언주로30길 10 현대비젼21\n",
              "8         소호정 본점   4.0  ...   02-579-7282               서울특별시 서초구 논현로 27\n",
              "9          산동칼국수   3.9  ...  02-3473-7972           서울특별시 서초구 강남대로37길 63\n",
              "10        양재정육식당   4.1  ...   02-577-5804               서울 서초구 바우뫼로35길 3\n",
              "11          스타쉐프   3.9  ...   02-529-8248          서울특별시 강남구 논현로38길 38-6\n",
              "\n",
              "[12 rows x 5 columns]"
            ],
            "text/html": [
              "<div>\n",
              "<style scoped>\n",
              "    .dataframe tbody tr th:only-of-type {\n",
              "        vertical-align: middle;\n",
              "    }\n",
              "\n",
              "    .dataframe tbody tr th {\n",
              "        vertical-align: top;\n",
              "    }\n",
              "\n",
              "    .dataframe thead th {\n",
              "        text-align: right;\n",
              "    }\n",
              "</style>\n",
              "<table border=\"1\" class=\"dataframe\">\n",
              "  <thead>\n",
              "    <tr style=\"text-align: right;\">\n",
              "      <th></th>\n",
              "      <th>name</th>\n",
              "      <th>score</th>\n",
              "      <th>menu</th>\n",
              "      <th>tell</th>\n",
              "      <th>addr</th>\n",
              "    </tr>\n",
              "  </thead>\n",
              "  <tbody>\n",
              "    <tr>\n",
              "      <th>0</th>\n",
              "      <td>그릭슈바인 양재역점</td>\n",
              "      <td>3.6</td>\n",
              "      <td>그릭슈바인bbq, 슈바이네 학센, 모듬 소세지 bbq, 콥 샐러드</td>\n",
              "      <td>02-572-6100</td>\n",
              "      <td>서울특별시 서초구 강남대로 224</td>\n",
              "    </tr>\n",
              "    <tr>\n",
              "      <th>1</th>\n",
              "      <td>미스터브리즈 양재역점</td>\n",
              "      <td>3.4</td>\n",
              "      <td>아메리카노, 허니버터브레드, 와플</td>\n",
              "      <td>02-576-4333</td>\n",
              "      <td>서울 서초구 강남대로34길 6</td>\n",
              "    </tr>\n",
              "    <tr>\n",
              "      <th>2</th>\n",
              "      <td>동신참치 양재역점</td>\n",
              "      <td>3.0</td>\n",
              "      <td>참치회, 참치정식</td>\n",
              "      <td>02-529-7130</td>\n",
              "      <td>서울 서초구 강남대로 213</td>\n",
              "    </tr>\n",
              "    <tr>\n",
              "      <th>3</th>\n",
              "      <td>새우닭 양재역점</td>\n",
              "      <td>0</td>\n",
              "      <td>딱새우회, 닭도리탕, 딱새우튀김, 술국닭계장, 마라해물새우</td>\n",
              "      <td>02-575-6088</td>\n",
              "      <td>서울특별시 서초구 남부순환로356길 52  1층</td>\n",
              "    </tr>\n",
              "    <tr>\n",
              "      <th>4</th>\n",
              "      <td>양재역 옛날짜장</td>\n",
              "      <td>0</td>\n",
              "      <td>짜장면, 짬뽕, 볶음밥, 고추잡채, 쟁반짜장, 탕수육</td>\n",
              "      <td>031-503-2550</td>\n",
              "      <td>경기도 시흥시 공단1대로 13</td>\n",
              "    </tr>\n",
              "    <tr>\n",
              "      <th>5</th>\n",
              "      <td>영동족발 3호점</td>\n",
              "      <td>4.1</td>\n",
              "      <td>족발大, 쟁반막국수大, 순두부찌개, 족발 중, 해물파전</td>\n",
              "      <td>02-575-0250</td>\n",
              "      <td>서울특별시 서초구 남부순환로 2628-18</td>\n",
              "    </tr>\n",
              "    <tr>\n",
              "      <th>6</th>\n",
              "      <td>황재벌</td>\n",
              "      <td>3.9</td>\n",
              "      <td>꼼장어, 쭈꾸미, 왕 꼼장어, 닭발, 계란찜, 알 주먹밥</td>\n",
              "      <td>02-3471-5454</td>\n",
              "      <td>서울특별시 서초구 남부순환로347길 42-4 신화빌딩</td>\n",
              "    </tr>\n",
              "    <tr>\n",
              "      <th>7</th>\n",
              "      <td>김영모과자점 도곡타워점</td>\n",
              "      <td>4.1</td>\n",
              "      <td>몽블랑, 바게트샌드위치, 레즌 천연발효빵, 생크림앙팡, 마늘바게트</td>\n",
              "      <td>02-3460-2005</td>\n",
              "      <td>서울특별시 강남구 언주로30길 10 현대비젼21</td>\n",
              "    </tr>\n",
              "    <tr>\n",
              "      <th>8</th>\n",
              "      <td>소호정 본점</td>\n",
              "      <td>4.0</td>\n",
              "      <td>안동국시, 국밥, 수육(대), 전(대), 묵(대)</td>\n",
              "      <td>02-579-7282</td>\n",
              "      <td>서울특별시 서초구 논현로 27</td>\n",
              "    </tr>\n",
              "    <tr>\n",
              "      <th>9</th>\n",
              "      <td>산동칼국수</td>\n",
              "      <td>3.9</td>\n",
              "      <td>손칼국수, 만두국, 왕만두</td>\n",
              "      <td>02-3473-7972</td>\n",
              "      <td>서울특별시 서초구 강남대로37길 63</td>\n",
              "    </tr>\n",
              "    <tr>\n",
              "      <th>10</th>\n",
              "      <td>양재정육식당</td>\n",
              "      <td>4.1</td>\n",
              "      <td>한우모듬, 업진 치마살, 한우등심</td>\n",
              "      <td>02-577-5804</td>\n",
              "      <td>서울 서초구 바우뫼로35길 3</td>\n",
              "    </tr>\n",
              "    <tr>\n",
              "      <th>11</th>\n",
              "      <td>스타쉐프</td>\n",
              "      <td>3.9</td>\n",
              "      <td>지중해식문어요리, 놀라운농어요리, 버섯크림요리와 빵, 키조개관자샐러드</td>\n",
              "      <td>02-529-8248</td>\n",
              "      <td>서울특별시 강남구 논현로38길 38-6</td>\n",
              "    </tr>\n",
              "  </tbody>\n",
              "</table>\n",
              "</div>"
            ]
          },
          "metadata": {
            "tags": []
          },
          "execution_count": 32
        }
      ],
      "metadata": {
        "colab": {
          "base_uri": "https://localhost:8080/",
          "height": 506
        },
        "id": "tU0UFnT1zpLb",
        "outputId": "cac9bc49-a92a-469b-acf5-b74a4307dfe5"
      }
    },
    {
      "cell_type": "code",
      "execution_count": null,
      "source": [],
      "outputs": [],
      "metadata": {
        "id": "SQjdJkmQ0erX"
      }
    }
  ]
}