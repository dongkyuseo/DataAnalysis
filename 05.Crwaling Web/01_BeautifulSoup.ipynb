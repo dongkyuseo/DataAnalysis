{
  "nbformat": 4,
  "nbformat_minor": 0,
  "metadata": {
    "colab": {
      "name": "01_BeautifulSoup.ipynb",
      "provenance": [],
      "collapsed_sections": []
    },
    "kernelspec": {
      "name": "python3",
      "display_name": "Python 3"
    },
    "language_info": {
      "name": "python"
    }
  },
  "cells": [
    {
      "cell_type": "markdown",
      "metadata": {
        "id": "9JvuiH-FS-4C"
      },
      "source": [
        "# BeautifulSoup 사용법"
      ]
    },
    {
      "cell_type": "markdown",
      "metadata": {
        "id": "cxFlLt1NTGz9"
      },
      "source": [
        "## Local HTML 파일 열기"
      ]
    },
    {
      "cell_type": "code",
      "metadata": {
        "id": "SrQ8bDuJSlJ3"
      },
      "source": [
        "from bs4 import BeautifulSoup\n",
        "with open('00_Example.html') as fp:\n",
        "  soup = BeautifulSoup(fp, 'html.parser')   # parser : html 분석기"
      ],
      "execution_count": 3,
      "outputs": []
    },
    {
      "cell_type": "code",
      "metadata": {
        "colab": {
          "base_uri": "https://localhost:8080/"
        },
        "id": "qv_yXUhHTfEn",
        "outputId": "5c4f1708-f504-4e41-ab85-fb7f8096fab3"
      },
      "source": [
        "soup"
      ],
      "execution_count": 4,
      "outputs": [
        {
          "output_type": "execute_result",
          "data": {
            "text/plain": [
              "<!DOCTYPE html>\n",
              "\n",
              "<html lang=\"en\">\n",
              "<head>\n",
              "<meta charset=\"utf-8\"/>\n",
              "<meta content=\"width=device-width, initial-scale=1.0\" name=\"viewport\"/>\n",
              "<title>Web Crawling Example</title>\n",
              "</head>\n",
              "<body>\n",
              "<div>\n",
              "<p>a</p><p>b</p><p>c</p>\n",
              "</div>\n",
              "<div class=\"ex_class sample\">\n",
              "<p>1</p><p>2</p><p>3</p>\n",
              "</div>\n",
              "<div id=\"ex_id\">\n",
              "<p>X</p><p>Y</p><p>Z</p>\n",
              "</div>\n",
              "<h1>This is a heading.</h1>\n",
              "<p>This is a paragraph.</p>\n",
              "<p>This is another paragraph.</p>\n",
              "<a class=\"a sample\" href=\"www.naver.com\">Naver</a>\n",
              "</body>\n",
              "</html>"
            ]
          },
          "metadata": {
            "tags": []
          },
          "execution_count": 4
        }
      ]
    },
    {
      "cell_type": "markdown",
      "metadata": {
        "id": "3_Ay8evTU85m"
      },
      "source": [
        "- find : 한개만 찾는 메서드\n",
        "- find_all : 모두 찾는 메서드"
      ]
    },
    {
      "cell_type": "code",
      "metadata": {
        "colab": {
          "base_uri": "https://localhost:8080/"
        },
        "id": "1GXBWjXTTffn",
        "outputId": "520a5957-0a54-453b-932c-fb14889eca39"
      },
      "source": [
        "first_div = soup.find(\"div\")    # find : 한개만 찾음\n",
        "first_div"
      ],
      "execution_count": 7,
      "outputs": [
        {
          "output_type": "execute_result",
          "data": {
            "text/plain": [
              "<div>\n",
              "<p>a</p><p>b</p><p>c</p>\n",
              "</div>"
            ]
          },
          "metadata": {
            "tags": []
          },
          "execution_count": 7
        }
      ]
    },
    {
      "cell_type": "code",
      "metadata": {
        "colab": {
          "base_uri": "https://localhost:8080/"
        },
        "id": "EG1xTQKJUBeQ",
        "outputId": "7e8a087a-0f63-415e-e2d8-e540aea7820c"
      },
      "source": [
        "all_divs = soup.find_all('div')   # findall : 모두 찾음\n",
        "all_divs"
      ],
      "execution_count": 8,
      "outputs": [
        {
          "output_type": "execute_result",
          "data": {
            "text/plain": [
              "[<div>\n",
              " <p>a</p><p>b</p><p>c</p>\n",
              " </div>, <div class=\"ex_class sample\">\n",
              " <p>1</p><p>2</p><p>3</p>\n",
              " </div>, <div id=\"ex_id\">\n",
              " <p>X</p><p>Y</p><p>Z</p>\n",
              " </div>]"
            ]
          },
          "metadata": {
            "tags": []
          },
          "execution_count": 8
        }
      ]
    },
    {
      "cell_type": "code",
      "metadata": {
        "colab": {
          "base_uri": "https://localhost:8080/"
        },
        "id": "854Q0AumUfaX",
        "outputId": "6c876715-c031-44f0-f6df-be82e6ee1218"
      },
      "source": [
        "len(all_divs)"
      ],
      "execution_count": 9,
      "outputs": [
        {
          "output_type": "execute_result",
          "data": {
            "text/plain": [
              "3"
            ]
          },
          "metadata": {
            "tags": []
          },
          "execution_count": 9
        }
      ]
    },
    {
      "cell_type": "code",
      "metadata": {
        "colab": {
          "base_uri": "https://localhost:8080/"
        },
        "id": "mCCSfiLiUr87",
        "outputId": "740fe817-3f97-433c-c72d-a0b66d854224"
      },
      "source": [
        "for div in all_divs:\n",
        "  print(div)"
      ],
      "execution_count": 10,
      "outputs": [
        {
          "output_type": "stream",
          "text": [
            "<div>\n",
            "<p>a</p><p>b</p><p>c</p>\n",
            "</div>\n",
            "<div class=\"ex_class sample\">\n",
            "<p>1</p><p>2</p><p>3</p>\n",
            "</div>\n",
            "<div id=\"ex_id\">\n",
            "<p>X</p><p>Y</p><p>Z</p>\n",
            "</div>\n"
          ],
          "name": "stdout"
        }
      ]
    },
    {
      "cell_type": "code",
      "metadata": {
        "colab": {
          "base_uri": "https://localhost:8080/"
        },
        "id": "VgtCM-YiU0Zi",
        "outputId": "cea04fa5-e307-4d3d-9028-2abe13a8c06f"
      },
      "source": [
        "all_ps = soup.find_all('p')\n",
        "len(all_ps)"
      ],
      "execution_count": 13,
      "outputs": [
        {
          "output_type": "execute_result",
          "data": {
            "text/plain": [
              "11"
            ]
          },
          "metadata": {
            "tags": []
          },
          "execution_count": 13
        }
      ]
    },
    {
      "cell_type": "markdown",
      "metadata": {
        "id": "6iZeUdCTVky6"
      },
      "source": [
        "- select_one : CSS Seletor로 하나만 찾는 메서드"
      ]
    },
    {
      "cell_type": "code",
      "metadata": {
        "colab": {
          "base_uri": "https://localhost:8080/"
        },
        "id": "0EPAxj0UVIrb",
        "outputId": "780ab0cd-fb28-4f3d-8b92-4a46082c3fd2"
      },
      "source": [
        "ex_id_div = soup.select_one('#ex_id')     # id\n",
        "ex_id_div"
      ],
      "execution_count": 16,
      "outputs": [
        {
          "output_type": "execute_result",
          "data": {
            "text/plain": [
              "<div id=\"ex_id\">\n",
              "<p>X</p><p>Y</p><p>Z</p>\n",
              "</div>"
            ]
          },
          "metadata": {
            "tags": []
          },
          "execution_count": 16
        }
      ]
    },
    {
      "cell_type": "code",
      "metadata": {
        "colab": {
          "base_uri": "https://localhost:8080/"
        },
        "id": "gE2rdbYtWJ-C",
        "outputId": "123e1f34-865f-4546-d5bb-0ca77cbdba99"
      },
      "source": [
        "ex_sample_div = soup.select_one('.ex_class.sample')   # class\n",
        "ex_sample_div"
      ],
      "execution_count": 17,
      "outputs": [
        {
          "output_type": "execute_result",
          "data": {
            "text/plain": [
              "<div class=\"ex_class sample\">\n",
              "<p>1</p><p>2</p><p>3</p>\n",
              "</div>"
            ]
          },
          "metadata": {
            "tags": []
          },
          "execution_count": 17
        }
      ]
    },
    {
      "cell_type": "markdown",
      "metadata": {
        "id": "vDTVlu_JWtpP"
      },
      "source": [
        "- select : CSS selector로 모두를 찾는 메서드"
      ]
    },
    {
      "cell_type": "code",
      "metadata": {
        "colab": {
          "base_uri": "https://localhost:8080/"
        },
        "id": "229mYhZWWfPI",
        "outputId": "06f3d35f-de70-4b61-c38c-b6cc331e7404"
      },
      "source": [
        "ex_id_divs = soup.select('#ex_id')    # 결과는 리스트로\n",
        "ex_id_divs"
      ],
      "execution_count": 21,
      "outputs": [
        {
          "output_type": "execute_result",
          "data": {
            "text/plain": [
              "[<div id=\"ex_id\">\n",
              " <p>X</p><p>Y</p><p>Z</p>\n",
              " </div>]"
            ]
          },
          "metadata": {
            "tags": []
          },
          "execution_count": 21
        }
      ]
    },
    {
      "cell_type": "code",
      "metadata": {
        "colab": {
          "base_uri": "https://localhost:8080/"
        },
        "id": "09FOGpM9W8Ke",
        "outputId": "0a7cd4f7-a930-4f95-a862-6db0daba74c0"
      },
      "source": [
        "sample_divs = soup.select('.sample')\n",
        "sample_divs"
      ],
      "execution_count": 22,
      "outputs": [
        {
          "output_type": "execute_result",
          "data": {
            "text/plain": [
              "[<div class=\"ex_class sample\">\n",
              " <p>1</p><p>2</p><p>3</p>\n",
              " </div>, <a class=\"a sample\" href=\"www.naver.com\">Naver</a>]"
            ]
          },
          "metadata": {
            "tags": []
          },
          "execution_count": 22
        }
      ]
    },
    {
      "cell_type": "markdown",
      "metadata": {
        "id": "YClpa0KlXl4h"
      },
      "source": [
        "- 결과 가져오기"
      ]
    },
    {
      "cell_type": "code",
      "metadata": {
        "colab": {
          "base_uri": "https://localhost:8080/",
          "height": 35
        },
        "id": "MwfE9ICpXRzz",
        "outputId": "4d954f59-17e3-4ece-c5df-d7f163e14ba9"
      },
      "source": [
        "# <a class=\"a sample\" href=\"www.naver.com\">Naver</a>\n",
        "\n",
        "result = soup.select_one('.a.sample').get_text()\n",
        "result"
      ],
      "execution_count": 23,
      "outputs": [
        {
          "output_type": "execute_result",
          "data": {
            "application/vnd.google.colaboratory.intrinsic+json": {
              "type": "string"
            },
            "text/plain": [
              "'Naver'"
            ]
          },
          "metadata": {
            "tags": []
          },
          "execution_count": 23
        }
      ]
    },
    {
      "cell_type": "code",
      "metadata": {
        "colab": {
          "base_uri": "https://localhost:8080/",
          "height": 35
        },
        "id": "u99fe9MVX8pE",
        "outputId": "06888b48-e68d-4e4c-e248-4455fa627be5"
      },
      "source": [
        "# <a class=\"a sample\" href=\"www.naver.com\">Naver</a>\n",
        "\n",
        "result = soup.select_one('.a.sample').string\n",
        "result"
      ],
      "execution_count": 26,
      "outputs": [
        {
          "output_type": "execute_result",
          "data": {
            "application/vnd.google.colaboratory.intrinsic+json": {
              "type": "string"
            },
            "text/plain": [
              "'Naver'"
            ]
          },
          "metadata": {
            "tags": []
          },
          "execution_count": 26
        }
      ]
    },
    {
      "cell_type": "code",
      "metadata": {
        "colab": {
          "base_uri": "https://localhost:8080/",
          "height": 35
        },
        "id": "BKbmK7MGYGbW",
        "outputId": "62e28676-1672-4d34-dc31-963ab168d40f"
      },
      "source": [
        "# attribute(속성) 값 가져오기\n",
        "\n",
        "href = soup.select_one('.a.sample')['href']\n",
        "href"
      ],
      "execution_count": 27,
      "outputs": [
        {
          "output_type": "execute_result",
          "data": {
            "application/vnd.google.colaboratory.intrinsic+json": {
              "type": "string"
            },
            "text/plain": [
              "'www.naver.com'"
            ]
          },
          "metadata": {
            "tags": []
          },
          "execution_count": 27
        }
      ]
    },
    {
      "cell_type": "markdown",
      "metadata": {
        "id": "NmlVax4XZKtu"
      },
      "source": [
        "- id = 'ex_id' 안에 idv에서 p의 내용 가져오기"
      ]
    },
    {
      "cell_type": "code",
      "metadata": {
        "colab": {
          "base_uri": "https://localhost:8080/"
        },
        "id": "H3a5qMipYYKm",
        "outputId": "03dff6ee-406d-49e2-e5c1-3b800df64651"
      },
      "source": [
        "ex_id_div = soup.select_one('#ex_id')\n",
        "all_ps = ex_id_div.select('p')\n",
        "for p in all_ps:\n",
        "  print(p.get_text())   # .string 도 가능"
      ],
      "execution_count": 34,
      "outputs": [
        {
          "output_type": "stream",
          "text": [
            "X\n",
            "Y\n",
            "Z\n"
          ],
          "name": "stdout"
        }
      ]
    },
    {
      "cell_type": "code",
      "metadata": {
        "id": "f_6QdfMrZv29"
      },
      "source": [
        ""
      ],
      "execution_count": null,
      "outputs": []
    }
  ]
}