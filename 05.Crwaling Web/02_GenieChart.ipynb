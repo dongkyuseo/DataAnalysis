{
  "nbformat": 4,
  "nbformat_minor": 0,
  "metadata": {
    "colab": {
      "name": "02_GenieChart.ipynb",
      "provenance": [],
      "collapsed_sections": []
    },
    "kernelspec": {
      "name": "python3",
      "display_name": "Python 3"
    },
    "language_info": {
      "name": "python"
    }
  },
  "cells": [
    {
      "cell_type": "markdown",
      "metadata": {
        "id": "k4tP8L6mayZr"
      },
      "source": [
        "# Genie Top200 Chart"
      ]
    },
    {
      "cell_type": "code",
      "metadata": {
        "id": "sFhGXwnlarIK"
      },
      "source": [
        "import requests\n",
        "import pandas as pd\n"
      ],
      "execution_count": 1,
      "outputs": []
    },
    {
      "cell_type": "markdown",
      "metadata": {
        "id": "Akmz1Hf0fbxr"
      },
      "source": [
        "### 1. 인터넷 상에서 데이터 가져오기"
      ]
    },
    {
      "cell_type": "code",
      "metadata": {
        "colab": {
          "base_uri": "https://localhost:8080/",
          "height": 89
        },
        "id": "EJ_6Fz18bIEb",
        "outputId": "c0f5bbaf-b305-4ec9-e47f-f9079eb4cf20"
      },
      "source": [
        "# Genie Top 200 Chart\n",
        "url = 'https://www.genie.co.kr/chart/top200'\n",
        "req = requests.get(url)\n",
        "html = req.text\n",
        "html"
      ],
      "execution_count": 2,
      "outputs": [
        {
          "output_type": "execute_result",
          "data": {
            "application/vnd.google.colaboratory.intrinsic+json": {
              "type": "string"
            },
            "text/plain": [
              "'<br>\\r\\n<br>\\r\\n<center>\\r\\n<img src=\"http://www.geniemusic.co.kr/images/common/logo_r1.png\"><br>\\r\\n<h2> <meta http-equiv=\"Content-Type\" content=\"text/html;charset=UTF-8\"> ì\\xa0\\x91ì\\x86\\x8dì\\x9a\\x94ì²\\xadì\\x9d´ ë³´ì\\x95\\x88ì\\xa0\\x95ì±\\x85ì\\x97\\x90 ì\\x9d\\x98í\\x95´ ì°¨ë\\x8b¨ë\\x90\\x98ì\\x97\\x88ì\\x8aµë\\x8b\\x88ë\\x8b¤. ë\\x8b¹ì\\x82¬ ê³\\xa0ê°\\x9dì\\x84¼í\\x84°ë¡\\x9c ë¬¸ì\\x9d\\x98í\\x95´ì£¼ì\\x8b\\xadì\\x8b\\x9cì\\x98¤.<br><br>\\r\\nThe security policy of the connection request is blocked. Contact your customer service representative.<br><br>\\r\\nì§\\x80ë\\x8b\\x88ë®¤ì§\\x81 ê³\\xa0ê°\\x9dì\\x84¼í\\x84° 1577-5337<br><br>\\r\\n</h2>\\r\\n</center>\\r\\n<br>'"
            ]
          },
          "metadata": {
            "tags": []
          },
          "execution_count": 2
        }
      ]
    },
    {
      "cell_type": "code",
      "metadata": {
        "id": "48eANdIdbdt9"
      },
      "source": [
        "# Chrome User-Agent\n",
        "header = {'User-Agent':\n",
        "          'Mozilla/5.0 (X11; Linux x86_64) AppleWebKit/537.36 (KHTML, like Gecko) Chrome/51.0.2704.106 Safari/537.36 OPR/38.0.2220.41'}\n",
        "req = requests.get(url, headers=header)\n",
        "html = req.text\n",
        "#html"
      ],
      "execution_count": 6,
      "outputs": []
    },
    {
      "cell_type": "code",
      "metadata": {
        "id": "UT1xn_GWceuU"
      },
      "source": [
        "from bs4 import BeautifulSoup\n",
        "\n",
        "soup = BeautifulSoup(html, 'html.parser')\n"
      ],
      "execution_count": 7,
      "outputs": []
    },
    {
      "cell_type": "markdown",
      "metadata": {
        "id": "-lvSXOngfybB"
      },
      "source": [
        "### 2. 찾으려고 하는 데이터의 태그 찾기"
      ]
    },
    {
      "cell_type": "code",
      "metadata": {
        "colab": {
          "base_uri": "https://localhost:8080/"
        },
        "id": "WvbJAQC_fx10",
        "outputId": "85960215-455e-4949-b149-f8e581838817"
      },
      "source": [
        "# <table class=\"list-wrap\">\n",
        "table = soup.select_one('table.list-wrap')\n",
        "trs = table.select('tr.list')\n",
        "len(trs)"
      ],
      "execution_count": 9,
      "outputs": [
        {
          "output_type": "execute_result",
          "data": {
            "text/plain": [
              "50"
            ]
          },
          "metadata": {
            "tags": []
          },
          "execution_count": 9
        }
      ]
    },
    {
      "cell_type": "code",
      "metadata": {
        "colab": {
          "base_uri": "https://localhost:8080/"
        },
        "id": "NScDoag2g2Dh",
        "outputId": "6f25b0d6-105b-4dba-e2eb-811a487f838f"
      },
      "source": [
        "trs = soup.select('tr.list')\n",
        "len(trs)"
      ],
      "execution_count": 10,
      "outputs": [
        {
          "output_type": "execute_result",
          "data": {
            "text/plain": [
              "50"
            ]
          },
          "metadata": {
            "tags": []
          },
          "execution_count": 10
        }
      ]
    },
    {
      "cell_type": "markdown",
      "metadata": {
        "id": "VFQN5quDhW4J"
      },
      "source": [
        "### 3. 여러개의 데이터중 하나를 선택해서 원하는 정보 추출"
      ]
    },
    {
      "cell_type": "code",
      "metadata": {
        "id": "jh4jH5EWhHj_"
      },
      "source": [
        "# rank, title, artist, album 찾기\n",
        "tr = trs[0]"
      ],
      "execution_count": 41,
      "outputs": []
    },
    {
      "cell_type": "code",
      "metadata": {
        "colab": {
          "base_uri": "https://localhost:8080/",
          "height": 35
        },
        "id": "_vQ0AdvTiKzD",
        "outputId": "3556b3b2-ab09-4a2d-a58c-869d5c80f1ff"
      },
      "source": [
        "# rank\n",
        "tr.select_one('.number').get_text()"
      ],
      "execution_count": 42,
      "outputs": [
        {
          "output_type": "execute_result",
          "data": {
            "application/vnd.google.colaboratory.intrinsic+json": {
              "type": "string"
            },
            "text/plain": [
              "'1\\n                                        \\n                                    \\n유지\\n\\n'"
            ]
          },
          "metadata": {
            "tags": []
          },
          "execution_count": 42
        }
      ]
    },
    {
      "cell_type": "code",
      "metadata": {
        "colab": {
          "base_uri": "https://localhost:8080/",
          "height": 35
        },
        "id": "T0FtBGrziYgn",
        "outputId": "d293e957-dc7d-4d10-e2ce-e25960ca6971"
      },
      "source": [
        "tr.select_one('.number').get_text().strip('\\n')[0]"
      ],
      "execution_count": 43,
      "outputs": [
        {
          "output_type": "execute_result",
          "data": {
            "application/vnd.google.colaboratory.intrinsic+json": {
              "type": "string"
            },
            "text/plain": [
              "'1'"
            ]
          },
          "metadata": {
            "tags": []
          },
          "execution_count": 43
        }
      ]
    },
    {
      "cell_type": "code",
      "metadata": {
        "colab": {
          "base_uri": "https://localhost:8080/"
        },
        "id": "OzgrLxCxirn2",
        "outputId": "28aebdf2-d98b-4287-dab1-0de78efbef92"
      },
      "source": [
        "rank = int(tr.select_one('.number').get_text().split('\\n')[0])\n",
        "rank"
      ],
      "execution_count": 53,
      "outputs": [
        {
          "output_type": "execute_result",
          "data": {
            "text/plain": [
              "50"
            ]
          },
          "metadata": {
            "tags": []
          },
          "execution_count": 53
        }
      ]
    },
    {
      "cell_type": "code",
      "metadata": {
        "colab": {
          "base_uri": "https://localhost:8080/"
        },
        "id": "TP4UlRdli3m9",
        "outputId": "78cceada-f45a-48dc-be8f-6fc54b5cc966"
      },
      "source": [
        "# title\n",
        "title = tr.select_one('.info').find('a').get_text().strip\n",
        "title"
      ],
      "execution_count": 45,
      "outputs": [
        {
          "output_type": "execute_result",
          "data": {
            "text/plain": [
              "<function str.strip>"
            ]
          },
          "metadata": {
            "tags": []
          },
          "execution_count": 45
        }
      ]
    },
    {
      "cell_type": "code",
      "metadata": {
        "id": "TbSkEpGajXew"
      },
      "source": [
        "# title\n",
        "title = tr.select_one('.info').select_one('.title').get_text().strip"
      ],
      "execution_count": 46,
      "outputs": []
    },
    {
      "cell_type": "code",
      "metadata": {
        "colab": {
          "base_uri": "https://localhost:8080/",
          "height": 35
        },
        "id": "p4G_CrEAkIGt",
        "outputId": "84f7ca14-2f92-408c-f718-1a7d9d19e983"
      },
      "source": [
        "# artist\n",
        "artist = tr.select_one('.info').select_one('.artist').get_text().strip()\n",
        "artist"
      ],
      "execution_count": 47,
      "outputs": [
        {
          "output_type": "execute_result",
          "data": {
            "application/vnd.google.colaboratory.intrinsic+json": {
              "type": "string"
            },
            "text/plain": [
              "'Red Velvet (레드벨벳)'"
            ]
          },
          "metadata": {
            "tags": []
          },
          "execution_count": 47
        }
      ]
    },
    {
      "cell_type": "code",
      "metadata": {
        "colab": {
          "base_uri": "https://localhost:8080/",
          "height": 35
        },
        "id": "MirSCuFGkV_h",
        "outputId": "a8a0ed26-5451-43f4-db80-975da2ed88ab"
      },
      "source": [
        "# album\n",
        "album = tr.select_one('.info').select_one('.albumtitle').get_text().strip()\n",
        "album"
      ],
      "execution_count": 48,
      "outputs": [
        {
          "output_type": "execute_result",
          "data": {
            "application/vnd.google.colaboratory.intrinsic+json": {
              "type": "string"
            },
            "text/plain": [
              "'Queendom - The 6th Mini Album'"
            ]
          },
          "metadata": {
            "tags": []
          },
          "execution_count": 48
        }
      ]
    },
    {
      "cell_type": "markdown",
      "metadata": {
        "id": "nXc1vhvdkwbk"
      },
      "source": [
        "### 4. 한 페이지에 있는 모든 데이터를 반복문으로 가져오기"
      ]
    },
    {
      "cell_type": "code",
      "metadata": {
        "id": "tciv0hXFke8h"
      },
      "source": [
        "rank_list, title_list, artist_list, album_list = [], [], [], []\n",
        "\n",
        "for tr in trs:\n",
        "  rank = int(tr.select_one('.number').get_text().split('\\n')[0])\n",
        "  title = tr.select_one('.info').select_one('.title').get_text().strip()\n",
        "  artist = tr.select_one('.info').select_one('.artist').get_text().strip()\n",
        "  album = tr.select_one('.info').select_one('.albumtitle').get_text().strip()\n",
        "  rank_list.append(rank)\n",
        "  title_list.append(title)\n",
        "  artist_list.append(artist)\n",
        "  album_list.append(album)\n"
      ],
      "execution_count": 51,
      "outputs": []
    },
    {
      "cell_type": "code",
      "metadata": {
        "colab": {
          "base_uri": "https://localhost:8080/",
          "height": 204
        },
        "id": "m7pBAt96lpLn",
        "outputId": "b388556d-e778-4a11-81c8-9eb9fe56b598"
      },
      "source": [
        "df = pd.DataFrame({\n",
        "    '순위':rank_list,\n",
        "    '곡명':title_list,\n",
        "    '가수':artist_list,\n",
        "    '앨범':album_list\n",
        "})\n",
        "df.tail()"
      ],
      "execution_count": 52,
      "outputs": [
        {
          "output_type": "execute_result",
          "data": {
            "text/html": [
              "<div>\n",
              "<style scoped>\n",
              "    .dataframe tbody tr th:only-of-type {\n",
              "        vertical-align: middle;\n",
              "    }\n",
              "\n",
              "    .dataframe tbody tr th {\n",
              "        vertical-align: top;\n",
              "    }\n",
              "\n",
              "    .dataframe thead th {\n",
              "        text-align: right;\n",
              "    }\n",
              "</style>\n",
              "<table border=\"1\" class=\"dataframe\">\n",
              "  <thead>\n",
              "    <tr style=\"text-align: right;\">\n",
              "      <th></th>\n",
              "      <th>순위</th>\n",
              "      <th>곡명</th>\n",
              "      <th>가수</th>\n",
              "      <th>앨범</th>\n",
              "    </tr>\n",
              "  </thead>\n",
              "  <tbody>\n",
              "    <tr>\n",
              "      <th>45</th>\n",
              "      <td>46</td>\n",
              "      <td>사이렌 Remix (Feat. UNEDUCATED KID &amp; Paul Blanco)</td>\n",
              "      <td>호미들</td>\n",
              "      <td>사이렌 Remix</td>\n",
              "    </tr>\n",
              "    <tr>\n",
              "      <th>46</th>\n",
              "      <td>47</td>\n",
              "      <td>어푸 (Ah puh)</td>\n",
              "      <td>아이유 (IU)</td>\n",
              "      <td>IU 5th Album 'LILAC'</td>\n",
              "    </tr>\n",
              "    <tr>\n",
              "      <th>47</th>\n",
              "      <td>48</td>\n",
              "      <td>가을 우체국 앞에서</td>\n",
              "      <td>김대명</td>\n",
              "      <td>슬기로운 의사생활 시즌2 OST Part 2 (tvN 목요드라마)</td>\n",
              "    </tr>\n",
              "    <tr>\n",
              "      <th>48</th>\n",
              "      <td>49</td>\n",
              "      <td>Life Goes On</td>\n",
              "      <td>방탄소년단</td>\n",
              "      <td>BE</td>\n",
              "    </tr>\n",
              "    <tr>\n",
              "      <th>49</th>\n",
              "      <td>50</td>\n",
              "      <td>그대라는 사치</td>\n",
              "      <td>임영웅</td>\n",
              "      <td>사랑의 콜센타 PART62</td>\n",
              "    </tr>\n",
              "  </tbody>\n",
              "</table>\n",
              "</div>"
            ],
            "text/plain": [
              "    순위  ...                                    앨범\n",
              "45  46  ...                             사이렌 Remix\n",
              "46  47  ...                  IU 5th Album 'LILAC'\n",
              "47  48  ...  슬기로운 의사생활 시즌2 OST Part 2 (tvN 목요드라마)\n",
              "48  49  ...                                    BE\n",
              "49  50  ...                        사랑의 콜센타 PART62\n",
              "\n",
              "[5 rows x 4 columns]"
            ]
          },
          "metadata": {
            "tags": []
          },
          "execution_count": 52
        }
      ]
    },
    {
      "cell_type": "code",
      "metadata": {
        "id": "oh1RaAjKl9ND"
      },
      "source": [
        "lines = []\n",
        "for tr in trs:\n",
        "  rank = int(tr.select_one('.number').get_text().split('\\n')[0])\n",
        "  title = tr.select_one('.info').select_one('.title').get_text().strip()\n",
        "  artist = tr.select_one('.info').select_one('.artist').get_text().strip()\n",
        "  album = tr.select_one('.info').select_one('.albumtitle').get_text().strip()\n",
        "  lines.append([rank, title, artist, album])"
      ],
      "execution_count": 55,
      "outputs": []
    },
    {
      "cell_type": "code",
      "metadata": {
        "colab": {
          "base_uri": "https://localhost:8080/",
          "height": 204
        },
        "id": "moxE_eslm2Ob",
        "outputId": "1b61aaec-09e3-4e7b-d9cc-71c9b1f98f40"
      },
      "source": [
        "df = pd.DataFrame(lines, columns=['순위','곡명','가수','앨범'])\n",
        "df.head()"
      ],
      "execution_count": 56,
      "outputs": [
        {
          "output_type": "execute_result",
          "data": {
            "text/html": [
              "<div>\n",
              "<style scoped>\n",
              "    .dataframe tbody tr th:only-of-type {\n",
              "        vertical-align: middle;\n",
              "    }\n",
              "\n",
              "    .dataframe tbody tr th {\n",
              "        vertical-align: top;\n",
              "    }\n",
              "\n",
              "    .dataframe thead th {\n",
              "        text-align: right;\n",
              "    }\n",
              "</style>\n",
              "<table border=\"1\" class=\"dataframe\">\n",
              "  <thead>\n",
              "    <tr style=\"text-align: right;\">\n",
              "      <th></th>\n",
              "      <th>순위</th>\n",
              "      <th>곡명</th>\n",
              "      <th>가수</th>\n",
              "      <th>앨범</th>\n",
              "    </tr>\n",
              "  </thead>\n",
              "  <tbody>\n",
              "    <tr>\n",
              "      <th>0</th>\n",
              "      <td>1</td>\n",
              "      <td>Queendom</td>\n",
              "      <td>Red Velvet (레드벨벳)</td>\n",
              "      <td>Queendom - The 6th Mini Album</td>\n",
              "    </tr>\n",
              "    <tr>\n",
              "      <th>1</th>\n",
              "      <td>2</td>\n",
              "      <td>신호등</td>\n",
              "      <td>이무진</td>\n",
              "      <td>신호등</td>\n",
              "    </tr>\n",
              "    <tr>\n",
              "      <th>2</th>\n",
              "      <td>3</td>\n",
              "      <td>낙하 (With 아이유)</td>\n",
              "      <td>AKMU (악뮤)</td>\n",
              "      <td>NEXT EPISODE</td>\n",
              "    </tr>\n",
              "    <tr>\n",
              "      <th>3</th>\n",
              "      <td>4</td>\n",
              "      <td>바라만 본다</td>\n",
              "      <td>MSG워너비 (M.O.M)</td>\n",
              "      <td>MSG워너비 1집</td>\n",
              "    </tr>\n",
              "    <tr>\n",
              "      <th>4</th>\n",
              "      <td>5</td>\n",
              "      <td>Weekend</td>\n",
              "      <td>태연 (TAEYEON)</td>\n",
              "      <td>Weekend</td>\n",
              "    </tr>\n",
              "  </tbody>\n",
              "</table>\n",
              "</div>"
            ],
            "text/plain": [
              "   순위             곡명                 가수                             앨범\n",
              "0   1       Queendom  Red Velvet (레드벨벳)  Queendom - The 6th Mini Album\n",
              "1   2            신호등                이무진                            신호등\n",
              "2   3  낙하 (With 아이유)          AKMU (악뮤)                   NEXT EPISODE\n",
              "3   4         바라만 본다     MSG워너비 (M.O.M)                      MSG워너비 1집\n",
              "4   5        Weekend       태연 (TAEYEON)                        Weekend"
            ]
          },
          "metadata": {
            "tags": []
          },
          "execution_count": 56
        }
      ]
    },
    {
      "cell_type": "markdown",
      "metadata": {
        "id": "7WEzGQ_5n_QG"
      },
      "source": [
        "### 5. 모든 페이지에서 가져오기"
      ]
    },
    {
      "cell_type": "code",
      "metadata": {
        "id": "tDVAIc-7nBzW"
      },
      "source": [
        "sub = 'https://www.genie.co.kr/chart/top200?ditc=D&ymd=20210817&hh=14&rtm=Y&pg='\n",
        "\n",
        "rank_list, title_list, artist_list, album_list = [], [], [], []\n",
        "\n",
        "for page in range(1,5):\n",
        "  url = f'{sub}{page}'\n",
        "  header = {'User-Agent':\n",
        "          'Mozilla/5.0 (X11; Linux x86_64) AppleWebKit/537.36 (KHTML, like Gecko) Chrome/51.0.2704.106 Safari/537.36 OPR/38.0.2220.41'}\n",
        "  req = requests.get(url, headers=header)\n",
        "  soup = BeautifulSoup(req.text, 'html.parser')\n",
        "  trs = soup.select('tr.list')\n",
        "  \n",
        "  for tr in trs:\n",
        "    rank = int(tr.select_one('.number').get_text().split('\\n')[0])\n",
        "    title = tr.select_one('.info').select_one('.title').get_text().strip()\n",
        "    artist = tr.select_one('.info').select_one('.artist').get_text().strip()\n",
        "    album = tr.select_one('.info').select_one('.albumtitle').get_text().strip()\n",
        "    rank_list.append(rank)\n",
        "    title_list.append(title)\n",
        "    artist_list.append(artist)\n",
        "    album_list.append(album)\n"
      ],
      "execution_count": 57,
      "outputs": []
    },
    {
      "cell_type": "code",
      "metadata": {
        "colab": {
          "base_uri": "https://localhost:8080/",
          "height": 204
        },
        "id": "Xm6uQk_0pWhB",
        "outputId": "85de4e49-738f-4637-b5b4-4a863c0b67e6"
      },
      "source": [
        "df = pd.DataFrame({\n",
        "    '순위':rank_list,\n",
        "    '곡명':title_list,\n",
        "    '가수':artist_list,\n",
        "    '앨범':album_list\n",
        "})\n",
        "df.tail()"
      ],
      "execution_count": 58,
      "outputs": [
        {
          "output_type": "execute_result",
          "data": {
            "text/html": [
              "<div>\n",
              "<style scoped>\n",
              "    .dataframe tbody tr th:only-of-type {\n",
              "        vertical-align: middle;\n",
              "    }\n",
              "\n",
              "    .dataframe tbody tr th {\n",
              "        vertical-align: top;\n",
              "    }\n",
              "\n",
              "    .dataframe thead th {\n",
              "        text-align: right;\n",
              "    }\n",
              "</style>\n",
              "<table border=\"1\" class=\"dataframe\">\n",
              "  <thead>\n",
              "    <tr style=\"text-align: right;\">\n",
              "      <th></th>\n",
              "      <th>순위</th>\n",
              "      <th>곡명</th>\n",
              "      <th>가수</th>\n",
              "      <th>앨범</th>\n",
              "    </tr>\n",
              "  </thead>\n",
              "  <tbody>\n",
              "    <tr>\n",
              "      <th>195</th>\n",
              "      <td>196</td>\n",
              "      <td>Downtown Baby</td>\n",
              "      <td>블루 (BLOO)</td>\n",
              "      <td>Downtown Baby</td>\n",
              "    </tr>\n",
              "    <tr>\n",
              "      <th>196</th>\n",
              "      <td>197</td>\n",
              "      <td>노래방에서</td>\n",
              "      <td>장범준</td>\n",
              "      <td>장범준 3집</td>\n",
              "    </tr>\n",
              "    <tr>\n",
              "      <th>197</th>\n",
              "      <td>198</td>\n",
              "      <td>널 너무 모르고</td>\n",
              "      <td>헤이즈 (Heize)</td>\n",
              "      <td>/// (너 먹구름 비)</td>\n",
              "    </tr>\n",
              "    <tr>\n",
              "      <th>198</th>\n",
              "      <td>199</td>\n",
              "      <td>너에게 난, 나에게 넌</td>\n",
              "      <td>미도와 파라솔</td>\n",
              "      <td>슬기로운 의사생활 OST Part 12 (tvN 목요드라마)</td>\n",
              "    </tr>\n",
              "    <tr>\n",
              "      <th>199</th>\n",
              "      <td>200</td>\n",
              "      <td>Rose</td>\n",
              "      <td>디오 (D.O.)</td>\n",
              "      <td>공감 - The 1st Mini Album</td>\n",
              "    </tr>\n",
              "  </tbody>\n",
              "</table>\n",
              "</div>"
            ],
            "text/plain": [
              "      순위             곡명           가수                                 앨범\n",
              "195  196  Downtown Baby    블루 (BLOO)                      Downtown Baby\n",
              "196  197          노래방에서          장범준                             장범준 3집\n",
              "197  198       널 너무 모르고  헤이즈 (Heize)                      /// (너 먹구름 비)\n",
              "198  199   너에게 난, 나에게 넌      미도와 파라솔  슬기로운 의사생활 OST Part 12 (tvN 목요드라마)\n",
              "199  200           Rose    디오 (D.O.)            공감 - The 1st Mini Album"
            ]
          },
          "metadata": {
            "tags": []
          },
          "execution_count": 58
        }
      ]
    },
    {
      "cell_type": "code",
      "metadata": {
        "id": "6DPZ1Ipjpea4"
      },
      "source": [
        "df.to_csv('GenieTop200(210817).csv', index=False)"
      ],
      "execution_count": 62,
      "outputs": []
    },
    {
      "cell_type": "code",
      "metadata": {
        "id": "hMEuyl9ZqXM9"
      },
      "source": [
        ""
      ],
      "execution_count": null,
      "outputs": []
    }
  ]
}