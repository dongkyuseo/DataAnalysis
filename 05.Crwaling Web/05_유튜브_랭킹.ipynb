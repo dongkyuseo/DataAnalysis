{
  "nbformat": 4,
  "nbformat_minor": 0,
  "metadata": {
    "colab": {
      "name": "05_유튜브_랭킹.ipynb",
      "provenance": [],
      "collapsed_sections": []
    },
    "kernelspec": {
      "name": "python3",
      "display_name": "Python 3"
    },
    "language_info": {
      "name": "python"
    }
  },
  "cells": [
    {
      "cell_type": "markdown",
      "metadata": {
        "id": "EDYBwTgwA0nm"
      },
      "source": [
        "# 유튜브 랭킹 데이터 수집해서 시각화하기"
      ]
    },
    {
      "cell_type": "code",
      "metadata": {
        "id": "jSEBwORJ1fR9",
        "colab": {
          "base_uri": "https://localhost:8080/"
        },
        "outputId": "078bd6ee-ef82-48a3-9be4-a52d727912b7"
      },
      "source": [
        "!apt-get update > /dev/null\n",
        "!pip install selenium > /dev/null\n",
        "!apt install chromium-chromedriver > /dev/null"
      ],
      "execution_count": 1,
      "outputs": [
        {
          "output_type": "stream",
          "text": [
            "\n",
            "WARNING: apt does not have a stable CLI interface. Use with caution in scripts.\n",
            "\n"
          ],
          "name": "stdout"
        }
      ]
    },
    {
      "cell_type": "code",
      "metadata": {
        "id": "Oprk4iWvBVX1"
      },
      "source": [
        "from selenium import webdriver\n",
        "from bs4 import BeautifulSoup\n",
        "import time\n",
        "import pandas as pd\n"
      ],
      "execution_count": 2,
      "outputs": []
    },
    {
      "cell_type": "code",
      "metadata": {
        "id": "Ji64MoE3CYEW"
      },
      "source": [
        "options = webdriver.ChromeOptions()\n",
        "options.add_argument('--headless')   # 화면없이 실행\n",
        "options.add_argument('--no-sandbox')\n",
        "options.add_argument(\"--single-process\")\n",
        "options.add_argument(\"--disable-dev-shm-usage\")\n",
        "driver = webdriver.Chrome('chromedriver', options=options)"
      ],
      "execution_count": 3,
      "outputs": []
    },
    {
      "cell_type": "code",
      "metadata": {
        "id": "ZT-7RD-hCu2b"
      },
      "source": [
        "url = 'https://youtube-rank.com/board/bbs/board.php?bo_table=youtube&page=1'\n",
        "driver.get(url)\n",
        "#time.sleep(2)"
      ],
      "execution_count": 5,
      "outputs": []
    },
    {
      "cell_type": "code",
      "metadata": {
        "colab": {
          "base_uri": "https://localhost:8080/"
        },
        "id": "uwD6WBTgC5pA",
        "outputId": "ee507c63-3fa0-41bf-ba92-27bf6c0c9ba0"
      },
      "source": [
        "trs = driver.find_elements_by_css_selector('.aos-init')\n",
        "len(trs)"
      ],
      "execution_count": 10,
      "outputs": [
        {
          "output_type": "execute_result",
          "data": {
            "text/plain": [
              "100"
            ]
          },
          "metadata": {
            "tags": []
          },
          "execution_count": 10
        }
      ]
    },
    {
      "cell_type": "code",
      "metadata": {
        "id": "tzxn9j_eDk5d"
      },
      "source": [
        "html = driver.page_source\n",
        "soup = BeautifulSoup(html, 'html.parser')"
      ],
      "execution_count": 11,
      "outputs": []
    },
    {
      "cell_type": "code",
      "metadata": {
        "colab": {
          "base_uri": "https://localhost:8080/"
        },
        "id": "91AAfLMsEGF0",
        "outputId": "cb583950-c688-4084-e195-dee73d1931cc"
      },
      "source": [
        "channel_list = soup.select('.aos-init')\n",
        "len(channel_list)"
      ],
      "execution_count": 12,
      "outputs": [
        {
          "output_type": "execute_result",
          "data": {
            "text/plain": [
              "100"
            ]
          },
          "metadata": {
            "tags": []
          },
          "execution_count": 12
        }
      ]
    },
    {
      "cell_type": "code",
      "metadata": {
        "colab": {
          "base_uri": "https://localhost:8080/",
          "height": 35
        },
        "id": "qNwhOARbER43",
        "outputId": "c7197856-2743-4b6f-a248-fe0401df3e70"
      },
      "source": [
        "channel = channel_list[0]\n",
        "category = channel.select_one('p.category').get_text().strip()\n",
        "category\n"
      ],
      "execution_count": 23,
      "outputs": [
        {
          "output_type": "execute_result",
          "data": {
            "application/vnd.google.colaboratory.intrinsic+json": {
              "type": "string"
            },
            "text/plain": [
              "'[음악/댄스/가수]'"
            ]
          },
          "metadata": {
            "tags": []
          },
          "execution_count": 23
        }
      ]
    },
    {
      "cell_type": "code",
      "metadata": {
        "colab": {
          "base_uri": "https://localhost:8080/",
          "height": 35
        },
        "id": "QgYxbPbQFJm5",
        "outputId": "d85dc700-1841-47bb-c26a-1dd1353d2d8a"
      },
      "source": [
        "name = channel.select_one('.subject a').text.strip()\n",
        "name"
      ],
      "execution_count": 16,
      "outputs": [
        {
          "output_type": "execute_result",
          "data": {
            "application/vnd.google.colaboratory.intrinsic+json": {
              "type": "string"
            },
            "text/plain": [
              "'BLACKPINK'"
            ]
          },
          "metadata": {
            "tags": []
          },
          "execution_count": 16
        }
      ]
    },
    {
      "cell_type": "code",
      "metadata": {
        "colab": {
          "base_uri": "https://localhost:8080/"
        },
        "id": "Rut3tahuFmUB",
        "outputId": "0d871758-2b7f-499a-dbd1-3d93aefe7919"
      },
      "source": [
        "subscriber = channel.select_one('.subscriber_cnt').text\n",
        "view = channel.select_one('.view_cnt').text\n",
        "video = channel.select_one('.video_cnt').text[:-1]\n",
        "\n",
        "subscriber, view, video"
      ],
      "execution_count": 18,
      "outputs": [
        {
          "output_type": "execute_result",
          "data": {
            "text/plain": [
              "('6400만', '190억0381만', '371')"
            ]
          },
          "metadata": {
            "tags": []
          },
          "execution_count": 18
        }
      ]
    },
    {
      "cell_type": "code",
      "metadata": {
        "id": "0u5x4hvuGJB0"
      },
      "source": [
        "channels = []\n",
        "\n",
        "for channel in channel_list:\n",
        "  category = channel.select_one('p.category').get_text().strip()\n",
        "  name = channel.select_one('.subject a').text.strip()\n",
        "  subscriber = channel.select_one('.subscriber_cnt').text\n",
        "  view = channel.select_one('.view_cnt').text\n",
        "  video = channel.select_one('.video_cnt').text\n",
        "\n",
        "  channels.append([category,name,subscriber,view,video])\n"
      ],
      "execution_count": 37,
      "outputs": []
    },
    {
      "cell_type": "code",
      "metadata": {
        "colab": {
          "base_uri": "https://localhost:8080/",
          "height": 204
        },
        "id": "kKlAGT6WIFzL",
        "outputId": "f1a5ec33-d9c5-45ec-f7e0-cd02a25618f6"
      },
      "source": [
        "df = pd.DataFrame(channels, columns=['카테고리', '채널명', '구독자수', '뷰수', '비디오수'])\n",
        "df.head()"
      ],
      "execution_count": 38,
      "outputs": [
        {
          "output_type": "execute_result",
          "data": {
            "text/html": [
              "<div>\n",
              "<style scoped>\n",
              "    .dataframe tbody tr th:only-of-type {\n",
              "        vertical-align: middle;\n",
              "    }\n",
              "\n",
              "    .dataframe tbody tr th {\n",
              "        vertical-align: top;\n",
              "    }\n",
              "\n",
              "    .dataframe thead th {\n",
              "        text-align: right;\n",
              "    }\n",
              "</style>\n",
              "<table border=\"1\" class=\"dataframe\">\n",
              "  <thead>\n",
              "    <tr style=\"text-align: right;\">\n",
              "      <th></th>\n",
              "      <th>카테고리</th>\n",
              "      <th>채널명</th>\n",
              "      <th>구독자수</th>\n",
              "      <th>뷰수</th>\n",
              "      <th>비디오수</th>\n",
              "    </tr>\n",
              "  </thead>\n",
              "  <tbody>\n",
              "    <tr>\n",
              "      <th>0</th>\n",
              "      <td>[음악/댄스/가수]</td>\n",
              "      <td>BLACKPINK</td>\n",
              "      <td>6400만</td>\n",
              "      <td>190억0381만</td>\n",
              "      <td>371개</td>\n",
              "    </tr>\n",
              "    <tr>\n",
              "      <th>1</th>\n",
              "      <td>[음악/댄스/가수]</td>\n",
              "      <td>HYBE LABELS</td>\n",
              "      <td>6030만</td>\n",
              "      <td>187억1305만</td>\n",
              "      <td>654개</td>\n",
              "    </tr>\n",
              "    <tr>\n",
              "      <th>2</th>\n",
              "      <td>[음악/댄스/가수]</td>\n",
              "      <td>BANGTANTV</td>\n",
              "      <td>5640만</td>\n",
              "      <td>121억9496만</td>\n",
              "      <td>1,579개</td>\n",
              "    </tr>\n",
              "    <tr>\n",
              "      <th>3</th>\n",
              "      <td>[음악/댄스/가수]</td>\n",
              "      <td>SMTOWN</td>\n",
              "      <td>2850만</td>\n",
              "      <td>218억7092만</td>\n",
              "      <td>3,729개</td>\n",
              "    </tr>\n",
              "    <tr>\n",
              "      <th>4</th>\n",
              "      <td>[키즈/어린이]</td>\n",
              "      <td>Boram Tube Vlog [보람튜브 브이로그]</td>\n",
              "      <td>2650만</td>\n",
              "      <td>110억5288만</td>\n",
              "      <td>223개</td>\n",
              "    </tr>\n",
              "  </tbody>\n",
              "</table>\n",
              "</div>"
            ],
            "text/plain": [
              "         카테고리                          채널명   구독자수         뷰수    비디오수\n",
              "0  [음악/댄스/가수]                    BLACKPINK  6400만  190억0381만    371개\n",
              "1  [음악/댄스/가수]                  HYBE LABELS  6030만  187억1305만    654개\n",
              "2  [음악/댄스/가수]                    BANGTANTV  5640만  121억9496만  1,579개\n",
              "3  [음악/댄스/가수]                       SMTOWN  2850만  218억7092만  3,729개\n",
              "4    [키즈/어린이]  Boram Tube Vlog [보람튜브 브이로그]  2650만  110억5288만    223개"
            ]
          },
          "metadata": {
            "tags": []
          },
          "execution_count": 38
        }
      ]
    },
    {
      "cell_type": "code",
      "metadata": {
        "colab": {
          "base_uri": "https://localhost:8080/",
          "height": 204
        },
        "id": "Hwexo3n8IcdN",
        "outputId": "96f2ab49-21bd-4a66-f402-d4ef29577293"
      },
      "source": [
        "df.tail()"
      ],
      "execution_count": 39,
      "outputs": [
        {
          "output_type": "execute_result",
          "data": {
            "text/html": [
              "<div>\n",
              "<style scoped>\n",
              "    .dataframe tbody tr th:only-of-type {\n",
              "        vertical-align: middle;\n",
              "    }\n",
              "\n",
              "    .dataframe tbody tr th {\n",
              "        vertical-align: top;\n",
              "    }\n",
              "\n",
              "    .dataframe thead th {\n",
              "        text-align: right;\n",
              "    }\n",
              "</style>\n",
              "<table border=\"1\" class=\"dataframe\">\n",
              "  <thead>\n",
              "    <tr style=\"text-align: right;\">\n",
              "      <th></th>\n",
              "      <th>카테고리</th>\n",
              "      <th>채널명</th>\n",
              "      <th>구독자수</th>\n",
              "      <th>뷰수</th>\n",
              "      <th>비디오수</th>\n",
              "    </tr>\n",
              "  </thead>\n",
              "  <tbody>\n",
              "    <tr>\n",
              "      <th>95</th>\n",
              "      <td>[음식/요리/레시피]</td>\n",
              "      <td>까니짱 [ G-NI ]</td>\n",
              "      <td>408만</td>\n",
              "      <td>10억3471만</td>\n",
              "      <td>482개</td>\n",
              "    </tr>\n",
              "    <tr>\n",
              "      <th>96</th>\n",
              "      <td>[키즈/어린이]</td>\n",
              "      <td>로미유 스토리[Romiyu Story]</td>\n",
              "      <td>408만</td>\n",
              "      <td>10억6557만</td>\n",
              "      <td>433개</td>\n",
              "    </tr>\n",
              "    <tr>\n",
              "      <th>97</th>\n",
              "      <td>[음악/댄스/가수]</td>\n",
              "      <td>NCT DREAM</td>\n",
              "      <td>386만</td>\n",
              "      <td>3억7422만</td>\n",
              "      <td>228개</td>\n",
              "    </tr>\n",
              "    <tr>\n",
              "      <th>98</th>\n",
              "      <td>[BJ/인물/연예인]</td>\n",
              "      <td>허팝Heopop</td>\n",
              "      <td>381만</td>\n",
              "      <td>31억3892만</td>\n",
              "      <td>1,847개</td>\n",
              "    </tr>\n",
              "    <tr>\n",
              "      <th>99</th>\n",
              "      <td>[애완/반려동물]</td>\n",
              "      <td>크림히어로즈</td>\n",
              "      <td>381만</td>\n",
              "      <td>13억7401만</td>\n",
              "      <td>939개</td>\n",
              "    </tr>\n",
              "  </tbody>\n",
              "</table>\n",
              "</div>"
            ],
            "text/plain": [
              "           카테고리                    채널명  구독자수        뷰수    비디오수\n",
              "95  [음식/요리/레시피]           까니짱 [ G-NI ]  408만  10억3471만    482개\n",
              "96     [키즈/어린이]  로미유 스토리[Romiyu Story]  408만  10억6557만    433개\n",
              "97   [음악/댄스/가수]              NCT DREAM  386만   3억7422만    228개\n",
              "98  [BJ/인물/연예인]               허팝Heopop  381만  31억3892만  1,847개\n",
              "99    [애완/반려동물]                 크림히어로즈  381만  13억7401만    939개"
            ]
          },
          "metadata": {
            "tags": []
          },
          "execution_count": 39
        }
      ]
    },
    {
      "cell_type": "markdown",
      "metadata": {
        "id": "Z88rPg9ZI7wC"
      },
      "source": [
        "- 만과 억을 숫자로 바꿔주는 함수"
      ]
    },
    {
      "cell_type": "code",
      "metadata": {
        "id": "v4CkZp4PIpMQ"
      },
      "source": [
        "def convert_unit(s):\n",
        "  #s = ''.join(s.split('억'))\n",
        "  s = s.replace('억', '').replace('개','').replace(',', '')\n",
        "  s = s.replace('만', '0000')\n",
        "  return f'{int(s):,d}'\n",
        "    "
      ],
      "execution_count": 35,
      "outputs": []
    },
    {
      "cell_type": "code",
      "metadata": {
        "colab": {
          "base_uri": "https://localhost:8080/",
          "height": 35
        },
        "id": "wiAOI91lJtJx",
        "outputId": "c4cfbd52-03ca-4146-bb3f-cc020700a4a4"
      },
      "source": [
        "convert_unit('190억0381만')"
      ],
      "execution_count": 36,
      "outputs": [
        {
          "output_type": "execute_result",
          "data": {
            "application/vnd.google.colaboratory.intrinsic+json": {
              "type": "string"
            },
            "text/plain": [
              "'19,003,810,000'"
            ]
          },
          "metadata": {
            "tags": []
          },
          "execution_count": 36
        }
      ]
    },
    {
      "cell_type": "markdown",
      "metadata": {
        "id": "76wMP0eBdB0K"
      },
      "source": [
        "- 2번째 페이지 -XPath로 찾아 Click() 하여 이동하기"
      ]
    },
    {
      "cell_type": "code",
      "metadata": {
        "id": "wsytK_51J8vz"
      },
      "source": [
        "\n",
        "driver.find_element_by_xpath('//*[@id=\"list-skin\"]/nav/span/a[1]').click()\n",
        "# //*[@id=\"list-skin\"]/nav/span/a[2]\n"
      ],
      "execution_count": 40,
      "outputs": []
    },
    {
      "cell_type": "code",
      "metadata": {
        "id": "3guPNk5gcU5x"
      },
      "source": [
        "html = driver.page_source\n",
        "soup = BeautifulSoup(html, 'html.parser')"
      ],
      "execution_count": 41,
      "outputs": []
    },
    {
      "cell_type": "code",
      "metadata": {
        "id": "2_Kp9rBec2al"
      },
      "source": [
        "channel_list = soup.select('.aos-init')"
      ],
      "execution_count": 44,
      "outputs": []
    },
    {
      "cell_type": "code",
      "metadata": {
        "id": "zpQiZi1KcajV"
      },
      "source": [
        "results = []\n",
        "\n",
        "for channel in channel_list:\n",
        "  category = channel.select_one('p.category').get_text().strip()\n",
        "  name = channel.select_one('.subject a').text.strip()\n",
        "  subscriber = convert_unit(channel.select_one('.subscriber_cnt').text)\n",
        "  view = convert_unit(channel.select_one('.view_cnt').text)\n",
        "  video = convert_unit(channel.select_one('.video_cnt').text)\n",
        "\n",
        "  results.append([category,name,subscriber,view,video])\n"
      ],
      "execution_count": 45,
      "outputs": []
    },
    {
      "cell_type": "code",
      "metadata": {
        "colab": {
          "base_uri": "https://localhost:8080/",
          "height": 204
        },
        "id": "sdoJoJQMcpcr",
        "outputId": "62b11988-4f70-469b-cc58-db73c55020b4"
      },
      "source": [
        "df = pd.DataFrame(results, columns=['카테고리', '채널명', '구독자수', '뷰수', '비디오수'])\n",
        "df.head()"
      ],
      "execution_count": 46,
      "outputs": [
        {
          "output_type": "execute_result",
          "data": {
            "text/html": [
              "<div>\n",
              "<style scoped>\n",
              "    .dataframe tbody tr th:only-of-type {\n",
              "        vertical-align: middle;\n",
              "    }\n",
              "\n",
              "    .dataframe tbody tr th {\n",
              "        vertical-align: top;\n",
              "    }\n",
              "\n",
              "    .dataframe thead th {\n",
              "        text-align: right;\n",
              "    }\n",
              "</style>\n",
              "<table border=\"1\" class=\"dataframe\">\n",
              "  <thead>\n",
              "    <tr style=\"text-align: right;\">\n",
              "      <th></th>\n",
              "      <th>카테고리</th>\n",
              "      <th>채널명</th>\n",
              "      <th>구독자수</th>\n",
              "      <th>뷰수</th>\n",
              "      <th>비디오수</th>\n",
              "    </tr>\n",
              "  </thead>\n",
              "  <tbody>\n",
              "    <tr>\n",
              "      <th>0</th>\n",
              "      <td>[취미/라이프]</td>\n",
              "      <td>JaeYeol ASMR 재열</td>\n",
              "      <td>3,800,000</td>\n",
              "      <td>1,011,540,000</td>\n",
              "      <td>970</td>\n",
              "    </tr>\n",
              "    <tr>\n",
              "      <th>1</th>\n",
              "      <td>[BJ/인물/연예인]</td>\n",
              "      <td>워크맨-Workman</td>\n",
              "      <td>3,780,000</td>\n",
              "      <td>679,370,000</td>\n",
              "      <td>141</td>\n",
              "    </tr>\n",
              "    <tr>\n",
              "      <th>2</th>\n",
              "      <td>[BJ/인물/연예인]</td>\n",
              "      <td>waveya 2011</td>\n",
              "      <td>3,730,000</td>\n",
              "      <td>1,346,280,000</td>\n",
              "      <td>702</td>\n",
              "    </tr>\n",
              "    <tr>\n",
              "      <th>3</th>\n",
              "      <td>[키즈/어린이]</td>\n",
              "      <td>Lime Tube[라임튜브]</td>\n",
              "      <td>3,730,000</td>\n",
              "      <td>2,595,420,000</td>\n",
              "      <td>1,723</td>\n",
              "    </tr>\n",
              "    <tr>\n",
              "      <th>4</th>\n",
              "      <td>[음악/댄스/가수]</td>\n",
              "      <td>WINNER</td>\n",
              "      <td>3,730,000</td>\n",
              "      <td>1,171,260,000</td>\n",
              "      <td>428</td>\n",
              "    </tr>\n",
              "  </tbody>\n",
              "</table>\n",
              "</div>"
            ],
            "text/plain": [
              "          카테고리              채널명       구독자수             뷰수   비디오수\n",
              "0     [취미/라이프]  JaeYeol ASMR 재열  3,800,000  1,011,540,000    970\n",
              "1  [BJ/인물/연예인]      워크맨-Workman  3,780,000    679,370,000    141\n",
              "2  [BJ/인물/연예인]      waveya 2011  3,730,000  1,346,280,000    702\n",
              "3     [키즈/어린이]  Lime Tube[라임튜브]  3,730,000  2,595,420,000  1,723\n",
              "4   [음악/댄스/가수]           WINNER  3,730,000  1,171,260,000    428"
            ]
          },
          "metadata": {
            "tags": []
          },
          "execution_count": 46
        }
      ]
    },
    {
      "cell_type": "markdown",
      "metadata": {
        "id": "c4yMzjFle2Q9"
      },
      "source": [
        "# page1~10 까지 크롤링"
      ]
    },
    {
      "cell_type": "code",
      "metadata": {
        "id": "OVgaPRVYctrK"
      },
      "source": [
        "results = []\n",
        "\n",
        "for page in range(1,11):\n",
        "  url = 'https://youtube-rank.com/board/bbs/board.php?bo_table=youtube&page='+str(page)\n",
        "  driver.get(url)\n",
        "  time.sleep(2)\n",
        "  html = driver.page_source\n",
        "  soup = BeautifulSoup(html, 'html.parser')\n",
        "  channel_list = soup.select('.aos-init')\n",
        "\n",
        "  for channel in channel_list:\n",
        "    category = channel.select_one('p.category').get_text().strip()\n",
        "    name = channel.select_one('.subject a').text.strip()\n",
        "    subscriber = convert_unit(channel.select_one('.subscriber_cnt').text)\n",
        "    view = convert_unit(channel.select_one('.view_cnt').text)\n",
        "    video = convert_unit(channel.select_one('.video_cnt').text)\n",
        "\n",
        "    results.append([category,name,subscriber,view,video])\n"
      ],
      "execution_count": 47,
      "outputs": []
    },
    {
      "cell_type": "code",
      "metadata": {
        "colab": {
          "base_uri": "https://localhost:8080/",
          "height": 419
        },
        "id": "Tpq2U7Daf1E9",
        "outputId": "20906919-e33d-4c84-ef6c-118f06993a80"
      },
      "source": [
        "df = pd.DataFrame(results, columns=['카테고리', '채널명', '구독자수', '뷰수', '비디오수'])\n",
        "df"
      ],
      "execution_count": 51,
      "outputs": [
        {
          "output_type": "execute_result",
          "data": {
            "text/html": [
              "<div>\n",
              "<style scoped>\n",
              "    .dataframe tbody tr th:only-of-type {\n",
              "        vertical-align: middle;\n",
              "    }\n",
              "\n",
              "    .dataframe tbody tr th {\n",
              "        vertical-align: top;\n",
              "    }\n",
              "\n",
              "    .dataframe thead th {\n",
              "        text-align: right;\n",
              "    }\n",
              "</style>\n",
              "<table border=\"1\" class=\"dataframe\">\n",
              "  <thead>\n",
              "    <tr style=\"text-align: right;\">\n",
              "      <th></th>\n",
              "      <th>카테고리</th>\n",
              "      <th>채널명</th>\n",
              "      <th>구독자수</th>\n",
              "      <th>뷰수</th>\n",
              "      <th>비디오수</th>\n",
              "    </tr>\n",
              "  </thead>\n",
              "  <tbody>\n",
              "    <tr>\n",
              "      <th>0</th>\n",
              "      <td>[음악/댄스/가수]</td>\n",
              "      <td>BLACKPINK</td>\n",
              "      <td>64,000,000</td>\n",
              "      <td>19,003,810,000</td>\n",
              "      <td>371</td>\n",
              "    </tr>\n",
              "    <tr>\n",
              "      <th>1</th>\n",
              "      <td>[음악/댄스/가수]</td>\n",
              "      <td>HYBE LABELS</td>\n",
              "      <td>60,300,000</td>\n",
              "      <td>18,713,050,000</td>\n",
              "      <td>654</td>\n",
              "    </tr>\n",
              "    <tr>\n",
              "      <th>2</th>\n",
              "      <td>[음악/댄스/가수]</td>\n",
              "      <td>BANGTANTV</td>\n",
              "      <td>56,400,000</td>\n",
              "      <td>12,194,960,000</td>\n",
              "      <td>1,579</td>\n",
              "    </tr>\n",
              "    <tr>\n",
              "      <th>3</th>\n",
              "      <td>[음악/댄스/가수]</td>\n",
              "      <td>SMTOWN</td>\n",
              "      <td>28,500,000</td>\n",
              "      <td>21,870,920,000</td>\n",
              "      <td>3,729</td>\n",
              "    </tr>\n",
              "    <tr>\n",
              "      <th>4</th>\n",
              "      <td>[키즈/어린이]</td>\n",
              "      <td>Boram Tube Vlog [보람튜브 브이로그]</td>\n",
              "      <td>26,500,000</td>\n",
              "      <td>11,052,880,000</td>\n",
              "      <td>223</td>\n",
              "    </tr>\n",
              "    <tr>\n",
              "      <th>...</th>\n",
              "      <td>...</td>\n",
              "      <td>...</td>\n",
              "      <td>...</td>\n",
              "      <td>...</td>\n",
              "      <td>...</td>\n",
              "    </tr>\n",
              "    <tr>\n",
              "      <th>995</th>\n",
              "      <td>[게임]</td>\n",
              "      <td>미소</td>\n",
              "      <td>510,000</td>\n",
              "      <td>210,770,000</td>\n",
              "      <td>3,084</td>\n",
              "    </tr>\n",
              "    <tr>\n",
              "      <th>996</th>\n",
              "      <td>[미분류]</td>\n",
              "      <td>밉지않은 관종언니</td>\n",
              "      <td>510,000</td>\n",
              "      <td>67,740,000</td>\n",
              "      <td>170</td>\n",
              "    </tr>\n",
              "    <tr>\n",
              "      <th>997</th>\n",
              "      <td>[미분류]</td>\n",
              "      <td>복지마블TV [Welfare Marble]</td>\n",
              "      <td>510,000</td>\n",
              "      <td>49,960,000</td>\n",
              "      <td>240</td>\n",
              "    </tr>\n",
              "    <tr>\n",
              "      <th>998</th>\n",
              "      <td>[음식/요리/레시피]</td>\n",
              "      <td>Muggo</td>\n",
              "      <td>510,000</td>\n",
              "      <td>183,720,000</td>\n",
              "      <td>1,388</td>\n",
              "    </tr>\n",
              "    <tr>\n",
              "      <th>999</th>\n",
              "      <td>[게임]</td>\n",
              "      <td>임선비</td>\n",
              "      <td>510,000</td>\n",
              "      <td>234,290,000</td>\n",
              "      <td>1,134</td>\n",
              "    </tr>\n",
              "  </tbody>\n",
              "</table>\n",
              "<p>1000 rows × 5 columns</p>\n",
              "</div>"
            ],
            "text/plain": [
              "            카테고리                          채널명  ...              뷰수   비디오수\n",
              "0     [음악/댄스/가수]                    BLACKPINK  ...  19,003,810,000    371\n",
              "1     [음악/댄스/가수]                  HYBE LABELS  ...  18,713,050,000    654\n",
              "2     [음악/댄스/가수]                    BANGTANTV  ...  12,194,960,000  1,579\n",
              "3     [음악/댄스/가수]                       SMTOWN  ...  21,870,920,000  3,729\n",
              "4       [키즈/어린이]  Boram Tube Vlog [보람튜브 브이로그]  ...  11,052,880,000    223\n",
              "..           ...                          ...  ...             ...    ...\n",
              "995         [게임]                           미소  ...     210,770,000  3,084\n",
              "996        [미분류]                    밉지않은 관종언니  ...      67,740,000    170\n",
              "997        [미분류]      복지마블TV [Welfare Marble]  ...      49,960,000    240\n",
              "998  [음식/요리/레시피]                        Muggo  ...     183,720,000  1,388\n",
              "999         [게임]                          임선비  ...     234,290,000  1,134\n",
              "\n",
              "[1000 rows x 5 columns]"
            ]
          },
          "metadata": {
            "tags": []
          },
          "execution_count": 51
        }
      ]
    },
    {
      "cell_type": "code",
      "metadata": {
        "id": "whyIlxBNgChY"
      },
      "source": [
        "df.to_csv('유튜브랭크1000.csv', index=None) # index=False 도 됨"
      ],
      "execution_count": 53,
      "outputs": []
    },
    {
      "cell_type": "code",
      "metadata": {
        "id": "83BZ2-tngzBy"
      },
      "source": [
        "driver.close()"
      ],
      "execution_count": 54,
      "outputs": []
    },
    {
      "cell_type": "code",
      "metadata": {
        "id": "YB174fr3hXnF"
      },
      "source": [
        ""
      ],
      "execution_count": null,
      "outputs": []
    }
  ]
}