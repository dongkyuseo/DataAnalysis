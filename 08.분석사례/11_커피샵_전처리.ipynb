{
  "nbformat": 4,
  "nbformat_minor": 2,
  "metadata": {
    "colab": {
      "name": "11_커피샵_전처리_강사님.ipynb",
      "provenance": [],
      "collapsed_sections": []
    },
    "kernelspec": {
      "name": "python3",
      "display_name": "Python 3"
    },
    "language_info": {
      "name": "python"
    }
  },
  "cells": [
    {
      "cell_type": "markdown",
      "source": [
        "## 함수"
      ],
      "metadata": {
        "id": "-twQTQLep2PE"
      }
    },
    {
      "cell_type": "code",
      "execution_count": 6,
      "source": [
        "!apt-get install -y fonts-nanum > /dev/null\r\n",
        "!fc-cache -fv > /dev/null\r\n",
        "!rm -rf ~/.cache/matplotlib > /dev/null\r\n",
        "# 런타임 다시시작"
      ],
      "outputs": [],
      "metadata": {
        "id": "x-SCsfcmp5Ai"
      }
    },
    {
      "cell_type": "code",
      "execution_count": 1,
      "source": [
        "import matplotlib as mpl\r\n",
        "import matplotlib.pyplot as plt\r\n",
        "mpl.rcParams['axes.unicode_minus'] = False\r\n",
        "plt.rc('font', family='NanumBarunGothic')"
      ],
      "outputs": [],
      "metadata": {
        "id": "Hng8CIzQp51H"
      }
    },
    {
      "cell_type": "code",
      "execution_count": 2,
      "source": [
        "import numpy as np\r\n",
        "import pandas as pd\r\n",
        "import warnings\r\n",
        "warnings.filterwarnings('ignore')"
      ],
      "outputs": [],
      "metadata": {
        "id": "Yk_fG9YHp68a"
      }
    },
    {
      "cell_type": "markdown",
      "source": [
        "# 커피지수 \n",
        "## 데이터로 부터 4개 커피샵에 대한 정보 추출해서 저장하기"
      ],
      "metadata": {
        "id": "82AC5_06o_RX"
      }
    },
    {
      "cell_type": "code",
      "execution_count": 1,
      "source": [
        "from google.colab import drive\r\n",
        "drive.mount('/content/mnt')"
      ],
      "outputs": [
        {
          "output_type": "stream",
          "name": "stdout",
          "text": [
            "Mounted at /content/mnt\n"
          ]
        }
      ],
      "metadata": {
        "colab": {
          "base_uri": "https://localhost:8080/"
        },
        "id": "4EesY5yGioKz",
        "outputId": "08c5b38f-de8e-4295-ea37-7a52944ae730"
      }
    },
    {
      "cell_type": "code",
      "execution_count": 3,
      "source": [
        "data_folder = '/content/mnt/MyDrive/data/소상공인시장진흥공단'"
      ],
      "outputs": [],
      "metadata": {
        "id": "VNHEupCqoD7T"
      }
    },
    {
      "cell_type": "markdown",
      "source": [
        "## 전국 데이터에서 4개 매장 정보 추출하기"
      ],
      "metadata": {
        "id": "_oJHVGcjJOvR"
      }
    },
    {
      "cell_type": "code",
      "execution_count": null,
      "source": [
        "pd.read_csv(f'{file}', encoding='euc-kr')"
      ],
      "outputs": [],
      "metadata": {
        "id": "Gvp_f_k0tAA3"
      }
    },
    {
      "cell_type": "code",
      "execution_count": 123,
      "source": [
        "from glob import glob\r\n",
        "cafe_list = ['스타벅스', '이디야', '커피빈', '빽다방']\r\n",
        "\r\n",
        "df = pd.DataFrame(columns=['상호명', '지점명', '시도명', '시군구명', '도로명주소'])\r\n",
        "\r\n",
        "for file in glob(f'{data_folder}/*.csv'):\r\n",
        "  sample = pd.read_csv(f'{file}')\r\n",
        "  sample_raw = sample[sample['상권업종중분류코드'].str.contains('Q12')]\r\n",
        "  df_raw = sample_raw[['상호명', '지점명', '시도명', '시군구명', '도로명주소']]\r\n",
        "  \r\n",
        "  for cafe in cafe_list:\r\n",
        "    s_raw = df_raw[df_raw['상호명'].str.contains(cafe)]\r\n",
        "    s_raw['상호명'] = cafe\r\n",
        "    \r\n",
        "    df = pd.concat([df, s_raw])\r\n",
        "    \r\n",
        "\r\n",
        "df.reset_index(drop=True, inplace=True)\r\n",
        "\r\n",
        "print(df.shape)\r\n",
        "df.head()\r\n"
      ],
      "outputs": [
        {
          "output_type": "stream",
          "name": "stdout",
          "text": [
            "(4542, 5)\n"
          ]
        },
        {
          "output_type": "execute_result",
          "data": {
            "text/plain": [
              "    상호명        지점명  시도명 시군구명                   도로명주소\n",
              "0  스타벅스     강릉안목항점  강원도  강릉시      강원도 강릉시 창해로14번길 40\n",
              "1  스타벅스  대명델피노리조트점  강원도  고성군  강원도 고성군 토성면 미시령옛길 1153\n",
              "2  스타벅스    춘천후평DT점  강원도  춘천시         강원도 춘천시 후석로 318\n",
              "3  스타벅스      춘천명동점  강원도  춘천시          강원도 춘천시 중앙로 55\n",
              "4  스타벅스    설악워터피아점  강원도  속초시   강원도 속초시 미시령로2983번길 88"
            ],
            "text/html": [
              "<div>\n",
              "<style scoped>\n",
              "    .dataframe tbody tr th:only-of-type {\n",
              "        vertical-align: middle;\n",
              "    }\n",
              "\n",
              "    .dataframe tbody tr th {\n",
              "        vertical-align: top;\n",
              "    }\n",
              "\n",
              "    .dataframe thead th {\n",
              "        text-align: right;\n",
              "    }\n",
              "</style>\n",
              "<table border=\"1\" class=\"dataframe\">\n",
              "  <thead>\n",
              "    <tr style=\"text-align: right;\">\n",
              "      <th></th>\n",
              "      <th>상호명</th>\n",
              "      <th>지점명</th>\n",
              "      <th>시도명</th>\n",
              "      <th>시군구명</th>\n",
              "      <th>도로명주소</th>\n",
              "    </tr>\n",
              "  </thead>\n",
              "  <tbody>\n",
              "    <tr>\n",
              "      <th>0</th>\n",
              "      <td>스타벅스</td>\n",
              "      <td>강릉안목항점</td>\n",
              "      <td>강원도</td>\n",
              "      <td>강릉시</td>\n",
              "      <td>강원도 강릉시 창해로14번길 40</td>\n",
              "    </tr>\n",
              "    <tr>\n",
              "      <th>1</th>\n",
              "      <td>스타벅스</td>\n",
              "      <td>대명델피노리조트점</td>\n",
              "      <td>강원도</td>\n",
              "      <td>고성군</td>\n",
              "      <td>강원도 고성군 토성면 미시령옛길 1153</td>\n",
              "    </tr>\n",
              "    <tr>\n",
              "      <th>2</th>\n",
              "      <td>스타벅스</td>\n",
              "      <td>춘천후평DT점</td>\n",
              "      <td>강원도</td>\n",
              "      <td>춘천시</td>\n",
              "      <td>강원도 춘천시 후석로 318</td>\n",
              "    </tr>\n",
              "    <tr>\n",
              "      <th>3</th>\n",
              "      <td>스타벅스</td>\n",
              "      <td>춘천명동점</td>\n",
              "      <td>강원도</td>\n",
              "      <td>춘천시</td>\n",
              "      <td>강원도 춘천시 중앙로 55</td>\n",
              "    </tr>\n",
              "    <tr>\n",
              "      <th>4</th>\n",
              "      <td>스타벅스</td>\n",
              "      <td>설악워터피아점</td>\n",
              "      <td>강원도</td>\n",
              "      <td>속초시</td>\n",
              "      <td>강원도 속초시 미시령로2983번길 88</td>\n",
              "    </tr>\n",
              "  </tbody>\n",
              "</table>\n",
              "</div>"
            ]
          },
          "metadata": {},
          "execution_count": 123
        }
      ],
      "metadata": {
        "colab": {
          "base_uri": "https://localhost:8080/",
          "height": 222
        },
        "id": "b0y6pvlFoRZB",
        "outputId": "96a8b3bf-ccaf-4385-bbae-dfd7f0728f58"
      }
    },
    {
      "cell_type": "code",
      "execution_count": 124,
      "source": [
        "df.head(100)"
      ],
      "outputs": [
        {
          "output_type": "execute_result",
          "data": {
            "text/plain": [
              "     상호명        지점명  시도명 시군구명                   도로명주소\n",
              "0   스타벅스     강릉안목항점  강원도  강릉시      강원도 강릉시 창해로14번길 40\n",
              "1   스타벅스  대명델피노리조트점  강원도  고성군  강원도 고성군 토성면 미시령옛길 1153\n",
              "2   스타벅스    춘천후평DT점  강원도  춘천시         강원도 춘천시 후석로 318\n",
              "3   스타벅스      춘천명동점  강원도  춘천시          강원도 춘천시 중앙로 55\n",
              "4   스타벅스    설악워터피아점  강원도  속초시   강원도 속초시 미시령로2983번길 88\n",
              "..   ...        ...  ...  ...                     ...\n",
              "95   이디야     춘천애막골점  강원도  춘천시     강원도 춘천시 후석로186번길 18\n",
              "96   이디야        NaN  강원도  원주시     강원도 원주시 흥업면 울업1길 29\n",
              "97   이디야        장학점  강원도  춘천시  강원도 춘천시 동면 춘천로449번길 30\n",
              "98   이디야        퇴계점  강원도  춘천시      강원도 춘천시 퇴계로93번길 15\n",
              "99   이디야       강릉역점  강원도  강릉시       강원도 강릉시 용지로 174-6\n",
              "\n",
              "[100 rows x 5 columns]"
            ],
            "text/html": [
              "<div>\n",
              "<style scoped>\n",
              "    .dataframe tbody tr th:only-of-type {\n",
              "        vertical-align: middle;\n",
              "    }\n",
              "\n",
              "    .dataframe tbody tr th {\n",
              "        vertical-align: top;\n",
              "    }\n",
              "\n",
              "    .dataframe thead th {\n",
              "        text-align: right;\n",
              "    }\n",
              "</style>\n",
              "<table border=\"1\" class=\"dataframe\">\n",
              "  <thead>\n",
              "    <tr style=\"text-align: right;\">\n",
              "      <th></th>\n",
              "      <th>상호명</th>\n",
              "      <th>지점명</th>\n",
              "      <th>시도명</th>\n",
              "      <th>시군구명</th>\n",
              "      <th>도로명주소</th>\n",
              "    </tr>\n",
              "  </thead>\n",
              "  <tbody>\n",
              "    <tr>\n",
              "      <th>0</th>\n",
              "      <td>스타벅스</td>\n",
              "      <td>강릉안목항점</td>\n",
              "      <td>강원도</td>\n",
              "      <td>강릉시</td>\n",
              "      <td>강원도 강릉시 창해로14번길 40</td>\n",
              "    </tr>\n",
              "    <tr>\n",
              "      <th>1</th>\n",
              "      <td>스타벅스</td>\n",
              "      <td>대명델피노리조트점</td>\n",
              "      <td>강원도</td>\n",
              "      <td>고성군</td>\n",
              "      <td>강원도 고성군 토성면 미시령옛길 1153</td>\n",
              "    </tr>\n",
              "    <tr>\n",
              "      <th>2</th>\n",
              "      <td>스타벅스</td>\n",
              "      <td>춘천후평DT점</td>\n",
              "      <td>강원도</td>\n",
              "      <td>춘천시</td>\n",
              "      <td>강원도 춘천시 후석로 318</td>\n",
              "    </tr>\n",
              "    <tr>\n",
              "      <th>3</th>\n",
              "      <td>스타벅스</td>\n",
              "      <td>춘천명동점</td>\n",
              "      <td>강원도</td>\n",
              "      <td>춘천시</td>\n",
              "      <td>강원도 춘천시 중앙로 55</td>\n",
              "    </tr>\n",
              "    <tr>\n",
              "      <th>4</th>\n",
              "      <td>스타벅스</td>\n",
              "      <td>설악워터피아점</td>\n",
              "      <td>강원도</td>\n",
              "      <td>속초시</td>\n",
              "      <td>강원도 속초시 미시령로2983번길 88</td>\n",
              "    </tr>\n",
              "    <tr>\n",
              "      <th>...</th>\n",
              "      <td>...</td>\n",
              "      <td>...</td>\n",
              "      <td>...</td>\n",
              "      <td>...</td>\n",
              "      <td>...</td>\n",
              "    </tr>\n",
              "    <tr>\n",
              "      <th>95</th>\n",
              "      <td>이디야</td>\n",
              "      <td>춘천애막골점</td>\n",
              "      <td>강원도</td>\n",
              "      <td>춘천시</td>\n",
              "      <td>강원도 춘천시 후석로186번길 18</td>\n",
              "    </tr>\n",
              "    <tr>\n",
              "      <th>96</th>\n",
              "      <td>이디야</td>\n",
              "      <td>NaN</td>\n",
              "      <td>강원도</td>\n",
              "      <td>원주시</td>\n",
              "      <td>강원도 원주시 흥업면 울업1길 29</td>\n",
              "    </tr>\n",
              "    <tr>\n",
              "      <th>97</th>\n",
              "      <td>이디야</td>\n",
              "      <td>장학점</td>\n",
              "      <td>강원도</td>\n",
              "      <td>춘천시</td>\n",
              "      <td>강원도 춘천시 동면 춘천로449번길 30</td>\n",
              "    </tr>\n",
              "    <tr>\n",
              "      <th>98</th>\n",
              "      <td>이디야</td>\n",
              "      <td>퇴계점</td>\n",
              "      <td>강원도</td>\n",
              "      <td>춘천시</td>\n",
              "      <td>강원도 춘천시 퇴계로93번길 15</td>\n",
              "    </tr>\n",
              "    <tr>\n",
              "      <th>99</th>\n",
              "      <td>이디야</td>\n",
              "      <td>강릉역점</td>\n",
              "      <td>강원도</td>\n",
              "      <td>강릉시</td>\n",
              "      <td>강원도 강릉시 용지로 174-6</td>\n",
              "    </tr>\n",
              "  </tbody>\n",
              "</table>\n",
              "<p>100 rows × 5 columns</p>\n",
              "</div>"
            ]
          },
          "metadata": {},
          "execution_count": 124
        }
      ],
      "metadata": {
        "colab": {
          "base_uri": "https://localhost:8080/",
          "height": 419
        },
        "id": "L4V0UfQRx32C",
        "outputId": "22aad4d7-05d9-4ac1-f0a6-c5dd26a0d6b2"
      }
    },
    {
      "cell_type": "code",
      "execution_count": null,
      "source": [],
      "outputs": [],
      "metadata": {
        "id": "ZnsdLZQbG0M8"
      }
    }
  ]
}