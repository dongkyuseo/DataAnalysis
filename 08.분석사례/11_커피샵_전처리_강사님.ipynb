{
  "nbformat": 4,
  "nbformat_minor": 0,
  "metadata": {
    "colab": {
      "name": "11_커피샵_전처리_강사님.ipynb",
      "provenance": [],
      "collapsed_sections": []
    },
    "kernelspec": {
      "name": "python3",
      "display_name": "Python 3"
    },
    "language_info": {
      "name": "python"
    }
  },
  "cells": [
    {
      "cell_type": "markdown",
      "metadata": {
        "id": "-twQTQLep2PE"
      },
      "source": [
        "## 함수"
      ]
    },
    {
      "cell_type": "code",
      "metadata": {
        "id": "x-SCsfcmp5Ai"
      },
      "source": [
        "!apt-get install -y fonts-nanum > /dev/null\n",
        "!fc-cache -fv > /dev/null\n",
        "!rm -rf ~/.cache/matplotlib > /dev/null\n",
        "# 런타임 다시시작"
      ],
      "execution_count": 6,
      "outputs": []
    },
    {
      "cell_type": "code",
      "metadata": {
        "id": "Hng8CIzQp51H"
      },
      "source": [
        "import matplotlib as mpl\n",
        "import matplotlib.pyplot as plt\n",
        "mpl.rcParams['axes.unicode_minus'] = False\n",
        "plt.rc('font', family='NanumBarunGothic')"
      ],
      "execution_count": 1,
      "outputs": []
    },
    {
      "cell_type": "code",
      "metadata": {
        "id": "Yk_fG9YHp68a"
      },
      "source": [
        "import numpy as np\n",
        "import pandas as pd\n",
        "import warnings\n",
        "warnings.filterwarnings('ignore')"
      ],
      "execution_count": 2,
      "outputs": []
    },
    {
      "cell_type": "markdown",
      "metadata": {
        "id": "82AC5_06o_RX"
      },
      "source": [
        "# 커피지수 \n",
        "## 데이터로 부터 4개 커피샵에 대한 정보 추출해서 저장하기"
      ]
    },
    {
      "cell_type": "code",
      "metadata": {
        "colab": {
          "base_uri": "https://localhost:8080/"
        },
        "id": "4EesY5yGioKz",
        "outputId": "08c5b38f-de8e-4295-ea37-7a52944ae730"
      },
      "source": [
        "from google.colab import drive\n",
        "drive.mount('/content/mnt')"
      ],
      "execution_count": 1,
      "outputs": [
        {
          "output_type": "stream",
          "name": "stdout",
          "text": [
            "Mounted at /content/mnt\n"
          ]
        }
      ]
    },
    {
      "cell_type": "code",
      "metadata": {
        "id": "VNHEupCqoD7T"
      },
      "source": [
        "data_folder = '/content/mnt/MyDrive/data/소상공인시장진흥공단'"
      ],
      "execution_count": 3,
      "outputs": []
    },
    {
      "cell_type": "code",
      "metadata": {
        "id": "Gvp_f_k0tAA3"
      },
      "source": [
        "pd.read_csv(f'{file}', encoding='euc-kr')"
      ],
      "execution_count": null,
      "outputs": []
    },
    {
      "cell_type": "markdown",
      "metadata": {
        "id": "3lg_f0yVIyX5"
      },
      "source": [
        "## 서울 데이터에서 4개 매장 정보 추출하기"
      ]
    },
    {
      "cell_type": "code",
      "metadata": {
        "colab": {
          "base_uri": "https://localhost:8080/",
          "height": 222
        },
        "id": "e7_J4J4lIxvc",
        "outputId": "693c10f3-a3bc-46f8-d2fb-7d5575e6d93c"
      },
      "source": [
        "df = pd.read_csv(f'{data_folder}/소상공인시장진흥공단_상가(상권)정보_서울_202106.csv')\n",
        "df = df[df.상권업종중분류코드 == 'Q12']\n",
        "df = df[['상호명', '지점명', '시도명', '시군구명', '도로명주소']]\n",
        "print(df.shape)\n",
        "df.head()"
      ],
      "execution_count": 126,
      "outputs": [
        {
          "output_type": "stream",
          "name": "stdout",
          "text": [
            "(20832, 5)\n"
          ]
        },
        {
          "output_type": "execute_result",
          "data": {
            "text/html": [
              "<div>\n",
              "<style scoped>\n",
              "    .dataframe tbody tr th:only-of-type {\n",
              "        vertical-align: middle;\n",
              "    }\n",
              "\n",
              "    .dataframe tbody tr th {\n",
              "        vertical-align: top;\n",
              "    }\n",
              "\n",
              "    .dataframe thead th {\n",
              "        text-align: right;\n",
              "    }\n",
              "</style>\n",
              "<table border=\"1\" class=\"dataframe\">\n",
              "  <thead>\n",
              "    <tr style=\"text-align: right;\">\n",
              "      <th></th>\n",
              "      <th>상호명</th>\n",
              "      <th>지점명</th>\n",
              "      <th>시도명</th>\n",
              "      <th>시군구명</th>\n",
              "      <th>도로명주소</th>\n",
              "    </tr>\n",
              "  </thead>\n",
              "  <tbody>\n",
              "    <tr>\n",
              "      <th>28</th>\n",
              "      <td>커피빈</td>\n",
              "      <td>코리아대학로대명거리점</td>\n",
              "      <td>서울특별시</td>\n",
              "      <td>종로구</td>\n",
              "      <td>서울특별시 종로구 대명길 25</td>\n",
              "    </tr>\n",
              "    <tr>\n",
              "      <th>111</th>\n",
              "      <td>요거프레소</td>\n",
              "      <td>쌍문점</td>\n",
              "      <td>서울특별시</td>\n",
              "      <td>도봉구</td>\n",
              "      <td>서울특별시 도봉구 도당로 7</td>\n",
              "    </tr>\n",
              "    <tr>\n",
              "      <th>190</th>\n",
              "      <td>메머드커피</td>\n",
              "      <td>NaN</td>\n",
              "      <td>서울특별시</td>\n",
              "      <td>마포구</td>\n",
              "      <td>서울특별시 마포구 와우산로 149</td>\n",
              "    </tr>\n",
              "    <tr>\n",
              "      <th>197</th>\n",
              "      <td>우성커피숍</td>\n",
              "      <td>NaN</td>\n",
              "      <td>서울특별시</td>\n",
              "      <td>양천구</td>\n",
              "      <td>서울특별시 양천구 오목로 48</td>\n",
              "    </tr>\n",
              "    <tr>\n",
              "      <th>225</th>\n",
              "      <td>카페클럽</td>\n",
              "      <td>NaN</td>\n",
              "      <td>서울특별시</td>\n",
              "      <td>송파구</td>\n",
              "      <td>서울특별시 송파구 동남로2길 3-6</td>\n",
              "    </tr>\n",
              "  </tbody>\n",
              "</table>\n",
              "</div>"
            ],
            "text/plain": [
              "       상호명          지점명    시도명 시군구명                도로명주소\n",
              "28     커피빈  코리아대학로대명거리점  서울특별시  종로구     서울특별시 종로구 대명길 25\n",
              "111  요거프레소          쌍문점  서울특별시  도봉구      서울특별시 도봉구 도당로 7\n",
              "190  메머드커피          NaN  서울특별시  마포구   서울특별시 마포구 와우산로 149\n",
              "197  우성커피숍          NaN  서울특별시  양천구     서울특별시 양천구 오목로 48\n",
              "225   카페클럽          NaN  서울특별시  송파구  서울특별시 송파구 동남로2길 3-6"
            ]
          },
          "metadata": {},
          "execution_count": 126
        }
      ]
    },
    {
      "cell_type": "code",
      "metadata": {
        "colab": {
          "base_uri": "https://localhost:8080/",
          "height": 204
        },
        "id": "Jwcq11YKJZqi",
        "outputId": "76616faf-a49f-45b0-8f13-2e87c8c7e065"
      },
      "source": [
        "sb = df[df.상호명.str.contains('스타벅스|STARBUCKS|스타박스', case=False)]\n",
        "sb.head()"
      ],
      "execution_count": 128,
      "outputs": [
        {
          "output_type": "execute_result",
          "data": {
            "text/html": [
              "<div>\n",
              "<style scoped>\n",
              "    .dataframe tbody tr th:only-of-type {\n",
              "        vertical-align: middle;\n",
              "    }\n",
              "\n",
              "    .dataframe tbody tr th {\n",
              "        vertical-align: top;\n",
              "    }\n",
              "\n",
              "    .dataframe thead th {\n",
              "        text-align: right;\n",
              "    }\n",
              "</style>\n",
              "<table border=\"1\" class=\"dataframe\">\n",
              "  <thead>\n",
              "    <tr style=\"text-align: right;\">\n",
              "      <th></th>\n",
              "      <th>상호명</th>\n",
              "      <th>지점명</th>\n",
              "      <th>시도명</th>\n",
              "      <th>시군구명</th>\n",
              "      <th>도로명주소</th>\n",
              "    </tr>\n",
              "  </thead>\n",
              "  <tbody>\n",
              "    <tr>\n",
              "      <th>1738</th>\n",
              "      <td>스타벅스</td>\n",
              "      <td>동숭로아트점</td>\n",
              "      <td>서울특별시</td>\n",
              "      <td>종로구</td>\n",
              "      <td>서울특별시 종로구 동숭길 110</td>\n",
              "    </tr>\n",
              "    <tr>\n",
              "      <th>2766</th>\n",
              "      <td>스타벅스남부터미널2점</td>\n",
              "      <td>남부터미널2점</td>\n",
              "      <td>서울특별시</td>\n",
              "      <td>서초구</td>\n",
              "      <td>서울특별시 서초구 효령로 274</td>\n",
              "    </tr>\n",
              "    <tr>\n",
              "      <th>3785</th>\n",
              "      <td>스타벅스</td>\n",
              "      <td>당산점</td>\n",
              "      <td>서울특별시</td>\n",
              "      <td>영등포구</td>\n",
              "      <td>서울특별시 영등포구 양평로 64</td>\n",
              "    </tr>\n",
              "    <tr>\n",
              "      <th>3933</th>\n",
              "      <td>스타벅스</td>\n",
              "      <td>가로수길점</td>\n",
              "      <td>서울특별시</td>\n",
              "      <td>강남구</td>\n",
              "      <td>서울특별시 강남구 논현로175길 94</td>\n",
              "    </tr>\n",
              "    <tr>\n",
              "      <th>3995</th>\n",
              "      <td>스타벅스미아사거리역점</td>\n",
              "      <td>미아사거리역점</td>\n",
              "      <td>서울특별시</td>\n",
              "      <td>강북구</td>\n",
              "      <td>서울특별시 강북구 도봉로 32</td>\n",
              "    </tr>\n",
              "  </tbody>\n",
              "</table>\n",
              "</div>"
            ],
            "text/plain": [
              "              상호명      지점명    시도명  시군구명                 도로명주소\n",
              "1738         스타벅스   동숭로아트점  서울특별시   종로구     서울특별시 종로구 동숭길 110\n",
              "2766  스타벅스남부터미널2점  남부터미널2점  서울특별시   서초구     서울특별시 서초구 효령로 274\n",
              "3785         스타벅스      당산점  서울특별시  영등포구     서울특별시 영등포구 양평로 64\n",
              "3933         스타벅스    가로수길점  서울특별시   강남구  서울특별시 강남구 논현로175길 94\n",
              "3995  스타벅스미아사거리역점  미아사거리역점  서울특별시   강북구      서울특별시 강북구 도봉로 32"
            ]
          },
          "metadata": {},
          "execution_count": 128
        }
      ]
    },
    {
      "cell_type": "code",
      "metadata": {
        "colab": {
          "base_uri": "https://localhost:8080/",
          "height": 49
        },
        "id": "_Aby7ZL2Kt9B",
        "outputId": "5dc7ac90-770b-4383-9d5a-5afb22d26a32"
      },
      "source": [
        "sb2 = df[df.지점명.str.contains('스타벅스|STARBUCKS|스타박스', na=False, case=False)]\n",
        "sb2.head()"
      ],
      "execution_count": 130,
      "outputs": [
        {
          "output_type": "execute_result",
          "data": {
            "text/html": [
              "<div>\n",
              "<style scoped>\n",
              "    .dataframe tbody tr th:only-of-type {\n",
              "        vertical-align: middle;\n",
              "    }\n",
              "\n",
              "    .dataframe tbody tr th {\n",
              "        vertical-align: top;\n",
              "    }\n",
              "\n",
              "    .dataframe thead th {\n",
              "        text-align: right;\n",
              "    }\n",
              "</style>\n",
              "<table border=\"1\" class=\"dataframe\">\n",
              "  <thead>\n",
              "    <tr style=\"text-align: right;\">\n",
              "      <th></th>\n",
              "      <th>상호명</th>\n",
              "      <th>지점명</th>\n",
              "      <th>시도명</th>\n",
              "      <th>시군구명</th>\n",
              "      <th>도로명주소</th>\n",
              "    </tr>\n",
              "  </thead>\n",
              "  <tbody>\n",
              "  </tbody>\n",
              "</table>\n",
              "</div>"
            ],
            "text/plain": [
              "Empty DataFrame\n",
              "Columns: [상호명, 지점명, 시도명, 시군구명, 도로명주소]\n",
              "Index: []"
            ]
          },
          "metadata": {},
          "execution_count": 130
        }
      ]
    },
    {
      "cell_type": "code",
      "metadata": {
        "colab": {
          "base_uri": "https://localhost:8080/",
          "height": 204
        },
        "id": "EAZTzOevL0mS",
        "outputId": "997c1790-d096-4465-81e2-fd9859018d4e"
      },
      "source": [
        "cb = df[df.상호명.str.contains('커피빈|COFFEBEAN', case=False)]\n",
        "cb.head()"
      ],
      "execution_count": 158,
      "outputs": [
        {
          "output_type": "execute_result",
          "data": {
            "text/html": [
              "<div>\n",
              "<style scoped>\n",
              "    .dataframe tbody tr th:only-of-type {\n",
              "        vertical-align: middle;\n",
              "    }\n",
              "\n",
              "    .dataframe tbody tr th {\n",
              "        vertical-align: top;\n",
              "    }\n",
              "\n",
              "    .dataframe thead th {\n",
              "        text-align: right;\n",
              "    }\n",
              "</style>\n",
              "<table border=\"1\" class=\"dataframe\">\n",
              "  <thead>\n",
              "    <tr style=\"text-align: right;\">\n",
              "      <th></th>\n",
              "      <th>상호명</th>\n",
              "      <th>지점명</th>\n",
              "      <th>시도명</th>\n",
              "      <th>시군구명</th>\n",
              "      <th>도로명주소</th>\n",
              "    </tr>\n",
              "  </thead>\n",
              "  <tbody>\n",
              "    <tr>\n",
              "      <th>28</th>\n",
              "      <td>커피빈</td>\n",
              "      <td>코리아대학로대명거리점</td>\n",
              "      <td>서울특별시</td>\n",
              "      <td>종로구</td>\n",
              "      <td>서울특별시 종로구 대명길 25</td>\n",
              "    </tr>\n",
              "    <tr>\n",
              "      <th>316</th>\n",
              "      <td>커피빈코리아낙성대역점</td>\n",
              "      <td>코리아낙성대역점</td>\n",
              "      <td>서울특별시</td>\n",
              "      <td>관악구</td>\n",
              "      <td>서울특별시 관악구 남부순환로 1909</td>\n",
              "    </tr>\n",
              "    <tr>\n",
              "      <th>1470</th>\n",
              "      <td>커피빈</td>\n",
              "      <td>코리아강남역랭기지타워점</td>\n",
              "      <td>서울특별시</td>\n",
              "      <td>강남구</td>\n",
              "      <td>서울특별시 강남구 테헤란로4길 28</td>\n",
              "    </tr>\n",
              "    <tr>\n",
              "      <th>1491</th>\n",
              "      <td>커피빈</td>\n",
              "      <td>코리아청담성당점</td>\n",
              "      <td>서울특별시</td>\n",
              "      <td>강남구</td>\n",
              "      <td>서울특별시 강남구 삼성로 716</td>\n",
              "    </tr>\n",
              "    <tr>\n",
              "      <th>1506</th>\n",
              "      <td>커피빈</td>\n",
              "      <td>코리아청담에스점</td>\n",
              "      <td>서울특별시</td>\n",
              "      <td>강남구</td>\n",
              "      <td>서울특별시 강남구 압구정로 461</td>\n",
              "    </tr>\n",
              "  </tbody>\n",
              "</table>\n",
              "</div>"
            ],
            "text/plain": [
              "              상호명           지점명    시도명 시군구명                 도로명주소\n",
              "28            커피빈   코리아대학로대명거리점  서울특별시  종로구      서울특별시 종로구 대명길 25\n",
              "316   커피빈코리아낙성대역점      코리아낙성대역점  서울특별시  관악구  서울특별시 관악구 남부순환로 1909\n",
              "1470          커피빈  코리아강남역랭기지타워점  서울특별시  강남구   서울특별시 강남구 테헤란로4길 28\n",
              "1491          커피빈      코리아청담성당점  서울특별시  강남구     서울특별시 강남구 삼성로 716\n",
              "1506          커피빈      코리아청담에스점  서울특별시  강남구    서울특별시 강남구 압구정로 461"
            ]
          },
          "metadata": {},
          "execution_count": 158
        }
      ]
    },
    {
      "cell_type": "code",
      "metadata": {
        "colab": {
          "base_uri": "https://localhost:8080/",
          "height": 49
        },
        "id": "eiGYDj53L8sm",
        "outputId": "965f415a-a0dd-4f45-98e7-d3820bbf5038"
      },
      "source": [
        "cb2 = df[df.지점명.str.contains('커피빈|COFFEBEAN', na=False, case=False)]\n",
        "cb2.head()"
      ],
      "execution_count": 159,
      "outputs": [
        {
          "output_type": "execute_result",
          "data": {
            "text/html": [
              "<div>\n",
              "<style scoped>\n",
              "    .dataframe tbody tr th:only-of-type {\n",
              "        vertical-align: middle;\n",
              "    }\n",
              "\n",
              "    .dataframe tbody tr th {\n",
              "        vertical-align: top;\n",
              "    }\n",
              "\n",
              "    .dataframe thead th {\n",
              "        text-align: right;\n",
              "    }\n",
              "</style>\n",
              "<table border=\"1\" class=\"dataframe\">\n",
              "  <thead>\n",
              "    <tr style=\"text-align: right;\">\n",
              "      <th></th>\n",
              "      <th>상호명</th>\n",
              "      <th>지점명</th>\n",
              "      <th>시도명</th>\n",
              "      <th>시군구명</th>\n",
              "      <th>도로명주소</th>\n",
              "    </tr>\n",
              "  </thead>\n",
              "  <tbody>\n",
              "  </tbody>\n",
              "</table>\n",
              "</div>"
            ],
            "text/plain": [
              "Empty DataFrame\n",
              "Columns: [상호명, 지점명, 시도명, 시군구명, 도로명주소]\n",
              "Index: []"
            ]
          },
          "metadata": {},
          "execution_count": 159
        }
      ]
    },
    {
      "cell_type": "code",
      "metadata": {
        "colab": {
          "base_uri": "https://localhost:8080/",
          "height": 204
        },
        "id": "sAhzBNkGLPhs",
        "outputId": "09206658-acbe-4487-9737-23662a54d67e"
      },
      "source": [
        "ed = df[df.상호명.str.contains('이디야|EDIYA', case=False)]\n",
        "ed.head()"
      ],
      "execution_count": 152,
      "outputs": [
        {
          "output_type": "execute_result",
          "data": {
            "text/html": [
              "<div>\n",
              "<style scoped>\n",
              "    .dataframe tbody tr th:only-of-type {\n",
              "        vertical-align: middle;\n",
              "    }\n",
              "\n",
              "    .dataframe tbody tr th {\n",
              "        vertical-align: top;\n",
              "    }\n",
              "\n",
              "    .dataframe thead th {\n",
              "        text-align: right;\n",
              "    }\n",
              "</style>\n",
              "<table border=\"1\" class=\"dataframe\">\n",
              "  <thead>\n",
              "    <tr style=\"text-align: right;\">\n",
              "      <th></th>\n",
              "      <th>상호명</th>\n",
              "      <th>지점명</th>\n",
              "      <th>시도명</th>\n",
              "      <th>시군구명</th>\n",
              "      <th>도로명주소</th>\n",
              "    </tr>\n",
              "  </thead>\n",
              "  <tbody>\n",
              "    <tr>\n",
              "      <th>1272</th>\n",
              "      <td>이디야커피</td>\n",
              "      <td>신길역점</td>\n",
              "      <td>서울특별시</td>\n",
              "      <td>영등포구</td>\n",
              "      <td>서울특별시 영등포구 영등포로 353</td>\n",
              "    </tr>\n",
              "    <tr>\n",
              "      <th>1411</th>\n",
              "      <td>이디야커피</td>\n",
              "      <td>라이프점</td>\n",
              "      <td>서울특별시</td>\n",
              "      <td>영등포구</td>\n",
              "      <td>서울특별시 영등포구 63로 40</td>\n",
              "    </tr>\n",
              "    <tr>\n",
              "      <th>2433</th>\n",
              "      <td>이디야커피양재AT점</td>\n",
              "      <td>양재AT점</td>\n",
              "      <td>서울특별시</td>\n",
              "      <td>서초구</td>\n",
              "      <td>서울특별시 서초구 동산로 3</td>\n",
              "    </tr>\n",
              "    <tr>\n",
              "      <th>2785</th>\n",
              "      <td>이디야커피</td>\n",
              "      <td>시흥점</td>\n",
              "      <td>서울특별시</td>\n",
              "      <td>금천구</td>\n",
              "      <td>서울특별시 금천구 금하로 750</td>\n",
              "    </tr>\n",
              "    <tr>\n",
              "      <th>4498</th>\n",
              "      <td>이디야커피</td>\n",
              "      <td>개봉중앙점</td>\n",
              "      <td>서울특별시</td>\n",
              "      <td>구로구</td>\n",
              "      <td>서울특별시 구로구 개봉로3길 26</td>\n",
              "    </tr>\n",
              "  </tbody>\n",
              "</table>\n",
              "</div>"
            ],
            "text/plain": [
              "             상호명    지점명    시도명  시군구명                도로명주소\n",
              "1272       이디야커피   신길역점  서울특별시  영등포구  서울특별시 영등포구 영등포로 353\n",
              "1411       이디야커피   라이프점  서울특별시  영등포구    서울특별시 영등포구 63로 40\n",
              "2433  이디야커피양재AT점  양재AT점  서울특별시   서초구      서울특별시 서초구 동산로 3\n",
              "2785       이디야커피    시흥점  서울특별시   금천구    서울특별시 금천구 금하로 750\n",
              "4498       이디야커피  개봉중앙점  서울특별시   구로구   서울특별시 구로구 개봉로3길 26"
            ]
          },
          "metadata": {},
          "execution_count": 152
        }
      ]
    },
    {
      "cell_type": "code",
      "metadata": {
        "colab": {
          "base_uri": "https://localhost:8080/",
          "height": 111
        },
        "id": "hzJkmHXPLZ3W",
        "outputId": "9d391732-0b61-433c-bfe1-6fd321d01602"
      },
      "source": [
        "ed2 = df[df.지점명.str.contains('이디야|EDIYA', na=False, case=False)]\n",
        "ed2.head()"
      ],
      "execution_count": 153,
      "outputs": [
        {
          "output_type": "execute_result",
          "data": {
            "text/html": [
              "<div>\n",
              "<style scoped>\n",
              "    .dataframe tbody tr th:only-of-type {\n",
              "        vertical-align: middle;\n",
              "    }\n",
              "\n",
              "    .dataframe tbody tr th {\n",
              "        vertical-align: top;\n",
              "    }\n",
              "\n",
              "    .dataframe thead th {\n",
              "        text-align: right;\n",
              "    }\n",
              "</style>\n",
              "<table border=\"1\" class=\"dataframe\">\n",
              "  <thead>\n",
              "    <tr style=\"text-align: right;\">\n",
              "      <th></th>\n",
              "      <th>상호명</th>\n",
              "      <th>지점명</th>\n",
              "      <th>시도명</th>\n",
              "      <th>시군구명</th>\n",
              "      <th>도로명주소</th>\n",
              "    </tr>\n",
              "  </thead>\n",
              "  <tbody>\n",
              "    <tr>\n",
              "      <th>92618</th>\n",
              "      <td>이디야커피</td>\n",
              "      <td>COFFEE이디야커피장위중앙점</td>\n",
              "      <td>서울특별시</td>\n",
              "      <td>성북구</td>\n",
              "      <td>서울특별시 성북구 장위로 35</td>\n",
              "    </tr>\n",
              "    <tr>\n",
              "      <th>118886</th>\n",
              "      <td>이디야커피</td>\n",
              "      <td>COFFEE이디야커피석관동점</td>\n",
              "      <td>서울특별시</td>\n",
              "      <td>성북구</td>\n",
              "      <td>서울특별시 성북구 돌곶이로8길 22</td>\n",
              "    </tr>\n",
              "  </tbody>\n",
              "</table>\n",
              "</div>"
            ],
            "text/plain": [
              "          상호명               지점명    시도명 시군구명                도로명주소\n",
              "92618   이디야커피  COFFEE이디야커피장위중앙점  서울특별시  성북구     서울특별시 성북구 장위로 35\n",
              "118886  이디야커피   COFFEE이디야커피석관동점  서울특별시  성북구  서울특별시 성북구 돌곶이로8길 22"
            ]
          },
          "metadata": {},
          "execution_count": 153
        }
      ]
    },
    {
      "cell_type": "code",
      "metadata": {
        "colab": {
          "base_uri": "https://localhost:8080/",
          "height": 204
        },
        "id": "bppfckHULgI2",
        "outputId": "3575fea5-5912-4a49-8ed7-17a7cc9b5a9a"
      },
      "source": [
        "bd = df[df.상호명.str.contains('빽다방|PAIKSCOFFEE', case=False)]\n",
        "bd.head()"
      ],
      "execution_count": 154,
      "outputs": [
        {
          "output_type": "execute_result",
          "data": {
            "text/html": [
              "<div>\n",
              "<style scoped>\n",
              "    .dataframe tbody tr th:only-of-type {\n",
              "        vertical-align: middle;\n",
              "    }\n",
              "\n",
              "    .dataframe tbody tr th {\n",
              "        vertical-align: top;\n",
              "    }\n",
              "\n",
              "    .dataframe thead th {\n",
              "        text-align: right;\n",
              "    }\n",
              "</style>\n",
              "<table border=\"1\" class=\"dataframe\">\n",
              "  <thead>\n",
              "    <tr style=\"text-align: right;\">\n",
              "      <th></th>\n",
              "      <th>상호명</th>\n",
              "      <th>지점명</th>\n",
              "      <th>시도명</th>\n",
              "      <th>시군구명</th>\n",
              "      <th>도로명주소</th>\n",
              "    </tr>\n",
              "  </thead>\n",
              "  <tbody>\n",
              "    <tr>\n",
              "      <th>7607</th>\n",
              "      <td>빽다방공덕새창로점</td>\n",
              "      <td>공덕새창로점</td>\n",
              "      <td>서울특별시</td>\n",
              "      <td>마포구</td>\n",
              "      <td>서울특별시 마포구 새창로 15-1</td>\n",
              "    </tr>\n",
              "    <tr>\n",
              "      <th>8565</th>\n",
              "      <td>빽다방서초우성점</td>\n",
              "      <td>서초우성점</td>\n",
              "      <td>서울특별시</td>\n",
              "      <td>서초구</td>\n",
              "      <td>서울특별시 서초구 사임당로 181</td>\n",
              "    </tr>\n",
              "    <tr>\n",
              "      <th>19901</th>\n",
              "      <td>빽다방중계은행사거리점</td>\n",
              "      <td>중계은행사거리점</td>\n",
              "      <td>서울특별시</td>\n",
              "      <td>노원구</td>\n",
              "      <td>서울특별시 노원구 한글비석로 235</td>\n",
              "    </tr>\n",
              "    <tr>\n",
              "      <th>26972</th>\n",
              "      <td>빽다방성신여대점</td>\n",
              "      <td>성신여대점</td>\n",
              "      <td>서울특별시</td>\n",
              "      <td>성북구</td>\n",
              "      <td>서울특별시 성북구 동소문로20나길 3</td>\n",
              "    </tr>\n",
              "    <tr>\n",
              "      <th>27346</th>\n",
              "      <td>빽다방신림역1호점</td>\n",
              "      <td>신림역1호점</td>\n",
              "      <td>서울특별시</td>\n",
              "      <td>관악구</td>\n",
              "      <td>서울특별시 관악구 남부순환로 1592</td>\n",
              "    </tr>\n",
              "  </tbody>\n",
              "</table>\n",
              "</div>"
            ],
            "text/plain": [
              "               상호명       지점명    시도명 시군구명                 도로명주소\n",
              "7607     빽다방공덕새창로점    공덕새창로점  서울특별시  마포구    서울특별시 마포구 새창로 15-1\n",
              "8565      빽다방서초우성점     서초우성점  서울특별시  서초구    서울특별시 서초구 사임당로 181\n",
              "19901  빽다방중계은행사거리점  중계은행사거리점  서울특별시  노원구   서울특별시 노원구 한글비석로 235\n",
              "26972     빽다방성신여대점     성신여대점  서울특별시  성북구  서울특별시 성북구 동소문로20나길 3\n",
              "27346    빽다방신림역1호점    신림역1호점  서울특별시  관악구  서울특별시 관악구 남부순환로 1592"
            ]
          },
          "metadata": {},
          "execution_count": 154
        }
      ]
    },
    {
      "cell_type": "code",
      "metadata": {
        "colab": {
          "base_uri": "https://localhost:8080/",
          "height": 49
        },
        "id": "8kpuKC7tLmtC",
        "outputId": "1446d23a-d883-45f9-bb26-b26c99e4e7de"
      },
      "source": [
        "bd2 = df[df.지점명.str.contains('빽다방|PAIKSCOFFEE', na=False, case=False)]\n",
        "bd2.head()"
      ],
      "execution_count": 155,
      "outputs": [
        {
          "output_type": "execute_result",
          "data": {
            "text/html": [
              "<div>\n",
              "<style scoped>\n",
              "    .dataframe tbody tr th:only-of-type {\n",
              "        vertical-align: middle;\n",
              "    }\n",
              "\n",
              "    .dataframe tbody tr th {\n",
              "        vertical-align: top;\n",
              "    }\n",
              "\n",
              "    .dataframe thead th {\n",
              "        text-align: right;\n",
              "    }\n",
              "</style>\n",
              "<table border=\"1\" class=\"dataframe\">\n",
              "  <thead>\n",
              "    <tr style=\"text-align: right;\">\n",
              "      <th></th>\n",
              "      <th>상호명</th>\n",
              "      <th>지점명</th>\n",
              "      <th>시도명</th>\n",
              "      <th>시군구명</th>\n",
              "      <th>도로명주소</th>\n",
              "    </tr>\n",
              "  </thead>\n",
              "  <tbody>\n",
              "  </tbody>\n",
              "</table>\n",
              "</div>"
            ],
            "text/plain": [
              "Empty DataFrame\n",
              "Columns: [상호명, 지점명, 시도명, 시군구명, 도로명주소]\n",
              "Index: []"
            ]
          },
          "metadata": {},
          "execution_count": 155
        }
      ]
    },
    {
      "cell_type": "code",
      "metadata": {
        "colab": {
          "base_uri": "https://localhost:8080/"
        },
        "id": "KVT_EyrpLulz",
        "outputId": "4ce42738-0713-4c71-ee8d-8216802086f6"
      },
      "source": [
        "len(sb), len(cb), len(ed), len(bd)"
      ],
      "execution_count": 160,
      "outputs": [
        {
          "output_type": "execute_result",
          "data": {
            "text/plain": [
              "(489, 168, 440, 127)"
            ]
          },
          "metadata": {},
          "execution_count": 160
        }
      ]
    },
    {
      "cell_type": "markdown",
      "metadata": {
        "id": "_oJHVGcjJOvR"
      },
      "source": [
        "## 전국 데이터에서 4개 매장 정보 추출하기"
      ]
    },
    {
      "cell_type": "code",
      "metadata": {
        "id": "6XBlhPEdNp5I"
      },
      "source": [
        "starbucks = pd.DataFrame(columns=['상호명', '지점명', '시도명', '시군구명', '도로명주소'])\n",
        "coffeebean = pd.DataFrame(columns=['상호명', '지점명', '시도명', '시군구명', '도로명주소'])\n",
        "ediya = pd.DataFrame(columns=['상호명', '지점명', '시도명', '시군구명', '도로명주소'])\n",
        "paik = pd.DataFrame(columns=['상호명', '지점명', '시도명', '시군구명', '도로명주소'])"
      ],
      "execution_count": 161,
      "outputs": []
    },
    {
      "cell_type": "code",
      "metadata": {
        "id": "b0y6pvlFoRZB"
      },
      "source": [
        "from glob import glob\n",
        "for filename in glob(f'{data_folder}/*.csv'):\n",
        "  df = pd.read_csv(filename)\n",
        "  df = df[df.상권업종중분류코드 == 'Q12']\n",
        "  df = df[['상호명', '지점명', '시도명', '시군구명', '도로명주소']]\n",
        "  sb = df[df.상호명.str.contains('스타벅스|STARBUCKS', case=False)]\n",
        "  cb = df[df.상호명.str.contains('커피빈|COFFEBEAN', case=False)]\n",
        "  ed = df[df.상호명.str.contains('이디야|EDIYA', case=False)]\n",
        "  bd = df[df.상호명.str.contains('빽다방|PAIKSCOFFEE', case=False)]\n",
        "\n",
        "  starbucks = pd.concat([starbucks, sb])\n",
        "  coffeebean = pd.concat([coffeebean, cb])\n",
        "  ediya = pd.concat([ediya, ed])\n",
        "  paik = pd.concat([paik, bd])"
      ],
      "execution_count": 162,
      "outputs": []
    },
    {
      "cell_type": "code",
      "metadata": {
        "colab": {
          "base_uri": "https://localhost:8080/",
          "height": 204
        },
        "id": "kPXly9S8PnLz",
        "outputId": "26f9e6be-220b-47e8-e0dc-7e341cd8433a"
      },
      "source": [
        "starbucks.tail()"
      ],
      "execution_count": 165,
      "outputs": [
        {
          "output_type": "execute_result",
          "data": {
            "text/html": [
              "<div>\n",
              "<style scoped>\n",
              "    .dataframe tbody tr th:only-of-type {\n",
              "        vertical-align: middle;\n",
              "    }\n",
              "\n",
              "    .dataframe tbody tr th {\n",
              "        vertical-align: top;\n",
              "    }\n",
              "\n",
              "    .dataframe thead th {\n",
              "        text-align: right;\n",
              "    }\n",
              "</style>\n",
              "<table border=\"1\" class=\"dataframe\">\n",
              "  <thead>\n",
              "    <tr style=\"text-align: right;\">\n",
              "      <th></th>\n",
              "      <th>상호명</th>\n",
              "      <th>지점명</th>\n",
              "      <th>시도명</th>\n",
              "      <th>시군구명</th>\n",
              "      <th>도로명주소</th>\n",
              "    </tr>\n",
              "  </thead>\n",
              "  <tbody>\n",
              "    <tr>\n",
              "      <th>72684</th>\n",
              "      <td>스타벅스</td>\n",
              "      <td>충북대점</td>\n",
              "      <td>충청북도</td>\n",
              "      <td>청주시 서원구</td>\n",
              "      <td>충청북도 청주시 서원구 내수동로 113</td>\n",
              "    </tr>\n",
              "    <tr>\n",
              "      <th>73841</th>\n",
              "      <td>스타벅스</td>\n",
              "      <td>청주율량DT점</td>\n",
              "      <td>충청북도</td>\n",
              "      <td>청주시 청원구</td>\n",
              "      <td>충청북도 청주시 청원구 충청대로107번길 8</td>\n",
              "    </tr>\n",
              "    <tr>\n",
              "      <th>79073</th>\n",
              "      <td>스타벅스</td>\n",
              "      <td>충주연수점</td>\n",
              "      <td>충청북도</td>\n",
              "      <td>충주시</td>\n",
              "      <td>충청북도 충주시 계명대로 227</td>\n",
              "    </tr>\n",
              "    <tr>\n",
              "      <th>79357</th>\n",
              "      <td>스타벅스</td>\n",
              "      <td>충주성서점</td>\n",
              "      <td>충청북도</td>\n",
              "      <td>충주시</td>\n",
              "      <td>충청북도 충주시 예성로 151</td>\n",
              "    </tr>\n",
              "    <tr>\n",
              "      <th>84354</th>\n",
              "      <td>스타벅스</td>\n",
              "      <td>NaN</td>\n",
              "      <td>충청북도</td>\n",
              "      <td>음성군</td>\n",
              "      <td>충청북도 음성군 원남면 보천로 65</td>\n",
              "    </tr>\n",
              "  </tbody>\n",
              "</table>\n",
              "</div>"
            ],
            "text/plain": [
              "        상호명      지점명   시도명     시군구명                     도로명주소\n",
              "72684  스타벅스     충북대점  충청북도  청주시 서원구     충청북도 청주시 서원구 내수동로 113\n",
              "73841  스타벅스  청주율량DT점  충청북도  청주시 청원구  충청북도 청주시 청원구 충청대로107번길 8\n",
              "79073  스타벅스    충주연수점  충청북도      충주시         충청북도 충주시 계명대로 227\n",
              "79357  스타벅스    충주성서점  충청북도      충주시          충청북도 충주시 예성로 151\n",
              "84354  스타벅스      NaN  충청북도      음성군       충청북도 음성군 원남면 보천로 65"
            ]
          },
          "metadata": {},
          "execution_count": 165
        }
      ]
    },
    {
      "cell_type": "code",
      "metadata": {
        "colab": {
          "base_uri": "https://localhost:8080/"
        },
        "id": "jjZ0qLWZPq0v",
        "outputId": "f947d8ed-1bc4-4083-d319-4c408404ca11"
      },
      "source": [
        "len(starbucks), len(coffeebean), len(ediya), len(paik)"
      ],
      "execution_count": 166,
      "outputs": [
        {
          "output_type": "execute_result",
          "data": {
            "text/plain": [
              "(1547, 290, 2120, 609)"
            ]
          },
          "metadata": {},
          "execution_count": 166
        }
      ]
    },
    {
      "cell_type": "code",
      "metadata": {
        "id": "-qy-BLR-PTzr"
      },
      "source": [
        "result_dir = '/content/mnt/MyDrive/results/CoffeeIndex'"
      ],
      "execution_count": 168,
      "outputs": []
    },
    {
      "cell_type": "code",
      "metadata": {
        "id": "uTZ7uJFVOy80"
      },
      "source": [
        "!mkdir -p $result_dir"
      ],
      "execution_count": 164,
      "outputs": []
    },
    {
      "cell_type": "code",
      "metadata": {
        "id": "JeuOXOxmPBal"
      },
      "source": [
        "starbucks.to_csv(f'{result_dir}/스타벅스.csv', index=False)\n",
        "coffeebean.to_csv(f'{result_dir}/커피빈.csv', index=False)\n",
        "ediya.to_csv(f'{result_dir}/이디야.csv', index=False)\n",
        "paik.to_csv(f'{result_dir}/빽다방.csv', index=False)"
      ],
      "execution_count": 169,
      "outputs": []
    }
  ]
}