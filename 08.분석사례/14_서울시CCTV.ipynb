{
  "nbformat": 4,
  "nbformat_minor": 0,
  "metadata": {
    "colab": {
      "name": "14_서울시CCTV.ipynb",
      "provenance": [],
      "collapsed_sections": []
    },
    "kernelspec": {
      "name": "python3",
      "display_name": "Python 3"
    },
    "language_info": {
      "name": "python"
    }
  },
  "cells": [
    {
      "cell_type": "code",
      "metadata": {
        "id": "lSn0nQpGsG6I"
      },
      "source": [
        "!apt-get install -y fonts-nanum > /dev/null\n",
        "!fc-cache -fv > /dev/null\n",
        "!rm -rf ~/.cache/matplotlib > /dev/null\n",
        "# 런타임 다시시작"
      ],
      "execution_count": 1,
      "outputs": []
    },
    {
      "cell_type": "code",
      "metadata": {
        "id": "-3bFhMRMyCfd"
      },
      "source": [
        "import matplotlib as mpl\n",
        "import matplotlib.pyplot as plt\n",
        "mpl.rcParams['axes.unicode_minus'] = False\n",
        "plt.rc('font', family='NanumBarunGothic')\n",
        "import numpy as np\n",
        "import pandas as pd\n",
        "import warnings\n",
        "warnings.filterwarnings('ignore')\n"
      ],
      "execution_count": 1,
      "outputs": []
    },
    {
      "cell_type": "code",
      "metadata": {
        "colab": {
          "base_uri": "https://localhost:8080/"
        },
        "id": "8-2Pu8r-yPG-",
        "outputId": "bf069975-aab4-4495-e11f-99761f35d500"
      },
      "source": [
        "from google.colab import drive\n",
        "drive.mount('/content/mnt')"
      ],
      "execution_count": 2,
      "outputs": [
        {
          "output_type": "stream",
          "name": "stdout",
          "text": [
            "Mounted at /content/mnt\n"
          ]
        }
      ]
    },
    {
      "cell_type": "code",
      "metadata": {
        "id": "pw-MIcpLyRXR"
      },
      "source": [
        "data_folder = '/content/mnt/MyDrive/data/서울시'"
      ],
      "execution_count": 3,
      "outputs": []
    },
    {
      "cell_type": "markdown",
      "metadata": {
        "id": "-npgPgpN_7Nq"
      },
      "source": [
        "## 데이터 전처리"
      ]
    },
    {
      "cell_type": "code",
      "metadata": {
        "colab": {
          "base_uri": "https://localhost:8080/",
          "height": 204
        },
        "id": "JIQ8iBvXycvC",
        "outputId": "21630066-e7ac-452a-fcdf-d91bbbd8e93a"
      },
      "source": [
        "seoul_cctv = pd.read_csv(f'{data_folder}/서울시CCTV설치운영현황(자치구)_년도별_210731기준.csv', skiprows = 1, thousands = ',', encoding='euc-kr')\n",
        "\n",
        "seoul_cctv.head()"
      ],
      "execution_count": 5,
      "outputs": [
        {
          "output_type": "execute_result",
          "data": {
            "text/html": [
              "<div>\n",
              "<style scoped>\n",
              "    .dataframe tbody tr th:only-of-type {\n",
              "        vertical-align: middle;\n",
              "    }\n",
              "\n",
              "    .dataframe tbody tr th {\n",
              "        vertical-align: top;\n",
              "    }\n",
              "\n",
              "    .dataframe thead th {\n",
              "        text-align: right;\n",
              "    }\n",
              "</style>\n",
              "<table border=\"1\" class=\"dataframe\">\n",
              "  <thead>\n",
              "    <tr style=\"text-align: right;\">\n",
              "      <th></th>\n",
              "      <th>구분</th>\n",
              "      <th>총계</th>\n",
              "      <th>2012년 이전</th>\n",
              "      <th>2012년</th>\n",
              "      <th>2013년</th>\n",
              "      <th>2014년</th>\n",
              "      <th>2015년</th>\n",
              "      <th>2016년</th>\n",
              "      <th>2017년</th>\n",
              "      <th>2018년</th>\n",
              "      <th>2019년</th>\n",
              "      <th>2020년</th>\n",
              "      <th>2021년</th>\n",
              "    </tr>\n",
              "  </thead>\n",
              "  <tbody>\n",
              "    <tr>\n",
              "      <th>0</th>\n",
              "      <td>합계</td>\n",
              "      <td>77032</td>\n",
              "      <td>7667</td>\n",
              "      <td>2200</td>\n",
              "      <td>3491</td>\n",
              "      <td>4439</td>\n",
              "      <td>6582</td>\n",
              "      <td>8129</td>\n",
              "      <td>9947</td>\n",
              "      <td>9876</td>\n",
              "      <td>11961</td>\n",
              "      <td>11132</td>\n",
              "      <td>1608</td>\n",
              "    </tr>\n",
              "    <tr>\n",
              "      <th>1</th>\n",
              "      <td>종로구</td>\n",
              "      <td>1772</td>\n",
              "      <td>813</td>\n",
              "      <td>0</td>\n",
              "      <td>0</td>\n",
              "      <td>210</td>\n",
              "      <td>150</td>\n",
              "      <td>1</td>\n",
              "      <td>261</td>\n",
              "      <td>85</td>\n",
              "      <td>9</td>\n",
              "      <td>200</td>\n",
              "      <td>43</td>\n",
              "    </tr>\n",
              "    <tr>\n",
              "      <th>2</th>\n",
              "      <td>중구</td>\n",
              "      <td>2333</td>\n",
              "      <td>16</td>\n",
              "      <td>114</td>\n",
              "      <td>87</td>\n",
              "      <td>77</td>\n",
              "      <td>236</td>\n",
              "      <td>240</td>\n",
              "      <td>372</td>\n",
              "      <td>386</td>\n",
              "      <td>155</td>\n",
              "      <td>361</td>\n",
              "      <td>289</td>\n",
              "    </tr>\n",
              "    <tr>\n",
              "      <th>3</th>\n",
              "      <td>용산구</td>\n",
              "      <td>2383</td>\n",
              "      <td>34</td>\n",
              "      <td>71</td>\n",
              "      <td>234</td>\n",
              "      <td>125</td>\n",
              "      <td>221</td>\n",
              "      <td>298</td>\n",
              "      <td>351</td>\n",
              "      <td>125</td>\n",
              "      <td>307</td>\n",
              "      <td>617</td>\n",
              "      <td>0</td>\n",
              "    </tr>\n",
              "    <tr>\n",
              "      <th>4</th>\n",
              "      <td>성동구</td>\n",
              "      <td>3602</td>\n",
              "      <td>448</td>\n",
              "      <td>125</td>\n",
              "      <td>212</td>\n",
              "      <td>105</td>\n",
              "      <td>339</td>\n",
              "      <td>310</td>\n",
              "      <td>874</td>\n",
              "      <td>390</td>\n",
              "      <td>262</td>\n",
              "      <td>461</td>\n",
              "      <td>76</td>\n",
              "    </tr>\n",
              "  </tbody>\n",
              "</table>\n",
              "</div>"
            ],
            "text/plain": [
              "    구분     총계  2012년 이전  2012년  2013년  ...  2017년  2018년  2019년  2020년  2021년\n",
              "0   합계  77032      7667   2200   3491  ...   9947   9876  11961  11132   1608\n",
              "1  종로구   1772       813      0      0  ...    261     85      9    200     43\n",
              "2   중구   2333        16    114     87  ...    372    386    155    361    289\n",
              "3  용산구   2383        34     71    234  ...    351    125    307    617      0\n",
              "4  성동구   3602       448    125    212  ...    874    390    262    461     76\n",
              "\n",
              "[5 rows x 13 columns]"
            ]
          },
          "metadata": {},
          "execution_count": 5
        }
      ]
    },
    {
      "cell_type": "code",
      "metadata": {
        "colab": {
          "base_uri": "https://localhost:8080/",
          "height": 204
        },
        "id": "baU7O2MO3EOA",
        "outputId": "452d1196-9041-4486-9d2b-d67c712bcf6b"
      },
      "source": [
        "seoul_cctv.rename(columns={'구분':'자치구'}, inplace=True)\n",
        "seoul_cctv.head()"
      ],
      "execution_count": 6,
      "outputs": [
        {
          "output_type": "execute_result",
          "data": {
            "text/html": [
              "<div>\n",
              "<style scoped>\n",
              "    .dataframe tbody tr th:only-of-type {\n",
              "        vertical-align: middle;\n",
              "    }\n",
              "\n",
              "    .dataframe tbody tr th {\n",
              "        vertical-align: top;\n",
              "    }\n",
              "\n",
              "    .dataframe thead th {\n",
              "        text-align: right;\n",
              "    }\n",
              "</style>\n",
              "<table border=\"1\" class=\"dataframe\">\n",
              "  <thead>\n",
              "    <tr style=\"text-align: right;\">\n",
              "      <th></th>\n",
              "      <th>자치구</th>\n",
              "      <th>총계</th>\n",
              "      <th>2012년 이전</th>\n",
              "      <th>2012년</th>\n",
              "      <th>2013년</th>\n",
              "      <th>2014년</th>\n",
              "      <th>2015년</th>\n",
              "      <th>2016년</th>\n",
              "      <th>2017년</th>\n",
              "      <th>2018년</th>\n",
              "      <th>2019년</th>\n",
              "      <th>2020년</th>\n",
              "      <th>2021년</th>\n",
              "    </tr>\n",
              "  </thead>\n",
              "  <tbody>\n",
              "    <tr>\n",
              "      <th>0</th>\n",
              "      <td>합계</td>\n",
              "      <td>77032</td>\n",
              "      <td>7667</td>\n",
              "      <td>2200</td>\n",
              "      <td>3491</td>\n",
              "      <td>4439</td>\n",
              "      <td>6582</td>\n",
              "      <td>8129</td>\n",
              "      <td>9947</td>\n",
              "      <td>9876</td>\n",
              "      <td>11961</td>\n",
              "      <td>11132</td>\n",
              "      <td>1608</td>\n",
              "    </tr>\n",
              "    <tr>\n",
              "      <th>1</th>\n",
              "      <td>종로구</td>\n",
              "      <td>1772</td>\n",
              "      <td>813</td>\n",
              "      <td>0</td>\n",
              "      <td>0</td>\n",
              "      <td>210</td>\n",
              "      <td>150</td>\n",
              "      <td>1</td>\n",
              "      <td>261</td>\n",
              "      <td>85</td>\n",
              "      <td>9</td>\n",
              "      <td>200</td>\n",
              "      <td>43</td>\n",
              "    </tr>\n",
              "    <tr>\n",
              "      <th>2</th>\n",
              "      <td>중구</td>\n",
              "      <td>2333</td>\n",
              "      <td>16</td>\n",
              "      <td>114</td>\n",
              "      <td>87</td>\n",
              "      <td>77</td>\n",
              "      <td>236</td>\n",
              "      <td>240</td>\n",
              "      <td>372</td>\n",
              "      <td>386</td>\n",
              "      <td>155</td>\n",
              "      <td>361</td>\n",
              "      <td>289</td>\n",
              "    </tr>\n",
              "    <tr>\n",
              "      <th>3</th>\n",
              "      <td>용산구</td>\n",
              "      <td>2383</td>\n",
              "      <td>34</td>\n",
              "      <td>71</td>\n",
              "      <td>234</td>\n",
              "      <td>125</td>\n",
              "      <td>221</td>\n",
              "      <td>298</td>\n",
              "      <td>351</td>\n",
              "      <td>125</td>\n",
              "      <td>307</td>\n",
              "      <td>617</td>\n",
              "      <td>0</td>\n",
              "    </tr>\n",
              "    <tr>\n",
              "      <th>4</th>\n",
              "      <td>성동구</td>\n",
              "      <td>3602</td>\n",
              "      <td>448</td>\n",
              "      <td>125</td>\n",
              "      <td>212</td>\n",
              "      <td>105</td>\n",
              "      <td>339</td>\n",
              "      <td>310</td>\n",
              "      <td>874</td>\n",
              "      <td>390</td>\n",
              "      <td>262</td>\n",
              "      <td>461</td>\n",
              "      <td>76</td>\n",
              "    </tr>\n",
              "  </tbody>\n",
              "</table>\n",
              "</div>"
            ],
            "text/plain": [
              "   자치구     총계  2012년 이전  2012년  2013년  ...  2017년  2018년  2019년  2020년  2021년\n",
              "0   합계  77032      7667   2200   3491  ...   9947   9876  11961  11132   1608\n",
              "1  종로구   1772       813      0      0  ...    261     85      9    200     43\n",
              "2   중구   2333        16    114     87  ...    372    386    155    361    289\n",
              "3  용산구   2383        34     71    234  ...    351    125    307    617      0\n",
              "4  성동구   3602       448    125    212  ...    874    390    262    461     76\n",
              "\n",
              "[5 rows x 13 columns]"
            ]
          },
          "metadata": {},
          "execution_count": 6
        }
      ]
    },
    {
      "cell_type": "code",
      "metadata": {
        "colab": {
          "base_uri": "https://localhost:8080/"
        },
        "id": "2k71VBTt31r_",
        "outputId": "8f48f584-e161-495b-eb52-e9a90ea005dd"
      },
      "source": [
        "seoul_cctv.dtypes"
      ],
      "execution_count": 7,
      "outputs": [
        {
          "output_type": "execute_result",
          "data": {
            "text/plain": [
              "자치구         object\n",
              "총계           int64\n",
              "2012년 이전     int64\n",
              "2012년        int64\n",
              "2013년        int64\n",
              "2014년        int64\n",
              "2015년        int64\n",
              "2016년        int64\n",
              "2017년        int64\n",
              "2018년        int64\n",
              "2019년        int64\n",
              "2020년        int64\n",
              "2021년        int64\n",
              "dtype: object"
            ]
          },
          "metadata": {},
          "execution_count": 7
        }
      ]
    },
    {
      "cell_type": "code",
      "metadata": {
        "colab": {
          "base_uri": "https://localhost:8080/",
          "height": 204
        },
        "id": "k0tI6egq36vZ",
        "outputId": "f14cdef7-9ee5-4e51-b674-52cc00a08cf2"
      },
      "source": [
        "seoul_cctv.set_index('자치구', inplace=True)\n",
        "seoul_cctv = seoul_cctv.astype('int')\n",
        "seoul_cctv.reset_index(inplace=True)\n",
        "seoul_cctv.head()"
      ],
      "execution_count": 8,
      "outputs": [
        {
          "output_type": "execute_result",
          "data": {
            "text/html": [
              "<div>\n",
              "<style scoped>\n",
              "    .dataframe tbody tr th:only-of-type {\n",
              "        vertical-align: middle;\n",
              "    }\n",
              "\n",
              "    .dataframe tbody tr th {\n",
              "        vertical-align: top;\n",
              "    }\n",
              "\n",
              "    .dataframe thead th {\n",
              "        text-align: right;\n",
              "    }\n",
              "</style>\n",
              "<table border=\"1\" class=\"dataframe\">\n",
              "  <thead>\n",
              "    <tr style=\"text-align: right;\">\n",
              "      <th></th>\n",
              "      <th>자치구</th>\n",
              "      <th>총계</th>\n",
              "      <th>2012년 이전</th>\n",
              "      <th>2012년</th>\n",
              "      <th>2013년</th>\n",
              "      <th>2014년</th>\n",
              "      <th>2015년</th>\n",
              "      <th>2016년</th>\n",
              "      <th>2017년</th>\n",
              "      <th>2018년</th>\n",
              "      <th>2019년</th>\n",
              "      <th>2020년</th>\n",
              "      <th>2021년</th>\n",
              "    </tr>\n",
              "  </thead>\n",
              "  <tbody>\n",
              "    <tr>\n",
              "      <th>0</th>\n",
              "      <td>합계</td>\n",
              "      <td>77032</td>\n",
              "      <td>7667</td>\n",
              "      <td>2200</td>\n",
              "      <td>3491</td>\n",
              "      <td>4439</td>\n",
              "      <td>6582</td>\n",
              "      <td>8129</td>\n",
              "      <td>9947</td>\n",
              "      <td>9876</td>\n",
              "      <td>11961</td>\n",
              "      <td>11132</td>\n",
              "      <td>1608</td>\n",
              "    </tr>\n",
              "    <tr>\n",
              "      <th>1</th>\n",
              "      <td>종로구</td>\n",
              "      <td>1772</td>\n",
              "      <td>813</td>\n",
              "      <td>0</td>\n",
              "      <td>0</td>\n",
              "      <td>210</td>\n",
              "      <td>150</td>\n",
              "      <td>1</td>\n",
              "      <td>261</td>\n",
              "      <td>85</td>\n",
              "      <td>9</td>\n",
              "      <td>200</td>\n",
              "      <td>43</td>\n",
              "    </tr>\n",
              "    <tr>\n",
              "      <th>2</th>\n",
              "      <td>중구</td>\n",
              "      <td>2333</td>\n",
              "      <td>16</td>\n",
              "      <td>114</td>\n",
              "      <td>87</td>\n",
              "      <td>77</td>\n",
              "      <td>236</td>\n",
              "      <td>240</td>\n",
              "      <td>372</td>\n",
              "      <td>386</td>\n",
              "      <td>155</td>\n",
              "      <td>361</td>\n",
              "      <td>289</td>\n",
              "    </tr>\n",
              "    <tr>\n",
              "      <th>3</th>\n",
              "      <td>용산구</td>\n",
              "      <td>2383</td>\n",
              "      <td>34</td>\n",
              "      <td>71</td>\n",
              "      <td>234</td>\n",
              "      <td>125</td>\n",
              "      <td>221</td>\n",
              "      <td>298</td>\n",
              "      <td>351</td>\n",
              "      <td>125</td>\n",
              "      <td>307</td>\n",
              "      <td>617</td>\n",
              "      <td>0</td>\n",
              "    </tr>\n",
              "    <tr>\n",
              "      <th>4</th>\n",
              "      <td>성동구</td>\n",
              "      <td>3602</td>\n",
              "      <td>448</td>\n",
              "      <td>125</td>\n",
              "      <td>212</td>\n",
              "      <td>105</td>\n",
              "      <td>339</td>\n",
              "      <td>310</td>\n",
              "      <td>874</td>\n",
              "      <td>390</td>\n",
              "      <td>262</td>\n",
              "      <td>461</td>\n",
              "      <td>76</td>\n",
              "    </tr>\n",
              "  </tbody>\n",
              "</table>\n",
              "</div>"
            ],
            "text/plain": [
              "   자치구     총계  2012년 이전  2012년  2013년  ...  2017년  2018년  2019년  2020년  2021년\n",
              "0   합계  77032      7667   2200   3491  ...   9947   9876  11961  11132   1608\n",
              "1  종로구   1772       813      0      0  ...    261     85      9    200     43\n",
              "2   중구   2333        16    114     87  ...    372    386    155    361    289\n",
              "3  용산구   2383        34     71    234  ...    351    125    307    617      0\n",
              "4  성동구   3602       448    125    212  ...    874    390    262    461     76\n",
              "\n",
              "[5 rows x 13 columns]"
            ]
          },
          "metadata": {},
          "execution_count": 8
        }
      ]
    },
    {
      "cell_type": "code",
      "metadata": {
        "colab": {
          "base_uri": "https://localhost:8080/"
        },
        "id": "sl_wN3aU5mg8",
        "outputId": "568af396-50e2-47ba-d12d-d0f07160e34a"
      },
      "source": [
        "seoul_cctv.dtypes"
      ],
      "execution_count": 9,
      "outputs": [
        {
          "output_type": "execute_result",
          "data": {
            "text/plain": [
              "자치구         object\n",
              "총계           int64\n",
              "2012년 이전     int64\n",
              "2012년        int64\n",
              "2013년        int64\n",
              "2014년        int64\n",
              "2015년        int64\n",
              "2016년        int64\n",
              "2017년        int64\n",
              "2018년        int64\n",
              "2019년        int64\n",
              "2020년        int64\n",
              "2021년        int64\n",
              "dtype: object"
            ]
          },
          "metadata": {},
          "execution_count": 9
        }
      ]
    },
    {
      "cell_type": "code",
      "metadata": {
        "colab": {
          "base_uri": "https://localhost:8080/",
          "height": 204
        },
        "id": "nOl5Ki8gyogi",
        "outputId": "8ce9592b-0be2-4f22-9c2f-64b18eab385f"
      },
      "source": [
        "seoul_pop = pd.read_csv(f'{data_folder}/서울시주민등록인구(구별)통계.tsv', thousands=',', delimiter='\\t', header=0)\n",
        "\n",
        "seoul_pop.head()"
      ],
      "execution_count": 10,
      "outputs": [
        {
          "output_type": "execute_result",
          "data": {
            "text/html": [
              "<div>\n",
              "<style scoped>\n",
              "    .dataframe tbody tr th:only-of-type {\n",
              "        vertical-align: middle;\n",
              "    }\n",
              "\n",
              "    .dataframe tbody tr th {\n",
              "        vertical-align: top;\n",
              "    }\n",
              "\n",
              "    .dataframe thead th {\n",
              "        text-align: right;\n",
              "    }\n",
              "</style>\n",
              "<table border=\"1\" class=\"dataframe\">\n",
              "  <thead>\n",
              "    <tr style=\"text-align: right;\">\n",
              "      <th></th>\n",
              "      <th>기간</th>\n",
              "      <th>자치구</th>\n",
              "      <th>세대</th>\n",
              "      <th>인구</th>\n",
              "      <th>인구.1</th>\n",
              "      <th>인구.2</th>\n",
              "      <th>인구.3</th>\n",
              "      <th>인구.4</th>\n",
              "      <th>인구.5</th>\n",
              "      <th>인구.6</th>\n",
              "      <th>인구.7</th>\n",
              "      <th>인구.8</th>\n",
              "      <th>세대당인구</th>\n",
              "      <th>65세이상고령자</th>\n",
              "    </tr>\n",
              "  </thead>\n",
              "  <tbody>\n",
              "    <tr>\n",
              "      <th>0</th>\n",
              "      <td>기간</td>\n",
              "      <td>자치구</td>\n",
              "      <td>세대</td>\n",
              "      <td>합계</td>\n",
              "      <td>합계</td>\n",
              "      <td>합계</td>\n",
              "      <td>한국인</td>\n",
              "      <td>한국인</td>\n",
              "      <td>한국인</td>\n",
              "      <td>등록외국인</td>\n",
              "      <td>등록외국인</td>\n",
              "      <td>등록외국인</td>\n",
              "      <td>세대당인구</td>\n",
              "      <td>65세이상고령자</td>\n",
              "    </tr>\n",
              "    <tr>\n",
              "      <th>1</th>\n",
              "      <td>기간</td>\n",
              "      <td>자치구</td>\n",
              "      <td>세대</td>\n",
              "      <td>계</td>\n",
              "      <td>남자</td>\n",
              "      <td>여자</td>\n",
              "      <td>계</td>\n",
              "      <td>남자</td>\n",
              "      <td>여자</td>\n",
              "      <td>계</td>\n",
              "      <td>남자</td>\n",
              "      <td>여자</td>\n",
              "      <td>세대당인구</td>\n",
              "      <td>65세이상고령자</td>\n",
              "    </tr>\n",
              "    <tr>\n",
              "      <th>2</th>\n",
              "      <td>2021.2/4</td>\n",
              "      <td>합계</td>\n",
              "      <td>4,405,638</td>\n",
              "      <td>9,795,426</td>\n",
              "      <td>4,756,178</td>\n",
              "      <td>5,039,248</td>\n",
              "      <td>9,565,990</td>\n",
              "      <td>4,649,442</td>\n",
              "      <td>4,916,548</td>\n",
              "      <td>229,436</td>\n",
              "      <td>106,736</td>\n",
              "      <td>122,700</td>\n",
              "      <td>2.17</td>\n",
              "      <td>1,576,971</td>\n",
              "    </tr>\n",
              "    <tr>\n",
              "      <th>3</th>\n",
              "      <td>2021.2/4</td>\n",
              "      <td>종로구</td>\n",
              "      <td>73,525</td>\n",
              "      <td>155,106</td>\n",
              "      <td>75,009</td>\n",
              "      <td>80,097</td>\n",
              "      <td>146,029</td>\n",
              "      <td>70,985</td>\n",
              "      <td>75,044</td>\n",
              "      <td>9,077</td>\n",
              "      <td>4,024</td>\n",
              "      <td>5,053</td>\n",
              "      <td>1.99</td>\n",
              "      <td>27,605</td>\n",
              "    </tr>\n",
              "    <tr>\n",
              "      <th>4</th>\n",
              "      <td>2021.2/4</td>\n",
              "      <td>중구</td>\n",
              "      <td>62,897</td>\n",
              "      <td>132,259</td>\n",
              "      <td>64,526</td>\n",
              "      <td>67,733</td>\n",
              "      <td>123,016</td>\n",
              "      <td>60,019</td>\n",
              "      <td>62,997</td>\n",
              "      <td>9,243</td>\n",
              "      <td>4,507</td>\n",
              "      <td>4,736</td>\n",
              "      <td>1.96</td>\n",
              "      <td>23,980</td>\n",
              "    </tr>\n",
              "  </tbody>\n",
              "</table>\n",
              "</div>"
            ],
            "text/plain": [
              "         기간  자치구         세대         인구  ...     인구.7     인구.8  세대당인구   65세이상고령자\n",
              "0        기간  자치구         세대         합계  ...    등록외국인    등록외국인  세대당인구   65세이상고령자\n",
              "1        기간  자치구         세대          계  ...       남자       여자  세대당인구   65세이상고령자\n",
              "2  2021.2/4   합계  4,405,638  9,795,426  ...  106,736  122,700   2.17  1,576,971\n",
              "3  2021.2/4  종로구     73,525    155,106  ...    4,024    5,053   1.99     27,605\n",
              "4  2021.2/4   중구     62,897    132,259  ...    4,507    4,736   1.96     23,980\n",
              "\n",
              "[5 rows x 14 columns]"
            ]
          },
          "metadata": {},
          "execution_count": 10
        }
      ]
    },
    {
      "cell_type": "code",
      "metadata": {
        "colab": {
          "base_uri": "https://localhost:8080/"
        },
        "id": "gybxUgBE5Yz7",
        "outputId": "55c7fa63-fec1-433a-af5e-4c477f1f84a2"
      },
      "source": [
        "seoul_pop.dtypes"
      ],
      "execution_count": 11,
      "outputs": [
        {
          "output_type": "execute_result",
          "data": {
            "text/plain": [
              "기간          object\n",
              "자치구         object\n",
              "세대          object\n",
              "인구          object\n",
              "인구.1        object\n",
              "인구.2        object\n",
              "인구.3        object\n",
              "인구.4        object\n",
              "인구.5        object\n",
              "인구.6        object\n",
              "인구.7        object\n",
              "인구.8        object\n",
              "세대당인구       object\n",
              "65세이상고령자    object\n",
              "dtype: object"
            ]
          },
          "metadata": {},
          "execution_count": 11
        }
      ]
    },
    {
      "cell_type": "code",
      "metadata": {
        "colab": {
          "base_uri": "https://localhost:8080/",
          "height": 204
        },
        "id": "RjO9fJQ8zw1n",
        "outputId": "6924f3ac-9ed7-4744-8c63-d0cfa1191ecd"
      },
      "source": [
        "seoul_pop.rename(columns={'기간' : '기간',\t'자치구':'자치구', '세대':'세대', '인구':'총계', \t'인구':'인구총계', '인구.1' : '남자총계',\t'인구.2' : '여자총계',\t'인구.3':'한국인총계',\t'인구.4' : '한국인남자',\t'인구.5' : '한국인여자',\t'인구.6':'외국인총계',\t'인구.7':'외국인남자',\t'인구.8':'외국인여자',\t'세대당인구':'세대당인구',\t'65세이상고령자' : '65세이상고령자'}, inplace=True)\n",
        "seoul_pop.head()"
      ],
      "execution_count": 12,
      "outputs": [
        {
          "output_type": "execute_result",
          "data": {
            "text/html": [
              "<div>\n",
              "<style scoped>\n",
              "    .dataframe tbody tr th:only-of-type {\n",
              "        vertical-align: middle;\n",
              "    }\n",
              "\n",
              "    .dataframe tbody tr th {\n",
              "        vertical-align: top;\n",
              "    }\n",
              "\n",
              "    .dataframe thead th {\n",
              "        text-align: right;\n",
              "    }\n",
              "</style>\n",
              "<table border=\"1\" class=\"dataframe\">\n",
              "  <thead>\n",
              "    <tr style=\"text-align: right;\">\n",
              "      <th></th>\n",
              "      <th>기간</th>\n",
              "      <th>자치구</th>\n",
              "      <th>세대</th>\n",
              "      <th>인구총계</th>\n",
              "      <th>남자총계</th>\n",
              "      <th>여자총계</th>\n",
              "      <th>한국인총계</th>\n",
              "      <th>한국인남자</th>\n",
              "      <th>한국인여자</th>\n",
              "      <th>외국인총계</th>\n",
              "      <th>외국인남자</th>\n",
              "      <th>외국인여자</th>\n",
              "      <th>세대당인구</th>\n",
              "      <th>65세이상고령자</th>\n",
              "    </tr>\n",
              "  </thead>\n",
              "  <tbody>\n",
              "    <tr>\n",
              "      <th>0</th>\n",
              "      <td>기간</td>\n",
              "      <td>자치구</td>\n",
              "      <td>세대</td>\n",
              "      <td>합계</td>\n",
              "      <td>합계</td>\n",
              "      <td>합계</td>\n",
              "      <td>한국인</td>\n",
              "      <td>한국인</td>\n",
              "      <td>한국인</td>\n",
              "      <td>등록외국인</td>\n",
              "      <td>등록외국인</td>\n",
              "      <td>등록외국인</td>\n",
              "      <td>세대당인구</td>\n",
              "      <td>65세이상고령자</td>\n",
              "    </tr>\n",
              "    <tr>\n",
              "      <th>1</th>\n",
              "      <td>기간</td>\n",
              "      <td>자치구</td>\n",
              "      <td>세대</td>\n",
              "      <td>계</td>\n",
              "      <td>남자</td>\n",
              "      <td>여자</td>\n",
              "      <td>계</td>\n",
              "      <td>남자</td>\n",
              "      <td>여자</td>\n",
              "      <td>계</td>\n",
              "      <td>남자</td>\n",
              "      <td>여자</td>\n",
              "      <td>세대당인구</td>\n",
              "      <td>65세이상고령자</td>\n",
              "    </tr>\n",
              "    <tr>\n",
              "      <th>2</th>\n",
              "      <td>2021.2/4</td>\n",
              "      <td>합계</td>\n",
              "      <td>4,405,638</td>\n",
              "      <td>9,795,426</td>\n",
              "      <td>4,756,178</td>\n",
              "      <td>5,039,248</td>\n",
              "      <td>9,565,990</td>\n",
              "      <td>4,649,442</td>\n",
              "      <td>4,916,548</td>\n",
              "      <td>229,436</td>\n",
              "      <td>106,736</td>\n",
              "      <td>122,700</td>\n",
              "      <td>2.17</td>\n",
              "      <td>1,576,971</td>\n",
              "    </tr>\n",
              "    <tr>\n",
              "      <th>3</th>\n",
              "      <td>2021.2/4</td>\n",
              "      <td>종로구</td>\n",
              "      <td>73,525</td>\n",
              "      <td>155,106</td>\n",
              "      <td>75,009</td>\n",
              "      <td>80,097</td>\n",
              "      <td>146,029</td>\n",
              "      <td>70,985</td>\n",
              "      <td>75,044</td>\n",
              "      <td>9,077</td>\n",
              "      <td>4,024</td>\n",
              "      <td>5,053</td>\n",
              "      <td>1.99</td>\n",
              "      <td>27,605</td>\n",
              "    </tr>\n",
              "    <tr>\n",
              "      <th>4</th>\n",
              "      <td>2021.2/4</td>\n",
              "      <td>중구</td>\n",
              "      <td>62,897</td>\n",
              "      <td>132,259</td>\n",
              "      <td>64,526</td>\n",
              "      <td>67,733</td>\n",
              "      <td>123,016</td>\n",
              "      <td>60,019</td>\n",
              "      <td>62,997</td>\n",
              "      <td>9,243</td>\n",
              "      <td>4,507</td>\n",
              "      <td>4,736</td>\n",
              "      <td>1.96</td>\n",
              "      <td>23,980</td>\n",
              "    </tr>\n",
              "  </tbody>\n",
              "</table>\n",
              "</div>"
            ],
            "text/plain": [
              "         기간  자치구         세대       인구총계  ...    외국인남자    외국인여자  세대당인구   65세이상고령자\n",
              "0        기간  자치구         세대         합계  ...    등록외국인    등록외국인  세대당인구   65세이상고령자\n",
              "1        기간  자치구         세대          계  ...       남자       여자  세대당인구   65세이상고령자\n",
              "2  2021.2/4   합계  4,405,638  9,795,426  ...  106,736  122,700   2.17  1,576,971\n",
              "3  2021.2/4  종로구     73,525    155,106  ...    4,024    5,053   1.99     27,605\n",
              "4  2021.2/4   중구     62,897    132,259  ...    4,507    4,736   1.96     23,980\n",
              "\n",
              "[5 rows x 14 columns]"
            ]
          },
          "metadata": {},
          "execution_count": 12
        }
      ]
    },
    {
      "cell_type": "code",
      "metadata": {
        "colab": {
          "base_uri": "https://localhost:8080/",
          "height": 204
        },
        "id": "h0M1IipK1Kse",
        "outputId": "9ffd2fdf-4b62-4159-ad14-80dd775968a7"
      },
      "source": [
        "seoul_pop.drop(index=[0,1], inplace=True)\n",
        "seoul_pop.head()"
      ],
      "execution_count": 13,
      "outputs": [
        {
          "output_type": "execute_result",
          "data": {
            "text/html": [
              "<div>\n",
              "<style scoped>\n",
              "    .dataframe tbody tr th:only-of-type {\n",
              "        vertical-align: middle;\n",
              "    }\n",
              "\n",
              "    .dataframe tbody tr th {\n",
              "        vertical-align: top;\n",
              "    }\n",
              "\n",
              "    .dataframe thead th {\n",
              "        text-align: right;\n",
              "    }\n",
              "</style>\n",
              "<table border=\"1\" class=\"dataframe\">\n",
              "  <thead>\n",
              "    <tr style=\"text-align: right;\">\n",
              "      <th></th>\n",
              "      <th>기간</th>\n",
              "      <th>자치구</th>\n",
              "      <th>세대</th>\n",
              "      <th>인구총계</th>\n",
              "      <th>남자총계</th>\n",
              "      <th>여자총계</th>\n",
              "      <th>한국인총계</th>\n",
              "      <th>한국인남자</th>\n",
              "      <th>한국인여자</th>\n",
              "      <th>외국인총계</th>\n",
              "      <th>외국인남자</th>\n",
              "      <th>외국인여자</th>\n",
              "      <th>세대당인구</th>\n",
              "      <th>65세이상고령자</th>\n",
              "    </tr>\n",
              "  </thead>\n",
              "  <tbody>\n",
              "    <tr>\n",
              "      <th>2</th>\n",
              "      <td>2021.2/4</td>\n",
              "      <td>합계</td>\n",
              "      <td>4,405,638</td>\n",
              "      <td>9,795,426</td>\n",
              "      <td>4,756,178</td>\n",
              "      <td>5,039,248</td>\n",
              "      <td>9,565,990</td>\n",
              "      <td>4,649,442</td>\n",
              "      <td>4,916,548</td>\n",
              "      <td>229,436</td>\n",
              "      <td>106,736</td>\n",
              "      <td>122,700</td>\n",
              "      <td>2.17</td>\n",
              "      <td>1,576,971</td>\n",
              "    </tr>\n",
              "    <tr>\n",
              "      <th>3</th>\n",
              "      <td>2021.2/4</td>\n",
              "      <td>종로구</td>\n",
              "      <td>73,525</td>\n",
              "      <td>155,106</td>\n",
              "      <td>75,009</td>\n",
              "      <td>80,097</td>\n",
              "      <td>146,029</td>\n",
              "      <td>70,985</td>\n",
              "      <td>75,044</td>\n",
              "      <td>9,077</td>\n",
              "      <td>4,024</td>\n",
              "      <td>5,053</td>\n",
              "      <td>1.99</td>\n",
              "      <td>27,605</td>\n",
              "    </tr>\n",
              "    <tr>\n",
              "      <th>4</th>\n",
              "      <td>2021.2/4</td>\n",
              "      <td>중구</td>\n",
              "      <td>62,897</td>\n",
              "      <td>132,259</td>\n",
              "      <td>64,526</td>\n",
              "      <td>67,733</td>\n",
              "      <td>123,016</td>\n",
              "      <td>60,019</td>\n",
              "      <td>62,997</td>\n",
              "      <td>9,243</td>\n",
              "      <td>4,507</td>\n",
              "      <td>4,736</td>\n",
              "      <td>1.96</td>\n",
              "      <td>23,980</td>\n",
              "    </tr>\n",
              "    <tr>\n",
              "      <th>5</th>\n",
              "      <td>2021.2/4</td>\n",
              "      <td>용산구</td>\n",
              "      <td>111,650</td>\n",
              "      <td>240,665</td>\n",
              "      <td>116,858</td>\n",
              "      <td>123,807</td>\n",
              "      <td>226,378</td>\n",
              "      <td>108,948</td>\n",
              "      <td>117,430</td>\n",
              "      <td>14,287</td>\n",
              "      <td>7,910</td>\n",
              "      <td>6,377</td>\n",
              "      <td>2.03</td>\n",
              "      <td>38,884</td>\n",
              "    </tr>\n",
              "    <tr>\n",
              "      <th>6</th>\n",
              "      <td>2021.2/4</td>\n",
              "      <td>성동구</td>\n",
              "      <td>134,542</td>\n",
              "      <td>295,767</td>\n",
              "      <td>143,927</td>\n",
              "      <td>151,840</td>\n",
              "      <td>289,162</td>\n",
              "      <td>141,042</td>\n",
              "      <td>148,120</td>\n",
              "      <td>6,605</td>\n",
              "      <td>2,885</td>\n",
              "      <td>3,720</td>\n",
              "      <td>2.15</td>\n",
              "      <td>45,591</td>\n",
              "    </tr>\n",
              "  </tbody>\n",
              "</table>\n",
              "</div>"
            ],
            "text/plain": [
              "         기간  자치구         세대       인구총계  ...    외국인남자    외국인여자 세대당인구   65세이상고령자\n",
              "2  2021.2/4   합계  4,405,638  9,795,426  ...  106,736  122,700  2.17  1,576,971\n",
              "3  2021.2/4  종로구     73,525    155,106  ...    4,024    5,053  1.99     27,605\n",
              "4  2021.2/4   중구     62,897    132,259  ...    4,507    4,736  1.96     23,980\n",
              "5  2021.2/4  용산구    111,650    240,665  ...    7,910    6,377  2.03     38,884\n",
              "6  2021.2/4  성동구    134,542    295,767  ...    2,885    3,720  2.15     45,591\n",
              "\n",
              "[5 rows x 14 columns]"
            ]
          },
          "metadata": {},
          "execution_count": 13
        }
      ]
    },
    {
      "cell_type": "code",
      "metadata": {
        "id": "6FfSw58Z21E_"
      },
      "source": [
        "seoul_pop.세대 = seoul_pop['세대'].str.replace(',', '').astype('int')\n",
        "seoul_pop.인구총계 = seoul_pop['인구총계'].str.replace(',', '').astype('int')\n",
        "seoul_pop.남자총계 = seoul_pop['남자총계'].str.replace(',', '').astype('int')\n",
        "seoul_pop.여자총계 = seoul_pop['여자총계'].str.replace(',', '').astype('int')\n",
        "seoul_pop.한국인총계 = seoul_pop['한국인총계'].str.replace(',', '').astype('int')\n",
        "seoul_pop.한국인남자 = seoul_pop['한국인남자'].str.replace(',', '').astype('int')\n",
        "seoul_pop.한국인여자 = seoul_pop['한국인여자'].str.replace(',', '').astype('int')\n",
        "seoul_pop.외국인총계 = seoul_pop['외국인총계'].str.replace(',', '').astype('int')\n",
        "seoul_pop.외국인남자 = seoul_pop['외국인남자'].str.replace(',', '').astype('int')\n",
        "seoul_pop.외국인여자 = seoul_pop['외국인여자'].str.replace(',', '').astype('int')\n",
        "seoul_pop.세대당인구 = seoul_pop['세대당인구'].str.replace(',', '').astype('float')\n",
        "seoul_pop['65세이상고령자'] = seoul_pop['65세이상고령자'].str.replace(',', '').astype('int')"
      ],
      "execution_count": 14,
      "outputs": []
    },
    {
      "cell_type": "code",
      "metadata": {
        "id": "WlYmGCRWSNqZ"
      },
      "source": [
        "for column in seoul_pop.columns[1:]:\n",
        "  seoul_pop[column] = "
      ],
      "execution_count": null,
      "outputs": []
    },
    {
      "cell_type": "code",
      "metadata": {
        "colab": {
          "base_uri": "https://localhost:8080/",
          "height": 204
        },
        "id": "Ipw5hTDv7tU8",
        "outputId": "47824b3e-9de3-4ac5-c52f-a90fa6eb5813"
      },
      "source": [
        "seoul_pop.head()"
      ],
      "execution_count": 15,
      "outputs": [
        {
          "output_type": "execute_result",
          "data": {
            "text/html": [
              "<div>\n",
              "<style scoped>\n",
              "    .dataframe tbody tr th:only-of-type {\n",
              "        vertical-align: middle;\n",
              "    }\n",
              "\n",
              "    .dataframe tbody tr th {\n",
              "        vertical-align: top;\n",
              "    }\n",
              "\n",
              "    .dataframe thead th {\n",
              "        text-align: right;\n",
              "    }\n",
              "</style>\n",
              "<table border=\"1\" class=\"dataframe\">\n",
              "  <thead>\n",
              "    <tr style=\"text-align: right;\">\n",
              "      <th></th>\n",
              "      <th>기간</th>\n",
              "      <th>자치구</th>\n",
              "      <th>세대</th>\n",
              "      <th>인구총계</th>\n",
              "      <th>남자총계</th>\n",
              "      <th>여자총계</th>\n",
              "      <th>한국인총계</th>\n",
              "      <th>한국인남자</th>\n",
              "      <th>한국인여자</th>\n",
              "      <th>외국인총계</th>\n",
              "      <th>외국인남자</th>\n",
              "      <th>외국인여자</th>\n",
              "      <th>세대당인구</th>\n",
              "      <th>65세이상고령자</th>\n",
              "    </tr>\n",
              "  </thead>\n",
              "  <tbody>\n",
              "    <tr>\n",
              "      <th>2</th>\n",
              "      <td>2021.2/4</td>\n",
              "      <td>합계</td>\n",
              "      <td>4405638</td>\n",
              "      <td>9795426</td>\n",
              "      <td>4756178</td>\n",
              "      <td>5039248</td>\n",
              "      <td>9565990</td>\n",
              "      <td>4649442</td>\n",
              "      <td>4916548</td>\n",
              "      <td>229436</td>\n",
              "      <td>106736</td>\n",
              "      <td>122700</td>\n",
              "      <td>2.17</td>\n",
              "      <td>1576971</td>\n",
              "    </tr>\n",
              "    <tr>\n",
              "      <th>3</th>\n",
              "      <td>2021.2/4</td>\n",
              "      <td>종로구</td>\n",
              "      <td>73525</td>\n",
              "      <td>155106</td>\n",
              "      <td>75009</td>\n",
              "      <td>80097</td>\n",
              "      <td>146029</td>\n",
              "      <td>70985</td>\n",
              "      <td>75044</td>\n",
              "      <td>9077</td>\n",
              "      <td>4024</td>\n",
              "      <td>5053</td>\n",
              "      <td>1.99</td>\n",
              "      <td>27605</td>\n",
              "    </tr>\n",
              "    <tr>\n",
              "      <th>4</th>\n",
              "      <td>2021.2/4</td>\n",
              "      <td>중구</td>\n",
              "      <td>62897</td>\n",
              "      <td>132259</td>\n",
              "      <td>64526</td>\n",
              "      <td>67733</td>\n",
              "      <td>123016</td>\n",
              "      <td>60019</td>\n",
              "      <td>62997</td>\n",
              "      <td>9243</td>\n",
              "      <td>4507</td>\n",
              "      <td>4736</td>\n",
              "      <td>1.96</td>\n",
              "      <td>23980</td>\n",
              "    </tr>\n",
              "    <tr>\n",
              "      <th>5</th>\n",
              "      <td>2021.2/4</td>\n",
              "      <td>용산구</td>\n",
              "      <td>111650</td>\n",
              "      <td>240665</td>\n",
              "      <td>116858</td>\n",
              "      <td>123807</td>\n",
              "      <td>226378</td>\n",
              "      <td>108948</td>\n",
              "      <td>117430</td>\n",
              "      <td>14287</td>\n",
              "      <td>7910</td>\n",
              "      <td>6377</td>\n",
              "      <td>2.03</td>\n",
              "      <td>38884</td>\n",
              "    </tr>\n",
              "    <tr>\n",
              "      <th>6</th>\n",
              "      <td>2021.2/4</td>\n",
              "      <td>성동구</td>\n",
              "      <td>134542</td>\n",
              "      <td>295767</td>\n",
              "      <td>143927</td>\n",
              "      <td>151840</td>\n",
              "      <td>289162</td>\n",
              "      <td>141042</td>\n",
              "      <td>148120</td>\n",
              "      <td>6605</td>\n",
              "      <td>2885</td>\n",
              "      <td>3720</td>\n",
              "      <td>2.15</td>\n",
              "      <td>45591</td>\n",
              "    </tr>\n",
              "  </tbody>\n",
              "</table>\n",
              "</div>"
            ],
            "text/plain": [
              "         기간  자치구       세대     인구총계  ...   외국인남자   외국인여자  세대당인구  65세이상고령자\n",
              "2  2021.2/4   합계  4405638  9795426  ...  106736  122700   2.17   1576971\n",
              "3  2021.2/4  종로구    73525   155106  ...    4024    5053   1.99     27605\n",
              "4  2021.2/4   중구    62897   132259  ...    4507    4736   1.96     23980\n",
              "5  2021.2/4  용산구   111650   240665  ...    7910    6377   2.03     38884\n",
              "6  2021.2/4  성동구   134542   295767  ...    2885    3720   2.15     45591\n",
              "\n",
              "[5 rows x 14 columns]"
            ]
          },
          "metadata": {},
          "execution_count": 15
        }
      ]
    },
    {
      "cell_type": "code",
      "metadata": {
        "colab": {
          "base_uri": "https://localhost:8080/"
        },
        "id": "o-BpAwf56t_9",
        "outputId": "e5f0d1ec-6b8a-42ad-bdf0-35f08818610f"
      },
      "source": [
        "seoul_pop.dtypes"
      ],
      "execution_count": 16,
      "outputs": [
        {
          "output_type": "execute_result",
          "data": {
            "text/plain": [
              "기간           object\n",
              "자치구          object\n",
              "세대            int64\n",
              "인구총계          int64\n",
              "남자총계          int64\n",
              "여자총계          int64\n",
              "한국인총계         int64\n",
              "한국인남자         int64\n",
              "한국인여자         int64\n",
              "외국인총계         int64\n",
              "외국인남자         int64\n",
              "외국인여자         int64\n",
              "세대당인구       float64\n",
              "65세이상고령자      int64\n",
              "dtype: object"
            ]
          },
          "metadata": {},
          "execution_count": 16
        }
      ]
    },
    {
      "cell_type": "code",
      "metadata": {
        "id": "HIGzjMuOAYWI"
      },
      "source": [
        "sp_1 = seoul_pop.pivot_table(['외국인총계','65세이상고령자'], index=['자치구'])\n",
        "sp_1.reset_index(inplace=True)"
      ],
      "execution_count": 17,
      "outputs": []
    },
    {
      "cell_type": "code",
      "metadata": {
        "colab": {
          "base_uri": "https://localhost:8080/",
          "height": 855
        },
        "id": "Nu4vqcN3CR1C",
        "outputId": "98cbd220-09bc-4638-9172-c5cabab2bc70"
      },
      "source": [
        "sp_1"
      ],
      "execution_count": 18,
      "outputs": [
        {
          "output_type": "execute_result",
          "data": {
            "text/html": [
              "<div>\n",
              "<style scoped>\n",
              "    .dataframe tbody tr th:only-of-type {\n",
              "        vertical-align: middle;\n",
              "    }\n",
              "\n",
              "    .dataframe tbody tr th {\n",
              "        vertical-align: top;\n",
              "    }\n",
              "\n",
              "    .dataframe thead th {\n",
              "        text-align: right;\n",
              "    }\n",
              "</style>\n",
              "<table border=\"1\" class=\"dataframe\">\n",
              "  <thead>\n",
              "    <tr style=\"text-align: right;\">\n",
              "      <th></th>\n",
              "      <th>자치구</th>\n",
              "      <th>65세이상고령자</th>\n",
              "      <th>외국인총계</th>\n",
              "    </tr>\n",
              "  </thead>\n",
              "  <tbody>\n",
              "    <tr>\n",
              "      <th>0</th>\n",
              "      <td>강남구</td>\n",
              "      <td>76184</td>\n",
              "      <td>4732</td>\n",
              "    </tr>\n",
              "    <tr>\n",
              "      <th>1</th>\n",
              "      <td>강동구</td>\n",
              "      <td>72275</td>\n",
              "      <td>3885</td>\n",
              "    </tr>\n",
              "    <tr>\n",
              "      <th>2</th>\n",
              "      <td>강북구</td>\n",
              "      <td>63383</td>\n",
              "      <td>3448</td>\n",
              "    </tr>\n",
              "    <tr>\n",
              "      <th>3</th>\n",
              "      <td>강서구</td>\n",
              "      <td>90404</td>\n",
              "      <td>5476</td>\n",
              "    </tr>\n",
              "    <tr>\n",
              "      <th>4</th>\n",
              "      <td>관악구</td>\n",
              "      <td>78647</td>\n",
              "      <td>13898</td>\n",
              "    </tr>\n",
              "    <tr>\n",
              "      <th>5</th>\n",
              "      <td>광진구</td>\n",
              "      <td>50815</td>\n",
              "      <td>12825</td>\n",
              "    </tr>\n",
              "    <tr>\n",
              "      <th>6</th>\n",
              "      <td>구로구</td>\n",
              "      <td>71186</td>\n",
              "      <td>25316</td>\n",
              "    </tr>\n",
              "    <tr>\n",
              "      <th>7</th>\n",
              "      <td>금천구</td>\n",
              "      <td>40181</td>\n",
              "      <td>14517</td>\n",
              "    </tr>\n",
              "    <tr>\n",
              "      <th>8</th>\n",
              "      <td>노원구</td>\n",
              "      <td>86697</td>\n",
              "      <td>4008</td>\n",
              "    </tr>\n",
              "    <tr>\n",
              "      <th>9</th>\n",
              "      <td>도봉구</td>\n",
              "      <td>62894</td>\n",
              "      <td>2054</td>\n",
              "    </tr>\n",
              "    <tr>\n",
              "      <th>10</th>\n",
              "      <td>동대문구</td>\n",
              "      <td>61262</td>\n",
              "      <td>14219</td>\n",
              "    </tr>\n",
              "    <tr>\n",
              "      <th>11</th>\n",
              "      <td>동작구</td>\n",
              "      <td>65732</td>\n",
              "      <td>9384</td>\n",
              "    </tr>\n",
              "    <tr>\n",
              "      <th>12</th>\n",
              "      <td>마포구</td>\n",
              "      <td>53891</td>\n",
              "      <td>9852</td>\n",
              "    </tr>\n",
              "    <tr>\n",
              "      <th>13</th>\n",
              "      <td>서대문구</td>\n",
              "      <td>53627</td>\n",
              "      <td>10629</td>\n",
              "    </tr>\n",
              "    <tr>\n",
              "      <th>14</th>\n",
              "      <td>서초구</td>\n",
              "      <td>60395</td>\n",
              "      <td>3767</td>\n",
              "    </tr>\n",
              "    <tr>\n",
              "      <th>15</th>\n",
              "      <td>성동구</td>\n",
              "      <td>45591</td>\n",
              "      <td>6605</td>\n",
              "    </tr>\n",
              "    <tr>\n",
              "      <th>16</th>\n",
              "      <td>성북구</td>\n",
              "      <td>73568</td>\n",
              "      <td>9548</td>\n",
              "    </tr>\n",
              "    <tr>\n",
              "      <th>17</th>\n",
              "      <td>송파구</td>\n",
              "      <td>95164</td>\n",
              "      <td>5671</td>\n",
              "    </tr>\n",
              "    <tr>\n",
              "      <th>18</th>\n",
              "      <td>양천구</td>\n",
              "      <td>66942</td>\n",
              "      <td>3296</td>\n",
              "    </tr>\n",
              "    <tr>\n",
              "      <th>19</th>\n",
              "      <td>영등포구</td>\n",
              "      <td>61571</td>\n",
              "      <td>24954</td>\n",
              "    </tr>\n",
              "    <tr>\n",
              "      <th>20</th>\n",
              "      <td>용산구</td>\n",
              "      <td>38884</td>\n",
              "      <td>14287</td>\n",
              "    </tr>\n",
              "    <tr>\n",
              "      <th>21</th>\n",
              "      <td>은평구</td>\n",
              "      <td>85921</td>\n",
              "      <td>4038</td>\n",
              "    </tr>\n",
              "    <tr>\n",
              "      <th>22</th>\n",
              "      <td>종로구</td>\n",
              "      <td>27605</td>\n",
              "      <td>9077</td>\n",
              "    </tr>\n",
              "    <tr>\n",
              "      <th>23</th>\n",
              "      <td>중구</td>\n",
              "      <td>23980</td>\n",
              "      <td>9243</td>\n",
              "    </tr>\n",
              "    <tr>\n",
              "      <th>24</th>\n",
              "      <td>중랑구</td>\n",
              "      <td>70172</td>\n",
              "      <td>4707</td>\n",
              "    </tr>\n",
              "    <tr>\n",
              "      <th>25</th>\n",
              "      <td>합계</td>\n",
              "      <td>1576971</td>\n",
              "      <td>229436</td>\n",
              "    </tr>\n",
              "  </tbody>\n",
              "</table>\n",
              "</div>"
            ],
            "text/plain": [
              "     자치구  65세이상고령자   외국인총계\n",
              "0    강남구     76184    4732\n",
              "1    강동구     72275    3885\n",
              "2    강북구     63383    3448\n",
              "3    강서구     90404    5476\n",
              "4    관악구     78647   13898\n",
              "5    광진구     50815   12825\n",
              "6    구로구     71186   25316\n",
              "7    금천구     40181   14517\n",
              "8    노원구     86697    4008\n",
              "9    도봉구     62894    2054\n",
              "10  동대문구     61262   14219\n",
              "11   동작구     65732    9384\n",
              "12   마포구     53891    9852\n",
              "13  서대문구     53627   10629\n",
              "14   서초구     60395    3767\n",
              "15   성동구     45591    6605\n",
              "16   성북구     73568    9548\n",
              "17   송파구     95164    5671\n",
              "18   양천구     66942    3296\n",
              "19  영등포구     61571   24954\n",
              "20   용산구     38884   14287\n",
              "21   은평구     85921    4038\n",
              "22   종로구     27605    9077\n",
              "23    중구     23980    9243\n",
              "24   중랑구     70172    4707\n",
              "25    합계   1576971  229436"
            ]
          },
          "metadata": {},
          "execution_count": 18
        }
      ]
    },
    {
      "cell_type": "code",
      "metadata": {
        "colab": {
          "base_uri": "https://localhost:8080/",
          "height": 204
        },
        "id": "VZNBkNLzG11n",
        "outputId": "f70a0a02-e4aa-4b27-a717-30333adca3e2"
      },
      "source": [
        "sp_1.drop(index=[25], inplace=True)\n",
        "sp_1.tail()"
      ],
      "execution_count": 22,
      "outputs": [
        {
          "output_type": "execute_result",
          "data": {
            "text/html": [
              "<div>\n",
              "<style scoped>\n",
              "    .dataframe tbody tr th:only-of-type {\n",
              "        vertical-align: middle;\n",
              "    }\n",
              "\n",
              "    .dataframe tbody tr th {\n",
              "        vertical-align: top;\n",
              "    }\n",
              "\n",
              "    .dataframe thead th {\n",
              "        text-align: right;\n",
              "    }\n",
              "</style>\n",
              "<table border=\"1\" class=\"dataframe\">\n",
              "  <thead>\n",
              "    <tr style=\"text-align: right;\">\n",
              "      <th></th>\n",
              "      <th>자치구</th>\n",
              "      <th>65세이상고령자</th>\n",
              "      <th>외국인총계</th>\n",
              "    </tr>\n",
              "  </thead>\n",
              "  <tbody>\n",
              "    <tr>\n",
              "      <th>20</th>\n",
              "      <td>용산구</td>\n",
              "      <td>38884</td>\n",
              "      <td>14287</td>\n",
              "    </tr>\n",
              "    <tr>\n",
              "      <th>21</th>\n",
              "      <td>은평구</td>\n",
              "      <td>85921</td>\n",
              "      <td>4038</td>\n",
              "    </tr>\n",
              "    <tr>\n",
              "      <th>22</th>\n",
              "      <td>종로구</td>\n",
              "      <td>27605</td>\n",
              "      <td>9077</td>\n",
              "    </tr>\n",
              "    <tr>\n",
              "      <th>23</th>\n",
              "      <td>중구</td>\n",
              "      <td>23980</td>\n",
              "      <td>9243</td>\n",
              "    </tr>\n",
              "    <tr>\n",
              "      <th>24</th>\n",
              "      <td>중랑구</td>\n",
              "      <td>70172</td>\n",
              "      <td>4707</td>\n",
              "    </tr>\n",
              "  </tbody>\n",
              "</table>\n",
              "</div>"
            ],
            "text/plain": [
              "    자치구  65세이상고령자  외국인총계\n",
              "20  용산구     38884  14287\n",
              "21  은평구     85921   4038\n",
              "22  종로구     27605   9077\n",
              "23   중구     23980   9243\n",
              "24  중랑구     70172   4707"
            ]
          },
          "metadata": {},
          "execution_count": 22
        }
      ]
    },
    {
      "cell_type": "code",
      "metadata": {
        "colab": {
          "base_uri": "https://localhost:8080/",
          "height": 855
        },
        "id": "9pqCqNctBI_d",
        "outputId": "c8602f0b-1a9e-4c96-81b8-f230ddb969b8"
      },
      "source": [
        "sc_1 = seoul_cctv.pivot_table(['2017년', '2020년'], index=['자치구'])\n",
        "sc_1.reset_index(inplace=True)\n",
        "sc_1"
      ],
      "execution_count": 30,
      "outputs": [
        {
          "output_type": "execute_result",
          "data": {
            "text/html": [
              "<div>\n",
              "<style scoped>\n",
              "    .dataframe tbody tr th:only-of-type {\n",
              "        vertical-align: middle;\n",
              "    }\n",
              "\n",
              "    .dataframe tbody tr th {\n",
              "        vertical-align: top;\n",
              "    }\n",
              "\n",
              "    .dataframe thead th {\n",
              "        text-align: right;\n",
              "    }\n",
              "</style>\n",
              "<table border=\"1\" class=\"dataframe\">\n",
              "  <thead>\n",
              "    <tr style=\"text-align: right;\">\n",
              "      <th></th>\n",
              "      <th>자치구</th>\n",
              "      <th>2017년</th>\n",
              "      <th>2020년</th>\n",
              "    </tr>\n",
              "  </thead>\n",
              "  <tbody>\n",
              "    <tr>\n",
              "      <th>0</th>\n",
              "      <td>강남구</td>\n",
              "      <td>999</td>\n",
              "      <td>942</td>\n",
              "    </tr>\n",
              "    <tr>\n",
              "      <th>1</th>\n",
              "      <td>강동구</td>\n",
              "      <td>273</td>\n",
              "      <td>614</td>\n",
              "    </tr>\n",
              "    <tr>\n",
              "      <th>2</th>\n",
              "      <td>강북구</td>\n",
              "      <td>6</td>\n",
              "      <td>588</td>\n",
              "    </tr>\n",
              "    <tr>\n",
              "      <th>3</th>\n",
              "      <td>강서구</td>\n",
              "      <td>506</td>\n",
              "      <td>356</td>\n",
              "    </tr>\n",
              "    <tr>\n",
              "      <th>4</th>\n",
              "      <td>관악구</td>\n",
              "      <td>687</td>\n",
              "      <td>331</td>\n",
              "    </tr>\n",
              "    <tr>\n",
              "      <th>5</th>\n",
              "      <td>광진구</td>\n",
              "      <td>675</td>\n",
              "      <td>175</td>\n",
              "    </tr>\n",
              "    <tr>\n",
              "      <th>6</th>\n",
              "      <td>구로구</td>\n",
              "      <td>540</td>\n",
              "      <td>415</td>\n",
              "    </tr>\n",
              "    <tr>\n",
              "      <th>7</th>\n",
              "      <td>금천구</td>\n",
              "      <td>196</td>\n",
              "      <td>508</td>\n",
              "    </tr>\n",
              "    <tr>\n",
              "      <th>8</th>\n",
              "      <td>노원구</td>\n",
              "      <td>175</td>\n",
              "      <td>386</td>\n",
              "    </tr>\n",
              "    <tr>\n",
              "      <th>9</th>\n",
              "      <td>도봉구</td>\n",
              "      <td>134</td>\n",
              "      <td>168</td>\n",
              "    </tr>\n",
              "    <tr>\n",
              "      <th>10</th>\n",
              "      <td>동대문구</td>\n",
              "      <td>136</td>\n",
              "      <td>223</td>\n",
              "    </tr>\n",
              "    <tr>\n",
              "      <th>11</th>\n",
              "      <td>동작구</td>\n",
              "      <td>271</td>\n",
              "      <td>419</td>\n",
              "    </tr>\n",
              "    <tr>\n",
              "      <th>12</th>\n",
              "      <td>마포구</td>\n",
              "      <td>359</td>\n",
              "      <td>300</td>\n",
              "    </tr>\n",
              "    <tr>\n",
              "      <th>13</th>\n",
              "      <td>서대문구</td>\n",
              "      <td>356</td>\n",
              "      <td>397</td>\n",
              "    </tr>\n",
              "    <tr>\n",
              "      <th>14</th>\n",
              "      <td>서초구</td>\n",
              "      <td>1060</td>\n",
              "      <td>420</td>\n",
              "    </tr>\n",
              "    <tr>\n",
              "      <th>15</th>\n",
              "      <td>성동구</td>\n",
              "      <td>874</td>\n",
              "      <td>461</td>\n",
              "    </tr>\n",
              "    <tr>\n",
              "      <th>16</th>\n",
              "      <td>성북구</td>\n",
              "      <td>460</td>\n",
              "      <td>251</td>\n",
              "    </tr>\n",
              "    <tr>\n",
              "      <th>17</th>\n",
              "      <td>송파구</td>\n",
              "      <td>241</td>\n",
              "      <td>235</td>\n",
              "    </tr>\n",
              "    <tr>\n",
              "      <th>18</th>\n",
              "      <td>양천구</td>\n",
              "      <td>139</td>\n",
              "      <td>325</td>\n",
              "    </tr>\n",
              "    <tr>\n",
              "      <th>19</th>\n",
              "      <td>영등포구</td>\n",
              "      <td>311</td>\n",
              "      <td>1213</td>\n",
              "    </tr>\n",
              "    <tr>\n",
              "      <th>20</th>\n",
              "      <td>용산구</td>\n",
              "      <td>351</td>\n",
              "      <td>617</td>\n",
              "    </tr>\n",
              "    <tr>\n",
              "      <th>21</th>\n",
              "      <td>은평구</td>\n",
              "      <td>403</td>\n",
              "      <td>288</td>\n",
              "    </tr>\n",
              "    <tr>\n",
              "      <th>22</th>\n",
              "      <td>종로구</td>\n",
              "      <td>261</td>\n",
              "      <td>200</td>\n",
              "    </tr>\n",
              "    <tr>\n",
              "      <th>23</th>\n",
              "      <td>중구</td>\n",
              "      <td>372</td>\n",
              "      <td>361</td>\n",
              "    </tr>\n",
              "    <tr>\n",
              "      <th>24</th>\n",
              "      <td>중랑구</td>\n",
              "      <td>162</td>\n",
              "      <td>939</td>\n",
              "    </tr>\n",
              "    <tr>\n",
              "      <th>25</th>\n",
              "      <td>합계</td>\n",
              "      <td>9947</td>\n",
              "      <td>11132</td>\n",
              "    </tr>\n",
              "  </tbody>\n",
              "</table>\n",
              "</div>"
            ],
            "text/plain": [
              "     자치구  2017년  2020년\n",
              "0    강남구    999    942\n",
              "1    강동구    273    614\n",
              "2    강북구      6    588\n",
              "3    강서구    506    356\n",
              "4    관악구    687    331\n",
              "5    광진구    675    175\n",
              "6    구로구    540    415\n",
              "7    금천구    196    508\n",
              "8    노원구    175    386\n",
              "9    도봉구    134    168\n",
              "10  동대문구    136    223\n",
              "11   동작구    271    419\n",
              "12   마포구    359    300\n",
              "13  서대문구    356    397\n",
              "14   서초구   1060    420\n",
              "15   성동구    874    461\n",
              "16   성북구    460    251\n",
              "17   송파구    241    235\n",
              "18   양천구    139    325\n",
              "19  영등포구    311   1213\n",
              "20   용산구    351    617\n",
              "21   은평구    403    288\n",
              "22   종로구    261    200\n",
              "23    중구    372    361\n",
              "24   중랑구    162    939\n",
              "25    합계   9947  11132"
            ]
          },
          "metadata": {},
          "execution_count": 30
        }
      ]
    },
    {
      "cell_type": "code",
      "metadata": {
        "colab": {
          "base_uri": "https://localhost:8080/",
          "height": 204
        },
        "id": "McqBgIAuHF5_",
        "outputId": "df232c9f-27b3-4b09-e7d0-1901b00c13bc"
      },
      "source": [
        "sc_1.drop(index=[25], inplace=True)\n",
        "sc_1.tail()"
      ],
      "execution_count": 31,
      "outputs": [
        {
          "output_type": "execute_result",
          "data": {
            "text/html": [
              "<div>\n",
              "<style scoped>\n",
              "    .dataframe tbody tr th:only-of-type {\n",
              "        vertical-align: middle;\n",
              "    }\n",
              "\n",
              "    .dataframe tbody tr th {\n",
              "        vertical-align: top;\n",
              "    }\n",
              "\n",
              "    .dataframe thead th {\n",
              "        text-align: right;\n",
              "    }\n",
              "</style>\n",
              "<table border=\"1\" class=\"dataframe\">\n",
              "  <thead>\n",
              "    <tr style=\"text-align: right;\">\n",
              "      <th></th>\n",
              "      <th>자치구</th>\n",
              "      <th>2017년</th>\n",
              "      <th>2020년</th>\n",
              "    </tr>\n",
              "  </thead>\n",
              "  <tbody>\n",
              "    <tr>\n",
              "      <th>20</th>\n",
              "      <td>용산구</td>\n",
              "      <td>351</td>\n",
              "      <td>617</td>\n",
              "    </tr>\n",
              "    <tr>\n",
              "      <th>21</th>\n",
              "      <td>은평구</td>\n",
              "      <td>403</td>\n",
              "      <td>288</td>\n",
              "    </tr>\n",
              "    <tr>\n",
              "      <th>22</th>\n",
              "      <td>종로구</td>\n",
              "      <td>261</td>\n",
              "      <td>200</td>\n",
              "    </tr>\n",
              "    <tr>\n",
              "      <th>23</th>\n",
              "      <td>중구</td>\n",
              "      <td>372</td>\n",
              "      <td>361</td>\n",
              "    </tr>\n",
              "    <tr>\n",
              "      <th>24</th>\n",
              "      <td>중랑구</td>\n",
              "      <td>162</td>\n",
              "      <td>939</td>\n",
              "    </tr>\n",
              "  </tbody>\n",
              "</table>\n",
              "</div>"
            ],
            "text/plain": [
              "    자치구  2017년  2020년\n",
              "20  용산구    351    617\n",
              "21  은평구    403    288\n",
              "22  종로구    261    200\n",
              "23   중구    372    361\n",
              "24  중랑구    162    939"
            ]
          },
          "metadata": {},
          "execution_count": 31
        }
      ]
    },
    {
      "cell_type": "code",
      "metadata": {
        "colab": {
          "base_uri": "https://localhost:8080/",
          "height": 222
        },
        "id": "2yPVUAv9CBep",
        "outputId": "c978c195-ae35-4308-e11c-9eed9f4a1913"
      },
      "source": [
        "spsc = pd.merge(sc_1, sp_1, how='left', on='자치구')\n",
        "print(spsc.shape)\n",
        "spsc.head()"
      ],
      "execution_count": 32,
      "outputs": [
        {
          "output_type": "stream",
          "name": "stdout",
          "text": [
            "(25, 5)\n"
          ]
        },
        {
          "output_type": "execute_result",
          "data": {
            "text/html": [
              "<div>\n",
              "<style scoped>\n",
              "    .dataframe tbody tr th:only-of-type {\n",
              "        vertical-align: middle;\n",
              "    }\n",
              "\n",
              "    .dataframe tbody tr th {\n",
              "        vertical-align: top;\n",
              "    }\n",
              "\n",
              "    .dataframe thead th {\n",
              "        text-align: right;\n",
              "    }\n",
              "</style>\n",
              "<table border=\"1\" class=\"dataframe\">\n",
              "  <thead>\n",
              "    <tr style=\"text-align: right;\">\n",
              "      <th></th>\n",
              "      <th>자치구</th>\n",
              "      <th>2017년</th>\n",
              "      <th>2020년</th>\n",
              "      <th>65세이상고령자</th>\n",
              "      <th>외국인총계</th>\n",
              "    </tr>\n",
              "  </thead>\n",
              "  <tbody>\n",
              "    <tr>\n",
              "      <th>0</th>\n",
              "      <td>강남구</td>\n",
              "      <td>999</td>\n",
              "      <td>942</td>\n",
              "      <td>76184</td>\n",
              "      <td>4732</td>\n",
              "    </tr>\n",
              "    <tr>\n",
              "      <th>1</th>\n",
              "      <td>강동구</td>\n",
              "      <td>273</td>\n",
              "      <td>614</td>\n",
              "      <td>72275</td>\n",
              "      <td>3885</td>\n",
              "    </tr>\n",
              "    <tr>\n",
              "      <th>2</th>\n",
              "      <td>강북구</td>\n",
              "      <td>6</td>\n",
              "      <td>588</td>\n",
              "      <td>63383</td>\n",
              "      <td>3448</td>\n",
              "    </tr>\n",
              "    <tr>\n",
              "      <th>3</th>\n",
              "      <td>강서구</td>\n",
              "      <td>506</td>\n",
              "      <td>356</td>\n",
              "      <td>90404</td>\n",
              "      <td>5476</td>\n",
              "    </tr>\n",
              "    <tr>\n",
              "      <th>4</th>\n",
              "      <td>관악구</td>\n",
              "      <td>687</td>\n",
              "      <td>331</td>\n",
              "      <td>78647</td>\n",
              "      <td>13898</td>\n",
              "    </tr>\n",
              "  </tbody>\n",
              "</table>\n",
              "</div>"
            ],
            "text/plain": [
              "   자치구  2017년  2020년  65세이상고령자  외국인총계\n",
              "0  강남구    999    942     76184   4732\n",
              "1  강동구    273    614     72275   3885\n",
              "2  강북구      6    588     63383   3448\n",
              "3  강서구    506    356     90404   5476\n",
              "4  관악구    687    331     78647  13898"
            ]
          },
          "metadata": {},
          "execution_count": 32
        }
      ]
    },
    {
      "cell_type": "code",
      "metadata": {
        "id": "4Io-1k_CCrMU"
      },
      "source": [
        "spsc['17년고령인구cctv설치율'] = np.round((spsc['2017년']/spsc['65세이상고령자']) * 100, 2)\n",
        "spsc['20년고령인구cctv설치율'] = np.round((spsc['2020년']/spsc['65세이상고령자']) * 100, 2)\n",
        "spsc['17년외국인cctv설치율'] = np.round((spsc['2017년']/spsc['외국인총계']) * 100, 2)\n",
        "spsc['20년외국인cctv설치율'] = np.round((spsc['2020년']/spsc['외국인총계']) * 100, 2)"
      ],
      "execution_count": 38,
      "outputs": []
    },
    {
      "cell_type": "code",
      "metadata": {
        "colab": {
          "base_uri": "https://localhost:8080/",
          "height": 204
        },
        "id": "RzM2ABFIHaiS",
        "outputId": "14381123-68bc-4538-d208-0f0573b84309"
      },
      "source": [
        "spsc.head()"
      ],
      "execution_count": 39,
      "outputs": [
        {
          "output_type": "execute_result",
          "data": {
            "text/html": [
              "<div>\n",
              "<style scoped>\n",
              "    .dataframe tbody tr th:only-of-type {\n",
              "        vertical-align: middle;\n",
              "    }\n",
              "\n",
              "    .dataframe tbody tr th {\n",
              "        vertical-align: top;\n",
              "    }\n",
              "\n",
              "    .dataframe thead th {\n",
              "        text-align: right;\n",
              "    }\n",
              "</style>\n",
              "<table border=\"1\" class=\"dataframe\">\n",
              "  <thead>\n",
              "    <tr style=\"text-align: right;\">\n",
              "      <th></th>\n",
              "      <th>자치구</th>\n",
              "      <th>2017년</th>\n",
              "      <th>2020년</th>\n",
              "      <th>65세이상고령자</th>\n",
              "      <th>외국인총계</th>\n",
              "      <th>17년고령인구cctv설치율</th>\n",
              "      <th>20년고령인구cctv설치율</th>\n",
              "      <th>17년외국인cctv설치율</th>\n",
              "      <th>20년외국인cctv설치율</th>\n",
              "    </tr>\n",
              "  </thead>\n",
              "  <tbody>\n",
              "    <tr>\n",
              "      <th>0</th>\n",
              "      <td>강남구</td>\n",
              "      <td>999</td>\n",
              "      <td>942</td>\n",
              "      <td>76184</td>\n",
              "      <td>4732</td>\n",
              "      <td>1.31</td>\n",
              "      <td>1.24</td>\n",
              "      <td>21.11</td>\n",
              "      <td>19.91</td>\n",
              "    </tr>\n",
              "    <tr>\n",
              "      <th>1</th>\n",
              "      <td>강동구</td>\n",
              "      <td>273</td>\n",
              "      <td>614</td>\n",
              "      <td>72275</td>\n",
              "      <td>3885</td>\n",
              "      <td>0.38</td>\n",
              "      <td>0.85</td>\n",
              "      <td>7.03</td>\n",
              "      <td>15.80</td>\n",
              "    </tr>\n",
              "    <tr>\n",
              "      <th>2</th>\n",
              "      <td>강북구</td>\n",
              "      <td>6</td>\n",
              "      <td>588</td>\n",
              "      <td>63383</td>\n",
              "      <td>3448</td>\n",
              "      <td>0.01</td>\n",
              "      <td>0.93</td>\n",
              "      <td>0.17</td>\n",
              "      <td>17.05</td>\n",
              "    </tr>\n",
              "    <tr>\n",
              "      <th>3</th>\n",
              "      <td>강서구</td>\n",
              "      <td>506</td>\n",
              "      <td>356</td>\n",
              "      <td>90404</td>\n",
              "      <td>5476</td>\n",
              "      <td>0.56</td>\n",
              "      <td>0.39</td>\n",
              "      <td>9.24</td>\n",
              "      <td>6.50</td>\n",
              "    </tr>\n",
              "    <tr>\n",
              "      <th>4</th>\n",
              "      <td>관악구</td>\n",
              "      <td>687</td>\n",
              "      <td>331</td>\n",
              "      <td>78647</td>\n",
              "      <td>13898</td>\n",
              "      <td>0.87</td>\n",
              "      <td>0.42</td>\n",
              "      <td>4.94</td>\n",
              "      <td>2.38</td>\n",
              "    </tr>\n",
              "  </tbody>\n",
              "</table>\n",
              "</div>"
            ],
            "text/plain": [
              "   자치구  2017년  2020년  ...  20년고령인구cctv설치율  17년외국인cctv설치율  20년외국인cctv설치율\n",
              "0  강남구    999    942  ...            1.24          21.11          19.91\n",
              "1  강동구    273    614  ...            0.85           7.03          15.80\n",
              "2  강북구      6    588  ...            0.93           0.17          17.05\n",
              "3  강서구    506    356  ...            0.39           9.24           6.50\n",
              "4  관악구    687    331  ...            0.42           4.94           2.38\n",
              "\n",
              "[5 rows x 9 columns]"
            ]
          },
          "metadata": {},
          "execution_count": 39
        }
      ]
    },
    {
      "cell_type": "markdown",
      "metadata": {
        "id": "593_8btwLaYn"
      },
      "source": [
        "# 시각화"
      ]
    },
    {
      "cell_type": "code",
      "metadata": {
        "id": "OmENc4gxLue-"
      },
      "source": [
        "import folium\n",
        "import json\n",
        "import matplotlib as mpl\n",
        "import matplotlib.pyplot as plt\n",
        "import seaborn as sns"
      ],
      "execution_count": 70,
      "outputs": []
    },
    {
      "cell_type": "code",
      "metadata": {
        "colab": {
          "resources": {
            "http://localhost:8080/nbextensions/google.colab/files.js": {
              "data": "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",
              "ok": true,
              "headers": [
                [
                  "content-type",
                  "application/javascript"
                ]
              ],
              "status": 200,
              "status_text": ""
            }
          },
          "base_uri": "https://localhost:8080/",
          "height": 76
        },
        "id": "aRPk4uQkLUAT",
        "outputId": "f8273508-c1e9-4acf-bb82-abe02672a5fc"
      },
      "source": [
        "from google.colab import files\n",
        "uploaded = files.upload()\n",
        "filename = list(uploaded.keys())[0]"
      ],
      "execution_count": 41,
      "outputs": [
        {
          "output_type": "display_data",
          "data": {
            "text/html": [
              "\n",
              "     <input type=\"file\" id=\"files-6f56844b-4d15-46ae-b440-915ccf2ec3e7\" name=\"files[]\" multiple disabled\n",
              "        style=\"border:none\" />\n",
              "     <output id=\"result-6f56844b-4d15-46ae-b440-915ccf2ec3e7\">\n",
              "      Upload widget is only available when the cell has been executed in the\n",
              "      current browser session. Please rerun this cell to enable.\n",
              "      </output>\n",
              "      <script src=\"/nbextensions/google.colab/files.js\"></script> "
            ],
            "text/plain": [
              "<IPython.core.display.HTML object>"
            ]
          },
          "metadata": {}
        },
        {
          "output_type": "stream",
          "name": "stdout",
          "text": [
            "Saving seoul-gu-simple.json to seoul-gu-simple.json\n"
          ]
        }
      ]
    },
    {
      "cell_type": "code",
      "metadata": {
        "id": "SGUskeVlLrvj"
      },
      "source": [
        "geo_data = json.load(open(filename))"
      ],
      "execution_count": 46,
      "outputs": []
    },
    {
      "cell_type": "code",
      "metadata": {
        "colab": {
          "base_uri": "https://localhost:8080/",
          "height": 711
        },
        "id": "qOTUrmMMPM_G",
        "outputId": "4b205286-26b1-4425-f84f-1e6a1c5e7083"
      },
      "source": [
        "center = [37.581, 126.986]    # 서울 중심부 위도, 경도\n",
        "map = folium.Map(location=center, zoom_start=11, tiles='Stamen Toner')\n",
        "\n",
        "folium.TileLayer('cartodbpositron').add_to(map)\n",
        "folium.Choropleth(\n",
        "    geo_data=geo_data,\n",
        "    data = spsc,\n",
        "    columns = ('자치구','2017년'),\n",
        "    key_on = 'feature.id',    # geo_data 의 지역명\n",
        "    fill_color = 'BuPu',\n",
        "    legend_name = '2017년'\n",
        ").add_to(map)\n",
        "title = '<h3 align=\"center\" style=\"font-size:20px\">서울시 17년 구별 cctv설치율</h3>'\n",
        "map.get_root().html.add_child(folium.Element(title))\n",
        "map"
      ],
      "execution_count": 68,
      "outputs": [
        {
          "output_type": "execute_result",
          "data": {
            "text/html": [
              "<div style=\"width:100%;\"><div style=\"position:relative;width:100%;height:0;padding-bottom:60%;\"><span style=\"color:#565656\">Make this Notebook Trusted to load map: File -> Trust Notebook</span><iframe src=\"about:blank\" style=\"position:absolute;width:100%;height:100%;left:0;top:0;border:none !important;\" data-html=%3C%21DOCTYPE%20html%3E%0A%3Chead%3E%20%20%20%20%0A%20%20%20%20%3Cmeta%20http-equiv%3D%22content-type%22%20content%3D%22text/html%3B%20charset%3DUTF-8%22%20/%3E%0A%20%20%20%20%3Cscript%3EL_PREFER_CANVAS%3Dfalse%3B%20L_NO_TOUCH%3Dfalse%3B%20L_DISABLE_3D%3Dfalse%3B%3C/script%3E%0A%20%20%20%20%3Cscript%20src%3D%22https%3A//cdn.jsdelivr.net/npm/leaflet%401.4.0/dist/leaflet.js%22%3E%3C/script%3E%0A%20%20%20%20%3Cscript%20src%3D%22https%3A//code.jquery.com/jquery-1.12.4.min.js%22%3E%3C/script%3E%0A%20%20%20%20%3Cscript%20src%3D%22https%3A//maxcdn.bootstrapcdn.com/bootstrap/3.2.0/js/bootstrap.min.js%22%3E%3C/script%3E%0A%20%20%20%20%3Cscript%20src%3D%22https%3A//cdnjs.cloudflare.com/ajax/libs/Leaflet.awesome-markers/2.0.2/leaflet.awesome-markers.js%22%3E%3C/script%3E%0A%20%20%20%20%3Clink%20rel%3D%22stylesheet%22%20href%3D%22https%3A//cdn.jsdelivr.net/npm/leaflet%401.4.0/dist/leaflet.css%22/%3E%0A%20%20%20%20%3Clink%20rel%3D%22stylesheet%22%20href%3D%22https%3A//maxcdn.bootstrapcdn.com/bootstrap/3.2.0/css/bootstrap.min.css%22/%3E%0A%20%20%20%20%3Clink%20rel%3D%22stylesheet%22%20href%3D%22https%3A//maxcdn.bootstrapcdn.com/bootstrap/3.2.0/css/bootstrap-theme.min.css%22/%3E%0A%20%20%20%20%3Clink%20rel%3D%22stylesheet%22%20href%3D%22https%3A//maxcdn.bootstrapcdn.com/font-awesome/4.6.3/css/font-awesome.min.css%22/%3E%0A%20%20%20%20%3Clink%20rel%3D%22stylesheet%22%20href%3D%22https%3A//cdnjs.cloudflare.com/ajax/libs/Leaflet.awesome-markers/2.0.2/leaflet.awesome-markers.css%22/%3E%0A%20%20%20%20%3Clink%20rel%3D%22stylesheet%22%20href%3D%22https%3A//rawcdn.githack.com/python-visualization/folium/master/folium/templates/leaflet.awesome.rotate.css%22/%3E%0A%20%20%20%20%3Cstyle%3Ehtml%2C%20body%20%7Bwidth%3A%20100%25%3Bheight%3A%20100%25%3Bmargin%3A%200%3Bpadding%3A%200%3B%7D%3C/style%3E%0A%20%20%20%20%3Cstyle%3E%23map%20%7Bposition%3Aabsolute%3Btop%3A0%3Bbottom%3A0%3Bright%3A0%3Bleft%3A0%3B%7D%3C/style%3E%0A%20%20%20%20%0A%20%20%20%20%3Cmeta%20name%3D%22viewport%22%20content%3D%22width%3Ddevice-width%2C%0A%20%20%20%20%20%20%20%20initial-scale%3D1.0%2C%20maximum-scale%3D1.0%2C%20user-scalable%3Dno%22%20/%3E%0A%20%20%20%20%3Cstyle%3E%23map_554eb39282c54042a4fb9c3faca027b3%20%7B%0A%20%20%20%20%20%20%20%20position%3A%20relative%3B%0A%20%20%20%20%20%20%20%20width%3A%20100.0%25%3B%0A%20%20%20%20%20%20%20%20height%3A%20100.0%25%3B%0A%20%20%20%20%20%20%20%20left%3A%200.0%25%3B%0A%20%20%20%20%20%20%20%20top%3A%200.0%25%3B%0A%20%20%20%20%20%20%20%20%7D%0A%20%20%20%20%3C/style%3E%0A%20%20%20%20%3Cscript%20src%3D%22https%3A//cdnjs.cloudflare.com/ajax/libs/d3/3.5.5/d3.min.js%22%3E%3C/script%3E%0A%3C/head%3E%0A%3Cbody%3E%20%20%20%20%0A%20%20%20%20%3Ch3%20align%3D%22center%22%20style%3D%22font-size%3A20px%22%3E%EC%84%9C%EC%9A%B8%EC%8B%9C%2017%EB%85%84%20%EA%B5%AC%EB%B3%84%20cctv%EC%84%A4%EC%B9%98%EC%9C%A8%3C/h3%3E%0A%20%20%20%20%0A%20%20%20%20%3Cdiv%20class%3D%22folium-map%22%20id%3D%22map_554eb39282c54042a4fb9c3faca027b3%22%20%3E%3C/div%3E%0A%3C/body%3E%0A%3Cscript%3E%20%20%20%20%0A%20%20%20%20%0A%20%20%20%20%0A%20%20%20%20%20%20%20%20var%20bounds%20%3D%20null%3B%0A%20%20%20%20%0A%0A%20%20%20%20var%20map_554eb39282c54042a4fb9c3faca027b3%20%3D%20L.map%28%0A%20%20%20%20%20%20%20%20%27map_554eb39282c54042a4fb9c3faca027b3%27%2C%20%7B%0A%20%20%20%20%20%20%20%20center%3A%20%5B37.581%2C%20126.986%5D%2C%0A%20%20%20%20%20%20%20%20zoom%3A%2011%2C%0A%20%20%20%20%20%20%20%20maxBounds%3A%20bounds%2C%0A%20%20%20%20%20%20%20%20layers%3A%20%5B%5D%2C%0A%20%20%20%20%20%20%20%20worldCopyJump%3A%20false%2C%0A%20%20%20%20%20%20%20%20crs%3A%20L.CRS.EPSG3857%2C%0A%20%20%20%20%20%20%20%20zoomControl%3A%20true%2C%0A%20%20%20%20%20%20%20%20%7D%29%3B%0A%0A%0A%20%20%20%20%0A%20%20%20%20var%20tile_layer_6b311fddb74d4552bbeaa8e3b6a85ab8%20%3D%20L.tileLayer%28%0A%20%20%20%20%20%20%20%20%27https%3A//stamen-tiles-%7Bs%7D.a.ssl.fastly.net/toner/%7Bz%7D/%7Bx%7D/%7By%7D.png%27%2C%0A%20%20%20%20%20%20%20%20%7B%0A%20%20%20%20%20%20%20%20%22attribution%22%3A%20null%2C%0A%20%20%20%20%20%20%20%20%22detectRetina%22%3A%20false%2C%0A%20%20%20%20%20%20%20%20%22maxNativeZoom%22%3A%2018%2C%0A%20%20%20%20%20%20%20%20%22maxZoom%22%3A%2018%2C%0A%20%20%20%20%20%20%20%20%22minZoom%22%3A%200%2C%0A%20%20%20%20%20%20%20%20%22noWrap%22%3A%20false%2C%0A%20%20%20%20%20%20%20%20%22opacity%22%3A%201%2C%0A%20%20%20%20%20%20%20%20%22subdomains%22%3A%20%22abc%22%2C%0A%20%20%20%20%20%20%20%20%22tms%22%3A%20false%0A%7D%29.addTo%28map_554eb39282c54042a4fb9c3faca027b3%29%3B%0A%20%20%20%20var%20tile_layer_f8749e3270b7469abeaf314b4694a4ef%20%3D%20L.tileLayer%28%0A%20%20%20%20%20%20%20%20%27https%3A//cartodb-basemaps-%7Bs%7D.global.ssl.fastly.net/light_all/%7Bz%7D/%7Bx%7D/%7By%7D.png%27%2C%0A%20%20%20%20%20%20%20%20%7B%0A%20%20%20%20%20%20%20%20%22attribution%22%3A%20null%2C%0A%20%20%20%20%20%20%20%20%22detectRetina%22%3A%20false%2C%0A%20%20%20%20%20%20%20%20%22maxNativeZoom%22%3A%2018%2C%0A%20%20%20%20%20%20%20%20%22maxZoom%22%3A%2018%2C%0A%20%20%20%20%20%20%20%20%22minZoom%22%3A%200%2C%0A%20%20%20%20%20%20%20%20%22noWrap%22%3A%20false%2C%0A%20%20%20%20%20%20%20%20%22opacity%22%3A%201%2C%0A%20%20%20%20%20%20%20%20%22subdomains%22%3A%20%22abc%22%2C%0A%20%20%20%20%20%20%20%20%22tms%22%3A%20false%0A%7D%29.addTo%28map_554eb39282c54042a4fb9c3faca027b3%29%3B%0A%20%20%20%20%0A%20%20%20%20%20%20%20%20%20%20%20%20var%20choropleth_998a5a417a07495a9c3825dde447572b%20%3D%20L.featureGroup%28%0A%20%20%20%20%20%20%20%20%20%20%20%20%20%20%20%20%29.addTo%28map_554eb39282c54042a4fb9c3faca027b3%29%3B%0A%20%20%20%20%20%20%20%20%0A%20%20%20%20%0A%20%20%20%20%20%20%20%20var%20geo_json_99560396b9c8400a9628ef4eed3ed929%20%3D%20L.geoJson%28%0A%20%20%20%20%20%20%20%20%20%20%20%20%7B%22features%22%3A%20%5B%7B%22geometry%22%3A%20%7B%22coordinates%22%3A%20%5B%5B%5B127.11519584981606%2C%2037.557533180704915%5D%2C%20%5B127.16683184366129%2C%2037.57672487388627%5D%2C%20%5B127.18408792330152%2C%2037.55814280369575%5D%2C%20%5B127.16530984307447%2C%2037.54221851258693%5D%2C%20%5B127.14672806823502%2C%2037.51415680680291%5D%2C%20%5B127.12123165719615%2C%2037.52528270089%5D%2C%20%5B127.1116764203608%2C%2037.540669955324965%5D%2C%20%5B127.11519584981606%2C%2037.557533180704915%5D%5D%5D%2C%20%22type%22%3A%20%22Polygon%22%7D%2C%20%22id%22%3A%20%22%5Cuac15%5Cub3d9%5Cuad6c%22%2C%20%22properties%22%3A%20%7B%22base_year%22%3A%20%222013%22%2C%20%22code%22%3A%20%2211250%22%2C%20%22highlight%22%3A%20%7B%7D%2C%20%22name%22%3A%20%22%5Cuac15%5Cub3d9%5Cuad6c%22%2C%20%22name_eng%22%3A%20%22Gangdong-gu%22%2C%20%22style%22%3A%20%7B%22color%22%3A%20%22black%22%2C%20%22fillColor%22%3A%20%22%23bfd3e6%22%2C%20%22fillOpacity%22%3A%200.6%2C%20%22opacity%22%3A%201%2C%20%22weight%22%3A%201%7D%7D%2C%20%22type%22%3A%20%22Feature%22%7D%2C%20%7B%22geometry%22%3A%20%7B%22coordinates%22%3A%20%5B%5B%5B127.0690698130372%2C%2037.522279423505026%5D%2C%20%5B127.10087519791962%2C%2037.524841220167055%5D%2C%20%5B127.1116764203608%2C%2037.540669955324965%5D%2C%20%5B127.12123165719615%2C%2037.52528270089%5D%2C%20%5B127.14672806823502%2C%2037.51415680680291%5D%2C%20%5B127.1634944215765%2C%2037.497445406097484%5D%2C%20%5B127.14206058413274%2C%2037.47089819098501%5D%2C%20%5B127.12440571080893%2C%2037.46240445587048%5D%2C%20%5B127.11117085201238%2C%2037.485708381512445%5D%2C%20%5B127.0719146000724%2C%2037.50224013587669%5D%2C%20%5B127.0690698130372%2C%2037.522279423505026%5D%5D%5D%2C%20%22type%22%3A%20%22Polygon%22%7D%2C%20%22id%22%3A%20%22%5Cuc1a1%5Cud30c%5Cuad6c%22%2C%20%22properties%22%3A%20%7B%22base_year%22%3A%20%222013%22%2C%20%22code%22%3A%20%2211240%22%2C%20%22highlight%22%3A%20%7B%7D%2C%20%22name%22%3A%20%22%5Cuc1a1%5Cud30c%5Cuad6c%22%2C%20%22name_eng%22%3A%20%22Songpa-gu%22%2C%20%22style%22%3A%20%7B%22color%22%3A%20%22black%22%2C%20%22fillColor%22%3A%20%22%23bfd3e6%22%2C%20%22fillOpacity%22%3A%200.6%2C%20%22opacity%22%3A%201%2C%20%22weight%22%3A%201%7D%7D%2C%20%22type%22%3A%20%22Feature%22%7D%2C%20%7B%22geometry%22%3A%20%7B%22coordinates%22%3A%20%5B%5B%5B127.05867359288398%2C%2037.52629974922568%5D%2C%20%5B127.0690698130372%2C%2037.522279423505026%5D%2C%20%5B127.0719146000724%2C%2037.50224013587669%5D%2C%20%5B127.11117085201238%2C%2037.485708381512445%5D%2C%20%5B127.12440571080893%2C%2037.46240445587048%5D%2C%20%5B127.09842759318751%2C%2037.45862253857461%5D%2C%20%5B127.08640440578156%2C%2037.472697935184655%5D%2C%20%5B127.0559170481904%2C%2037.4659228914077%5D%2C%20%5B127.03621915098798%2C%2037.48175802427603%5D%2C%20%5B127.01397119667513%2C%2037.52503988289669%5D%2C%20%5B127.02302831890559%2C%2037.53231899582663%5D%2C%20%5B127.05867359288398%2C%2037.52629974922568%5D%5D%5D%2C%20%22type%22%3A%20%22Polygon%22%7D%2C%20%22id%22%3A%20%22%5Cuac15%5Cub0a8%5Cuad6c%22%2C%20%22properties%22%3A%20%7B%22base_year%22%3A%20%222013%22%2C%20%22code%22%3A%20%2211230%22%2C%20%22highlight%22%3A%20%7B%7D%2C%20%22name%22%3A%20%22%5Cuac15%5Cub0a8%5Cuad6c%22%2C%20%22name_eng%22%3A%20%22Gangnam-gu%22%2C%20%22style%22%3A%20%7B%22color%22%3A%20%22black%22%2C%20%22fillColor%22%3A%20%22%23810f7c%22%2C%20%22fillOpacity%22%3A%200.6%2C%20%22opacity%22%3A%201%2C%20%22weight%22%3A%201%7D%7D%2C%20%22type%22%3A%20%22Feature%22%7D%2C%20%7B%22geometry%22%3A%20%7B%22coordinates%22%3A%20%5B%5B%5B127.01397119667513%2C%2037.52503988289669%5D%2C%20%5B127.03621915098798%2C%2037.48175802427603%5D%2C%20%5B127.0559170481904%2C%2037.4659228914077%5D%2C%20%5B127.08640440578156%2C%2037.472697935184655%5D%2C%20%5B127.09842759318751%2C%2037.45862253857461%5D%2C%20%5B127.09046928565951%2C%2037.44296826114185%5D%2C%20%5B127.06778107605433%2C%2037.426197424057314%5D%2C%20%5B127.04957232987142%2C%2037.42805836845694%5D%2C%20%5B127.03881782597922%2C%2037.45382039851715%5D%2C%20%5B126.99072073195462%2C%2037.455326143310025%5D%2C%20%5B126.98367668291802%2C%2037.473856492692086%5D%2C%20%5B126.98223807916081%2C%2037.509314966770326%5D%2C%20%5B127.01397119667513%2C%2037.52503988289669%5D%5D%5D%2C%20%22type%22%3A%20%22Polygon%22%7D%2C%20%22id%22%3A%20%22%5Cuc11c%5Cucd08%5Cuad6c%22%2C%20%22properties%22%3A%20%7B%22base_year%22%3A%20%222013%22%2C%20%22code%22%3A%20%2211220%22%2C%20%22highlight%22%3A%20%7B%7D%2C%20%22name%22%3A%20%22%5Cuc11c%5Cucd08%5Cuad6c%22%2C%20%22name_eng%22%3A%20%22Seocho-gu%22%2C%20%22style%22%3A%20%7B%22color%22%3A%20%22black%22%2C%20%22fillColor%22%3A%20%22%23810f7c%22%2C%20%22fillOpacity%22%3A%200.6%2C%20%22opacity%22%3A%201%2C%20%22weight%22%3A%201%7D%7D%2C%20%22type%22%3A%20%22Feature%22%7D%2C%20%7B%22geometry%22%3A%20%7B%22coordinates%22%3A%20%5B%5B%5B126.98367668291802%2C%2037.473856492692086%5D%2C%20%5B126.99072073195462%2C%2037.455326143310025%5D%2C%20%5B126.96520439085143%2C%2037.438249784006246%5D%2C%20%5B126.95000001010182%2C%2037.43613451165719%5D%2C%20%5B126.93084408056525%2C%2037.447382928333994%5D%2C%20%5B126.9167728146601%2C%2037.45490566423789%5D%2C%20%5B126.90156094129895%2C%2037.47753842789901%5D%2C%20%5B126.90531975801812%2C%2037.48218087575429%5D%2C%20%5B126.94922661389508%2C%2037.49125437495649%5D%2C%20%5B126.9725891850662%2C%2037.472561363278125%5D%2C%20%5B126.98367668291802%2C%2037.473856492692086%5D%5D%5D%2C%20%22type%22%3A%20%22Polygon%22%7D%2C%20%22id%22%3A%20%22%5Cuad00%5Cuc545%5Cuad6c%22%2C%20%22properties%22%3A%20%7B%22base_year%22%3A%20%222013%22%2C%20%22code%22%3A%20%2211210%22%2C%20%22highlight%22%3A%20%7B%7D%2C%20%22name%22%3A%20%22%5Cuad00%5Cuc545%5Cuad6c%22%2C%20%22name_eng%22%3A%20%22Gwanak-gu%22%2C%20%22style%22%3A%20%7B%22color%22%3A%20%22black%22%2C%20%22fillColor%22%3A%20%22%238c96c6%22%2C%20%22fillOpacity%22%3A%200.6%2C%20%22opacity%22%3A%201%2C%20%22weight%22%3A%201%7D%7D%2C%20%22type%22%3A%20%22Feature%22%7D%2C%20%7B%22geometry%22%3A%20%7B%22coordinates%22%3A%20%5B%5B%5B126.98223807916081%2C%2037.509314966770326%5D%2C%20%5B126.98367668291802%2C%2037.473856492692086%5D%2C%20%5B126.9725891850662%2C%2037.472561363278125%5D%2C%20%5B126.94922661389508%2C%2037.49125437495649%5D%2C%20%5B126.90531975801812%2C%2037.48218087575429%5D%2C%20%5B126.92177893174825%2C%2037.494889877415176%5D%2C%20%5B126.92810628828279%2C%2037.51329595732015%5D%2C%20%5B126.95249990298159%2C%2037.51722500741813%5D%2C%20%5B126.98223807916081%2C%2037.509314966770326%5D%5D%5D%2C%20%22type%22%3A%20%22Polygon%22%7D%2C%20%22id%22%3A%20%22%5Cub3d9%5Cuc791%5Cuad6c%22%2C%20%22properties%22%3A%20%7B%22base_year%22%3A%20%222013%22%2C%20%22code%22%3A%20%2211200%22%2C%20%22highlight%22%3A%20%7B%7D%2C%20%22name%22%3A%20%22%5Cub3d9%5Cuc791%5Cuad6c%22%2C%20%22name_eng%22%3A%20%22Dongjak-gu%22%2C%20%22style%22%3A%20%7B%22color%22%3A%20%22black%22%2C%20%22fillColor%22%3A%20%22%23bfd3e6%22%2C%20%22fillOpacity%22%3A%200.6%2C%20%22opacity%22%3A%201%2C%20%22weight%22%3A%201%7D%7D%2C%20%22type%22%3A%20%22Feature%22%7D%2C%20%7B%22geometry%22%3A%20%7B%22coordinates%22%3A%20%5B%5B%5B126.89184663862764%2C%2037.547373974997114%5D%2C%20%5B126.94566733083212%2C%2037.526617542453366%5D%2C%20%5B126.95249990298159%2C%2037.51722500741813%5D%2C%20%5B126.92810628828279%2C%2037.51329595732015%5D%2C%20%5B126.92177893174825%2C%2037.494889877415176%5D%2C%20%5B126.90531975801812%2C%2037.48218087575429%5D%2C%20%5B126.89594776782485%2C%2037.504675281309176%5D%2C%20%5B126.88156402353862%2C%2037.513970034765684%5D%2C%20%5B126.88825757860099%2C%2037.54079733630232%5D%2C%20%5B126.89184663862764%2C%2037.547373974997114%5D%5D%5D%2C%20%22type%22%3A%20%22Polygon%22%7D%2C%20%22id%22%3A%20%22%5Cuc601%5Cub4f1%5Cud3ec%5Cuad6c%22%2C%20%22properties%22%3A%20%7B%22base_year%22%3A%20%222013%22%2C%20%22code%22%3A%20%2211190%22%2C%20%22highlight%22%3A%20%7B%7D%2C%20%22name%22%3A%20%22%5Cuc601%5Cub4f1%5Cud3ec%5Cuad6c%22%2C%20%22name_eng%22%3A%20%22Yeongdeungpo-gu%22%2C%20%22style%22%3A%20%7B%22color%22%3A%20%22black%22%2C%20%22fillColor%22%3A%20%22%23bfd3e6%22%2C%20%22fillOpacity%22%3A%200.6%2C%20%22opacity%22%3A%201%2C%20%22weight%22%3A%201%7D%7D%2C%20%22type%22%3A%20%22Feature%22%7D%2C%20%7B%22geometry%22%3A%20%7B%22coordinates%22%3A%20%5B%5B%5B126.90156094129895%2C%2037.47753842789901%5D%2C%20%5B126.9167728146601%2C%2037.45490566423789%5D%2C%20%5B126.93084408056525%2C%2037.447382928333994%5D%2C%20%5B126.9025831711697%2C%2037.434549366349124%5D%2C%20%5B126.87683271502428%2C%2037.482576591607305%5D%2C%20%5B126.90156094129895%2C%2037.47753842789901%5D%5D%5D%2C%20%22type%22%3A%20%22Polygon%22%7D%2C%20%22id%22%3A%20%22%5Cuae08%5Cucc9c%5Cuad6c%22%2C%20%22properties%22%3A%20%7B%22base_year%22%3A%20%222013%22%2C%20%22code%22%3A%20%2211180%22%2C%20%22highlight%22%3A%20%7B%7D%2C%20%22name%22%3A%20%22%5Cuae08%5Cucc9c%5Cuad6c%22%2C%20%22name_eng%22%3A%20%22Geumcheon-gu%22%2C%20%22style%22%3A%20%7B%22color%22%3A%20%22black%22%2C%20%22fillColor%22%3A%20%22%23bfd3e6%22%2C%20%22fillOpacity%22%3A%200.6%2C%20%22opacity%22%3A%201%2C%20%22weight%22%3A%201%7D%7D%2C%20%22type%22%3A%20%22Feature%22%7D%2C%20%7B%22geometry%22%3A%20%7B%22coordinates%22%3A%20%5B%5B%5B126.82688081517314%2C%2037.50548972232896%5D%2C%20%5B126.88156402353862%2C%2037.513970034765684%5D%2C%20%5B126.89594776782485%2C%2037.504675281309176%5D%2C%20%5B126.90531975801812%2C%2037.48218087575429%5D%2C%20%5B126.90156094129895%2C%2037.47753842789901%5D%2C%20%5B126.87683271502428%2C%2037.482576591607305%5D%2C%20%5B126.84762676054953%2C%2037.47146723936323%5D%2C%20%5B126.83549485076196%2C%2037.474098236975095%5D%2C%20%5B126.82264796791348%2C%2037.4878476492147%5D%2C%20%5B126.82504736331406%2C%2037.50302612640443%5D%2C%20%5B126.82688081517314%2C%2037.50548972232896%5D%5D%5D%2C%20%22type%22%3A%20%22Polygon%22%7D%2C%20%22id%22%3A%20%22%5Cuad6c%5Cub85c%5Cuad6c%22%2C%20%22properties%22%3A%20%7B%22base_year%22%3A%20%222013%22%2C%20%22code%22%3A%20%2211170%22%2C%20%22highlight%22%3A%20%7B%7D%2C%20%22name%22%3A%20%22%5Cuad6c%5Cub85c%5Cuad6c%22%2C%20%22name_eng%22%3A%20%22Guro-gu%22%2C%20%22style%22%3A%20%7B%22color%22%3A%20%22black%22%2C%20%22fillColor%22%3A%20%22%238c96c6%22%2C%20%22fillOpacity%22%3A%200.6%2C%20%22opacity%22%3A%201%2C%20%22weight%22%3A%201%7D%7D%2C%20%22type%22%3A%20%22Feature%22%7D%2C%20%7B%22geometry%22%3A%20%7B%22coordinates%22%3A%20%5B%5B%5B126.79575768552907%2C%2037.57881087633202%5D%2C%20%5B126.80702115023597%2C%2037.60123001013228%5D%2C%20%5B126.82251438477105%2C%2037.5880430810082%5D%2C%20%5B126.85984199399667%2C%2037.571847855292745%5D%2C%20%5B126.89184663862764%2C%2037.547373974997114%5D%2C%20%5B126.88825757860099%2C%2037.54079733630232%5D%2C%20%5B126.86637464321238%2C%2037.54859191094823%5D%2C%20%5B126.86610073476395%2C%2037.52699964144669%5D%2C%20%5B126.84257291943153%2C%2037.52373707805596%5D%2C%20%5B126.8242331426722%2C%2037.53788078753248%5D%2C%20%5B126.77324417717703%2C%2037.5459123450554%5D%2C%20%5B126.76979180579352%2C%2037.55139183008809%5D%2C%20%5B126.79575768552907%2C%2037.57881087633202%5D%5D%5D%2C%20%22type%22%3A%20%22Polygon%22%7D%2C%20%22id%22%3A%20%22%5Cuac15%5Cuc11c%5Cuad6c%22%2C%20%22properties%22%3A%20%7B%22base_year%22%3A%20%222013%22%2C%20%22code%22%3A%20%2211160%22%2C%20%22highlight%22%3A%20%7B%7D%2C%20%22name%22%3A%20%22%5Cuac15%5Cuc11c%5Cuad6c%22%2C%20%22name_eng%22%3A%20%22Gangseo-gu%22%2C%20%22style%22%3A%20%7B%22color%22%3A%20%22black%22%2C%20%22fillColor%22%3A%20%22%239ebcda%22%2C%20%22fillOpacity%22%3A%200.6%2C%20%22opacity%22%3A%201%2C%20%22weight%22%3A%201%7D%7D%2C%20%22type%22%3A%20%22Feature%22%7D%2C%20%7B%22geometry%22%3A%20%7B%22coordinates%22%3A%20%5B%5B%5B126.8242331426722%2C%2037.53788078753248%5D%2C%20%5B126.84257291943153%2C%2037.52373707805596%5D%2C%20%5B126.86610073476395%2C%2037.52699964144669%5D%2C%20%5B126.86637464321238%2C%2037.54859191094823%5D%2C%20%5B126.88825757860099%2C%2037.54079733630232%5D%2C%20%5B126.88156402353862%2C%2037.513970034765684%5D%2C%20%5B126.82688081517314%2C%2037.50548972232896%5D%2C%20%5B126.8242331426722%2C%2037.53788078753248%5D%5D%5D%2C%20%22type%22%3A%20%22Polygon%22%7D%2C%20%22id%22%3A%20%22%5Cuc591%5Cucc9c%5Cuad6c%22%2C%20%22properties%22%3A%20%7B%22base_year%22%3A%20%222013%22%2C%20%22code%22%3A%20%2211150%22%2C%20%22highlight%22%3A%20%7B%7D%2C%20%22name%22%3A%20%22%5Cuc591%5Cucc9c%5Cuad6c%22%2C%20%22name_eng%22%3A%20%22Yangcheon-gu%22%2C%20%22style%22%3A%20%7B%22color%22%3A%20%22black%22%2C%20%22fillColor%22%3A%20%22%23edf8fb%22%2C%20%22fillOpacity%22%3A%200.6%2C%20%22opacity%22%3A%201%2C%20%22weight%22%3A%201%7D%7D%2C%20%22type%22%3A%20%22Feature%22%7D%2C%20%7B%22geometry%22%3A%20%7B%22coordinates%22%3A%20%5B%5B%5B126.90522065831053%2C%2037.57409700522574%5D%2C%20%5B126.93898161798973%2C%2037.552310003728124%5D%2C%20%5B126.96358226710812%2C%2037.55605635475154%5D%2C%20%5B126.96448570553055%2C%2037.548705692021635%5D%2C%20%5B126.94566733083212%2C%2037.526617542453366%5D%2C%20%5B126.89184663862764%2C%2037.547373974997114%5D%2C%20%5B126.85984199399667%2C%2037.571847855292745%5D%2C%20%5B126.88433284773288%2C%2037.588143322880526%5D%2C%20%5B126.90522065831053%2C%2037.57409700522574%5D%5D%5D%2C%20%22type%22%3A%20%22Polygon%22%7D%2C%20%22id%22%3A%20%22%5Cub9c8%5Cud3ec%5Cuad6c%22%2C%20%22properties%22%3A%20%7B%22base_year%22%3A%20%222013%22%2C%20%22code%22%3A%20%2211140%22%2C%20%22highlight%22%3A%20%7B%7D%2C%20%22name%22%3A%20%22%5Cub9c8%5Cud3ec%5Cuad6c%22%2C%20%22name_eng%22%3A%20%22Mapo-gu%22%2C%20%22style%22%3A%20%7B%22color%22%3A%20%22black%22%2C%20%22fillColor%22%3A%20%22%239ebcda%22%2C%20%22fillOpacity%22%3A%200.6%2C%20%22opacity%22%3A%201%2C%20%22weight%22%3A%201%7D%7D%2C%20%22type%22%3A%20%22Feature%22%7D%2C%20%7B%22geometry%22%3A%20%7B%22coordinates%22%3A%20%5B%5B%5B126.9524752030572%2C%2037.60508692737045%5D%2C%20%5B126.95565425846463%2C%2037.576080790881456%5D%2C%20%5B126.96873633279075%2C%2037.56313604690827%5D%2C%20%5B126.96358226710812%2C%2037.55605635475154%5D%2C%20%5B126.93898161798973%2C%2037.552310003728124%5D%2C%20%5B126.90522065831053%2C%2037.57409700522574%5D%2C%20%5B126.9524752030572%2C%2037.60508692737045%5D%5D%5D%2C%20%22type%22%3A%20%22Polygon%22%7D%2C%20%22id%22%3A%20%22%5Cuc11c%5Cub300%5Cubb38%5Cuad6c%22%2C%20%22properties%22%3A%20%7B%22base_year%22%3A%20%222013%22%2C%20%22code%22%3A%20%2211130%22%2C%20%22highlight%22%3A%20%7B%7D%2C%20%22name%22%3A%20%22%5Cuc11c%5Cub300%5Cubb38%5Cuad6c%22%2C%20%22name_eng%22%3A%20%22Seodaemun-gu%22%2C%20%22style%22%3A%20%7B%22color%22%3A%20%22black%22%2C%20%22fillColor%22%3A%20%22%23bfd3e6%22%2C%20%22fillOpacity%22%3A%200.6%2C%20%22opacity%22%3A%201%2C%20%22weight%22%3A%201%7D%7D%2C%20%22type%22%3A%20%22Feature%22%7D%2C%20%7B%22geometry%22%3A%20%7B%22coordinates%22%3A%20%5B%5B%5B126.9738864128702%2C%2037.62949634786888%5D%2C%20%5B126.95427017006129%2C%2037.622033431339425%5D%2C%20%5B126.9524752030572%2C%2037.60508692737045%5D%2C%20%5B126.90522065831053%2C%2037.57409700522574%5D%2C%20%5B126.88433284773288%2C%2037.588143322880526%5D%2C%20%5B126.90396681003595%2C%2037.59227403419942%5D%2C%20%5B126.90303066177668%2C%2037.609977911401344%5D%2C%20%5B126.91455481429648%2C%2037.64150050996935%5D%2C%20%5B126.956473797387%2C%2037.652480737339445%5D%2C%20%5B126.9738864128702%2C%2037.62949634786888%5D%5D%5D%2C%20%22type%22%3A%20%22Polygon%22%7D%2C%20%22id%22%3A%20%22%5Cuc740%5Cud3c9%5Cuad6c%22%2C%20%22properties%22%3A%20%7B%22base_year%22%3A%20%222013%22%2C%20%22code%22%3A%20%2211120%22%2C%20%22highlight%22%3A%20%7B%7D%2C%20%22name%22%3A%20%22%5Cuc740%5Cud3c9%5Cuad6c%22%2C%20%22name_eng%22%3A%20%22Eunpyeong-gu%22%2C%20%22style%22%3A%20%7B%22color%22%3A%20%22black%22%2C%20%22fillColor%22%3A%20%22%239ebcda%22%2C%20%22fillOpacity%22%3A%200.6%2C%20%22opacity%22%3A%201%2C%20%22weight%22%3A%201%7D%7D%2C%20%22type%22%3A%20%22Feature%22%7D%2C%20%7B%22geometry%22%3A%20%7B%22coordinates%22%3A%20%5B%5B%5B127.0838752703195%2C%2037.69359534202034%5D%2C%20%5B127.09706391309695%2C%2037.686383719372294%5D%2C%20%5B127.09440766298717%2C%2037.64713490473045%5D%2C%20%5B127.11326795855199%2C%2037.639622905315925%5D%2C%20%5B127.10782277688129%2C%2037.61804244241069%5D%2C%20%5B127.07351243825278%2C%2037.61283660342313%5D%2C%20%5B127.05209373568619%2C%2037.62164065487782%5D%2C%20%5B127.04358800895609%2C%2037.62848931298715%5D%2C%20%5B127.05800075220091%2C%2037.64318263878276%5D%2C%20%5B127.05288479710485%2C%2037.68423857084347%5D%2C%20%5B127.0838752703195%2C%2037.69359534202034%5D%5D%5D%2C%20%22type%22%3A%20%22Polygon%22%7D%2C%20%22id%22%3A%20%22%5Cub178%5Cuc6d0%5Cuad6c%22%2C%20%22properties%22%3A%20%7B%22base_year%22%3A%20%222013%22%2C%20%22code%22%3A%20%2211110%22%2C%20%22highlight%22%3A%20%7B%7D%2C%20%22name%22%3A%20%22%5Cub178%5Cuc6d0%5Cuad6c%22%2C%20%22name_eng%22%3A%20%22Nowon-gu%22%2C%20%22style%22%3A%20%7B%22color%22%3A%20%22black%22%2C%20%22fillColor%22%3A%20%22%23edf8fb%22%2C%20%22fillOpacity%22%3A%200.6%2C%20%22opacity%22%3A%201%2C%20%22weight%22%3A%201%7D%7D%2C%20%22type%22%3A%20%22Feature%22%7D%2C%20%7B%22geometry%22%3A%20%7B%22coordinates%22%3A%20%5B%5B%5B127.05288479710485%2C%2037.68423857084347%5D%2C%20%5B127.05800075220091%2C%2037.64318263878276%5D%2C%20%5B127.04358800895609%2C%2037.62848931298715%5D%2C%20%5B127.01465935892466%2C%2037.64943687496812%5D%2C%20%5B127.02062116141389%2C%2037.667173575971205%5D%2C%20%5B127.01039666042071%2C%2037.681894589603594%5D%2C%20%5B127.01795099203432%2C%2037.69824412775662%5D%2C%20%5B127.05288479710485%2C%2037.68423857084347%5D%5D%5D%2C%20%22type%22%3A%20%22Polygon%22%7D%2C%20%22id%22%3A%20%22%5Cub3c4%5Cubd09%5Cuad6c%22%2C%20%22properties%22%3A%20%7B%22base_year%22%3A%20%222013%22%2C%20%22code%22%3A%20%2211100%22%2C%20%22highlight%22%3A%20%7B%7D%2C%20%22name%22%3A%20%22%5Cub3c4%5Cubd09%5Cuad6c%22%2C%20%22name_eng%22%3A%20%22Dobong-gu%22%2C%20%22style%22%3A%20%7B%22color%22%3A%20%22black%22%2C%20%22fillColor%22%3A%20%22%23edf8fb%22%2C%20%22fillOpacity%22%3A%200.6%2C%20%22opacity%22%3A%201%2C%20%22weight%22%3A%201%7D%7D%2C%20%22type%22%3A%20%22Feature%22%7D%2C%20%7B%22geometry%22%3A%20%7B%22coordinates%22%3A%20%5B%5B%5B126.99383903424%2C%2037.676681761199085%5D%2C%20%5B127.01039666042071%2C%2037.681894589603594%5D%2C%20%5B127.02062116141389%2C%2037.667173575971205%5D%2C%20%5B127.01465935892466%2C%2037.64943687496812%5D%2C%20%5B127.04358800895609%2C%2037.62848931298715%5D%2C%20%5B127.05209373568619%2C%2037.62164065487782%5D%2C%20%5B127.03892400992301%2C%2037.609715611023816%5D%2C%20%5B127.0128154749523%2C%2037.613652243470256%5D%2C%20%5B126.98672705513869%2C%2037.63377641288196%5D%2C%20%5B126.9817452676551%2C%2037.65209769387776%5D%2C%20%5B126.99383903424%2C%2037.676681761199085%5D%5D%5D%2C%20%22type%22%3A%20%22Polygon%22%7D%2C%20%22id%22%3A%20%22%5Cuac15%5Cubd81%5Cuad6c%22%2C%20%22properties%22%3A%20%7B%22base_year%22%3A%20%222013%22%2C%20%22code%22%3A%20%2211090%22%2C%20%22highlight%22%3A%20%7B%7D%2C%20%22name%22%3A%20%22%5Cuac15%5Cubd81%5Cuad6c%22%2C%20%22name_eng%22%3A%20%22Gangbuk-gu%22%2C%20%22style%22%3A%20%7B%22color%22%3A%20%22black%22%2C%20%22fillColor%22%3A%20%22%23edf8fb%22%2C%20%22fillOpacity%22%3A%200.6%2C%20%22opacity%22%3A%201%2C%20%22weight%22%3A%201%7D%7D%2C%20%22type%22%3A%20%22Feature%22%7D%2C%20%7B%22geometry%22%3A%20%7B%22coordinates%22%3A%20%5B%5B%5B126.977175406416%2C%2037.62859715400388%5D%2C%20%5B126.98672705513869%2C%2037.63377641288196%5D%2C%20%5B127.0128154749523%2C%2037.613652243470256%5D%2C%20%5B127.03892400992301%2C%2037.609715611023816%5D%2C%20%5B127.05209373568619%2C%2037.62164065487782%5D%2C%20%5B127.07351243825278%2C%2037.61283660342313%5D%2C%20%5B127.07382707099227%2C%2037.60401928986419%5D%2C%20%5B127.042705222094%2C%2037.59239437593391%5D%2C%20%5B127.02527254528003%2C%2037.57524616245249%5D%2C%20%5B126.99348293358314%2C%2037.588565457216156%5D%2C%20%5B126.98879865992384%2C%2037.6118927319756%5D%2C%20%5B126.977175406416%2C%2037.62859715400388%5D%5D%5D%2C%20%22type%22%3A%20%22Polygon%22%7D%2C%20%22id%22%3A%20%22%5Cuc131%5Cubd81%5Cuad6c%22%2C%20%22properties%22%3A%20%7B%22base_year%22%3A%20%222013%22%2C%20%22code%22%3A%20%2211080%22%2C%20%22highlight%22%3A%20%7B%7D%2C%20%22name%22%3A%20%22%5Cuc131%5Cubd81%5Cuad6c%22%2C%20%22name_eng%22%3A%20%22Seongbuk-gu%22%2C%20%22style%22%3A%20%7B%22color%22%3A%20%22black%22%2C%20%22fillColor%22%3A%20%22%239ebcda%22%2C%20%22fillOpacity%22%3A%200.6%2C%20%22opacity%22%3A%201%2C%20%22weight%22%3A%201%7D%7D%2C%20%22type%22%3A%20%22Feature%22%7D%2C%20%7B%22geometry%22%3A%20%7B%22coordinates%22%3A%20%5B%5B%5B127.07351243825278%2C%2037.61283660342313%5D%2C%20%5B127.10782277688129%2C%2037.61804244241069%5D%2C%20%5B127.1201246020114%2C%2037.60178457598188%5D%2C%20%5B127.10304174249214%2C%2037.57076342290955%5D%2C%20%5B127.08068541280403%2C%2037.56906425519017%5D%2C%20%5B127.07382707099227%2C%2037.60401928986419%5D%2C%20%5B127.07351243825278%2C%2037.61283660342313%5D%5D%5D%2C%20%22type%22%3A%20%22Polygon%22%7D%2C%20%22id%22%3A%20%22%5Cuc911%5Cub791%5Cuad6c%22%2C%20%22properties%22%3A%20%7B%22base_year%22%3A%20%222013%22%2C%20%22code%22%3A%20%2211070%22%2C%20%22highlight%22%3A%20%7B%7D%2C%20%22name%22%3A%20%22%5Cuc911%5Cub791%5Cuad6c%22%2C%20%22name_eng%22%3A%20%22Jungnang-gu%22%2C%20%22style%22%3A%20%7B%22color%22%3A%20%22black%22%2C%20%22fillColor%22%3A%20%22%23edf8fb%22%2C%20%22fillOpacity%22%3A%200.6%2C%20%22opacity%22%3A%201%2C%20%22weight%22%3A%201%7D%7D%2C%20%22type%22%3A%20%22Feature%22%7D%2C%20%7B%22geometry%22%3A%20%7B%22coordinates%22%3A%20%5B%5B%5B127.02527254528003%2C%2037.57524616245249%5D%2C%20%5B127.042705222094%2C%2037.59239437593391%5D%2C%20%5B127.07382707099227%2C%2037.60401928986419%5D%2C%20%5B127.08068541280403%2C%2037.56906425519017%5D%2C%20%5B127.07421053024362%2C%2037.55724769712085%5D%2C%20%5B127.05005601081567%2C%2037.567577612590846%5D%2C%20%5B127.02547266349976%2C%2037.568943552237734%5D%2C%20%5B127.02527254528003%2C%2037.57524616245249%5D%5D%5D%2C%20%22type%22%3A%20%22Polygon%22%7D%2C%20%22id%22%3A%20%22%5Cub3d9%5Cub300%5Cubb38%5Cuad6c%22%2C%20%22properties%22%3A%20%7B%22base_year%22%3A%20%222013%22%2C%20%22code%22%3A%20%2211060%22%2C%20%22highlight%22%3A%20%7B%7D%2C%20%22name%22%3A%20%22%5Cub3d9%5Cub300%5Cubb38%5Cuad6c%22%2C%20%22name_eng%22%3A%20%22Dongdaemun-gu%22%2C%20%22style%22%3A%20%7B%22color%22%3A%20%22black%22%2C%20%22fillColor%22%3A%20%22%23edf8fb%22%2C%20%22fillOpacity%22%3A%200.6%2C%20%22opacity%22%3A%201%2C%20%22weight%22%3A%201%7D%7D%2C%20%22type%22%3A%20%22Feature%22%7D%2C%20%7B%22geometry%22%3A%20%7B%22coordinates%22%3A%20%5B%5B%5B127.08068541280403%2C%2037.56906425519017%5D%2C%20%5B127.10304174249214%2C%2037.57076342290955%5D%2C%20%5B127.11519584981606%2C%2037.557533180704915%5D%2C%20%5B127.1116764203608%2C%2037.540669955324965%5D%2C%20%5B127.10087519791962%2C%2037.524841220167055%5D%2C%20%5B127.0690698130372%2C%2037.522279423505026%5D%2C%20%5B127.05867359288398%2C%2037.52629974922568%5D%2C%20%5B127.07421053024362%2C%2037.55724769712085%5D%2C%20%5B127.08068541280403%2C%2037.56906425519017%5D%5D%5D%2C%20%22type%22%3A%20%22Polygon%22%7D%2C%20%22id%22%3A%20%22%5Cuad11%5Cuc9c4%5Cuad6c%22%2C%20%22properties%22%3A%20%7B%22base_year%22%3A%20%222013%22%2C%20%22code%22%3A%20%2211050%22%2C%20%22highlight%22%3A%20%7B%7D%2C%20%22name%22%3A%20%22%5Cuad11%5Cuc9c4%5Cuad6c%22%2C%20%22name_eng%22%3A%20%22Gwangjin-gu%22%2C%20%22style%22%3A%20%7B%22color%22%3A%20%22black%22%2C%20%22fillColor%22%3A%20%22%238c96c6%22%2C%20%22fillOpacity%22%3A%200.6%2C%20%22opacity%22%3A%201%2C%20%22weight%22%3A%201%7D%7D%2C%20%22type%22%3A%20%22Feature%22%7D%2C%20%7B%22geometry%22%3A%20%7B%22coordinates%22%3A%20%5B%5B%5B127.02547266349976%2C%2037.568943552237734%5D%2C%20%5B127.05005601081567%2C%2037.567577612590846%5D%2C%20%5B127.07421053024362%2C%2037.55724769712085%5D%2C%20%5B127.05867359288398%2C%2037.52629974922568%5D%2C%20%5B127.02302831890559%2C%2037.53231899582663%5D%2C%20%5B127.01070894177482%2C%2037.54118048964762%5D%2C%20%5B127.02547266349976%2C%2037.568943552237734%5D%5D%5D%2C%20%22type%22%3A%20%22Polygon%22%7D%2C%20%22id%22%3A%20%22%5Cuc131%5Cub3d9%5Cuad6c%22%2C%20%22properties%22%3A%20%7B%22base_year%22%3A%20%222013%22%2C%20%22code%22%3A%20%2211040%22%2C%20%22highlight%22%3A%20%7B%7D%2C%20%22name%22%3A%20%22%5Cuc131%5Cub3d9%5Cuad6c%22%2C%20%22name_eng%22%3A%20%22Seongdong-gu%22%2C%20%22style%22%3A%20%7B%22color%22%3A%20%22black%22%2C%20%22fillColor%22%3A%20%22%238856a7%22%2C%20%22fillOpacity%22%3A%200.6%2C%20%22opacity%22%3A%201%2C%20%22weight%22%3A%201%7D%7D%2C%20%22type%22%3A%20%22Feature%22%7D%2C%20%7B%22geometry%22%3A%20%7B%22coordinates%22%3A%20%5B%5B%5B127.01070894177482%2C%2037.54118048964762%5D%2C%20%5B127.02302831890559%2C%2037.53231899582663%5D%2C%20%5B127.01397119667513%2C%2037.52503988289669%5D%2C%20%5B126.98223807916081%2C%2037.509314966770326%5D%2C%20%5B126.95249990298159%2C%2037.51722500741813%5D%2C%20%5B126.94566733083212%2C%2037.526617542453366%5D%2C%20%5B126.96448570553055%2C%2037.548705692021635%5D%2C%20%5B126.98752996903328%2C%2037.55094818807139%5D%2C%20%5B127.01070894177482%2C%2037.54118048964762%5D%5D%5D%2C%20%22type%22%3A%20%22Polygon%22%7D%2C%20%22id%22%3A%20%22%5Cuc6a9%5Cuc0b0%5Cuad6c%22%2C%20%22properties%22%3A%20%7B%22base_year%22%3A%20%222013%22%2C%20%22code%22%3A%20%2211030%22%2C%20%22highlight%22%3A%20%7B%7D%2C%20%22name%22%3A%20%22%5Cuc6a9%5Cuc0b0%5Cuad6c%22%2C%20%22name_eng%22%3A%20%22Yongsan-gu%22%2C%20%22style%22%3A%20%7B%22color%22%3A%20%22black%22%2C%20%22fillColor%22%3A%20%22%23bfd3e6%22%2C%20%22fillOpacity%22%3A%200.6%2C%20%22opacity%22%3A%201%2C%20%22weight%22%3A%201%7D%7D%2C%20%22type%22%3A%20%22Feature%22%7D%2C%20%7B%22geometry%22%3A%20%7B%22coordinates%22%3A%20%5B%5B%5B127.02547266349976%2C%2037.568943552237734%5D%2C%20%5B127.01070894177482%2C%2037.54118048964762%5D%2C%20%5B126.98752996903328%2C%2037.55094818807139%5D%2C%20%5B126.96448570553055%2C%2037.548705692021635%5D%2C%20%5B126.96358226710812%2C%2037.55605635475154%5D%2C%20%5B126.96873633279075%2C%2037.56313604690827%5D%2C%20%5B127.02547266349976%2C%2037.568943552237734%5D%5D%5D%2C%20%22type%22%3A%20%22Polygon%22%7D%2C%20%22id%22%3A%20%22%5Cuc911%5Cuad6c%22%2C%20%22properties%22%3A%20%7B%22base_year%22%3A%20%222013%22%2C%20%22code%22%3A%20%2211020%22%2C%20%22highlight%22%3A%20%7B%7D%2C%20%22name%22%3A%20%22%5Cuc911%5Cuad6c%22%2C%20%22name_eng%22%3A%20%22Jung-gu%22%2C%20%22style%22%3A%20%7B%22color%22%3A%20%22black%22%2C%20%22fillColor%22%3A%20%22%239ebcda%22%2C%20%22fillOpacity%22%3A%200.6%2C%20%22opacity%22%3A%201%2C%20%22weight%22%3A%201%7D%7D%2C%20%22type%22%3A%20%22Feature%22%7D%2C%20%7B%22geometry%22%3A%20%7B%22coordinates%22%3A%20%5B%5B%5B126.9738864128702%2C%2037.62949634786888%5D%2C%20%5B126.977175406416%2C%2037.62859715400388%5D%2C%20%5B126.98879865992384%2C%2037.6118927319756%5D%2C%20%5B126.99348293358314%2C%2037.588565457216156%5D%2C%20%5B127.02527254528003%2C%2037.57524616245249%5D%2C%20%5B127.02547266349976%2C%2037.568943552237734%5D%2C%20%5B126.96873633279075%2C%2037.56313604690827%5D%2C%20%5B126.95565425846463%2C%2037.576080790881456%5D%2C%20%5B126.9524752030572%2C%2037.60508692737045%5D%2C%20%5B126.95427017006129%2C%2037.622033431339425%5D%2C%20%5B126.9738864128702%2C%2037.62949634786888%5D%5D%5D%2C%20%22type%22%3A%20%22Polygon%22%7D%2C%20%22id%22%3A%20%22%5Cuc885%5Cub85c%5Cuad6c%22%2C%20%22properties%22%3A%20%7B%22base_year%22%3A%20%222013%22%2C%20%22code%22%3A%20%2211010%22%2C%20%22highlight%22%3A%20%7B%7D%2C%20%22name%22%3A%20%22%5Cuc885%5Cub85c%5Cuad6c%22%2C%20%22name_eng%22%3A%20%22Jongno-gu%22%2C%20%22style%22%3A%20%7B%22color%22%3A%20%22black%22%2C%20%22fillColor%22%3A%20%22%23bfd3e6%22%2C%20%22fillOpacity%22%3A%200.6%2C%20%22opacity%22%3A%201%2C%20%22weight%22%3A%201%7D%7D%2C%20%22type%22%3A%20%22Feature%22%7D%5D%2C%20%22type%22%3A%20%22FeatureCollection%22%7D%2C%0A%20%20%20%20%20%20%20%20%20%20%20%20%7B%0A%20%20%20%20%20%20%20%20%20%20%20%20%7D%0A%20%20%20%20%20%20%20%20%29.addTo%28choropleth_998a5a417a07495a9c3825dde447572b%20%29%3B%0A%20%20%20%20%20%20%20%20geo_json_99560396b9c8400a9628ef4eed3ed929.setStyle%28function%28feature%29%20%7Breturn%20feature.properties.style%3B%7D%29%3B%0A%20%20%20%20%20%20%20%20%0A%20%20%20%20%0A%20%20%20%20var%20color_map_acb6fae95b2046ddba7458b7b3811968%20%3D%20%7B%7D%3B%0A%0A%20%20%20%20%0A%20%20%20%20color_map_acb6fae95b2046ddba7458b7b3811968.color%20%3D%20d3.scale.threshold%28%29%0A%20%20%20%20%20%20%20%20%20%20%20%20%20%20.domain%28%5B6.0%2C%208.112224448897795%2C%2010.224448897795591%2C%2012.336673346693388%2C%2014.448897795591183%2C%2016.561122244488978%2C%2018.673346693386776%2C%2020.785571142284567%2C%2022.897795591182366%2C%2025.01002004008016%2C%2027.122244488977955%2C%2029.23446893787575%2C%2031.34669338677355%2C%2033.45891783567134%2C%2035.571142284569135%2C%2037.68336673346693%2C%2039.79559118236473%2C%2041.90781563126252%2C%2044.02004008016032%2C%2046.13226452905812%2C%2048.24448897795591%2C%2050.35671342685371%2C%2052.4689378757515%2C%2054.5811623246493%2C%2056.6933867735471%2C%2058.80561122244489%2C%2060.91783567134269%2C%2063.03006012024048%2C%2065.14228456913827%2C%2067.25450901803607%2C%2069.36673346693387%2C%2071.47895791583166%2C%2073.59118236472946%2C%2075.70340681362725%2C%2077.81563126252505%2C%2079.92785571142285%2C%2082.04008016032064%2C%2084.15230460921843%2C%2086.26452905811624%2C%2088.37675350701403%2C%2090.48897795591182%2C%2092.60120240480961%2C%2094.71342685370742%2C%2096.82565130260521%2C%2098.937875751503%2C%20101.0501002004008%2C%20103.1623246492986%2C%20105.27454909819639%2C%20107.3867735470942%2C%20109.49899799599199%2C%20111.61122244488978%2C%20113.72344689378758%2C%20115.83567134268537%2C%20117.94789579158316%2C%20120.06012024048096%2C%20122.17234468937876%2C%20124.28456913827655%2C%20126.39679358717434%2C%20128.50901803607215%2C%20130.62124248496994%2C%20132.73346693386773%2C%20134.84569138276552%2C%20136.9579158316633%2C%20139.07014028056113%2C%20141.18236472945893%2C%20143.29458917835672%2C%20145.4068136272545%2C%20147.5190380761523%2C%20149.6312625250501%2C%20151.7434869739479%2C%20153.8557114228457%2C%20155.9679358717435%2C%20158.08016032064128%2C%20160.19238476953907%2C%20162.30460921843687%2C%20164.41683366733466%2C%20166.52905811623248%2C%20168.64128256513027%2C%20170.75350701402806%2C%20172.86573146292585%2C%20174.97795591182364%2C%20177.09018036072143%2C%20179.20240480961922%2C%20181.31462925851704%2C%20183.42685370741484%2C%20185.53907815631263%2C%20187.65130260521042%2C%20189.7635270541082%2C%20191.875751503006%2C%20193.98797595190382%2C%20196.1002004008016%2C%20198.2124248496994%2C%20200.3246492985972%2C%20202.43687374749499%2C%20204.54909819639278%2C%20206.66132264529057%2C%20208.7735470941884%2C%20210.88577154308618%2C%20212.99799599198397%2C%20215.11022044088176%2C%20217.22244488977955%2C%20219.33466933867734%2C%20221.44689378757516%2C%20223.55911823647295%2C%20225.67134268537075%2C%20227.78356713426854%2C%20229.89579158316633%2C%20232.00801603206412%2C%20234.1202404809619%2C%20236.23246492985973%2C%20238.34468937875752%2C%20240.4569138276553%2C%20242.5691382765531%2C%20244.6813627254509%2C%20246.7935871743487%2C%20248.9058116232465%2C%20251.0180360721443%2C%20253.1302605210421%2C%20255.24248496993988%2C%20257.3547094188377%2C%20259.46693386773546%2C%20261.57915831663325%2C%20263.69138276553105%2C%20265.80360721442884%2C%20267.9158316633266%2C%20270.0280561122245%2C%20272.14028056112227%2C%20274.25250501002006%2C%20276.36472945891785%2C%20278.47695390781564%2C%20280.58917835671343%2C%20282.7014028056112%2C%20284.813627254509%2C%20286.9258517034068%2C%20289.0380761523046%2C%20291.1503006012024%2C%20293.2625250501002%2C%20295.37474949899797%2C%20297.4869739478958%2C%20299.5991983967936%2C%20301.7114228456914%2C%20303.8236472945892%2C%20305.935871743487%2C%20308.0480961923848%2C%20310.16032064128257%2C%20312.27254509018036%2C%20314.38476953907815%2C%20316.49699398797594%2C%20318.60921843687373%2C%20320.7214428857715%2C%20322.8336673346693%2C%20324.9458917835671%2C%20327.05811623246495%2C%20329.17034068136275%2C%20331.28256513026054%2C%20333.3947895791583%2C%20335.5070140280561%2C%20337.6192384769539%2C%20339.7314629258517%2C%20341.8436873747495%2C%20343.9559118236473%2C%20346.0681362725451%2C%20348.18036072144287%2C%20350.29258517034066%2C%20352.40480961923845%2C%20354.5170340681363%2C%20356.6292585170341%2C%20358.7414829659319%2C%20360.85370741482967%2C%20362.96593186372746%2C%20365.07815631262525%2C%20367.19038076152304%2C%20369.30260521042084%2C%20371.4148296593186%2C%20373.5270541082164%2C%20375.6392785571142%2C%20377.751503006012%2C%20379.8637274549098%2C%20381.97595190380764%2C%20384.08817635270543%2C%20386.2004008016032%2C%20388.312625250501%2C%20390.4248496993988%2C%20392.5370741482966%2C%20394.6492985971944%2C%20396.7615230460922%2C%20398.87374749498997%2C%20400.98597194388776%2C%20403.09819639278555%2C%20405.21042084168334%2C%20407.32264529058114%2C%20409.434869739479%2C%20411.5470941883768%2C%20413.65931863727457%2C%20415.77154308617236%2C%20417.88376753507015%2C%20419.99599198396794%2C%20422.10821643286573%2C%20424.2204408817635%2C%20426.3326653306613%2C%20428.4448897795591%2C%20430.5571142284569%2C%20432.6693386773547%2C%20434.7815631262525%2C%20436.8937875751503%2C%20439.0060120240481%2C%20441.1182364729459%2C%20443.2304609218437%2C%20445.3426853707415%2C%20447.4549098196393%2C%20449.5671342685371%2C%20451.67935871743487%2C%20453.79158316633266%2C%20455.90380761523045%2C%20458.01603206412824%2C%20460.12825651302603%2C%20462.2404809619238%2C%20464.35270541082167%2C%20466.46492985971946%2C%20468.57715430861725%2C%20470.68937875751504%2C%20472.80160320641284%2C%20474.9138276553106%2C%20477.0260521042084%2C%20479.1382765531062%2C%20481.250501002004%2C%20483.3627254509018%2C%20485.4749498997996%2C%20487.5871743486974%2C%20489.69939879759517%2C%20491.811623246493%2C%20493.9238476953908%2C%20496.0360721442886%2C%20498.1482965931864%2C%20500.2605210420842%2C%20502.37274549098197%2C%20504.48496993987976%2C%20506.59719438877755%2C%20508.70941883767534%2C%20510.82164328657313%2C%20512.9338677354709%2C%20515.0460921843687%2C%20517.1583166332665%2C%20519.2705410821643%2C%20521.3827655310621%2C%20523.4949899799599%2C%20525.6072144288577%2C%20527.7194388777555%2C%20529.8316633266533%2C%20531.943887775551%2C%20534.056112224449%2C%20536.1683366733467%2C%20538.2805611222445%2C%20540.3927855711423%2C%20542.5050100200401%2C%20544.6172344689379%2C%20546.7294589178357%2C%20548.8416833667335%2C%20550.9539078156313%2C%20553.0661322645291%2C%20555.1783567134269%2C%20557.2905811623247%2C%20559.4028056112224%2C%20561.5150300601202%2C%20563.627254509018%2C%20565.7394789579158%2C%20567.8517034068136%2C%20569.9639278557114%2C%20572.0761523046092%2C%20574.188376753507%2C%20576.3006012024048%2C%20578.4128256513026%2C%20580.5250501002004%2C%20582.6372745490982%2C%20584.7494989979959%2C%20586.8617234468937%2C%20588.9739478957916%2C%20591.0861723446894%2C%20593.1983967935872%2C%20595.310621242485%2C%20597.4228456913828%2C%20599.5350701402806%2C%20601.6472945891784%2C%20603.7595190380762%2C%20605.871743486974%2C%20607.9839679358718%2C%20610.0961923847696%2C%20612.2084168336673%2C%20614.3206412825651%2C%20616.4328657314629%2C%20618.5450901803607%2C%20620.6573146292585%2C%20622.7695390781563%2C%20624.8817635270541%2C%20626.9939879759519%2C%20629.1062124248497%2C%20631.2184368737475%2C%20633.3306613226453%2C%20635.442885771543%2C%20637.5551102204408%2C%20639.6673346693386%2C%20641.7795591182364%2C%20643.8917835671342%2C%20646.0040080160321%2C%20648.1162324649299%2C%20650.2284569138277%2C%20652.3406813627255%2C%20654.4529058116233%2C%20656.5651302605211%2C%20658.6773547094189%2C%20660.7895791583167%2C%20662.9018036072144%2C%20665.0140280561122%2C%20667.12625250501%2C%20669.2384769539078%2C%20671.3507014028056%2C%20673.4629258517034%2C%20675.5751503006012%2C%20677.687374749499%2C%20679.7995991983968%2C%20681.9118236472946%2C%20684.0240480961924%2C%20686.1362725450902%2C%20688.2484969939879%2C%20690.3607214428857%2C%20692.4729458917835%2C%20694.5851703406813%2C%20696.6973947895791%2C%20698.8096192384769%2C%20700.9218436873748%2C%20703.0340681362726%2C%20705.1462925851704%2C%20707.2585170340682%2C%20709.370741482966%2C%20711.4829659318638%2C%20713.5951903807616%2C%20715.7074148296593%2C%20717.8196392785571%2C%20719.9318637274549%2C%20722.0440881763527%2C%20724.1563126252505%2C%20726.2685370741483%2C%20728.3807615230461%2C%20730.4929859719439%2C%20732.6052104208417%2C%20734.7174348697395%2C%20736.8296593186373%2C%20738.941883767535%2C%20741.0541082164328%2C%20743.1663326653306%2C%20745.2785571142284%2C%20747.3907815631262%2C%20749.503006012024%2C%20751.6152304609218%2C%20753.7274549098196%2C%20755.8396793587175%2C%20757.9519038076153%2C%20760.0641282565131%2C%20762.1763527054109%2C%20764.2885771543087%2C%20766.4008016032064%2C%20768.5130260521042%2C%20770.625250501002%2C%20772.7374749498998%2C%20774.8496993987976%2C%20776.9619238476954%2C%20779.0741482965932%2C%20781.186372745491%2C%20783.2985971943888%2C%20785.4108216432866%2C%20787.5230460921844%2C%20789.6352705410821%2C%20791.7474949899799%2C%20793.8597194388777%2C%20795.9719438877755%2C%20798.0841683366733%2C%20800.1963927855711%2C%20802.3086172344689%2C%20804.4208416833667%2C%20806.5330661322645%2C%20808.6452905811623%2C%20810.7575150300602%2C%20812.869739478958%2C%20814.9819639278558%2C%20817.0941883767536%2C%20819.2064128256513%2C%20821.3186372745491%2C%20823.4308617234469%2C%20825.5430861723447%2C%20827.6553106212425%2C%20829.7675350701403%2C%20831.8797595190381%2C%20833.9919839679359%2C%20836.1042084168337%2C%20838.2164328657315%2C%20840.3286573146293%2C%20842.440881763527%2C%20844.5531062124248%2C%20846.6653306613226%2C%20848.7775551102204%2C%20850.8897795591182%2C%20853.002004008016%2C%20855.1142284569138%2C%20857.2264529058116%2C%20859.3386773547094%2C%20861.4509018036072%2C%20863.563126252505%2C%20865.6753507014027%2C%20867.7875751503007%2C%20869.8997995991984%2C%20872.0120240480962%2C%20874.124248496994%2C%20876.2364729458918%2C%20878.3486973947896%2C%20880.4609218436874%2C%20882.5731462925852%2C%20884.685370741483%2C%20886.7975951903808%2C%20888.9098196392786%2C%20891.0220440881764%2C%20893.1342685370741%2C%20895.2464929859719%2C%20897.3587174348697%2C%20899.4709418837675%2C%20901.5831663326653%2C%20903.6953907815631%2C%20905.8076152304609%2C%20907.9198396793587%2C%20910.0320641282565%2C%20912.1442885771543%2C%20914.2565130260521%2C%20916.3687374749499%2C%20918.4809619238476%2C%20920.5931863727454%2C%20922.7054108216433%2C%20924.8176352705411%2C%20926.9298597194389%2C%20929.0420841683367%2C%20931.1543086172345%2C%20933.2665330661323%2C%20935.3787575150301%2C%20937.4909819639279%2C%20939.6032064128257%2C%20941.7154308617235%2C%20943.8276553106213%2C%20945.939879759519%2C%20948.0521042084168%2C%20950.1643286573146%2C%20952.2765531062124%2C%20954.3887775551102%2C%20956.501002004008%2C%20958.6132264529058%2C%20960.7254509018036%2C%20962.8376753507014%2C%20964.9498997995992%2C%20967.062124248497%2C%20969.1743486973947%2C%20971.2865731462925%2C%20973.3987975951903%2C%20975.5110220440881%2C%20977.623246492986%2C%20979.7354709418838%2C%20981.8476953907816%2C%20983.9599198396794%2C%20986.0721442885772%2C%20988.184368737475%2C%20990.2965931863728%2C%20992.4088176352706%2C%20994.5210420841684%2C%20996.6332665330661%2C%20998.7454909819639%2C%201000.8577154308617%2C%201002.9699398797595%2C%201005.0821643286573%2C%201007.1943887775551%2C%201009.3066132264529%2C%201011.4188376753507%2C%201013.5310621242485%2C%201015.6432865731463%2C%201017.7555110220441%2C%201019.8677354709419%2C%201021.9799599198396%2C%201024.0921843687374%2C%201026.2044088176353%2C%201028.316633266533%2C%201030.428857715431%2C%201032.5410821643286%2C%201034.6533066132265%2C%201036.7655310621242%2C%201038.877755511022%2C%201040.9899799599198%2C%201043.1022044088177%2C%201045.2144288577153%2C%201047.3266533066133%2C%201049.438877755511%2C%201051.5511022044088%2C%201053.6633266533065%2C%201055.7755511022044%2C%201057.887775551102%2C%201060.0%5D%29%0A%20%20%20%20%20%20%20%20%20%20%20%20%20%20.range%28%5B%27%23edf8fbff%27%2C%20%27%23edf8fbff%27%2C%20%27%23edf8fbff%27%2C%20%27%23edf8fbff%27%2C%20%27%23edf8fbff%27%2C%20%27%23edf8fbff%27%2C%20%27%23edf8fbff%27%2C%20%27%23edf8fbff%27%2C%20%27%23edf8fbff%27%2C%20%27%23edf8fbff%27%2C%20%27%23edf8fbff%27%2C%20%27%23edf8fbff%27%2C%20%27%23edf8fbff%27%2C%20%27%23edf8fbff%27%2C%20%27%23edf8fbff%27%2C%20%27%23edf8fbff%27%2C%20%27%23edf8fbff%27%2C%20%27%23edf8fbff%27%2C%20%27%23edf8fbff%27%2C%20%27%23edf8fbff%27%2C%20%27%23edf8fbff%27%2C%20%27%23edf8fbff%27%2C%20%27%23edf8fbff%27%2C%20%27%23edf8fbff%27%2C%20%27%23edf8fbff%27%2C%20%27%23edf8fbff%27%2C%20%27%23edf8fbff%27%2C%20%27%23edf8fbff%27%2C%20%27%23edf8fbff%27%2C%20%27%23edf8fbff%27%2C%20%27%23edf8fbff%27%2C%20%27%23edf8fbff%27%2C%20%27%23edf8fbff%27%2C%20%27%23edf8fbff%27%2C%20%27%23edf8fbff%27%2C%20%27%23edf8fbff%27%2C%20%27%23edf8fbff%27%2C%20%27%23edf8fbff%27%2C%20%27%23edf8fbff%27%2C%20%27%23edf8fbff%27%2C%20%27%23edf8fbff%27%2C%20%27%23edf8fbff%27%2C%20%27%23edf8fbff%27%2C%20%27%23edf8fbff%27%2C%20%27%23edf8fbff%27%2C%20%27%23edf8fbff%27%2C%20%27%23edf8fbff%27%2C%20%27%23edf8fbff%27%2C%20%27%23edf8fbff%27%2C%20%27%23edf8fbff%27%2C%20%27%23edf8fbff%27%2C%20%27%23edf8fbff%27%2C%20%27%23edf8fbff%27%2C%20%27%23edf8fbff%27%2C%20%27%23edf8fbff%27%2C%20%27%23edf8fbff%27%2C%20%27%23edf8fbff%27%2C%20%27%23edf8fbff%27%2C%20%27%23edf8fbff%27%2C%20%27%23edf8fbff%27%2C%20%27%23edf8fbff%27%2C%20%27%23edf8fbff%27%2C%20%27%23edf8fbff%27%2C%20%27%23edf8fbff%27%2C%20%27%23edf8fbff%27%2C%20%27%23edf8fbff%27%2C%20%27%23edf8fbff%27%2C%20%27%23edf8fbff%27%2C%20%27%23edf8fbff%27%2C%20%27%23edf8fbff%27%2C%20%27%23edf8fbff%27%2C%20%27%23edf8fbff%27%2C%20%27%23edf8fbff%27%2C%20%27%23edf8fbff%27%2C%20%27%23edf8fbff%27%2C%20%27%23edf8fbff%27%2C%20%27%23edf8fbff%27%2C%20%27%23edf8fbff%27%2C%20%27%23edf8fbff%27%2C%20%27%23edf8fbff%27%2C%20%27%23edf8fbff%27%2C%20%27%23edf8fbff%27%2C%20%27%23edf8fbff%27%2C%20%27%23edf8fbff%27%2C%20%27%23bfd3e6ff%27%2C%20%27%23bfd3e6ff%27%2C%20%27%23bfd3e6ff%27%2C%20%27%23bfd3e6ff%27%2C%20%27%23bfd3e6ff%27%2C%20%27%23bfd3e6ff%27%2C%20%27%23bfd3e6ff%27%2C%20%27%23bfd3e6ff%27%2C%20%27%23bfd3e6ff%27%2C%20%27%23bfd3e6ff%27%2C%20%27%23bfd3e6ff%27%2C%20%27%23bfd3e6ff%27%2C%20%27%23bfd3e6ff%27%2C%20%27%23bfd3e6ff%27%2C%20%27%23bfd3e6ff%27%2C%20%27%23bfd3e6ff%27%2C%20%27%23bfd3e6ff%27%2C%20%27%23bfd3e6ff%27%2C%20%27%23bfd3e6ff%27%2C%20%27%23bfd3e6ff%27%2C%20%27%23bfd3e6ff%27%2C%20%27%23bfd3e6ff%27%2C%20%27%23bfd3e6ff%27%2C%20%27%23bfd3e6ff%27%2C%20%27%23bfd3e6ff%27%2C%20%27%23bfd3e6ff%27%2C%20%27%23bfd3e6ff%27%2C%20%27%23bfd3e6ff%27%2C%20%27%23bfd3e6ff%27%2C%20%27%23bfd3e6ff%27%2C%20%27%23bfd3e6ff%27%2C%20%27%23bfd3e6ff%27%2C%20%27%23bfd3e6ff%27%2C%20%27%23bfd3e6ff%27%2C%20%27%23bfd3e6ff%27%2C%20%27%23bfd3e6ff%27%2C%20%27%23bfd3e6ff%27%2C%20%27%23bfd3e6ff%27%2C%20%27%23bfd3e6ff%27%2C%20%27%23bfd3e6ff%27%2C%20%27%23bfd3e6ff%27%2C%20%27%23bfd3e6ff%27%2C%20%27%23bfd3e6ff%27%2C%20%27%23bfd3e6ff%27%2C%20%27%23bfd3e6ff%27%2C%20%27%23bfd3e6ff%27%2C%20%27%23bfd3e6ff%27%2C%20%27%23bfd3e6ff%27%2C%20%27%23bfd3e6ff%27%2C%20%27%23bfd3e6ff%27%2C%20%27%23bfd3e6ff%27%2C%20%27%23bfd3e6ff%27%2C%20%27%23bfd3e6ff%27%2C%20%27%23bfd3e6ff%27%2C%20%27%23bfd3e6ff%27%2C%20%27%23bfd3e6ff%27%2C%20%27%23bfd3e6ff%27%2C%20%27%23bfd3e6ff%27%2C%20%27%23bfd3e6ff%27%2C%20%27%23bfd3e6ff%27%2C%20%27%23bfd3e6ff%27%2C%20%27%23bfd3e6ff%27%2C%20%27%23bfd3e6ff%27%2C%20%27%23bfd3e6ff%27%2C%20%27%23bfd3e6ff%27%2C%20%27%23bfd3e6ff%27%2C%20%27%23bfd3e6ff%27%2C%20%27%23bfd3e6ff%27%2C%20%27%23bfd3e6ff%27%2C%20%27%23bfd3e6ff%27%2C%20%27%23bfd3e6ff%27%2C%20%27%23bfd3e6ff%27%2C%20%27%23bfd3e6ff%27%2C%20%27%23bfd3e6ff%27%2C%20%27%23bfd3e6ff%27%2C%20%27%23bfd3e6ff%27%2C%20%27%23bfd3e6ff%27%2C%20%27%23bfd3e6ff%27%2C%20%27%23bfd3e6ff%27%2C%20%27%23bfd3e6ff%27%2C%20%27%23bfd3e6ff%27%2C%20%27%23bfd3e6ff%27%2C%20%27%23bfd3e6ff%27%2C%20%27%239ebcdaff%27%2C%20%27%239ebcdaff%27%2C%20%27%239ebcdaff%27%2C%20%27%239ebcdaff%27%2C%20%27%239ebcdaff%27%2C%20%27%239ebcdaff%27%2C%20%27%239ebcdaff%27%2C%20%27%239ebcdaff%27%2C%20%27%239ebcdaff%27%2C%20%27%239ebcdaff%27%2C%20%27%239ebcdaff%27%2C%20%27%239ebcdaff%27%2C%20%27%239ebcdaff%27%2C%20%27%239ebcdaff%27%2C%20%27%239ebcdaff%27%2C%20%27%239ebcdaff%27%2C%20%27%239ebcdaff%27%2C%20%27%239ebcdaff%27%2C%20%27%239ebcdaff%27%2C%20%27%239ebcdaff%27%2C%20%27%239ebcdaff%27%2C%20%27%239ebcdaff%27%2C%20%27%239ebcdaff%27%2C%20%27%239ebcdaff%27%2C%20%27%239ebcdaff%27%2C%20%27%239ebcdaff%27%2C%20%27%239ebcdaff%27%2C%20%27%239ebcdaff%27%2C%20%27%239ebcdaff%27%2C%20%27%239ebcdaff%27%2C%20%27%239ebcdaff%27%2C%20%27%239ebcdaff%27%2C%20%27%239ebcdaff%27%2C%20%27%239ebcdaff%27%2C%20%27%239ebcdaff%27%2C%20%27%239ebcdaff%27%2C%20%27%239ebcdaff%27%2C%20%27%239ebcdaff%27%2C%20%27%239ebcdaff%27%2C%20%27%239ebcdaff%27%2C%20%27%239ebcdaff%27%2C%20%27%239ebcdaff%27%2C%20%27%239ebcdaff%27%2C%20%27%239ebcdaff%27%2C%20%27%239ebcdaff%27%2C%20%27%239ebcdaff%27%2C%20%27%239ebcdaff%27%2C%20%27%239ebcdaff%27%2C%20%27%239ebcdaff%27%2C%20%27%239ebcdaff%27%2C%20%27%239ebcdaff%27%2C%20%27%239ebcdaff%27%2C%20%27%239ebcdaff%27%2C%20%27%239ebcdaff%27%2C%20%27%239ebcdaff%27%2C%20%27%239ebcdaff%27%2C%20%27%239ebcdaff%27%2C%20%27%239ebcdaff%27%2C%20%27%239ebcdaff%27%2C%20%27%239ebcdaff%27%2C%20%27%239ebcdaff%27%2C%20%27%239ebcdaff%27%2C%20%27%239ebcdaff%27%2C%20%27%239ebcdaff%27%2C%20%27%239ebcdaff%27%2C%20%27%239ebcdaff%27%2C%20%27%239ebcdaff%27%2C%20%27%239ebcdaff%27%2C%20%27%239ebcdaff%27%2C%20%27%239ebcdaff%27%2C%20%27%239ebcdaff%27%2C%20%27%239ebcdaff%27%2C%20%27%239ebcdaff%27%2C%20%27%239ebcdaff%27%2C%20%27%239ebcdaff%27%2C%20%27%239ebcdaff%27%2C%20%27%239ebcdaff%27%2C%20%27%239ebcdaff%27%2C%20%27%239ebcdaff%27%2C%20%27%239ebcdaff%27%2C%20%27%239ebcdaff%27%2C%20%27%239ebcdaff%27%2C%20%27%239ebcdaff%27%2C%20%27%238c96c6ff%27%2C%20%27%238c96c6ff%27%2C%20%27%238c96c6ff%27%2C%20%27%238c96c6ff%27%2C%20%27%238c96c6ff%27%2C%20%27%238c96c6ff%27%2C%20%27%238c96c6ff%27%2C%20%27%238c96c6ff%27%2C%20%27%238c96c6ff%27%2C%20%27%238c96c6ff%27%2C%20%27%238c96c6ff%27%2C%20%27%238c96c6ff%27%2C%20%27%238c96c6ff%27%2C%20%27%238c96c6ff%27%2C%20%27%238c96c6ff%27%2C%20%27%238c96c6ff%27%2C%20%27%238c96c6ff%27%2C%20%27%238c96c6ff%27%2C%20%27%238c96c6ff%27%2C%20%27%238c96c6ff%27%2C%20%27%238c96c6ff%27%2C%20%27%238c96c6ff%27%2C%20%27%238c96c6ff%27%2C%20%27%238c96c6ff%27%2C%20%27%238c96c6ff%27%2C%20%27%238c96c6ff%27%2C%20%27%238c96c6ff%27%2C%20%27%238c96c6ff%27%2C%20%27%238c96c6ff%27%2C%20%27%238c96c6ff%27%2C%20%27%238c96c6ff%27%2C%20%27%238c96c6ff%27%2C%20%27%238c96c6ff%27%2C%20%27%238c96c6ff%27%2C%20%27%238c96c6ff%27%2C%20%27%238c96c6ff%27%2C%20%27%238c96c6ff%27%2C%20%27%238c96c6ff%27%2C%20%27%238c96c6ff%27%2C%20%27%238c96c6ff%27%2C%20%27%238c96c6ff%27%2C%20%27%238c96c6ff%27%2C%20%27%238c96c6ff%27%2C%20%27%238c96c6ff%27%2C%20%27%238c96c6ff%27%2C%20%27%238c96c6ff%27%2C%20%27%238c96c6ff%27%2C%20%27%238c96c6ff%27%2C%20%27%238c96c6ff%27%2C%20%27%238c96c6ff%27%2C%20%27%238c96c6ff%27%2C%20%27%238c96c6ff%27%2C%20%27%238c96c6ff%27%2C%20%27%238c96c6ff%27%2C%20%27%238c96c6ff%27%2C%20%27%238c96c6ff%27%2C%20%27%238c96c6ff%27%2C%20%27%238c96c6ff%27%2C%20%27%238c96c6ff%27%2C%20%27%238c96c6ff%27%2C%20%27%238c96c6ff%27%2C%20%27%238c96c6ff%27%2C%20%27%238c96c6ff%27%2C%20%27%238c96c6ff%27%2C%20%27%238c96c6ff%27%2C%20%27%238c96c6ff%27%2C%20%27%238c96c6ff%27%2C%20%27%238c96c6ff%27%2C%20%27%238c96c6ff%27%2C%20%27%238c96c6ff%27%2C%20%27%238c96c6ff%27%2C%20%27%238c96c6ff%27%2C%20%27%238c96c6ff%27%2C%20%27%238c96c6ff%27%2C%20%27%238c96c6ff%27%2C%20%27%238c96c6ff%27%2C%20%27%238c96c6ff%27%2C%20%27%238c96c6ff%27%2C%20%27%238c96c6ff%27%2C%20%27%238c96c6ff%27%2C%20%27%238c96c6ff%27%2C%20%27%238c96c6ff%27%2C%20%27%238c96c6ff%27%2C%20%27%238856a7ff%27%2C%20%27%238856a7ff%27%2C%20%27%238856a7ff%27%2C%20%27%238856a7ff%27%2C%20%27%238856a7ff%27%2C%20%27%238856a7ff%27%2C%20%27%238856a7ff%27%2C%20%27%238856a7ff%27%2C%20%27%238856a7ff%27%2C%20%27%238856a7ff%27%2C%20%27%238856a7ff%27%2C%20%27%238856a7ff%27%2C%20%27%238856a7ff%27%2C%20%27%238856a7ff%27%2C%20%27%238856a7ff%27%2C%20%27%238856a7ff%27%2C%20%27%238856a7ff%27%2C%20%27%238856a7ff%27%2C%20%27%238856a7ff%27%2C%20%27%238856a7ff%27%2C%20%27%238856a7ff%27%2C%20%27%238856a7ff%27%2C%20%27%238856a7ff%27%2C%20%27%238856a7ff%27%2C%20%27%238856a7ff%27%2C%20%27%238856a7ff%27%2C%20%27%238856a7ff%27%2C%20%27%238856a7ff%27%2C%20%27%238856a7ff%27%2C%20%27%238856a7ff%27%2C%20%27%238856a7ff%27%2C%20%27%238856a7ff%27%2C%20%27%238856a7ff%27%2C%20%27%238856a7ff%27%2C%20%27%238856a7ff%27%2C%20%27%238856a7ff%27%2C%20%27%238856a7ff%27%2C%20%27%238856a7ff%27%2C%20%27%238856a7ff%27%2C%20%27%238856a7ff%27%2C%20%27%238856a7ff%27%2C%20%27%238856a7ff%27%2C%20%27%238856a7ff%27%2C%20%27%238856a7ff%27%2C%20%27%238856a7ff%27%2C%20%27%238856a7ff%27%2C%20%27%238856a7ff%27%2C%20%27%238856a7ff%27%2C%20%27%238856a7ff%27%2C%20%27%238856a7ff%27%2C%20%27%238856a7ff%27%2C%20%27%238856a7ff%27%2C%20%27%238856a7ff%27%2C%20%27%238856a7ff%27%2C%20%27%238856a7ff%27%2C%20%27%238856a7ff%27%2C%20%27%238856a7ff%27%2C%20%27%238856a7ff%27%2C%20%27%238856a7ff%27%2C%20%27%238856a7ff%27%2C%20%27%238856a7ff%27%2C%20%27%238856a7ff%27%2C%20%27%238856a7ff%27%2C%20%27%238856a7ff%27%2C%20%27%238856a7ff%27%2C%20%27%238856a7ff%27%2C%20%27%238856a7ff%27%2C%20%27%238856a7ff%27%2C%20%27%238856a7ff%27%2C%20%27%238856a7ff%27%2C%20%27%238856a7ff%27%2C%20%27%238856a7ff%27%2C%20%27%238856a7ff%27%2C%20%27%238856a7ff%27%2C%20%27%238856a7ff%27%2C%20%27%238856a7ff%27%2C%20%27%238856a7ff%27%2C%20%27%238856a7ff%27%2C%20%27%238856a7ff%27%2C%20%27%238856a7ff%27%2C%20%27%238856a7ff%27%2C%20%27%238856a7ff%27%2C%20%27%238856a7ff%27%2C%20%27%23810f7cff%27%2C%20%27%23810f7cff%27%2C%20%27%23810f7cff%27%2C%20%27%23810f7cff%27%2C%20%27%23810f7cff%27%2C%20%27%23810f7cff%27%2C%20%27%23810f7cff%27%2C%20%27%23810f7cff%27%2C%20%27%23810f7cff%27%2C%20%27%23810f7cff%27%2C%20%27%23810f7cff%27%2C%20%27%23810f7cff%27%2C%20%27%23810f7cff%27%2C%20%27%23810f7cff%27%2C%20%27%23810f7cff%27%2C%20%27%23810f7cff%27%2C%20%27%23810f7cff%27%2C%20%27%23810f7cff%27%2C%20%27%23810f7cff%27%2C%20%27%23810f7cff%27%2C%20%27%23810f7cff%27%2C%20%27%23810f7cff%27%2C%20%27%23810f7cff%27%2C%20%27%23810f7cff%27%2C%20%27%23810f7cff%27%2C%20%27%23810f7cff%27%2C%20%27%23810f7cff%27%2C%20%27%23810f7cff%27%2C%20%27%23810f7cff%27%2C%20%27%23810f7cff%27%2C%20%27%23810f7cff%27%2C%20%27%23810f7cff%27%2C%20%27%23810f7cff%27%2C%20%27%23810f7cff%27%2C%20%27%23810f7cff%27%2C%20%27%23810f7cff%27%2C%20%27%23810f7cff%27%2C%20%27%23810f7cff%27%2C%20%27%23810f7cff%27%2C%20%27%23810f7cff%27%2C%20%27%23810f7cff%27%2C%20%27%23810f7cff%27%2C%20%27%23810f7cff%27%2C%20%27%23810f7cff%27%2C%20%27%23810f7cff%27%2C%20%27%23810f7cff%27%2C%20%27%23810f7cff%27%2C%20%27%23810f7cff%27%2C%20%27%23810f7cff%27%2C%20%27%23810f7cff%27%2C%20%27%23810f7cff%27%2C%20%27%23810f7cff%27%2C%20%27%23810f7cff%27%2C%20%27%23810f7cff%27%2C%20%27%23810f7cff%27%2C%20%27%23810f7cff%27%2C%20%27%23810f7cff%27%2C%20%27%23810f7cff%27%2C%20%27%23810f7cff%27%2C%20%27%23810f7cff%27%2C%20%27%23810f7cff%27%2C%20%27%23810f7cff%27%2C%20%27%23810f7cff%27%2C%20%27%23810f7cff%27%2C%20%27%23810f7cff%27%2C%20%27%23810f7cff%27%2C%20%27%23810f7cff%27%2C%20%27%23810f7cff%27%2C%20%27%23810f7cff%27%2C%20%27%23810f7cff%27%2C%20%27%23810f7cff%27%2C%20%27%23810f7cff%27%2C%20%27%23810f7cff%27%2C%20%27%23810f7cff%27%2C%20%27%23810f7cff%27%2C%20%27%23810f7cff%27%2C%20%27%23810f7cff%27%2C%20%27%23810f7cff%27%2C%20%27%23810f7cff%27%2C%20%27%23810f7cff%27%2C%20%27%23810f7cff%27%2C%20%27%23810f7cff%27%2C%20%27%23810f7cff%27%2C%20%27%23810f7cff%27%5D%29%3B%0A%20%20%20%20%0A%0A%20%20%20%20color_map_acb6fae95b2046ddba7458b7b3811968.x%20%3D%20d3.scale.linear%28%29%0A%20%20%20%20%20%20%20%20%20%20%20%20%20%20.domain%28%5B6.0%2C%201060.0%5D%29%0A%20%20%20%20%20%20%20%20%20%20%20%20%20%20.range%28%5B0%2C%20400%5D%29%3B%0A%0A%20%20%20%20color_map_acb6fae95b2046ddba7458b7b3811968.legend%20%3D%20L.control%28%7Bposition%3A%20%27topright%27%7D%29%3B%0A%20%20%20%20color_map_acb6fae95b2046ddba7458b7b3811968.legend.onAdd%20%3D%20function%20%28map%29%20%7Bvar%20div%20%3D%20L.DomUtil.create%28%27div%27%2C%20%27legend%27%29%3B%20return%20div%7D%3B%0A%20%20%20%20color_map_acb6fae95b2046ddba7458b7b3811968.legend.addTo%28map_554eb39282c54042a4fb9c3faca027b3%29%3B%0A%0A%20%20%20%20color_map_acb6fae95b2046ddba7458b7b3811968.xAxis%20%3D%20d3.svg.axis%28%29%0A%20%20%20%20%20%20%20%20.scale%28color_map_acb6fae95b2046ddba7458b7b3811968.x%29%0A%20%20%20%20%20%20%20%20.orient%28%22top%22%29%0A%20%20%20%20%20%20%20%20.tickSize%281%29%0A%20%20%20%20%20%20%20%20.tickValues%28%5B6.0%2C%20181.66666666666666%2C%20357.3333333333333%2C%20533.0%2C%20708.6666666666666%2C%20884.3333333333333%2C%201060.0%5D%29%3B%0A%0A%20%20%20%20color_map_acb6fae95b2046ddba7458b7b3811968.svg%20%3D%20d3.select%28%22.legend.leaflet-control%22%29.append%28%22svg%22%29%0A%20%20%20%20%20%20%20%20.attr%28%22id%22%2C%20%27legend%27%29%0A%20%20%20%20%20%20%20%20.attr%28%22width%22%2C%20450%29%0A%20%20%20%20%20%20%20%20.attr%28%22height%22%2C%2040%29%3B%0A%0A%20%20%20%20color_map_acb6fae95b2046ddba7458b7b3811968.g%20%3D%20color_map_acb6fae95b2046ddba7458b7b3811968.svg.append%28%22g%22%29%0A%20%20%20%20%20%20%20%20.attr%28%22class%22%2C%20%22key%22%29%0A%20%20%20%20%20%20%20%20.attr%28%22transform%22%2C%20%22translate%2825%2C16%29%22%29%3B%0A%0A%20%20%20%20color_map_acb6fae95b2046ddba7458b7b3811968.g.selectAll%28%22rect%22%29%0A%20%20%20%20%20%20%20%20.data%28color_map_acb6fae95b2046ddba7458b7b3811968.color.range%28%29.map%28function%28d%2C%20i%29%20%7B%0A%20%20%20%20%20%20%20%20%20%20return%20%7B%0A%20%20%20%20%20%20%20%20%20%20%20%20x0%3A%20i%20%3F%20color_map_acb6fae95b2046ddba7458b7b3811968.x%28color_map_acb6fae95b2046ddba7458b7b3811968.color.domain%28%29%5Bi%20-%201%5D%29%20%3A%20color_map_acb6fae95b2046ddba7458b7b3811968.x.range%28%29%5B0%5D%2C%0A%20%20%20%20%20%20%20%20%20%20%20%20x1%3A%20i%20%3C%20color_map_acb6fae95b2046ddba7458b7b3811968.color.domain%28%29.length%20%3F%20color_map_acb6fae95b2046ddba7458b7b3811968.x%28color_map_acb6fae95b2046ddba7458b7b3811968.color.domain%28%29%5Bi%5D%29%20%3A%20color_map_acb6fae95b2046ddba7458b7b3811968.x.range%28%29%5B1%5D%2C%0A%20%20%20%20%20%20%20%20%20%20%20%20z%3A%20d%0A%20%20%20%20%20%20%20%20%20%20%7D%3B%0A%20%20%20%20%20%20%20%20%7D%29%29%0A%20%20%20%20%20%20.enter%28%29.append%28%22rect%22%29%0A%20%20%20%20%20%20%20%20.attr%28%22height%22%2C%2010%29%0A%20%20%20%20%20%20%20%20.attr%28%22x%22%2C%20function%28d%29%20%7B%20return%20d.x0%3B%20%7D%29%0A%20%20%20%20%20%20%20%20.attr%28%22width%22%2C%20function%28d%29%20%7B%20return%20d.x1%20-%20d.x0%3B%20%7D%29%0A%20%20%20%20%20%20%20%20.style%28%22fill%22%2C%20function%28d%29%20%7B%20return%20d.z%3B%20%7D%29%3B%0A%0A%20%20%20%20color_map_acb6fae95b2046ddba7458b7b3811968.g.call%28color_map_acb6fae95b2046ddba7458b7b3811968.xAxis%29.append%28%22text%22%29%0A%20%20%20%20%20%20%20%20.attr%28%22class%22%2C%20%22caption%22%29%0A%20%20%20%20%20%20%20%20.attr%28%22y%22%2C%2021%29%0A%20%20%20%20%20%20%20%20.text%28%272017%EB%85%84%27%29%3B%0A%3C/script%3E onload=\"this.contentDocument.open();this.contentDocument.write(    decodeURIComponent(this.getAttribute('data-html')));this.contentDocument.close();\" allowfullscreen webkitallowfullscreen mozallowfullscreen></iframe></div></div>"
            ],
            "text/plain": [
              "<folium.folium.Map at 0x7f13976ced10>"
            ]
          },
          "metadata": {},
          "execution_count": 68
        }
      ]
    },
    {
      "cell_type": "code",
      "metadata": {
        "colab": {
          "base_uri": "https://localhost:8080/",
          "height": 711
        },
        "id": "cieuWg0IPyx6",
        "outputId": "4b6bb32d-9e22-4d1a-dd8d-76669237e4cb"
      },
      "source": [
        "center = [37.581, 126.986]    # 서울 중심부 위도, 경도\n",
        "map = folium.Map(location=center, zoom_start=11, tiles='Stamen Toner')\n",
        "\n",
        "folium.TileLayer('cartodbpositron').add_to(map)\n",
        "folium.Choropleth(\n",
        "    geo_data=geo_data,\n",
        "    data = spsc,\n",
        "    columns = ('자치구','2020년'),\n",
        "    key_on = 'feature.id',    # geo_data 의 지역명\n",
        "    fill_color = 'BuPu',\n",
        "    legend_name = '2020년'\n",
        ").add_to(map)\n",
        "title = '<h3 align=\"center\" style=\"font-size:20px\">서울시 20년 구별 cctv설치율</h3>'\n",
        "map.get_root().html.add_child(folium.Element(title))\n",
        "map"
      ],
      "execution_count": 69,
      "outputs": [
        {
          "output_type": "execute_result",
          "data": {
            "text/html": [
              "<div style=\"width:100%;\"><div style=\"position:relative;width:100%;height:0;padding-bottom:60%;\"><span style=\"color:#565656\">Make this Notebook Trusted to load map: File -> Trust Notebook</span><iframe src=\"about:blank\" style=\"position:absolute;width:100%;height:100%;left:0;top:0;border:none !important;\" data-html=%3C%21DOCTYPE%20html%3E%0A%3Chead%3E%20%20%20%20%0A%20%20%20%20%3Cmeta%20http-equiv%3D%22content-type%22%20content%3D%22text/html%3B%20charset%3DUTF-8%22%20/%3E%0A%20%20%20%20%3Cscript%3EL_PREFER_CANVAS%3Dfalse%3B%20L_NO_TOUCH%3Dfalse%3B%20L_DISABLE_3D%3Dfalse%3B%3C/script%3E%0A%20%20%20%20%3Cscript%20src%3D%22https%3A//cdn.jsdelivr.net/npm/leaflet%401.4.0/dist/leaflet.js%22%3E%3C/script%3E%0A%20%20%20%20%3Cscript%20src%3D%22https%3A//code.jquery.com/jquery-1.12.4.min.js%22%3E%3C/script%3E%0A%20%20%20%20%3Cscript%20src%3D%22https%3A//maxcdn.bootstrapcdn.com/bootstrap/3.2.0/js/bootstrap.min.js%22%3E%3C/script%3E%0A%20%20%20%20%3Cscript%20src%3D%22https%3A//cdnjs.cloudflare.com/ajax/libs/Leaflet.awesome-markers/2.0.2/leaflet.awesome-markers.js%22%3E%3C/script%3E%0A%20%20%20%20%3Clink%20rel%3D%22stylesheet%22%20href%3D%22https%3A//cdn.jsdelivr.net/npm/leaflet%401.4.0/dist/leaflet.css%22/%3E%0A%20%20%20%20%3Clink%20rel%3D%22stylesheet%22%20href%3D%22https%3A//maxcdn.bootstrapcdn.com/bootstrap/3.2.0/css/bootstrap.min.css%22/%3E%0A%20%20%20%20%3Clink%20rel%3D%22stylesheet%22%20href%3D%22https%3A//maxcdn.bootstrapcdn.com/bootstrap/3.2.0/css/bootstrap-theme.min.css%22/%3E%0A%20%20%20%20%3Clink%20rel%3D%22stylesheet%22%20href%3D%22https%3A//maxcdn.bootstrapcdn.com/font-awesome/4.6.3/css/font-awesome.min.css%22/%3E%0A%20%20%20%20%3Clink%20rel%3D%22stylesheet%22%20href%3D%22https%3A//cdnjs.cloudflare.com/ajax/libs/Leaflet.awesome-markers/2.0.2/leaflet.awesome-markers.css%22/%3E%0A%20%20%20%20%3Clink%20rel%3D%22stylesheet%22%20href%3D%22https%3A//rawcdn.githack.com/python-visualization/folium/master/folium/templates/leaflet.awesome.rotate.css%22/%3E%0A%20%20%20%20%3Cstyle%3Ehtml%2C%20body%20%7Bwidth%3A%20100%25%3Bheight%3A%20100%25%3Bmargin%3A%200%3Bpadding%3A%200%3B%7D%3C/style%3E%0A%20%20%20%20%3Cstyle%3E%23map%20%7Bposition%3Aabsolute%3Btop%3A0%3Bbottom%3A0%3Bright%3A0%3Bleft%3A0%3B%7D%3C/style%3E%0A%20%20%20%20%0A%20%20%20%20%3Cmeta%20name%3D%22viewport%22%20content%3D%22width%3Ddevice-width%2C%0A%20%20%20%20%20%20%20%20initial-scale%3D1.0%2C%20maximum-scale%3D1.0%2C%20user-scalable%3Dno%22%20/%3E%0A%20%20%20%20%3Cstyle%3E%23map_ab48c37e81164ab4807ad24b2da422ef%20%7B%0A%20%20%20%20%20%20%20%20position%3A%20relative%3B%0A%20%20%20%20%20%20%20%20width%3A%20100.0%25%3B%0A%20%20%20%20%20%20%20%20height%3A%20100.0%25%3B%0A%20%20%20%20%20%20%20%20left%3A%200.0%25%3B%0A%20%20%20%20%20%20%20%20top%3A%200.0%25%3B%0A%20%20%20%20%20%20%20%20%7D%0A%20%20%20%20%3C/style%3E%0A%20%20%20%20%3Cscript%20src%3D%22https%3A//cdnjs.cloudflare.com/ajax/libs/d3/3.5.5/d3.min.js%22%3E%3C/script%3E%0A%3C/head%3E%0A%3Cbody%3E%20%20%20%20%0A%20%20%20%20%3Ch3%20align%3D%22center%22%20style%3D%22font-size%3A20px%22%3E%EC%84%9C%EC%9A%B8%EC%8B%9C%2020%EB%85%84%20%EA%B5%AC%EB%B3%84%20cctv%EC%84%A4%EC%B9%98%EC%9C%A8%3C/h3%3E%0A%20%20%20%20%0A%20%20%20%20%3Cdiv%20class%3D%22folium-map%22%20id%3D%22map_ab48c37e81164ab4807ad24b2da422ef%22%20%3E%3C/div%3E%0A%3C/body%3E%0A%3Cscript%3E%20%20%20%20%0A%20%20%20%20%0A%20%20%20%20%0A%20%20%20%20%20%20%20%20var%20bounds%20%3D%20null%3B%0A%20%20%20%20%0A%0A%20%20%20%20var%20map_ab48c37e81164ab4807ad24b2da422ef%20%3D%20L.map%28%0A%20%20%20%20%20%20%20%20%27map_ab48c37e81164ab4807ad24b2da422ef%27%2C%20%7B%0A%20%20%20%20%20%20%20%20center%3A%20%5B37.581%2C%20126.986%5D%2C%0A%20%20%20%20%20%20%20%20zoom%3A%2011%2C%0A%20%20%20%20%20%20%20%20maxBounds%3A%20bounds%2C%0A%20%20%20%20%20%20%20%20layers%3A%20%5B%5D%2C%0A%20%20%20%20%20%20%20%20worldCopyJump%3A%20false%2C%0A%20%20%20%20%20%20%20%20crs%3A%20L.CRS.EPSG3857%2C%0A%20%20%20%20%20%20%20%20zoomControl%3A%20true%2C%0A%20%20%20%20%20%20%20%20%7D%29%3B%0A%0A%0A%20%20%20%20%0A%20%20%20%20var%20tile_layer_e9ed2c512ae94de38e28b0fdbb90b342%20%3D%20L.tileLayer%28%0A%20%20%20%20%20%20%20%20%27https%3A//stamen-tiles-%7Bs%7D.a.ssl.fastly.net/toner/%7Bz%7D/%7Bx%7D/%7By%7D.png%27%2C%0A%20%20%20%20%20%20%20%20%7B%0A%20%20%20%20%20%20%20%20%22attribution%22%3A%20null%2C%0A%20%20%20%20%20%20%20%20%22detectRetina%22%3A%20false%2C%0A%20%20%20%20%20%20%20%20%22maxNativeZoom%22%3A%2018%2C%0A%20%20%20%20%20%20%20%20%22maxZoom%22%3A%2018%2C%0A%20%20%20%20%20%20%20%20%22minZoom%22%3A%200%2C%0A%20%20%20%20%20%20%20%20%22noWrap%22%3A%20false%2C%0A%20%20%20%20%20%20%20%20%22opacity%22%3A%201%2C%0A%20%20%20%20%20%20%20%20%22subdomains%22%3A%20%22abc%22%2C%0A%20%20%20%20%20%20%20%20%22tms%22%3A%20false%0A%7D%29.addTo%28map_ab48c37e81164ab4807ad24b2da422ef%29%3B%0A%20%20%20%20var%20tile_layer_b0751d40bf154af18c348e6655f243be%20%3D%20L.tileLayer%28%0A%20%20%20%20%20%20%20%20%27https%3A//cartodb-basemaps-%7Bs%7D.global.ssl.fastly.net/light_all/%7Bz%7D/%7Bx%7D/%7By%7D.png%27%2C%0A%20%20%20%20%20%20%20%20%7B%0A%20%20%20%20%20%20%20%20%22attribution%22%3A%20null%2C%0A%20%20%20%20%20%20%20%20%22detectRetina%22%3A%20false%2C%0A%20%20%20%20%20%20%20%20%22maxNativeZoom%22%3A%2018%2C%0A%20%20%20%20%20%20%20%20%22maxZoom%22%3A%2018%2C%0A%20%20%20%20%20%20%20%20%22minZoom%22%3A%200%2C%0A%20%20%20%20%20%20%20%20%22noWrap%22%3A%20false%2C%0A%20%20%20%20%20%20%20%20%22opacity%22%3A%201%2C%0A%20%20%20%20%20%20%20%20%22subdomains%22%3A%20%22abc%22%2C%0A%20%20%20%20%20%20%20%20%22tms%22%3A%20false%0A%7D%29.addTo%28map_ab48c37e81164ab4807ad24b2da422ef%29%3B%0A%20%20%20%20%0A%20%20%20%20%20%20%20%20%20%20%20%20var%20choropleth_fcf90e69e76c46ccbbf308c3932dc834%20%3D%20L.featureGroup%28%0A%20%20%20%20%20%20%20%20%20%20%20%20%20%20%20%20%29.addTo%28map_ab48c37e81164ab4807ad24b2da422ef%29%3B%0A%20%20%20%20%20%20%20%20%0A%20%20%20%20%0A%20%20%20%20%20%20%20%20var%20geo_json_c831c7731b464d4fb76777f88a753549%20%3D%20L.geoJson%28%0A%20%20%20%20%20%20%20%20%20%20%20%20%7B%22features%22%3A%20%5B%7B%22geometry%22%3A%20%7B%22coordinates%22%3A%20%5B%5B%5B127.11519584981606%2C%2037.557533180704915%5D%2C%20%5B127.16683184366129%2C%2037.57672487388627%5D%2C%20%5B127.18408792330152%2C%2037.55814280369575%5D%2C%20%5B127.16530984307447%2C%2037.54221851258693%5D%2C%20%5B127.14672806823502%2C%2037.51415680680291%5D%2C%20%5B127.12123165719615%2C%2037.52528270089%5D%2C%20%5B127.1116764203608%2C%2037.540669955324965%5D%2C%20%5B127.11519584981606%2C%2037.557533180704915%5D%5D%5D%2C%20%22type%22%3A%20%22Polygon%22%7D%2C%20%22id%22%3A%20%22%5Cuac15%5Cub3d9%5Cuad6c%22%2C%20%22properties%22%3A%20%7B%22base_year%22%3A%20%222013%22%2C%20%22code%22%3A%20%2211250%22%2C%20%22highlight%22%3A%20%7B%7D%2C%20%22name%22%3A%20%22%5Cuac15%5Cub3d9%5Cuad6c%22%2C%20%22name_eng%22%3A%20%22Gangdong-gu%22%2C%20%22style%22%3A%20%7B%22color%22%3A%20%22black%22%2C%20%22fillColor%22%3A%20%22%239ebcda%22%2C%20%22fillOpacity%22%3A%200.6%2C%20%22opacity%22%3A%201%2C%20%22weight%22%3A%201%7D%7D%2C%20%22type%22%3A%20%22Feature%22%7D%2C%20%7B%22geometry%22%3A%20%7B%22coordinates%22%3A%20%5B%5B%5B127.0690698130372%2C%2037.522279423505026%5D%2C%20%5B127.10087519791962%2C%2037.524841220167055%5D%2C%20%5B127.1116764203608%2C%2037.540669955324965%5D%2C%20%5B127.12123165719615%2C%2037.52528270089%5D%2C%20%5B127.14672806823502%2C%2037.51415680680291%5D%2C%20%5B127.1634944215765%2C%2037.497445406097484%5D%2C%20%5B127.14206058413274%2C%2037.47089819098501%5D%2C%20%5B127.12440571080893%2C%2037.46240445587048%5D%2C%20%5B127.11117085201238%2C%2037.485708381512445%5D%2C%20%5B127.0719146000724%2C%2037.50224013587669%5D%2C%20%5B127.0690698130372%2C%2037.522279423505026%5D%5D%5D%2C%20%22type%22%3A%20%22Polygon%22%7D%2C%20%22id%22%3A%20%22%5Cuc1a1%5Cud30c%5Cuad6c%22%2C%20%22properties%22%3A%20%7B%22base_year%22%3A%20%222013%22%2C%20%22code%22%3A%20%2211240%22%2C%20%22highlight%22%3A%20%7B%7D%2C%20%22name%22%3A%20%22%5Cuc1a1%5Cud30c%5Cuad6c%22%2C%20%22name_eng%22%3A%20%22Songpa-gu%22%2C%20%22style%22%3A%20%7B%22color%22%3A%20%22black%22%2C%20%22fillColor%22%3A%20%22%23edf8fb%22%2C%20%22fillOpacity%22%3A%200.6%2C%20%22opacity%22%3A%201%2C%20%22weight%22%3A%201%7D%7D%2C%20%22type%22%3A%20%22Feature%22%7D%2C%20%7B%22geometry%22%3A%20%7B%22coordinates%22%3A%20%5B%5B%5B127.05867359288398%2C%2037.52629974922568%5D%2C%20%5B127.0690698130372%2C%2037.522279423505026%5D%2C%20%5B127.0719146000724%2C%2037.50224013587669%5D%2C%20%5B127.11117085201238%2C%2037.485708381512445%5D%2C%20%5B127.12440571080893%2C%2037.46240445587048%5D%2C%20%5B127.09842759318751%2C%2037.45862253857461%5D%2C%20%5B127.08640440578156%2C%2037.472697935184655%5D%2C%20%5B127.0559170481904%2C%2037.4659228914077%5D%2C%20%5B127.03621915098798%2C%2037.48175802427603%5D%2C%20%5B127.01397119667513%2C%2037.52503988289669%5D%2C%20%5B127.02302831890559%2C%2037.53231899582663%5D%2C%20%5B127.05867359288398%2C%2037.52629974922568%5D%5D%5D%2C%20%22type%22%3A%20%22Polygon%22%7D%2C%20%22id%22%3A%20%22%5Cuac15%5Cub0a8%5Cuad6c%22%2C%20%22properties%22%3A%20%7B%22base_year%22%3A%20%222013%22%2C%20%22code%22%3A%20%2211230%22%2C%20%22highlight%22%3A%20%7B%7D%2C%20%22name%22%3A%20%22%5Cuac15%5Cub0a8%5Cuad6c%22%2C%20%22name_eng%22%3A%20%22Gangnam-gu%22%2C%20%22style%22%3A%20%7B%22color%22%3A%20%22black%22%2C%20%22fillColor%22%3A%20%22%238856a7%22%2C%20%22fillOpacity%22%3A%200.6%2C%20%22opacity%22%3A%201%2C%20%22weight%22%3A%201%7D%7D%2C%20%22type%22%3A%20%22Feature%22%7D%2C%20%7B%22geometry%22%3A%20%7B%22coordinates%22%3A%20%5B%5B%5B127.01397119667513%2C%2037.52503988289669%5D%2C%20%5B127.03621915098798%2C%2037.48175802427603%5D%2C%20%5B127.0559170481904%2C%2037.4659228914077%5D%2C%20%5B127.08640440578156%2C%2037.472697935184655%5D%2C%20%5B127.09842759318751%2C%2037.45862253857461%5D%2C%20%5B127.09046928565951%2C%2037.44296826114185%5D%2C%20%5B127.06778107605433%2C%2037.426197424057314%5D%2C%20%5B127.04957232987142%2C%2037.42805836845694%5D%2C%20%5B127.03881782597922%2C%2037.45382039851715%5D%2C%20%5B126.99072073195462%2C%2037.455326143310025%5D%2C%20%5B126.98367668291802%2C%2037.473856492692086%5D%2C%20%5B126.98223807916081%2C%2037.509314966770326%5D%2C%20%5B127.01397119667513%2C%2037.52503988289669%5D%5D%5D%2C%20%22type%22%3A%20%22Polygon%22%7D%2C%20%22id%22%3A%20%22%5Cuc11c%5Cucd08%5Cuad6c%22%2C%20%22properties%22%3A%20%7B%22base_year%22%3A%20%222013%22%2C%20%22code%22%3A%20%2211220%22%2C%20%22highlight%22%3A%20%7B%7D%2C%20%22name%22%3A%20%22%5Cuc11c%5Cucd08%5Cuad6c%22%2C%20%22name_eng%22%3A%20%22Seocho-gu%22%2C%20%22style%22%3A%20%7B%22color%22%3A%20%22black%22%2C%20%22fillColor%22%3A%20%22%23bfd3e6%22%2C%20%22fillOpacity%22%3A%200.6%2C%20%22opacity%22%3A%201%2C%20%22weight%22%3A%201%7D%7D%2C%20%22type%22%3A%20%22Feature%22%7D%2C%20%7B%22geometry%22%3A%20%7B%22coordinates%22%3A%20%5B%5B%5B126.98367668291802%2C%2037.473856492692086%5D%2C%20%5B126.99072073195462%2C%2037.455326143310025%5D%2C%20%5B126.96520439085143%2C%2037.438249784006246%5D%2C%20%5B126.95000001010182%2C%2037.43613451165719%5D%2C%20%5B126.93084408056525%2C%2037.447382928333994%5D%2C%20%5B126.9167728146601%2C%2037.45490566423789%5D%2C%20%5B126.90156094129895%2C%2037.47753842789901%5D%2C%20%5B126.90531975801812%2C%2037.48218087575429%5D%2C%20%5B126.94922661389508%2C%2037.49125437495649%5D%2C%20%5B126.9725891850662%2C%2037.472561363278125%5D%2C%20%5B126.98367668291802%2C%2037.473856492692086%5D%5D%5D%2C%20%22type%22%3A%20%22Polygon%22%7D%2C%20%22id%22%3A%20%22%5Cuad00%5Cuc545%5Cuad6c%22%2C%20%22properties%22%3A%20%7B%22base_year%22%3A%20%222013%22%2C%20%22code%22%3A%20%2211210%22%2C%20%22highlight%22%3A%20%7B%7D%2C%20%22name%22%3A%20%22%5Cuad00%5Cuc545%5Cuad6c%22%2C%20%22name_eng%22%3A%20%22Gwanak-gu%22%2C%20%22style%22%3A%20%7B%22color%22%3A%20%22black%22%2C%20%22fillColor%22%3A%20%22%23edf8fb%22%2C%20%22fillOpacity%22%3A%200.6%2C%20%22opacity%22%3A%201%2C%20%22weight%22%3A%201%7D%7D%2C%20%22type%22%3A%20%22Feature%22%7D%2C%20%7B%22geometry%22%3A%20%7B%22coordinates%22%3A%20%5B%5B%5B126.98223807916081%2C%2037.509314966770326%5D%2C%20%5B126.98367668291802%2C%2037.473856492692086%5D%2C%20%5B126.9725891850662%2C%2037.472561363278125%5D%2C%20%5B126.94922661389508%2C%2037.49125437495649%5D%2C%20%5B126.90531975801812%2C%2037.48218087575429%5D%2C%20%5B126.92177893174825%2C%2037.494889877415176%5D%2C%20%5B126.92810628828279%2C%2037.51329595732015%5D%2C%20%5B126.95249990298159%2C%2037.51722500741813%5D%2C%20%5B126.98223807916081%2C%2037.509314966770326%5D%5D%5D%2C%20%22type%22%3A%20%22Polygon%22%7D%2C%20%22id%22%3A%20%22%5Cub3d9%5Cuc791%5Cuad6c%22%2C%20%22properties%22%3A%20%7B%22base_year%22%3A%20%222013%22%2C%20%22code%22%3A%20%2211200%22%2C%20%22highlight%22%3A%20%7B%7D%2C%20%22name%22%3A%20%22%5Cub3d9%5Cuc791%5Cuad6c%22%2C%20%22name_eng%22%3A%20%22Dongjak-gu%22%2C%20%22style%22%3A%20%7B%22color%22%3A%20%22black%22%2C%20%22fillColor%22%3A%20%22%23bfd3e6%22%2C%20%22fillOpacity%22%3A%200.6%2C%20%22opacity%22%3A%201%2C%20%22weight%22%3A%201%7D%7D%2C%20%22type%22%3A%20%22Feature%22%7D%2C%20%7B%22geometry%22%3A%20%7B%22coordinates%22%3A%20%5B%5B%5B126.89184663862764%2C%2037.547373974997114%5D%2C%20%5B126.94566733083212%2C%2037.526617542453366%5D%2C%20%5B126.95249990298159%2C%2037.51722500741813%5D%2C%20%5B126.92810628828279%2C%2037.51329595732015%5D%2C%20%5B126.92177893174825%2C%2037.494889877415176%5D%2C%20%5B126.90531975801812%2C%2037.48218087575429%5D%2C%20%5B126.89594776782485%2C%2037.504675281309176%5D%2C%20%5B126.88156402353862%2C%2037.513970034765684%5D%2C%20%5B126.88825757860099%2C%2037.54079733630232%5D%2C%20%5B126.89184663862764%2C%2037.547373974997114%5D%5D%5D%2C%20%22type%22%3A%20%22Polygon%22%7D%2C%20%22id%22%3A%20%22%5Cuc601%5Cub4f1%5Cud3ec%5Cuad6c%22%2C%20%22properties%22%3A%20%7B%22base_year%22%3A%20%222013%22%2C%20%22code%22%3A%20%2211190%22%2C%20%22highlight%22%3A%20%7B%7D%2C%20%22name%22%3A%20%22%5Cuc601%5Cub4f1%5Cud3ec%5Cuad6c%22%2C%20%22name_eng%22%3A%20%22Yeongdeungpo-gu%22%2C%20%22style%22%3A%20%7B%22color%22%3A%20%22black%22%2C%20%22fillColor%22%3A%20%22%23810f7c%22%2C%20%22fillOpacity%22%3A%200.6%2C%20%22opacity%22%3A%201%2C%20%22weight%22%3A%201%7D%7D%2C%20%22type%22%3A%20%22Feature%22%7D%2C%20%7B%22geometry%22%3A%20%7B%22coordinates%22%3A%20%5B%5B%5B126.90156094129895%2C%2037.47753842789901%5D%2C%20%5B126.9167728146601%2C%2037.45490566423789%5D%2C%20%5B126.93084408056525%2C%2037.447382928333994%5D%2C%20%5B126.9025831711697%2C%2037.434549366349124%5D%2C%20%5B126.87683271502428%2C%2037.482576591607305%5D%2C%20%5B126.90156094129895%2C%2037.47753842789901%5D%5D%5D%2C%20%22type%22%3A%20%22Polygon%22%7D%2C%20%22id%22%3A%20%22%5Cuae08%5Cucc9c%5Cuad6c%22%2C%20%22properties%22%3A%20%7B%22base_year%22%3A%20%222013%22%2C%20%22code%22%3A%20%2211180%22%2C%20%22highlight%22%3A%20%7B%7D%2C%20%22name%22%3A%20%22%5Cuae08%5Cucc9c%5Cuad6c%22%2C%20%22name_eng%22%3A%20%22Geumcheon-gu%22%2C%20%22style%22%3A%20%7B%22color%22%3A%20%22black%22%2C%20%22fillColor%22%3A%20%22%23bfd3e6%22%2C%20%22fillOpacity%22%3A%200.6%2C%20%22opacity%22%3A%201%2C%20%22weight%22%3A%201%7D%7D%2C%20%22type%22%3A%20%22Feature%22%7D%2C%20%7B%22geometry%22%3A%20%7B%22coordinates%22%3A%20%5B%5B%5B126.82688081517314%2C%2037.50548972232896%5D%2C%20%5B126.88156402353862%2C%2037.513970034765684%5D%2C%20%5B126.89594776782485%2C%2037.504675281309176%5D%2C%20%5B126.90531975801812%2C%2037.48218087575429%5D%2C%20%5B126.90156094129895%2C%2037.47753842789901%5D%2C%20%5B126.87683271502428%2C%2037.482576591607305%5D%2C%20%5B126.84762676054953%2C%2037.47146723936323%5D%2C%20%5B126.83549485076196%2C%2037.474098236975095%5D%2C%20%5B126.82264796791348%2C%2037.4878476492147%5D%2C%20%5B126.82504736331406%2C%2037.50302612640443%5D%2C%20%5B126.82688081517314%2C%2037.50548972232896%5D%5D%5D%2C%20%22type%22%3A%20%22Polygon%22%7D%2C%20%22id%22%3A%20%22%5Cuad6c%5Cub85c%5Cuad6c%22%2C%20%22properties%22%3A%20%7B%22base_year%22%3A%20%222013%22%2C%20%22code%22%3A%20%2211170%22%2C%20%22highlight%22%3A%20%7B%7D%2C%20%22name%22%3A%20%22%5Cuad6c%5Cub85c%5Cuad6c%22%2C%20%22name_eng%22%3A%20%22Guro-gu%22%2C%20%22style%22%3A%20%7B%22color%22%3A%20%22black%22%2C%20%22fillColor%22%3A%20%22%23bfd3e6%22%2C%20%22fillOpacity%22%3A%200.6%2C%20%22opacity%22%3A%201%2C%20%22weight%22%3A%201%7D%7D%2C%20%22type%22%3A%20%22Feature%22%7D%2C%20%7B%22geometry%22%3A%20%7B%22coordinates%22%3A%20%5B%5B%5B126.79575768552907%2C%2037.57881087633202%5D%2C%20%5B126.80702115023597%2C%2037.60123001013228%5D%2C%20%5B126.82251438477105%2C%2037.5880430810082%5D%2C%20%5B126.85984199399667%2C%2037.571847855292745%5D%2C%20%5B126.89184663862764%2C%2037.547373974997114%5D%2C%20%5B126.88825757860099%2C%2037.54079733630232%5D%2C%20%5B126.86637464321238%2C%2037.54859191094823%5D%2C%20%5B126.86610073476395%2C%2037.52699964144669%5D%2C%20%5B126.84257291943153%2C%2037.52373707805596%5D%2C%20%5B126.8242331426722%2C%2037.53788078753248%5D%2C%20%5B126.77324417717703%2C%2037.5459123450554%5D%2C%20%5B126.76979180579352%2C%2037.55139183008809%5D%2C%20%5B126.79575768552907%2C%2037.57881087633202%5D%5D%5D%2C%20%22type%22%3A%20%22Polygon%22%7D%2C%20%22id%22%3A%20%22%5Cuac15%5Cuc11c%5Cuad6c%22%2C%20%22properties%22%3A%20%7B%22base_year%22%3A%20%222013%22%2C%20%22code%22%3A%20%2211160%22%2C%20%22highlight%22%3A%20%7B%7D%2C%20%22name%22%3A%20%22%5Cuac15%5Cuc11c%5Cuad6c%22%2C%20%22name_eng%22%3A%20%22Gangseo-gu%22%2C%20%22style%22%3A%20%7B%22color%22%3A%20%22black%22%2C%20%22fillColor%22%3A%20%22%23bfd3e6%22%2C%20%22fillOpacity%22%3A%200.6%2C%20%22opacity%22%3A%201%2C%20%22weight%22%3A%201%7D%7D%2C%20%22type%22%3A%20%22Feature%22%7D%2C%20%7B%22geometry%22%3A%20%7B%22coordinates%22%3A%20%5B%5B%5B126.8242331426722%2C%2037.53788078753248%5D%2C%20%5B126.84257291943153%2C%2037.52373707805596%5D%2C%20%5B126.86610073476395%2C%2037.52699964144669%5D%2C%20%5B126.86637464321238%2C%2037.54859191094823%5D%2C%20%5B126.88825757860099%2C%2037.54079733630232%5D%2C%20%5B126.88156402353862%2C%2037.513970034765684%5D%2C%20%5B126.82688081517314%2C%2037.50548972232896%5D%2C%20%5B126.8242331426722%2C%2037.53788078753248%5D%5D%5D%2C%20%22type%22%3A%20%22Polygon%22%7D%2C%20%22id%22%3A%20%22%5Cuc591%5Cucc9c%5Cuad6c%22%2C%20%22properties%22%3A%20%7B%22base_year%22%3A%20%222013%22%2C%20%22code%22%3A%20%2211150%22%2C%20%22highlight%22%3A%20%7B%7D%2C%20%22name%22%3A%20%22%5Cuc591%5Cucc9c%5Cuad6c%22%2C%20%22name_eng%22%3A%20%22Yangcheon-gu%22%2C%20%22style%22%3A%20%7B%22color%22%3A%20%22black%22%2C%20%22fillColor%22%3A%20%22%23edf8fb%22%2C%20%22fillOpacity%22%3A%200.6%2C%20%22opacity%22%3A%201%2C%20%22weight%22%3A%201%7D%7D%2C%20%22type%22%3A%20%22Feature%22%7D%2C%20%7B%22geometry%22%3A%20%7B%22coordinates%22%3A%20%5B%5B%5B126.90522065831053%2C%2037.57409700522574%5D%2C%20%5B126.93898161798973%2C%2037.552310003728124%5D%2C%20%5B126.96358226710812%2C%2037.55605635475154%5D%2C%20%5B126.96448570553055%2C%2037.548705692021635%5D%2C%20%5B126.94566733083212%2C%2037.526617542453366%5D%2C%20%5B126.89184663862764%2C%2037.547373974997114%5D%2C%20%5B126.85984199399667%2C%2037.571847855292745%5D%2C%20%5B126.88433284773288%2C%2037.588143322880526%5D%2C%20%5B126.90522065831053%2C%2037.57409700522574%5D%5D%5D%2C%20%22type%22%3A%20%22Polygon%22%7D%2C%20%22id%22%3A%20%22%5Cub9c8%5Cud3ec%5Cuad6c%22%2C%20%22properties%22%3A%20%7B%22base_year%22%3A%20%222013%22%2C%20%22code%22%3A%20%2211140%22%2C%20%22highlight%22%3A%20%7B%7D%2C%20%22name%22%3A%20%22%5Cub9c8%5Cud3ec%5Cuad6c%22%2C%20%22name_eng%22%3A%20%22Mapo-gu%22%2C%20%22style%22%3A%20%7B%22color%22%3A%20%22black%22%2C%20%22fillColor%22%3A%20%22%23edf8fb%22%2C%20%22fillOpacity%22%3A%200.6%2C%20%22opacity%22%3A%201%2C%20%22weight%22%3A%201%7D%7D%2C%20%22type%22%3A%20%22Feature%22%7D%2C%20%7B%22geometry%22%3A%20%7B%22coordinates%22%3A%20%5B%5B%5B126.9524752030572%2C%2037.60508692737045%5D%2C%20%5B126.95565425846463%2C%2037.576080790881456%5D%2C%20%5B126.96873633279075%2C%2037.56313604690827%5D%2C%20%5B126.96358226710812%2C%2037.55605635475154%5D%2C%20%5B126.93898161798973%2C%2037.552310003728124%5D%2C%20%5B126.90522065831053%2C%2037.57409700522574%5D%2C%20%5B126.9524752030572%2C%2037.60508692737045%5D%5D%5D%2C%20%22type%22%3A%20%22Polygon%22%7D%2C%20%22id%22%3A%20%22%5Cuc11c%5Cub300%5Cubb38%5Cuad6c%22%2C%20%22properties%22%3A%20%7B%22base_year%22%3A%20%222013%22%2C%20%22code%22%3A%20%2211130%22%2C%20%22highlight%22%3A%20%7B%7D%2C%20%22name%22%3A%20%22%5Cuc11c%5Cub300%5Cubb38%5Cuad6c%22%2C%20%22name_eng%22%3A%20%22Seodaemun-gu%22%2C%20%22style%22%3A%20%7B%22color%22%3A%20%22black%22%2C%20%22fillColor%22%3A%20%22%23bfd3e6%22%2C%20%22fillOpacity%22%3A%200.6%2C%20%22opacity%22%3A%201%2C%20%22weight%22%3A%201%7D%7D%2C%20%22type%22%3A%20%22Feature%22%7D%2C%20%7B%22geometry%22%3A%20%7B%22coordinates%22%3A%20%5B%5B%5B126.9738864128702%2C%2037.62949634786888%5D%2C%20%5B126.95427017006129%2C%2037.622033431339425%5D%2C%20%5B126.9524752030572%2C%2037.60508692737045%5D%2C%20%5B126.90522065831053%2C%2037.57409700522574%5D%2C%20%5B126.88433284773288%2C%2037.588143322880526%5D%2C%20%5B126.90396681003595%2C%2037.59227403419942%5D%2C%20%5B126.90303066177668%2C%2037.609977911401344%5D%2C%20%5B126.91455481429648%2C%2037.64150050996935%5D%2C%20%5B126.956473797387%2C%2037.652480737339445%5D%2C%20%5B126.9738864128702%2C%2037.62949634786888%5D%5D%5D%2C%20%22type%22%3A%20%22Polygon%22%7D%2C%20%22id%22%3A%20%22%5Cuc740%5Cud3c9%5Cuad6c%22%2C%20%22properties%22%3A%20%7B%22base_year%22%3A%20%222013%22%2C%20%22code%22%3A%20%2211120%22%2C%20%22highlight%22%3A%20%7B%7D%2C%20%22name%22%3A%20%22%5Cuc740%5Cud3c9%5Cuad6c%22%2C%20%22name_eng%22%3A%20%22Eunpyeong-gu%22%2C%20%22style%22%3A%20%7B%22color%22%3A%20%22black%22%2C%20%22fillColor%22%3A%20%22%23edf8fb%22%2C%20%22fillOpacity%22%3A%200.6%2C%20%22opacity%22%3A%201%2C%20%22weight%22%3A%201%7D%7D%2C%20%22type%22%3A%20%22Feature%22%7D%2C%20%7B%22geometry%22%3A%20%7B%22coordinates%22%3A%20%5B%5B%5B127.0838752703195%2C%2037.69359534202034%5D%2C%20%5B127.09706391309695%2C%2037.686383719372294%5D%2C%20%5B127.09440766298717%2C%2037.64713490473045%5D%2C%20%5B127.11326795855199%2C%2037.639622905315925%5D%2C%20%5B127.10782277688129%2C%2037.61804244241069%5D%2C%20%5B127.07351243825278%2C%2037.61283660342313%5D%2C%20%5B127.05209373568619%2C%2037.62164065487782%5D%2C%20%5B127.04358800895609%2C%2037.62848931298715%5D%2C%20%5B127.05800075220091%2C%2037.64318263878276%5D%2C%20%5B127.05288479710485%2C%2037.68423857084347%5D%2C%20%5B127.0838752703195%2C%2037.69359534202034%5D%5D%5D%2C%20%22type%22%3A%20%22Polygon%22%7D%2C%20%22id%22%3A%20%22%5Cub178%5Cuc6d0%5Cuad6c%22%2C%20%22properties%22%3A%20%7B%22base_year%22%3A%20%222013%22%2C%20%22code%22%3A%20%2211110%22%2C%20%22highlight%22%3A%20%7B%7D%2C%20%22name%22%3A%20%22%5Cub178%5Cuc6d0%5Cuad6c%22%2C%20%22name_eng%22%3A%20%22Nowon-gu%22%2C%20%22style%22%3A%20%7B%22color%22%3A%20%22black%22%2C%20%22fillColor%22%3A%20%22%23bfd3e6%22%2C%20%22fillOpacity%22%3A%200.6%2C%20%22opacity%22%3A%201%2C%20%22weight%22%3A%201%7D%7D%2C%20%22type%22%3A%20%22Feature%22%7D%2C%20%7B%22geometry%22%3A%20%7B%22coordinates%22%3A%20%5B%5B%5B127.05288479710485%2C%2037.68423857084347%5D%2C%20%5B127.05800075220091%2C%2037.64318263878276%5D%2C%20%5B127.04358800895609%2C%2037.62848931298715%5D%2C%20%5B127.01465935892466%2C%2037.64943687496812%5D%2C%20%5B127.02062116141389%2C%2037.667173575971205%5D%2C%20%5B127.01039666042071%2C%2037.681894589603594%5D%2C%20%5B127.01795099203432%2C%2037.69824412775662%5D%2C%20%5B127.05288479710485%2C%2037.68423857084347%5D%5D%5D%2C%20%22type%22%3A%20%22Polygon%22%7D%2C%20%22id%22%3A%20%22%5Cub3c4%5Cubd09%5Cuad6c%22%2C%20%22properties%22%3A%20%7B%22base_year%22%3A%20%222013%22%2C%20%22code%22%3A%20%2211100%22%2C%20%22highlight%22%3A%20%7B%7D%2C%20%22name%22%3A%20%22%5Cub3c4%5Cubd09%5Cuad6c%22%2C%20%22name_eng%22%3A%20%22Dobong-gu%22%2C%20%22style%22%3A%20%7B%22color%22%3A%20%22black%22%2C%20%22fillColor%22%3A%20%22%23edf8fb%22%2C%20%22fillOpacity%22%3A%200.6%2C%20%22opacity%22%3A%201%2C%20%22weight%22%3A%201%7D%7D%2C%20%22type%22%3A%20%22Feature%22%7D%2C%20%7B%22geometry%22%3A%20%7B%22coordinates%22%3A%20%5B%5B%5B126.99383903424%2C%2037.676681761199085%5D%2C%20%5B127.01039666042071%2C%2037.681894589603594%5D%2C%20%5B127.02062116141389%2C%2037.667173575971205%5D%2C%20%5B127.01465935892466%2C%2037.64943687496812%5D%2C%20%5B127.04358800895609%2C%2037.62848931298715%5D%2C%20%5B127.05209373568619%2C%2037.62164065487782%5D%2C%20%5B127.03892400992301%2C%2037.609715611023816%5D%2C%20%5B127.0128154749523%2C%2037.613652243470256%5D%2C%20%5B126.98672705513869%2C%2037.63377641288196%5D%2C%20%5B126.9817452676551%2C%2037.65209769387776%5D%2C%20%5B126.99383903424%2C%2037.676681761199085%5D%5D%5D%2C%20%22type%22%3A%20%22Polygon%22%7D%2C%20%22id%22%3A%20%22%5Cuac15%5Cubd81%5Cuad6c%22%2C%20%22properties%22%3A%20%7B%22base_year%22%3A%20%222013%22%2C%20%22code%22%3A%20%2211090%22%2C%20%22highlight%22%3A%20%7B%7D%2C%20%22name%22%3A%20%22%5Cuac15%5Cubd81%5Cuad6c%22%2C%20%22name_eng%22%3A%20%22Gangbuk-gu%22%2C%20%22style%22%3A%20%7B%22color%22%3A%20%22black%22%2C%20%22fillColor%22%3A%20%22%239ebcda%22%2C%20%22fillOpacity%22%3A%200.6%2C%20%22opacity%22%3A%201%2C%20%22weight%22%3A%201%7D%7D%2C%20%22type%22%3A%20%22Feature%22%7D%2C%20%7B%22geometry%22%3A%20%7B%22coordinates%22%3A%20%5B%5B%5B126.977175406416%2C%2037.62859715400388%5D%2C%20%5B126.98672705513869%2C%2037.63377641288196%5D%2C%20%5B127.0128154749523%2C%2037.613652243470256%5D%2C%20%5B127.03892400992301%2C%2037.609715611023816%5D%2C%20%5B127.05209373568619%2C%2037.62164065487782%5D%2C%20%5B127.07351243825278%2C%2037.61283660342313%5D%2C%20%5B127.07382707099227%2C%2037.60401928986419%5D%2C%20%5B127.042705222094%2C%2037.59239437593391%5D%2C%20%5B127.02527254528003%2C%2037.57524616245249%5D%2C%20%5B126.99348293358314%2C%2037.588565457216156%5D%2C%20%5B126.98879865992384%2C%2037.6118927319756%5D%2C%20%5B126.977175406416%2C%2037.62859715400388%5D%5D%5D%2C%20%22type%22%3A%20%22Polygon%22%7D%2C%20%22id%22%3A%20%22%5Cuc131%5Cubd81%5Cuad6c%22%2C%20%22properties%22%3A%20%7B%22base_year%22%3A%20%222013%22%2C%20%22code%22%3A%20%2211080%22%2C%20%22highlight%22%3A%20%7B%7D%2C%20%22name%22%3A%20%22%5Cuc131%5Cubd81%5Cuad6c%22%2C%20%22name_eng%22%3A%20%22Seongbuk-gu%22%2C%20%22style%22%3A%20%7B%22color%22%3A%20%22black%22%2C%20%22fillColor%22%3A%20%22%23edf8fb%22%2C%20%22fillOpacity%22%3A%200.6%2C%20%22opacity%22%3A%201%2C%20%22weight%22%3A%201%7D%7D%2C%20%22type%22%3A%20%22Feature%22%7D%2C%20%7B%22geometry%22%3A%20%7B%22coordinates%22%3A%20%5B%5B%5B127.07351243825278%2C%2037.61283660342313%5D%2C%20%5B127.10782277688129%2C%2037.61804244241069%5D%2C%20%5B127.1201246020114%2C%2037.60178457598188%5D%2C%20%5B127.10304174249214%2C%2037.57076342290955%5D%2C%20%5B127.08068541280403%2C%2037.56906425519017%5D%2C%20%5B127.07382707099227%2C%2037.60401928986419%5D%2C%20%5B127.07351243825278%2C%2037.61283660342313%5D%5D%5D%2C%20%22type%22%3A%20%22Polygon%22%7D%2C%20%22id%22%3A%20%22%5Cuc911%5Cub791%5Cuad6c%22%2C%20%22properties%22%3A%20%7B%22base_year%22%3A%20%222013%22%2C%20%22code%22%3A%20%2211070%22%2C%20%22highlight%22%3A%20%7B%7D%2C%20%22name%22%3A%20%22%5Cuc911%5Cub791%5Cuad6c%22%2C%20%22name_eng%22%3A%20%22Jungnang-gu%22%2C%20%22style%22%3A%20%7B%22color%22%3A%20%22black%22%2C%20%22fillColor%22%3A%20%22%238856a7%22%2C%20%22fillOpacity%22%3A%200.6%2C%20%22opacity%22%3A%201%2C%20%22weight%22%3A%201%7D%7D%2C%20%22type%22%3A%20%22Feature%22%7D%2C%20%7B%22geometry%22%3A%20%7B%22coordinates%22%3A%20%5B%5B%5B127.02527254528003%2C%2037.57524616245249%5D%2C%20%5B127.042705222094%2C%2037.59239437593391%5D%2C%20%5B127.07382707099227%2C%2037.60401928986419%5D%2C%20%5B127.08068541280403%2C%2037.56906425519017%5D%2C%20%5B127.07421053024362%2C%2037.55724769712085%5D%2C%20%5B127.05005601081567%2C%2037.567577612590846%5D%2C%20%5B127.02547266349976%2C%2037.568943552237734%5D%2C%20%5B127.02527254528003%2C%2037.57524616245249%5D%5D%5D%2C%20%22type%22%3A%20%22Polygon%22%7D%2C%20%22id%22%3A%20%22%5Cub3d9%5Cub300%5Cubb38%5Cuad6c%22%2C%20%22properties%22%3A%20%7B%22base_year%22%3A%20%222013%22%2C%20%22code%22%3A%20%2211060%22%2C%20%22highlight%22%3A%20%7B%7D%2C%20%22name%22%3A%20%22%5Cub3d9%5Cub300%5Cubb38%5Cuad6c%22%2C%20%22name_eng%22%3A%20%22Dongdaemun-gu%22%2C%20%22style%22%3A%20%7B%22color%22%3A%20%22black%22%2C%20%22fillColor%22%3A%20%22%23edf8fb%22%2C%20%22fillOpacity%22%3A%200.6%2C%20%22opacity%22%3A%201%2C%20%22weight%22%3A%201%7D%7D%2C%20%22type%22%3A%20%22Feature%22%7D%2C%20%7B%22geometry%22%3A%20%7B%22coordinates%22%3A%20%5B%5B%5B127.08068541280403%2C%2037.56906425519017%5D%2C%20%5B127.10304174249214%2C%2037.57076342290955%5D%2C%20%5B127.11519584981606%2C%2037.557533180704915%5D%2C%20%5B127.1116764203608%2C%2037.540669955324965%5D%2C%20%5B127.10087519791962%2C%2037.524841220167055%5D%2C%20%5B127.0690698130372%2C%2037.522279423505026%5D%2C%20%5B127.05867359288398%2C%2037.52629974922568%5D%2C%20%5B127.07421053024362%2C%2037.55724769712085%5D%2C%20%5B127.08068541280403%2C%2037.56906425519017%5D%5D%5D%2C%20%22type%22%3A%20%22Polygon%22%7D%2C%20%22id%22%3A%20%22%5Cuad11%5Cuc9c4%5Cuad6c%22%2C%20%22properties%22%3A%20%7B%22base_year%22%3A%20%222013%22%2C%20%22code%22%3A%20%2211050%22%2C%20%22highlight%22%3A%20%7B%7D%2C%20%22name%22%3A%20%22%5Cuad11%5Cuc9c4%5Cuad6c%22%2C%20%22name_eng%22%3A%20%22Gwangjin-gu%22%2C%20%22style%22%3A%20%7B%22color%22%3A%20%22black%22%2C%20%22fillColor%22%3A%20%22%23edf8fb%22%2C%20%22fillOpacity%22%3A%200.6%2C%20%22opacity%22%3A%201%2C%20%22weight%22%3A%201%7D%7D%2C%20%22type%22%3A%20%22Feature%22%7D%2C%20%7B%22geometry%22%3A%20%7B%22coordinates%22%3A%20%5B%5B%5B127.02547266349976%2C%2037.568943552237734%5D%2C%20%5B127.05005601081567%2C%2037.567577612590846%5D%2C%20%5B127.07421053024362%2C%2037.55724769712085%5D%2C%20%5B127.05867359288398%2C%2037.52629974922568%5D%2C%20%5B127.02302831890559%2C%2037.53231899582663%5D%2C%20%5B127.01070894177482%2C%2037.54118048964762%5D%2C%20%5B127.02547266349976%2C%2037.568943552237734%5D%5D%5D%2C%20%22type%22%3A%20%22Polygon%22%7D%2C%20%22id%22%3A%20%22%5Cuc131%5Cub3d9%5Cuad6c%22%2C%20%22properties%22%3A%20%7B%22base_year%22%3A%20%222013%22%2C%20%22code%22%3A%20%2211040%22%2C%20%22highlight%22%3A%20%7B%7D%2C%20%22name%22%3A%20%22%5Cuc131%5Cub3d9%5Cuad6c%22%2C%20%22name_eng%22%3A%20%22Seongdong-gu%22%2C%20%22style%22%3A%20%7B%22color%22%3A%20%22black%22%2C%20%22fillColor%22%3A%20%22%23bfd3e6%22%2C%20%22fillOpacity%22%3A%200.6%2C%20%22opacity%22%3A%201%2C%20%22weight%22%3A%201%7D%7D%2C%20%22type%22%3A%20%22Feature%22%7D%2C%20%7B%22geometry%22%3A%20%7B%22coordinates%22%3A%20%5B%5B%5B127.01070894177482%2C%2037.54118048964762%5D%2C%20%5B127.02302831890559%2C%2037.53231899582663%5D%2C%20%5B127.01397119667513%2C%2037.52503988289669%5D%2C%20%5B126.98223807916081%2C%2037.509314966770326%5D%2C%20%5B126.95249990298159%2C%2037.51722500741813%5D%2C%20%5B126.94566733083212%2C%2037.526617542453366%5D%2C%20%5B126.96448570553055%2C%2037.548705692021635%5D%2C%20%5B126.98752996903328%2C%2037.55094818807139%5D%2C%20%5B127.01070894177482%2C%2037.54118048964762%5D%5D%5D%2C%20%22type%22%3A%20%22Polygon%22%7D%2C%20%22id%22%3A%20%22%5Cuc6a9%5Cuc0b0%5Cuad6c%22%2C%20%22properties%22%3A%20%7B%22base_year%22%3A%20%222013%22%2C%20%22code%22%3A%20%2211030%22%2C%20%22highlight%22%3A%20%7B%7D%2C%20%22name%22%3A%20%22%5Cuc6a9%5Cuc0b0%5Cuad6c%22%2C%20%22name_eng%22%3A%20%22Yongsan-gu%22%2C%20%22style%22%3A%20%7B%22color%22%3A%20%22black%22%2C%20%22fillColor%22%3A%20%22%239ebcda%22%2C%20%22fillOpacity%22%3A%200.6%2C%20%22opacity%22%3A%201%2C%20%22weight%22%3A%201%7D%7D%2C%20%22type%22%3A%20%22Feature%22%7D%2C%20%7B%22geometry%22%3A%20%7B%22coordinates%22%3A%20%5B%5B%5B127.02547266349976%2C%2037.568943552237734%5D%2C%20%5B127.01070894177482%2C%2037.54118048964762%5D%2C%20%5B126.98752996903328%2C%2037.55094818807139%5D%2C%20%5B126.96448570553055%2C%2037.548705692021635%5D%2C%20%5B126.96358226710812%2C%2037.55605635475154%5D%2C%20%5B126.96873633279075%2C%2037.56313604690827%5D%2C%20%5B127.02547266349976%2C%2037.568943552237734%5D%5D%5D%2C%20%22type%22%3A%20%22Polygon%22%7D%2C%20%22id%22%3A%20%22%5Cuc911%5Cuad6c%22%2C%20%22properties%22%3A%20%7B%22base_year%22%3A%20%222013%22%2C%20%22code%22%3A%20%2211020%22%2C%20%22highlight%22%3A%20%7B%7D%2C%20%22name%22%3A%20%22%5Cuc911%5Cuad6c%22%2C%20%22name_eng%22%3A%20%22Jung-gu%22%2C%20%22style%22%3A%20%7B%22color%22%3A%20%22black%22%2C%20%22fillColor%22%3A%20%22%23bfd3e6%22%2C%20%22fillOpacity%22%3A%200.6%2C%20%22opacity%22%3A%201%2C%20%22weight%22%3A%201%7D%7D%2C%20%22type%22%3A%20%22Feature%22%7D%2C%20%7B%22geometry%22%3A%20%7B%22coordinates%22%3A%20%5B%5B%5B126.9738864128702%2C%2037.62949634786888%5D%2C%20%5B126.977175406416%2C%2037.62859715400388%5D%2C%20%5B126.98879865992384%2C%2037.6118927319756%5D%2C%20%5B126.99348293358314%2C%2037.588565457216156%5D%2C%20%5B127.02527254528003%2C%2037.57524616245249%5D%2C%20%5B127.02547266349976%2C%2037.568943552237734%5D%2C%20%5B126.96873633279075%2C%2037.56313604690827%5D%2C%20%5B126.95565425846463%2C%2037.576080790881456%5D%2C%20%5B126.9524752030572%2C%2037.60508692737045%5D%2C%20%5B126.95427017006129%2C%2037.622033431339425%5D%2C%20%5B126.9738864128702%2C%2037.62949634786888%5D%5D%5D%2C%20%22type%22%3A%20%22Polygon%22%7D%2C%20%22id%22%3A%20%22%5Cuc885%5Cub85c%5Cuad6c%22%2C%20%22properties%22%3A%20%7B%22base_year%22%3A%20%222013%22%2C%20%22code%22%3A%20%2211010%22%2C%20%22highlight%22%3A%20%7B%7D%2C%20%22name%22%3A%20%22%5Cuc885%5Cub85c%5Cuad6c%22%2C%20%22name_eng%22%3A%20%22Jongno-gu%22%2C%20%22style%22%3A%20%7B%22color%22%3A%20%22black%22%2C%20%22fillColor%22%3A%20%22%23edf8fb%22%2C%20%22fillOpacity%22%3A%200.6%2C%20%22opacity%22%3A%201%2C%20%22weight%22%3A%201%7D%7D%2C%20%22type%22%3A%20%22Feature%22%7D%5D%2C%20%22type%22%3A%20%22FeatureCollection%22%7D%2C%0A%20%20%20%20%20%20%20%20%20%20%20%20%7B%0A%20%20%20%20%20%20%20%20%20%20%20%20%7D%0A%20%20%20%20%20%20%20%20%29.addTo%28choropleth_fcf90e69e76c46ccbbf308c3932dc834%20%29%3B%0A%20%20%20%20%20%20%20%20geo_json_c831c7731b464d4fb76777f88a753549.setStyle%28function%28feature%29%20%7Breturn%20feature.properties.style%3B%7D%29%3B%0A%20%20%20%20%20%20%20%20%0A%20%20%20%20%0A%20%20%20%20var%20color_map_05451599cc4a4baca747994a119c97b5%20%3D%20%7B%7D%3B%0A%0A%20%20%20%20%0A%20%20%20%20color_map_05451599cc4a4baca747994a119c97b5.color%20%3D%20d3.scale.threshold%28%29%0A%20%20%20%20%20%20%20%20%20%20%20%20%20%20.domain%28%5B168.0%2C%20170.0941883767535%2C%20172.18837675350701%2C%20174.2825651302605%2C%20176.37675350701403%2C%20178.47094188376752%2C%20180.56513026052104%2C%20182.65931863727454%2C%20184.75350701402806%2C%20186.84769539078155%2C%20188.94188376753507%2C%20191.03607214428857%2C%20193.1302605210421%2C%20195.22444889779558%2C%20197.3186372745491%2C%20199.4128256513026%2C%20201.50701402805612%2C%20203.6012024048096%2C%20205.69539078156313%2C%20207.78957915831663%2C%20209.88376753507015%2C%20211.97795591182364%2C%20214.07214428857716%2C%20216.16633266533066%2C%20218.26052104208418%2C%20220.35470941883767%2C%20222.44889779559117%2C%20224.5430861723447%2C%20226.6372745490982%2C%20228.7314629258517%2C%20230.8256513026052%2C%20232.91983967935872%2C%20235.01402805611224%2C%20237.10821643286573%2C%20239.20240480961922%2C%20241.29659318637275%2C%20243.39078156312627%2C%20245.48496993987976%2C%20247.57915831663325%2C%20249.67334669338678%2C%20251.7675350701403%2C%20253.8617234468938%2C%20255.95591182364728%2C%20258.05010020040083%2C%20260.1442885771543%2C%20262.2384769539078%2C%20264.3326653306613%2C%20266.4268537074148%2C%20268.52104208416836%2C%20270.61523046092185%2C%20272.70941883767534%2C%20274.80360721442884%2C%20276.89779559118233%2C%20278.9919839679359%2C%20281.0861723446894%2C%20283.18036072144287%2C%20285.2745490981964%2C%20287.3687374749499%2C%20289.4629258517034%2C%20291.5571142284569%2C%20293.6513026052104%2C%20295.74549098196394%2C%20297.83967935871743%2C%20299.9338677354709%2C%20302.0280561122245%2C%20304.12224448897797%2C%20306.21643286573146%2C%20308.31062124248496%2C%20310.40480961923845%2C%20312.498997995992%2C%20314.5931863727455%2C%20316.687374749499%2C%20318.78156312625254%2C%20320.875751503006%2C%20322.9699398797595%2C%20325.064128256513%2C%20327.1583166332665%2C%20329.25250501002006%2C%20331.34669338677355%2C%20333.44088176352705%2C%20335.5350701402806%2C%20337.62925851703403%2C%20339.7234468937876%2C%20341.8176352705411%2C%20343.91182364729457%2C%20346.0060120240481%2C%20348.1002004008016%2C%20350.1943887775551%2C%20352.28857715430865%2C%20354.3827655310621%2C%20356.47695390781564%2C%20358.57114228456913%2C%20360.6653306613226%2C%20362.7595190380762%2C%20364.85370741482967%2C%20366.94789579158316%2C%20369.0420841683367%2C%20371.13627254509015%2C%20373.2304609218437%2C%20375.3246492985972%2C%20377.4188376753507%2C%20379.51302605210424%2C%20381.6072144288577%2C%20383.7014028056112%2C%20385.7955911823647%2C%20387.8897795591182%2C%20389.98396793587176%2C%20392.07815631262525%2C%20394.17234468937875%2C%20396.2665330661323%2C%20398.36072144288573%2C%20400.4549098196393%2C%20402.5490981963928%2C%20404.64328657314627%2C%20406.7374749498998%2C%20408.8316633266533%2C%20410.9258517034068%2C%20413.02004008016036%2C%20415.1142284569138%2C%20417.20841683366734%2C%20419.30260521042084%2C%20421.39679358717433%2C%20423.4909819639279%2C%20425.5851703406814%2C%20427.67935871743487%2C%20429.77354709418836%2C%20431.8677354709419%2C%20433.9619238476954%2C%20436.0561122244489%2C%20438.1503006012024%2C%20440.24448897795594%2C%20442.33867735470943%2C%20444.4328657314629%2C%20446.5270541082164%2C%20448.6212424849699%2C%20450.71543086172346%2C%20452.80961923847696%2C%20454.90380761523045%2C%20456.99799599198394%2C%20459.0921843687375%2C%20461.186372745491%2C%20463.2805611222445%2C%20465.37474949899797%2C%20467.4689378757515%2C%20469.563126252505%2C%20471.6573146292585%2C%20473.751503006012%2C%20475.84569138276555%2C%20477.93987975951904%2C%20480.03406813627254%2C%20482.12825651302603%2C%20484.2224448897796%2C%20486.3166332665331%2C%20488.41082164328657%2C%20490.50501002004006%2C%20492.5991983967936%2C%20494.6933867735471%2C%20496.7875751503006%2C%20498.8817635270541%2C%20500.97595190380764%2C%20503.07014028056113%2C%20505.1643286573146%2C%20507.2585170340681%2C%20509.35270541082167%2C%20511.44689378757516%2C%20513.5410821643286%2C%20515.6352705410821%2C%20517.7294589178357%2C%20519.8236472945891%2C%20521.9178356713427%2C%20524.0120240480962%2C%20526.1062124248497%2C%20528.2004008016032%2C%20530.2945891783568%2C%20532.3887775551102%2C%20534.4829659318636%2C%20536.5771543086173%2C%20538.6713426853707%2C%20540.7655310621242%2C%20542.8597194388777%2C%20544.9539078156313%2C%20547.0480961923847%2C%20549.1422845691383%2C%20551.2364729458918%2C%20553.3306613226453%2C%20555.4248496993988%2C%20557.5190380761524%2C%20559.6132264529058%2C%20561.7074148296593%2C%20563.8016032064129%2C%20565.8957915831663%2C%20567.9899799599198%2C%20570.0841683366734%2C%20572.1783567134269%2C%20574.2725450901803%2C%20576.3667334669339%2C%20578.4609218436874%2C%20580.5551102204408%2C%20582.6492985971944%2C%20584.7434869739479%2C%20586.8376753507014%2C%20588.9318637274549%2C%20591.0260521042085%2C%20593.1202404809619%2C%20595.2144288577153%2C%20597.308617234469%2C%20599.4028056112224%2C%20601.4969939879759%2C%20603.5911823647294%2C%20605.685370741483%2C%20607.7795591182364%2C%20609.87374749499%2C%20611.9679358717435%2C%20614.062124248497%2C%20616.1563126252505%2C%20618.2505010020041%2C%20620.3446893787575%2C%20622.438877755511%2C%20624.5330661322646%2C%20626.627254509018%2C%20628.7214428857715%2C%20630.8156312625251%2C%20632.9098196392786%2C%20635.004008016032%2C%20637.0981963927856%2C%20639.1923847695391%2C%20641.2865731462925%2C%20643.3807615230461%2C%20645.4749498997996%2C%20647.5691382765531%2C%20649.6633266533066%2C%20651.7575150300602%2C%20653.8517034068136%2C%20655.945891783567%2C%20658.0400801603207%2C%20660.1342685370741%2C%20662.2284569138276%2C%20664.3226452905811%2C%20666.4168336673347%2C%20668.5110220440881%2C%20670.6052104208417%2C%20672.6993987975952%2C%20674.7935871743487%2C%20676.8877755511022%2C%20678.9819639278558%2C%20681.0761523046092%2C%20683.1703406813627%2C%20685.2645290581162%2C%20687.3587174348697%2C%20689.4529058116233%2C%20691.5470941883767%2C%20693.6412825651303%2C%20695.7354709418838%2C%20697.8296593186373%2C%20699.9238476953908%2C%20702.0180360721442%2C%20704.1122244488978%2C%20706.2064128256513%2C%20708.3006012024048%2C%20710.3947895791583%2C%20712.4889779559119%2C%20714.5831663326653%2C%20716.6773547094189%2C%20718.7715430861723%2C%20720.8657314629259%2C%20722.9599198396794%2C%20725.0541082164328%2C%20727.1482965931864%2C%20729.2424849699398%2C%20731.3366733466934%2C%20733.4308617234469%2C%20735.5250501002004%2C%20737.6192384769539%2C%20739.7134268537075%2C%20741.8076152304609%2C%20743.9018036072144%2C%20745.9959919839679%2C%20748.0901803607214%2C%20750.184368737475%2C%20752.2785571142284%2C%20754.372745490982%2C%20756.4669338677355%2C%20758.561122244489%2C%20760.6553106212425%2C%20762.7494989979959%2C%20764.8436873747495%2C%20766.937875751503%2C%20769.0320641282565%2C%20771.12625250501%2C%20773.2204408817636%2C%20775.314629258517%2C%20777.4088176352706%2C%20779.503006012024%2C%20781.5971943887776%2C%20783.6913827655311%2C%20785.7855711422845%2C%20787.8797595190381%2C%20789.9739478957916%2C%20792.0681362725451%2C%20794.1623246492986%2C%20796.2565130260521%2C%20798.3507014028056%2C%20800.4448897795592%2C%20802.5390781563126%2C%20804.6332665330661%2C%20806.7274549098196%2C%20808.8216432865731%2C%20810.9158316633267%2C%20813.0100200400801%2C%20815.1042084168337%2C%20817.1983967935872%2C%20819.2925851703407%2C%20821.3867735470942%2C%20823.4809619238476%2C%20825.5751503006012%2C%20827.6693386773547%2C%20829.7635270541082%2C%20831.8577154308617%2C%20833.9519038076153%2C%20836.0460921843687%2C%20838.1402805611223%2C%20840.2344689378757%2C%20842.3286573146293%2C%20844.4228456913828%2C%20846.5170340681362%2C%20848.6112224448898%2C%20850.7054108216433%2C%20852.7995991983968%2C%20854.8937875751503%2C%20856.9879759519038%2C%20859.0821643286573%2C%20861.1763527054109%2C%20863.2705410821643%2C%20865.3647294589179%2C%20867.4589178356713%2C%20869.5531062124248%2C%20871.6472945891784%2C%20873.7414829659318%2C%20875.8356713426854%2C%20877.9298597194389%2C%20880.0240480961924%2C%20882.1182364729459%2C%20884.2124248496993%2C%20886.3066132264529%2C%20888.4008016032064%2C%20890.4949899799599%2C%20892.5891783567134%2C%20894.683366733467%2C%20896.7775551102204%2C%20898.871743486974%2C%20900.9659318637274%2C%20903.060120240481%2C%20905.1543086172345%2C%20907.2484969939879%2C%20909.3426853707415%2C%20911.436873747495%2C%20913.5310621242485%2C%20915.625250501002%2C%20917.7194388777555%2C%20919.813627254509%2C%20921.9078156312626%2C%20924.002004008016%2C%20926.0961923847696%2C%20928.1903807615231%2C%20930.2845691382765%2C%20932.3787575150301%2C%20934.4729458917835%2C%20936.5671342685371%2C%20938.6613226452906%2C%20940.7555110220441%2C%20942.8496993987976%2C%20944.943887775551%2C%20947.0380761523046%2C%20949.1322645290581%2C%20951.2264529058116%2C%20953.3206412825651%2C%20955.4148296593187%2C%20957.5090180360721%2C%20959.6032064128257%2C%20961.6973947895791%2C%20963.7915831663327%2C%20965.8857715430862%2C%20967.9799599198396%2C%20970.0741482965932%2C%20972.1683366733467%2C%20974.2625250501002%2C%20976.3567134268537%2C%20978.4509018036072%2C%20980.5450901803607%2C%20982.6392785571143%2C%20984.7334669338677%2C%20986.8276553106213%2C%20988.9218436873748%2C%20991.0160320641282%2C%20993.1102204408818%2C%20995.2044088176352%2C%20997.2985971943888%2C%20999.3927855711423%2C%201001.4869739478958%2C%201003.5811623246493%2C%201005.6753507014027%2C%201007.7695390781563%2C%201009.8637274549098%2C%201011.9579158316633%2C%201014.0521042084168%2C%201016.1462925851704%2C%201018.2404809619238%2C%201020.3346693386774%2C%201022.4288577154308%2C%201024.5230460921844%2C%201026.617234468938%2C%201028.7114228456912%2C%201030.805611222445%2C%201032.8997995991986%2C%201034.9939879759518%2C%201037.0881763527054%2C%201039.1823647294589%2C%201041.2765531062123%2C%201043.370741482966%2C%201045.4649298597194%2C%201047.5591182364728%2C%201049.6533066132265%2C%201051.74749498998%2C%201053.8416833667334%2C%201055.935871743487%2C%201058.0300601202405%2C%201060.124248496994%2C%201062.2184368737476%2C%201064.312625250501%2C%201066.4068136272545%2C%201068.5010020040081%2C%201070.5951903807616%2C%201072.689378757515%2C%201074.7835671342687%2C%201076.877755511022%2C%201078.9719438877755%2C%201081.0661322645292%2C%201083.1603206412824%2C%201085.254509018036%2C%201087.3486973947897%2C%201089.442885771543%2C%201091.5370741482966%2C%201093.6312625250503%2C%201095.7254509018035%2C%201097.8196392785571%2C%201099.9138276553106%2C%201102.008016032064%2C%201104.1022044088177%2C%201106.196392785571%2C%201108.2905811623245%2C%201110.3847695390782%2C%201112.4789579158316%2C%201114.573146292585%2C%201116.6673346693387%2C%201118.7615230460922%2C%201120.8557114228456%2C%201122.9498997995993%2C%201125.0440881763527%2C%201127.1382765531062%2C%201129.2324649298598%2C%201131.3266533066133%2C%201133.4208416833667%2C%201135.5150300601204%2C%201137.6092184368738%2C%201139.7034068136272%2C%201141.797595190381%2C%201143.891783567134%2C%201145.9859719438878%2C%201148.0801603206414%2C%201150.1743486973946%2C%201152.2685370741483%2C%201154.362725450902%2C%201156.4569138276552%2C%201158.5511022044088%2C%201160.6452905811623%2C%201162.7394789579157%2C%201164.8336673346694%2C%201166.9278557114228%2C%201169.0220440881762%2C%201171.11623246493%2C%201173.2104208416833%2C%201175.3046092184368%2C%201177.3987975951904%2C%201179.4929859719439%2C%201181.5871743486973%2C%201183.681362725451%2C%201185.7755511022044%2C%201187.8697394789579%2C%201189.9639278557115%2C%201192.058116232465%2C%201194.1523046092184%2C%201196.246492985972%2C%201198.3406813627255%2C%201200.434869739479%2C%201202.5290581162324%2C%201204.623246492986%2C%201206.7174348697395%2C%201208.811623246493%2C%201210.9058116232466%2C%201213.0%5D%29%0A%20%20%20%20%20%20%20%20%20%20%20%20%20%20.range%28%5B%27%23edf8fbff%27%2C%20%27%23edf8fbff%27%2C%20%27%23edf8fbff%27%2C%20%27%23edf8fbff%27%2C%20%27%23edf8fbff%27%2C%20%27%23edf8fbff%27%2C%20%27%23edf8fbff%27%2C%20%27%23edf8fbff%27%2C%20%27%23edf8fbff%27%2C%20%27%23edf8fbff%27%2C%20%27%23edf8fbff%27%2C%20%27%23edf8fbff%27%2C%20%27%23edf8fbff%27%2C%20%27%23edf8fbff%27%2C%20%27%23edf8fbff%27%2C%20%27%23edf8fbff%27%2C%20%27%23edf8fbff%27%2C%20%27%23edf8fbff%27%2C%20%27%23edf8fbff%27%2C%20%27%23edf8fbff%27%2C%20%27%23edf8fbff%27%2C%20%27%23edf8fbff%27%2C%20%27%23edf8fbff%27%2C%20%27%23edf8fbff%27%2C%20%27%23edf8fbff%27%2C%20%27%23edf8fbff%27%2C%20%27%23edf8fbff%27%2C%20%27%23edf8fbff%27%2C%20%27%23edf8fbff%27%2C%20%27%23edf8fbff%27%2C%20%27%23edf8fbff%27%2C%20%27%23edf8fbff%27%2C%20%27%23edf8fbff%27%2C%20%27%23edf8fbff%27%2C%20%27%23edf8fbff%27%2C%20%27%23edf8fbff%27%2C%20%27%23edf8fbff%27%2C%20%27%23edf8fbff%27%2C%20%27%23edf8fbff%27%2C%20%27%23edf8fbff%27%2C%20%27%23edf8fbff%27%2C%20%27%23edf8fbff%27%2C%20%27%23edf8fbff%27%2C%20%27%23edf8fbff%27%2C%20%27%23edf8fbff%27%2C%20%27%23edf8fbff%27%2C%20%27%23edf8fbff%27%2C%20%27%23edf8fbff%27%2C%20%27%23edf8fbff%27%2C%20%27%23edf8fbff%27%2C%20%27%23edf8fbff%27%2C%20%27%23edf8fbff%27%2C%20%27%23edf8fbff%27%2C%20%27%23edf8fbff%27%2C%20%27%23edf8fbff%27%2C%20%27%23edf8fbff%27%2C%20%27%23edf8fbff%27%2C%20%27%23edf8fbff%27%2C%20%27%23edf8fbff%27%2C%20%27%23edf8fbff%27%2C%20%27%23edf8fbff%27%2C%20%27%23edf8fbff%27%2C%20%27%23edf8fbff%27%2C%20%27%23edf8fbff%27%2C%20%27%23edf8fbff%27%2C%20%27%23edf8fbff%27%2C%20%27%23edf8fbff%27%2C%20%27%23edf8fbff%27%2C%20%27%23edf8fbff%27%2C%20%27%23edf8fbff%27%2C%20%27%23edf8fbff%27%2C%20%27%23edf8fbff%27%2C%20%27%23edf8fbff%27%2C%20%27%23edf8fbff%27%2C%20%27%23edf8fbff%27%2C%20%27%23edf8fbff%27%2C%20%27%23edf8fbff%27%2C%20%27%23edf8fbff%27%2C%20%27%23edf8fbff%27%2C%20%27%23edf8fbff%27%2C%20%27%23edf8fbff%27%2C%20%27%23edf8fbff%27%2C%20%27%23edf8fbff%27%2C%20%27%23edf8fbff%27%2C%20%27%23bfd3e6ff%27%2C%20%27%23bfd3e6ff%27%2C%20%27%23bfd3e6ff%27%2C%20%27%23bfd3e6ff%27%2C%20%27%23bfd3e6ff%27%2C%20%27%23bfd3e6ff%27%2C%20%27%23bfd3e6ff%27%2C%20%27%23bfd3e6ff%27%2C%20%27%23bfd3e6ff%27%2C%20%27%23bfd3e6ff%27%2C%20%27%23bfd3e6ff%27%2C%20%27%23bfd3e6ff%27%2C%20%27%23bfd3e6ff%27%2C%20%27%23bfd3e6ff%27%2C%20%27%23bfd3e6ff%27%2C%20%27%23bfd3e6ff%27%2C%20%27%23bfd3e6ff%27%2C%20%27%23bfd3e6ff%27%2C%20%27%23bfd3e6ff%27%2C%20%27%23bfd3e6ff%27%2C%20%27%23bfd3e6ff%27%2C%20%27%23bfd3e6ff%27%2C%20%27%23bfd3e6ff%27%2C%20%27%23bfd3e6ff%27%2C%20%27%23bfd3e6ff%27%2C%20%27%23bfd3e6ff%27%2C%20%27%23bfd3e6ff%27%2C%20%27%23bfd3e6ff%27%2C%20%27%23bfd3e6ff%27%2C%20%27%23bfd3e6ff%27%2C%20%27%23bfd3e6ff%27%2C%20%27%23bfd3e6ff%27%2C%20%27%23bfd3e6ff%27%2C%20%27%23bfd3e6ff%27%2C%20%27%23bfd3e6ff%27%2C%20%27%23bfd3e6ff%27%2C%20%27%23bfd3e6ff%27%2C%20%27%23bfd3e6ff%27%2C%20%27%23bfd3e6ff%27%2C%20%27%23bfd3e6ff%27%2C%20%27%23bfd3e6ff%27%2C%20%27%23bfd3e6ff%27%2C%20%27%23bfd3e6ff%27%2C%20%27%23bfd3e6ff%27%2C%20%27%23bfd3e6ff%27%2C%20%27%23bfd3e6ff%27%2C%20%27%23bfd3e6ff%27%2C%20%27%23bfd3e6ff%27%2C%20%27%23bfd3e6ff%27%2C%20%27%23bfd3e6ff%27%2C%20%27%23bfd3e6ff%27%2C%20%27%23bfd3e6ff%27%2C%20%27%23bfd3e6ff%27%2C%20%27%23bfd3e6ff%27%2C%20%27%23bfd3e6ff%27%2C%20%27%23bfd3e6ff%27%2C%20%27%23bfd3e6ff%27%2C%20%27%23bfd3e6ff%27%2C%20%27%23bfd3e6ff%27%2C%20%27%23bfd3e6ff%27%2C%20%27%23bfd3e6ff%27%2C%20%27%23bfd3e6ff%27%2C%20%27%23bfd3e6ff%27%2C%20%27%23bfd3e6ff%27%2C%20%27%23bfd3e6ff%27%2C%20%27%23bfd3e6ff%27%2C%20%27%23bfd3e6ff%27%2C%20%27%23bfd3e6ff%27%2C%20%27%23bfd3e6ff%27%2C%20%27%23bfd3e6ff%27%2C%20%27%23bfd3e6ff%27%2C%20%27%23bfd3e6ff%27%2C%20%27%23bfd3e6ff%27%2C%20%27%23bfd3e6ff%27%2C%20%27%23bfd3e6ff%27%2C%20%27%23bfd3e6ff%27%2C%20%27%23bfd3e6ff%27%2C%20%27%23bfd3e6ff%27%2C%20%27%23bfd3e6ff%27%2C%20%27%23bfd3e6ff%27%2C%20%27%23bfd3e6ff%27%2C%20%27%23bfd3e6ff%27%2C%20%27%23bfd3e6ff%27%2C%20%27%239ebcdaff%27%2C%20%27%239ebcdaff%27%2C%20%27%239ebcdaff%27%2C%20%27%239ebcdaff%27%2C%20%27%239ebcdaff%27%2C%20%27%239ebcdaff%27%2C%20%27%239ebcdaff%27%2C%20%27%239ebcdaff%27%2C%20%27%239ebcdaff%27%2C%20%27%239ebcdaff%27%2C%20%27%239ebcdaff%27%2C%20%27%239ebcdaff%27%2C%20%27%239ebcdaff%27%2C%20%27%239ebcdaff%27%2C%20%27%239ebcdaff%27%2C%20%27%239ebcdaff%27%2C%20%27%239ebcdaff%27%2C%20%27%239ebcdaff%27%2C%20%27%239ebcdaff%27%2C%20%27%239ebcdaff%27%2C%20%27%239ebcdaff%27%2C%20%27%239ebcdaff%27%2C%20%27%239ebcdaff%27%2C%20%27%239ebcdaff%27%2C%20%27%239ebcdaff%27%2C%20%27%239ebcdaff%27%2C%20%27%239ebcdaff%27%2C%20%27%239ebcdaff%27%2C%20%27%239ebcdaff%27%2C%20%27%239ebcdaff%27%2C%20%27%239ebcdaff%27%2C%20%27%239ebcdaff%27%2C%20%27%239ebcdaff%27%2C%20%27%239ebcdaff%27%2C%20%27%239ebcdaff%27%2C%20%27%239ebcdaff%27%2C%20%27%239ebcdaff%27%2C%20%27%239ebcdaff%27%2C%20%27%239ebcdaff%27%2C%20%27%239ebcdaff%27%2C%20%27%239ebcdaff%27%2C%20%27%239ebcdaff%27%2C%20%27%239ebcdaff%27%2C%20%27%239ebcdaff%27%2C%20%27%239ebcdaff%27%2C%20%27%239ebcdaff%27%2C%20%27%239ebcdaff%27%2C%20%27%239ebcdaff%27%2C%20%27%239ebcdaff%27%2C%20%27%239ebcdaff%27%2C%20%27%239ebcdaff%27%2C%20%27%239ebcdaff%27%2C%20%27%239ebcdaff%27%2C%20%27%239ebcdaff%27%2C%20%27%239ebcdaff%27%2C%20%27%239ebcdaff%27%2C%20%27%239ebcdaff%27%2C%20%27%239ebcdaff%27%2C%20%27%239ebcdaff%27%2C%20%27%239ebcdaff%27%2C%20%27%239ebcdaff%27%2C%20%27%239ebcdaff%27%2C%20%27%239ebcdaff%27%2C%20%27%239ebcdaff%27%2C%20%27%239ebcdaff%27%2C%20%27%239ebcdaff%27%2C%20%27%239ebcdaff%27%2C%20%27%239ebcdaff%27%2C%20%27%239ebcdaff%27%2C%20%27%239ebcdaff%27%2C%20%27%239ebcdaff%27%2C%20%27%239ebcdaff%27%2C%20%27%239ebcdaff%27%2C%20%27%239ebcdaff%27%2C%20%27%239ebcdaff%27%2C%20%27%239ebcdaff%27%2C%20%27%239ebcdaff%27%2C%20%27%239ebcdaff%27%2C%20%27%239ebcdaff%27%2C%20%27%239ebcdaff%27%2C%20%27%239ebcdaff%27%2C%20%27%239ebcdaff%27%2C%20%27%239ebcdaff%27%2C%20%27%238c96c6ff%27%2C%20%27%238c96c6ff%27%2C%20%27%238c96c6ff%27%2C%20%27%238c96c6ff%27%2C%20%27%238c96c6ff%27%2C%20%27%238c96c6ff%27%2C%20%27%238c96c6ff%27%2C%20%27%238c96c6ff%27%2C%20%27%238c96c6ff%27%2C%20%27%238c96c6ff%27%2C%20%27%238c96c6ff%27%2C%20%27%238c96c6ff%27%2C%20%27%238c96c6ff%27%2C%20%27%238c96c6ff%27%2C%20%27%238c96c6ff%27%2C%20%27%238c96c6ff%27%2C%20%27%238c96c6ff%27%2C%20%27%238c96c6ff%27%2C%20%27%238c96c6ff%27%2C%20%27%238c96c6ff%27%2C%20%27%238c96c6ff%27%2C%20%27%238c96c6ff%27%2C%20%27%238c96c6ff%27%2C%20%27%238c96c6ff%27%2C%20%27%238c96c6ff%27%2C%20%27%238c96c6ff%27%2C%20%27%238c96c6ff%27%2C%20%27%238c96c6ff%27%2C%20%27%238c96c6ff%27%2C%20%27%238c96c6ff%27%2C%20%27%238c96c6ff%27%2C%20%27%238c96c6ff%27%2C%20%27%238c96c6ff%27%2C%20%27%238c96c6ff%27%2C%20%27%238c96c6ff%27%2C%20%27%238c96c6ff%27%2C%20%27%238c96c6ff%27%2C%20%27%238c96c6ff%27%2C%20%27%238c96c6ff%27%2C%20%27%238c96c6ff%27%2C%20%27%238c96c6ff%27%2C%20%27%238c96c6ff%27%2C%20%27%238c96c6ff%27%2C%20%27%238c96c6ff%27%2C%20%27%238c96c6ff%27%2C%20%27%238c96c6ff%27%2C%20%27%238c96c6ff%27%2C%20%27%238c96c6ff%27%2C%20%27%238c96c6ff%27%2C%20%27%238c96c6ff%27%2C%20%27%238c96c6ff%27%2C%20%27%238c96c6ff%27%2C%20%27%238c96c6ff%27%2C%20%27%238c96c6ff%27%2C%20%27%238c96c6ff%27%2C%20%27%238c96c6ff%27%2C%20%27%238c96c6ff%27%2C%20%27%238c96c6ff%27%2C%20%27%238c96c6ff%27%2C%20%27%238c96c6ff%27%2C%20%27%238c96c6ff%27%2C%20%27%238c96c6ff%27%2C%20%27%238c96c6ff%27%2C%20%27%238c96c6ff%27%2C%20%27%238c96c6ff%27%2C%20%27%238c96c6ff%27%2C%20%27%238c96c6ff%27%2C%20%27%238c96c6ff%27%2C%20%27%238c96c6ff%27%2C%20%27%238c96c6ff%27%2C%20%27%238c96c6ff%27%2C%20%27%238c96c6ff%27%2C%20%27%238c96c6ff%27%2C%20%27%238c96c6ff%27%2C%20%27%238c96c6ff%27%2C%20%27%238c96c6ff%27%2C%20%27%238c96c6ff%27%2C%20%27%238c96c6ff%27%2C%20%27%238c96c6ff%27%2C%20%27%238c96c6ff%27%2C%20%27%238c96c6ff%27%2C%20%27%238c96c6ff%27%2C%20%27%238c96c6ff%27%2C%20%27%238856a7ff%27%2C%20%27%238856a7ff%27%2C%20%27%238856a7ff%27%2C%20%27%238856a7ff%27%2C%20%27%238856a7ff%27%2C%20%27%238856a7ff%27%2C%20%27%238856a7ff%27%2C%20%27%238856a7ff%27%2C%20%27%238856a7ff%27%2C%20%27%238856a7ff%27%2C%20%27%238856a7ff%27%2C%20%27%238856a7ff%27%2C%20%27%238856a7ff%27%2C%20%27%238856a7ff%27%2C%20%27%238856a7ff%27%2C%20%27%238856a7ff%27%2C%20%27%238856a7ff%27%2C%20%27%238856a7ff%27%2C%20%27%238856a7ff%27%2C%20%27%238856a7ff%27%2C%20%27%238856a7ff%27%2C%20%27%238856a7ff%27%2C%20%27%238856a7ff%27%2C%20%27%238856a7ff%27%2C%20%27%238856a7ff%27%2C%20%27%238856a7ff%27%2C%20%27%238856a7ff%27%2C%20%27%238856a7ff%27%2C%20%27%238856a7ff%27%2C%20%27%238856a7ff%27%2C%20%27%238856a7ff%27%2C%20%27%238856a7ff%27%2C%20%27%238856a7ff%27%2C%20%27%238856a7ff%27%2C%20%27%238856a7ff%27%2C%20%27%238856a7ff%27%2C%20%27%238856a7ff%27%2C%20%27%238856a7ff%27%2C%20%27%238856a7ff%27%2C%20%27%238856a7ff%27%2C%20%27%238856a7ff%27%2C%20%27%238856a7ff%27%2C%20%27%238856a7ff%27%2C%20%27%238856a7ff%27%2C%20%27%238856a7ff%27%2C%20%27%238856a7ff%27%2C%20%27%238856a7ff%27%2C%20%27%238856a7ff%27%2C%20%27%238856a7ff%27%2C%20%27%238856a7ff%27%2C%20%27%238856a7ff%27%2C%20%27%238856a7ff%27%2C%20%27%238856a7ff%27%2C%20%27%238856a7ff%27%2C%20%27%238856a7ff%27%2C%20%27%238856a7ff%27%2C%20%27%238856a7ff%27%2C%20%27%238856a7ff%27%2C%20%27%238856a7ff%27%2C%20%27%238856a7ff%27%2C%20%27%238856a7ff%27%2C%20%27%238856a7ff%27%2C%20%27%238856a7ff%27%2C%20%27%238856a7ff%27%2C%20%27%238856a7ff%27%2C%20%27%238856a7ff%27%2C%20%27%238856a7ff%27%2C%20%27%238856a7ff%27%2C%20%27%238856a7ff%27%2C%20%27%238856a7ff%27%2C%20%27%238856a7ff%27%2C%20%27%238856a7ff%27%2C%20%27%238856a7ff%27%2C%20%27%238856a7ff%27%2C%20%27%238856a7ff%27%2C%20%27%238856a7ff%27%2C%20%27%238856a7ff%27%2C%20%27%238856a7ff%27%2C%20%27%238856a7ff%27%2C%20%27%238856a7ff%27%2C%20%27%238856a7ff%27%2C%20%27%238856a7ff%27%2C%20%27%238856a7ff%27%2C%20%27%23810f7cff%27%2C%20%27%23810f7cff%27%2C%20%27%23810f7cff%27%2C%20%27%23810f7cff%27%2C%20%27%23810f7cff%27%2C%20%27%23810f7cff%27%2C%20%27%23810f7cff%27%2C%20%27%23810f7cff%27%2C%20%27%23810f7cff%27%2C%20%27%23810f7cff%27%2C%20%27%23810f7cff%27%2C%20%27%23810f7cff%27%2C%20%27%23810f7cff%27%2C%20%27%23810f7cff%27%2C%20%27%23810f7cff%27%2C%20%27%23810f7cff%27%2C%20%27%23810f7cff%27%2C%20%27%23810f7cff%27%2C%20%27%23810f7cff%27%2C%20%27%23810f7cff%27%2C%20%27%23810f7cff%27%2C%20%27%23810f7cff%27%2C%20%27%23810f7cff%27%2C%20%27%23810f7cff%27%2C%20%27%23810f7cff%27%2C%20%27%23810f7cff%27%2C%20%27%23810f7cff%27%2C%20%27%23810f7cff%27%2C%20%27%23810f7cff%27%2C%20%27%23810f7cff%27%2C%20%27%23810f7cff%27%2C%20%27%23810f7cff%27%2C%20%27%23810f7cff%27%2C%20%27%23810f7cff%27%2C%20%27%23810f7cff%27%2C%20%27%23810f7cff%27%2C%20%27%23810f7cff%27%2C%20%27%23810f7cff%27%2C%20%27%23810f7cff%27%2C%20%27%23810f7cff%27%2C%20%27%23810f7cff%27%2C%20%27%23810f7cff%27%2C%20%27%23810f7cff%27%2C%20%27%23810f7cff%27%2C%20%27%23810f7cff%27%2C%20%27%23810f7cff%27%2C%20%27%23810f7cff%27%2C%20%27%23810f7cff%27%2C%20%27%23810f7cff%27%2C%20%27%23810f7cff%27%2C%20%27%23810f7cff%27%2C%20%27%23810f7cff%27%2C%20%27%23810f7cff%27%2C%20%27%23810f7cff%27%2C%20%27%23810f7cff%27%2C%20%27%23810f7cff%27%2C%20%27%23810f7cff%27%2C%20%27%23810f7cff%27%2C%20%27%23810f7cff%27%2C%20%27%23810f7cff%27%2C%20%27%23810f7cff%27%2C%20%27%23810f7cff%27%2C%20%27%23810f7cff%27%2C%20%27%23810f7cff%27%2C%20%27%23810f7cff%27%2C%20%27%23810f7cff%27%2C%20%27%23810f7cff%27%2C%20%27%23810f7cff%27%2C%20%27%23810f7cff%27%2C%20%27%23810f7cff%27%2C%20%27%23810f7cff%27%2C%20%27%23810f7cff%27%2C%20%27%23810f7cff%27%2C%20%27%23810f7cff%27%2C%20%27%23810f7cff%27%2C%20%27%23810f7cff%27%2C%20%27%23810f7cff%27%2C%20%27%23810f7cff%27%2C%20%27%23810f7cff%27%2C%20%27%23810f7cff%27%2C%20%27%23810f7cff%27%2C%20%27%23810f7cff%27%2C%20%27%23810f7cff%27%2C%20%27%23810f7cff%27%5D%29%3B%0A%20%20%20%20%0A%0A%20%20%20%20color_map_05451599cc4a4baca747994a119c97b5.x%20%3D%20d3.scale.linear%28%29%0A%20%20%20%20%20%20%20%20%20%20%20%20%20%20.domain%28%5B168.0%2C%201213.0%5D%29%0A%20%20%20%20%20%20%20%20%20%20%20%20%20%20.range%28%5B0%2C%20400%5D%29%3B%0A%0A%20%20%20%20color_map_05451599cc4a4baca747994a119c97b5.legend%20%3D%20L.control%28%7Bposition%3A%20%27topright%27%7D%29%3B%0A%20%20%20%20color_map_05451599cc4a4baca747994a119c97b5.legend.onAdd%20%3D%20function%20%28map%29%20%7Bvar%20div%20%3D%20L.DomUtil.create%28%27div%27%2C%20%27legend%27%29%3B%20return%20div%7D%3B%0A%20%20%20%20color_map_05451599cc4a4baca747994a119c97b5.legend.addTo%28map_ab48c37e81164ab4807ad24b2da422ef%29%3B%0A%0A%20%20%20%20color_map_05451599cc4a4baca747994a119c97b5.xAxis%20%3D%20d3.svg.axis%28%29%0A%20%20%20%20%20%20%20%20.scale%28color_map_05451599cc4a4baca747994a119c97b5.x%29%0A%20%20%20%20%20%20%20%20.orient%28%22top%22%29%0A%20%20%20%20%20%20%20%20.tickSize%281%29%0A%20%20%20%20%20%20%20%20.tickValues%28%5B168.0%2C%20342.16666666666663%2C%20516.3333333333333%2C%20690.5%2C%20864.6666666666666%2C%201038.8333333333333%2C%201213.0%5D%29%3B%0A%0A%20%20%20%20color_map_05451599cc4a4baca747994a119c97b5.svg%20%3D%20d3.select%28%22.legend.leaflet-control%22%29.append%28%22svg%22%29%0A%20%20%20%20%20%20%20%20.attr%28%22id%22%2C%20%27legend%27%29%0A%20%20%20%20%20%20%20%20.attr%28%22width%22%2C%20450%29%0A%20%20%20%20%20%20%20%20.attr%28%22height%22%2C%2040%29%3B%0A%0A%20%20%20%20color_map_05451599cc4a4baca747994a119c97b5.g%20%3D%20color_map_05451599cc4a4baca747994a119c97b5.svg.append%28%22g%22%29%0A%20%20%20%20%20%20%20%20.attr%28%22class%22%2C%20%22key%22%29%0A%20%20%20%20%20%20%20%20.attr%28%22transform%22%2C%20%22translate%2825%2C16%29%22%29%3B%0A%0A%20%20%20%20color_map_05451599cc4a4baca747994a119c97b5.g.selectAll%28%22rect%22%29%0A%20%20%20%20%20%20%20%20.data%28color_map_05451599cc4a4baca747994a119c97b5.color.range%28%29.map%28function%28d%2C%20i%29%20%7B%0A%20%20%20%20%20%20%20%20%20%20return%20%7B%0A%20%20%20%20%20%20%20%20%20%20%20%20x0%3A%20i%20%3F%20color_map_05451599cc4a4baca747994a119c97b5.x%28color_map_05451599cc4a4baca747994a119c97b5.color.domain%28%29%5Bi%20-%201%5D%29%20%3A%20color_map_05451599cc4a4baca747994a119c97b5.x.range%28%29%5B0%5D%2C%0A%20%20%20%20%20%20%20%20%20%20%20%20x1%3A%20i%20%3C%20color_map_05451599cc4a4baca747994a119c97b5.color.domain%28%29.length%20%3F%20color_map_05451599cc4a4baca747994a119c97b5.x%28color_map_05451599cc4a4baca747994a119c97b5.color.domain%28%29%5Bi%5D%29%20%3A%20color_map_05451599cc4a4baca747994a119c97b5.x.range%28%29%5B1%5D%2C%0A%20%20%20%20%20%20%20%20%20%20%20%20z%3A%20d%0A%20%20%20%20%20%20%20%20%20%20%7D%3B%0A%20%20%20%20%20%20%20%20%7D%29%29%0A%20%20%20%20%20%20.enter%28%29.append%28%22rect%22%29%0A%20%20%20%20%20%20%20%20.attr%28%22height%22%2C%2010%29%0A%20%20%20%20%20%20%20%20.attr%28%22x%22%2C%20function%28d%29%20%7B%20return%20d.x0%3B%20%7D%29%0A%20%20%20%20%20%20%20%20.attr%28%22width%22%2C%20function%28d%29%20%7B%20return%20d.x1%20-%20d.x0%3B%20%7D%29%0A%20%20%20%20%20%20%20%20.style%28%22fill%22%2C%20function%28d%29%20%7B%20return%20d.z%3B%20%7D%29%3B%0A%0A%20%20%20%20color_map_05451599cc4a4baca747994a119c97b5.g.call%28color_map_05451599cc4a4baca747994a119c97b5.xAxis%29.append%28%22text%22%29%0A%20%20%20%20%20%20%20%20.attr%28%22class%22%2C%20%22caption%22%29%0A%20%20%20%20%20%20%20%20.attr%28%22y%22%2C%2021%29%0A%20%20%20%20%20%20%20%20.text%28%272020%EB%85%84%27%29%3B%0A%3C/script%3E onload=\"this.contentDocument.open();this.contentDocument.write(    decodeURIComponent(this.getAttribute('data-html')));this.contentDocument.close();\" allowfullscreen webkitallowfullscreen mozallowfullscreen></iframe></div></div>"
            ],
            "text/plain": [
              "<folium.folium.Map at 0x7f1397690390>"
            ]
          },
          "metadata": {},
          "execution_count": 69
        }
      ]
    },
    {
      "cell_type": "code",
      "metadata": {
        "colab": {
          "base_uri": "https://localhost:8080/",
          "height": 711
        },
        "id": "S_UOOOUsLr9g",
        "outputId": "17d89745-4598-4ae0-c096-4f389bf69c40"
      },
      "source": [
        "center = [37.581, 126.986]    # 서울 중심부 위도, 경도\n",
        "map = folium.Map(location=center, zoom_start=11, tiles='Stamen Toner')\n",
        "\n",
        "folium.TileLayer('cartodbpositron').add_to(map)\n",
        "folium.Choropleth(\n",
        "    geo_data=geo_data,\n",
        "    data = spsc,\n",
        "    columns = ('자치구','17년고령인구cctv설치율'),\n",
        "    key_on = 'feature.id',    # geo_data 의 지역명\n",
        "    fill_color = 'BuPu',\n",
        "    legend_name = '17년고령인구cctv설치율'\n",
        ").add_to(map)\n",
        "title = '<h3 align=\"center\" style=\"font-size:20px\">서울시 17년 구별 65세이상고령인구대비 cctv설치율</h3>'\n",
        "map.get_root().html.add_child(folium.Element(title))\n",
        "map"
      ],
      "execution_count": 67,
      "outputs": [
        {
          "output_type": "execute_result",
          "data": {
            "text/html": [
              "<div style=\"width:100%;\"><div style=\"position:relative;width:100%;height:0;padding-bottom:60%;\"><span style=\"color:#565656\">Make this Notebook Trusted to load map: File -> Trust Notebook</span><iframe src=\"about:blank\" style=\"position:absolute;width:100%;height:100%;left:0;top:0;border:none !important;\" data-html=%3C%21DOCTYPE%20html%3E%0A%3Chead%3E%20%20%20%20%0A%20%20%20%20%3Cmeta%20http-equiv%3D%22content-type%22%20content%3D%22text/html%3B%20charset%3DUTF-8%22%20/%3E%0A%20%20%20%20%3Cscript%3EL_PREFER_CANVAS%3Dfalse%3B%20L_NO_TOUCH%3Dfalse%3B%20L_DISABLE_3D%3Dfalse%3B%3C/script%3E%0A%20%20%20%20%3Cscript%20src%3D%22https%3A//cdn.jsdelivr.net/npm/leaflet%401.4.0/dist/leaflet.js%22%3E%3C/script%3E%0A%20%20%20%20%3Cscript%20src%3D%22https%3A//code.jquery.com/jquery-1.12.4.min.js%22%3E%3C/script%3E%0A%20%20%20%20%3Cscript%20src%3D%22https%3A//maxcdn.bootstrapcdn.com/bootstrap/3.2.0/js/bootstrap.min.js%22%3E%3C/script%3E%0A%20%20%20%20%3Cscript%20src%3D%22https%3A//cdnjs.cloudflare.com/ajax/libs/Leaflet.awesome-markers/2.0.2/leaflet.awesome-markers.js%22%3E%3C/script%3E%0A%20%20%20%20%3Clink%20rel%3D%22stylesheet%22%20href%3D%22https%3A//cdn.jsdelivr.net/npm/leaflet%401.4.0/dist/leaflet.css%22/%3E%0A%20%20%20%20%3Clink%20rel%3D%22stylesheet%22%20href%3D%22https%3A//maxcdn.bootstrapcdn.com/bootstrap/3.2.0/css/bootstrap.min.css%22/%3E%0A%20%20%20%20%3Clink%20rel%3D%22stylesheet%22%20href%3D%22https%3A//maxcdn.bootstrapcdn.com/bootstrap/3.2.0/css/bootstrap-theme.min.css%22/%3E%0A%20%20%20%20%3Clink%20rel%3D%22stylesheet%22%20href%3D%22https%3A//maxcdn.bootstrapcdn.com/font-awesome/4.6.3/css/font-awesome.min.css%22/%3E%0A%20%20%20%20%3Clink%20rel%3D%22stylesheet%22%20href%3D%22https%3A//cdnjs.cloudflare.com/ajax/libs/Leaflet.awesome-markers/2.0.2/leaflet.awesome-markers.css%22/%3E%0A%20%20%20%20%3Clink%20rel%3D%22stylesheet%22%20href%3D%22https%3A//rawcdn.githack.com/python-visualization/folium/master/folium/templates/leaflet.awesome.rotate.css%22/%3E%0A%20%20%20%20%3Cstyle%3Ehtml%2C%20body%20%7Bwidth%3A%20100%25%3Bheight%3A%20100%25%3Bmargin%3A%200%3Bpadding%3A%200%3B%7D%3C/style%3E%0A%20%20%20%20%3Cstyle%3E%23map%20%7Bposition%3Aabsolute%3Btop%3A0%3Bbottom%3A0%3Bright%3A0%3Bleft%3A0%3B%7D%3C/style%3E%0A%20%20%20%20%0A%20%20%20%20%3Cmeta%20name%3D%22viewport%22%20content%3D%22width%3Ddevice-width%2C%0A%20%20%20%20%20%20%20%20initial-scale%3D1.0%2C%20maximum-scale%3D1.0%2C%20user-scalable%3Dno%22%20/%3E%0A%20%20%20%20%3Cstyle%3E%23map_24f29fa6e634485e9573f2d658f4d381%20%7B%0A%20%20%20%20%20%20%20%20position%3A%20relative%3B%0A%20%20%20%20%20%20%20%20width%3A%20100.0%25%3B%0A%20%20%20%20%20%20%20%20height%3A%20100.0%25%3B%0A%20%20%20%20%20%20%20%20left%3A%200.0%25%3B%0A%20%20%20%20%20%20%20%20top%3A%200.0%25%3B%0A%20%20%20%20%20%20%20%20%7D%0A%20%20%20%20%3C/style%3E%0A%20%20%20%20%3Cscript%20src%3D%22https%3A//cdnjs.cloudflare.com/ajax/libs/d3/3.5.5/d3.min.js%22%3E%3C/script%3E%0A%3C/head%3E%0A%3Cbody%3E%20%20%20%20%0A%20%20%20%20%3Ch3%20align%3D%22center%22%20style%3D%22font-size%3A20px%22%3E%EC%84%9C%EC%9A%B8%EC%8B%9C%2017%EB%85%84%20%EA%B5%AC%EB%B3%84%2065%EC%84%B8%EC%9D%B4%EC%83%81%EA%B3%A0%EB%A0%B9%EC%9D%B8%EA%B5%AC%EB%8C%80%EB%B9%84%20cctv%EC%84%A4%EC%B9%98%EC%9C%A8%3C/h3%3E%0A%20%20%20%20%0A%20%20%20%20%3Cdiv%20class%3D%22folium-map%22%20id%3D%22map_24f29fa6e634485e9573f2d658f4d381%22%20%3E%3C/div%3E%0A%3C/body%3E%0A%3Cscript%3E%20%20%20%20%0A%20%20%20%20%0A%20%20%20%20%0A%20%20%20%20%20%20%20%20var%20bounds%20%3D%20null%3B%0A%20%20%20%20%0A%0A%20%20%20%20var%20map_24f29fa6e634485e9573f2d658f4d381%20%3D%20L.map%28%0A%20%20%20%20%20%20%20%20%27map_24f29fa6e634485e9573f2d658f4d381%27%2C%20%7B%0A%20%20%20%20%20%20%20%20center%3A%20%5B37.581%2C%20126.986%5D%2C%0A%20%20%20%20%20%20%20%20zoom%3A%2011%2C%0A%20%20%20%20%20%20%20%20maxBounds%3A%20bounds%2C%0A%20%20%20%20%20%20%20%20layers%3A%20%5B%5D%2C%0A%20%20%20%20%20%20%20%20worldCopyJump%3A%20false%2C%0A%20%20%20%20%20%20%20%20crs%3A%20L.CRS.EPSG3857%2C%0A%20%20%20%20%20%20%20%20zoomControl%3A%20true%2C%0A%20%20%20%20%20%20%20%20%7D%29%3B%0A%0A%0A%20%20%20%20%0A%20%20%20%20var%20tile_layer_7b2c1f4f0b7141eea5053d344dbd4382%20%3D%20L.tileLayer%28%0A%20%20%20%20%20%20%20%20%27https%3A//stamen-tiles-%7Bs%7D.a.ssl.fastly.net/toner/%7Bz%7D/%7Bx%7D/%7By%7D.png%27%2C%0A%20%20%20%20%20%20%20%20%7B%0A%20%20%20%20%20%20%20%20%22attribution%22%3A%20null%2C%0A%20%20%20%20%20%20%20%20%22detectRetina%22%3A%20false%2C%0A%20%20%20%20%20%20%20%20%22maxNativeZoom%22%3A%2018%2C%0A%20%20%20%20%20%20%20%20%22maxZoom%22%3A%2018%2C%0A%20%20%20%20%20%20%20%20%22minZoom%22%3A%200%2C%0A%20%20%20%20%20%20%20%20%22noWrap%22%3A%20false%2C%0A%20%20%20%20%20%20%20%20%22opacity%22%3A%201%2C%0A%20%20%20%20%20%20%20%20%22subdomains%22%3A%20%22abc%22%2C%0A%20%20%20%20%20%20%20%20%22tms%22%3A%20false%0A%7D%29.addTo%28map_24f29fa6e634485e9573f2d658f4d381%29%3B%0A%20%20%20%20var%20tile_layer_0a61a7c7892e4ae9a821c9c6db85d9f6%20%3D%20L.tileLayer%28%0A%20%20%20%20%20%20%20%20%27https%3A//cartodb-basemaps-%7Bs%7D.global.ssl.fastly.net/light_all/%7Bz%7D/%7Bx%7D/%7By%7D.png%27%2C%0A%20%20%20%20%20%20%20%20%7B%0A%20%20%20%20%20%20%20%20%22attribution%22%3A%20null%2C%0A%20%20%20%20%20%20%20%20%22detectRetina%22%3A%20false%2C%0A%20%20%20%20%20%20%20%20%22maxNativeZoom%22%3A%2018%2C%0A%20%20%20%20%20%20%20%20%22maxZoom%22%3A%2018%2C%0A%20%20%20%20%20%20%20%20%22minZoom%22%3A%200%2C%0A%20%20%20%20%20%20%20%20%22noWrap%22%3A%20false%2C%0A%20%20%20%20%20%20%20%20%22opacity%22%3A%201%2C%0A%20%20%20%20%20%20%20%20%22subdomains%22%3A%20%22abc%22%2C%0A%20%20%20%20%20%20%20%20%22tms%22%3A%20false%0A%7D%29.addTo%28map_24f29fa6e634485e9573f2d658f4d381%29%3B%0A%20%20%20%20%0A%20%20%20%20%20%20%20%20%20%20%20%20var%20choropleth_55731a12dede4109843093d58c97199e%20%3D%20L.featureGroup%28%0A%20%20%20%20%20%20%20%20%20%20%20%20%20%20%20%20%29.addTo%28map_24f29fa6e634485e9573f2d658f4d381%29%3B%0A%20%20%20%20%20%20%20%20%0A%20%20%20%20%0A%20%20%20%20%20%20%20%20var%20geo_json_8aeeee1d65d64d96b373b018ae1ab71b%20%3D%20L.geoJson%28%0A%20%20%20%20%20%20%20%20%20%20%20%20%7B%22features%22%3A%20%5B%7B%22geometry%22%3A%20%7B%22coordinates%22%3A%20%5B%5B%5B127.11519584981606%2C%2037.557533180704915%5D%2C%20%5B127.16683184366129%2C%2037.57672487388627%5D%2C%20%5B127.18408792330152%2C%2037.55814280369575%5D%2C%20%5B127.16530984307447%2C%2037.54221851258693%5D%2C%20%5B127.14672806823502%2C%2037.51415680680291%5D%2C%20%5B127.12123165719615%2C%2037.52528270089%5D%2C%20%5B127.1116764203608%2C%2037.540669955324965%5D%2C%20%5B127.11519584981606%2C%2037.557533180704915%5D%5D%5D%2C%20%22type%22%3A%20%22Polygon%22%7D%2C%20%22id%22%3A%20%22%5Cuac15%5Cub3d9%5Cuad6c%22%2C%20%22properties%22%3A%20%7B%22base_year%22%3A%20%222013%22%2C%20%22code%22%3A%20%2211250%22%2C%20%22highlight%22%3A%20%7B%7D%2C%20%22name%22%3A%20%22%5Cuac15%5Cub3d9%5Cuad6c%22%2C%20%22name_eng%22%3A%20%22Gangdong-gu%22%2C%20%22style%22%3A%20%7B%22color%22%3A%20%22black%22%2C%20%22fillColor%22%3A%20%22%23bfd3e6%22%2C%20%22fillOpacity%22%3A%200.6%2C%20%22opacity%22%3A%201%2C%20%22weight%22%3A%201%7D%7D%2C%20%22type%22%3A%20%22Feature%22%7D%2C%20%7B%22geometry%22%3A%20%7B%22coordinates%22%3A%20%5B%5B%5B127.0690698130372%2C%2037.522279423505026%5D%2C%20%5B127.10087519791962%2C%2037.524841220167055%5D%2C%20%5B127.1116764203608%2C%2037.540669955324965%5D%2C%20%5B127.12123165719615%2C%2037.52528270089%5D%2C%20%5B127.14672806823502%2C%2037.51415680680291%5D%2C%20%5B127.1634944215765%2C%2037.497445406097484%5D%2C%20%5B127.14206058413274%2C%2037.47089819098501%5D%2C%20%5B127.12440571080893%2C%2037.46240445587048%5D%2C%20%5B127.11117085201238%2C%2037.485708381512445%5D%2C%20%5B127.0719146000724%2C%2037.50224013587669%5D%2C%20%5B127.0690698130372%2C%2037.522279423505026%5D%5D%5D%2C%20%22type%22%3A%20%22Polygon%22%7D%2C%20%22id%22%3A%20%22%5Cuc1a1%5Cud30c%5Cuad6c%22%2C%20%22properties%22%3A%20%7B%22base_year%22%3A%20%222013%22%2C%20%22code%22%3A%20%2211240%22%2C%20%22highlight%22%3A%20%7B%7D%2C%20%22name%22%3A%20%22%5Cuc1a1%5Cud30c%5Cuad6c%22%2C%20%22name_eng%22%3A%20%22Songpa-gu%22%2C%20%22style%22%3A%20%7B%22color%22%3A%20%22black%22%2C%20%22fillColor%22%3A%20%22%23edf8fb%22%2C%20%22fillOpacity%22%3A%200.6%2C%20%22opacity%22%3A%201%2C%20%22weight%22%3A%201%7D%7D%2C%20%22type%22%3A%20%22Feature%22%7D%2C%20%7B%22geometry%22%3A%20%7B%22coordinates%22%3A%20%5B%5B%5B127.05867359288398%2C%2037.52629974922568%5D%2C%20%5B127.0690698130372%2C%2037.522279423505026%5D%2C%20%5B127.0719146000724%2C%2037.50224013587669%5D%2C%20%5B127.11117085201238%2C%2037.485708381512445%5D%2C%20%5B127.12440571080893%2C%2037.46240445587048%5D%2C%20%5B127.09842759318751%2C%2037.45862253857461%5D%2C%20%5B127.08640440578156%2C%2037.472697935184655%5D%2C%20%5B127.0559170481904%2C%2037.4659228914077%5D%2C%20%5B127.03621915098798%2C%2037.48175802427603%5D%2C%20%5B127.01397119667513%2C%2037.52503988289669%5D%2C%20%5B127.02302831890559%2C%2037.53231899582663%5D%2C%20%5B127.05867359288398%2C%2037.52629974922568%5D%5D%5D%2C%20%22type%22%3A%20%22Polygon%22%7D%2C%20%22id%22%3A%20%22%5Cuac15%5Cub0a8%5Cuad6c%22%2C%20%22properties%22%3A%20%7B%22base_year%22%3A%20%222013%22%2C%20%22code%22%3A%20%2211230%22%2C%20%22highlight%22%3A%20%7B%7D%2C%20%22name%22%3A%20%22%5Cuac15%5Cub0a8%5Cuad6c%22%2C%20%22name_eng%22%3A%20%22Gangnam-gu%22%2C%20%22style%22%3A%20%7B%22color%22%3A%20%22black%22%2C%20%22fillColor%22%3A%20%22%238856a7%22%2C%20%22fillOpacity%22%3A%200.6%2C%20%22opacity%22%3A%201%2C%20%22weight%22%3A%201%7D%7D%2C%20%22type%22%3A%20%22Feature%22%7D%2C%20%7B%22geometry%22%3A%20%7B%22coordinates%22%3A%20%5B%5B%5B127.01397119667513%2C%2037.52503988289669%5D%2C%20%5B127.03621915098798%2C%2037.48175802427603%5D%2C%20%5B127.0559170481904%2C%2037.4659228914077%5D%2C%20%5B127.08640440578156%2C%2037.472697935184655%5D%2C%20%5B127.09842759318751%2C%2037.45862253857461%5D%2C%20%5B127.09046928565951%2C%2037.44296826114185%5D%2C%20%5B127.06778107605433%2C%2037.426197424057314%5D%2C%20%5B127.04957232987142%2C%2037.42805836845694%5D%2C%20%5B127.03881782597922%2C%2037.45382039851715%5D%2C%20%5B126.99072073195462%2C%2037.455326143310025%5D%2C%20%5B126.98367668291802%2C%2037.473856492692086%5D%2C%20%5B126.98223807916081%2C%2037.509314966770326%5D%2C%20%5B127.01397119667513%2C%2037.52503988289669%5D%5D%5D%2C%20%22type%22%3A%20%22Polygon%22%7D%2C%20%22id%22%3A%20%22%5Cuc11c%5Cucd08%5Cuad6c%22%2C%20%22properties%22%3A%20%7B%22base_year%22%3A%20%222013%22%2C%20%22code%22%3A%20%2211220%22%2C%20%22highlight%22%3A%20%7B%7D%2C%20%22name%22%3A%20%22%5Cuc11c%5Cucd08%5Cuad6c%22%2C%20%22name_eng%22%3A%20%22Seocho-gu%22%2C%20%22style%22%3A%20%7B%22color%22%3A%20%22black%22%2C%20%22fillColor%22%3A%20%22%23810f7c%22%2C%20%22fillOpacity%22%3A%200.6%2C%20%22opacity%22%3A%201%2C%20%22weight%22%3A%201%7D%7D%2C%20%22type%22%3A%20%22Feature%22%7D%2C%20%7B%22geometry%22%3A%20%7B%22coordinates%22%3A%20%5B%5B%5B126.98367668291802%2C%2037.473856492692086%5D%2C%20%5B126.99072073195462%2C%2037.455326143310025%5D%2C%20%5B126.96520439085143%2C%2037.438249784006246%5D%2C%20%5B126.95000001010182%2C%2037.43613451165719%5D%2C%20%5B126.93084408056525%2C%2037.447382928333994%5D%2C%20%5B126.9167728146601%2C%2037.45490566423789%5D%2C%20%5B126.90156094129895%2C%2037.47753842789901%5D%2C%20%5B126.90531975801812%2C%2037.48218087575429%5D%2C%20%5B126.94922661389508%2C%2037.49125437495649%5D%2C%20%5B126.9725891850662%2C%2037.472561363278125%5D%2C%20%5B126.98367668291802%2C%2037.473856492692086%5D%5D%5D%2C%20%22type%22%3A%20%22Polygon%22%7D%2C%20%22id%22%3A%20%22%5Cuad00%5Cuc545%5Cuad6c%22%2C%20%22properties%22%3A%20%7B%22base_year%22%3A%20%222013%22%2C%20%22code%22%3A%20%2211210%22%2C%20%22highlight%22%3A%20%7B%7D%2C%20%22name%22%3A%20%22%5Cuad00%5Cuc545%5Cuad6c%22%2C%20%22name_eng%22%3A%20%22Gwanak-gu%22%2C%20%22style%22%3A%20%7B%22color%22%3A%20%22black%22%2C%20%22fillColor%22%3A%20%22%239ebcda%22%2C%20%22fillOpacity%22%3A%200.6%2C%20%22opacity%22%3A%201%2C%20%22weight%22%3A%201%7D%7D%2C%20%22type%22%3A%20%22Feature%22%7D%2C%20%7B%22geometry%22%3A%20%7B%22coordinates%22%3A%20%5B%5B%5B126.98223807916081%2C%2037.509314966770326%5D%2C%20%5B126.98367668291802%2C%2037.473856492692086%5D%2C%20%5B126.9725891850662%2C%2037.472561363278125%5D%2C%20%5B126.94922661389508%2C%2037.49125437495649%5D%2C%20%5B126.90531975801812%2C%2037.48218087575429%5D%2C%20%5B126.92177893174825%2C%2037.494889877415176%5D%2C%20%5B126.92810628828279%2C%2037.51329595732015%5D%2C%20%5B126.95249990298159%2C%2037.51722500741813%5D%2C%20%5B126.98223807916081%2C%2037.509314966770326%5D%5D%5D%2C%20%22type%22%3A%20%22Polygon%22%7D%2C%20%22id%22%3A%20%22%5Cub3d9%5Cuc791%5Cuad6c%22%2C%20%22properties%22%3A%20%7B%22base_year%22%3A%20%222013%22%2C%20%22code%22%3A%20%2211200%22%2C%20%22highlight%22%3A%20%7B%7D%2C%20%22name%22%3A%20%22%5Cub3d9%5Cuc791%5Cuad6c%22%2C%20%22name_eng%22%3A%20%22Dongjak-gu%22%2C%20%22style%22%3A%20%7B%22color%22%3A%20%22black%22%2C%20%22fillColor%22%3A%20%22%23bfd3e6%22%2C%20%22fillOpacity%22%3A%200.6%2C%20%22opacity%22%3A%201%2C%20%22weight%22%3A%201%7D%7D%2C%20%22type%22%3A%20%22Feature%22%7D%2C%20%7B%22geometry%22%3A%20%7B%22coordinates%22%3A%20%5B%5B%5B126.89184663862764%2C%2037.547373974997114%5D%2C%20%5B126.94566733083212%2C%2037.526617542453366%5D%2C%20%5B126.95249990298159%2C%2037.51722500741813%5D%2C%20%5B126.92810628828279%2C%2037.51329595732015%5D%2C%20%5B126.92177893174825%2C%2037.494889877415176%5D%2C%20%5B126.90531975801812%2C%2037.48218087575429%5D%2C%20%5B126.89594776782485%2C%2037.504675281309176%5D%2C%20%5B126.88156402353862%2C%2037.513970034765684%5D%2C%20%5B126.88825757860099%2C%2037.54079733630232%5D%2C%20%5B126.89184663862764%2C%2037.547373974997114%5D%5D%5D%2C%20%22type%22%3A%20%22Polygon%22%7D%2C%20%22id%22%3A%20%22%5Cuc601%5Cub4f1%5Cud3ec%5Cuad6c%22%2C%20%22properties%22%3A%20%7B%22base_year%22%3A%20%222013%22%2C%20%22code%22%3A%20%2211190%22%2C%20%22highlight%22%3A%20%7B%7D%2C%20%22name%22%3A%20%22%5Cuc601%5Cub4f1%5Cud3ec%5Cuad6c%22%2C%20%22name_eng%22%3A%20%22Yeongdeungpo-gu%22%2C%20%22style%22%3A%20%7B%22color%22%3A%20%22black%22%2C%20%22fillColor%22%3A%20%22%23bfd3e6%22%2C%20%22fillOpacity%22%3A%200.6%2C%20%22opacity%22%3A%201%2C%20%22weight%22%3A%201%7D%7D%2C%20%22type%22%3A%20%22Feature%22%7D%2C%20%7B%22geometry%22%3A%20%7B%22coordinates%22%3A%20%5B%5B%5B126.90156094129895%2C%2037.47753842789901%5D%2C%20%5B126.9167728146601%2C%2037.45490566423789%5D%2C%20%5B126.93084408056525%2C%2037.447382928333994%5D%2C%20%5B126.9025831711697%2C%2037.434549366349124%5D%2C%20%5B126.87683271502428%2C%2037.482576591607305%5D%2C%20%5B126.90156094129895%2C%2037.47753842789901%5D%5D%5D%2C%20%22type%22%3A%20%22Polygon%22%7D%2C%20%22id%22%3A%20%22%5Cuae08%5Cucc9c%5Cuad6c%22%2C%20%22properties%22%3A%20%7B%22base_year%22%3A%20%222013%22%2C%20%22code%22%3A%20%2211180%22%2C%20%22highlight%22%3A%20%7B%7D%2C%20%22name%22%3A%20%22%5Cuae08%5Cucc9c%5Cuad6c%22%2C%20%22name_eng%22%3A%20%22Geumcheon-gu%22%2C%20%22style%22%3A%20%7B%22color%22%3A%20%22black%22%2C%20%22fillColor%22%3A%20%22%23bfd3e6%22%2C%20%22fillOpacity%22%3A%200.6%2C%20%22opacity%22%3A%201%2C%20%22weight%22%3A%201%7D%7D%2C%20%22type%22%3A%20%22Feature%22%7D%2C%20%7B%22geometry%22%3A%20%7B%22coordinates%22%3A%20%5B%5B%5B126.82688081517314%2C%2037.50548972232896%5D%2C%20%5B126.88156402353862%2C%2037.513970034765684%5D%2C%20%5B126.89594776782485%2C%2037.504675281309176%5D%2C%20%5B126.90531975801812%2C%2037.48218087575429%5D%2C%20%5B126.90156094129895%2C%2037.47753842789901%5D%2C%20%5B126.87683271502428%2C%2037.482576591607305%5D%2C%20%5B126.84762676054953%2C%2037.47146723936323%5D%2C%20%5B126.83549485076196%2C%2037.474098236975095%5D%2C%20%5B126.82264796791348%2C%2037.4878476492147%5D%2C%20%5B126.82504736331406%2C%2037.50302612640443%5D%2C%20%5B126.82688081517314%2C%2037.50548972232896%5D%5D%5D%2C%20%22type%22%3A%20%22Polygon%22%7D%2C%20%22id%22%3A%20%22%5Cuad6c%5Cub85c%5Cuad6c%22%2C%20%22properties%22%3A%20%7B%22base_year%22%3A%20%222013%22%2C%20%22code%22%3A%20%2211170%22%2C%20%22highlight%22%3A%20%7B%7D%2C%20%22name%22%3A%20%22%5Cuad6c%5Cub85c%5Cuad6c%22%2C%20%22name_eng%22%3A%20%22Guro-gu%22%2C%20%22style%22%3A%20%7B%22color%22%3A%20%22black%22%2C%20%22fillColor%22%3A%20%22%239ebcda%22%2C%20%22fillOpacity%22%3A%200.6%2C%20%22opacity%22%3A%201%2C%20%22weight%22%3A%201%7D%7D%2C%20%22type%22%3A%20%22Feature%22%7D%2C%20%7B%22geometry%22%3A%20%7B%22coordinates%22%3A%20%5B%5B%5B126.79575768552907%2C%2037.57881087633202%5D%2C%20%5B126.80702115023597%2C%2037.60123001013228%5D%2C%20%5B126.82251438477105%2C%2037.5880430810082%5D%2C%20%5B126.85984199399667%2C%2037.571847855292745%5D%2C%20%5B126.89184663862764%2C%2037.547373974997114%5D%2C%20%5B126.88825757860099%2C%2037.54079733630232%5D%2C%20%5B126.86637464321238%2C%2037.54859191094823%5D%2C%20%5B126.86610073476395%2C%2037.52699964144669%5D%2C%20%5B126.84257291943153%2C%2037.52373707805596%5D%2C%20%5B126.8242331426722%2C%2037.53788078753248%5D%2C%20%5B126.77324417717703%2C%2037.5459123450554%5D%2C%20%5B126.76979180579352%2C%2037.55139183008809%5D%2C%20%5B126.79575768552907%2C%2037.57881087633202%5D%5D%5D%2C%20%22type%22%3A%20%22Polygon%22%7D%2C%20%22id%22%3A%20%22%5Cuac15%5Cuc11c%5Cuad6c%22%2C%20%22properties%22%3A%20%7B%22base_year%22%3A%20%222013%22%2C%20%22code%22%3A%20%2211160%22%2C%20%22highlight%22%3A%20%7B%7D%2C%20%22name%22%3A%20%22%5Cuac15%5Cuc11c%5Cuad6c%22%2C%20%22name_eng%22%3A%20%22Gangseo-gu%22%2C%20%22style%22%3A%20%7B%22color%22%3A%20%22black%22%2C%20%22fillColor%22%3A%20%22%23bfd3e6%22%2C%20%22fillOpacity%22%3A%200.6%2C%20%22opacity%22%3A%201%2C%20%22weight%22%3A%201%7D%7D%2C%20%22type%22%3A%20%22Feature%22%7D%2C%20%7B%22geometry%22%3A%20%7B%22coordinates%22%3A%20%5B%5B%5B126.8242331426722%2C%2037.53788078753248%5D%2C%20%5B126.84257291943153%2C%2037.52373707805596%5D%2C%20%5B126.86610073476395%2C%2037.52699964144669%5D%2C%20%5B126.86637464321238%2C%2037.54859191094823%5D%2C%20%5B126.88825757860099%2C%2037.54079733630232%5D%2C%20%5B126.88156402353862%2C%2037.513970034765684%5D%2C%20%5B126.82688081517314%2C%2037.50548972232896%5D%2C%20%5B126.8242331426722%2C%2037.53788078753248%5D%5D%5D%2C%20%22type%22%3A%20%22Polygon%22%7D%2C%20%22id%22%3A%20%22%5Cuc591%5Cucc9c%5Cuad6c%22%2C%20%22properties%22%3A%20%7B%22base_year%22%3A%20%222013%22%2C%20%22code%22%3A%20%2211150%22%2C%20%22highlight%22%3A%20%7B%7D%2C%20%22name%22%3A%20%22%5Cuc591%5Cucc9c%5Cuad6c%22%2C%20%22name_eng%22%3A%20%22Yangcheon-gu%22%2C%20%22style%22%3A%20%7B%22color%22%3A%20%22black%22%2C%20%22fillColor%22%3A%20%22%23edf8fb%22%2C%20%22fillOpacity%22%3A%200.6%2C%20%22opacity%22%3A%201%2C%20%22weight%22%3A%201%7D%7D%2C%20%22type%22%3A%20%22Feature%22%7D%2C%20%7B%22geometry%22%3A%20%7B%22coordinates%22%3A%20%5B%5B%5B126.90522065831053%2C%2037.57409700522574%5D%2C%20%5B126.93898161798973%2C%2037.552310003728124%5D%2C%20%5B126.96358226710812%2C%2037.55605635475154%5D%2C%20%5B126.96448570553055%2C%2037.548705692021635%5D%2C%20%5B126.94566733083212%2C%2037.526617542453366%5D%2C%20%5B126.89184663862764%2C%2037.547373974997114%5D%2C%20%5B126.85984199399667%2C%2037.571847855292745%5D%2C%20%5B126.88433284773288%2C%2037.588143322880526%5D%2C%20%5B126.90522065831053%2C%2037.57409700522574%5D%5D%5D%2C%20%22type%22%3A%20%22Polygon%22%7D%2C%20%22id%22%3A%20%22%5Cub9c8%5Cud3ec%5Cuad6c%22%2C%20%22properties%22%3A%20%7B%22base_year%22%3A%20%222013%22%2C%20%22code%22%3A%20%2211140%22%2C%20%22highlight%22%3A%20%7B%7D%2C%20%22name%22%3A%20%22%5Cub9c8%5Cud3ec%5Cuad6c%22%2C%20%22name_eng%22%3A%20%22Mapo-gu%22%2C%20%22style%22%3A%20%7B%22color%22%3A%20%22black%22%2C%20%22fillColor%22%3A%20%22%239ebcda%22%2C%20%22fillOpacity%22%3A%200.6%2C%20%22opacity%22%3A%201%2C%20%22weight%22%3A%201%7D%7D%2C%20%22type%22%3A%20%22Feature%22%7D%2C%20%7B%22geometry%22%3A%20%7B%22coordinates%22%3A%20%5B%5B%5B126.9524752030572%2C%2037.60508692737045%5D%2C%20%5B126.95565425846463%2C%2037.576080790881456%5D%2C%20%5B126.96873633279075%2C%2037.56313604690827%5D%2C%20%5B126.96358226710812%2C%2037.55605635475154%5D%2C%20%5B126.93898161798973%2C%2037.552310003728124%5D%2C%20%5B126.90522065831053%2C%2037.57409700522574%5D%2C%20%5B126.9524752030572%2C%2037.60508692737045%5D%5D%5D%2C%20%22type%22%3A%20%22Polygon%22%7D%2C%20%22id%22%3A%20%22%5Cuc11c%5Cub300%5Cubb38%5Cuad6c%22%2C%20%22properties%22%3A%20%7B%22base_year%22%3A%20%222013%22%2C%20%22code%22%3A%20%2211130%22%2C%20%22highlight%22%3A%20%7B%7D%2C%20%22name%22%3A%20%22%5Cuc11c%5Cub300%5Cubb38%5Cuad6c%22%2C%20%22name_eng%22%3A%20%22Seodaemun-gu%22%2C%20%22style%22%3A%20%7B%22color%22%3A%20%22black%22%2C%20%22fillColor%22%3A%20%22%239ebcda%22%2C%20%22fillOpacity%22%3A%200.6%2C%20%22opacity%22%3A%201%2C%20%22weight%22%3A%201%7D%7D%2C%20%22type%22%3A%20%22Feature%22%7D%2C%20%7B%22geometry%22%3A%20%7B%22coordinates%22%3A%20%5B%5B%5B126.9738864128702%2C%2037.62949634786888%5D%2C%20%5B126.95427017006129%2C%2037.622033431339425%5D%2C%20%5B126.9524752030572%2C%2037.60508692737045%5D%2C%20%5B126.90522065831053%2C%2037.57409700522574%5D%2C%20%5B126.88433284773288%2C%2037.588143322880526%5D%2C%20%5B126.90396681003595%2C%2037.59227403419942%5D%2C%20%5B126.90303066177668%2C%2037.609977911401344%5D%2C%20%5B126.91455481429648%2C%2037.64150050996935%5D%2C%20%5B126.956473797387%2C%2037.652480737339445%5D%2C%20%5B126.9738864128702%2C%2037.62949634786888%5D%5D%5D%2C%20%22type%22%3A%20%22Polygon%22%7D%2C%20%22id%22%3A%20%22%5Cuc740%5Cud3c9%5Cuad6c%22%2C%20%22properties%22%3A%20%7B%22base_year%22%3A%20%222013%22%2C%20%22code%22%3A%20%2211120%22%2C%20%22highlight%22%3A%20%7B%7D%2C%20%22name%22%3A%20%22%5Cuc740%5Cud3c9%5Cuad6c%22%2C%20%22name_eng%22%3A%20%22Eunpyeong-gu%22%2C%20%22style%22%3A%20%7B%22color%22%3A%20%22black%22%2C%20%22fillColor%22%3A%20%22%23bfd3e6%22%2C%20%22fillOpacity%22%3A%200.6%2C%20%22opacity%22%3A%201%2C%20%22weight%22%3A%201%7D%7D%2C%20%22type%22%3A%20%22Feature%22%7D%2C%20%7B%22geometry%22%3A%20%7B%22coordinates%22%3A%20%5B%5B%5B127.0838752703195%2C%2037.69359534202034%5D%2C%20%5B127.09706391309695%2C%2037.686383719372294%5D%2C%20%5B127.09440766298717%2C%2037.64713490473045%5D%2C%20%5B127.11326795855199%2C%2037.639622905315925%5D%2C%20%5B127.10782277688129%2C%2037.61804244241069%5D%2C%20%5B127.07351243825278%2C%2037.61283660342313%5D%2C%20%5B127.05209373568619%2C%2037.62164065487782%5D%2C%20%5B127.04358800895609%2C%2037.62848931298715%5D%2C%20%5B127.05800075220091%2C%2037.64318263878276%5D%2C%20%5B127.05288479710485%2C%2037.68423857084347%5D%2C%20%5B127.0838752703195%2C%2037.69359534202034%5D%5D%5D%2C%20%22type%22%3A%20%22Polygon%22%7D%2C%20%22id%22%3A%20%22%5Cub178%5Cuc6d0%5Cuad6c%22%2C%20%22properties%22%3A%20%7B%22base_year%22%3A%20%222013%22%2C%20%22code%22%3A%20%2211110%22%2C%20%22highlight%22%3A%20%7B%7D%2C%20%22name%22%3A%20%22%5Cub178%5Cuc6d0%5Cuad6c%22%2C%20%22name_eng%22%3A%20%22Nowon-gu%22%2C%20%22style%22%3A%20%7B%22color%22%3A%20%22black%22%2C%20%22fillColor%22%3A%20%22%23edf8fb%22%2C%20%22fillOpacity%22%3A%200.6%2C%20%22opacity%22%3A%201%2C%20%22weight%22%3A%201%7D%7D%2C%20%22type%22%3A%20%22Feature%22%7D%2C%20%7B%22geometry%22%3A%20%7B%22coordinates%22%3A%20%5B%5B%5B127.05288479710485%2C%2037.68423857084347%5D%2C%20%5B127.05800075220091%2C%2037.64318263878276%5D%2C%20%5B127.04358800895609%2C%2037.62848931298715%5D%2C%20%5B127.01465935892466%2C%2037.64943687496812%5D%2C%20%5B127.02062116141389%2C%2037.667173575971205%5D%2C%20%5B127.01039666042071%2C%2037.681894589603594%5D%2C%20%5B127.01795099203432%2C%2037.69824412775662%5D%2C%20%5B127.05288479710485%2C%2037.68423857084347%5D%5D%5D%2C%20%22type%22%3A%20%22Polygon%22%7D%2C%20%22id%22%3A%20%22%5Cub3c4%5Cubd09%5Cuad6c%22%2C%20%22properties%22%3A%20%7B%22base_year%22%3A%20%222013%22%2C%20%22code%22%3A%20%2211100%22%2C%20%22highlight%22%3A%20%7B%7D%2C%20%22name%22%3A%20%22%5Cub3c4%5Cubd09%5Cuad6c%22%2C%20%22name_eng%22%3A%20%22Dobong-gu%22%2C%20%22style%22%3A%20%7B%22color%22%3A%20%22black%22%2C%20%22fillColor%22%3A%20%22%23edf8fb%22%2C%20%22fillOpacity%22%3A%200.6%2C%20%22opacity%22%3A%201%2C%20%22weight%22%3A%201%7D%7D%2C%20%22type%22%3A%20%22Feature%22%7D%2C%20%7B%22geometry%22%3A%20%7B%22coordinates%22%3A%20%5B%5B%5B126.99383903424%2C%2037.676681761199085%5D%2C%20%5B127.01039666042071%2C%2037.681894589603594%5D%2C%20%5B127.02062116141389%2C%2037.667173575971205%5D%2C%20%5B127.01465935892466%2C%2037.64943687496812%5D%2C%20%5B127.04358800895609%2C%2037.62848931298715%5D%2C%20%5B127.05209373568619%2C%2037.62164065487782%5D%2C%20%5B127.03892400992301%2C%2037.609715611023816%5D%2C%20%5B127.0128154749523%2C%2037.613652243470256%5D%2C%20%5B126.98672705513869%2C%2037.63377641288196%5D%2C%20%5B126.9817452676551%2C%2037.65209769387776%5D%2C%20%5B126.99383903424%2C%2037.676681761199085%5D%5D%5D%2C%20%22type%22%3A%20%22Polygon%22%7D%2C%20%22id%22%3A%20%22%5Cuac15%5Cubd81%5Cuad6c%22%2C%20%22properties%22%3A%20%7B%22base_year%22%3A%20%222013%22%2C%20%22code%22%3A%20%2211090%22%2C%20%22highlight%22%3A%20%7B%7D%2C%20%22name%22%3A%20%22%5Cuac15%5Cubd81%5Cuad6c%22%2C%20%22name_eng%22%3A%20%22Gangbuk-gu%22%2C%20%22style%22%3A%20%7B%22color%22%3A%20%22black%22%2C%20%22fillColor%22%3A%20%22%23edf8fb%22%2C%20%22fillOpacity%22%3A%200.6%2C%20%22opacity%22%3A%201%2C%20%22weight%22%3A%201%7D%7D%2C%20%22type%22%3A%20%22Feature%22%7D%2C%20%7B%22geometry%22%3A%20%7B%22coordinates%22%3A%20%5B%5B%5B126.977175406416%2C%2037.62859715400388%5D%2C%20%5B126.98672705513869%2C%2037.63377641288196%5D%2C%20%5B127.0128154749523%2C%2037.613652243470256%5D%2C%20%5B127.03892400992301%2C%2037.609715611023816%5D%2C%20%5B127.05209373568619%2C%2037.62164065487782%5D%2C%20%5B127.07351243825278%2C%2037.61283660342313%5D%2C%20%5B127.07382707099227%2C%2037.60401928986419%5D%2C%20%5B127.042705222094%2C%2037.59239437593391%5D%2C%20%5B127.02527254528003%2C%2037.57524616245249%5D%2C%20%5B126.99348293358314%2C%2037.588565457216156%5D%2C%20%5B126.98879865992384%2C%2037.6118927319756%5D%2C%20%5B126.977175406416%2C%2037.62859715400388%5D%5D%5D%2C%20%22type%22%3A%20%22Polygon%22%7D%2C%20%22id%22%3A%20%22%5Cuc131%5Cubd81%5Cuad6c%22%2C%20%22properties%22%3A%20%7B%22base_year%22%3A%20%222013%22%2C%20%22code%22%3A%20%2211080%22%2C%20%22highlight%22%3A%20%7B%7D%2C%20%22name%22%3A%20%22%5Cuc131%5Cubd81%5Cuad6c%22%2C%20%22name_eng%22%3A%20%22Seongbuk-gu%22%2C%20%22style%22%3A%20%7B%22color%22%3A%20%22black%22%2C%20%22fillColor%22%3A%20%22%23bfd3e6%22%2C%20%22fillOpacity%22%3A%200.6%2C%20%22opacity%22%3A%201%2C%20%22weight%22%3A%201%7D%7D%2C%20%22type%22%3A%20%22Feature%22%7D%2C%20%7B%22geometry%22%3A%20%7B%22coordinates%22%3A%20%5B%5B%5B127.07351243825278%2C%2037.61283660342313%5D%2C%20%5B127.10782277688129%2C%2037.61804244241069%5D%2C%20%5B127.1201246020114%2C%2037.60178457598188%5D%2C%20%5B127.10304174249214%2C%2037.57076342290955%5D%2C%20%5B127.08068541280403%2C%2037.56906425519017%5D%2C%20%5B127.07382707099227%2C%2037.60401928986419%5D%2C%20%5B127.07351243825278%2C%2037.61283660342313%5D%5D%5D%2C%20%22type%22%3A%20%22Polygon%22%7D%2C%20%22id%22%3A%20%22%5Cuc911%5Cub791%5Cuad6c%22%2C%20%22properties%22%3A%20%7B%22base_year%22%3A%20%222013%22%2C%20%22code%22%3A%20%2211070%22%2C%20%22highlight%22%3A%20%7B%7D%2C%20%22name%22%3A%20%22%5Cuc911%5Cub791%5Cuad6c%22%2C%20%22name_eng%22%3A%20%22Jungnang-gu%22%2C%20%22style%22%3A%20%7B%22color%22%3A%20%22black%22%2C%20%22fillColor%22%3A%20%22%23edf8fb%22%2C%20%22fillOpacity%22%3A%200.6%2C%20%22opacity%22%3A%201%2C%20%22weight%22%3A%201%7D%7D%2C%20%22type%22%3A%20%22Feature%22%7D%2C%20%7B%22geometry%22%3A%20%7B%22coordinates%22%3A%20%5B%5B%5B127.02527254528003%2C%2037.57524616245249%5D%2C%20%5B127.042705222094%2C%2037.59239437593391%5D%2C%20%5B127.07382707099227%2C%2037.60401928986419%5D%2C%20%5B127.08068541280403%2C%2037.56906425519017%5D%2C%20%5B127.07421053024362%2C%2037.55724769712085%5D%2C%20%5B127.05005601081567%2C%2037.567577612590846%5D%2C%20%5B127.02547266349976%2C%2037.568943552237734%5D%2C%20%5B127.02527254528003%2C%2037.57524616245249%5D%5D%5D%2C%20%22type%22%3A%20%22Polygon%22%7D%2C%20%22id%22%3A%20%22%5Cub3d9%5Cub300%5Cubb38%5Cuad6c%22%2C%20%22properties%22%3A%20%7B%22base_year%22%3A%20%222013%22%2C%20%22code%22%3A%20%2211060%22%2C%20%22highlight%22%3A%20%7B%7D%2C%20%22name%22%3A%20%22%5Cub3d9%5Cub300%5Cubb38%5Cuad6c%22%2C%20%22name_eng%22%3A%20%22Dongdaemun-gu%22%2C%20%22style%22%3A%20%7B%22color%22%3A%20%22black%22%2C%20%22fillColor%22%3A%20%22%23edf8fb%22%2C%20%22fillOpacity%22%3A%200.6%2C%20%22opacity%22%3A%201%2C%20%22weight%22%3A%201%7D%7D%2C%20%22type%22%3A%20%22Feature%22%7D%2C%20%7B%22geometry%22%3A%20%7B%22coordinates%22%3A%20%5B%5B%5B127.08068541280403%2C%2037.56906425519017%5D%2C%20%5B127.10304174249214%2C%2037.57076342290955%5D%2C%20%5B127.11519584981606%2C%2037.557533180704915%5D%2C%20%5B127.1116764203608%2C%2037.540669955324965%5D%2C%20%5B127.10087519791962%2C%2037.524841220167055%5D%2C%20%5B127.0690698130372%2C%2037.522279423505026%5D%2C%20%5B127.05867359288398%2C%2037.52629974922568%5D%2C%20%5B127.07421053024362%2C%2037.55724769712085%5D%2C%20%5B127.08068541280403%2C%2037.56906425519017%5D%5D%5D%2C%20%22type%22%3A%20%22Polygon%22%7D%2C%20%22id%22%3A%20%22%5Cuad11%5Cuc9c4%5Cuad6c%22%2C%20%22properties%22%3A%20%7B%22base_year%22%3A%20%222013%22%2C%20%22code%22%3A%20%2211050%22%2C%20%22highlight%22%3A%20%7B%7D%2C%20%22name%22%3A%20%22%5Cuad11%5Cuc9c4%5Cuad6c%22%2C%20%22name_eng%22%3A%20%22Gwangjin-gu%22%2C%20%22style%22%3A%20%7B%22color%22%3A%20%22black%22%2C%20%22fillColor%22%3A%20%22%238856a7%22%2C%20%22fillOpacity%22%3A%200.6%2C%20%22opacity%22%3A%201%2C%20%22weight%22%3A%201%7D%7D%2C%20%22type%22%3A%20%22Feature%22%7D%2C%20%7B%22geometry%22%3A%20%7B%22coordinates%22%3A%20%5B%5B%5B127.02547266349976%2C%2037.568943552237734%5D%2C%20%5B127.05005601081567%2C%2037.567577612590846%5D%2C%20%5B127.07421053024362%2C%2037.55724769712085%5D%2C%20%5B127.05867359288398%2C%2037.52629974922568%5D%2C%20%5B127.02302831890559%2C%2037.53231899582663%5D%2C%20%5B127.01070894177482%2C%2037.54118048964762%5D%2C%20%5B127.02547266349976%2C%2037.568943552237734%5D%5D%5D%2C%20%22type%22%3A%20%22Polygon%22%7D%2C%20%22id%22%3A%20%22%5Cuc131%5Cub3d9%5Cuad6c%22%2C%20%22properties%22%3A%20%7B%22base_year%22%3A%20%222013%22%2C%20%22code%22%3A%20%2211040%22%2C%20%22highlight%22%3A%20%7B%7D%2C%20%22name%22%3A%20%22%5Cuc131%5Cub3d9%5Cuad6c%22%2C%20%22name_eng%22%3A%20%22Seongdong-gu%22%2C%20%22style%22%3A%20%7B%22color%22%3A%20%22black%22%2C%20%22fillColor%22%3A%20%22%23810f7c%22%2C%20%22fillOpacity%22%3A%200.6%2C%20%22opacity%22%3A%201%2C%20%22weight%22%3A%201%7D%7D%2C%20%22type%22%3A%20%22Feature%22%7D%2C%20%7B%22geometry%22%3A%20%7B%22coordinates%22%3A%20%5B%5B%5B127.01070894177482%2C%2037.54118048964762%5D%2C%20%5B127.02302831890559%2C%2037.53231899582663%5D%2C%20%5B127.01397119667513%2C%2037.52503988289669%5D%2C%20%5B126.98223807916081%2C%2037.509314966770326%5D%2C%20%5B126.95249990298159%2C%2037.51722500741813%5D%2C%20%5B126.94566733083212%2C%2037.526617542453366%5D%2C%20%5B126.96448570553055%2C%2037.548705692021635%5D%2C%20%5B126.98752996903328%2C%2037.55094818807139%5D%2C%20%5B127.01070894177482%2C%2037.54118048964762%5D%5D%5D%2C%20%22type%22%3A%20%22Polygon%22%7D%2C%20%22id%22%3A%20%22%5Cuc6a9%5Cuc0b0%5Cuad6c%22%2C%20%22properties%22%3A%20%7B%22base_year%22%3A%20%222013%22%2C%20%22code%22%3A%20%2211030%22%2C%20%22highlight%22%3A%20%7B%7D%2C%20%22name%22%3A%20%22%5Cuc6a9%5Cuc0b0%5Cuad6c%22%2C%20%22name_eng%22%3A%20%22Yongsan-gu%22%2C%20%22style%22%3A%20%7B%22color%22%3A%20%22black%22%2C%20%22fillColor%22%3A%20%22%239ebcda%22%2C%20%22fillOpacity%22%3A%200.6%2C%20%22opacity%22%3A%201%2C%20%22weight%22%3A%201%7D%7D%2C%20%22type%22%3A%20%22Feature%22%7D%2C%20%7B%22geometry%22%3A%20%7B%22coordinates%22%3A%20%5B%5B%5B127.02547266349976%2C%2037.568943552237734%5D%2C%20%5B127.01070894177482%2C%2037.54118048964762%5D%2C%20%5B126.98752996903328%2C%2037.55094818807139%5D%2C%20%5B126.96448570553055%2C%2037.548705692021635%5D%2C%20%5B126.96358226710812%2C%2037.55605635475154%5D%2C%20%5B126.96873633279075%2C%2037.56313604690827%5D%2C%20%5B127.02547266349976%2C%2037.568943552237734%5D%5D%5D%2C%20%22type%22%3A%20%22Polygon%22%7D%2C%20%22id%22%3A%20%22%5Cuc911%5Cuad6c%22%2C%20%22properties%22%3A%20%7B%22base_year%22%3A%20%222013%22%2C%20%22code%22%3A%20%2211020%22%2C%20%22highlight%22%3A%20%7B%7D%2C%20%22name%22%3A%20%22%5Cuc911%5Cuad6c%22%2C%20%22name_eng%22%3A%20%22Jung-gu%22%2C%20%22style%22%3A%20%7B%22color%22%3A%20%22black%22%2C%20%22fillColor%22%3A%20%22%238856a7%22%2C%20%22fillOpacity%22%3A%200.6%2C%20%22opacity%22%3A%201%2C%20%22weight%22%3A%201%7D%7D%2C%20%22type%22%3A%20%22Feature%22%7D%2C%20%7B%22geometry%22%3A%20%7B%22coordinates%22%3A%20%5B%5B%5B126.9738864128702%2C%2037.62949634786888%5D%2C%20%5B126.977175406416%2C%2037.62859715400388%5D%2C%20%5B126.98879865992384%2C%2037.6118927319756%5D%2C%20%5B126.99348293358314%2C%2037.588565457216156%5D%2C%20%5B127.02527254528003%2C%2037.57524616245249%5D%2C%20%5B127.02547266349976%2C%2037.568943552237734%5D%2C%20%5B126.96873633279075%2C%2037.56313604690827%5D%2C%20%5B126.95565425846463%2C%2037.576080790881456%5D%2C%20%5B126.9524752030572%2C%2037.60508692737045%5D%2C%20%5B126.95427017006129%2C%2037.622033431339425%5D%2C%20%5B126.9738864128702%2C%2037.62949634786888%5D%5D%5D%2C%20%22type%22%3A%20%22Polygon%22%7D%2C%20%22id%22%3A%20%22%5Cuc885%5Cub85c%5Cuad6c%22%2C%20%22properties%22%3A%20%7B%22base_year%22%3A%20%222013%22%2C%20%22code%22%3A%20%2211010%22%2C%20%22highlight%22%3A%20%7B%7D%2C%20%22name%22%3A%20%22%5Cuc885%5Cub85c%5Cuad6c%22%2C%20%22name_eng%22%3A%20%22Jongno-gu%22%2C%20%22style%22%3A%20%7B%22color%22%3A%20%22black%22%2C%20%22fillColor%22%3A%20%22%239ebcda%22%2C%20%22fillOpacity%22%3A%200.6%2C%20%22opacity%22%3A%201%2C%20%22weight%22%3A%201%7D%7D%2C%20%22type%22%3A%20%22Feature%22%7D%5D%2C%20%22type%22%3A%20%22FeatureCollection%22%7D%2C%0A%20%20%20%20%20%20%20%20%20%20%20%20%7B%0A%20%20%20%20%20%20%20%20%20%20%20%20%7D%0A%20%20%20%20%20%20%20%20%29.addTo%28choropleth_55731a12dede4109843093d58c97199e%20%29%3B%0A%20%20%20%20%20%20%20%20geo_json_8aeeee1d65d64d96b373b018ae1ab71b.setStyle%28function%28feature%29%20%7Breturn%20feature.properties.style%3B%7D%29%3B%0A%20%20%20%20%20%20%20%20%0A%20%20%20%20%0A%20%20%20%20var%20color_map_b304c63a1c034894b7caa03f7f056961%20%3D%20%7B%7D%3B%0A%0A%20%20%20%20%0A%20%20%20%20color_map_b304c63a1c034894b7caa03f7f056961.color%20%3D%20d3.scale.threshold%28%29%0A%20%20%20%20%20%20%20%20%20%20%20%20%20%20.domain%28%5B0.01%2C%200.013827655310621242%2C%200.017655310621242485%2C%200.021482965931863725%2C%200.025310621242484968%2C%200.02913827655310621%2C%200.032965931863727455%2C%200.0367935871743487%2C%200.04062124248496994%2C%200.04444889779559118%2C%200.04827655310621242%2C%200.052104208416833664%2C%200.05593186372745491%2C%200.05975951903807615%2C%200.06358717434869739%2C%200.06741482965931864%2C%200.07124248496993987%2C%200.07507014028056111%2C%200.07889779559118235%2C%200.0827254509018036%2C%200.08655310621242483%2C%200.09038076152304608%2C%200.09420841683366732%2C%200.09803607214428857%2C%200.1018637274549098%2C%200.10569138276553106%2C%200.10951903807615229%2C%200.11334669338677354%2C%200.11717434869739478%2C%200.12100200400801603%2C%200.12482965931863726%2C%200.12865731462925853%2C%200.13248496993987977%2C%200.136312625250501%2C%200.14014028056112224%2C%200.14396793587174347%2C%200.1477955911823647%2C%200.15162324649298597%2C%200.1554509018036072%2C%200.15927855711422845%2C%200.16310621242484968%2C%200.16693386773547095%2C%200.17076152304609218%2C%200.17458917835671342%2C%200.17841683366733466%2C%200.18224448897795592%2C%200.18607214428857716%2C%200.1898997995991984%2C%200.19372745490981963%2C%200.19755511022044087%2C%200.20138276553106213%2C%200.20521042084168337%2C%200.2090380761523046%2C%200.21286573146292584%2C%200.2166933867735471%2C%200.22052104208416834%2C%200.22434869739478958%2C%200.2281763527054108%2C%200.23200400801603208%2C%200.2358316633266533%2C%200.23965931863727455%2C%200.24348697394789579%2C%200.24731462925851705%2C%200.2511422845691383%2C%200.2549699398797595%2C%200.25879759519038076%2C%200.262625250501002%2C%200.26645290581162323%2C%200.27028056112224447%2C%200.2741082164328657%2C%200.27793587174348694%2C%200.2817635270541082%2C%200.2855911823647294%2C%200.2894188376753507%2C%200.29324649298597194%2C%200.2970741482965932%2C%200.3009018036072144%2C%200.30472945891783565%2C%200.3085571142284569%2C%200.3123847695390781%2C%200.31621242484969936%2C%200.3200400801603206%2C%200.3238677354709419%2C%200.3276953907815631%2C%200.33152304609218436%2C%200.3353507014028056%2C%200.33917835671342683%2C%200.34300601202404807%2C%200.3468336673346693%2C%200.35066132264529054%2C%200.35448897795591183%2C%200.35831663326653307%2C%200.3621442885771543%2C%200.36597194388777554%2C%200.3697995991983968%2C%200.373627254509018%2C%200.37745490981963925%2C%200.3812825651302605%2C%200.3851102204408817%2C%200.388937875751503%2C%200.39276553106212425%2C%200.3965931863727455%2C%200.4004208416833667%2C%200.40424849699398796%2C%200.4080761523046092%2C%200.41190380761523043%2C%200.41573146292585167%2C%200.41955911823647296%2C%200.4233867735470942%2C%200.42721442885771543%2C%200.43104208416833667%2C%200.4348697394789579%2C%200.43869739478957914%2C%200.4425250501002004%2C%200.4463527054108216%2C%200.45018036072144285%2C%200.45400801603206414%2C%200.4578356713426854%2C%200.4616633266533066%2C%200.46549098196392785%2C%200.4693186372745491%2C%200.4731462925851703%2C%200.47697394789579156%2C%200.4808016032064128%2C%200.4846292585170341%2C%200.4884569138276553%2C%200.49228456913827656%2C%200.4961122244488978%2C%200.49993987975951903%2C%200.5037675350701403%2C%200.5075951903807615%2C%200.5114228456913827%2C%200.515250501002004%2C%200.5190781563126252%2C%200.5229058116232465%2C%200.5267334669338677%2C%200.5305611222444889%2C%200.5343887775551103%2C%200.5382164328657314%2C%200.5420440881763527%2C%200.5458717434869739%2C%200.5496993987975952%2C%200.5535270541082163%2C%200.5573547094188377%2C%200.5611823647294588%2C%200.5650100200400802%2C%200.5688376753507014%2C%200.5726653306613226%2C%200.5764929859719439%2C%200.5803206412825651%2C%200.5841482965931863%2C%200.5879759519038076%2C%200.5918036072144288%2C%200.59563126252505%2C%200.5994589178356713%2C%200.6032865731462926%2C%200.6071142284569138%2C%200.6109418837675351%2C%200.6147695390781562%2C%200.6185971943887776%2C%200.6224248496993987%2C%200.62625250501002%2C%200.6300801603206412%2C%200.6339078156312625%2C%200.6377354709418838%2C%200.641563126252505%2C%200.6453907815631262%2C%200.6492184368737475%2C%200.6530460921843687%2C%200.65687374749499%2C%200.6607014028056112%2C%200.6645290581162325%2C%200.6683567134268537%2C%200.672184368737475%2C%200.6760120240480961%2C%200.6798396793587175%2C%200.6836673346693386%2C%200.68749498997996%2C%200.6913226452905811%2C%200.6951503006012024%2C%200.6989779559118237%2C%200.7028056112224449%2C%200.7066332665330661%2C%200.7104609218436874%2C%200.7142885771543086%2C%200.7181162324649298%2C%200.7219438877755511%2C%200.7257715430861723%2C%200.7295991983967935%2C%200.7334268537074149%2C%200.737254509018036%2C%200.7410821643286574%2C%200.7449098196392785%2C%200.7487374749498998%2C%200.752565130260521%2C%200.7563927855711423%2C%200.7602204408817634%2C%200.7640480961923848%2C%200.767875751503006%2C%200.7717034068136273%2C%200.7755310621242485%2C%200.7793587174348697%2C%200.783186372745491%2C%200.7870140280561122%2C%200.7908416833667334%2C%200.7946693386773548%2C%200.7984969939879759%2C%200.8023246492985973%2C%200.8061523046092184%2C%200.8099799599198397%2C%200.8138076152304609%2C%200.8176352705410822%2C%200.8214629258517033%2C%200.8252905811623247%2C%200.8291182364729459%2C%200.8329458917835671%2C%200.8367735470941884%2C%200.8406012024048096%2C%200.8444288577154309%2C%200.8482565130260521%2C%200.8520841683366733%2C%200.8559118236472945%2C%200.8597394789579158%2C%200.8635671342685372%2C%200.8673947895791583%2C%200.8712224448897795%2C%200.8750501002004007%2C%200.878877755511022%2C%200.8827054108216432%2C%200.8865330661322645%2C%200.8903607214428857%2C%200.8941883767535069%2C%200.8980160320641283%2C%200.9018436873747494%2C%200.9056713426853708%2C%200.9094989979959919%2C%200.9133266533066132%2C%200.9171543086172343%2C%200.9209819639278557%2C%200.9248096192384769%2C%200.9286372745490982%2C%200.9324649298597194%2C%200.9362925851703406%2C%200.9401202404809619%2C%200.9439478957915831%2C%200.9477755511022043%2C%200.9516032064128256%2C%200.9554308617234468%2C%200.9592585170340682%2C%200.9630861723446893%2C%200.9669138276553106%2C%200.9707414829659318%2C%200.9745691382765531%2C%200.9783967935871742%2C%200.9822244488977956%2C%200.9860521042084167%2C%200.9898797595190381%2C%200.9937074148296593%2C%200.9975350701402805%2C%201.0013627254509017%2C%201.005190380761523%2C%201.0090180360721441%2C%201.0128456913827655%2C%201.0166733466933868%2C%201.020501002004008%2C%201.0243286573146293%2C%201.0281563126252504%2C%201.0319839679358718%2C%201.035811623246493%2C%201.0396392785571142%2C%201.0434669338677354%2C%201.0472945891783567%2C%201.0511222444889778%2C%201.0549498997995992%2C%201.0587775551102205%2C%201.0626052104208417%2C%201.0664328657314628%2C%201.0702605210420841%2C%201.0740881763527055%2C%201.0779158316633266%2C%201.0817434869739477%2C%201.085571142284569%2C%201.0893987975951904%2C%201.0932264529058116%2C%201.0970541082164327%2C%201.1008817635270542%2C%201.1047094188376754%2C%201.1085370741482965%2C%201.1123647294589176%2C%201.1161923847695392%2C%201.1200200400801603%2C%201.1238476953907814%2C%201.1276753507014028%2C%201.1315030060120241%2C%201.1353306613226453%2C%201.1391583166332664%2C%201.1429859719438877%2C%201.146813627254509%2C%201.1506412825651302%2C%201.1544689378757516%2C%201.1582965931863727%2C%201.162124248496994%2C%201.1659519038076152%2C%201.1697795591182365%2C%201.1736072144288576%2C%201.177434869739479%2C%201.1812625250501%2C%201.1850901803607214%2C%201.1889178356713426%2C%201.192745490981964%2C%201.1965731462925853%2C%201.2004008016032064%2C%201.2042284569138275%2C%201.2080561122244489%2C%201.2118837675350702%2C%201.2157114228456913%2C%201.2195390781563125%2C%201.223366733466934%2C%201.2271943887775552%2C%201.2310220440881763%2C%201.2348496993987974%2C%201.238677354709419%2C%201.24250501002004%2C%201.2463326653306612%2C%201.2501603206412824%2C%201.253987975951904%2C%201.257815631262525%2C%201.2616432865731462%2C%201.2654709418837675%2C%201.2692985971943889%2C%201.27312625250501%2C%201.2769539078156311%2C%201.2807815631262525%2C%201.2846092184368738%2C%201.288436873747495%2C%201.2922645290581163%2C%201.2960921843687374%2C%201.2999198396793585%2C%201.3037474949899799%2C%201.3075751503006012%2C%201.3114028056112224%2C%201.3152304609218435%2C%201.319058116232465%2C%201.3228857715430862%2C%201.3267134268537073%2C%201.3305410821643284%2C%201.33436873747495%2C%201.3381963927855711%2C%201.3420240480961922%2C%201.3458517034068134%2C%201.349679358717435%2C%201.353507014028056%2C%201.3573346693386772%2C%201.3611623246492985%2C%201.3649899799599199%2C%201.368817635270541%2C%201.3726452905811621%2C%201.3764729458917835%2C%201.3803006012024048%2C%201.384128256513026%2C%201.3879559118236473%2C%201.3917835671342684%2C%201.3956112224448898%2C%201.399438877755511%2C%201.4032665330661322%2C%201.4070941883767534%2C%201.4109218436873747%2C%201.414749498997996%2C%201.4185771543086172%2C%201.4224048096192383%2C%201.4262324649298597%2C%201.430060120240481%2C%201.4338877755511021%2C%201.4377154308617233%2C%201.4415430861723446%2C%201.445370741482966%2C%201.449198396793587%2C%201.4530260521042082%2C%201.4568537074148298%2C%201.460681362725451%2C%201.464509018036072%2C%201.4683366733466932%2C%201.4721643286573147%2C%201.4759919839679358%2C%201.479819639278557%2C%201.4836472945891783%2C%201.4874749498997997%2C%201.4913026052104208%2C%201.495130260521042%2C%201.4989579158316633%2C%201.5027855711422846%2C%201.5066132264529057%2C%201.5104408817635269%2C%201.5142685370741482%2C%201.5180961923847696%2C%201.5219238476953907%2C%201.525751503006012%2C%201.5295791583166332%2C%201.5334068136272545%2C%201.5372344689378756%2C%201.541062124248497%2C%201.544889779559118%2C%201.5487174348697395%2C%201.5525450901803608%2C%201.556372745490982%2C%201.560200400801603%2C%201.5640280561122244%2C%201.5678557114228457%2C%201.5716833667334669%2C%201.575511022044088%2C%201.5793386773547096%2C%201.5831663326653307%2C%201.5869939879759518%2C%201.590821643286573%2C%201.5946492985971945%2C%201.5984769539078156%2C%201.6023046092184368%2C%201.6061322645290579%2C%201.6099599198396795%2C%201.6137875751503006%2C%201.6176152304609217%2C%201.621442885771543%2C%201.6252705410821644%2C%201.6290981963927855%2C%201.6329258517034067%2C%201.636753507014028%2C%201.6405811623246493%2C%201.6444088176352705%2C%201.6482364729458918%2C%201.652064128256513%2C%201.6558917835671343%2C%201.6597194388777554%2C%201.6635470941883768%2C%201.6673747494989979%2C%201.6712024048096192%2C%201.6750300601202404%2C%201.6788577154308617%2C%201.6826853707414828%2C%201.6865130260521042%2C%201.6903406813627255%2C%201.6941683366733467%2C%201.6979959919839678%2C%201.701823647294589%2C%201.7056513026052105%2C%201.7094789579158316%2C%201.7133066132264527%2C%201.7171342685370743%2C%201.7209619238476954%2C%201.7247895791583165%2C%201.7286172344689377%2C%201.732444889779559%2C%201.7362725450901804%2C%201.7401002004008015%2C%201.7439278557114228%2C%201.747755511022044%2C%201.7515831663326653%2C%201.7554108216432864%2C%201.7592384769539078%2C%201.763066132264529%2C%201.7668937875751503%2C%201.7707214428857714%2C%201.7745490981963927%2C%201.7783767535070139%2C%201.7822044088176352%2C%201.7860320641282565%2C%201.7898597194388777%2C%201.7936873747494988%2C%201.7975150300601201%2C%201.8013426853707415%2C%201.8051703406813626%2C%201.8089979959919837%2C%201.8128256513026053%2C%201.8166533066132264%2C%201.8204809619238476%2C%201.8243086172344687%2C%201.8281362725450903%2C%201.8319639278557114%2C%201.8357915831663325%2C%201.8396192384769539%2C%201.8434468937875752%2C%201.8472745490981963%2C%201.8511022044088175%2C%201.8549298597194388%2C%201.8587575150300601%2C%201.8625851703406813%2C%201.8664128256513024%2C%201.8702404809619237%2C%201.874068136272545%2C%201.8778957915831662%2C%201.8817234468937876%2C%201.8855511022044087%2C%201.88937875751503%2C%201.8932064128256512%2C%201.8970340681362725%2C%201.9008617234468936%2C%201.904689378757515%2C%201.9085170340681363%2C%201.9123446893787575%2C%201.9161723446893786%2C%201.92%5D%29%0A%20%20%20%20%20%20%20%20%20%20%20%20%20%20.range%28%5B%27%23edf8fbff%27%2C%20%27%23edf8fbff%27%2C%20%27%23edf8fbff%27%2C%20%27%23edf8fbff%27%2C%20%27%23edf8fbff%27%2C%20%27%23edf8fbff%27%2C%20%27%23edf8fbff%27%2C%20%27%23edf8fbff%27%2C%20%27%23edf8fbff%27%2C%20%27%23edf8fbff%27%2C%20%27%23edf8fbff%27%2C%20%27%23edf8fbff%27%2C%20%27%23edf8fbff%27%2C%20%27%23edf8fbff%27%2C%20%27%23edf8fbff%27%2C%20%27%23edf8fbff%27%2C%20%27%23edf8fbff%27%2C%20%27%23edf8fbff%27%2C%20%27%23edf8fbff%27%2C%20%27%23edf8fbff%27%2C%20%27%23edf8fbff%27%2C%20%27%23edf8fbff%27%2C%20%27%23edf8fbff%27%2C%20%27%23edf8fbff%27%2C%20%27%23edf8fbff%27%2C%20%27%23edf8fbff%27%2C%20%27%23edf8fbff%27%2C%20%27%23edf8fbff%27%2C%20%27%23edf8fbff%27%2C%20%27%23edf8fbff%27%2C%20%27%23edf8fbff%27%2C%20%27%23edf8fbff%27%2C%20%27%23edf8fbff%27%2C%20%27%23edf8fbff%27%2C%20%27%23edf8fbff%27%2C%20%27%23edf8fbff%27%2C%20%27%23edf8fbff%27%2C%20%27%23edf8fbff%27%2C%20%27%23edf8fbff%27%2C%20%27%23edf8fbff%27%2C%20%27%23edf8fbff%27%2C%20%27%23edf8fbff%27%2C%20%27%23edf8fbff%27%2C%20%27%23edf8fbff%27%2C%20%27%23edf8fbff%27%2C%20%27%23edf8fbff%27%2C%20%27%23edf8fbff%27%2C%20%27%23edf8fbff%27%2C%20%27%23edf8fbff%27%2C%20%27%23edf8fbff%27%2C%20%27%23edf8fbff%27%2C%20%27%23edf8fbff%27%2C%20%27%23edf8fbff%27%2C%20%27%23edf8fbff%27%2C%20%27%23edf8fbff%27%2C%20%27%23edf8fbff%27%2C%20%27%23edf8fbff%27%2C%20%27%23edf8fbff%27%2C%20%27%23edf8fbff%27%2C%20%27%23edf8fbff%27%2C%20%27%23edf8fbff%27%2C%20%27%23edf8fbff%27%2C%20%27%23edf8fbff%27%2C%20%27%23edf8fbff%27%2C%20%27%23edf8fbff%27%2C%20%27%23edf8fbff%27%2C%20%27%23edf8fbff%27%2C%20%27%23edf8fbff%27%2C%20%27%23edf8fbff%27%2C%20%27%23edf8fbff%27%2C%20%27%23edf8fbff%27%2C%20%27%23edf8fbff%27%2C%20%27%23edf8fbff%27%2C%20%27%23edf8fbff%27%2C%20%27%23edf8fbff%27%2C%20%27%23edf8fbff%27%2C%20%27%23edf8fbff%27%2C%20%27%23edf8fbff%27%2C%20%27%23edf8fbff%27%2C%20%27%23edf8fbff%27%2C%20%27%23edf8fbff%27%2C%20%27%23edf8fbff%27%2C%20%27%23edf8fbff%27%2C%20%27%23edf8fbff%27%2C%20%27%23bfd3e6ff%27%2C%20%27%23bfd3e6ff%27%2C%20%27%23bfd3e6ff%27%2C%20%27%23bfd3e6ff%27%2C%20%27%23bfd3e6ff%27%2C%20%27%23bfd3e6ff%27%2C%20%27%23bfd3e6ff%27%2C%20%27%23bfd3e6ff%27%2C%20%27%23bfd3e6ff%27%2C%20%27%23bfd3e6ff%27%2C%20%27%23bfd3e6ff%27%2C%20%27%23bfd3e6ff%27%2C%20%27%23bfd3e6ff%27%2C%20%27%23bfd3e6ff%27%2C%20%27%23bfd3e6ff%27%2C%20%27%23bfd3e6ff%27%2C%20%27%23bfd3e6ff%27%2C%20%27%23bfd3e6ff%27%2C%20%27%23bfd3e6ff%27%2C%20%27%23bfd3e6ff%27%2C%20%27%23bfd3e6ff%27%2C%20%27%23bfd3e6ff%27%2C%20%27%23bfd3e6ff%27%2C%20%27%23bfd3e6ff%27%2C%20%27%23bfd3e6ff%27%2C%20%27%23bfd3e6ff%27%2C%20%27%23bfd3e6ff%27%2C%20%27%23bfd3e6ff%27%2C%20%27%23bfd3e6ff%27%2C%20%27%23bfd3e6ff%27%2C%20%27%23bfd3e6ff%27%2C%20%27%23bfd3e6ff%27%2C%20%27%23bfd3e6ff%27%2C%20%27%23bfd3e6ff%27%2C%20%27%23bfd3e6ff%27%2C%20%27%23bfd3e6ff%27%2C%20%27%23bfd3e6ff%27%2C%20%27%23bfd3e6ff%27%2C%20%27%23bfd3e6ff%27%2C%20%27%23bfd3e6ff%27%2C%20%27%23bfd3e6ff%27%2C%20%27%23bfd3e6ff%27%2C%20%27%23bfd3e6ff%27%2C%20%27%23bfd3e6ff%27%2C%20%27%23bfd3e6ff%27%2C%20%27%23bfd3e6ff%27%2C%20%27%23bfd3e6ff%27%2C%20%27%23bfd3e6ff%27%2C%20%27%23bfd3e6ff%27%2C%20%27%23bfd3e6ff%27%2C%20%27%23bfd3e6ff%27%2C%20%27%23bfd3e6ff%27%2C%20%27%23bfd3e6ff%27%2C%20%27%23bfd3e6ff%27%2C%20%27%23bfd3e6ff%27%2C%20%27%23bfd3e6ff%27%2C%20%27%23bfd3e6ff%27%2C%20%27%23bfd3e6ff%27%2C%20%27%23bfd3e6ff%27%2C%20%27%23bfd3e6ff%27%2C%20%27%23bfd3e6ff%27%2C%20%27%23bfd3e6ff%27%2C%20%27%23bfd3e6ff%27%2C%20%27%23bfd3e6ff%27%2C%20%27%23bfd3e6ff%27%2C%20%27%23bfd3e6ff%27%2C%20%27%23bfd3e6ff%27%2C%20%27%23bfd3e6ff%27%2C%20%27%23bfd3e6ff%27%2C%20%27%23bfd3e6ff%27%2C%20%27%23bfd3e6ff%27%2C%20%27%23bfd3e6ff%27%2C%20%27%23bfd3e6ff%27%2C%20%27%23bfd3e6ff%27%2C%20%27%23bfd3e6ff%27%2C%20%27%23bfd3e6ff%27%2C%20%27%23bfd3e6ff%27%2C%20%27%23bfd3e6ff%27%2C%20%27%23bfd3e6ff%27%2C%20%27%23bfd3e6ff%27%2C%20%27%23bfd3e6ff%27%2C%20%27%23bfd3e6ff%27%2C%20%27%23bfd3e6ff%27%2C%20%27%239ebcdaff%27%2C%20%27%239ebcdaff%27%2C%20%27%239ebcdaff%27%2C%20%27%239ebcdaff%27%2C%20%27%239ebcdaff%27%2C%20%27%239ebcdaff%27%2C%20%27%239ebcdaff%27%2C%20%27%239ebcdaff%27%2C%20%27%239ebcdaff%27%2C%20%27%239ebcdaff%27%2C%20%27%239ebcdaff%27%2C%20%27%239ebcdaff%27%2C%20%27%239ebcdaff%27%2C%20%27%239ebcdaff%27%2C%20%27%239ebcdaff%27%2C%20%27%239ebcdaff%27%2C%20%27%239ebcdaff%27%2C%20%27%239ebcdaff%27%2C%20%27%239ebcdaff%27%2C%20%27%239ebcdaff%27%2C%20%27%239ebcdaff%27%2C%20%27%239ebcdaff%27%2C%20%27%239ebcdaff%27%2C%20%27%239ebcdaff%27%2C%20%27%239ebcdaff%27%2C%20%27%239ebcdaff%27%2C%20%27%239ebcdaff%27%2C%20%27%239ebcdaff%27%2C%20%27%239ebcdaff%27%2C%20%27%239ebcdaff%27%2C%20%27%239ebcdaff%27%2C%20%27%239ebcdaff%27%2C%20%27%239ebcdaff%27%2C%20%27%239ebcdaff%27%2C%20%27%239ebcdaff%27%2C%20%27%239ebcdaff%27%2C%20%27%239ebcdaff%27%2C%20%27%239ebcdaff%27%2C%20%27%239ebcdaff%27%2C%20%27%239ebcdaff%27%2C%20%27%239ebcdaff%27%2C%20%27%239ebcdaff%27%2C%20%27%239ebcdaff%27%2C%20%27%239ebcdaff%27%2C%20%27%239ebcdaff%27%2C%20%27%239ebcdaff%27%2C%20%27%239ebcdaff%27%2C%20%27%239ebcdaff%27%2C%20%27%239ebcdaff%27%2C%20%27%239ebcdaff%27%2C%20%27%239ebcdaff%27%2C%20%27%239ebcdaff%27%2C%20%27%239ebcdaff%27%2C%20%27%239ebcdaff%27%2C%20%27%239ebcdaff%27%2C%20%27%239ebcdaff%27%2C%20%27%239ebcdaff%27%2C%20%27%239ebcdaff%27%2C%20%27%239ebcdaff%27%2C%20%27%239ebcdaff%27%2C%20%27%239ebcdaff%27%2C%20%27%239ebcdaff%27%2C%20%27%239ebcdaff%27%2C%20%27%239ebcdaff%27%2C%20%27%239ebcdaff%27%2C%20%27%239ebcdaff%27%2C%20%27%239ebcdaff%27%2C%20%27%239ebcdaff%27%2C%20%27%239ebcdaff%27%2C%20%27%239ebcdaff%27%2C%20%27%239ebcdaff%27%2C%20%27%239ebcdaff%27%2C%20%27%239ebcdaff%27%2C%20%27%239ebcdaff%27%2C%20%27%239ebcdaff%27%2C%20%27%239ebcdaff%27%2C%20%27%239ebcdaff%27%2C%20%27%239ebcdaff%27%2C%20%27%239ebcdaff%27%2C%20%27%239ebcdaff%27%2C%20%27%239ebcdaff%27%2C%20%27%239ebcdaff%27%2C%20%27%239ebcdaff%27%2C%20%27%238c96c6ff%27%2C%20%27%238c96c6ff%27%2C%20%27%238c96c6ff%27%2C%20%27%238c96c6ff%27%2C%20%27%238c96c6ff%27%2C%20%27%238c96c6ff%27%2C%20%27%238c96c6ff%27%2C%20%27%238c96c6ff%27%2C%20%27%238c96c6ff%27%2C%20%27%238c96c6ff%27%2C%20%27%238c96c6ff%27%2C%20%27%238c96c6ff%27%2C%20%27%238c96c6ff%27%2C%20%27%238c96c6ff%27%2C%20%27%238c96c6ff%27%2C%20%27%238c96c6ff%27%2C%20%27%238c96c6ff%27%2C%20%27%238c96c6ff%27%2C%20%27%238c96c6ff%27%2C%20%27%238c96c6ff%27%2C%20%27%238c96c6ff%27%2C%20%27%238c96c6ff%27%2C%20%27%238c96c6ff%27%2C%20%27%238c96c6ff%27%2C%20%27%238c96c6ff%27%2C%20%27%238c96c6ff%27%2C%20%27%238c96c6ff%27%2C%20%27%238c96c6ff%27%2C%20%27%238c96c6ff%27%2C%20%27%238c96c6ff%27%2C%20%27%238c96c6ff%27%2C%20%27%238c96c6ff%27%2C%20%27%238c96c6ff%27%2C%20%27%238c96c6ff%27%2C%20%27%238c96c6ff%27%2C%20%27%238c96c6ff%27%2C%20%27%238c96c6ff%27%2C%20%27%238c96c6ff%27%2C%20%27%238c96c6ff%27%2C%20%27%238c96c6ff%27%2C%20%27%238c96c6ff%27%2C%20%27%238c96c6ff%27%2C%20%27%238c96c6ff%27%2C%20%27%238c96c6ff%27%2C%20%27%238c96c6ff%27%2C%20%27%238c96c6ff%27%2C%20%27%238c96c6ff%27%2C%20%27%238c96c6ff%27%2C%20%27%238c96c6ff%27%2C%20%27%238c96c6ff%27%2C%20%27%238c96c6ff%27%2C%20%27%238c96c6ff%27%2C%20%27%238c96c6ff%27%2C%20%27%238c96c6ff%27%2C%20%27%238c96c6ff%27%2C%20%27%238c96c6ff%27%2C%20%27%238c96c6ff%27%2C%20%27%238c96c6ff%27%2C%20%27%238c96c6ff%27%2C%20%27%238c96c6ff%27%2C%20%27%238c96c6ff%27%2C%20%27%238c96c6ff%27%2C%20%27%238c96c6ff%27%2C%20%27%238c96c6ff%27%2C%20%27%238c96c6ff%27%2C%20%27%238c96c6ff%27%2C%20%27%238c96c6ff%27%2C%20%27%238c96c6ff%27%2C%20%27%238c96c6ff%27%2C%20%27%238c96c6ff%27%2C%20%27%238c96c6ff%27%2C%20%27%238c96c6ff%27%2C%20%27%238c96c6ff%27%2C%20%27%238c96c6ff%27%2C%20%27%238c96c6ff%27%2C%20%27%238c96c6ff%27%2C%20%27%238c96c6ff%27%2C%20%27%238c96c6ff%27%2C%20%27%238c96c6ff%27%2C%20%27%238c96c6ff%27%2C%20%27%238c96c6ff%27%2C%20%27%238c96c6ff%27%2C%20%27%238c96c6ff%27%2C%20%27%238856a7ff%27%2C%20%27%238856a7ff%27%2C%20%27%238856a7ff%27%2C%20%27%238856a7ff%27%2C%20%27%238856a7ff%27%2C%20%27%238856a7ff%27%2C%20%27%238856a7ff%27%2C%20%27%238856a7ff%27%2C%20%27%238856a7ff%27%2C%20%27%238856a7ff%27%2C%20%27%238856a7ff%27%2C%20%27%238856a7ff%27%2C%20%27%238856a7ff%27%2C%20%27%238856a7ff%27%2C%20%27%238856a7ff%27%2C%20%27%238856a7ff%27%2C%20%27%238856a7ff%27%2C%20%27%238856a7ff%27%2C%20%27%238856a7ff%27%2C%20%27%238856a7ff%27%2C%20%27%238856a7ff%27%2C%20%27%238856a7ff%27%2C%20%27%238856a7ff%27%2C%20%27%238856a7ff%27%2C%20%27%238856a7ff%27%2C%20%27%238856a7ff%27%2C%20%27%238856a7ff%27%2C%20%27%238856a7ff%27%2C%20%27%238856a7ff%27%2C%20%27%238856a7ff%27%2C%20%27%238856a7ff%27%2C%20%27%238856a7ff%27%2C%20%27%238856a7ff%27%2C%20%27%238856a7ff%27%2C%20%27%238856a7ff%27%2C%20%27%238856a7ff%27%2C%20%27%238856a7ff%27%2C%20%27%238856a7ff%27%2C%20%27%238856a7ff%27%2C%20%27%238856a7ff%27%2C%20%27%238856a7ff%27%2C%20%27%238856a7ff%27%2C%20%27%238856a7ff%27%2C%20%27%238856a7ff%27%2C%20%27%238856a7ff%27%2C%20%27%238856a7ff%27%2C%20%27%238856a7ff%27%2C%20%27%238856a7ff%27%2C%20%27%238856a7ff%27%2C%20%27%238856a7ff%27%2C%20%27%238856a7ff%27%2C%20%27%238856a7ff%27%2C%20%27%238856a7ff%27%2C%20%27%238856a7ff%27%2C%20%27%238856a7ff%27%2C%20%27%238856a7ff%27%2C%20%27%238856a7ff%27%2C%20%27%238856a7ff%27%2C%20%27%238856a7ff%27%2C%20%27%238856a7ff%27%2C%20%27%238856a7ff%27%2C%20%27%238856a7ff%27%2C%20%27%238856a7ff%27%2C%20%27%238856a7ff%27%2C%20%27%238856a7ff%27%2C%20%27%238856a7ff%27%2C%20%27%238856a7ff%27%2C%20%27%238856a7ff%27%2C%20%27%238856a7ff%27%2C%20%27%238856a7ff%27%2C%20%27%238856a7ff%27%2C%20%27%238856a7ff%27%2C%20%27%238856a7ff%27%2C%20%27%238856a7ff%27%2C%20%27%238856a7ff%27%2C%20%27%238856a7ff%27%2C%20%27%238856a7ff%27%2C%20%27%238856a7ff%27%2C%20%27%238856a7ff%27%2C%20%27%238856a7ff%27%2C%20%27%238856a7ff%27%2C%20%27%238856a7ff%27%2C%20%27%238856a7ff%27%2C%20%27%23810f7cff%27%2C%20%27%23810f7cff%27%2C%20%27%23810f7cff%27%2C%20%27%23810f7cff%27%2C%20%27%23810f7cff%27%2C%20%27%23810f7cff%27%2C%20%27%23810f7cff%27%2C%20%27%23810f7cff%27%2C%20%27%23810f7cff%27%2C%20%27%23810f7cff%27%2C%20%27%23810f7cff%27%2C%20%27%23810f7cff%27%2C%20%27%23810f7cff%27%2C%20%27%23810f7cff%27%2C%20%27%23810f7cff%27%2C%20%27%23810f7cff%27%2C%20%27%23810f7cff%27%2C%20%27%23810f7cff%27%2C%20%27%23810f7cff%27%2C%20%27%23810f7cff%27%2C%20%27%23810f7cff%27%2C%20%27%23810f7cff%27%2C%20%27%23810f7cff%27%2C%20%27%23810f7cff%27%2C%20%27%23810f7cff%27%2C%20%27%23810f7cff%27%2C%20%27%23810f7cff%27%2C%20%27%23810f7cff%27%2C%20%27%23810f7cff%27%2C%20%27%23810f7cff%27%2C%20%27%23810f7cff%27%2C%20%27%23810f7cff%27%2C%20%27%23810f7cff%27%2C%20%27%23810f7cff%27%2C%20%27%23810f7cff%27%2C%20%27%23810f7cff%27%2C%20%27%23810f7cff%27%2C%20%27%23810f7cff%27%2C%20%27%23810f7cff%27%2C%20%27%23810f7cff%27%2C%20%27%23810f7cff%27%2C%20%27%23810f7cff%27%2C%20%27%23810f7cff%27%2C%20%27%23810f7cff%27%2C%20%27%23810f7cff%27%2C%20%27%23810f7cff%27%2C%20%27%23810f7cff%27%2C%20%27%23810f7cff%27%2C%20%27%23810f7cff%27%2C%20%27%23810f7cff%27%2C%20%27%23810f7cff%27%2C%20%27%23810f7cff%27%2C%20%27%23810f7cff%27%2C%20%27%23810f7cff%27%2C%20%27%23810f7cff%27%2C%20%27%23810f7cff%27%2C%20%27%23810f7cff%27%2C%20%27%23810f7cff%27%2C%20%27%23810f7cff%27%2C%20%27%23810f7cff%27%2C%20%27%23810f7cff%27%2C%20%27%23810f7cff%27%2C%20%27%23810f7cff%27%2C%20%27%23810f7cff%27%2C%20%27%23810f7cff%27%2C%20%27%23810f7cff%27%2C%20%27%23810f7cff%27%2C%20%27%23810f7cff%27%2C%20%27%23810f7cff%27%2C%20%27%23810f7cff%27%2C%20%27%23810f7cff%27%2C%20%27%23810f7cff%27%2C%20%27%23810f7cff%27%2C%20%27%23810f7cff%27%2C%20%27%23810f7cff%27%2C%20%27%23810f7cff%27%2C%20%27%23810f7cff%27%2C%20%27%23810f7cff%27%2C%20%27%23810f7cff%27%2C%20%27%23810f7cff%27%2C%20%27%23810f7cff%27%2C%20%27%23810f7cff%27%2C%20%27%23810f7cff%27%2C%20%27%23810f7cff%27%5D%29%3B%0A%20%20%20%20%0A%0A%20%20%20%20color_map_b304c63a1c034894b7caa03f7f056961.x%20%3D%20d3.scale.linear%28%29%0A%20%20%20%20%20%20%20%20%20%20%20%20%20%20.domain%28%5B0.01%2C%201.92%5D%29%0A%20%20%20%20%20%20%20%20%20%20%20%20%20%20.range%28%5B0%2C%20400%5D%29%3B%0A%0A%20%20%20%20color_map_b304c63a1c034894b7caa03f7f056961.legend%20%3D%20L.control%28%7Bposition%3A%20%27topright%27%7D%29%3B%0A%20%20%20%20color_map_b304c63a1c034894b7caa03f7f056961.legend.onAdd%20%3D%20function%20%28map%29%20%7Bvar%20div%20%3D%20L.DomUtil.create%28%27div%27%2C%20%27legend%27%29%3B%20return%20div%7D%3B%0A%20%20%20%20color_map_b304c63a1c034894b7caa03f7f056961.legend.addTo%28map_24f29fa6e634485e9573f2d658f4d381%29%3B%0A%0A%20%20%20%20color_map_b304c63a1c034894b7caa03f7f056961.xAxis%20%3D%20d3.svg.axis%28%29%0A%20%20%20%20%20%20%20%20.scale%28color_map_b304c63a1c034894b7caa03f7f056961.x%29%0A%20%20%20%20%20%20%20%20.orient%28%22top%22%29%0A%20%20%20%20%20%20%20%20.tickSize%281%29%0A%20%20%20%20%20%20%20%20.tickValues%28%5B0.01%2C%200.3283333333333333%2C%200.6466666666666666%2C%200.9649999999999999%2C%201.2833333333333332%2C%201.6016666666666666%2C%201.92%5D%29%3B%0A%0A%20%20%20%20color_map_b304c63a1c034894b7caa03f7f056961.svg%20%3D%20d3.select%28%22.legend.leaflet-control%22%29.append%28%22svg%22%29%0A%20%20%20%20%20%20%20%20.attr%28%22id%22%2C%20%27legend%27%29%0A%20%20%20%20%20%20%20%20.attr%28%22width%22%2C%20450%29%0A%20%20%20%20%20%20%20%20.attr%28%22height%22%2C%2040%29%3B%0A%0A%20%20%20%20color_map_b304c63a1c034894b7caa03f7f056961.g%20%3D%20color_map_b304c63a1c034894b7caa03f7f056961.svg.append%28%22g%22%29%0A%20%20%20%20%20%20%20%20.attr%28%22class%22%2C%20%22key%22%29%0A%20%20%20%20%20%20%20%20.attr%28%22transform%22%2C%20%22translate%2825%2C16%29%22%29%3B%0A%0A%20%20%20%20color_map_b304c63a1c034894b7caa03f7f056961.g.selectAll%28%22rect%22%29%0A%20%20%20%20%20%20%20%20.data%28color_map_b304c63a1c034894b7caa03f7f056961.color.range%28%29.map%28function%28d%2C%20i%29%20%7B%0A%20%20%20%20%20%20%20%20%20%20return%20%7B%0A%20%20%20%20%20%20%20%20%20%20%20%20x0%3A%20i%20%3F%20color_map_b304c63a1c034894b7caa03f7f056961.x%28color_map_b304c63a1c034894b7caa03f7f056961.color.domain%28%29%5Bi%20-%201%5D%29%20%3A%20color_map_b304c63a1c034894b7caa03f7f056961.x.range%28%29%5B0%5D%2C%0A%20%20%20%20%20%20%20%20%20%20%20%20x1%3A%20i%20%3C%20color_map_b304c63a1c034894b7caa03f7f056961.color.domain%28%29.length%20%3F%20color_map_b304c63a1c034894b7caa03f7f056961.x%28color_map_b304c63a1c034894b7caa03f7f056961.color.domain%28%29%5Bi%5D%29%20%3A%20color_map_b304c63a1c034894b7caa03f7f056961.x.range%28%29%5B1%5D%2C%0A%20%20%20%20%20%20%20%20%20%20%20%20z%3A%20d%0A%20%20%20%20%20%20%20%20%20%20%7D%3B%0A%20%20%20%20%20%20%20%20%7D%29%29%0A%20%20%20%20%20%20.enter%28%29.append%28%22rect%22%29%0A%20%20%20%20%20%20%20%20.attr%28%22height%22%2C%2010%29%0A%20%20%20%20%20%20%20%20.attr%28%22x%22%2C%20function%28d%29%20%7B%20return%20d.x0%3B%20%7D%29%0A%20%20%20%20%20%20%20%20.attr%28%22width%22%2C%20function%28d%29%20%7B%20return%20d.x1%20-%20d.x0%3B%20%7D%29%0A%20%20%20%20%20%20%20%20.style%28%22fill%22%2C%20function%28d%29%20%7B%20return%20d.z%3B%20%7D%29%3B%0A%0A%20%20%20%20color_map_b304c63a1c034894b7caa03f7f056961.g.call%28color_map_b304c63a1c034894b7caa03f7f056961.xAxis%29.append%28%22text%22%29%0A%20%20%20%20%20%20%20%20.attr%28%22class%22%2C%20%22caption%22%29%0A%20%20%20%20%20%20%20%20.attr%28%22y%22%2C%2021%29%0A%20%20%20%20%20%20%20%20.text%28%2717%EB%85%84%EA%B3%A0%EB%A0%B9%EC%9D%B8%EA%B5%ACcctv%EC%84%A4%EC%B9%98%EC%9C%A8%27%29%3B%0A%3C/script%3E onload=\"this.contentDocument.open();this.contentDocument.write(    decodeURIComponent(this.getAttribute('data-html')));this.contentDocument.close();\" allowfullscreen webkitallowfullscreen mozallowfullscreen></iframe></div></div>"
            ],
            "text/plain": [
              "<folium.folium.Map at 0x7f13976ce110>"
            ]
          },
          "metadata": {},
          "execution_count": 67
        }
      ]
    },
    {
      "cell_type": "code",
      "metadata": {
        "colab": {
          "base_uri": "https://localhost:8080/",
          "height": 711
        },
        "id": "OVgJlpxoMNSV",
        "outputId": "f3707ab2-6f09-4983-c616-77d8c6d570a3"
      },
      "source": [
        "center = [37.581, 126.986]    # 서울 중심부 위도, 경도\n",
        "map = folium.Map(location=center, zoom_start=11, tiles='Stamen Toner')\n",
        "\n",
        "folium.TileLayer('cartodbpositron').add_to(map)\n",
        "folium.Choropleth(\n",
        "    geo_data=geo_data,\n",
        "    data = spsc,\n",
        "    columns = ('자치구','20년고령인구cctv설치율'),\n",
        "    key_on = 'feature.id',    # geo_data 의 지역명\n",
        "    fill_color = 'BuPu',\n",
        "    legend_name = '20년고령인구cctv설치율'\n",
        ").add_to(map)\n",
        "title = '<h3 align=\"center\" style=\"font-size:20px\">서울시 20년 구별 65세이상고령인구대비 cctv설치율</h3>'\n",
        "map.get_root().html.add_child(folium.Element(title))\n",
        "map"
      ],
      "execution_count": 66,
      "outputs": [
        {
          "output_type": "execute_result",
          "data": {
            "text/html": [
              "<div style=\"width:100%;\"><div style=\"position:relative;width:100%;height:0;padding-bottom:60%;\"><span style=\"color:#565656\">Make this Notebook Trusted to load map: File -> Trust Notebook</span><iframe src=\"about:blank\" style=\"position:absolute;width:100%;height:100%;left:0;top:0;border:none !important;\" data-html=%3C%21DOCTYPE%20html%3E%0A%3Chead%3E%20%20%20%20%0A%20%20%20%20%3Cmeta%20http-equiv%3D%22content-type%22%20content%3D%22text/html%3B%20charset%3DUTF-8%22%20/%3E%0A%20%20%20%20%3Cscript%3EL_PREFER_CANVAS%3Dfalse%3B%20L_NO_TOUCH%3Dfalse%3B%20L_DISABLE_3D%3Dfalse%3B%3C/script%3E%0A%20%20%20%20%3Cscript%20src%3D%22https%3A//cdn.jsdelivr.net/npm/leaflet%401.4.0/dist/leaflet.js%22%3E%3C/script%3E%0A%20%20%20%20%3Cscript%20src%3D%22https%3A//code.jquery.com/jquery-1.12.4.min.js%22%3E%3C/script%3E%0A%20%20%20%20%3Cscript%20src%3D%22https%3A//maxcdn.bootstrapcdn.com/bootstrap/3.2.0/js/bootstrap.min.js%22%3E%3C/script%3E%0A%20%20%20%20%3Cscript%20src%3D%22https%3A//cdnjs.cloudflare.com/ajax/libs/Leaflet.awesome-markers/2.0.2/leaflet.awesome-markers.js%22%3E%3C/script%3E%0A%20%20%20%20%3Clink%20rel%3D%22stylesheet%22%20href%3D%22https%3A//cdn.jsdelivr.net/npm/leaflet%401.4.0/dist/leaflet.css%22/%3E%0A%20%20%20%20%3Clink%20rel%3D%22stylesheet%22%20href%3D%22https%3A//maxcdn.bootstrapcdn.com/bootstrap/3.2.0/css/bootstrap.min.css%22/%3E%0A%20%20%20%20%3Clink%20rel%3D%22stylesheet%22%20href%3D%22https%3A//maxcdn.bootstrapcdn.com/bootstrap/3.2.0/css/bootstrap-theme.min.css%22/%3E%0A%20%20%20%20%3Clink%20rel%3D%22stylesheet%22%20href%3D%22https%3A//maxcdn.bootstrapcdn.com/font-awesome/4.6.3/css/font-awesome.min.css%22/%3E%0A%20%20%20%20%3Clink%20rel%3D%22stylesheet%22%20href%3D%22https%3A//cdnjs.cloudflare.com/ajax/libs/Leaflet.awesome-markers/2.0.2/leaflet.awesome-markers.css%22/%3E%0A%20%20%20%20%3Clink%20rel%3D%22stylesheet%22%20href%3D%22https%3A//rawcdn.githack.com/python-visualization/folium/master/folium/templates/leaflet.awesome.rotate.css%22/%3E%0A%20%20%20%20%3Cstyle%3Ehtml%2C%20body%20%7Bwidth%3A%20100%25%3Bheight%3A%20100%25%3Bmargin%3A%200%3Bpadding%3A%200%3B%7D%3C/style%3E%0A%20%20%20%20%3Cstyle%3E%23map%20%7Bposition%3Aabsolute%3Btop%3A0%3Bbottom%3A0%3Bright%3A0%3Bleft%3A0%3B%7D%3C/style%3E%0A%20%20%20%20%0A%20%20%20%20%3Cmeta%20name%3D%22viewport%22%20content%3D%22width%3Ddevice-width%2C%0A%20%20%20%20%20%20%20%20initial-scale%3D1.0%2C%20maximum-scale%3D1.0%2C%20user-scalable%3Dno%22%20/%3E%0A%20%20%20%20%3Cstyle%3E%23map_ed04bd459fb3465b8c3ac6e3c65a2478%20%7B%0A%20%20%20%20%20%20%20%20position%3A%20relative%3B%0A%20%20%20%20%20%20%20%20width%3A%20100.0%25%3B%0A%20%20%20%20%20%20%20%20height%3A%20100.0%25%3B%0A%20%20%20%20%20%20%20%20left%3A%200.0%25%3B%0A%20%20%20%20%20%20%20%20top%3A%200.0%25%3B%0A%20%20%20%20%20%20%20%20%7D%0A%20%20%20%20%3C/style%3E%0A%20%20%20%20%3Cscript%20src%3D%22https%3A//cdnjs.cloudflare.com/ajax/libs/d3/3.5.5/d3.min.js%22%3E%3C/script%3E%0A%3C/head%3E%0A%3Cbody%3E%20%20%20%20%0A%20%20%20%20%3Ch3%20align%3D%22center%22%20style%3D%22font-size%3A20px%22%3E%EC%84%9C%EC%9A%B8%EC%8B%9C%2020%EB%85%84%20%EA%B5%AC%EB%B3%84%2065%EC%84%B8%EC%9D%B4%EC%83%81%EA%B3%A0%EB%A0%B9%EC%9D%B8%EA%B5%AC%EB%8C%80%EB%B9%84%20cctv%EC%84%A4%EC%B9%98%EC%9C%A8%3C/h3%3E%0A%20%20%20%20%0A%20%20%20%20%3Cdiv%20class%3D%22folium-map%22%20id%3D%22map_ed04bd459fb3465b8c3ac6e3c65a2478%22%20%3E%3C/div%3E%0A%3C/body%3E%0A%3Cscript%3E%20%20%20%20%0A%20%20%20%20%0A%20%20%20%20%0A%20%20%20%20%20%20%20%20var%20bounds%20%3D%20null%3B%0A%20%20%20%20%0A%0A%20%20%20%20var%20map_ed04bd459fb3465b8c3ac6e3c65a2478%20%3D%20L.map%28%0A%20%20%20%20%20%20%20%20%27map_ed04bd459fb3465b8c3ac6e3c65a2478%27%2C%20%7B%0A%20%20%20%20%20%20%20%20center%3A%20%5B37.581%2C%20126.986%5D%2C%0A%20%20%20%20%20%20%20%20zoom%3A%2011%2C%0A%20%20%20%20%20%20%20%20maxBounds%3A%20bounds%2C%0A%20%20%20%20%20%20%20%20layers%3A%20%5B%5D%2C%0A%20%20%20%20%20%20%20%20worldCopyJump%3A%20false%2C%0A%20%20%20%20%20%20%20%20crs%3A%20L.CRS.EPSG3857%2C%0A%20%20%20%20%20%20%20%20zoomControl%3A%20true%2C%0A%20%20%20%20%20%20%20%20%7D%29%3B%0A%0A%0A%20%20%20%20%0A%20%20%20%20var%20tile_layer_7ff9a2b8c2414b7ebf842db35cb3c984%20%3D%20L.tileLayer%28%0A%20%20%20%20%20%20%20%20%27https%3A//stamen-tiles-%7Bs%7D.a.ssl.fastly.net/toner/%7Bz%7D/%7Bx%7D/%7By%7D.png%27%2C%0A%20%20%20%20%20%20%20%20%7B%0A%20%20%20%20%20%20%20%20%22attribution%22%3A%20null%2C%0A%20%20%20%20%20%20%20%20%22detectRetina%22%3A%20false%2C%0A%20%20%20%20%20%20%20%20%22maxNativeZoom%22%3A%2018%2C%0A%20%20%20%20%20%20%20%20%22maxZoom%22%3A%2018%2C%0A%20%20%20%20%20%20%20%20%22minZoom%22%3A%200%2C%0A%20%20%20%20%20%20%20%20%22noWrap%22%3A%20false%2C%0A%20%20%20%20%20%20%20%20%22opacity%22%3A%201%2C%0A%20%20%20%20%20%20%20%20%22subdomains%22%3A%20%22abc%22%2C%0A%20%20%20%20%20%20%20%20%22tms%22%3A%20false%0A%7D%29.addTo%28map_ed04bd459fb3465b8c3ac6e3c65a2478%29%3B%0A%20%20%20%20var%20tile_layer_15696dfcde754766a55d3a4604ef328c%20%3D%20L.tileLayer%28%0A%20%20%20%20%20%20%20%20%27https%3A//cartodb-basemaps-%7Bs%7D.global.ssl.fastly.net/light_all/%7Bz%7D/%7Bx%7D/%7By%7D.png%27%2C%0A%20%20%20%20%20%20%20%20%7B%0A%20%20%20%20%20%20%20%20%22attribution%22%3A%20null%2C%0A%20%20%20%20%20%20%20%20%22detectRetina%22%3A%20false%2C%0A%20%20%20%20%20%20%20%20%22maxNativeZoom%22%3A%2018%2C%0A%20%20%20%20%20%20%20%20%22maxZoom%22%3A%2018%2C%0A%20%20%20%20%20%20%20%20%22minZoom%22%3A%200%2C%0A%20%20%20%20%20%20%20%20%22noWrap%22%3A%20false%2C%0A%20%20%20%20%20%20%20%20%22opacity%22%3A%201%2C%0A%20%20%20%20%20%20%20%20%22subdomains%22%3A%20%22abc%22%2C%0A%20%20%20%20%20%20%20%20%22tms%22%3A%20false%0A%7D%29.addTo%28map_ed04bd459fb3465b8c3ac6e3c65a2478%29%3B%0A%20%20%20%20%0A%20%20%20%20%20%20%20%20%20%20%20%20var%20choropleth_bd28e288d47748849ae6a7fb42aca7c2%20%3D%20L.featureGroup%28%0A%20%20%20%20%20%20%20%20%20%20%20%20%20%20%20%20%29.addTo%28map_ed04bd459fb3465b8c3ac6e3c65a2478%29%3B%0A%20%20%20%20%20%20%20%20%0A%20%20%20%20%0A%20%20%20%20%20%20%20%20var%20geo_json_8acf279ae03a42fd92ebc4dffc913afb%20%3D%20L.geoJson%28%0A%20%20%20%20%20%20%20%20%20%20%20%20%7B%22features%22%3A%20%5B%7B%22geometry%22%3A%20%7B%22coordinates%22%3A%20%5B%5B%5B127.11519584981606%2C%2037.557533180704915%5D%2C%20%5B127.16683184366129%2C%2037.57672487388627%5D%2C%20%5B127.18408792330152%2C%2037.55814280369575%5D%2C%20%5B127.16530984307447%2C%2037.54221851258693%5D%2C%20%5B127.14672806823502%2C%2037.51415680680291%5D%2C%20%5B127.12123165719615%2C%2037.52528270089%5D%2C%20%5B127.1116764203608%2C%2037.540669955324965%5D%2C%20%5B127.11519584981606%2C%2037.557533180704915%5D%5D%5D%2C%20%22type%22%3A%20%22Polygon%22%7D%2C%20%22id%22%3A%20%22%5Cuac15%5Cub3d9%5Cuad6c%22%2C%20%22properties%22%3A%20%7B%22base_year%22%3A%20%222013%22%2C%20%22code%22%3A%20%2211250%22%2C%20%22highlight%22%3A%20%7B%7D%2C%20%22name%22%3A%20%22%5Cuac15%5Cub3d9%5Cuad6c%22%2C%20%22name_eng%22%3A%20%22Gangdong-gu%22%2C%20%22style%22%3A%20%7B%22color%22%3A%20%22black%22%2C%20%22fillColor%22%3A%20%22%239ebcda%22%2C%20%22fillOpacity%22%3A%200.6%2C%20%22opacity%22%3A%201%2C%20%22weight%22%3A%201%7D%7D%2C%20%22type%22%3A%20%22Feature%22%7D%2C%20%7B%22geometry%22%3A%20%7B%22coordinates%22%3A%20%5B%5B%5B127.0690698130372%2C%2037.522279423505026%5D%2C%20%5B127.10087519791962%2C%2037.524841220167055%5D%2C%20%5B127.1116764203608%2C%2037.540669955324965%5D%2C%20%5B127.12123165719615%2C%2037.52528270089%5D%2C%20%5B127.14672806823502%2C%2037.51415680680291%5D%2C%20%5B127.1634944215765%2C%2037.497445406097484%5D%2C%20%5B127.14206058413274%2C%2037.47089819098501%5D%2C%20%5B127.12440571080893%2C%2037.46240445587048%5D%2C%20%5B127.11117085201238%2C%2037.485708381512445%5D%2C%20%5B127.0719146000724%2C%2037.50224013587669%5D%2C%20%5B127.0690698130372%2C%2037.522279423505026%5D%5D%5D%2C%20%22type%22%3A%20%22Polygon%22%7D%2C%20%22id%22%3A%20%22%5Cuc1a1%5Cud30c%5Cuad6c%22%2C%20%22properties%22%3A%20%7B%22base_year%22%3A%20%222013%22%2C%20%22code%22%3A%20%2211240%22%2C%20%22highlight%22%3A%20%7B%7D%2C%20%22name%22%3A%20%22%5Cuc1a1%5Cud30c%5Cuad6c%22%2C%20%22name_eng%22%3A%20%22Songpa-gu%22%2C%20%22style%22%3A%20%7B%22color%22%3A%20%22black%22%2C%20%22fillColor%22%3A%20%22%23edf8fb%22%2C%20%22fillOpacity%22%3A%200.6%2C%20%22opacity%22%3A%201%2C%20%22weight%22%3A%201%7D%7D%2C%20%22type%22%3A%20%22Feature%22%7D%2C%20%7B%22geometry%22%3A%20%7B%22coordinates%22%3A%20%5B%5B%5B127.05867359288398%2C%2037.52629974922568%5D%2C%20%5B127.0690698130372%2C%2037.522279423505026%5D%2C%20%5B127.0719146000724%2C%2037.50224013587669%5D%2C%20%5B127.11117085201238%2C%2037.485708381512445%5D%2C%20%5B127.12440571080893%2C%2037.46240445587048%5D%2C%20%5B127.09842759318751%2C%2037.45862253857461%5D%2C%20%5B127.08640440578156%2C%2037.472697935184655%5D%2C%20%5B127.0559170481904%2C%2037.4659228914077%5D%2C%20%5B127.03621915098798%2C%2037.48175802427603%5D%2C%20%5B127.01397119667513%2C%2037.52503988289669%5D%2C%20%5B127.02302831890559%2C%2037.53231899582663%5D%2C%20%5B127.05867359288398%2C%2037.52629974922568%5D%5D%5D%2C%20%22type%22%3A%20%22Polygon%22%7D%2C%20%22id%22%3A%20%22%5Cuac15%5Cub0a8%5Cuad6c%22%2C%20%22properties%22%3A%20%7B%22base_year%22%3A%20%222013%22%2C%20%22code%22%3A%20%2211230%22%2C%20%22highlight%22%3A%20%7B%7D%2C%20%22name%22%3A%20%22%5Cuac15%5Cub0a8%5Cuad6c%22%2C%20%22name_eng%22%3A%20%22Gangnam-gu%22%2C%20%22style%22%3A%20%7B%22color%22%3A%20%22black%22%2C%20%22fillColor%22%3A%20%22%238c96c6%22%2C%20%22fillOpacity%22%3A%200.6%2C%20%22opacity%22%3A%201%2C%20%22weight%22%3A%201%7D%7D%2C%20%22type%22%3A%20%22Feature%22%7D%2C%20%7B%22geometry%22%3A%20%7B%22coordinates%22%3A%20%5B%5B%5B127.01397119667513%2C%2037.52503988289669%5D%2C%20%5B127.03621915098798%2C%2037.48175802427603%5D%2C%20%5B127.0559170481904%2C%2037.4659228914077%5D%2C%20%5B127.08640440578156%2C%2037.472697935184655%5D%2C%20%5B127.09842759318751%2C%2037.45862253857461%5D%2C%20%5B127.09046928565951%2C%2037.44296826114185%5D%2C%20%5B127.06778107605433%2C%2037.426197424057314%5D%2C%20%5B127.04957232987142%2C%2037.42805836845694%5D%2C%20%5B127.03881782597922%2C%2037.45382039851715%5D%2C%20%5B126.99072073195462%2C%2037.455326143310025%5D%2C%20%5B126.98367668291802%2C%2037.473856492692086%5D%2C%20%5B126.98223807916081%2C%2037.509314966770326%5D%2C%20%5B127.01397119667513%2C%2037.52503988289669%5D%5D%5D%2C%20%22type%22%3A%20%22Polygon%22%7D%2C%20%22id%22%3A%20%22%5Cuc11c%5Cucd08%5Cuad6c%22%2C%20%22properties%22%3A%20%7B%22base_year%22%3A%20%222013%22%2C%20%22code%22%3A%20%2211220%22%2C%20%22highlight%22%3A%20%7B%7D%2C%20%22name%22%3A%20%22%5Cuc11c%5Cucd08%5Cuad6c%22%2C%20%22name_eng%22%3A%20%22Seocho-gu%22%2C%20%22style%22%3A%20%7B%22color%22%3A%20%22black%22%2C%20%22fillColor%22%3A%20%22%23bfd3e6%22%2C%20%22fillOpacity%22%3A%200.6%2C%20%22opacity%22%3A%201%2C%20%22weight%22%3A%201%7D%7D%2C%20%22type%22%3A%20%22Feature%22%7D%2C%20%7B%22geometry%22%3A%20%7B%22coordinates%22%3A%20%5B%5B%5B126.98367668291802%2C%2037.473856492692086%5D%2C%20%5B126.99072073195462%2C%2037.455326143310025%5D%2C%20%5B126.96520439085143%2C%2037.438249784006246%5D%2C%20%5B126.95000001010182%2C%2037.43613451165719%5D%2C%20%5B126.93084408056525%2C%2037.447382928333994%5D%2C%20%5B126.9167728146601%2C%2037.45490566423789%5D%2C%20%5B126.90156094129895%2C%2037.47753842789901%5D%2C%20%5B126.90531975801812%2C%2037.48218087575429%5D%2C%20%5B126.94922661389508%2C%2037.49125437495649%5D%2C%20%5B126.9725891850662%2C%2037.472561363278125%5D%2C%20%5B126.98367668291802%2C%2037.473856492692086%5D%5D%5D%2C%20%22type%22%3A%20%22Polygon%22%7D%2C%20%22id%22%3A%20%22%5Cuad00%5Cuc545%5Cuad6c%22%2C%20%22properties%22%3A%20%7B%22base_year%22%3A%20%222013%22%2C%20%22code%22%3A%20%2211210%22%2C%20%22highlight%22%3A%20%7B%7D%2C%20%22name%22%3A%20%22%5Cuad00%5Cuc545%5Cuad6c%22%2C%20%22name_eng%22%3A%20%22Gwanak-gu%22%2C%20%22style%22%3A%20%7B%22color%22%3A%20%22black%22%2C%20%22fillColor%22%3A%20%22%23edf8fb%22%2C%20%22fillOpacity%22%3A%200.6%2C%20%22opacity%22%3A%201%2C%20%22weight%22%3A%201%7D%7D%2C%20%22type%22%3A%20%22Feature%22%7D%2C%20%7B%22geometry%22%3A%20%7B%22coordinates%22%3A%20%5B%5B%5B126.98223807916081%2C%2037.509314966770326%5D%2C%20%5B126.98367668291802%2C%2037.473856492692086%5D%2C%20%5B126.9725891850662%2C%2037.472561363278125%5D%2C%20%5B126.94922661389508%2C%2037.49125437495649%5D%2C%20%5B126.90531975801812%2C%2037.48218087575429%5D%2C%20%5B126.92177893174825%2C%2037.494889877415176%5D%2C%20%5B126.92810628828279%2C%2037.51329595732015%5D%2C%20%5B126.95249990298159%2C%2037.51722500741813%5D%2C%20%5B126.98223807916081%2C%2037.509314966770326%5D%5D%5D%2C%20%22type%22%3A%20%22Polygon%22%7D%2C%20%22id%22%3A%20%22%5Cub3d9%5Cuc791%5Cuad6c%22%2C%20%22properties%22%3A%20%7B%22base_year%22%3A%20%222013%22%2C%20%22code%22%3A%20%2211200%22%2C%20%22highlight%22%3A%20%7B%7D%2C%20%22name%22%3A%20%22%5Cub3d9%5Cuc791%5Cuad6c%22%2C%20%22name_eng%22%3A%20%22Dongjak-gu%22%2C%20%22style%22%3A%20%7B%22color%22%3A%20%22black%22%2C%20%22fillColor%22%3A%20%22%23bfd3e6%22%2C%20%22fillOpacity%22%3A%200.6%2C%20%22opacity%22%3A%201%2C%20%22weight%22%3A%201%7D%7D%2C%20%22type%22%3A%20%22Feature%22%7D%2C%20%7B%22geometry%22%3A%20%7B%22coordinates%22%3A%20%5B%5B%5B126.89184663862764%2C%2037.547373974997114%5D%2C%20%5B126.94566733083212%2C%2037.526617542453366%5D%2C%20%5B126.95249990298159%2C%2037.51722500741813%5D%2C%20%5B126.92810628828279%2C%2037.51329595732015%5D%2C%20%5B126.92177893174825%2C%2037.494889877415176%5D%2C%20%5B126.90531975801812%2C%2037.48218087575429%5D%2C%20%5B126.89594776782485%2C%2037.504675281309176%5D%2C%20%5B126.88156402353862%2C%2037.513970034765684%5D%2C%20%5B126.88825757860099%2C%2037.54079733630232%5D%2C%20%5B126.89184663862764%2C%2037.547373974997114%5D%5D%5D%2C%20%22type%22%3A%20%22Polygon%22%7D%2C%20%22id%22%3A%20%22%5Cuc601%5Cub4f1%5Cud3ec%5Cuad6c%22%2C%20%22properties%22%3A%20%7B%22base_year%22%3A%20%222013%22%2C%20%22code%22%3A%20%2211190%22%2C%20%22highlight%22%3A%20%7B%7D%2C%20%22name%22%3A%20%22%5Cuc601%5Cub4f1%5Cud3ec%5Cuad6c%22%2C%20%22name_eng%22%3A%20%22Yeongdeungpo-gu%22%2C%20%22style%22%3A%20%7B%22color%22%3A%20%22black%22%2C%20%22fillColor%22%3A%20%22%23810f7c%22%2C%20%22fillOpacity%22%3A%200.6%2C%20%22opacity%22%3A%201%2C%20%22weight%22%3A%201%7D%7D%2C%20%22type%22%3A%20%22Feature%22%7D%2C%20%7B%22geometry%22%3A%20%7B%22coordinates%22%3A%20%5B%5B%5B126.90156094129895%2C%2037.47753842789901%5D%2C%20%5B126.9167728146601%2C%2037.45490566423789%5D%2C%20%5B126.93084408056525%2C%2037.447382928333994%5D%2C%20%5B126.9025831711697%2C%2037.434549366349124%5D%2C%20%5B126.87683271502428%2C%2037.482576591607305%5D%2C%20%5B126.90156094129895%2C%2037.47753842789901%5D%5D%5D%2C%20%22type%22%3A%20%22Polygon%22%7D%2C%20%22id%22%3A%20%22%5Cuae08%5Cucc9c%5Cuad6c%22%2C%20%22properties%22%3A%20%7B%22base_year%22%3A%20%222013%22%2C%20%22code%22%3A%20%2211180%22%2C%20%22highlight%22%3A%20%7B%7D%2C%20%22name%22%3A%20%22%5Cuae08%5Cucc9c%5Cuad6c%22%2C%20%22name_eng%22%3A%20%22Geumcheon-gu%22%2C%20%22style%22%3A%20%7B%22color%22%3A%20%22black%22%2C%20%22fillColor%22%3A%20%22%238c96c6%22%2C%20%22fillOpacity%22%3A%200.6%2C%20%22opacity%22%3A%201%2C%20%22weight%22%3A%201%7D%7D%2C%20%22type%22%3A%20%22Feature%22%7D%2C%20%7B%22geometry%22%3A%20%7B%22coordinates%22%3A%20%5B%5B%5B126.82688081517314%2C%2037.50548972232896%5D%2C%20%5B126.88156402353862%2C%2037.513970034765684%5D%2C%20%5B126.89594776782485%2C%2037.504675281309176%5D%2C%20%5B126.90531975801812%2C%2037.48218087575429%5D%2C%20%5B126.90156094129895%2C%2037.47753842789901%5D%2C%20%5B126.87683271502428%2C%2037.482576591607305%5D%2C%20%5B126.84762676054953%2C%2037.47146723936323%5D%2C%20%5B126.83549485076196%2C%2037.474098236975095%5D%2C%20%5B126.82264796791348%2C%2037.4878476492147%5D%2C%20%5B126.82504736331406%2C%2037.50302612640443%5D%2C%20%5B126.82688081517314%2C%2037.50548972232896%5D%5D%5D%2C%20%22type%22%3A%20%22Polygon%22%7D%2C%20%22id%22%3A%20%22%5Cuad6c%5Cub85c%5Cuad6c%22%2C%20%22properties%22%3A%20%7B%22base_year%22%3A%20%222013%22%2C%20%22code%22%3A%20%2211170%22%2C%20%22highlight%22%3A%20%7B%7D%2C%20%22name%22%3A%20%22%5Cuad6c%5Cub85c%5Cuad6c%22%2C%20%22name_eng%22%3A%20%22Guro-gu%22%2C%20%22style%22%3A%20%7B%22color%22%3A%20%22black%22%2C%20%22fillColor%22%3A%20%22%23bfd3e6%22%2C%20%22fillOpacity%22%3A%200.6%2C%20%22opacity%22%3A%201%2C%20%22weight%22%3A%201%7D%7D%2C%20%22type%22%3A%20%22Feature%22%7D%2C%20%7B%22geometry%22%3A%20%7B%22coordinates%22%3A%20%5B%5B%5B126.79575768552907%2C%2037.57881087633202%5D%2C%20%5B126.80702115023597%2C%2037.60123001013228%5D%2C%20%5B126.82251438477105%2C%2037.5880430810082%5D%2C%20%5B126.85984199399667%2C%2037.571847855292745%5D%2C%20%5B126.89184663862764%2C%2037.547373974997114%5D%2C%20%5B126.88825757860099%2C%2037.54079733630232%5D%2C%20%5B126.86637464321238%2C%2037.54859191094823%5D%2C%20%5B126.86610073476395%2C%2037.52699964144669%5D%2C%20%5B126.84257291943153%2C%2037.52373707805596%5D%2C%20%5B126.8242331426722%2C%2037.53788078753248%5D%2C%20%5B126.77324417717703%2C%2037.5459123450554%5D%2C%20%5B126.76979180579352%2C%2037.55139183008809%5D%2C%20%5B126.79575768552907%2C%2037.57881087633202%5D%5D%5D%2C%20%22type%22%3A%20%22Polygon%22%7D%2C%20%22id%22%3A%20%22%5Cuac15%5Cuc11c%5Cuad6c%22%2C%20%22properties%22%3A%20%7B%22base_year%22%3A%20%222013%22%2C%20%22code%22%3A%20%2211160%22%2C%20%22highlight%22%3A%20%7B%7D%2C%20%22name%22%3A%20%22%5Cuac15%5Cuc11c%5Cuad6c%22%2C%20%22name_eng%22%3A%20%22Gangseo-gu%22%2C%20%22style%22%3A%20%7B%22color%22%3A%20%22black%22%2C%20%22fillColor%22%3A%20%22%23edf8fb%22%2C%20%22fillOpacity%22%3A%200.6%2C%20%22opacity%22%3A%201%2C%20%22weight%22%3A%201%7D%7D%2C%20%22type%22%3A%20%22Feature%22%7D%2C%20%7B%22geometry%22%3A%20%7B%22coordinates%22%3A%20%5B%5B%5B126.8242331426722%2C%2037.53788078753248%5D%2C%20%5B126.84257291943153%2C%2037.52373707805596%5D%2C%20%5B126.86610073476395%2C%2037.52699964144669%5D%2C%20%5B126.86637464321238%2C%2037.54859191094823%5D%2C%20%5B126.88825757860099%2C%2037.54079733630232%5D%2C%20%5B126.88156402353862%2C%2037.513970034765684%5D%2C%20%5B126.82688081517314%2C%2037.50548972232896%5D%2C%20%5B126.8242331426722%2C%2037.53788078753248%5D%5D%5D%2C%20%22type%22%3A%20%22Polygon%22%7D%2C%20%22id%22%3A%20%22%5Cuc591%5Cucc9c%5Cuad6c%22%2C%20%22properties%22%3A%20%7B%22base_year%22%3A%20%222013%22%2C%20%22code%22%3A%20%2211150%22%2C%20%22highlight%22%3A%20%7B%7D%2C%20%22name%22%3A%20%22%5Cuc591%5Cucc9c%5Cuad6c%22%2C%20%22name_eng%22%3A%20%22Yangcheon-gu%22%2C%20%22style%22%3A%20%7B%22color%22%3A%20%22black%22%2C%20%22fillColor%22%3A%20%22%23edf8fb%22%2C%20%22fillOpacity%22%3A%200.6%2C%20%22opacity%22%3A%201%2C%20%22weight%22%3A%201%7D%7D%2C%20%22type%22%3A%20%22Feature%22%7D%2C%20%7B%22geometry%22%3A%20%7B%22coordinates%22%3A%20%5B%5B%5B126.90522065831053%2C%2037.57409700522574%5D%2C%20%5B126.93898161798973%2C%2037.552310003728124%5D%2C%20%5B126.96358226710812%2C%2037.55605635475154%5D%2C%20%5B126.96448570553055%2C%2037.548705692021635%5D%2C%20%5B126.94566733083212%2C%2037.526617542453366%5D%2C%20%5B126.89184663862764%2C%2037.547373974997114%5D%2C%20%5B126.85984199399667%2C%2037.571847855292745%5D%2C%20%5B126.88433284773288%2C%2037.588143322880526%5D%2C%20%5B126.90522065831053%2C%2037.57409700522574%5D%5D%5D%2C%20%22type%22%3A%20%22Polygon%22%7D%2C%20%22id%22%3A%20%22%5Cub9c8%5Cud3ec%5Cuad6c%22%2C%20%22properties%22%3A%20%7B%22base_year%22%3A%20%222013%22%2C%20%22code%22%3A%20%2211140%22%2C%20%22highlight%22%3A%20%7B%7D%2C%20%22name%22%3A%20%22%5Cub9c8%5Cud3ec%5Cuad6c%22%2C%20%22name_eng%22%3A%20%22Mapo-gu%22%2C%20%22style%22%3A%20%7B%22color%22%3A%20%22black%22%2C%20%22fillColor%22%3A%20%22%23bfd3e6%22%2C%20%22fillOpacity%22%3A%200.6%2C%20%22opacity%22%3A%201%2C%20%22weight%22%3A%201%7D%7D%2C%20%22type%22%3A%20%22Feature%22%7D%2C%20%7B%22geometry%22%3A%20%7B%22coordinates%22%3A%20%5B%5B%5B126.9524752030572%2C%2037.60508692737045%5D%2C%20%5B126.95565425846463%2C%2037.576080790881456%5D%2C%20%5B126.96873633279075%2C%2037.56313604690827%5D%2C%20%5B126.96358226710812%2C%2037.55605635475154%5D%2C%20%5B126.93898161798973%2C%2037.552310003728124%5D%2C%20%5B126.90522065831053%2C%2037.57409700522574%5D%2C%20%5B126.9524752030572%2C%2037.60508692737045%5D%5D%5D%2C%20%22type%22%3A%20%22Polygon%22%7D%2C%20%22id%22%3A%20%22%5Cuc11c%5Cub300%5Cubb38%5Cuad6c%22%2C%20%22properties%22%3A%20%7B%22base_year%22%3A%20%222013%22%2C%20%22code%22%3A%20%2211130%22%2C%20%22highlight%22%3A%20%7B%7D%2C%20%22name%22%3A%20%22%5Cuc11c%5Cub300%5Cubb38%5Cuad6c%22%2C%20%22name_eng%22%3A%20%22Seodaemun-gu%22%2C%20%22style%22%3A%20%7B%22color%22%3A%20%22black%22%2C%20%22fillColor%22%3A%20%22%23bfd3e6%22%2C%20%22fillOpacity%22%3A%200.6%2C%20%22opacity%22%3A%201%2C%20%22weight%22%3A%201%7D%7D%2C%20%22type%22%3A%20%22Feature%22%7D%2C%20%7B%22geometry%22%3A%20%7B%22coordinates%22%3A%20%5B%5B%5B126.9738864128702%2C%2037.62949634786888%5D%2C%20%5B126.95427017006129%2C%2037.622033431339425%5D%2C%20%5B126.9524752030572%2C%2037.60508692737045%5D%2C%20%5B126.90522065831053%2C%2037.57409700522574%5D%2C%20%5B126.88433284773288%2C%2037.588143322880526%5D%2C%20%5B126.90396681003595%2C%2037.59227403419942%5D%2C%20%5B126.90303066177668%2C%2037.609977911401344%5D%2C%20%5B126.91455481429648%2C%2037.64150050996935%5D%2C%20%5B126.956473797387%2C%2037.652480737339445%5D%2C%20%5B126.9738864128702%2C%2037.62949634786888%5D%5D%5D%2C%20%22type%22%3A%20%22Polygon%22%7D%2C%20%22id%22%3A%20%22%5Cuc740%5Cud3c9%5Cuad6c%22%2C%20%22properties%22%3A%20%7B%22base_year%22%3A%20%222013%22%2C%20%22code%22%3A%20%2211120%22%2C%20%22highlight%22%3A%20%7B%7D%2C%20%22name%22%3A%20%22%5Cuc740%5Cud3c9%5Cuad6c%22%2C%20%22name_eng%22%3A%20%22Eunpyeong-gu%22%2C%20%22style%22%3A%20%7B%22color%22%3A%20%22black%22%2C%20%22fillColor%22%3A%20%22%23edf8fb%22%2C%20%22fillOpacity%22%3A%200.6%2C%20%22opacity%22%3A%201%2C%20%22weight%22%3A%201%7D%7D%2C%20%22type%22%3A%20%22Feature%22%7D%2C%20%7B%22geometry%22%3A%20%7B%22coordinates%22%3A%20%5B%5B%5B127.0838752703195%2C%2037.69359534202034%5D%2C%20%5B127.09706391309695%2C%2037.686383719372294%5D%2C%20%5B127.09440766298717%2C%2037.64713490473045%5D%2C%20%5B127.11326795855199%2C%2037.639622905315925%5D%2C%20%5B127.10782277688129%2C%2037.61804244241069%5D%2C%20%5B127.07351243825278%2C%2037.61283660342313%5D%2C%20%5B127.05209373568619%2C%2037.62164065487782%5D%2C%20%5B127.04358800895609%2C%2037.62848931298715%5D%2C%20%5B127.05800075220091%2C%2037.64318263878276%5D%2C%20%5B127.05288479710485%2C%2037.68423857084347%5D%2C%20%5B127.0838752703195%2C%2037.69359534202034%5D%5D%5D%2C%20%22type%22%3A%20%22Polygon%22%7D%2C%20%22id%22%3A%20%22%5Cub178%5Cuc6d0%5Cuad6c%22%2C%20%22properties%22%3A%20%7B%22base_year%22%3A%20%222013%22%2C%20%22code%22%3A%20%2211110%22%2C%20%22highlight%22%3A%20%7B%7D%2C%20%22name%22%3A%20%22%5Cub178%5Cuc6d0%5Cuad6c%22%2C%20%22name_eng%22%3A%20%22Nowon-gu%22%2C%20%22style%22%3A%20%7B%22color%22%3A%20%22black%22%2C%20%22fillColor%22%3A%20%22%23edf8fb%22%2C%20%22fillOpacity%22%3A%200.6%2C%20%22opacity%22%3A%201%2C%20%22weight%22%3A%201%7D%7D%2C%20%22type%22%3A%20%22Feature%22%7D%2C%20%7B%22geometry%22%3A%20%7B%22coordinates%22%3A%20%5B%5B%5B127.05288479710485%2C%2037.68423857084347%5D%2C%20%5B127.05800075220091%2C%2037.64318263878276%5D%2C%20%5B127.04358800895609%2C%2037.62848931298715%5D%2C%20%5B127.01465935892466%2C%2037.64943687496812%5D%2C%20%5B127.02062116141389%2C%2037.667173575971205%5D%2C%20%5B127.01039666042071%2C%2037.681894589603594%5D%2C%20%5B127.01795099203432%2C%2037.69824412775662%5D%2C%20%5B127.05288479710485%2C%2037.68423857084347%5D%5D%5D%2C%20%22type%22%3A%20%22Polygon%22%7D%2C%20%22id%22%3A%20%22%5Cub3c4%5Cubd09%5Cuad6c%22%2C%20%22properties%22%3A%20%7B%22base_year%22%3A%20%222013%22%2C%20%22code%22%3A%20%2211100%22%2C%20%22highlight%22%3A%20%7B%7D%2C%20%22name%22%3A%20%22%5Cub3c4%5Cubd09%5Cuad6c%22%2C%20%22name_eng%22%3A%20%22Dobong-gu%22%2C%20%22style%22%3A%20%7B%22color%22%3A%20%22black%22%2C%20%22fillColor%22%3A%20%22%23edf8fb%22%2C%20%22fillOpacity%22%3A%200.6%2C%20%22opacity%22%3A%201%2C%20%22weight%22%3A%201%7D%7D%2C%20%22type%22%3A%20%22Feature%22%7D%2C%20%7B%22geometry%22%3A%20%7B%22coordinates%22%3A%20%5B%5B%5B126.99383903424%2C%2037.676681761199085%5D%2C%20%5B127.01039666042071%2C%2037.681894589603594%5D%2C%20%5B127.02062116141389%2C%2037.667173575971205%5D%2C%20%5B127.01465935892466%2C%2037.64943687496812%5D%2C%20%5B127.04358800895609%2C%2037.62848931298715%5D%2C%20%5B127.05209373568619%2C%2037.62164065487782%5D%2C%20%5B127.03892400992301%2C%2037.609715611023816%5D%2C%20%5B127.0128154749523%2C%2037.613652243470256%5D%2C%20%5B126.98672705513869%2C%2037.63377641288196%5D%2C%20%5B126.9817452676551%2C%2037.65209769387776%5D%2C%20%5B126.99383903424%2C%2037.676681761199085%5D%5D%5D%2C%20%22type%22%3A%20%22Polygon%22%7D%2C%20%22id%22%3A%20%22%5Cuac15%5Cubd81%5Cuad6c%22%2C%20%22properties%22%3A%20%7B%22base_year%22%3A%20%222013%22%2C%20%22code%22%3A%20%2211090%22%2C%20%22highlight%22%3A%20%7B%7D%2C%20%22name%22%3A%20%22%5Cuac15%5Cubd81%5Cuad6c%22%2C%20%22name_eng%22%3A%20%22Gangbuk-gu%22%2C%20%22style%22%3A%20%7B%22color%22%3A%20%22black%22%2C%20%22fillColor%22%3A%20%22%239ebcda%22%2C%20%22fillOpacity%22%3A%200.6%2C%20%22opacity%22%3A%201%2C%20%22weight%22%3A%201%7D%7D%2C%20%22type%22%3A%20%22Feature%22%7D%2C%20%7B%22geometry%22%3A%20%7B%22coordinates%22%3A%20%5B%5B%5B126.977175406416%2C%2037.62859715400388%5D%2C%20%5B126.98672705513869%2C%2037.63377641288196%5D%2C%20%5B127.0128154749523%2C%2037.613652243470256%5D%2C%20%5B127.03892400992301%2C%2037.609715611023816%5D%2C%20%5B127.05209373568619%2C%2037.62164065487782%5D%2C%20%5B127.07351243825278%2C%2037.61283660342313%5D%2C%20%5B127.07382707099227%2C%2037.60401928986419%5D%2C%20%5B127.042705222094%2C%2037.59239437593391%5D%2C%20%5B127.02527254528003%2C%2037.57524616245249%5D%2C%20%5B126.99348293358314%2C%2037.588565457216156%5D%2C%20%5B126.98879865992384%2C%2037.6118927319756%5D%2C%20%5B126.977175406416%2C%2037.62859715400388%5D%5D%5D%2C%20%22type%22%3A%20%22Polygon%22%7D%2C%20%22id%22%3A%20%22%5Cuc131%5Cubd81%5Cuad6c%22%2C%20%22properties%22%3A%20%7B%22base_year%22%3A%20%222013%22%2C%20%22code%22%3A%20%2211080%22%2C%20%22highlight%22%3A%20%7B%7D%2C%20%22name%22%3A%20%22%5Cuc131%5Cubd81%5Cuad6c%22%2C%20%22name_eng%22%3A%20%22Seongbuk-gu%22%2C%20%22style%22%3A%20%7B%22color%22%3A%20%22black%22%2C%20%22fillColor%22%3A%20%22%23edf8fb%22%2C%20%22fillOpacity%22%3A%200.6%2C%20%22opacity%22%3A%201%2C%20%22weight%22%3A%201%7D%7D%2C%20%22type%22%3A%20%22Feature%22%7D%2C%20%7B%22geometry%22%3A%20%7B%22coordinates%22%3A%20%5B%5B%5B127.07351243825278%2C%2037.61283660342313%5D%2C%20%5B127.10782277688129%2C%2037.61804244241069%5D%2C%20%5B127.1201246020114%2C%2037.60178457598188%5D%2C%20%5B127.10304174249214%2C%2037.57076342290955%5D%2C%20%5B127.08068541280403%2C%2037.56906425519017%5D%2C%20%5B127.07382707099227%2C%2037.60401928986419%5D%2C%20%5B127.07351243825278%2C%2037.61283660342313%5D%5D%5D%2C%20%22type%22%3A%20%22Polygon%22%7D%2C%20%22id%22%3A%20%22%5Cuc911%5Cub791%5Cuad6c%22%2C%20%22properties%22%3A%20%7B%22base_year%22%3A%20%222013%22%2C%20%22code%22%3A%20%2211070%22%2C%20%22highlight%22%3A%20%7B%7D%2C%20%22name%22%3A%20%22%5Cuc911%5Cub791%5Cuad6c%22%2C%20%22name_eng%22%3A%20%22Jungnang-gu%22%2C%20%22style%22%3A%20%7B%22color%22%3A%20%22black%22%2C%20%22fillColor%22%3A%20%22%238c96c6%22%2C%20%22fillOpacity%22%3A%200.6%2C%20%22opacity%22%3A%201%2C%20%22weight%22%3A%201%7D%7D%2C%20%22type%22%3A%20%22Feature%22%7D%2C%20%7B%22geometry%22%3A%20%7B%22coordinates%22%3A%20%5B%5B%5B127.02527254528003%2C%2037.57524616245249%5D%2C%20%5B127.042705222094%2C%2037.59239437593391%5D%2C%20%5B127.07382707099227%2C%2037.60401928986419%5D%2C%20%5B127.08068541280403%2C%2037.56906425519017%5D%2C%20%5B127.07421053024362%2C%2037.55724769712085%5D%2C%20%5B127.05005601081567%2C%2037.567577612590846%5D%2C%20%5B127.02547266349976%2C%2037.568943552237734%5D%2C%20%5B127.02527254528003%2C%2037.57524616245249%5D%5D%5D%2C%20%22type%22%3A%20%22Polygon%22%7D%2C%20%22id%22%3A%20%22%5Cub3d9%5Cub300%5Cubb38%5Cuad6c%22%2C%20%22properties%22%3A%20%7B%22base_year%22%3A%20%222013%22%2C%20%22code%22%3A%20%2211060%22%2C%20%22highlight%22%3A%20%7B%7D%2C%20%22name%22%3A%20%22%5Cub3d9%5Cub300%5Cubb38%5Cuad6c%22%2C%20%22name_eng%22%3A%20%22Dongdaemun-gu%22%2C%20%22style%22%3A%20%7B%22color%22%3A%20%22black%22%2C%20%22fillColor%22%3A%20%22%23edf8fb%22%2C%20%22fillOpacity%22%3A%200.6%2C%20%22opacity%22%3A%201%2C%20%22weight%22%3A%201%7D%7D%2C%20%22type%22%3A%20%22Feature%22%7D%2C%20%7B%22geometry%22%3A%20%7B%22coordinates%22%3A%20%5B%5B%5B127.08068541280403%2C%2037.56906425519017%5D%2C%20%5B127.10304174249214%2C%2037.57076342290955%5D%2C%20%5B127.11519584981606%2C%2037.557533180704915%5D%2C%20%5B127.1116764203608%2C%2037.540669955324965%5D%2C%20%5B127.10087519791962%2C%2037.524841220167055%5D%2C%20%5B127.0690698130372%2C%2037.522279423505026%5D%2C%20%5B127.05867359288398%2C%2037.52629974922568%5D%2C%20%5B127.07421053024362%2C%2037.55724769712085%5D%2C%20%5B127.08068541280403%2C%2037.56906425519017%5D%5D%5D%2C%20%22type%22%3A%20%22Polygon%22%7D%2C%20%22id%22%3A%20%22%5Cuad11%5Cuc9c4%5Cuad6c%22%2C%20%22properties%22%3A%20%7B%22base_year%22%3A%20%222013%22%2C%20%22code%22%3A%20%2211050%22%2C%20%22highlight%22%3A%20%7B%7D%2C%20%22name%22%3A%20%22%5Cuad11%5Cuc9c4%5Cuad6c%22%2C%20%22name_eng%22%3A%20%22Gwangjin-gu%22%2C%20%22style%22%3A%20%7B%22color%22%3A%20%22black%22%2C%20%22fillColor%22%3A%20%22%23edf8fb%22%2C%20%22fillOpacity%22%3A%200.6%2C%20%22opacity%22%3A%201%2C%20%22weight%22%3A%201%7D%7D%2C%20%22type%22%3A%20%22Feature%22%7D%2C%20%7B%22geometry%22%3A%20%7B%22coordinates%22%3A%20%5B%5B%5B127.02547266349976%2C%2037.568943552237734%5D%2C%20%5B127.05005601081567%2C%2037.567577612590846%5D%2C%20%5B127.07421053024362%2C%2037.55724769712085%5D%2C%20%5B127.05867359288398%2C%2037.52629974922568%5D%2C%20%5B127.02302831890559%2C%2037.53231899582663%5D%2C%20%5B127.01070894177482%2C%2037.54118048964762%5D%2C%20%5B127.02547266349976%2C%2037.568943552237734%5D%5D%5D%2C%20%22type%22%3A%20%22Polygon%22%7D%2C%20%22id%22%3A%20%22%5Cuc131%5Cub3d9%5Cuad6c%22%2C%20%22properties%22%3A%20%7B%22base_year%22%3A%20%222013%22%2C%20%22code%22%3A%20%2211040%22%2C%20%22highlight%22%3A%20%7B%7D%2C%20%22name%22%3A%20%22%5Cuc131%5Cub3d9%5Cuad6c%22%2C%20%22name_eng%22%3A%20%22Seongdong-gu%22%2C%20%22style%22%3A%20%7B%22color%22%3A%20%22black%22%2C%20%22fillColor%22%3A%20%22%239ebcda%22%2C%20%22fillOpacity%22%3A%200.6%2C%20%22opacity%22%3A%201%2C%20%22weight%22%3A%201%7D%7D%2C%20%22type%22%3A%20%22Feature%22%7D%2C%20%7B%22geometry%22%3A%20%7B%22coordinates%22%3A%20%5B%5B%5B127.01070894177482%2C%2037.54118048964762%5D%2C%20%5B127.02302831890559%2C%2037.53231899582663%5D%2C%20%5B127.01397119667513%2C%2037.52503988289669%5D%2C%20%5B126.98223807916081%2C%2037.509314966770326%5D%2C%20%5B126.95249990298159%2C%2037.51722500741813%5D%2C%20%5B126.94566733083212%2C%2037.526617542453366%5D%2C%20%5B126.96448570553055%2C%2037.548705692021635%5D%2C%20%5B126.98752996903328%2C%2037.55094818807139%5D%2C%20%5B127.01070894177482%2C%2037.54118048964762%5D%5D%5D%2C%20%22type%22%3A%20%22Polygon%22%7D%2C%20%22id%22%3A%20%22%5Cuc6a9%5Cuc0b0%5Cuad6c%22%2C%20%22properties%22%3A%20%7B%22base_year%22%3A%20%222013%22%2C%20%22code%22%3A%20%2211030%22%2C%20%22highlight%22%3A%20%7B%7D%2C%20%22name%22%3A%20%22%5Cuc6a9%5Cuc0b0%5Cuad6c%22%2C%20%22name_eng%22%3A%20%22Yongsan-gu%22%2C%20%22style%22%3A%20%7B%22color%22%3A%20%22black%22%2C%20%22fillColor%22%3A%20%22%238856a7%22%2C%20%22fillOpacity%22%3A%200.6%2C%20%22opacity%22%3A%201%2C%20%22weight%22%3A%201%7D%7D%2C%20%22type%22%3A%20%22Feature%22%7D%2C%20%7B%22geometry%22%3A%20%7B%22coordinates%22%3A%20%5B%5B%5B127.02547266349976%2C%2037.568943552237734%5D%2C%20%5B127.01070894177482%2C%2037.54118048964762%5D%2C%20%5B126.98752996903328%2C%2037.55094818807139%5D%2C%20%5B126.96448570553055%2C%2037.548705692021635%5D%2C%20%5B126.96358226710812%2C%2037.55605635475154%5D%2C%20%5B126.96873633279075%2C%2037.56313604690827%5D%2C%20%5B127.02547266349976%2C%2037.568943552237734%5D%5D%5D%2C%20%22type%22%3A%20%22Polygon%22%7D%2C%20%22id%22%3A%20%22%5Cuc911%5Cuad6c%22%2C%20%22properties%22%3A%20%7B%22base_year%22%3A%20%222013%22%2C%20%22code%22%3A%20%2211020%22%2C%20%22highlight%22%3A%20%7B%7D%2C%20%22name%22%3A%20%22%5Cuc911%5Cuad6c%22%2C%20%22name_eng%22%3A%20%22Jung-gu%22%2C%20%22style%22%3A%20%7B%22color%22%3A%20%22black%22%2C%20%22fillColor%22%3A%20%22%238856a7%22%2C%20%22fillOpacity%22%3A%200.6%2C%20%22opacity%22%3A%201%2C%20%22weight%22%3A%201%7D%7D%2C%20%22type%22%3A%20%22Feature%22%7D%2C%20%7B%22geometry%22%3A%20%7B%22coordinates%22%3A%20%5B%5B%5B126.9738864128702%2C%2037.62949634786888%5D%2C%20%5B126.977175406416%2C%2037.62859715400388%5D%2C%20%5B126.98879865992384%2C%2037.6118927319756%5D%2C%20%5B126.99348293358314%2C%2037.588565457216156%5D%2C%20%5B127.02527254528003%2C%2037.57524616245249%5D%2C%20%5B127.02547266349976%2C%2037.568943552237734%5D%2C%20%5B126.96873633279075%2C%2037.56313604690827%5D%2C%20%5B126.95565425846463%2C%2037.576080790881456%5D%2C%20%5B126.9524752030572%2C%2037.60508692737045%5D%2C%20%5B126.95427017006129%2C%2037.622033431339425%5D%2C%20%5B126.9738864128702%2C%2037.62949634786888%5D%5D%5D%2C%20%22type%22%3A%20%22Polygon%22%7D%2C%20%22id%22%3A%20%22%5Cuc885%5Cub85c%5Cuad6c%22%2C%20%22properties%22%3A%20%7B%22base_year%22%3A%20%222013%22%2C%20%22code%22%3A%20%2211010%22%2C%20%22highlight%22%3A%20%7B%7D%2C%20%22name%22%3A%20%22%5Cuc885%5Cub85c%5Cuad6c%22%2C%20%22name_eng%22%3A%20%22Jongno-gu%22%2C%20%22style%22%3A%20%7B%22color%22%3A%20%22black%22%2C%20%22fillColor%22%3A%20%22%23bfd3e6%22%2C%20%22fillOpacity%22%3A%200.6%2C%20%22opacity%22%3A%201%2C%20%22weight%22%3A%201%7D%7D%2C%20%22type%22%3A%20%22Feature%22%7D%5D%2C%20%22type%22%3A%20%22FeatureCollection%22%7D%2C%0A%20%20%20%20%20%20%20%20%20%20%20%20%7B%0A%20%20%20%20%20%20%20%20%20%20%20%20%7D%0A%20%20%20%20%20%20%20%20%29.addTo%28choropleth_bd28e288d47748849ae6a7fb42aca7c2%20%29%3B%0A%20%20%20%20%20%20%20%20geo_json_8acf279ae03a42fd92ebc4dffc913afb.setStyle%28function%28feature%29%20%7Breturn%20feature.properties.style%3B%7D%29%3B%0A%20%20%20%20%20%20%20%20%0A%20%20%20%20%0A%20%20%20%20var%20color_map_73e97085c8ab447ea572dcb05ea8951a%20%3D%20%7B%7D%3B%0A%0A%20%20%20%20%0A%20%20%20%20color_map_73e97085c8ab447ea572dcb05ea8951a.color%20%3D%20d3.scale.threshold%28%29%0A%20%20%20%20%20%20%20%20%20%20%20%20%20%20.domain%28%5B0.25%2C%200.2534468937875751%2C%200.2568937875751503%2C%200.2603406813627255%2C%200.2637875751503006%2C%200.2672344689378757%2C%200.2706813627254509%2C%200.274128256513026%2C%200.2775751503006012%2C%200.2810220440881763%2C%200.2844689378757515%2C%200.2879158316633266%2C%200.2913627254509018%2C%200.2948096192384769%2C%200.2982565130260521%2C%200.3017034068136273%2C%200.3051503006012024%2C%200.30859719438877753%2C%200.3120440881763527%2C%200.3154909819639279%2C%200.318937875751503%2C%200.32238476953907813%2C%200.3258316633266533%2C%200.3292785571142285%2C%200.3327254509018036%2C%200.33617234468937873%2C%200.3396192384769539%2C%200.34306613226452903%2C%200.3465130260521042%2C%200.34995991983967933%2C%200.3534068136272545%2C%200.3568537074148297%2C%200.3603006012024048%2C%200.36374749498997994%2C%200.3671943887775551%2C%200.37064128256513024%2C%200.3740881763527054%2C%200.37753507014028054%2C%200.3809819639278557%2C%200.3844288577154309%2C%200.387875751503006%2C%200.39132264529058114%2C%200.39476953907815626%2C%200.39821643286573144%2C%200.4016633266533066%2C%200.40511022044088174%2C%200.4085571142284569%2C%200.4120040080160321%2C%200.4154509018036072%2C%200.41889779559118234%2C%200.4223446893787575%2C%200.4257915831663327%2C%200.4292384769539078%2C%200.43268537074148294%2C%200.43613226452905807%2C%200.43957915831663325%2C%200.4430260521042084%2C%200.44647294589178355%2C%200.4499198396793587%2C%200.4533667334669339%2C%200.456813627254509%2C%200.46026052104208415%2C%200.4637074148296593%2C%200.4671543086172345%2C%200.4706012024048096%2C%200.47404809619238475%2C%200.47749498997995987%2C%200.48094188376753505%2C%200.48438877755511023%2C%200.48783567134268535%2C%200.4912825651302605%2C%200.4947294589178357%2C%200.49817635270541083%2C%200.501623246492986%2C%200.5050701402805611%2C%200.5085170340681362%2C%200.5119639278557114%2C%200.5154108216432866%2C%200.5188577154308618%2C%200.5223046092184369%2C%200.525751503006012%2C%200.5291983967935872%2C%200.5326452905811623%2C%200.5360921843687374%2C%200.5395390781563125%2C%200.5429859719438878%2C%200.5464328657314629%2C%200.5498797595190381%2C%200.5533266533066132%2C%200.5567735470941884%2C%200.5602204408817635%2C%200.5636673346693387%2C%200.5671142284569138%2C%200.5705611222444891%2C%200.5740080160320642%2C%200.5774549098196393%2C%200.5809018036072144%2C%200.5843486973947896%2C%200.5877955911823647%2C%200.5912424849699398%2C%200.594689378757515%2C%200.5981362725450902%2C%200.6015831663326654%2C%200.6050300601202405%2C%200.6084769539078156%2C%200.6119238476953908%2C%200.6153707414829659%2C%200.618817635270541%2C%200.6222645290581161%2C%200.6257114228456914%2C%200.6291583166332665%2C%200.6326052104208417%2C%200.6360521042084168%2C%200.639498997995992%2C%200.6429458917835671%2C%200.6463927855711422%2C%200.6498396793587174%2C%200.6532865731462927%2C%200.6567334669338678%2C%200.6601803607214429%2C%200.663627254509018%2C%200.6670741482965932%2C%200.6705210420841683%2C%200.6739679358717434%2C%200.6774148296593187%2C%200.6808617234468938%2C%200.684308617234469%2C%200.6877555110220441%2C%200.6912024048096193%2C%200.6946492985971944%2C%200.6980961923847695%2C%200.7015430861723446%2C%200.7049899799599197%2C%200.708436873747495%2C%200.7118837675350701%2C%200.7153306613226453%2C%200.7187775551102205%2C%200.7222244488977956%2C%200.7256713426853707%2C%200.7291182364729458%2C%200.732565130260521%2C%200.7360120240480963%2C%200.7394589178356714%2C%200.7429058116232465%2C%200.7463527054108217%2C%200.7497995991983968%2C%200.7532464929859719%2C%200.7566933867735471%2C%200.7601402805611223%2C%200.7635871743486974%2C%200.7670340681362725%2C%200.7704809619238476%2C%200.7739278557114229%2C%200.777374749498998%2C%200.7808216432865731%2C%200.7842685370741483%2C%200.7877154308617235%2C%200.7911623246492986%2C%200.7946092184368737%2C%200.7980561122244489%2C%200.8015030060120241%2C%200.8049498997995992%2C%200.8083967935871743%2C%200.8118436873747495%2C%200.8152905811623247%2C%200.8187374749498998%2C%200.8221843687374749%2C%200.8256312625250501%2C%200.8290781563126252%2C%200.8325250501002004%2C%200.8359719438877755%2C%200.8394188376753507%2C%200.8428657314629258%2C%200.846312625250501%2C%200.8497595190380761%2C%200.8532064128256514%2C%200.8566533066132264%2C%200.8601002004008016%2C%200.8635470941883767%2C%200.8669939879759518%2C%200.8704408817635271%2C%200.8738877755511022%2C%200.8773346693386774%2C%200.8807815631262524%2C%200.8842284569138277%2C%200.8876753507014028%2C%200.891122244488978%2C%200.894569138276553%2C%200.8980160320641283%2C%200.9014629258517034%2C%200.9049098196392786%2C%200.9083567134268536%2C%200.9118036072144289%2C%200.915250501002004%2C%200.9186973947895791%2C%200.9221442885771542%2C%200.9255911823647295%2C%200.9290380761523046%2C%200.9324849699398797%2C%200.9359318637274548%2C%200.9393787575150301%2C%200.9428256513026052%2C%200.9462725450901803%2C%200.9497194388777555%2C%200.9531663326653307%2C%200.9566132264529058%2C%200.9600601202404809%2C%200.9635070140280562%2C%200.9669539078156313%2C%200.9704008016032064%2C%200.9738476953907815%2C%200.9772945891783568%2C%200.9807414829659319%2C%200.984188376753507%2C%200.9876352705410821%2C%200.9910821643286574%2C%200.9945290581162324%2C%200.9979759519038076%2C%201.0014228456913827%2C%201.0048697394789579%2C%201.008316633266533%2C%201.011763527054108%2C%201.0152104208416834%2C%201.0186573146292586%2C%201.0221042084168337%2C%201.0255511022044088%2C%201.028997995991984%2C%201.032444889779559%2C%201.0358917835671342%2C%201.0393386773547095%2C%201.0427855711422844%2C%201.0462324649298598%2C%201.049679358717435%2C%201.05312625250501%2C%201.0565731462925854%2C%201.0600200400801603%2C%201.0634669338677356%2C%201.0669138276553105%2C%201.0703607214428859%2C%201.0738076152304608%2C%201.077254509018036%2C%201.0807014028056112%2C%201.0841482965931863%2C%201.0875951903807615%2C%201.0910420841683366%2C%201.094488977955912%2C%201.0979358717434868%2C%201.1013827655310622%2C%201.1048296593186373%2C%201.1082765531062124%2C%201.1117234468937875%2C%201.1151703406813627%2C%201.118617234468938%2C%201.122064128256513%2C%201.1255110220440883%2C%201.1289579158316632%2C%201.1324048096192385%2C%201.1358517034068136%2C%201.1392985971943888%2C%201.142745490981964%2C%201.146192384769539%2C%201.1496392785571143%2C%201.1530861723446892%2C%201.1565330661322646%2C%201.1599799599198395%2C%201.1634268537074148%2C%201.16687374749499%2C%201.170320641282565%2C%201.1737675350701402%2C%201.1772144288577153%2C%201.1806613226452907%2C%201.1841082164328658%2C%201.187555110220441%2C%201.191002004008016%2C%201.1944488977955912%2C%201.1978957915831663%2C%201.2013426853707414%2C%201.2047895791583167%2C%201.2082364729458916%2C%201.211683366733467%2C%201.215130260521042%2C%201.2185771543086172%2C%201.2220240480961926%2C%201.2254709418837675%2C%201.2289178356713428%2C%201.2323647294589177%2C%201.235811623246493%2C%201.239258517034068%2C%201.2427054108216433%2C%201.2461523046092184%2C%201.2495991983967936%2C%201.2530460921843687%2C%201.2564929859719438%2C%201.259939879759519%2C%201.2633867735470943%2C%201.2668336673346694%2C%201.2702805611222445%2C%201.2737274549098196%2C%201.2771743486973948%2C%201.28062124248497%2C%201.284068136272545%2C%201.2875150300601204%2C%201.2909619238476953%2C%201.2944088176352704%2C%201.2978557114228457%2C%201.3013026052104208%2C%201.304749498997996%2C%201.308196392785571%2C%201.3116432865731462%2C%201.3150901803607216%2C%201.3185370741482967%2C%201.3219839679358716%2C%201.325430861723447%2C%201.328877755511022%2C%201.3323246492985972%2C%201.3357715430861723%2C%201.3392184368737474%2C%201.3426653306613228%2C%201.3461122244488979%2C%201.3495591182364728%2C%201.3530060120240481%2C%201.3564529058116233%2C%201.3598997995991984%2C%201.3633466933867735%2C%201.3667935871743486%2C%201.3702404809619237%2C%201.373687374749499%2C%201.377134268537074%2C%201.3805811623246493%2C%201.3840280561122245%2C%201.3874749498997996%2C%201.3909218436873747%2C%201.3943687374749498%2C%201.397815631262525%2C%201.4012625250501003%2C%201.4047094188376754%2C%201.4081563126252503%2C%201.4116032064128257%2C%201.4150501002004008%2C%201.4184969939879761%2C%201.421943887775551%2C%201.4253907815631262%2C%201.4288376753507015%2C%201.4322845691382766%2C%201.4357314629258515%2C%201.4391783567134269%2C%201.442625250501002%2C%201.446072144288577%2C%201.4495190380761522%2C%201.4529659318637274%2C%201.4564128256513027%2C%201.4598597194388778%2C%201.4633066132264527%2C%201.466753507014028%2C%201.4702004008016032%2C%201.4736472945891783%2C%201.4770941883767534%2C%201.4805410821643286%2C%201.4839879759519037%2C%201.487434869739479%2C%201.4908817635270541%2C%201.4943286573146293%2C%201.4977755511022044%2C%201.5012224448897795%2C%201.5046693386773549%2C%201.5081162324649298%2C%201.5115631262525049%2C%201.5150100200400802%2C%201.5184569138276554%2C%201.5219038076152303%2C%201.5253507014028056%2C%201.5287975951903807%2C%201.532244488977956%2C%201.535691382765531%2C%201.539138276553106%2C%201.5425851703406814%2C%201.5460320641282566%2C%201.5494789579158315%2C%201.5529258517034068%2C%201.556372745490982%2C%201.5598196392785573%2C%201.5632665330661322%2C%201.5667134268537073%2C%201.5701603206412826%2C%201.5736072144288578%2C%201.5770541082164329%2C%201.580501002004008%2C%201.5839478957915831%2C%201.5873947895791582%2C%201.5908416833667336%2C%201.5942885771543085%2C%201.5977354709418838%2C%201.601182364729459%2C%201.604629258517034%2C%201.6080761523046092%2C%201.6115230460921843%2C%201.6149699398797595%2C%201.6184168336673348%2C%201.6218637274549097%2C%201.6253106212424848%2C%201.6287575150300602%2C%201.6322044088176353%2C%201.6356513026052104%2C%201.6390981963927855%2C%201.6425450901803607%2C%201.645991983967936%2C%201.649438877755511%2C%201.652885771543086%2C%201.6563326653306614%2C%201.6597795591182365%2C%201.6632264529058116%2C%201.6666733466933867%2C%201.6701202404809619%2C%201.6735671342685372%2C%201.6770140280561123%2C%201.6804609218436872%2C%201.6839078156312626%2C%201.6873547094188377%2C%201.6908016032064128%2C%201.694248496993988%2C%201.697695390781563%2C%201.7011422845691382%2C%201.7045891783567135%2C%201.7080360721442884%2C%201.7114829659318638%2C%201.714929859719439%2C%201.718376753507014%2C%201.7218236472945891%2C%201.7252705410821643%2C%201.7287174348697394%2C%201.7321643286573147%2C%201.7356112224448896%2C%201.7390581162324648%2C%201.74250501002004%2C%201.7459519038076152%2C%201.7493987975951903%2C%201.7528456913827655%2C%201.7562925851703406%2C%201.759739478957916%2C%201.763186372745491%2C%201.766633266533066%2C%201.7700801603206413%2C%201.7735270541082164%2C%201.7769739478957916%2C%201.7804208416833667%2C%201.7838677354709418%2C%201.7873146292585171%2C%201.7907615230460923%2C%201.7942084168336672%2C%201.7976553106212425%2C%201.8011022044088176%2C%201.8045490981963928%2C%201.8079959919839679%2C%201.811442885771543%2C%201.8148897795591181%2C%201.8183366733466935%2C%201.8217835671342684%2C%201.8252304609218437%2C%201.8286773547094188%2C%201.832124248496994%2C%201.835571142284569%2C%201.8390180360721442%2C%201.8424649298597193%2C%201.8459118236472947%2C%201.8493587174348698%2C%201.8528056112224447%2C%201.85625250501002%2C%201.8596993987975952%2C%201.8631462925851705%2C%201.8665931863727454%2C%201.8700400801603205%2C%201.8734869739478959%2C%201.876933867735471%2C%201.880380761523046%2C%201.8838276553106212%2C%201.8872745490981964%2C%201.8907214428857717%2C%201.8941683366733466%2C%201.8976152304609217%2C%201.901062124248497%2C%201.9045090180360722%2C%201.907955911823647%2C%201.9114028056112224%2C%201.9148496993987976%2C%201.9182965931863727%2C%201.9217434869739478%2C%201.925190380761523%2C%201.9286372745490983%2C%201.9320841683366734%2C%201.9355310621242485%2C%201.9389779559118236%2C%201.9424248496993988%2C%201.945871743486974%2C%201.9493186372745492%2C%201.9527655310621241%2C%201.9562124248496993%2C%201.9596593186372746%2C%201.9631062124248497%2C%201.9665531062124249%2C%201.97%5D%29%0A%20%20%20%20%20%20%20%20%20%20%20%20%20%20.range%28%5B%27%23edf8fbff%27%2C%20%27%23edf8fbff%27%2C%20%27%23edf8fbff%27%2C%20%27%23edf8fbff%27%2C%20%27%23edf8fbff%27%2C%20%27%23edf8fbff%27%2C%20%27%23edf8fbff%27%2C%20%27%23edf8fbff%27%2C%20%27%23edf8fbff%27%2C%20%27%23edf8fbff%27%2C%20%27%23edf8fbff%27%2C%20%27%23edf8fbff%27%2C%20%27%23edf8fbff%27%2C%20%27%23edf8fbff%27%2C%20%27%23edf8fbff%27%2C%20%27%23edf8fbff%27%2C%20%27%23edf8fbff%27%2C%20%27%23edf8fbff%27%2C%20%27%23edf8fbff%27%2C%20%27%23edf8fbff%27%2C%20%27%23edf8fbff%27%2C%20%27%23edf8fbff%27%2C%20%27%23edf8fbff%27%2C%20%27%23edf8fbff%27%2C%20%27%23edf8fbff%27%2C%20%27%23edf8fbff%27%2C%20%27%23edf8fbff%27%2C%20%27%23edf8fbff%27%2C%20%27%23edf8fbff%27%2C%20%27%23edf8fbff%27%2C%20%27%23edf8fbff%27%2C%20%27%23edf8fbff%27%2C%20%27%23edf8fbff%27%2C%20%27%23edf8fbff%27%2C%20%27%23edf8fbff%27%2C%20%27%23edf8fbff%27%2C%20%27%23edf8fbff%27%2C%20%27%23edf8fbff%27%2C%20%27%23edf8fbff%27%2C%20%27%23edf8fbff%27%2C%20%27%23edf8fbff%27%2C%20%27%23edf8fbff%27%2C%20%27%23edf8fbff%27%2C%20%27%23edf8fbff%27%2C%20%27%23edf8fbff%27%2C%20%27%23edf8fbff%27%2C%20%27%23edf8fbff%27%2C%20%27%23edf8fbff%27%2C%20%27%23edf8fbff%27%2C%20%27%23edf8fbff%27%2C%20%27%23edf8fbff%27%2C%20%27%23edf8fbff%27%2C%20%27%23edf8fbff%27%2C%20%27%23edf8fbff%27%2C%20%27%23edf8fbff%27%2C%20%27%23edf8fbff%27%2C%20%27%23edf8fbff%27%2C%20%27%23edf8fbff%27%2C%20%27%23edf8fbff%27%2C%20%27%23edf8fbff%27%2C%20%27%23edf8fbff%27%2C%20%27%23edf8fbff%27%2C%20%27%23edf8fbff%27%2C%20%27%23edf8fbff%27%2C%20%27%23edf8fbff%27%2C%20%27%23edf8fbff%27%2C%20%27%23edf8fbff%27%2C%20%27%23edf8fbff%27%2C%20%27%23edf8fbff%27%2C%20%27%23edf8fbff%27%2C%20%27%23edf8fbff%27%2C%20%27%23edf8fbff%27%2C%20%27%23edf8fbff%27%2C%20%27%23edf8fbff%27%2C%20%27%23edf8fbff%27%2C%20%27%23edf8fbff%27%2C%20%27%23edf8fbff%27%2C%20%27%23edf8fbff%27%2C%20%27%23edf8fbff%27%2C%20%27%23edf8fbff%27%2C%20%27%23edf8fbff%27%2C%20%27%23edf8fbff%27%2C%20%27%23edf8fbff%27%2C%20%27%23edf8fbff%27%2C%20%27%23bfd3e6ff%27%2C%20%27%23bfd3e6ff%27%2C%20%27%23bfd3e6ff%27%2C%20%27%23bfd3e6ff%27%2C%20%27%23bfd3e6ff%27%2C%20%27%23bfd3e6ff%27%2C%20%27%23bfd3e6ff%27%2C%20%27%23bfd3e6ff%27%2C%20%27%23bfd3e6ff%27%2C%20%27%23bfd3e6ff%27%2C%20%27%23bfd3e6ff%27%2C%20%27%23bfd3e6ff%27%2C%20%27%23bfd3e6ff%27%2C%20%27%23bfd3e6ff%27%2C%20%27%23bfd3e6ff%27%2C%20%27%23bfd3e6ff%27%2C%20%27%23bfd3e6ff%27%2C%20%27%23bfd3e6ff%27%2C%20%27%23bfd3e6ff%27%2C%20%27%23bfd3e6ff%27%2C%20%27%23bfd3e6ff%27%2C%20%27%23bfd3e6ff%27%2C%20%27%23bfd3e6ff%27%2C%20%27%23bfd3e6ff%27%2C%20%27%23bfd3e6ff%27%2C%20%27%23bfd3e6ff%27%2C%20%27%23bfd3e6ff%27%2C%20%27%23bfd3e6ff%27%2C%20%27%23bfd3e6ff%27%2C%20%27%23bfd3e6ff%27%2C%20%27%23bfd3e6ff%27%2C%20%27%23bfd3e6ff%27%2C%20%27%23bfd3e6ff%27%2C%20%27%23bfd3e6ff%27%2C%20%27%23bfd3e6ff%27%2C%20%27%23bfd3e6ff%27%2C%20%27%23bfd3e6ff%27%2C%20%27%23bfd3e6ff%27%2C%20%27%23bfd3e6ff%27%2C%20%27%23bfd3e6ff%27%2C%20%27%23bfd3e6ff%27%2C%20%27%23bfd3e6ff%27%2C%20%27%23bfd3e6ff%27%2C%20%27%23bfd3e6ff%27%2C%20%27%23bfd3e6ff%27%2C%20%27%23bfd3e6ff%27%2C%20%27%23bfd3e6ff%27%2C%20%27%23bfd3e6ff%27%2C%20%27%23bfd3e6ff%27%2C%20%27%23bfd3e6ff%27%2C%20%27%23bfd3e6ff%27%2C%20%27%23bfd3e6ff%27%2C%20%27%23bfd3e6ff%27%2C%20%27%23bfd3e6ff%27%2C%20%27%23bfd3e6ff%27%2C%20%27%23bfd3e6ff%27%2C%20%27%23bfd3e6ff%27%2C%20%27%23bfd3e6ff%27%2C%20%27%23bfd3e6ff%27%2C%20%27%23bfd3e6ff%27%2C%20%27%23bfd3e6ff%27%2C%20%27%23bfd3e6ff%27%2C%20%27%23bfd3e6ff%27%2C%20%27%23bfd3e6ff%27%2C%20%27%23bfd3e6ff%27%2C%20%27%23bfd3e6ff%27%2C%20%27%23bfd3e6ff%27%2C%20%27%23bfd3e6ff%27%2C%20%27%23bfd3e6ff%27%2C%20%27%23bfd3e6ff%27%2C%20%27%23bfd3e6ff%27%2C%20%27%23bfd3e6ff%27%2C%20%27%23bfd3e6ff%27%2C%20%27%23bfd3e6ff%27%2C%20%27%23bfd3e6ff%27%2C%20%27%23bfd3e6ff%27%2C%20%27%23bfd3e6ff%27%2C%20%27%23bfd3e6ff%27%2C%20%27%23bfd3e6ff%27%2C%20%27%23bfd3e6ff%27%2C%20%27%23bfd3e6ff%27%2C%20%27%23bfd3e6ff%27%2C%20%27%23bfd3e6ff%27%2C%20%27%239ebcdaff%27%2C%20%27%239ebcdaff%27%2C%20%27%239ebcdaff%27%2C%20%27%239ebcdaff%27%2C%20%27%239ebcdaff%27%2C%20%27%239ebcdaff%27%2C%20%27%239ebcdaff%27%2C%20%27%239ebcdaff%27%2C%20%27%239ebcdaff%27%2C%20%27%239ebcdaff%27%2C%20%27%239ebcdaff%27%2C%20%27%239ebcdaff%27%2C%20%27%239ebcdaff%27%2C%20%27%239ebcdaff%27%2C%20%27%239ebcdaff%27%2C%20%27%239ebcdaff%27%2C%20%27%239ebcdaff%27%2C%20%27%239ebcdaff%27%2C%20%27%239ebcdaff%27%2C%20%27%239ebcdaff%27%2C%20%27%239ebcdaff%27%2C%20%27%239ebcdaff%27%2C%20%27%239ebcdaff%27%2C%20%27%239ebcdaff%27%2C%20%27%239ebcdaff%27%2C%20%27%239ebcdaff%27%2C%20%27%239ebcdaff%27%2C%20%27%239ebcdaff%27%2C%20%27%239ebcdaff%27%2C%20%27%239ebcdaff%27%2C%20%27%239ebcdaff%27%2C%20%27%239ebcdaff%27%2C%20%27%239ebcdaff%27%2C%20%27%239ebcdaff%27%2C%20%27%239ebcdaff%27%2C%20%27%239ebcdaff%27%2C%20%27%239ebcdaff%27%2C%20%27%239ebcdaff%27%2C%20%27%239ebcdaff%27%2C%20%27%239ebcdaff%27%2C%20%27%239ebcdaff%27%2C%20%27%239ebcdaff%27%2C%20%27%239ebcdaff%27%2C%20%27%239ebcdaff%27%2C%20%27%239ebcdaff%27%2C%20%27%239ebcdaff%27%2C%20%27%239ebcdaff%27%2C%20%27%239ebcdaff%27%2C%20%27%239ebcdaff%27%2C%20%27%239ebcdaff%27%2C%20%27%239ebcdaff%27%2C%20%27%239ebcdaff%27%2C%20%27%239ebcdaff%27%2C%20%27%239ebcdaff%27%2C%20%27%239ebcdaff%27%2C%20%27%239ebcdaff%27%2C%20%27%239ebcdaff%27%2C%20%27%239ebcdaff%27%2C%20%27%239ebcdaff%27%2C%20%27%239ebcdaff%27%2C%20%27%239ebcdaff%27%2C%20%27%239ebcdaff%27%2C%20%27%239ebcdaff%27%2C%20%27%239ebcdaff%27%2C%20%27%239ebcdaff%27%2C%20%27%239ebcdaff%27%2C%20%27%239ebcdaff%27%2C%20%27%239ebcdaff%27%2C%20%27%239ebcdaff%27%2C%20%27%239ebcdaff%27%2C%20%27%239ebcdaff%27%2C%20%27%239ebcdaff%27%2C%20%27%239ebcdaff%27%2C%20%27%239ebcdaff%27%2C%20%27%239ebcdaff%27%2C%20%27%239ebcdaff%27%2C%20%27%239ebcdaff%27%2C%20%27%239ebcdaff%27%2C%20%27%239ebcdaff%27%2C%20%27%239ebcdaff%27%2C%20%27%239ebcdaff%27%2C%20%27%239ebcdaff%27%2C%20%27%239ebcdaff%27%2C%20%27%238c96c6ff%27%2C%20%27%238c96c6ff%27%2C%20%27%238c96c6ff%27%2C%20%27%238c96c6ff%27%2C%20%27%238c96c6ff%27%2C%20%27%238c96c6ff%27%2C%20%27%238c96c6ff%27%2C%20%27%238c96c6ff%27%2C%20%27%238c96c6ff%27%2C%20%27%238c96c6ff%27%2C%20%27%238c96c6ff%27%2C%20%27%238c96c6ff%27%2C%20%27%238c96c6ff%27%2C%20%27%238c96c6ff%27%2C%20%27%238c96c6ff%27%2C%20%27%238c96c6ff%27%2C%20%27%238c96c6ff%27%2C%20%27%238c96c6ff%27%2C%20%27%238c96c6ff%27%2C%20%27%238c96c6ff%27%2C%20%27%238c96c6ff%27%2C%20%27%238c96c6ff%27%2C%20%27%238c96c6ff%27%2C%20%27%238c96c6ff%27%2C%20%27%238c96c6ff%27%2C%20%27%238c96c6ff%27%2C%20%27%238c96c6ff%27%2C%20%27%238c96c6ff%27%2C%20%27%238c96c6ff%27%2C%20%27%238c96c6ff%27%2C%20%27%238c96c6ff%27%2C%20%27%238c96c6ff%27%2C%20%27%238c96c6ff%27%2C%20%27%238c96c6ff%27%2C%20%27%238c96c6ff%27%2C%20%27%238c96c6ff%27%2C%20%27%238c96c6ff%27%2C%20%27%238c96c6ff%27%2C%20%27%238c96c6ff%27%2C%20%27%238c96c6ff%27%2C%20%27%238c96c6ff%27%2C%20%27%238c96c6ff%27%2C%20%27%238c96c6ff%27%2C%20%27%238c96c6ff%27%2C%20%27%238c96c6ff%27%2C%20%27%238c96c6ff%27%2C%20%27%238c96c6ff%27%2C%20%27%238c96c6ff%27%2C%20%27%238c96c6ff%27%2C%20%27%238c96c6ff%27%2C%20%27%238c96c6ff%27%2C%20%27%238c96c6ff%27%2C%20%27%238c96c6ff%27%2C%20%27%238c96c6ff%27%2C%20%27%238c96c6ff%27%2C%20%27%238c96c6ff%27%2C%20%27%238c96c6ff%27%2C%20%27%238c96c6ff%27%2C%20%27%238c96c6ff%27%2C%20%27%238c96c6ff%27%2C%20%27%238c96c6ff%27%2C%20%27%238c96c6ff%27%2C%20%27%238c96c6ff%27%2C%20%27%238c96c6ff%27%2C%20%27%238c96c6ff%27%2C%20%27%238c96c6ff%27%2C%20%27%238c96c6ff%27%2C%20%27%238c96c6ff%27%2C%20%27%238c96c6ff%27%2C%20%27%238c96c6ff%27%2C%20%27%238c96c6ff%27%2C%20%27%238c96c6ff%27%2C%20%27%238c96c6ff%27%2C%20%27%238c96c6ff%27%2C%20%27%238c96c6ff%27%2C%20%27%238c96c6ff%27%2C%20%27%238c96c6ff%27%2C%20%27%238c96c6ff%27%2C%20%27%238c96c6ff%27%2C%20%27%238c96c6ff%27%2C%20%27%238c96c6ff%27%2C%20%27%238c96c6ff%27%2C%20%27%238c96c6ff%27%2C%20%27%238856a7ff%27%2C%20%27%238856a7ff%27%2C%20%27%238856a7ff%27%2C%20%27%238856a7ff%27%2C%20%27%238856a7ff%27%2C%20%27%238856a7ff%27%2C%20%27%238856a7ff%27%2C%20%27%238856a7ff%27%2C%20%27%238856a7ff%27%2C%20%27%238856a7ff%27%2C%20%27%238856a7ff%27%2C%20%27%238856a7ff%27%2C%20%27%238856a7ff%27%2C%20%27%238856a7ff%27%2C%20%27%238856a7ff%27%2C%20%27%238856a7ff%27%2C%20%27%238856a7ff%27%2C%20%27%238856a7ff%27%2C%20%27%238856a7ff%27%2C%20%27%238856a7ff%27%2C%20%27%238856a7ff%27%2C%20%27%238856a7ff%27%2C%20%27%238856a7ff%27%2C%20%27%238856a7ff%27%2C%20%27%238856a7ff%27%2C%20%27%238856a7ff%27%2C%20%27%238856a7ff%27%2C%20%27%238856a7ff%27%2C%20%27%238856a7ff%27%2C%20%27%238856a7ff%27%2C%20%27%238856a7ff%27%2C%20%27%238856a7ff%27%2C%20%27%238856a7ff%27%2C%20%27%238856a7ff%27%2C%20%27%238856a7ff%27%2C%20%27%238856a7ff%27%2C%20%27%238856a7ff%27%2C%20%27%238856a7ff%27%2C%20%27%238856a7ff%27%2C%20%27%238856a7ff%27%2C%20%27%238856a7ff%27%2C%20%27%238856a7ff%27%2C%20%27%238856a7ff%27%2C%20%27%238856a7ff%27%2C%20%27%238856a7ff%27%2C%20%27%238856a7ff%27%2C%20%27%238856a7ff%27%2C%20%27%238856a7ff%27%2C%20%27%238856a7ff%27%2C%20%27%238856a7ff%27%2C%20%27%238856a7ff%27%2C%20%27%238856a7ff%27%2C%20%27%238856a7ff%27%2C%20%27%238856a7ff%27%2C%20%27%238856a7ff%27%2C%20%27%238856a7ff%27%2C%20%27%238856a7ff%27%2C%20%27%238856a7ff%27%2C%20%27%238856a7ff%27%2C%20%27%238856a7ff%27%2C%20%27%238856a7ff%27%2C%20%27%238856a7ff%27%2C%20%27%238856a7ff%27%2C%20%27%238856a7ff%27%2C%20%27%238856a7ff%27%2C%20%27%238856a7ff%27%2C%20%27%238856a7ff%27%2C%20%27%238856a7ff%27%2C%20%27%238856a7ff%27%2C%20%27%238856a7ff%27%2C%20%27%238856a7ff%27%2C%20%27%238856a7ff%27%2C%20%27%238856a7ff%27%2C%20%27%238856a7ff%27%2C%20%27%238856a7ff%27%2C%20%27%238856a7ff%27%2C%20%27%238856a7ff%27%2C%20%27%238856a7ff%27%2C%20%27%238856a7ff%27%2C%20%27%238856a7ff%27%2C%20%27%238856a7ff%27%2C%20%27%238856a7ff%27%2C%20%27%238856a7ff%27%2C%20%27%23810f7cff%27%2C%20%27%23810f7cff%27%2C%20%27%23810f7cff%27%2C%20%27%23810f7cff%27%2C%20%27%23810f7cff%27%2C%20%27%23810f7cff%27%2C%20%27%23810f7cff%27%2C%20%27%23810f7cff%27%2C%20%27%23810f7cff%27%2C%20%27%23810f7cff%27%2C%20%27%23810f7cff%27%2C%20%27%23810f7cff%27%2C%20%27%23810f7cff%27%2C%20%27%23810f7cff%27%2C%20%27%23810f7cff%27%2C%20%27%23810f7cff%27%2C%20%27%23810f7cff%27%2C%20%27%23810f7cff%27%2C%20%27%23810f7cff%27%2C%20%27%23810f7cff%27%2C%20%27%23810f7cff%27%2C%20%27%23810f7cff%27%2C%20%27%23810f7cff%27%2C%20%27%23810f7cff%27%2C%20%27%23810f7cff%27%2C%20%27%23810f7cff%27%2C%20%27%23810f7cff%27%2C%20%27%23810f7cff%27%2C%20%27%23810f7cff%27%2C%20%27%23810f7cff%27%2C%20%27%23810f7cff%27%2C%20%27%23810f7cff%27%2C%20%27%23810f7cff%27%2C%20%27%23810f7cff%27%2C%20%27%23810f7cff%27%2C%20%27%23810f7cff%27%2C%20%27%23810f7cff%27%2C%20%27%23810f7cff%27%2C%20%27%23810f7cff%27%2C%20%27%23810f7cff%27%2C%20%27%23810f7cff%27%2C%20%27%23810f7cff%27%2C%20%27%23810f7cff%27%2C%20%27%23810f7cff%27%2C%20%27%23810f7cff%27%2C%20%27%23810f7cff%27%2C%20%27%23810f7cff%27%2C%20%27%23810f7cff%27%2C%20%27%23810f7cff%27%2C%20%27%23810f7cff%27%2C%20%27%23810f7cff%27%2C%20%27%23810f7cff%27%2C%20%27%23810f7cff%27%2C%20%27%23810f7cff%27%2C%20%27%23810f7cff%27%2C%20%27%23810f7cff%27%2C%20%27%23810f7cff%27%2C%20%27%23810f7cff%27%2C%20%27%23810f7cff%27%2C%20%27%23810f7cff%27%2C%20%27%23810f7cff%27%2C%20%27%23810f7cff%27%2C%20%27%23810f7cff%27%2C%20%27%23810f7cff%27%2C%20%27%23810f7cff%27%2C%20%27%23810f7cff%27%2C%20%27%23810f7cff%27%2C%20%27%23810f7cff%27%2C%20%27%23810f7cff%27%2C%20%27%23810f7cff%27%2C%20%27%23810f7cff%27%2C%20%27%23810f7cff%27%2C%20%27%23810f7cff%27%2C%20%27%23810f7cff%27%2C%20%27%23810f7cff%27%2C%20%27%23810f7cff%27%2C%20%27%23810f7cff%27%2C%20%27%23810f7cff%27%2C%20%27%23810f7cff%27%2C%20%27%23810f7cff%27%2C%20%27%23810f7cff%27%2C%20%27%23810f7cff%27%2C%20%27%23810f7cff%27%2C%20%27%23810f7cff%27%5D%29%3B%0A%20%20%20%20%0A%0A%20%20%20%20color_map_73e97085c8ab447ea572dcb05ea8951a.x%20%3D%20d3.scale.linear%28%29%0A%20%20%20%20%20%20%20%20%20%20%20%20%20%20.domain%28%5B0.25%2C%201.97%5D%29%0A%20%20%20%20%20%20%20%20%20%20%20%20%20%20.range%28%5B0%2C%20400%5D%29%3B%0A%0A%20%20%20%20color_map_73e97085c8ab447ea572dcb05ea8951a.legend%20%3D%20L.control%28%7Bposition%3A%20%27topright%27%7D%29%3B%0A%20%20%20%20color_map_73e97085c8ab447ea572dcb05ea8951a.legend.onAdd%20%3D%20function%20%28map%29%20%7Bvar%20div%20%3D%20L.DomUtil.create%28%27div%27%2C%20%27legend%27%29%3B%20return%20div%7D%3B%0A%20%20%20%20color_map_73e97085c8ab447ea572dcb05ea8951a.legend.addTo%28map_ed04bd459fb3465b8c3ac6e3c65a2478%29%3B%0A%0A%20%20%20%20color_map_73e97085c8ab447ea572dcb05ea8951a.xAxis%20%3D%20d3.svg.axis%28%29%0A%20%20%20%20%20%20%20%20.scale%28color_map_73e97085c8ab447ea572dcb05ea8951a.x%29%0A%20%20%20%20%20%20%20%20.orient%28%22top%22%29%0A%20%20%20%20%20%20%20%20.tickSize%281%29%0A%20%20%20%20%20%20%20%20.tickValues%28%5B0.25%2C%200.5366666666666666%2C%200.8233333333333334%2C%201.11%2C%201.3966666666666667%2C%201.6833333333333333%2C%201.97%5D%29%3B%0A%0A%20%20%20%20color_map_73e97085c8ab447ea572dcb05ea8951a.svg%20%3D%20d3.select%28%22.legend.leaflet-control%22%29.append%28%22svg%22%29%0A%20%20%20%20%20%20%20%20.attr%28%22id%22%2C%20%27legend%27%29%0A%20%20%20%20%20%20%20%20.attr%28%22width%22%2C%20450%29%0A%20%20%20%20%20%20%20%20.attr%28%22height%22%2C%2040%29%3B%0A%0A%20%20%20%20color_map_73e97085c8ab447ea572dcb05ea8951a.g%20%3D%20color_map_73e97085c8ab447ea572dcb05ea8951a.svg.append%28%22g%22%29%0A%20%20%20%20%20%20%20%20.attr%28%22class%22%2C%20%22key%22%29%0A%20%20%20%20%20%20%20%20.attr%28%22transform%22%2C%20%22translate%2825%2C16%29%22%29%3B%0A%0A%20%20%20%20color_map_73e97085c8ab447ea572dcb05ea8951a.g.selectAll%28%22rect%22%29%0A%20%20%20%20%20%20%20%20.data%28color_map_73e97085c8ab447ea572dcb05ea8951a.color.range%28%29.map%28function%28d%2C%20i%29%20%7B%0A%20%20%20%20%20%20%20%20%20%20return%20%7B%0A%20%20%20%20%20%20%20%20%20%20%20%20x0%3A%20i%20%3F%20color_map_73e97085c8ab447ea572dcb05ea8951a.x%28color_map_73e97085c8ab447ea572dcb05ea8951a.color.domain%28%29%5Bi%20-%201%5D%29%20%3A%20color_map_73e97085c8ab447ea572dcb05ea8951a.x.range%28%29%5B0%5D%2C%0A%20%20%20%20%20%20%20%20%20%20%20%20x1%3A%20i%20%3C%20color_map_73e97085c8ab447ea572dcb05ea8951a.color.domain%28%29.length%20%3F%20color_map_73e97085c8ab447ea572dcb05ea8951a.x%28color_map_73e97085c8ab447ea572dcb05ea8951a.color.domain%28%29%5Bi%5D%29%20%3A%20color_map_73e97085c8ab447ea572dcb05ea8951a.x.range%28%29%5B1%5D%2C%0A%20%20%20%20%20%20%20%20%20%20%20%20z%3A%20d%0A%20%20%20%20%20%20%20%20%20%20%7D%3B%0A%20%20%20%20%20%20%20%20%7D%29%29%0A%20%20%20%20%20%20.enter%28%29.append%28%22rect%22%29%0A%20%20%20%20%20%20%20%20.attr%28%22height%22%2C%2010%29%0A%20%20%20%20%20%20%20%20.attr%28%22x%22%2C%20function%28d%29%20%7B%20return%20d.x0%3B%20%7D%29%0A%20%20%20%20%20%20%20%20.attr%28%22width%22%2C%20function%28d%29%20%7B%20return%20d.x1%20-%20d.x0%3B%20%7D%29%0A%20%20%20%20%20%20%20%20.style%28%22fill%22%2C%20function%28d%29%20%7B%20return%20d.z%3B%20%7D%29%3B%0A%0A%20%20%20%20color_map_73e97085c8ab447ea572dcb05ea8951a.g.call%28color_map_73e97085c8ab447ea572dcb05ea8951a.xAxis%29.append%28%22text%22%29%0A%20%20%20%20%20%20%20%20.attr%28%22class%22%2C%20%22caption%22%29%0A%20%20%20%20%20%20%20%20.attr%28%22y%22%2C%2021%29%0A%20%20%20%20%20%20%20%20.text%28%2720%EB%85%84%EA%B3%A0%EB%A0%B9%EC%9D%B8%EA%B5%ACcctv%EC%84%A4%EC%B9%98%EC%9C%A8%27%29%3B%0A%3C/script%3E onload=\"this.contentDocument.open();this.contentDocument.write(    decodeURIComponent(this.getAttribute('data-html')));this.contentDocument.close();\" allowfullscreen webkitallowfullscreen mozallowfullscreen></iframe></div></div>"
            ],
            "text/plain": [
              "<folium.folium.Map at 0x7f13976c5490>"
            ]
          },
          "metadata": {},
          "execution_count": 66
        }
      ]
    },
    {
      "cell_type": "code",
      "metadata": {
        "colab": {
          "base_uri": "https://localhost:8080/",
          "height": 711
        },
        "id": "HWH2KIxHMZwX",
        "outputId": "72645783-d30f-4580-ac73-59f3ccbd4c2e"
      },
      "source": [
        "center = [37.581, 126.986]    # 서울 중심부 위도, 경도\n",
        "map = folium.Map(location=center, zoom_start=11, tiles='Stamen Toner')\n",
        "\n",
        "folium.TileLayer('cartodbpositron').add_to(map)\n",
        "folium.Choropleth(\n",
        "    geo_data=geo_data,\n",
        "    data = spsc,\n",
        "    columns = ('자치구','17년외국인cctv설치율'),\n",
        "    key_on = 'feature.id',    # geo_data 의 지역명\n",
        "    fill_color = 'BuPu',\n",
        "    legend_name = '17년외국인cctv설치율'\n",
        ").add_to(map)\n",
        "title = '<h3 align=\"center\" style=\"font-size:20px\">서울시 17년 구별 외국인인구대비 cctv설치율</h3>'\n",
        "map.get_root().html.add_child(folium.Element(title))\n",
        "map"
      ],
      "execution_count": 65,
      "outputs": [
        {
          "output_type": "execute_result",
          "data": {
            "text/html": [
              "<div style=\"width:100%;\"><div style=\"position:relative;width:100%;height:0;padding-bottom:60%;\"><span style=\"color:#565656\">Make this Notebook Trusted to load map: File -> Trust Notebook</span><iframe src=\"about:blank\" style=\"position:absolute;width:100%;height:100%;left:0;top:0;border:none !important;\" data-html=%3C%21DOCTYPE%20html%3E%0A%3Chead%3E%20%20%20%20%0A%20%20%20%20%3Cmeta%20http-equiv%3D%22content-type%22%20content%3D%22text/html%3B%20charset%3DUTF-8%22%20/%3E%0A%20%20%20%20%3Cscript%3EL_PREFER_CANVAS%3Dfalse%3B%20L_NO_TOUCH%3Dfalse%3B%20L_DISABLE_3D%3Dfalse%3B%3C/script%3E%0A%20%20%20%20%3Cscript%20src%3D%22https%3A//cdn.jsdelivr.net/npm/leaflet%401.4.0/dist/leaflet.js%22%3E%3C/script%3E%0A%20%20%20%20%3Cscript%20src%3D%22https%3A//code.jquery.com/jquery-1.12.4.min.js%22%3E%3C/script%3E%0A%20%20%20%20%3Cscript%20src%3D%22https%3A//maxcdn.bootstrapcdn.com/bootstrap/3.2.0/js/bootstrap.min.js%22%3E%3C/script%3E%0A%20%20%20%20%3Cscript%20src%3D%22https%3A//cdnjs.cloudflare.com/ajax/libs/Leaflet.awesome-markers/2.0.2/leaflet.awesome-markers.js%22%3E%3C/script%3E%0A%20%20%20%20%3Clink%20rel%3D%22stylesheet%22%20href%3D%22https%3A//cdn.jsdelivr.net/npm/leaflet%401.4.0/dist/leaflet.css%22/%3E%0A%20%20%20%20%3Clink%20rel%3D%22stylesheet%22%20href%3D%22https%3A//maxcdn.bootstrapcdn.com/bootstrap/3.2.0/css/bootstrap.min.css%22/%3E%0A%20%20%20%20%3Clink%20rel%3D%22stylesheet%22%20href%3D%22https%3A//maxcdn.bootstrapcdn.com/bootstrap/3.2.0/css/bootstrap-theme.min.css%22/%3E%0A%20%20%20%20%3Clink%20rel%3D%22stylesheet%22%20href%3D%22https%3A//maxcdn.bootstrapcdn.com/font-awesome/4.6.3/css/font-awesome.min.css%22/%3E%0A%20%20%20%20%3Clink%20rel%3D%22stylesheet%22%20href%3D%22https%3A//cdnjs.cloudflare.com/ajax/libs/Leaflet.awesome-markers/2.0.2/leaflet.awesome-markers.css%22/%3E%0A%20%20%20%20%3Clink%20rel%3D%22stylesheet%22%20href%3D%22https%3A//rawcdn.githack.com/python-visualization/folium/master/folium/templates/leaflet.awesome.rotate.css%22/%3E%0A%20%20%20%20%3Cstyle%3Ehtml%2C%20body%20%7Bwidth%3A%20100%25%3Bheight%3A%20100%25%3Bmargin%3A%200%3Bpadding%3A%200%3B%7D%3C/style%3E%0A%20%20%20%20%3Cstyle%3E%23map%20%7Bposition%3Aabsolute%3Btop%3A0%3Bbottom%3A0%3Bright%3A0%3Bleft%3A0%3B%7D%3C/style%3E%0A%20%20%20%20%0A%20%20%20%20%3Cmeta%20name%3D%22viewport%22%20content%3D%22width%3Ddevice-width%2C%0A%20%20%20%20%20%20%20%20initial-scale%3D1.0%2C%20maximum-scale%3D1.0%2C%20user-scalable%3Dno%22%20/%3E%0A%20%20%20%20%3Cstyle%3E%23map_da996591e12d4ef98eb5cc72ca262344%20%7B%0A%20%20%20%20%20%20%20%20position%3A%20relative%3B%0A%20%20%20%20%20%20%20%20width%3A%20100.0%25%3B%0A%20%20%20%20%20%20%20%20height%3A%20100.0%25%3B%0A%20%20%20%20%20%20%20%20left%3A%200.0%25%3B%0A%20%20%20%20%20%20%20%20top%3A%200.0%25%3B%0A%20%20%20%20%20%20%20%20%7D%0A%20%20%20%20%3C/style%3E%0A%20%20%20%20%3Cscript%20src%3D%22https%3A//cdnjs.cloudflare.com/ajax/libs/d3/3.5.5/d3.min.js%22%3E%3C/script%3E%0A%3C/head%3E%0A%3Cbody%3E%20%20%20%20%0A%20%20%20%20%3Ch3%20align%3D%22center%22%20style%3D%22font-size%3A20px%22%3E%EC%84%9C%EC%9A%B8%EC%8B%9C%2017%EB%85%84%20%EA%B5%AC%EB%B3%84%20%EC%99%B8%EA%B5%AD%EC%9D%B8%EC%9D%B8%EA%B5%AC%EB%8C%80%EB%B9%84%20cctv%EC%84%A4%EC%B9%98%EC%9C%A8%3C/h3%3E%0A%20%20%20%20%0A%20%20%20%20%3Cdiv%20class%3D%22folium-map%22%20id%3D%22map_da996591e12d4ef98eb5cc72ca262344%22%20%3E%3C/div%3E%0A%3C/body%3E%0A%3Cscript%3E%20%20%20%20%0A%20%20%20%20%0A%20%20%20%20%0A%20%20%20%20%20%20%20%20var%20bounds%20%3D%20null%3B%0A%20%20%20%20%0A%0A%20%20%20%20var%20map_da996591e12d4ef98eb5cc72ca262344%20%3D%20L.map%28%0A%20%20%20%20%20%20%20%20%27map_da996591e12d4ef98eb5cc72ca262344%27%2C%20%7B%0A%20%20%20%20%20%20%20%20center%3A%20%5B37.581%2C%20126.986%5D%2C%0A%20%20%20%20%20%20%20%20zoom%3A%2011%2C%0A%20%20%20%20%20%20%20%20maxBounds%3A%20bounds%2C%0A%20%20%20%20%20%20%20%20layers%3A%20%5B%5D%2C%0A%20%20%20%20%20%20%20%20worldCopyJump%3A%20false%2C%0A%20%20%20%20%20%20%20%20crs%3A%20L.CRS.EPSG3857%2C%0A%20%20%20%20%20%20%20%20zoomControl%3A%20true%2C%0A%20%20%20%20%20%20%20%20%7D%29%3B%0A%0A%0A%20%20%20%20%0A%20%20%20%20var%20tile_layer_b563d67a960b4402b9629a13014ede48%20%3D%20L.tileLayer%28%0A%20%20%20%20%20%20%20%20%27https%3A//stamen-tiles-%7Bs%7D.a.ssl.fastly.net/toner/%7Bz%7D/%7Bx%7D/%7By%7D.png%27%2C%0A%20%20%20%20%20%20%20%20%7B%0A%20%20%20%20%20%20%20%20%22attribution%22%3A%20null%2C%0A%20%20%20%20%20%20%20%20%22detectRetina%22%3A%20false%2C%0A%20%20%20%20%20%20%20%20%22maxNativeZoom%22%3A%2018%2C%0A%20%20%20%20%20%20%20%20%22maxZoom%22%3A%2018%2C%0A%20%20%20%20%20%20%20%20%22minZoom%22%3A%200%2C%0A%20%20%20%20%20%20%20%20%22noWrap%22%3A%20false%2C%0A%20%20%20%20%20%20%20%20%22opacity%22%3A%201%2C%0A%20%20%20%20%20%20%20%20%22subdomains%22%3A%20%22abc%22%2C%0A%20%20%20%20%20%20%20%20%22tms%22%3A%20false%0A%7D%29.addTo%28map_da996591e12d4ef98eb5cc72ca262344%29%3B%0A%20%20%20%20var%20tile_layer_169e802780f84caebe7af70ab5c8b764%20%3D%20L.tileLayer%28%0A%20%20%20%20%20%20%20%20%27https%3A//cartodb-basemaps-%7Bs%7D.global.ssl.fastly.net/light_all/%7Bz%7D/%7Bx%7D/%7By%7D.png%27%2C%0A%20%20%20%20%20%20%20%20%7B%0A%20%20%20%20%20%20%20%20%22attribution%22%3A%20null%2C%0A%20%20%20%20%20%20%20%20%22detectRetina%22%3A%20false%2C%0A%20%20%20%20%20%20%20%20%22maxNativeZoom%22%3A%2018%2C%0A%20%20%20%20%20%20%20%20%22maxZoom%22%3A%2018%2C%0A%20%20%20%20%20%20%20%20%22minZoom%22%3A%200%2C%0A%20%20%20%20%20%20%20%20%22noWrap%22%3A%20false%2C%0A%20%20%20%20%20%20%20%20%22opacity%22%3A%201%2C%0A%20%20%20%20%20%20%20%20%22subdomains%22%3A%20%22abc%22%2C%0A%20%20%20%20%20%20%20%20%22tms%22%3A%20false%0A%7D%29.addTo%28map_da996591e12d4ef98eb5cc72ca262344%29%3B%0A%20%20%20%20%0A%20%20%20%20%20%20%20%20%20%20%20%20var%20choropleth_d4f43a9d7b8d46d4bc6a0997a44c25ad%20%3D%20L.featureGroup%28%0A%20%20%20%20%20%20%20%20%20%20%20%20%20%20%20%20%29.addTo%28map_da996591e12d4ef98eb5cc72ca262344%29%3B%0A%20%20%20%20%20%20%20%20%0A%20%20%20%20%0A%20%20%20%20%20%20%20%20var%20geo_json_09ac8d44071047499c730b8a1c095b47%20%3D%20L.geoJson%28%0A%20%20%20%20%20%20%20%20%20%20%20%20%7B%22features%22%3A%20%5B%7B%22geometry%22%3A%20%7B%22coordinates%22%3A%20%5B%5B%5B127.11519584981606%2C%2037.557533180704915%5D%2C%20%5B127.16683184366129%2C%2037.57672487388627%5D%2C%20%5B127.18408792330152%2C%2037.55814280369575%5D%2C%20%5B127.16530984307447%2C%2037.54221851258693%5D%2C%20%5B127.14672806823502%2C%2037.51415680680291%5D%2C%20%5B127.12123165719615%2C%2037.52528270089%5D%2C%20%5B127.1116764203608%2C%2037.540669955324965%5D%2C%20%5B127.11519584981606%2C%2037.557533180704915%5D%5D%5D%2C%20%22type%22%3A%20%22Polygon%22%7D%2C%20%22id%22%3A%20%22%5Cuac15%5Cub3d9%5Cuad6c%22%2C%20%22properties%22%3A%20%7B%22base_year%22%3A%20%222013%22%2C%20%22code%22%3A%20%2211250%22%2C%20%22highlight%22%3A%20%7B%7D%2C%20%22name%22%3A%20%22%5Cuac15%5Cub3d9%5Cuad6c%22%2C%20%22name_eng%22%3A%20%22Gangdong-gu%22%2C%20%22style%22%3A%20%7B%22color%22%3A%20%22black%22%2C%20%22fillColor%22%3A%20%22%23bfd3e6%22%2C%20%22fillOpacity%22%3A%200.6%2C%20%22opacity%22%3A%201%2C%20%22weight%22%3A%201%7D%7D%2C%20%22type%22%3A%20%22Feature%22%7D%2C%20%7B%22geometry%22%3A%20%7B%22coordinates%22%3A%20%5B%5B%5B127.0690698130372%2C%2037.522279423505026%5D%2C%20%5B127.10087519791962%2C%2037.524841220167055%5D%2C%20%5B127.1116764203608%2C%2037.540669955324965%5D%2C%20%5B127.12123165719615%2C%2037.52528270089%5D%2C%20%5B127.14672806823502%2C%2037.51415680680291%5D%2C%20%5B127.1634944215765%2C%2037.497445406097484%5D%2C%20%5B127.14206058413274%2C%2037.47089819098501%5D%2C%20%5B127.12440571080893%2C%2037.46240445587048%5D%2C%20%5B127.11117085201238%2C%2037.485708381512445%5D%2C%20%5B127.0719146000724%2C%2037.50224013587669%5D%2C%20%5B127.0690698130372%2C%2037.522279423505026%5D%5D%5D%2C%20%22type%22%3A%20%22Polygon%22%7D%2C%20%22id%22%3A%20%22%5Cuc1a1%5Cud30c%5Cuad6c%22%2C%20%22properties%22%3A%20%7B%22base_year%22%3A%20%222013%22%2C%20%22code%22%3A%20%2211240%22%2C%20%22highlight%22%3A%20%7B%7D%2C%20%22name%22%3A%20%22%5Cuc1a1%5Cud30c%5Cuad6c%22%2C%20%22name_eng%22%3A%20%22Songpa-gu%22%2C%20%22style%22%3A%20%7B%22color%22%3A%20%22black%22%2C%20%22fillColor%22%3A%20%22%23edf8fb%22%2C%20%22fillOpacity%22%3A%200.6%2C%20%22opacity%22%3A%201%2C%20%22weight%22%3A%201%7D%7D%2C%20%22type%22%3A%20%22Feature%22%7D%2C%20%7B%22geometry%22%3A%20%7B%22coordinates%22%3A%20%5B%5B%5B127.05867359288398%2C%2037.52629974922568%5D%2C%20%5B127.0690698130372%2C%2037.522279423505026%5D%2C%20%5B127.0719146000724%2C%2037.50224013587669%5D%2C%20%5B127.11117085201238%2C%2037.485708381512445%5D%2C%20%5B127.12440571080893%2C%2037.46240445587048%5D%2C%20%5B127.09842759318751%2C%2037.45862253857461%5D%2C%20%5B127.08640440578156%2C%2037.472697935184655%5D%2C%20%5B127.0559170481904%2C%2037.4659228914077%5D%2C%20%5B127.03621915098798%2C%2037.48175802427603%5D%2C%20%5B127.01397119667513%2C%2037.52503988289669%5D%2C%20%5B127.02302831890559%2C%2037.53231899582663%5D%2C%20%5B127.05867359288398%2C%2037.52629974922568%5D%5D%5D%2C%20%22type%22%3A%20%22Polygon%22%7D%2C%20%22id%22%3A%20%22%5Cuac15%5Cub0a8%5Cuad6c%22%2C%20%22properties%22%3A%20%7B%22base_year%22%3A%20%222013%22%2C%20%22code%22%3A%20%2211230%22%2C%20%22highlight%22%3A%20%7B%7D%2C%20%22name%22%3A%20%22%5Cuac15%5Cub0a8%5Cuad6c%22%2C%20%22name_eng%22%3A%20%22Gangnam-gu%22%2C%20%22style%22%3A%20%7B%22color%22%3A%20%22black%22%2C%20%22fillColor%22%3A%20%22%238856a7%22%2C%20%22fillOpacity%22%3A%200.6%2C%20%22opacity%22%3A%201%2C%20%22weight%22%3A%201%7D%7D%2C%20%22type%22%3A%20%22Feature%22%7D%2C%20%7B%22geometry%22%3A%20%7B%22coordinates%22%3A%20%5B%5B%5B127.01397119667513%2C%2037.52503988289669%5D%2C%20%5B127.03621915098798%2C%2037.48175802427603%5D%2C%20%5B127.0559170481904%2C%2037.4659228914077%5D%2C%20%5B127.08640440578156%2C%2037.472697935184655%5D%2C%20%5B127.09842759318751%2C%2037.45862253857461%5D%2C%20%5B127.09046928565951%2C%2037.44296826114185%5D%2C%20%5B127.06778107605433%2C%2037.426197424057314%5D%2C%20%5B127.04957232987142%2C%2037.42805836845694%5D%2C%20%5B127.03881782597922%2C%2037.45382039851715%5D%2C%20%5B126.99072073195462%2C%2037.455326143310025%5D%2C%20%5B126.98367668291802%2C%2037.473856492692086%5D%2C%20%5B126.98223807916081%2C%2037.509314966770326%5D%2C%20%5B127.01397119667513%2C%2037.52503988289669%5D%5D%5D%2C%20%22type%22%3A%20%22Polygon%22%7D%2C%20%22id%22%3A%20%22%5Cuc11c%5Cucd08%5Cuad6c%22%2C%20%22properties%22%3A%20%7B%22base_year%22%3A%20%222013%22%2C%20%22code%22%3A%20%2211220%22%2C%20%22highlight%22%3A%20%7B%7D%2C%20%22name%22%3A%20%22%5Cuc11c%5Cucd08%5Cuad6c%22%2C%20%22name_eng%22%3A%20%22Seocho-gu%22%2C%20%22style%22%3A%20%7B%22color%22%3A%20%22black%22%2C%20%22fillColor%22%3A%20%22%23810f7c%22%2C%20%22fillOpacity%22%3A%200.6%2C%20%22opacity%22%3A%201%2C%20%22weight%22%3A%201%7D%7D%2C%20%22type%22%3A%20%22Feature%22%7D%2C%20%7B%22geometry%22%3A%20%7B%22coordinates%22%3A%20%5B%5B%5B126.98367668291802%2C%2037.473856492692086%5D%2C%20%5B126.99072073195462%2C%2037.455326143310025%5D%2C%20%5B126.96520439085143%2C%2037.438249784006246%5D%2C%20%5B126.95000001010182%2C%2037.43613451165719%5D%2C%20%5B126.93084408056525%2C%2037.447382928333994%5D%2C%20%5B126.9167728146601%2C%2037.45490566423789%5D%2C%20%5B126.90156094129895%2C%2037.47753842789901%5D%2C%20%5B126.90531975801812%2C%2037.48218087575429%5D%2C%20%5B126.94922661389508%2C%2037.49125437495649%5D%2C%20%5B126.9725891850662%2C%2037.472561363278125%5D%2C%20%5B126.98367668291802%2C%2037.473856492692086%5D%5D%5D%2C%20%22type%22%3A%20%22Polygon%22%7D%2C%20%22id%22%3A%20%22%5Cuad00%5Cuc545%5Cuad6c%22%2C%20%22properties%22%3A%20%7B%22base_year%22%3A%20%222013%22%2C%20%22code%22%3A%20%2211210%22%2C%20%22highlight%22%3A%20%7B%7D%2C%20%22name%22%3A%20%22%5Cuad00%5Cuc545%5Cuad6c%22%2C%20%22name_eng%22%3A%20%22Gwanak-gu%22%2C%20%22style%22%3A%20%7B%22color%22%3A%20%22black%22%2C%20%22fillColor%22%3A%20%22%23bfd3e6%22%2C%20%22fillOpacity%22%3A%200.6%2C%20%22opacity%22%3A%201%2C%20%22weight%22%3A%201%7D%7D%2C%20%22type%22%3A%20%22Feature%22%7D%2C%20%7B%22geometry%22%3A%20%7B%22coordinates%22%3A%20%5B%5B%5B126.98223807916081%2C%2037.509314966770326%5D%2C%20%5B126.98367668291802%2C%2037.473856492692086%5D%2C%20%5B126.9725891850662%2C%2037.472561363278125%5D%2C%20%5B126.94922661389508%2C%2037.49125437495649%5D%2C%20%5B126.90531975801812%2C%2037.48218087575429%5D%2C%20%5B126.92177893174825%2C%2037.494889877415176%5D%2C%20%5B126.92810628828279%2C%2037.51329595732015%5D%2C%20%5B126.95249990298159%2C%2037.51722500741813%5D%2C%20%5B126.98223807916081%2C%2037.509314966770326%5D%5D%5D%2C%20%22type%22%3A%20%22Polygon%22%7D%2C%20%22id%22%3A%20%22%5Cub3d9%5Cuc791%5Cuad6c%22%2C%20%22properties%22%3A%20%7B%22base_year%22%3A%20%222013%22%2C%20%22code%22%3A%20%2211200%22%2C%20%22highlight%22%3A%20%7B%7D%2C%20%22name%22%3A%20%22%5Cub3d9%5Cuc791%5Cuad6c%22%2C%20%22name_eng%22%3A%20%22Dongjak-gu%22%2C%20%22style%22%3A%20%7B%22color%22%3A%20%22black%22%2C%20%22fillColor%22%3A%20%22%23edf8fb%22%2C%20%22fillOpacity%22%3A%200.6%2C%20%22opacity%22%3A%201%2C%20%22weight%22%3A%201%7D%7D%2C%20%22type%22%3A%20%22Feature%22%7D%2C%20%7B%22geometry%22%3A%20%7B%22coordinates%22%3A%20%5B%5B%5B126.89184663862764%2C%2037.547373974997114%5D%2C%20%5B126.94566733083212%2C%2037.526617542453366%5D%2C%20%5B126.95249990298159%2C%2037.51722500741813%5D%2C%20%5B126.92810628828279%2C%2037.51329595732015%5D%2C%20%5B126.92177893174825%2C%2037.494889877415176%5D%2C%20%5B126.90531975801812%2C%2037.48218087575429%5D%2C%20%5B126.89594776782485%2C%2037.504675281309176%5D%2C%20%5B126.88156402353862%2C%2037.513970034765684%5D%2C%20%5B126.88825757860099%2C%2037.54079733630232%5D%2C%20%5B126.89184663862764%2C%2037.547373974997114%5D%5D%5D%2C%20%22type%22%3A%20%22Polygon%22%7D%2C%20%22id%22%3A%20%22%5Cuc601%5Cub4f1%5Cud3ec%5Cuad6c%22%2C%20%22properties%22%3A%20%7B%22base_year%22%3A%20%222013%22%2C%20%22code%22%3A%20%2211190%22%2C%20%22highlight%22%3A%20%7B%7D%2C%20%22name%22%3A%20%22%5Cuc601%5Cub4f1%5Cud3ec%5Cuad6c%22%2C%20%22name_eng%22%3A%20%22Yeongdeungpo-gu%22%2C%20%22style%22%3A%20%7B%22color%22%3A%20%22black%22%2C%20%22fillColor%22%3A%20%22%23edf8fb%22%2C%20%22fillOpacity%22%3A%200.6%2C%20%22opacity%22%3A%201%2C%20%22weight%22%3A%201%7D%7D%2C%20%22type%22%3A%20%22Feature%22%7D%2C%20%7B%22geometry%22%3A%20%7B%22coordinates%22%3A%20%5B%5B%5B126.90156094129895%2C%2037.47753842789901%5D%2C%20%5B126.9167728146601%2C%2037.45490566423789%5D%2C%20%5B126.93084408056525%2C%2037.447382928333994%5D%2C%20%5B126.9025831711697%2C%2037.434549366349124%5D%2C%20%5B126.87683271502428%2C%2037.482576591607305%5D%2C%20%5B126.90156094129895%2C%2037.47753842789901%5D%5D%5D%2C%20%22type%22%3A%20%22Polygon%22%7D%2C%20%22id%22%3A%20%22%5Cuae08%5Cucc9c%5Cuad6c%22%2C%20%22properties%22%3A%20%7B%22base_year%22%3A%20%222013%22%2C%20%22code%22%3A%20%2211180%22%2C%20%22highlight%22%3A%20%7B%7D%2C%20%22name%22%3A%20%22%5Cuae08%5Cucc9c%5Cuad6c%22%2C%20%22name_eng%22%3A%20%22Geumcheon-gu%22%2C%20%22style%22%3A%20%7B%22color%22%3A%20%22black%22%2C%20%22fillColor%22%3A%20%22%23edf8fb%22%2C%20%22fillOpacity%22%3A%200.6%2C%20%22opacity%22%3A%201%2C%20%22weight%22%3A%201%7D%7D%2C%20%22type%22%3A%20%22Feature%22%7D%2C%20%7B%22geometry%22%3A%20%7B%22coordinates%22%3A%20%5B%5B%5B126.82688081517314%2C%2037.50548972232896%5D%2C%20%5B126.88156402353862%2C%2037.513970034765684%5D%2C%20%5B126.89594776782485%2C%2037.504675281309176%5D%2C%20%5B126.90531975801812%2C%2037.48218087575429%5D%2C%20%5B126.90156094129895%2C%2037.47753842789901%5D%2C%20%5B126.87683271502428%2C%2037.482576591607305%5D%2C%20%5B126.84762676054953%2C%2037.47146723936323%5D%2C%20%5B126.83549485076196%2C%2037.474098236975095%5D%2C%20%5B126.82264796791348%2C%2037.4878476492147%5D%2C%20%5B126.82504736331406%2C%2037.50302612640443%5D%2C%20%5B126.82688081517314%2C%2037.50548972232896%5D%5D%5D%2C%20%22type%22%3A%20%22Polygon%22%7D%2C%20%22id%22%3A%20%22%5Cuad6c%5Cub85c%5Cuad6c%22%2C%20%22properties%22%3A%20%7B%22base_year%22%3A%20%222013%22%2C%20%22code%22%3A%20%2211170%22%2C%20%22highlight%22%3A%20%7B%7D%2C%20%22name%22%3A%20%22%5Cuad6c%5Cub85c%5Cuad6c%22%2C%20%22name_eng%22%3A%20%22Guro-gu%22%2C%20%22style%22%3A%20%7B%22color%22%3A%20%22black%22%2C%20%22fillColor%22%3A%20%22%23edf8fb%22%2C%20%22fillOpacity%22%3A%200.6%2C%20%22opacity%22%3A%201%2C%20%22weight%22%3A%201%7D%7D%2C%20%22type%22%3A%20%22Feature%22%7D%2C%20%7B%22geometry%22%3A%20%7B%22coordinates%22%3A%20%5B%5B%5B126.79575768552907%2C%2037.57881087633202%5D%2C%20%5B126.80702115023597%2C%2037.60123001013228%5D%2C%20%5B126.82251438477105%2C%2037.5880430810082%5D%2C%20%5B126.85984199399667%2C%2037.571847855292745%5D%2C%20%5B126.89184663862764%2C%2037.547373974997114%5D%2C%20%5B126.88825757860099%2C%2037.54079733630232%5D%2C%20%5B126.86637464321238%2C%2037.54859191094823%5D%2C%20%5B126.86610073476395%2C%2037.52699964144669%5D%2C%20%5B126.84257291943153%2C%2037.52373707805596%5D%2C%20%5B126.8242331426722%2C%2037.53788078753248%5D%2C%20%5B126.77324417717703%2C%2037.5459123450554%5D%2C%20%5B126.76979180579352%2C%2037.55139183008809%5D%2C%20%5B126.79575768552907%2C%2037.57881087633202%5D%5D%5D%2C%20%22type%22%3A%20%22Polygon%22%7D%2C%20%22id%22%3A%20%22%5Cuac15%5Cuc11c%5Cuad6c%22%2C%20%22properties%22%3A%20%7B%22base_year%22%3A%20%222013%22%2C%20%22code%22%3A%20%2211160%22%2C%20%22highlight%22%3A%20%7B%7D%2C%20%22name%22%3A%20%22%5Cuac15%5Cuc11c%5Cuad6c%22%2C%20%22name_eng%22%3A%20%22Gangseo-gu%22%2C%20%22style%22%3A%20%7B%22color%22%3A%20%22black%22%2C%20%22fillColor%22%3A%20%22%23bfd3e6%22%2C%20%22fillOpacity%22%3A%200.6%2C%20%22opacity%22%3A%201%2C%20%22weight%22%3A%201%7D%7D%2C%20%22type%22%3A%20%22Feature%22%7D%2C%20%7B%22geometry%22%3A%20%7B%22coordinates%22%3A%20%5B%5B%5B126.8242331426722%2C%2037.53788078753248%5D%2C%20%5B126.84257291943153%2C%2037.52373707805596%5D%2C%20%5B126.86610073476395%2C%2037.52699964144669%5D%2C%20%5B126.86637464321238%2C%2037.54859191094823%5D%2C%20%5B126.88825757860099%2C%2037.54079733630232%5D%2C%20%5B126.88156402353862%2C%2037.513970034765684%5D%2C%20%5B126.82688081517314%2C%2037.50548972232896%5D%2C%20%5B126.8242331426722%2C%2037.53788078753248%5D%5D%5D%2C%20%22type%22%3A%20%22Polygon%22%7D%2C%20%22id%22%3A%20%22%5Cuc591%5Cucc9c%5Cuad6c%22%2C%20%22properties%22%3A%20%7B%22base_year%22%3A%20%222013%22%2C%20%22code%22%3A%20%2211150%22%2C%20%22highlight%22%3A%20%7B%7D%2C%20%22name%22%3A%20%22%5Cuc591%5Cucc9c%5Cuad6c%22%2C%20%22name_eng%22%3A%20%22Yangcheon-gu%22%2C%20%22style%22%3A%20%7B%22color%22%3A%20%22black%22%2C%20%22fillColor%22%3A%20%22%23edf8fb%22%2C%20%22fillOpacity%22%3A%200.6%2C%20%22opacity%22%3A%201%2C%20%22weight%22%3A%201%7D%7D%2C%20%22type%22%3A%20%22Feature%22%7D%2C%20%7B%22geometry%22%3A%20%7B%22coordinates%22%3A%20%5B%5B%5B126.90522065831053%2C%2037.57409700522574%5D%2C%20%5B126.93898161798973%2C%2037.552310003728124%5D%2C%20%5B126.96358226710812%2C%2037.55605635475154%5D%2C%20%5B126.96448570553055%2C%2037.548705692021635%5D%2C%20%5B126.94566733083212%2C%2037.526617542453366%5D%2C%20%5B126.89184663862764%2C%2037.547373974997114%5D%2C%20%5B126.85984199399667%2C%2037.571847855292745%5D%2C%20%5B126.88433284773288%2C%2037.588143322880526%5D%2C%20%5B126.90522065831053%2C%2037.57409700522574%5D%5D%5D%2C%20%22type%22%3A%20%22Polygon%22%7D%2C%20%22id%22%3A%20%22%5Cub9c8%5Cud3ec%5Cuad6c%22%2C%20%22properties%22%3A%20%7B%22base_year%22%3A%20%222013%22%2C%20%22code%22%3A%20%2211140%22%2C%20%22highlight%22%3A%20%7B%7D%2C%20%22name%22%3A%20%22%5Cub9c8%5Cud3ec%5Cuad6c%22%2C%20%22name_eng%22%3A%20%22Mapo-gu%22%2C%20%22style%22%3A%20%7B%22color%22%3A%20%22black%22%2C%20%22fillColor%22%3A%20%22%23edf8fb%22%2C%20%22fillOpacity%22%3A%200.6%2C%20%22opacity%22%3A%201%2C%20%22weight%22%3A%201%7D%7D%2C%20%22type%22%3A%20%22Feature%22%7D%2C%20%7B%22geometry%22%3A%20%7B%22coordinates%22%3A%20%5B%5B%5B126.9524752030572%2C%2037.60508692737045%5D%2C%20%5B126.95565425846463%2C%2037.576080790881456%5D%2C%20%5B126.96873633279075%2C%2037.56313604690827%5D%2C%20%5B126.96358226710812%2C%2037.55605635475154%5D%2C%20%5B126.93898161798973%2C%2037.552310003728124%5D%2C%20%5B126.90522065831053%2C%2037.57409700522574%5D%2C%20%5B126.9524752030572%2C%2037.60508692737045%5D%5D%5D%2C%20%22type%22%3A%20%22Polygon%22%7D%2C%20%22id%22%3A%20%22%5Cuc11c%5Cub300%5Cubb38%5Cuad6c%22%2C%20%22properties%22%3A%20%7B%22base_year%22%3A%20%222013%22%2C%20%22code%22%3A%20%2211130%22%2C%20%22highlight%22%3A%20%7B%7D%2C%20%22name%22%3A%20%22%5Cuc11c%5Cub300%5Cubb38%5Cuad6c%22%2C%20%22name_eng%22%3A%20%22Seodaemun-gu%22%2C%20%22style%22%3A%20%7B%22color%22%3A%20%22black%22%2C%20%22fillColor%22%3A%20%22%23edf8fb%22%2C%20%22fillOpacity%22%3A%200.6%2C%20%22opacity%22%3A%201%2C%20%22weight%22%3A%201%7D%7D%2C%20%22type%22%3A%20%22Feature%22%7D%2C%20%7B%22geometry%22%3A%20%7B%22coordinates%22%3A%20%5B%5B%5B126.9738864128702%2C%2037.62949634786888%5D%2C%20%5B126.95427017006129%2C%2037.622033431339425%5D%2C%20%5B126.9524752030572%2C%2037.60508692737045%5D%2C%20%5B126.90522065831053%2C%2037.57409700522574%5D%2C%20%5B126.88433284773288%2C%2037.588143322880526%5D%2C%20%5B126.90396681003595%2C%2037.59227403419942%5D%2C%20%5B126.90303066177668%2C%2037.609977911401344%5D%2C%20%5B126.91455481429648%2C%2037.64150050996935%5D%2C%20%5B126.956473797387%2C%2037.652480737339445%5D%2C%20%5B126.9738864128702%2C%2037.62949634786888%5D%5D%5D%2C%20%22type%22%3A%20%22Polygon%22%7D%2C%20%22id%22%3A%20%22%5Cuc740%5Cud3c9%5Cuad6c%22%2C%20%22properties%22%3A%20%7B%22base_year%22%3A%20%222013%22%2C%20%22code%22%3A%20%2211120%22%2C%20%22highlight%22%3A%20%7B%7D%2C%20%22name%22%3A%20%22%5Cuc740%5Cud3c9%5Cuad6c%22%2C%20%22name_eng%22%3A%20%22Eunpyeong-gu%22%2C%20%22style%22%3A%20%7B%22color%22%3A%20%22black%22%2C%20%22fillColor%22%3A%20%22%239ebcda%22%2C%20%22fillOpacity%22%3A%200.6%2C%20%22opacity%22%3A%201%2C%20%22weight%22%3A%201%7D%7D%2C%20%22type%22%3A%20%22Feature%22%7D%2C%20%7B%22geometry%22%3A%20%7B%22coordinates%22%3A%20%5B%5B%5B127.0838752703195%2C%2037.69359534202034%5D%2C%20%5B127.09706391309695%2C%2037.686383719372294%5D%2C%20%5B127.09440766298717%2C%2037.64713490473045%5D%2C%20%5B127.11326795855199%2C%2037.639622905315925%5D%2C%20%5B127.10782277688129%2C%2037.61804244241069%5D%2C%20%5B127.07351243825278%2C%2037.61283660342313%5D%2C%20%5B127.05209373568619%2C%2037.62164065487782%5D%2C%20%5B127.04358800895609%2C%2037.62848931298715%5D%2C%20%5B127.05800075220091%2C%2037.64318263878276%5D%2C%20%5B127.05288479710485%2C%2037.68423857084347%5D%2C%20%5B127.0838752703195%2C%2037.69359534202034%5D%5D%5D%2C%20%22type%22%3A%20%22Polygon%22%7D%2C%20%22id%22%3A%20%22%5Cub178%5Cuc6d0%5Cuad6c%22%2C%20%22properties%22%3A%20%7B%22base_year%22%3A%20%222013%22%2C%20%22code%22%3A%20%2211110%22%2C%20%22highlight%22%3A%20%7B%7D%2C%20%22name%22%3A%20%22%5Cub178%5Cuc6d0%5Cuad6c%22%2C%20%22name_eng%22%3A%20%22Nowon-gu%22%2C%20%22style%22%3A%20%7B%22color%22%3A%20%22black%22%2C%20%22fillColor%22%3A%20%22%23edf8fb%22%2C%20%22fillOpacity%22%3A%200.6%2C%20%22opacity%22%3A%201%2C%20%22weight%22%3A%201%7D%7D%2C%20%22type%22%3A%20%22Feature%22%7D%2C%20%7B%22geometry%22%3A%20%7B%22coordinates%22%3A%20%5B%5B%5B127.05288479710485%2C%2037.68423857084347%5D%2C%20%5B127.05800075220091%2C%2037.64318263878276%5D%2C%20%5B127.04358800895609%2C%2037.62848931298715%5D%2C%20%5B127.01465935892466%2C%2037.64943687496812%5D%2C%20%5B127.02062116141389%2C%2037.667173575971205%5D%2C%20%5B127.01039666042071%2C%2037.681894589603594%5D%2C%20%5B127.01795099203432%2C%2037.69824412775662%5D%2C%20%5B127.05288479710485%2C%2037.68423857084347%5D%5D%5D%2C%20%22type%22%3A%20%22Polygon%22%7D%2C%20%22id%22%3A%20%22%5Cub3c4%5Cubd09%5Cuad6c%22%2C%20%22properties%22%3A%20%7B%22base_year%22%3A%20%222013%22%2C%20%22code%22%3A%20%2211100%22%2C%20%22highlight%22%3A%20%7B%7D%2C%20%22name%22%3A%20%22%5Cub3c4%5Cubd09%5Cuad6c%22%2C%20%22name_eng%22%3A%20%22Dobong-gu%22%2C%20%22style%22%3A%20%7B%22color%22%3A%20%22black%22%2C%20%22fillColor%22%3A%20%22%23bfd3e6%22%2C%20%22fillOpacity%22%3A%200.6%2C%20%22opacity%22%3A%201%2C%20%22weight%22%3A%201%7D%7D%2C%20%22type%22%3A%20%22Feature%22%7D%2C%20%7B%22geometry%22%3A%20%7B%22coordinates%22%3A%20%5B%5B%5B126.99383903424%2C%2037.676681761199085%5D%2C%20%5B127.01039666042071%2C%2037.681894589603594%5D%2C%20%5B127.02062116141389%2C%2037.667173575971205%5D%2C%20%5B127.01465935892466%2C%2037.64943687496812%5D%2C%20%5B127.04358800895609%2C%2037.62848931298715%5D%2C%20%5B127.05209373568619%2C%2037.62164065487782%5D%2C%20%5B127.03892400992301%2C%2037.609715611023816%5D%2C%20%5B127.0128154749523%2C%2037.613652243470256%5D%2C%20%5B126.98672705513869%2C%2037.63377641288196%5D%2C%20%5B126.9817452676551%2C%2037.65209769387776%5D%2C%20%5B126.99383903424%2C%2037.676681761199085%5D%5D%5D%2C%20%22type%22%3A%20%22Polygon%22%7D%2C%20%22id%22%3A%20%22%5Cuac15%5Cubd81%5Cuad6c%22%2C%20%22properties%22%3A%20%7B%22base_year%22%3A%20%222013%22%2C%20%22code%22%3A%20%2211090%22%2C%20%22highlight%22%3A%20%7B%7D%2C%20%22name%22%3A%20%22%5Cuac15%5Cubd81%5Cuad6c%22%2C%20%22name_eng%22%3A%20%22Gangbuk-gu%22%2C%20%22style%22%3A%20%7B%22color%22%3A%20%22black%22%2C%20%22fillColor%22%3A%20%22%23edf8fb%22%2C%20%22fillOpacity%22%3A%200.6%2C%20%22opacity%22%3A%201%2C%20%22weight%22%3A%201%7D%7D%2C%20%22type%22%3A%20%22Feature%22%7D%2C%20%7B%22geometry%22%3A%20%7B%22coordinates%22%3A%20%5B%5B%5B126.977175406416%2C%2037.62859715400388%5D%2C%20%5B126.98672705513869%2C%2037.63377641288196%5D%2C%20%5B127.0128154749523%2C%2037.613652243470256%5D%2C%20%5B127.03892400992301%2C%2037.609715611023816%5D%2C%20%5B127.05209373568619%2C%2037.62164065487782%5D%2C%20%5B127.07351243825278%2C%2037.61283660342313%5D%2C%20%5B127.07382707099227%2C%2037.60401928986419%5D%2C%20%5B127.042705222094%2C%2037.59239437593391%5D%2C%20%5B127.02527254528003%2C%2037.57524616245249%5D%2C%20%5B126.99348293358314%2C%2037.588565457216156%5D%2C%20%5B126.98879865992384%2C%2037.6118927319756%5D%2C%20%5B126.977175406416%2C%2037.62859715400388%5D%5D%5D%2C%20%22type%22%3A%20%22Polygon%22%7D%2C%20%22id%22%3A%20%22%5Cuc131%5Cubd81%5Cuad6c%22%2C%20%22properties%22%3A%20%7B%22base_year%22%3A%20%222013%22%2C%20%22code%22%3A%20%2211080%22%2C%20%22highlight%22%3A%20%7B%7D%2C%20%22name%22%3A%20%22%5Cuc131%5Cubd81%5Cuad6c%22%2C%20%22name_eng%22%3A%20%22Seongbuk-gu%22%2C%20%22style%22%3A%20%7B%22color%22%3A%20%22black%22%2C%20%22fillColor%22%3A%20%22%23edf8fb%22%2C%20%22fillOpacity%22%3A%200.6%2C%20%22opacity%22%3A%201%2C%20%22weight%22%3A%201%7D%7D%2C%20%22type%22%3A%20%22Feature%22%7D%2C%20%7B%22geometry%22%3A%20%7B%22coordinates%22%3A%20%5B%5B%5B127.07351243825278%2C%2037.61283660342313%5D%2C%20%5B127.10782277688129%2C%2037.61804244241069%5D%2C%20%5B127.1201246020114%2C%2037.60178457598188%5D%2C%20%5B127.10304174249214%2C%2037.57076342290955%5D%2C%20%5B127.08068541280403%2C%2037.56906425519017%5D%2C%20%5B127.07382707099227%2C%2037.60401928986419%5D%2C%20%5B127.07351243825278%2C%2037.61283660342313%5D%5D%5D%2C%20%22type%22%3A%20%22Polygon%22%7D%2C%20%22id%22%3A%20%22%5Cuc911%5Cub791%5Cuad6c%22%2C%20%22properties%22%3A%20%7B%22base_year%22%3A%20%222013%22%2C%20%22code%22%3A%20%2211070%22%2C%20%22highlight%22%3A%20%7B%7D%2C%20%22name%22%3A%20%22%5Cuc911%5Cub791%5Cuad6c%22%2C%20%22name_eng%22%3A%20%22Jungnang-gu%22%2C%20%22style%22%3A%20%7B%22color%22%3A%20%22black%22%2C%20%22fillColor%22%3A%20%22%23edf8fb%22%2C%20%22fillOpacity%22%3A%200.6%2C%20%22opacity%22%3A%201%2C%20%22weight%22%3A%201%7D%7D%2C%20%22type%22%3A%20%22Feature%22%7D%2C%20%7B%22geometry%22%3A%20%7B%22coordinates%22%3A%20%5B%5B%5B127.02527254528003%2C%2037.57524616245249%5D%2C%20%5B127.042705222094%2C%2037.59239437593391%5D%2C%20%5B127.07382707099227%2C%2037.60401928986419%5D%2C%20%5B127.08068541280403%2C%2037.56906425519017%5D%2C%20%5B127.07421053024362%2C%2037.55724769712085%5D%2C%20%5B127.05005601081567%2C%2037.567577612590846%5D%2C%20%5B127.02547266349976%2C%2037.568943552237734%5D%2C%20%5B127.02527254528003%2C%2037.57524616245249%5D%5D%5D%2C%20%22type%22%3A%20%22Polygon%22%7D%2C%20%22id%22%3A%20%22%5Cub3d9%5Cub300%5Cubb38%5Cuad6c%22%2C%20%22properties%22%3A%20%7B%22base_year%22%3A%20%222013%22%2C%20%22code%22%3A%20%2211060%22%2C%20%22highlight%22%3A%20%7B%7D%2C%20%22name%22%3A%20%22%5Cub3d9%5Cub300%5Cubb38%5Cuad6c%22%2C%20%22name_eng%22%3A%20%22Dongdaemun-gu%22%2C%20%22style%22%3A%20%7B%22color%22%3A%20%22black%22%2C%20%22fillColor%22%3A%20%22%23edf8fb%22%2C%20%22fillOpacity%22%3A%200.6%2C%20%22opacity%22%3A%201%2C%20%22weight%22%3A%201%7D%7D%2C%20%22type%22%3A%20%22Feature%22%7D%2C%20%7B%22geometry%22%3A%20%7B%22coordinates%22%3A%20%5B%5B%5B127.08068541280403%2C%2037.56906425519017%5D%2C%20%5B127.10304174249214%2C%2037.57076342290955%5D%2C%20%5B127.11519584981606%2C%2037.557533180704915%5D%2C%20%5B127.1116764203608%2C%2037.540669955324965%5D%2C%20%5B127.10087519791962%2C%2037.524841220167055%5D%2C%20%5B127.0690698130372%2C%2037.522279423505026%5D%2C%20%5B127.05867359288398%2C%2037.52629974922568%5D%2C%20%5B127.07421053024362%2C%2037.55724769712085%5D%2C%20%5B127.08068541280403%2C%2037.56906425519017%5D%5D%5D%2C%20%22type%22%3A%20%22Polygon%22%7D%2C%20%22id%22%3A%20%22%5Cuad11%5Cuc9c4%5Cuad6c%22%2C%20%22properties%22%3A%20%7B%22base_year%22%3A%20%222013%22%2C%20%22code%22%3A%20%2211050%22%2C%20%22highlight%22%3A%20%7B%7D%2C%20%22name%22%3A%20%22%5Cuad11%5Cuc9c4%5Cuad6c%22%2C%20%22name_eng%22%3A%20%22Gwangjin-gu%22%2C%20%22style%22%3A%20%7B%22color%22%3A%20%22black%22%2C%20%22fillColor%22%3A%20%22%23bfd3e6%22%2C%20%22fillOpacity%22%3A%200.6%2C%20%22opacity%22%3A%201%2C%20%22weight%22%3A%201%7D%7D%2C%20%22type%22%3A%20%22Feature%22%7D%2C%20%7B%22geometry%22%3A%20%7B%22coordinates%22%3A%20%5B%5B%5B127.02547266349976%2C%2037.568943552237734%5D%2C%20%5B127.05005601081567%2C%2037.567577612590846%5D%2C%20%5B127.07421053024362%2C%2037.55724769712085%5D%2C%20%5B127.05867359288398%2C%2037.52629974922568%5D%2C%20%5B127.02302831890559%2C%2037.53231899582663%5D%2C%20%5B127.01070894177482%2C%2037.54118048964762%5D%2C%20%5B127.02547266349976%2C%2037.568943552237734%5D%5D%5D%2C%20%22type%22%3A%20%22Polygon%22%7D%2C%20%22id%22%3A%20%22%5Cuc131%5Cub3d9%5Cuad6c%22%2C%20%22properties%22%3A%20%7B%22base_year%22%3A%20%222013%22%2C%20%22code%22%3A%20%2211040%22%2C%20%22highlight%22%3A%20%7B%7D%2C%20%22name%22%3A%20%22%5Cuc131%5Cub3d9%5Cuad6c%22%2C%20%22name_eng%22%3A%20%22Seongdong-gu%22%2C%20%22style%22%3A%20%7B%22color%22%3A%20%22black%22%2C%20%22fillColor%22%3A%20%22%239ebcda%22%2C%20%22fillOpacity%22%3A%200.6%2C%20%22opacity%22%3A%201%2C%20%22weight%22%3A%201%7D%7D%2C%20%22type%22%3A%20%22Feature%22%7D%2C%20%7B%22geometry%22%3A%20%7B%22coordinates%22%3A%20%5B%5B%5B127.01070894177482%2C%2037.54118048964762%5D%2C%20%5B127.02302831890559%2C%2037.53231899582663%5D%2C%20%5B127.01397119667513%2C%2037.52503988289669%5D%2C%20%5B126.98223807916081%2C%2037.509314966770326%5D%2C%20%5B126.95249990298159%2C%2037.51722500741813%5D%2C%20%5B126.94566733083212%2C%2037.526617542453366%5D%2C%20%5B126.96448570553055%2C%2037.548705692021635%5D%2C%20%5B126.98752996903328%2C%2037.55094818807139%5D%2C%20%5B127.01070894177482%2C%2037.54118048964762%5D%5D%5D%2C%20%22type%22%3A%20%22Polygon%22%7D%2C%20%22id%22%3A%20%22%5Cuc6a9%5Cuc0b0%5Cuad6c%22%2C%20%22properties%22%3A%20%7B%22base_year%22%3A%20%222013%22%2C%20%22code%22%3A%20%2211030%22%2C%20%22highlight%22%3A%20%7B%7D%2C%20%22name%22%3A%20%22%5Cuc6a9%5Cuc0b0%5Cuad6c%22%2C%20%22name_eng%22%3A%20%22Yongsan-gu%22%2C%20%22style%22%3A%20%7B%22color%22%3A%20%22black%22%2C%20%22fillColor%22%3A%20%22%23edf8fb%22%2C%20%22fillOpacity%22%3A%200.6%2C%20%22opacity%22%3A%201%2C%20%22weight%22%3A%201%7D%7D%2C%20%22type%22%3A%20%22Feature%22%7D%2C%20%7B%22geometry%22%3A%20%7B%22coordinates%22%3A%20%5B%5B%5B127.02547266349976%2C%2037.568943552237734%5D%2C%20%5B127.01070894177482%2C%2037.54118048964762%5D%2C%20%5B126.98752996903328%2C%2037.55094818807139%5D%2C%20%5B126.96448570553055%2C%2037.548705692021635%5D%2C%20%5B126.96358226710812%2C%2037.55605635475154%5D%2C%20%5B126.96873633279075%2C%2037.56313604690827%5D%2C%20%5B127.02547266349976%2C%2037.568943552237734%5D%5D%5D%2C%20%22type%22%3A%20%22Polygon%22%7D%2C%20%22id%22%3A%20%22%5Cuc911%5Cuad6c%22%2C%20%22properties%22%3A%20%7B%22base_year%22%3A%20%222013%22%2C%20%22code%22%3A%20%2211020%22%2C%20%22highlight%22%3A%20%7B%7D%2C%20%22name%22%3A%20%22%5Cuc911%5Cuad6c%22%2C%20%22name_eng%22%3A%20%22Jung-gu%22%2C%20%22style%22%3A%20%7B%22color%22%3A%20%22black%22%2C%20%22fillColor%22%3A%20%22%23edf8fb%22%2C%20%22fillOpacity%22%3A%200.6%2C%20%22opacity%22%3A%201%2C%20%22weight%22%3A%201%7D%7D%2C%20%22type%22%3A%20%22Feature%22%7D%2C%20%7B%22geometry%22%3A%20%7B%22coordinates%22%3A%20%5B%5B%5B126.9738864128702%2C%2037.62949634786888%5D%2C%20%5B126.977175406416%2C%2037.62859715400388%5D%2C%20%5B126.98879865992384%2C%2037.6118927319756%5D%2C%20%5B126.99348293358314%2C%2037.588565457216156%5D%2C%20%5B127.02527254528003%2C%2037.57524616245249%5D%2C%20%5B127.02547266349976%2C%2037.568943552237734%5D%2C%20%5B126.96873633279075%2C%2037.56313604690827%5D%2C%20%5B126.95565425846463%2C%2037.576080790881456%5D%2C%20%5B126.9524752030572%2C%2037.60508692737045%5D%2C%20%5B126.95427017006129%2C%2037.622033431339425%5D%2C%20%5B126.9738864128702%2C%2037.62949634786888%5D%5D%5D%2C%20%22type%22%3A%20%22Polygon%22%7D%2C%20%22id%22%3A%20%22%5Cuc885%5Cub85c%5Cuad6c%22%2C%20%22properties%22%3A%20%7B%22base_year%22%3A%20%222013%22%2C%20%22code%22%3A%20%2211010%22%2C%20%22highlight%22%3A%20%7B%7D%2C%20%22name%22%3A%20%22%5Cuc885%5Cub85c%5Cuad6c%22%2C%20%22name_eng%22%3A%20%22Jongno-gu%22%2C%20%22style%22%3A%20%7B%22color%22%3A%20%22black%22%2C%20%22fillColor%22%3A%20%22%23edf8fb%22%2C%20%22fillOpacity%22%3A%200.6%2C%20%22opacity%22%3A%201%2C%20%22weight%22%3A%201%7D%7D%2C%20%22type%22%3A%20%22Feature%22%7D%5D%2C%20%22type%22%3A%20%22FeatureCollection%22%7D%2C%0A%20%20%20%20%20%20%20%20%20%20%20%20%7B%0A%20%20%20%20%20%20%20%20%20%20%20%20%7D%0A%20%20%20%20%20%20%20%20%29.addTo%28choropleth_d4f43a9d7b8d46d4bc6a0997a44c25ad%20%29%3B%0A%20%20%20%20%20%20%20%20geo_json_09ac8d44071047499c730b8a1c095b47.setStyle%28function%28feature%29%20%7Breturn%20feature.properties.style%3B%7D%29%3B%0A%20%20%20%20%20%20%20%20%0A%20%20%20%20%0A%20%20%20%20var%20color_map_5d81d14143134448abdfd0fd81458e05%20%3D%20%7B%7D%3B%0A%0A%20%20%20%20%0A%20%20%20%20color_map_5d81d14143134448abdfd0fd81458e05.color%20%3D%20d3.scale.threshold%28%29%0A%20%20%20%20%20%20%20%20%20%20%20%20%20%20.domain%28%5B0.17%2C%200.22605210420841684%2C%200.2821042084168337%2C%200.3381563126252505%2C%200.39420841683366736%2C%200.45026052104208414%2C%200.506312625250501%2C%200.5623647294589178%2C%200.6184168336673347%2C%200.6744689378757516%2C%200.7305210420841683%2C%200.7865731462925851%2C%200.842625250501002%2C%200.8986773547094189%2C%200.9547294589178357%2C%201.0107815631262524%2C%201.0668336673346692%2C%201.1228857715430862%2C%201.178937875751503%2C%201.2349899799599198%2C%201.2910420841683365%2C%201.3470941883767535%2C%201.40314629258517%2C%201.459198396793587%2C%201.5152505010020039%2C%201.5713026052104209%2C%201.6273547094188376%2C%201.6834068136272544%2C%201.7394589178356712%2C%201.7955110220440882%2C%201.8515631262525047%2C%201.9076152304609217%2C%201.9636673346693385%2C%202.0197194388777557%2C%202.0757715430861725%2C%202.1318236472945893%2C%202.187875751503006%2C%202.2439278557114224%2C%202.2999799599198396%2C%202.3560320641282564%2C%202.412084168336673%2C%202.46813627254509%2C%202.524188376753507%2C%202.580240480961924%2C%202.6362925851703403%2C%202.692344689378757%2C%202.7483967935871743%2C%202.804448897795591%2C%202.860501002004008%2C%202.9165531062124246%2C%202.972605210420842%2C%203.0286573146292586%2C%203.0847094188376754%2C%203.1407615230460917%2C%203.196813627254509%2C%203.2528657314629257%2C%203.3089178356713425%2C%203.3649699398797592%2C%203.4210220440881765%2C%203.4770741482965932%2C%203.5331262525050096%2C%203.5891783567134263%2C%203.6452304609218436%2C%203.7012825651302603%2C%203.757334669338677%2C%203.813386773547094%2C%203.869438877755511%2C%203.925490981963928%2C%203.9815430861723446%2C%204.037595190380761%2C%204.093647294589179%2C%204.149699398797595%2C%204.205751503006012%2C%204.2618036072144285%2C%204.317855711422845%2C%204.373907815631262%2C%204.429959919839679%2C%204.4860120240480965%2C%204.542064128256513%2C%204.59811623246493%2C%204.654168336673346%2C%204.710220440881763%2C%204.76627254509018%2C%204.822324649298596%2C%204.878376753507014%2C%204.934428857715431%2C%204.990480961923848%2C%205.046533066132264%2C%205.102585170340681%2C%205.158637274549098%2C%205.214689378757514%2C%205.270741482965931%2C%205.326793587174349%2C%205.382845691382766%2C%205.438897795591182%2C%205.494949899799599%2C%205.551002004008016%2C%205.607054108216432%2C%205.663106212424849%2C%205.719158316633266%2C%205.775210420841684%2C%205.8312625250501%2C%205.887314629258517%2C%205.943366733466934%2C%205.999418837675351%2C%206.055470941883767%2C%206.111523046092183%2C%206.167575150300601%2C%206.223627254509018%2C%206.279679358717435%2C%206.335731462925851%2C%206.391783567134269%2C%206.447835671342685%2C%206.503887775551101%2C%206.5599398797595185%2C%206.615991983967935%2C%206.672044088176353%2C%206.728096192384769%2C%206.7841482965931865%2C%206.840200400801603%2C%206.896252505010019%2C%206.952304609218436%2C%207.008356713426853%2C%207.06440881763527%2C%207.120460921843687%2C%207.176513026052104%2C%207.232565130260521%2C%207.288617234468938%2C%207.344669338677354%2C%207.400721442885771%2C%207.456773547094188%2C%207.512825651302604%2C%207.568877755511022%2C%207.624929859719439%2C%207.680981963927856%2C%207.737034068136272%2C%207.793086172344689%2C%207.849138276553106%2C%207.905190380761522%2C%207.961242484969939%2C%208.017294589178357%2C%208.073346693386775%2C%208.12939879759519%2C%208.185450901803607%2C%208.241503006012024%2C%208.29755511022044%2C%208.353607214428857%2C%208.409659318637274%2C%208.46571142284569%2C%208.521763527054107%2C%208.577815631262524%2C%208.633867735470941%2C%208.689919839679359%2C%208.745971943887776%2C%208.802024048096193%2C%208.858076152304609%2C%208.914128256513026%2C%208.970180360721443%2C%209.02623246492986%2C%209.082284569138276%2C%209.138336673346693%2C%209.19438877755511%2C%209.250440881763526%2C%209.306492985971943%2C%209.36254509018036%2C%209.418597194388777%2C%209.474649298597193%2C%209.53070140280561%2C%209.586753507014029%2C%209.642805611222444%2C%209.698857715430862%2C%209.754909819639279%2C%209.810961923847696%2C%209.867014028056111%2C%209.923066132264529%2C%209.979118236472946%2C%2010.035170340681361%2C%2010.091222444889778%2C%2010.147274549098196%2C%2010.203326653306613%2C%2010.259378757515028%2C%2010.315430861723446%2C%2010.371482965931863%2C%2010.427535070140282%2C%2010.483587174348697%2C%2010.539639278557114%2C%2010.595691382765532%2C%2010.651743486973947%2C%2010.707795591182364%2C%2010.763847695390782%2C%2010.819899799599199%2C%2010.875951903807614%2C%2010.932004008016031%2C%2010.988056112224449%2C%2011.044108216432864%2C%2011.100160320641281%2C%2011.156212424849699%2C%2011.212264529058116%2C%2011.268316633266531%2C%2011.324368737474948%2C%2011.380420841683367%2C%2011.436472945891783%2C%2011.4925250501002%2C%2011.548577154308617%2C%2011.604629258517035%2C%2011.66068136272545%2C%2011.716733466933867%2C%2011.772785571142284%2C%2011.828837675350702%2C%2011.884889779559117%2C%2011.940941883767534%2C%2011.996993987975952%2C%2012.053046092184367%2C%2012.109098196392784%2C%2012.165150300601201%2C%2012.22120240480962%2C%2012.277254509018036%2C%2012.333306613226453%2C%2012.38935871743487%2C%2012.445410821643286%2C%2012.501462925851703%2C%2012.55751503006012%2C%2012.613567134268537%2C%2012.669619238476953%2C%2012.72567134268537%2C%2012.781723446893787%2C%2012.837775551102203%2C%2012.89382765531062%2C%2012.949879759519037%2C%2013.005931863727454%2C%2013.06198396793587%2C%2013.118036072144289%2C%2013.174088176352706%2C%2013.230140280561121%2C%2013.286192384769539%2C%2013.342244488977956%2C%2013.398296593186373%2C%2013.454348697394789%2C%2013.510400801603206%2C%2013.566452905811623%2C%2013.622505010020038%2C%2013.678557114228456%2C%2013.734609218436873%2C%2013.79066132264529%2C%2013.846713426853706%2C%2013.902765531062123%2C%2013.95881763527054%2C%2014.014869739478959%2C%2014.070921843687374%2C%2014.126973947895792%2C%2014.183026052104209%2C%2014.239078156312624%2C%2014.295130260521042%2C%2014.351182364729459%2C%2014.407234468937876%2C%2014.463286573146291%2C%2014.519338677354709%2C%2014.575390781563126%2C%2014.631442885771541%2C%2014.687494989979959%2C%2014.743547094188376%2C%2014.799599198396793%2C%2014.855651302605208%2C%2014.911703406813627%2C%2014.967755511022045%2C%2015.02380761523046%2C%2015.079859719438877%2C%2015.135911823647294%2C%2015.191963927855712%2C%2015.248016032064127%2C%2015.304068136272544%2C%2015.360120240480962%2C%2015.416172344689379%2C%2015.472224448897794%2C%2015.528276553106211%2C%2015.584328657314629%2C%2015.640380761523044%2C%2015.696432865731461%2C%2015.752484969939879%2C%2015.808537074148298%2C%2015.864589178356713%2C%2015.92064128256513%2C%2015.976693386773547%2C%2016.032745490981963%2C%2016.088797595190382%2C%2016.144849699398797%2C%2016.200901803607216%2C%2016.25695390781563%2C%2016.31300601202405%2C%2016.369058116232466%2C%2016.42511022044088%2C%2016.4811623246493%2C%2016.537214428857716%2C%2016.59326653306613%2C%2016.64931863727455%2C%2016.705370741482966%2C%2016.76142284569138%2C%2016.8174749498998%2C%2016.873527054108216%2C%2016.92957915831663%2C%2016.98563126252505%2C%2017.041683366733466%2C%2017.097735470941885%2C%2017.153787575150304%2C%2017.20983967935872%2C%2017.265891783567138%2C%2017.321943887775554%2C%2017.37799599198397%2C%2017.434048096192388%2C%2017.490100200400803%2C%2017.54615230460922%2C%2017.602204408817638%2C%2017.658256513026053%2C%2017.71430861723447%2C%2017.770360721442888%2C%2017.826412825651303%2C%2017.882464929859722%2C%2017.938517034068138%2C%2017.994569138276553%2C%2018.050621242484972%2C%2018.106673346693388%2C%2018.162725450901803%2C%2018.218777555110222%2C%2018.274829659318637%2C%2018.330881763527053%2C%2018.386933867735472%2C%2018.442985971943887%2C%2018.499038076152306%2C%2018.55509018036072%2C%2018.611142284569137%2C%2018.667194388777556%2C%2018.72324649298597%2C%2018.779298597194387%2C%2018.835350701402806%2C%2018.89140280561122%2C%2018.94745490981964%2C%2019.00350701402806%2C%2019.059559118236475%2C%2019.11561122244489%2C%2019.17166332665331%2C%2019.227715430861725%2C%2019.283767535070144%2C%2019.33981963927856%2C%2019.395871743486975%2C%2019.451923847695394%2C%2019.50797595190381%2C%2019.564028056112225%2C%2019.620080160320644%2C%2019.67613226452906%2C%2019.732184368737475%2C%2019.788236472945893%2C%2019.84428857715431%2C%2019.900340681362724%2C%2019.956392785571143%2C%2020.01244488977956%2C%2020.068496993987978%2C%2020.124549098196393%2C%2020.18060120240481%2C%2020.236653306613228%2C%2020.292705410821643%2C%2020.34875751503006%2C%2020.404809619238478%2C%2020.460861723446893%2C%2020.51691382765531%2C%2020.572965931863727%2C%2020.629018036072143%2C%2020.685070140280565%2C%2020.74112224448898%2C%2020.797174348697396%2C%2020.853226452905815%2C%2020.90927855711423%2C%2020.965330661322646%2C%2021.021382765531065%2C%2021.07743486973948%2C%2021.133486973947896%2C%2021.189539078156315%2C%2021.24559118236473%2C%2021.301643286573146%2C%2021.357695390781565%2C%2021.41374749498998%2C%2021.4697995991984%2C%2021.525851703406815%2C%2021.58190380761523%2C%2021.63795591182365%2C%2021.694008016032065%2C%2021.75006012024048%2C%2021.8061122244489%2C%2021.862164328657315%2C%2021.91821643286573%2C%2021.97426853707415%2C%2022.030320641282565%2C%2022.086372745490984%2C%2022.1424248496994%2C%2022.198476953907814%2C%2022.254529058116233%2C%2022.31058116232465%2C%2022.366633266533064%2C%2022.422685370741483%2C%2022.4787374749499%2C%2022.534789579158318%2C%2022.590841683366737%2C%2022.646893787575152%2C%2022.702945891783568%2C%2022.758997995991987%2C%2022.815050100200402%2C%2022.87110220440882%2C%2022.927154308617236%2C%2022.983206412825652%2C%2023.03925851703407%2C%2023.095310621242486%2C%2023.151362725450902%2C%2023.20741482965932%2C%2023.263466933867736%2C%2023.31951903807615%2C%2023.37557114228457%2C%2023.431623246492986%2C%2023.487675350701405%2C%2023.54372745490982%2C%2023.599779559118236%2C%2023.655831663326655%2C%2023.71188376753507%2C%2023.767935871743486%2C%2023.823987975951905%2C%2023.88004008016032%2C%2023.936092184368736%2C%2023.992144288577155%2C%2024.04819639278557%2C%2024.104248496993986%2C%2024.160300601202405%2C%2024.21635270541082%2C%2024.272404809619243%2C%2024.328456913827658%2C%2024.384509018036074%2C%2024.440561122244493%2C%2024.496613226452908%2C%2024.552665330661323%2C%2024.608717434869742%2C%2024.664769539078158%2C%2024.720821643286573%2C%2024.776873747494992%2C%2024.832925851703408%2C%2024.888977955911823%2C%2024.945030060120242%2C%2025.001082164328658%2C%2025.057134268537077%2C%2025.113186372745492%2C%2025.169238476953907%2C%2025.225290581162326%2C%2025.281342685370742%2C%2025.337394789579157%2C%2025.393446893787576%2C%2025.449498997995992%2C%2025.505551102204407%2C%2025.561603206412826%2C%2025.61765531062124%2C%2025.67370741482966%2C%2025.729759519038076%2C%2025.78581162324649%2C%2025.84186372745491%2C%2025.897915831663326%2C%2025.95396793587174%2C%2026.01002004008016%2C%2026.06607214428858%2C%2026.122124248496995%2C%2026.178176352705414%2C%2026.23422845691383%2C%2026.290280561122245%2C%2026.346332665330664%2C%2026.40238476953908%2C%2026.458436873747498%2C%2026.514488977955914%2C%2026.57054108216433%2C%2026.626593186372748%2C%2026.682645290581164%2C%2026.73869739478958%2C%2026.794749498997998%2C%2026.850801603206413%2C%2026.90685370741483%2C%2026.962905811623248%2C%2027.018957915831663%2C%2027.07501002004008%2C%2027.131062124248498%2C%2027.187114228456913%2C%2027.243166332665332%2C%2027.299218436873748%2C%2027.355270541082163%2C%2027.411322645290582%2C%2027.467374749498997%2C%2027.523426853707413%2C%2027.579478957915832%2C%2027.635531062124247%2C%2027.691583166332663%2C%2027.747635270541082%2C%2027.803687374749497%2C%2027.85973947895792%2C%2027.915791583166335%2C%2027.97184368737475%2C%2028.02789579158317%2C%2028.083947895791585%2C%2028.14%5D%29%0A%20%20%20%20%20%20%20%20%20%20%20%20%20%20.range%28%5B%27%23edf8fbff%27%2C%20%27%23edf8fbff%27%2C%20%27%23edf8fbff%27%2C%20%27%23edf8fbff%27%2C%20%27%23edf8fbff%27%2C%20%27%23edf8fbff%27%2C%20%27%23edf8fbff%27%2C%20%27%23edf8fbff%27%2C%20%27%23edf8fbff%27%2C%20%27%23edf8fbff%27%2C%20%27%23edf8fbff%27%2C%20%27%23edf8fbff%27%2C%20%27%23edf8fbff%27%2C%20%27%23edf8fbff%27%2C%20%27%23edf8fbff%27%2C%20%27%23edf8fbff%27%2C%20%27%23edf8fbff%27%2C%20%27%23edf8fbff%27%2C%20%27%23edf8fbff%27%2C%20%27%23edf8fbff%27%2C%20%27%23edf8fbff%27%2C%20%27%23edf8fbff%27%2C%20%27%23edf8fbff%27%2C%20%27%23edf8fbff%27%2C%20%27%23edf8fbff%27%2C%20%27%23edf8fbff%27%2C%20%27%23edf8fbff%27%2C%20%27%23edf8fbff%27%2C%20%27%23edf8fbff%27%2C%20%27%23edf8fbff%27%2C%20%27%23edf8fbff%27%2C%20%27%23edf8fbff%27%2C%20%27%23edf8fbff%27%2C%20%27%23edf8fbff%27%2C%20%27%23edf8fbff%27%2C%20%27%23edf8fbff%27%2C%20%27%23edf8fbff%27%2C%20%27%23edf8fbff%27%2C%20%27%23edf8fbff%27%2C%20%27%23edf8fbff%27%2C%20%27%23edf8fbff%27%2C%20%27%23edf8fbff%27%2C%20%27%23edf8fbff%27%2C%20%27%23edf8fbff%27%2C%20%27%23edf8fbff%27%2C%20%27%23edf8fbff%27%2C%20%27%23edf8fbff%27%2C%20%27%23edf8fbff%27%2C%20%27%23edf8fbff%27%2C%20%27%23edf8fbff%27%2C%20%27%23edf8fbff%27%2C%20%27%23edf8fbff%27%2C%20%27%23edf8fbff%27%2C%20%27%23edf8fbff%27%2C%20%27%23edf8fbff%27%2C%20%27%23edf8fbff%27%2C%20%27%23edf8fbff%27%2C%20%27%23edf8fbff%27%2C%20%27%23edf8fbff%27%2C%20%27%23edf8fbff%27%2C%20%27%23edf8fbff%27%2C%20%27%23edf8fbff%27%2C%20%27%23edf8fbff%27%2C%20%27%23edf8fbff%27%2C%20%27%23edf8fbff%27%2C%20%27%23edf8fbff%27%2C%20%27%23edf8fbff%27%2C%20%27%23edf8fbff%27%2C%20%27%23edf8fbff%27%2C%20%27%23edf8fbff%27%2C%20%27%23edf8fbff%27%2C%20%27%23edf8fbff%27%2C%20%27%23edf8fbff%27%2C%20%27%23edf8fbff%27%2C%20%27%23edf8fbff%27%2C%20%27%23edf8fbff%27%2C%20%27%23edf8fbff%27%2C%20%27%23edf8fbff%27%2C%20%27%23edf8fbff%27%2C%20%27%23edf8fbff%27%2C%20%27%23edf8fbff%27%2C%20%27%23edf8fbff%27%2C%20%27%23edf8fbff%27%2C%20%27%23edf8fbff%27%2C%20%27%23bfd3e6ff%27%2C%20%27%23bfd3e6ff%27%2C%20%27%23bfd3e6ff%27%2C%20%27%23bfd3e6ff%27%2C%20%27%23bfd3e6ff%27%2C%20%27%23bfd3e6ff%27%2C%20%27%23bfd3e6ff%27%2C%20%27%23bfd3e6ff%27%2C%20%27%23bfd3e6ff%27%2C%20%27%23bfd3e6ff%27%2C%20%27%23bfd3e6ff%27%2C%20%27%23bfd3e6ff%27%2C%20%27%23bfd3e6ff%27%2C%20%27%23bfd3e6ff%27%2C%20%27%23bfd3e6ff%27%2C%20%27%23bfd3e6ff%27%2C%20%27%23bfd3e6ff%27%2C%20%27%23bfd3e6ff%27%2C%20%27%23bfd3e6ff%27%2C%20%27%23bfd3e6ff%27%2C%20%27%23bfd3e6ff%27%2C%20%27%23bfd3e6ff%27%2C%20%27%23bfd3e6ff%27%2C%20%27%23bfd3e6ff%27%2C%20%27%23bfd3e6ff%27%2C%20%27%23bfd3e6ff%27%2C%20%27%23bfd3e6ff%27%2C%20%27%23bfd3e6ff%27%2C%20%27%23bfd3e6ff%27%2C%20%27%23bfd3e6ff%27%2C%20%27%23bfd3e6ff%27%2C%20%27%23bfd3e6ff%27%2C%20%27%23bfd3e6ff%27%2C%20%27%23bfd3e6ff%27%2C%20%27%23bfd3e6ff%27%2C%20%27%23bfd3e6ff%27%2C%20%27%23bfd3e6ff%27%2C%20%27%23bfd3e6ff%27%2C%20%27%23bfd3e6ff%27%2C%20%27%23bfd3e6ff%27%2C%20%27%23bfd3e6ff%27%2C%20%27%23bfd3e6ff%27%2C%20%27%23bfd3e6ff%27%2C%20%27%23bfd3e6ff%27%2C%20%27%23bfd3e6ff%27%2C%20%27%23bfd3e6ff%27%2C%20%27%23bfd3e6ff%27%2C%20%27%23bfd3e6ff%27%2C%20%27%23bfd3e6ff%27%2C%20%27%23bfd3e6ff%27%2C%20%27%23bfd3e6ff%27%2C%20%27%23bfd3e6ff%27%2C%20%27%23bfd3e6ff%27%2C%20%27%23bfd3e6ff%27%2C%20%27%23bfd3e6ff%27%2C%20%27%23bfd3e6ff%27%2C%20%27%23bfd3e6ff%27%2C%20%27%23bfd3e6ff%27%2C%20%27%23bfd3e6ff%27%2C%20%27%23bfd3e6ff%27%2C%20%27%23bfd3e6ff%27%2C%20%27%23bfd3e6ff%27%2C%20%27%23bfd3e6ff%27%2C%20%27%23bfd3e6ff%27%2C%20%27%23bfd3e6ff%27%2C%20%27%23bfd3e6ff%27%2C%20%27%23bfd3e6ff%27%2C%20%27%23bfd3e6ff%27%2C%20%27%23bfd3e6ff%27%2C%20%27%23bfd3e6ff%27%2C%20%27%23bfd3e6ff%27%2C%20%27%23bfd3e6ff%27%2C%20%27%23bfd3e6ff%27%2C%20%27%23bfd3e6ff%27%2C%20%27%23bfd3e6ff%27%2C%20%27%23bfd3e6ff%27%2C%20%27%23bfd3e6ff%27%2C%20%27%23bfd3e6ff%27%2C%20%27%23bfd3e6ff%27%2C%20%27%23bfd3e6ff%27%2C%20%27%23bfd3e6ff%27%2C%20%27%23bfd3e6ff%27%2C%20%27%23bfd3e6ff%27%2C%20%27%239ebcdaff%27%2C%20%27%239ebcdaff%27%2C%20%27%239ebcdaff%27%2C%20%27%239ebcdaff%27%2C%20%27%239ebcdaff%27%2C%20%27%239ebcdaff%27%2C%20%27%239ebcdaff%27%2C%20%27%239ebcdaff%27%2C%20%27%239ebcdaff%27%2C%20%27%239ebcdaff%27%2C%20%27%239ebcdaff%27%2C%20%27%239ebcdaff%27%2C%20%27%239ebcdaff%27%2C%20%27%239ebcdaff%27%2C%20%27%239ebcdaff%27%2C%20%27%239ebcdaff%27%2C%20%27%239ebcdaff%27%2C%20%27%239ebcdaff%27%2C%20%27%239ebcdaff%27%2C%20%27%239ebcdaff%27%2C%20%27%239ebcdaff%27%2C%20%27%239ebcdaff%27%2C%20%27%239ebcdaff%27%2C%20%27%239ebcdaff%27%2C%20%27%239ebcdaff%27%2C%20%27%239ebcdaff%27%2C%20%27%239ebcdaff%27%2C%20%27%239ebcdaff%27%2C%20%27%239ebcdaff%27%2C%20%27%239ebcdaff%27%2C%20%27%239ebcdaff%27%2C%20%27%239ebcdaff%27%2C%20%27%239ebcdaff%27%2C%20%27%239ebcdaff%27%2C%20%27%239ebcdaff%27%2C%20%27%239ebcdaff%27%2C%20%27%239ebcdaff%27%2C%20%27%239ebcdaff%27%2C%20%27%239ebcdaff%27%2C%20%27%239ebcdaff%27%2C%20%27%239ebcdaff%27%2C%20%27%239ebcdaff%27%2C%20%27%239ebcdaff%27%2C%20%27%239ebcdaff%27%2C%20%27%239ebcdaff%27%2C%20%27%239ebcdaff%27%2C%20%27%239ebcdaff%27%2C%20%27%239ebcdaff%27%2C%20%27%239ebcdaff%27%2C%20%27%239ebcdaff%27%2C%20%27%239ebcdaff%27%2C%20%27%239ebcdaff%27%2C%20%27%239ebcdaff%27%2C%20%27%239ebcdaff%27%2C%20%27%239ebcdaff%27%2C%20%27%239ebcdaff%27%2C%20%27%239ebcdaff%27%2C%20%27%239ebcdaff%27%2C%20%27%239ebcdaff%27%2C%20%27%239ebcdaff%27%2C%20%27%239ebcdaff%27%2C%20%27%239ebcdaff%27%2C%20%27%239ebcdaff%27%2C%20%27%239ebcdaff%27%2C%20%27%239ebcdaff%27%2C%20%27%239ebcdaff%27%2C%20%27%239ebcdaff%27%2C%20%27%239ebcdaff%27%2C%20%27%239ebcdaff%27%2C%20%27%239ebcdaff%27%2C%20%27%239ebcdaff%27%2C%20%27%239ebcdaff%27%2C%20%27%239ebcdaff%27%2C%20%27%239ebcdaff%27%2C%20%27%239ebcdaff%27%2C%20%27%239ebcdaff%27%2C%20%27%239ebcdaff%27%2C%20%27%239ebcdaff%27%2C%20%27%239ebcdaff%27%2C%20%27%239ebcdaff%27%2C%20%27%239ebcdaff%27%2C%20%27%239ebcdaff%27%2C%20%27%239ebcdaff%27%2C%20%27%238c96c6ff%27%2C%20%27%238c96c6ff%27%2C%20%27%238c96c6ff%27%2C%20%27%238c96c6ff%27%2C%20%27%238c96c6ff%27%2C%20%27%238c96c6ff%27%2C%20%27%238c96c6ff%27%2C%20%27%238c96c6ff%27%2C%20%27%238c96c6ff%27%2C%20%27%238c96c6ff%27%2C%20%27%238c96c6ff%27%2C%20%27%238c96c6ff%27%2C%20%27%238c96c6ff%27%2C%20%27%238c96c6ff%27%2C%20%27%238c96c6ff%27%2C%20%27%238c96c6ff%27%2C%20%27%238c96c6ff%27%2C%20%27%238c96c6ff%27%2C%20%27%238c96c6ff%27%2C%20%27%238c96c6ff%27%2C%20%27%238c96c6ff%27%2C%20%27%238c96c6ff%27%2C%20%27%238c96c6ff%27%2C%20%27%238c96c6ff%27%2C%20%27%238c96c6ff%27%2C%20%27%238c96c6ff%27%2C%20%27%238c96c6ff%27%2C%20%27%238c96c6ff%27%2C%20%27%238c96c6ff%27%2C%20%27%238c96c6ff%27%2C%20%27%238c96c6ff%27%2C%20%27%238c96c6ff%27%2C%20%27%238c96c6ff%27%2C%20%27%238c96c6ff%27%2C%20%27%238c96c6ff%27%2C%20%27%238c96c6ff%27%2C%20%27%238c96c6ff%27%2C%20%27%238c96c6ff%27%2C%20%27%238c96c6ff%27%2C%20%27%238c96c6ff%27%2C%20%27%238c96c6ff%27%2C%20%27%238c96c6ff%27%2C%20%27%238c96c6ff%27%2C%20%27%238c96c6ff%27%2C%20%27%238c96c6ff%27%2C%20%27%238c96c6ff%27%2C%20%27%238c96c6ff%27%2C%20%27%238c96c6ff%27%2C%20%27%238c96c6ff%27%2C%20%27%238c96c6ff%27%2C%20%27%238c96c6ff%27%2C%20%27%238c96c6ff%27%2C%20%27%238c96c6ff%27%2C%20%27%238c96c6ff%27%2C%20%27%238c96c6ff%27%2C%20%27%238c96c6ff%27%2C%20%27%238c96c6ff%27%2C%20%27%238c96c6ff%27%2C%20%27%238c96c6ff%27%2C%20%27%238c96c6ff%27%2C%20%27%238c96c6ff%27%2C%20%27%238c96c6ff%27%2C%20%27%238c96c6ff%27%2C%20%27%238c96c6ff%27%2C%20%27%238c96c6ff%27%2C%20%27%238c96c6ff%27%2C%20%27%238c96c6ff%27%2C%20%27%238c96c6ff%27%2C%20%27%238c96c6ff%27%2C%20%27%238c96c6ff%27%2C%20%27%238c96c6ff%27%2C%20%27%238c96c6ff%27%2C%20%27%238c96c6ff%27%2C%20%27%238c96c6ff%27%2C%20%27%238c96c6ff%27%2C%20%27%238c96c6ff%27%2C%20%27%238c96c6ff%27%2C%20%27%238c96c6ff%27%2C%20%27%238c96c6ff%27%2C%20%27%238c96c6ff%27%2C%20%27%238c96c6ff%27%2C%20%27%238c96c6ff%27%2C%20%27%238c96c6ff%27%2C%20%27%238856a7ff%27%2C%20%27%238856a7ff%27%2C%20%27%238856a7ff%27%2C%20%27%238856a7ff%27%2C%20%27%238856a7ff%27%2C%20%27%238856a7ff%27%2C%20%27%238856a7ff%27%2C%20%27%238856a7ff%27%2C%20%27%238856a7ff%27%2C%20%27%238856a7ff%27%2C%20%27%238856a7ff%27%2C%20%27%238856a7ff%27%2C%20%27%238856a7ff%27%2C%20%27%238856a7ff%27%2C%20%27%238856a7ff%27%2C%20%27%238856a7ff%27%2C%20%27%238856a7ff%27%2C%20%27%238856a7ff%27%2C%20%27%238856a7ff%27%2C%20%27%238856a7ff%27%2C%20%27%238856a7ff%27%2C%20%27%238856a7ff%27%2C%20%27%238856a7ff%27%2C%20%27%238856a7ff%27%2C%20%27%238856a7ff%27%2C%20%27%238856a7ff%27%2C%20%27%238856a7ff%27%2C%20%27%238856a7ff%27%2C%20%27%238856a7ff%27%2C%20%27%238856a7ff%27%2C%20%27%238856a7ff%27%2C%20%27%238856a7ff%27%2C%20%27%238856a7ff%27%2C%20%27%238856a7ff%27%2C%20%27%238856a7ff%27%2C%20%27%238856a7ff%27%2C%20%27%238856a7ff%27%2C%20%27%238856a7ff%27%2C%20%27%238856a7ff%27%2C%20%27%238856a7ff%27%2C%20%27%238856a7ff%27%2C%20%27%238856a7ff%27%2C%20%27%238856a7ff%27%2C%20%27%238856a7ff%27%2C%20%27%238856a7ff%27%2C%20%27%238856a7ff%27%2C%20%27%238856a7ff%27%2C%20%27%238856a7ff%27%2C%20%27%238856a7ff%27%2C%20%27%238856a7ff%27%2C%20%27%238856a7ff%27%2C%20%27%238856a7ff%27%2C%20%27%238856a7ff%27%2C%20%27%238856a7ff%27%2C%20%27%238856a7ff%27%2C%20%27%238856a7ff%27%2C%20%27%238856a7ff%27%2C%20%27%238856a7ff%27%2C%20%27%238856a7ff%27%2C%20%27%238856a7ff%27%2C%20%27%238856a7ff%27%2C%20%27%238856a7ff%27%2C%20%27%238856a7ff%27%2C%20%27%238856a7ff%27%2C%20%27%238856a7ff%27%2C%20%27%238856a7ff%27%2C%20%27%238856a7ff%27%2C%20%27%238856a7ff%27%2C%20%27%238856a7ff%27%2C%20%27%238856a7ff%27%2C%20%27%238856a7ff%27%2C%20%27%238856a7ff%27%2C%20%27%238856a7ff%27%2C%20%27%238856a7ff%27%2C%20%27%238856a7ff%27%2C%20%27%238856a7ff%27%2C%20%27%238856a7ff%27%2C%20%27%238856a7ff%27%2C%20%27%238856a7ff%27%2C%20%27%238856a7ff%27%2C%20%27%238856a7ff%27%2C%20%27%238856a7ff%27%2C%20%27%238856a7ff%27%2C%20%27%23810f7cff%27%2C%20%27%23810f7cff%27%2C%20%27%23810f7cff%27%2C%20%27%23810f7cff%27%2C%20%27%23810f7cff%27%2C%20%27%23810f7cff%27%2C%20%27%23810f7cff%27%2C%20%27%23810f7cff%27%2C%20%27%23810f7cff%27%2C%20%27%23810f7cff%27%2C%20%27%23810f7cff%27%2C%20%27%23810f7cff%27%2C%20%27%23810f7cff%27%2C%20%27%23810f7cff%27%2C%20%27%23810f7cff%27%2C%20%27%23810f7cff%27%2C%20%27%23810f7cff%27%2C%20%27%23810f7cff%27%2C%20%27%23810f7cff%27%2C%20%27%23810f7cff%27%2C%20%27%23810f7cff%27%2C%20%27%23810f7cff%27%2C%20%27%23810f7cff%27%2C%20%27%23810f7cff%27%2C%20%27%23810f7cff%27%2C%20%27%23810f7cff%27%2C%20%27%23810f7cff%27%2C%20%27%23810f7cff%27%2C%20%27%23810f7cff%27%2C%20%27%23810f7cff%27%2C%20%27%23810f7cff%27%2C%20%27%23810f7cff%27%2C%20%27%23810f7cff%27%2C%20%27%23810f7cff%27%2C%20%27%23810f7cff%27%2C%20%27%23810f7cff%27%2C%20%27%23810f7cff%27%2C%20%27%23810f7cff%27%2C%20%27%23810f7cff%27%2C%20%27%23810f7cff%27%2C%20%27%23810f7cff%27%2C%20%27%23810f7cff%27%2C%20%27%23810f7cff%27%2C%20%27%23810f7cff%27%2C%20%27%23810f7cff%27%2C%20%27%23810f7cff%27%2C%20%27%23810f7cff%27%2C%20%27%23810f7cff%27%2C%20%27%23810f7cff%27%2C%20%27%23810f7cff%27%2C%20%27%23810f7cff%27%2C%20%27%23810f7cff%27%2C%20%27%23810f7cff%27%2C%20%27%23810f7cff%27%2C%20%27%23810f7cff%27%2C%20%27%23810f7cff%27%2C%20%27%23810f7cff%27%2C%20%27%23810f7cff%27%2C%20%27%23810f7cff%27%2C%20%27%23810f7cff%27%2C%20%27%23810f7cff%27%2C%20%27%23810f7cff%27%2C%20%27%23810f7cff%27%2C%20%27%23810f7cff%27%2C%20%27%23810f7cff%27%2C%20%27%23810f7cff%27%2C%20%27%23810f7cff%27%2C%20%27%23810f7cff%27%2C%20%27%23810f7cff%27%2C%20%27%23810f7cff%27%2C%20%27%23810f7cff%27%2C%20%27%23810f7cff%27%2C%20%27%23810f7cff%27%2C%20%27%23810f7cff%27%2C%20%27%23810f7cff%27%2C%20%27%23810f7cff%27%2C%20%27%23810f7cff%27%2C%20%27%23810f7cff%27%2C%20%27%23810f7cff%27%2C%20%27%23810f7cff%27%2C%20%27%23810f7cff%27%2C%20%27%23810f7cff%27%2C%20%27%23810f7cff%27%2C%20%27%23810f7cff%27%5D%29%3B%0A%20%20%20%20%0A%0A%20%20%20%20color_map_5d81d14143134448abdfd0fd81458e05.x%20%3D%20d3.scale.linear%28%29%0A%20%20%20%20%20%20%20%20%20%20%20%20%20%20.domain%28%5B0.17%2C%2028.14%5D%29%0A%20%20%20%20%20%20%20%20%20%20%20%20%20%20.range%28%5B0%2C%20400%5D%29%3B%0A%0A%20%20%20%20color_map_5d81d14143134448abdfd0fd81458e05.legend%20%3D%20L.control%28%7Bposition%3A%20%27topright%27%7D%29%3B%0A%20%20%20%20color_map_5d81d14143134448abdfd0fd81458e05.legend.onAdd%20%3D%20function%20%28map%29%20%7Bvar%20div%20%3D%20L.DomUtil.create%28%27div%27%2C%20%27legend%27%29%3B%20return%20div%7D%3B%0A%20%20%20%20color_map_5d81d14143134448abdfd0fd81458e05.legend.addTo%28map_da996591e12d4ef98eb5cc72ca262344%29%3B%0A%0A%20%20%20%20color_map_5d81d14143134448abdfd0fd81458e05.xAxis%20%3D%20d3.svg.axis%28%29%0A%20%20%20%20%20%20%20%20.scale%28color_map_5d81d14143134448abdfd0fd81458e05.x%29%0A%20%20%20%20%20%20%20%20.orient%28%22top%22%29%0A%20%20%20%20%20%20%20%20.tickSize%281%29%0A%20%20%20%20%20%20%20%20.tickValues%28%5B0.17%2C%204.831666666666666%2C%209.493333333333332%2C%2014.155%2C%2018.816666666666666%2C%2023.47833333333333%2C%2028.14%5D%29%3B%0A%0A%20%20%20%20color_map_5d81d14143134448abdfd0fd81458e05.svg%20%3D%20d3.select%28%22.legend.leaflet-control%22%29.append%28%22svg%22%29%0A%20%20%20%20%20%20%20%20.attr%28%22id%22%2C%20%27legend%27%29%0A%20%20%20%20%20%20%20%20.attr%28%22width%22%2C%20450%29%0A%20%20%20%20%20%20%20%20.attr%28%22height%22%2C%2040%29%3B%0A%0A%20%20%20%20color_map_5d81d14143134448abdfd0fd81458e05.g%20%3D%20color_map_5d81d14143134448abdfd0fd81458e05.svg.append%28%22g%22%29%0A%20%20%20%20%20%20%20%20.attr%28%22class%22%2C%20%22key%22%29%0A%20%20%20%20%20%20%20%20.attr%28%22transform%22%2C%20%22translate%2825%2C16%29%22%29%3B%0A%0A%20%20%20%20color_map_5d81d14143134448abdfd0fd81458e05.g.selectAll%28%22rect%22%29%0A%20%20%20%20%20%20%20%20.data%28color_map_5d81d14143134448abdfd0fd81458e05.color.range%28%29.map%28function%28d%2C%20i%29%20%7B%0A%20%20%20%20%20%20%20%20%20%20return%20%7B%0A%20%20%20%20%20%20%20%20%20%20%20%20x0%3A%20i%20%3F%20color_map_5d81d14143134448abdfd0fd81458e05.x%28color_map_5d81d14143134448abdfd0fd81458e05.color.domain%28%29%5Bi%20-%201%5D%29%20%3A%20color_map_5d81d14143134448abdfd0fd81458e05.x.range%28%29%5B0%5D%2C%0A%20%20%20%20%20%20%20%20%20%20%20%20x1%3A%20i%20%3C%20color_map_5d81d14143134448abdfd0fd81458e05.color.domain%28%29.length%20%3F%20color_map_5d81d14143134448abdfd0fd81458e05.x%28color_map_5d81d14143134448abdfd0fd81458e05.color.domain%28%29%5Bi%5D%29%20%3A%20color_map_5d81d14143134448abdfd0fd81458e05.x.range%28%29%5B1%5D%2C%0A%20%20%20%20%20%20%20%20%20%20%20%20z%3A%20d%0A%20%20%20%20%20%20%20%20%20%20%7D%3B%0A%20%20%20%20%20%20%20%20%7D%29%29%0A%20%20%20%20%20%20.enter%28%29.append%28%22rect%22%29%0A%20%20%20%20%20%20%20%20.attr%28%22height%22%2C%2010%29%0A%20%20%20%20%20%20%20%20.attr%28%22x%22%2C%20function%28d%29%20%7B%20return%20d.x0%3B%20%7D%29%0A%20%20%20%20%20%20%20%20.attr%28%22width%22%2C%20function%28d%29%20%7B%20return%20d.x1%20-%20d.x0%3B%20%7D%29%0A%20%20%20%20%20%20%20%20.style%28%22fill%22%2C%20function%28d%29%20%7B%20return%20d.z%3B%20%7D%29%3B%0A%0A%20%20%20%20color_map_5d81d14143134448abdfd0fd81458e05.g.call%28color_map_5d81d14143134448abdfd0fd81458e05.xAxis%29.append%28%22text%22%29%0A%20%20%20%20%20%20%20%20.attr%28%22class%22%2C%20%22caption%22%29%0A%20%20%20%20%20%20%20%20.attr%28%22y%22%2C%2021%29%0A%20%20%20%20%20%20%20%20.text%28%2717%EB%85%84%EC%99%B8%EA%B5%AD%EC%9D%B8cctv%EC%84%A4%EC%B9%98%EC%9C%A8%27%29%3B%0A%3C/script%3E onload=\"this.contentDocument.open();this.contentDocument.write(    decodeURIComponent(this.getAttribute('data-html')));this.contentDocument.close();\" allowfullscreen webkitallowfullscreen mozallowfullscreen></iframe></div></div>"
            ],
            "text/plain": [
              "<folium.folium.Map at 0x7f13976b44d0>"
            ]
          },
          "metadata": {},
          "execution_count": 65
        }
      ]
    },
    {
      "cell_type": "code",
      "metadata": {
        "colab": {
          "base_uri": "https://localhost:8080/",
          "height": 711
        },
        "id": "49i7V3tVMhNq",
        "outputId": "8b4ad11f-2a00-4f80-dee6-27adfad5c0b3"
      },
      "source": [
        "center = [37.581, 126.986]    # 서울 중심부 위도, 경도\n",
        "map = folium.Map(location=center, zoom_start=11, tiles='Stamen Toner')\n",
        "\n",
        "folium.TileLayer('cartodbpositron').add_to(map)\n",
        "folium.Choropleth(\n",
        "    geo_data=geo_data,\n",
        "    data = spsc,\n",
        "    columns = ('자치구','20년외국인cctv설치율'),\n",
        "    key_on = 'feature.id',    # geo_data 의 지역명\n",
        "    fill_color = 'BuPu',\n",
        "    legend_name = '20년외국인cctv설치율'\n",
        ").add_to(map)\n",
        "title = '<h3 align=\"center\" style=\"font-size:20px\">서울시 20년 구별 외국인인구대비 cctv설치율</h3>'\n",
        "map.get_root().html.add_child(folium.Element(title))\n",
        "map"
      ],
      "execution_count": 64,
      "outputs": [
        {
          "output_type": "execute_result",
          "data": {
            "text/html": [
              "<div style=\"width:100%;\"><div style=\"position:relative;width:100%;height:0;padding-bottom:60%;\"><span style=\"color:#565656\">Make this Notebook Trusted to load map: File -> Trust Notebook</span><iframe src=\"about:blank\" style=\"position:absolute;width:100%;height:100%;left:0;top:0;border:none !important;\" data-html=%3C%21DOCTYPE%20html%3E%0A%3Chead%3E%20%20%20%20%0A%20%20%20%20%3Cmeta%20http-equiv%3D%22content-type%22%20content%3D%22text/html%3B%20charset%3DUTF-8%22%20/%3E%0A%20%20%20%20%3Cscript%3EL_PREFER_CANVAS%3Dfalse%3B%20L_NO_TOUCH%3Dfalse%3B%20L_DISABLE_3D%3Dfalse%3B%3C/script%3E%0A%20%20%20%20%3Cscript%20src%3D%22https%3A//cdn.jsdelivr.net/npm/leaflet%401.4.0/dist/leaflet.js%22%3E%3C/script%3E%0A%20%20%20%20%3Cscript%20src%3D%22https%3A//code.jquery.com/jquery-1.12.4.min.js%22%3E%3C/script%3E%0A%20%20%20%20%3Cscript%20src%3D%22https%3A//maxcdn.bootstrapcdn.com/bootstrap/3.2.0/js/bootstrap.min.js%22%3E%3C/script%3E%0A%20%20%20%20%3Cscript%20src%3D%22https%3A//cdnjs.cloudflare.com/ajax/libs/Leaflet.awesome-markers/2.0.2/leaflet.awesome-markers.js%22%3E%3C/script%3E%0A%20%20%20%20%3Clink%20rel%3D%22stylesheet%22%20href%3D%22https%3A//cdn.jsdelivr.net/npm/leaflet%401.4.0/dist/leaflet.css%22/%3E%0A%20%20%20%20%3Clink%20rel%3D%22stylesheet%22%20href%3D%22https%3A//maxcdn.bootstrapcdn.com/bootstrap/3.2.0/css/bootstrap.min.css%22/%3E%0A%20%20%20%20%3Clink%20rel%3D%22stylesheet%22%20href%3D%22https%3A//maxcdn.bootstrapcdn.com/bootstrap/3.2.0/css/bootstrap-theme.min.css%22/%3E%0A%20%20%20%20%3Clink%20rel%3D%22stylesheet%22%20href%3D%22https%3A//maxcdn.bootstrapcdn.com/font-awesome/4.6.3/css/font-awesome.min.css%22/%3E%0A%20%20%20%20%3Clink%20rel%3D%22stylesheet%22%20href%3D%22https%3A//cdnjs.cloudflare.com/ajax/libs/Leaflet.awesome-markers/2.0.2/leaflet.awesome-markers.css%22/%3E%0A%20%20%20%20%3Clink%20rel%3D%22stylesheet%22%20href%3D%22https%3A//rawcdn.githack.com/python-visualization/folium/master/folium/templates/leaflet.awesome.rotate.css%22/%3E%0A%20%20%20%20%3Cstyle%3Ehtml%2C%20body%20%7Bwidth%3A%20100%25%3Bheight%3A%20100%25%3Bmargin%3A%200%3Bpadding%3A%200%3B%7D%3C/style%3E%0A%20%20%20%20%3Cstyle%3E%23map%20%7Bposition%3Aabsolute%3Btop%3A0%3Bbottom%3A0%3Bright%3A0%3Bleft%3A0%3B%7D%3C/style%3E%0A%20%20%20%20%0A%20%20%20%20%3Cmeta%20name%3D%22viewport%22%20content%3D%22width%3Ddevice-width%2C%0A%20%20%20%20%20%20%20%20initial-scale%3D1.0%2C%20maximum-scale%3D1.0%2C%20user-scalable%3Dno%22%20/%3E%0A%20%20%20%20%3Cstyle%3E%23map_ae16ba8d640c4f308b5960297ac35ec5%20%7B%0A%20%20%20%20%20%20%20%20position%3A%20relative%3B%0A%20%20%20%20%20%20%20%20width%3A%20100.0%25%3B%0A%20%20%20%20%20%20%20%20height%3A%20100.0%25%3B%0A%20%20%20%20%20%20%20%20left%3A%200.0%25%3B%0A%20%20%20%20%20%20%20%20top%3A%200.0%25%3B%0A%20%20%20%20%20%20%20%20%7D%0A%20%20%20%20%3C/style%3E%0A%20%20%20%20%3Cscript%20src%3D%22https%3A//cdnjs.cloudflare.com/ajax/libs/d3/3.5.5/d3.min.js%22%3E%3C/script%3E%0A%3C/head%3E%0A%3Cbody%3E%20%20%20%20%0A%20%20%20%20%3Ch3%20align%3D%22center%22%20style%3D%22font-size%3A20px%22%3E%EC%84%9C%EC%9A%B8%EC%8B%9C%2020%EB%85%84%20%EA%B5%AC%EB%B3%84%20%EC%99%B8%EA%B5%AD%EC%9D%B8%EC%9D%B8%EA%B5%AC%EB%8C%80%EB%B9%84%20cctv%EC%84%A4%EC%B9%98%EC%9C%A8%3C/h3%3E%0A%20%20%20%20%0A%20%20%20%20%3Cdiv%20class%3D%22folium-map%22%20id%3D%22map_ae16ba8d640c4f308b5960297ac35ec5%22%20%3E%3C/div%3E%0A%3C/body%3E%0A%3Cscript%3E%20%20%20%20%0A%20%20%20%20%0A%20%20%20%20%0A%20%20%20%20%20%20%20%20var%20bounds%20%3D%20null%3B%0A%20%20%20%20%0A%0A%20%20%20%20var%20map_ae16ba8d640c4f308b5960297ac35ec5%20%3D%20L.map%28%0A%20%20%20%20%20%20%20%20%27map_ae16ba8d640c4f308b5960297ac35ec5%27%2C%20%7B%0A%20%20%20%20%20%20%20%20center%3A%20%5B37.581%2C%20126.986%5D%2C%0A%20%20%20%20%20%20%20%20zoom%3A%2011%2C%0A%20%20%20%20%20%20%20%20maxBounds%3A%20bounds%2C%0A%20%20%20%20%20%20%20%20layers%3A%20%5B%5D%2C%0A%20%20%20%20%20%20%20%20worldCopyJump%3A%20false%2C%0A%20%20%20%20%20%20%20%20crs%3A%20L.CRS.EPSG3857%2C%0A%20%20%20%20%20%20%20%20zoomControl%3A%20true%2C%0A%20%20%20%20%20%20%20%20%7D%29%3B%0A%0A%0A%20%20%20%20%0A%20%20%20%20var%20tile_layer_79321ba042194ed58e7596131d2ff8c7%20%3D%20L.tileLayer%28%0A%20%20%20%20%20%20%20%20%27https%3A//stamen-tiles-%7Bs%7D.a.ssl.fastly.net/toner/%7Bz%7D/%7Bx%7D/%7By%7D.png%27%2C%0A%20%20%20%20%20%20%20%20%7B%0A%20%20%20%20%20%20%20%20%22attribution%22%3A%20null%2C%0A%20%20%20%20%20%20%20%20%22detectRetina%22%3A%20false%2C%0A%20%20%20%20%20%20%20%20%22maxNativeZoom%22%3A%2018%2C%0A%20%20%20%20%20%20%20%20%22maxZoom%22%3A%2018%2C%0A%20%20%20%20%20%20%20%20%22minZoom%22%3A%200%2C%0A%20%20%20%20%20%20%20%20%22noWrap%22%3A%20false%2C%0A%20%20%20%20%20%20%20%20%22opacity%22%3A%201%2C%0A%20%20%20%20%20%20%20%20%22subdomains%22%3A%20%22abc%22%2C%0A%20%20%20%20%20%20%20%20%22tms%22%3A%20false%0A%7D%29.addTo%28map_ae16ba8d640c4f308b5960297ac35ec5%29%3B%0A%20%20%20%20var%20tile_layer_32cc93203976474db53d8d8b5389b3a6%20%3D%20L.tileLayer%28%0A%20%20%20%20%20%20%20%20%27https%3A//cartodb-basemaps-%7Bs%7D.global.ssl.fastly.net/light_all/%7Bz%7D/%7Bx%7D/%7By%7D.png%27%2C%0A%20%20%20%20%20%20%20%20%7B%0A%20%20%20%20%20%20%20%20%22attribution%22%3A%20null%2C%0A%20%20%20%20%20%20%20%20%22detectRetina%22%3A%20false%2C%0A%20%20%20%20%20%20%20%20%22maxNativeZoom%22%3A%2018%2C%0A%20%20%20%20%20%20%20%20%22maxZoom%22%3A%2018%2C%0A%20%20%20%20%20%20%20%20%22minZoom%22%3A%200%2C%0A%20%20%20%20%20%20%20%20%22noWrap%22%3A%20false%2C%0A%20%20%20%20%20%20%20%20%22opacity%22%3A%201%2C%0A%20%20%20%20%20%20%20%20%22subdomains%22%3A%20%22abc%22%2C%0A%20%20%20%20%20%20%20%20%22tms%22%3A%20false%0A%7D%29.addTo%28map_ae16ba8d640c4f308b5960297ac35ec5%29%3B%0A%20%20%20%20%0A%20%20%20%20%20%20%20%20%20%20%20%20var%20choropleth_b09768caf88842ac814217755f30dc8c%20%3D%20L.featureGroup%28%0A%20%20%20%20%20%20%20%20%20%20%20%20%20%20%20%20%29.addTo%28map_ae16ba8d640c4f308b5960297ac35ec5%29%3B%0A%20%20%20%20%20%20%20%20%0A%20%20%20%20%0A%20%20%20%20%20%20%20%20var%20geo_json_a12c6a27ba014faebb5706a212214b63%20%3D%20L.geoJson%28%0A%20%20%20%20%20%20%20%20%20%20%20%20%7B%22features%22%3A%20%5B%7B%22geometry%22%3A%20%7B%22coordinates%22%3A%20%5B%5B%5B127.11519584981606%2C%2037.557533180704915%5D%2C%20%5B127.16683184366129%2C%2037.57672487388627%5D%2C%20%5B127.18408792330152%2C%2037.55814280369575%5D%2C%20%5B127.16530984307447%2C%2037.54221851258693%5D%2C%20%5B127.14672806823502%2C%2037.51415680680291%5D%2C%20%5B127.12123165719615%2C%2037.52528270089%5D%2C%20%5B127.1116764203608%2C%2037.540669955324965%5D%2C%20%5B127.11519584981606%2C%2037.557533180704915%5D%5D%5D%2C%20%22type%22%3A%20%22Polygon%22%7D%2C%20%22id%22%3A%20%22%5Cuac15%5Cub3d9%5Cuad6c%22%2C%20%22properties%22%3A%20%7B%22base_year%22%3A%20%222013%22%2C%20%22code%22%3A%20%2211250%22%2C%20%22highlight%22%3A%20%7B%7D%2C%20%22name%22%3A%20%22%5Cuac15%5Cub3d9%5Cuad6c%22%2C%20%22name_eng%22%3A%20%22Gangdong-gu%22%2C%20%22style%22%3A%20%7B%22color%22%3A%20%22black%22%2C%20%22fillColor%22%3A%20%22%238856a7%22%2C%20%22fillOpacity%22%3A%200.6%2C%20%22opacity%22%3A%201%2C%20%22weight%22%3A%201%7D%7D%2C%20%22type%22%3A%20%22Feature%22%7D%2C%20%7B%22geometry%22%3A%20%7B%22coordinates%22%3A%20%5B%5B%5B127.0690698130372%2C%2037.522279423505026%5D%2C%20%5B127.10087519791962%2C%2037.524841220167055%5D%2C%20%5B127.1116764203608%2C%2037.540669955324965%5D%2C%20%5B127.12123165719615%2C%2037.52528270089%5D%2C%20%5B127.14672806823502%2C%2037.51415680680291%5D%2C%20%5B127.1634944215765%2C%2037.497445406097484%5D%2C%20%5B127.14206058413274%2C%2037.47089819098501%5D%2C%20%5B127.12440571080893%2C%2037.46240445587048%5D%2C%20%5B127.11117085201238%2C%2037.485708381512445%5D%2C%20%5B127.0719146000724%2C%2037.50224013587669%5D%2C%20%5B127.0690698130372%2C%2037.522279423505026%5D%5D%5D%2C%20%22type%22%3A%20%22Polygon%22%7D%2C%20%22id%22%3A%20%22%5Cuc1a1%5Cud30c%5Cuad6c%22%2C%20%22properties%22%3A%20%7B%22base_year%22%3A%20%222013%22%2C%20%22code%22%3A%20%2211240%22%2C%20%22highlight%22%3A%20%7B%7D%2C%20%22name%22%3A%20%22%5Cuc1a1%5Cud30c%5Cuad6c%22%2C%20%22name_eng%22%3A%20%22Songpa-gu%22%2C%20%22style%22%3A%20%7B%22color%22%3A%20%22black%22%2C%20%22fillColor%22%3A%20%22%23edf8fb%22%2C%20%22fillOpacity%22%3A%200.6%2C%20%22opacity%22%3A%201%2C%20%22weight%22%3A%201%7D%7D%2C%20%22type%22%3A%20%22Feature%22%7D%2C%20%7B%22geometry%22%3A%20%7B%22coordinates%22%3A%20%5B%5B%5B127.05867359288398%2C%2037.52629974922568%5D%2C%20%5B127.0690698130372%2C%2037.522279423505026%5D%2C%20%5B127.0719146000724%2C%2037.50224013587669%5D%2C%20%5B127.11117085201238%2C%2037.485708381512445%5D%2C%20%5B127.12440571080893%2C%2037.46240445587048%5D%2C%20%5B127.09842759318751%2C%2037.45862253857461%5D%2C%20%5B127.08640440578156%2C%2037.472697935184655%5D%2C%20%5B127.0559170481904%2C%2037.4659228914077%5D%2C%20%5B127.03621915098798%2C%2037.48175802427603%5D%2C%20%5B127.01397119667513%2C%2037.52503988289669%5D%2C%20%5B127.02302831890559%2C%2037.53231899582663%5D%2C%20%5B127.05867359288398%2C%2037.52629974922568%5D%5D%5D%2C%20%22type%22%3A%20%22Polygon%22%7D%2C%20%22id%22%3A%20%22%5Cuac15%5Cub0a8%5Cuad6c%22%2C%20%22properties%22%3A%20%7B%22base_year%22%3A%20%222013%22%2C%20%22code%22%3A%20%2211230%22%2C%20%22highlight%22%3A%20%7B%7D%2C%20%22name%22%3A%20%22%5Cuac15%5Cub0a8%5Cuad6c%22%2C%20%22name_eng%22%3A%20%22Gangnam-gu%22%2C%20%22style%22%3A%20%7B%22color%22%3A%20%22black%22%2C%20%22fillColor%22%3A%20%22%23810f7c%22%2C%20%22fillOpacity%22%3A%200.6%2C%20%22opacity%22%3A%201%2C%20%22weight%22%3A%201%7D%7D%2C%20%22type%22%3A%20%22Feature%22%7D%2C%20%7B%22geometry%22%3A%20%7B%22coordinates%22%3A%20%5B%5B%5B127.01397119667513%2C%2037.52503988289669%5D%2C%20%5B127.03621915098798%2C%2037.48175802427603%5D%2C%20%5B127.0559170481904%2C%2037.4659228914077%5D%2C%20%5B127.08640440578156%2C%2037.472697935184655%5D%2C%20%5B127.09842759318751%2C%2037.45862253857461%5D%2C%20%5B127.09046928565951%2C%2037.44296826114185%5D%2C%20%5B127.06778107605433%2C%2037.426197424057314%5D%2C%20%5B127.04957232987142%2C%2037.42805836845694%5D%2C%20%5B127.03881782597922%2C%2037.45382039851715%5D%2C%20%5B126.99072073195462%2C%2037.455326143310025%5D%2C%20%5B126.98367668291802%2C%2037.473856492692086%5D%2C%20%5B126.98223807916081%2C%2037.509314966770326%5D%2C%20%5B127.01397119667513%2C%2037.52503988289669%5D%5D%5D%2C%20%22type%22%3A%20%22Polygon%22%7D%2C%20%22id%22%3A%20%22%5Cuc11c%5Cucd08%5Cuad6c%22%2C%20%22properties%22%3A%20%7B%22base_year%22%3A%20%222013%22%2C%20%22code%22%3A%20%2211220%22%2C%20%22highlight%22%3A%20%7B%7D%2C%20%22name%22%3A%20%22%5Cuc11c%5Cucd08%5Cuad6c%22%2C%20%22name_eng%22%3A%20%22Seocho-gu%22%2C%20%22style%22%3A%20%7B%22color%22%3A%20%22black%22%2C%20%22fillColor%22%3A%20%22%238c96c6%22%2C%20%22fillOpacity%22%3A%200.6%2C%20%22opacity%22%3A%201%2C%20%22weight%22%3A%201%7D%7D%2C%20%22type%22%3A%20%22Feature%22%7D%2C%20%7B%22geometry%22%3A%20%7B%22coordinates%22%3A%20%5B%5B%5B126.98367668291802%2C%2037.473856492692086%5D%2C%20%5B126.99072073195462%2C%2037.455326143310025%5D%2C%20%5B126.96520439085143%2C%2037.438249784006246%5D%2C%20%5B126.95000001010182%2C%2037.43613451165719%5D%2C%20%5B126.93084408056525%2C%2037.447382928333994%5D%2C%20%5B126.9167728146601%2C%2037.45490566423789%5D%2C%20%5B126.90156094129895%2C%2037.47753842789901%5D%2C%20%5B126.90531975801812%2C%2037.48218087575429%5D%2C%20%5B126.94922661389508%2C%2037.49125437495649%5D%2C%20%5B126.9725891850662%2C%2037.472561363278125%5D%2C%20%5B126.98367668291802%2C%2037.473856492692086%5D%5D%5D%2C%20%22type%22%3A%20%22Polygon%22%7D%2C%20%22id%22%3A%20%22%5Cuad00%5Cuc545%5Cuad6c%22%2C%20%22properties%22%3A%20%7B%22base_year%22%3A%20%222013%22%2C%20%22code%22%3A%20%2211210%22%2C%20%22highlight%22%3A%20%7B%7D%2C%20%22name%22%3A%20%22%5Cuad00%5Cuc545%5Cuad6c%22%2C%20%22name_eng%22%3A%20%22Gwanak-gu%22%2C%20%22style%22%3A%20%7B%22color%22%3A%20%22black%22%2C%20%22fillColor%22%3A%20%22%23edf8fb%22%2C%20%22fillOpacity%22%3A%200.6%2C%20%22opacity%22%3A%201%2C%20%22weight%22%3A%201%7D%7D%2C%20%22type%22%3A%20%22Feature%22%7D%2C%20%7B%22geometry%22%3A%20%7B%22coordinates%22%3A%20%5B%5B%5B126.98223807916081%2C%2037.509314966770326%5D%2C%20%5B126.98367668291802%2C%2037.473856492692086%5D%2C%20%5B126.9725891850662%2C%2037.472561363278125%5D%2C%20%5B126.94922661389508%2C%2037.49125437495649%5D%2C%20%5B126.90531975801812%2C%2037.48218087575429%5D%2C%20%5B126.92177893174825%2C%2037.494889877415176%5D%2C%20%5B126.92810628828279%2C%2037.51329595732015%5D%2C%20%5B126.95249990298159%2C%2037.51722500741813%5D%2C%20%5B126.98223807916081%2C%2037.509314966770326%5D%5D%5D%2C%20%22type%22%3A%20%22Polygon%22%7D%2C%20%22id%22%3A%20%22%5Cub3d9%5Cuc791%5Cuad6c%22%2C%20%22properties%22%3A%20%7B%22base_year%22%3A%20%222013%22%2C%20%22code%22%3A%20%2211200%22%2C%20%22highlight%22%3A%20%7B%7D%2C%20%22name%22%3A%20%22%5Cub3d9%5Cuc791%5Cuad6c%22%2C%20%22name_eng%22%3A%20%22Dongjak-gu%22%2C%20%22style%22%3A%20%7B%22color%22%3A%20%22black%22%2C%20%22fillColor%22%3A%20%22%23bfd3e6%22%2C%20%22fillOpacity%22%3A%200.6%2C%20%22opacity%22%3A%201%2C%20%22weight%22%3A%201%7D%7D%2C%20%22type%22%3A%20%22Feature%22%7D%2C%20%7B%22geometry%22%3A%20%7B%22coordinates%22%3A%20%5B%5B%5B126.89184663862764%2C%2037.547373974997114%5D%2C%20%5B126.94566733083212%2C%2037.526617542453366%5D%2C%20%5B126.95249990298159%2C%2037.51722500741813%5D%2C%20%5B126.92810628828279%2C%2037.51329595732015%5D%2C%20%5B126.92177893174825%2C%2037.494889877415176%5D%2C%20%5B126.90531975801812%2C%2037.48218087575429%5D%2C%20%5B126.89594776782485%2C%2037.504675281309176%5D%2C%20%5B126.88156402353862%2C%2037.513970034765684%5D%2C%20%5B126.88825757860099%2C%2037.54079733630232%5D%2C%20%5B126.89184663862764%2C%2037.547373974997114%5D%5D%5D%2C%20%22type%22%3A%20%22Polygon%22%7D%2C%20%22id%22%3A%20%22%5Cuc601%5Cub4f1%5Cud3ec%5Cuad6c%22%2C%20%22properties%22%3A%20%7B%22base_year%22%3A%20%222013%22%2C%20%22code%22%3A%20%2211190%22%2C%20%22highlight%22%3A%20%7B%7D%2C%20%22name%22%3A%20%22%5Cuc601%5Cub4f1%5Cud3ec%5Cuad6c%22%2C%20%22name_eng%22%3A%20%22Yeongdeungpo-gu%22%2C%20%22style%22%3A%20%7B%22color%22%3A%20%22black%22%2C%20%22fillColor%22%3A%20%22%23bfd3e6%22%2C%20%22fillOpacity%22%3A%200.6%2C%20%22opacity%22%3A%201%2C%20%22weight%22%3A%201%7D%7D%2C%20%22type%22%3A%20%22Feature%22%7D%2C%20%7B%22geometry%22%3A%20%7B%22coordinates%22%3A%20%5B%5B%5B126.90156094129895%2C%2037.47753842789901%5D%2C%20%5B126.9167728146601%2C%2037.45490566423789%5D%2C%20%5B126.93084408056525%2C%2037.447382928333994%5D%2C%20%5B126.9025831711697%2C%2037.434549366349124%5D%2C%20%5B126.87683271502428%2C%2037.482576591607305%5D%2C%20%5B126.90156094129895%2C%2037.47753842789901%5D%5D%5D%2C%20%22type%22%3A%20%22Polygon%22%7D%2C%20%22id%22%3A%20%22%5Cuae08%5Cucc9c%5Cuad6c%22%2C%20%22properties%22%3A%20%7B%22base_year%22%3A%20%222013%22%2C%20%22code%22%3A%20%2211180%22%2C%20%22highlight%22%3A%20%7B%7D%2C%20%22name%22%3A%20%22%5Cuae08%5Cucc9c%5Cuad6c%22%2C%20%22name_eng%22%3A%20%22Geumcheon-gu%22%2C%20%22style%22%3A%20%7B%22color%22%3A%20%22black%22%2C%20%22fillColor%22%3A%20%22%23edf8fb%22%2C%20%22fillOpacity%22%3A%200.6%2C%20%22opacity%22%3A%201%2C%20%22weight%22%3A%201%7D%7D%2C%20%22type%22%3A%20%22Feature%22%7D%2C%20%7B%22geometry%22%3A%20%7B%22coordinates%22%3A%20%5B%5B%5B126.82688081517314%2C%2037.50548972232896%5D%2C%20%5B126.88156402353862%2C%2037.513970034765684%5D%2C%20%5B126.89594776782485%2C%2037.504675281309176%5D%2C%20%5B126.90531975801812%2C%2037.48218087575429%5D%2C%20%5B126.90156094129895%2C%2037.47753842789901%5D%2C%20%5B126.87683271502428%2C%2037.482576591607305%5D%2C%20%5B126.84762676054953%2C%2037.47146723936323%5D%2C%20%5B126.83549485076196%2C%2037.474098236975095%5D%2C%20%5B126.82264796791348%2C%2037.4878476492147%5D%2C%20%5B126.82504736331406%2C%2037.50302612640443%5D%2C%20%5B126.82688081517314%2C%2037.50548972232896%5D%5D%5D%2C%20%22type%22%3A%20%22Polygon%22%7D%2C%20%22id%22%3A%20%22%5Cuad6c%5Cub85c%5Cuad6c%22%2C%20%22properties%22%3A%20%7B%22base_year%22%3A%20%222013%22%2C%20%22code%22%3A%20%2211170%22%2C%20%22highlight%22%3A%20%7B%7D%2C%20%22name%22%3A%20%22%5Cuad6c%5Cub85c%5Cuad6c%22%2C%20%22name_eng%22%3A%20%22Guro-gu%22%2C%20%22style%22%3A%20%7B%22color%22%3A%20%22black%22%2C%20%22fillColor%22%3A%20%22%23edf8fb%22%2C%20%22fillOpacity%22%3A%200.6%2C%20%22opacity%22%3A%201%2C%20%22weight%22%3A%201%7D%7D%2C%20%22type%22%3A%20%22Feature%22%7D%2C%20%7B%22geometry%22%3A%20%7B%22coordinates%22%3A%20%5B%5B%5B126.79575768552907%2C%2037.57881087633202%5D%2C%20%5B126.80702115023597%2C%2037.60123001013228%5D%2C%20%5B126.82251438477105%2C%2037.5880430810082%5D%2C%20%5B126.85984199399667%2C%2037.571847855292745%5D%2C%20%5B126.89184663862764%2C%2037.547373974997114%5D%2C%20%5B126.88825757860099%2C%2037.54079733630232%5D%2C%20%5B126.86637464321238%2C%2037.54859191094823%5D%2C%20%5B126.86610073476395%2C%2037.52699964144669%5D%2C%20%5B126.84257291943153%2C%2037.52373707805596%5D%2C%20%5B126.8242331426722%2C%2037.53788078753248%5D%2C%20%5B126.77324417717703%2C%2037.5459123450554%5D%2C%20%5B126.76979180579352%2C%2037.55139183008809%5D%2C%20%5B126.79575768552907%2C%2037.57881087633202%5D%5D%5D%2C%20%22type%22%3A%20%22Polygon%22%7D%2C%20%22id%22%3A%20%22%5Cuac15%5Cuc11c%5Cuad6c%22%2C%20%22properties%22%3A%20%7B%22base_year%22%3A%20%222013%22%2C%20%22code%22%3A%20%2211160%22%2C%20%22highlight%22%3A%20%7B%7D%2C%20%22name%22%3A%20%22%5Cuac15%5Cuc11c%5Cuad6c%22%2C%20%22name_eng%22%3A%20%22Gangseo-gu%22%2C%20%22style%22%3A%20%7B%22color%22%3A%20%22black%22%2C%20%22fillColor%22%3A%20%22%23bfd3e6%22%2C%20%22fillOpacity%22%3A%200.6%2C%20%22opacity%22%3A%201%2C%20%22weight%22%3A%201%7D%7D%2C%20%22type%22%3A%20%22Feature%22%7D%2C%20%7B%22geometry%22%3A%20%7B%22coordinates%22%3A%20%5B%5B%5B126.8242331426722%2C%2037.53788078753248%5D%2C%20%5B126.84257291943153%2C%2037.52373707805596%5D%2C%20%5B126.86610073476395%2C%2037.52699964144669%5D%2C%20%5B126.86637464321238%2C%2037.54859191094823%5D%2C%20%5B126.88825757860099%2C%2037.54079733630232%5D%2C%20%5B126.88156402353862%2C%2037.513970034765684%5D%2C%20%5B126.82688081517314%2C%2037.50548972232896%5D%2C%20%5B126.8242331426722%2C%2037.53788078753248%5D%5D%5D%2C%20%22type%22%3A%20%22Polygon%22%7D%2C%20%22id%22%3A%20%22%5Cuc591%5Cucc9c%5Cuad6c%22%2C%20%22properties%22%3A%20%7B%22base_year%22%3A%20%222013%22%2C%20%22code%22%3A%20%2211150%22%2C%20%22highlight%22%3A%20%7B%7D%2C%20%22name%22%3A%20%22%5Cuc591%5Cucc9c%5Cuad6c%22%2C%20%22name_eng%22%3A%20%22Yangcheon-gu%22%2C%20%22style%22%3A%20%7B%22color%22%3A%20%22black%22%2C%20%22fillColor%22%3A%20%22%239ebcda%22%2C%20%22fillOpacity%22%3A%200.6%2C%20%22opacity%22%3A%201%2C%20%22weight%22%3A%201%7D%7D%2C%20%22type%22%3A%20%22Feature%22%7D%2C%20%7B%22geometry%22%3A%20%7B%22coordinates%22%3A%20%5B%5B%5B126.90522065831053%2C%2037.57409700522574%5D%2C%20%5B126.93898161798973%2C%2037.552310003728124%5D%2C%20%5B126.96358226710812%2C%2037.55605635475154%5D%2C%20%5B126.96448570553055%2C%2037.548705692021635%5D%2C%20%5B126.94566733083212%2C%2037.526617542453366%5D%2C%20%5B126.89184663862764%2C%2037.547373974997114%5D%2C%20%5B126.85984199399667%2C%2037.571847855292745%5D%2C%20%5B126.88433284773288%2C%2037.588143322880526%5D%2C%20%5B126.90522065831053%2C%2037.57409700522574%5D%5D%5D%2C%20%22type%22%3A%20%22Polygon%22%7D%2C%20%22id%22%3A%20%22%5Cub9c8%5Cud3ec%5Cuad6c%22%2C%20%22properties%22%3A%20%7B%22base_year%22%3A%20%222013%22%2C%20%22code%22%3A%20%2211140%22%2C%20%22highlight%22%3A%20%7B%7D%2C%20%22name%22%3A%20%22%5Cub9c8%5Cud3ec%5Cuad6c%22%2C%20%22name_eng%22%3A%20%22Mapo-gu%22%2C%20%22style%22%3A%20%7B%22color%22%3A%20%22black%22%2C%20%22fillColor%22%3A%20%22%23edf8fb%22%2C%20%22fillOpacity%22%3A%200.6%2C%20%22opacity%22%3A%201%2C%20%22weight%22%3A%201%7D%7D%2C%20%22type%22%3A%20%22Feature%22%7D%2C%20%7B%22geometry%22%3A%20%7B%22coordinates%22%3A%20%5B%5B%5B126.9524752030572%2C%2037.60508692737045%5D%2C%20%5B126.95565425846463%2C%2037.576080790881456%5D%2C%20%5B126.96873633279075%2C%2037.56313604690827%5D%2C%20%5B126.96358226710812%2C%2037.55605635475154%5D%2C%20%5B126.93898161798973%2C%2037.552310003728124%5D%2C%20%5B126.90522065831053%2C%2037.57409700522574%5D%2C%20%5B126.9524752030572%2C%2037.60508692737045%5D%5D%5D%2C%20%22type%22%3A%20%22Polygon%22%7D%2C%20%22id%22%3A%20%22%5Cuc11c%5Cub300%5Cubb38%5Cuad6c%22%2C%20%22properties%22%3A%20%7B%22base_year%22%3A%20%222013%22%2C%20%22code%22%3A%20%2211130%22%2C%20%22highlight%22%3A%20%7B%7D%2C%20%22name%22%3A%20%22%5Cuc11c%5Cub300%5Cubb38%5Cuad6c%22%2C%20%22name_eng%22%3A%20%22Seodaemun-gu%22%2C%20%22style%22%3A%20%7B%22color%22%3A%20%22black%22%2C%20%22fillColor%22%3A%20%22%23edf8fb%22%2C%20%22fillOpacity%22%3A%200.6%2C%20%22opacity%22%3A%201%2C%20%22weight%22%3A%201%7D%7D%2C%20%22type%22%3A%20%22Feature%22%7D%2C%20%7B%22geometry%22%3A%20%7B%22coordinates%22%3A%20%5B%5B%5B126.9738864128702%2C%2037.62949634786888%5D%2C%20%5B126.95427017006129%2C%2037.622033431339425%5D%2C%20%5B126.9524752030572%2C%2037.60508692737045%5D%2C%20%5B126.90522065831053%2C%2037.57409700522574%5D%2C%20%5B126.88433284773288%2C%2037.588143322880526%5D%2C%20%5B126.90396681003595%2C%2037.59227403419942%5D%2C%20%5B126.90303066177668%2C%2037.609977911401344%5D%2C%20%5B126.91455481429648%2C%2037.64150050996935%5D%2C%20%5B126.956473797387%2C%2037.652480737339445%5D%2C%20%5B126.9738864128702%2C%2037.62949634786888%5D%5D%5D%2C%20%22type%22%3A%20%22Polygon%22%7D%2C%20%22id%22%3A%20%22%5Cuc740%5Cud3c9%5Cuad6c%22%2C%20%22properties%22%3A%20%7B%22base_year%22%3A%20%222013%22%2C%20%22code%22%3A%20%2211120%22%2C%20%22highlight%22%3A%20%7B%7D%2C%20%22name%22%3A%20%22%5Cuc740%5Cud3c9%5Cuad6c%22%2C%20%22name_eng%22%3A%20%22Eunpyeong-gu%22%2C%20%22style%22%3A%20%7B%22color%22%3A%20%22black%22%2C%20%22fillColor%22%3A%20%22%23bfd3e6%22%2C%20%22fillOpacity%22%3A%200.6%2C%20%22opacity%22%3A%201%2C%20%22weight%22%3A%201%7D%7D%2C%20%22type%22%3A%20%22Feature%22%7D%2C%20%7B%22geometry%22%3A%20%7B%22coordinates%22%3A%20%5B%5B%5B127.0838752703195%2C%2037.69359534202034%5D%2C%20%5B127.09706391309695%2C%2037.686383719372294%5D%2C%20%5B127.09440766298717%2C%2037.64713490473045%5D%2C%20%5B127.11326795855199%2C%2037.639622905315925%5D%2C%20%5B127.10782277688129%2C%2037.61804244241069%5D%2C%20%5B127.07351243825278%2C%2037.61283660342313%5D%2C%20%5B127.05209373568619%2C%2037.62164065487782%5D%2C%20%5B127.04358800895609%2C%2037.62848931298715%5D%2C%20%5B127.05800075220091%2C%2037.64318263878276%5D%2C%20%5B127.05288479710485%2C%2037.68423857084347%5D%2C%20%5B127.0838752703195%2C%2037.69359534202034%5D%5D%5D%2C%20%22type%22%3A%20%22Polygon%22%7D%2C%20%22id%22%3A%20%22%5Cub178%5Cuc6d0%5Cuad6c%22%2C%20%22properties%22%3A%20%7B%22base_year%22%3A%20%222013%22%2C%20%22code%22%3A%20%2211110%22%2C%20%22highlight%22%3A%20%7B%7D%2C%20%22name%22%3A%20%22%5Cub178%5Cuc6d0%5Cuad6c%22%2C%20%22name_eng%22%3A%20%22Nowon-gu%22%2C%20%22style%22%3A%20%7B%22color%22%3A%20%22black%22%2C%20%22fillColor%22%3A%20%22%239ebcda%22%2C%20%22fillOpacity%22%3A%200.6%2C%20%22opacity%22%3A%201%2C%20%22weight%22%3A%201%7D%7D%2C%20%22type%22%3A%20%22Feature%22%7D%2C%20%7B%22geometry%22%3A%20%7B%22coordinates%22%3A%20%5B%5B%5B127.05288479710485%2C%2037.68423857084347%5D%2C%20%5B127.05800075220091%2C%2037.64318263878276%5D%2C%20%5B127.04358800895609%2C%2037.62848931298715%5D%2C%20%5B127.01465935892466%2C%2037.64943687496812%5D%2C%20%5B127.02062116141389%2C%2037.667173575971205%5D%2C%20%5B127.01039666042071%2C%2037.681894589603594%5D%2C%20%5B127.01795099203432%2C%2037.69824412775662%5D%2C%20%5B127.05288479710485%2C%2037.68423857084347%5D%5D%5D%2C%20%22type%22%3A%20%22Polygon%22%7D%2C%20%22id%22%3A%20%22%5Cub3c4%5Cubd09%5Cuad6c%22%2C%20%22properties%22%3A%20%7B%22base_year%22%3A%20%222013%22%2C%20%22code%22%3A%20%2211100%22%2C%20%22highlight%22%3A%20%7B%7D%2C%20%22name%22%3A%20%22%5Cub3c4%5Cubd09%5Cuad6c%22%2C%20%22name_eng%22%3A%20%22Dobong-gu%22%2C%20%22style%22%3A%20%7B%22color%22%3A%20%22black%22%2C%20%22fillColor%22%3A%20%22%239ebcda%22%2C%20%22fillOpacity%22%3A%200.6%2C%20%22opacity%22%3A%201%2C%20%22weight%22%3A%201%7D%7D%2C%20%22type%22%3A%20%22Feature%22%7D%2C%20%7B%22geometry%22%3A%20%7B%22coordinates%22%3A%20%5B%5B%5B126.99383903424%2C%2037.676681761199085%5D%2C%20%5B127.01039666042071%2C%2037.681894589603594%5D%2C%20%5B127.02062116141389%2C%2037.667173575971205%5D%2C%20%5B127.01465935892466%2C%2037.64943687496812%5D%2C%20%5B127.04358800895609%2C%2037.62848931298715%5D%2C%20%5B127.05209373568619%2C%2037.62164065487782%5D%2C%20%5B127.03892400992301%2C%2037.609715611023816%5D%2C%20%5B127.0128154749523%2C%2037.613652243470256%5D%2C%20%5B126.98672705513869%2C%2037.63377641288196%5D%2C%20%5B126.9817452676551%2C%2037.65209769387776%5D%2C%20%5B126.99383903424%2C%2037.676681761199085%5D%5D%5D%2C%20%22type%22%3A%20%22Polygon%22%7D%2C%20%22id%22%3A%20%22%5Cuac15%5Cubd81%5Cuad6c%22%2C%20%22properties%22%3A%20%7B%22base_year%22%3A%20%222013%22%2C%20%22code%22%3A%20%2211090%22%2C%20%22highlight%22%3A%20%7B%7D%2C%20%22name%22%3A%20%22%5Cuac15%5Cubd81%5Cuad6c%22%2C%20%22name_eng%22%3A%20%22Gangbuk-gu%22%2C%20%22style%22%3A%20%7B%22color%22%3A%20%22black%22%2C%20%22fillColor%22%3A%20%22%23810f7c%22%2C%20%22fillOpacity%22%3A%200.6%2C%20%22opacity%22%3A%201%2C%20%22weight%22%3A%201%7D%7D%2C%20%22type%22%3A%20%22Feature%22%7D%2C%20%7B%22geometry%22%3A%20%7B%22coordinates%22%3A%20%5B%5B%5B126.977175406416%2C%2037.62859715400388%5D%2C%20%5B126.98672705513869%2C%2037.63377641288196%5D%2C%20%5B127.0128154749523%2C%2037.613652243470256%5D%2C%20%5B127.03892400992301%2C%2037.609715611023816%5D%2C%20%5B127.05209373568619%2C%2037.62164065487782%5D%2C%20%5B127.07351243825278%2C%2037.61283660342313%5D%2C%20%5B127.07382707099227%2C%2037.60401928986419%5D%2C%20%5B127.042705222094%2C%2037.59239437593391%5D%2C%20%5B127.02527254528003%2C%2037.57524616245249%5D%2C%20%5B126.99348293358314%2C%2037.588565457216156%5D%2C%20%5B126.98879865992384%2C%2037.6118927319756%5D%2C%20%5B126.977175406416%2C%2037.62859715400388%5D%5D%5D%2C%20%22type%22%3A%20%22Polygon%22%7D%2C%20%22id%22%3A%20%22%5Cuc131%5Cubd81%5Cuad6c%22%2C%20%22properties%22%3A%20%7B%22base_year%22%3A%20%222013%22%2C%20%22code%22%3A%20%2211080%22%2C%20%22highlight%22%3A%20%7B%7D%2C%20%22name%22%3A%20%22%5Cuc131%5Cubd81%5Cuad6c%22%2C%20%22name_eng%22%3A%20%22Seongbuk-gu%22%2C%20%22style%22%3A%20%7B%22color%22%3A%20%22black%22%2C%20%22fillColor%22%3A%20%22%23edf8fb%22%2C%20%22fillOpacity%22%3A%200.6%2C%20%22opacity%22%3A%201%2C%20%22weight%22%3A%201%7D%7D%2C%20%22type%22%3A%20%22Feature%22%7D%2C%20%7B%22geometry%22%3A%20%7B%22coordinates%22%3A%20%5B%5B%5B127.07351243825278%2C%2037.61283660342313%5D%2C%20%5B127.10782277688129%2C%2037.61804244241069%5D%2C%20%5B127.1201246020114%2C%2037.60178457598188%5D%2C%20%5B127.10304174249214%2C%2037.57076342290955%5D%2C%20%5B127.08068541280403%2C%2037.56906425519017%5D%2C%20%5B127.07382707099227%2C%2037.60401928986419%5D%2C%20%5B127.07351243825278%2C%2037.61283660342313%5D%5D%5D%2C%20%22type%22%3A%20%22Polygon%22%7D%2C%20%22id%22%3A%20%22%5Cuc911%5Cub791%5Cuad6c%22%2C%20%22properties%22%3A%20%7B%22base_year%22%3A%20%222013%22%2C%20%22code%22%3A%20%2211070%22%2C%20%22highlight%22%3A%20%7B%7D%2C%20%22name%22%3A%20%22%5Cuc911%5Cub791%5Cuad6c%22%2C%20%22name_eng%22%3A%20%22Jungnang-gu%22%2C%20%22style%22%3A%20%7B%22color%22%3A%20%22black%22%2C%20%22fillColor%22%3A%20%22%23810f7c%22%2C%20%22fillOpacity%22%3A%200.6%2C%20%22opacity%22%3A%201%2C%20%22weight%22%3A%201%7D%7D%2C%20%22type%22%3A%20%22Feature%22%7D%2C%20%7B%22geometry%22%3A%20%7B%22coordinates%22%3A%20%5B%5B%5B127.02527254528003%2C%2037.57524616245249%5D%2C%20%5B127.042705222094%2C%2037.59239437593391%5D%2C%20%5B127.07382707099227%2C%2037.60401928986419%5D%2C%20%5B127.08068541280403%2C%2037.56906425519017%5D%2C%20%5B127.07421053024362%2C%2037.55724769712085%5D%2C%20%5B127.05005601081567%2C%2037.567577612590846%5D%2C%20%5B127.02547266349976%2C%2037.568943552237734%5D%2C%20%5B127.02527254528003%2C%2037.57524616245249%5D%5D%5D%2C%20%22type%22%3A%20%22Polygon%22%7D%2C%20%22id%22%3A%20%22%5Cub3d9%5Cub300%5Cubb38%5Cuad6c%22%2C%20%22properties%22%3A%20%7B%22base_year%22%3A%20%222013%22%2C%20%22code%22%3A%20%2211060%22%2C%20%22highlight%22%3A%20%7B%7D%2C%20%22name%22%3A%20%22%5Cub3d9%5Cub300%5Cubb38%5Cuad6c%22%2C%20%22name_eng%22%3A%20%22Dongdaemun-gu%22%2C%20%22style%22%3A%20%7B%22color%22%3A%20%22black%22%2C%20%22fillColor%22%3A%20%22%23edf8fb%22%2C%20%22fillOpacity%22%3A%200.6%2C%20%22opacity%22%3A%201%2C%20%22weight%22%3A%201%7D%7D%2C%20%22type%22%3A%20%22Feature%22%7D%2C%20%7B%22geometry%22%3A%20%7B%22coordinates%22%3A%20%5B%5B%5B127.08068541280403%2C%2037.56906425519017%5D%2C%20%5B127.10304174249214%2C%2037.57076342290955%5D%2C%20%5B127.11519584981606%2C%2037.557533180704915%5D%2C%20%5B127.1116764203608%2C%2037.540669955324965%5D%2C%20%5B127.10087519791962%2C%2037.524841220167055%5D%2C%20%5B127.0690698130372%2C%2037.522279423505026%5D%2C%20%5B127.05867359288398%2C%2037.52629974922568%5D%2C%20%5B127.07421053024362%2C%2037.55724769712085%5D%2C%20%5B127.08068541280403%2C%2037.56906425519017%5D%5D%5D%2C%20%22type%22%3A%20%22Polygon%22%7D%2C%20%22id%22%3A%20%22%5Cuad11%5Cuc9c4%5Cuad6c%22%2C%20%22properties%22%3A%20%7B%22base_year%22%3A%20%222013%22%2C%20%22code%22%3A%20%2211050%22%2C%20%22highlight%22%3A%20%7B%7D%2C%20%22name%22%3A%20%22%5Cuad11%5Cuc9c4%5Cuad6c%22%2C%20%22name_eng%22%3A%20%22Gwangjin-gu%22%2C%20%22style%22%3A%20%7B%22color%22%3A%20%22black%22%2C%20%22fillColor%22%3A%20%22%23edf8fb%22%2C%20%22fillOpacity%22%3A%200.6%2C%20%22opacity%22%3A%201%2C%20%22weight%22%3A%201%7D%7D%2C%20%22type%22%3A%20%22Feature%22%7D%2C%20%7B%22geometry%22%3A%20%7B%22coordinates%22%3A%20%5B%5B%5B127.02547266349976%2C%2037.568943552237734%5D%2C%20%5B127.05005601081567%2C%2037.567577612590846%5D%2C%20%5B127.07421053024362%2C%2037.55724769712085%5D%2C%20%5B127.05867359288398%2C%2037.52629974922568%5D%2C%20%5B127.02302831890559%2C%2037.53231899582663%5D%2C%20%5B127.01070894177482%2C%2037.54118048964762%5D%2C%20%5B127.02547266349976%2C%2037.568943552237734%5D%5D%5D%2C%20%22type%22%3A%20%22Polygon%22%7D%2C%20%22id%22%3A%20%22%5Cuc131%5Cub3d9%5Cuad6c%22%2C%20%22properties%22%3A%20%7B%22base_year%22%3A%20%222013%22%2C%20%22code%22%3A%20%2211040%22%2C%20%22highlight%22%3A%20%7B%7D%2C%20%22name%22%3A%20%22%5Cuc131%5Cub3d9%5Cuad6c%22%2C%20%22name_eng%22%3A%20%22Seongdong-gu%22%2C%20%22style%22%3A%20%7B%22color%22%3A%20%22black%22%2C%20%22fillColor%22%3A%20%22%23bfd3e6%22%2C%20%22fillOpacity%22%3A%200.6%2C%20%22opacity%22%3A%201%2C%20%22weight%22%3A%201%7D%7D%2C%20%22type%22%3A%20%22Feature%22%7D%2C%20%7B%22geometry%22%3A%20%7B%22coordinates%22%3A%20%5B%5B%5B127.01070894177482%2C%2037.54118048964762%5D%2C%20%5B127.02302831890559%2C%2037.53231899582663%5D%2C%20%5B127.01397119667513%2C%2037.52503988289669%5D%2C%20%5B126.98223807916081%2C%2037.509314966770326%5D%2C%20%5B126.95249990298159%2C%2037.51722500741813%5D%2C%20%5B126.94566733083212%2C%2037.526617542453366%5D%2C%20%5B126.96448570553055%2C%2037.548705692021635%5D%2C%20%5B126.98752996903328%2C%2037.55094818807139%5D%2C%20%5B127.01070894177482%2C%2037.54118048964762%5D%5D%5D%2C%20%22type%22%3A%20%22Polygon%22%7D%2C%20%22id%22%3A%20%22%5Cuc6a9%5Cuc0b0%5Cuad6c%22%2C%20%22properties%22%3A%20%7B%22base_year%22%3A%20%222013%22%2C%20%22code%22%3A%20%2211030%22%2C%20%22highlight%22%3A%20%7B%7D%2C%20%22name%22%3A%20%22%5Cuc6a9%5Cuc0b0%5Cuad6c%22%2C%20%22name_eng%22%3A%20%22Yongsan-gu%22%2C%20%22style%22%3A%20%7B%22color%22%3A%20%22black%22%2C%20%22fillColor%22%3A%20%22%23edf8fb%22%2C%20%22fillOpacity%22%3A%200.6%2C%20%22opacity%22%3A%201%2C%20%22weight%22%3A%201%7D%7D%2C%20%22type%22%3A%20%22Feature%22%7D%2C%20%7B%22geometry%22%3A%20%7B%22coordinates%22%3A%20%5B%5B%5B127.02547266349976%2C%2037.568943552237734%5D%2C%20%5B127.01070894177482%2C%2037.54118048964762%5D%2C%20%5B126.98752996903328%2C%2037.55094818807139%5D%2C%20%5B126.96448570553055%2C%2037.548705692021635%5D%2C%20%5B126.96358226710812%2C%2037.55605635475154%5D%2C%20%5B126.96873633279075%2C%2037.56313604690827%5D%2C%20%5B127.02547266349976%2C%2037.568943552237734%5D%5D%5D%2C%20%22type%22%3A%20%22Polygon%22%7D%2C%20%22id%22%3A%20%22%5Cuc911%5Cuad6c%22%2C%20%22properties%22%3A%20%7B%22base_year%22%3A%20%222013%22%2C%20%22code%22%3A%20%2211020%22%2C%20%22highlight%22%3A%20%7B%7D%2C%20%22name%22%3A%20%22%5Cuc911%5Cuad6c%22%2C%20%22name_eng%22%3A%20%22Jung-gu%22%2C%20%22style%22%3A%20%7B%22color%22%3A%20%22black%22%2C%20%22fillColor%22%3A%20%22%23edf8fb%22%2C%20%22fillOpacity%22%3A%200.6%2C%20%22opacity%22%3A%201%2C%20%22weight%22%3A%201%7D%7D%2C%20%22type%22%3A%20%22Feature%22%7D%2C%20%7B%22geometry%22%3A%20%7B%22coordinates%22%3A%20%5B%5B%5B126.9738864128702%2C%2037.62949634786888%5D%2C%20%5B126.977175406416%2C%2037.62859715400388%5D%2C%20%5B126.98879865992384%2C%2037.6118927319756%5D%2C%20%5B126.99348293358314%2C%2037.588565457216156%5D%2C%20%5B127.02527254528003%2C%2037.57524616245249%5D%2C%20%5B127.02547266349976%2C%2037.568943552237734%5D%2C%20%5B126.96873633279075%2C%2037.56313604690827%5D%2C%20%5B126.95565425846463%2C%2037.576080790881456%5D%2C%20%5B126.9524752030572%2C%2037.60508692737045%5D%2C%20%5B126.95427017006129%2C%2037.622033431339425%5D%2C%20%5B126.9738864128702%2C%2037.62949634786888%5D%5D%5D%2C%20%22type%22%3A%20%22Polygon%22%7D%2C%20%22id%22%3A%20%22%5Cuc885%5Cub85c%5Cuad6c%22%2C%20%22properties%22%3A%20%7B%22base_year%22%3A%20%222013%22%2C%20%22code%22%3A%20%2211010%22%2C%20%22highlight%22%3A%20%7B%7D%2C%20%22name%22%3A%20%22%5Cuc885%5Cub85c%5Cuad6c%22%2C%20%22name_eng%22%3A%20%22Jongno-gu%22%2C%20%22style%22%3A%20%7B%22color%22%3A%20%22black%22%2C%20%22fillColor%22%3A%20%22%23edf8fb%22%2C%20%22fillOpacity%22%3A%200.6%2C%20%22opacity%22%3A%201%2C%20%22weight%22%3A%201%7D%7D%2C%20%22type%22%3A%20%22Feature%22%7D%5D%2C%20%22type%22%3A%20%22FeatureCollection%22%7D%2C%0A%20%20%20%20%20%20%20%20%20%20%20%20%7B%0A%20%20%20%20%20%20%20%20%20%20%20%20%7D%0A%20%20%20%20%20%20%20%20%29.addTo%28choropleth_b09768caf88842ac814217755f30dc8c%20%29%3B%0A%20%20%20%20%20%20%20%20geo_json_a12c6a27ba014faebb5706a212214b63.setStyle%28function%28feature%29%20%7Breturn%20feature.properties.style%3B%7D%29%3B%0A%20%20%20%20%20%20%20%20%0A%20%20%20%20%0A%20%20%20%20var%20color_map_99f36715cbeb4e7d8eaa4bfa5a80c299%20%3D%20%7B%7D%3B%0A%0A%20%20%20%20%0A%20%20%20%20color_map_99f36715cbeb4e7d8eaa4bfa5a80c299.color%20%3D%20d3.scale.threshold%28%29%0A%20%20%20%20%20%20%20%20%20%20%20%20%20%20.domain%28%5B1.36%2C%201.3972545090180362%2C%201.4345090180360722%2C%201.4717635270541083%2C%201.5090180360721444%2C%201.5462725450901804%2C%201.5835270541082165%2C%201.6207815631262525%2C%201.6580360721442886%2C%201.6952905811623247%2C%201.732545090180361%2C%201.769799599198397%2C%201.8070541082164329%2C%201.844308617234469%2C%201.8815631262525052%2C%201.9188176352705413%2C%201.9560721442885773%2C%201.9933266533066134%2C%202.0305811623246495%2C%202.0678356713426855%2C%202.1050901803607216%2C%202.1423446893787577%2C%202.1795991983967937%2C%202.21685370741483%2C%202.254108216432866%2C%202.291362725450902%2C%202.328617234468938%2C%202.365871743486974%2C%202.40312625250501%2C%202.440380761523046%2C%202.4776352705410822%2C%202.5148897795591183%2C%202.5521442885771544%2C%202.5893987975951904%2C%202.6266533066132265%2C%202.6639078156312626%2C%202.7011623246492986%2C%202.738416833667335%2C%202.7756713426853707%2C%202.812925851703407%2C%202.850180360721443%2C%202.887434869739479%2C%202.924689378757515%2C%202.9619438877755515%2C%202.999198396793587%2C%203.036452905811623%2C%203.0737074148296593%2C%203.1109619238476958%2C%203.1482164328657314%2C%203.185470941883768%2C%203.2227254509018035%2C%203.25997995991984%2C%203.2972344689378756%2C%203.334488977955912%2C%203.3717434869739478%2C%203.4089979959919843%2C%203.44625250501002%2C%203.4835070140280564%2C%203.520761523046092%2C%203.5580160320641285%2C%203.595270541082165%2C%203.6325250501002007%2C%203.6697795591182363%2C%203.707034068136273%2C%203.7442885771543084%2C%203.781543086172345%2C%203.8187975951903805%2C%203.856052104208417%2C%203.8933066132264527%2C%203.930561122244489%2C%203.967815631262525%2C%204.005070140280561%2C%204.042324649298597%2C%204.079579158316633%2C%204.11683366733467%2C%204.1540881763527056%2C%204.191342685370741%2C%204.228597194388778%2C%204.265851703406813%2C%204.30310621242485%2C%204.340360721442886%2C%204.377615230460922%2C%204.4148697394789576%2C%204.452124248496994%2C%204.48937875751503%2C%204.526633266533066%2C%204.563887775551103%2C%204.601142284569138%2C%204.638396793587175%2C%204.6756513026052104%2C%204.712905811623246%2C%204.750160320641283%2C%204.787414829659319%2C%204.824669338677355%2C%204.861923847695391%2C%204.899178356713427%2C%204.9364328657314624%2C%204.973687374749499%2C%205.0109418837675355%2C%205.048196392785571%2C%205.085450901803608%2C%205.122705410821643%2C%205.15995991983968%2C%205.197214428857715%2C%205.234468937875751%2C%205.2717234468937875%2C%205.308977955911824%2C%205.34623246492986%2C%205.383486973947896%2C%205.420741482965932%2C%205.457995991983968%2C%205.495250501002004%2C%205.53250501002004%2C%205.569759519038077%2C%205.6070140280561125%2C%205.644268537074148%2C%205.681523046092185%2C%205.718777555110221%2C%205.756032064128257%2C%205.793286573146293%2C%205.83054108216433%2C%205.8677955911823645%2C%205.905050100200401%2C%205.9423046092184375%2C%205.979559118236473%2C%206.01681362725451%2C%206.054068136272546%2C%206.091322645290581%2C%206.128577154308617%2C%206.165831663326654%2C%206.2030861723446895%2C%206.240340681362726%2C%206.277595190380762%2C%206.314849699398797%2C%206.352104208416834%2C%206.38935871743487%2C%206.426613226452906%2C%206.463867735470942%2C%206.501122244488978%2C%206.538376753507014%2C%206.57563126252505%2C%206.612885771543087%2C%206.650140280561123%2C%206.687394789579159%2C%206.724649298597194%2C%206.761903807615231%2C%206.7991583166332665%2C%206.836412825651303%2C%206.8736673346693395%2C%206.910921843687375%2C%206.948176352705411%2C%206.985430861723447%2C%207.022685370741483%2C%207.059939879759519%2C%207.097194388777556%2C%207.1344488977955915%2C%207.171703406813627%2C%207.208957915831664%2C%207.246212424849699%2C%207.283466933867736%2C%207.320721442885772%2C%207.357975951903808%2C%207.3952304609218436%2C%207.43248496993988%2C%207.469739478957916%2C%207.506993987975952%2C%207.544248496993989%2C%207.581503006012025%2C%207.61875751503006%2C%207.656012024048096%2C%207.693266533066133%2C%207.730521042084169%2C%207.767775551102205%2C%207.805030060120241%2C%207.842284569138276%2C%207.879539078156313%2C%207.916793587174349%2C%207.954048096192385%2C%207.9913026052104215%2C%208.028557114228457%2C%208.065811623246493%2C%208.103066132264528%2C%208.140320641282566%2C%208.177575150300601%2C%208.214829659318637%2C%208.252084168336673%2C%208.289338677354708%2C%208.326593186372746%2C%208.363847695390781%2C%208.401102204408817%2C%208.438356713426854%2C%208.47561122244489%2C%208.512865731462925%2C%208.550120240480961%2C%208.587374749498998%2C%208.624629258517034%2C%208.66188376753507%2C%208.699138276553105%2C%208.736392785571143%2C%208.773647294589178%2C%208.810901803607214%2C%208.848156312625251%2C%208.885410821643287%2C%208.922665330661323%2C%208.959919839679358%2C%208.997174348697394%2C%209.034428857715431%2C%209.071683366733467%2C%209.108937875751502%2C%209.146192384769538%2C%209.183446893787576%2C%209.220701402805611%2C%209.257955911823647%2C%209.295210420841684%2C%209.332464929859718%2C%209.369719438877755%2C%209.406973947895791%2C%209.444228456913827%2C%209.481482965931862%2C%209.5187374749499%2C%209.555991983967935%2C%209.593246492985973%2C%209.630501002004006%2C%209.667755511022042%2C%209.70501002004008%2C%209.742264529058115%2C%209.779519038076153%2C%209.816773547094188%2C%209.854028056112224%2C%209.89128256513026%2C%209.928537074148295%2C%209.965791583166332%2C%2010.003046092184368%2C%2010.040300601202405%2C%2010.077555110220441%2C%2010.114809619238475%2C%2010.152064128256512%2C%2010.189318637274548%2C%2010.226573146292585%2C%2010.263827655310621%2C%2010.301082164328658%2C%2010.338336673346692%2C%2010.375591182364728%2C%2010.412845691382765%2C%2010.4501002004008%2C%2010.487354709418838%2C%2010.524609218436874%2C%2010.561863727454908%2C%2010.599118236472945%2C%2010.63637274549098%2C%2010.673627254509018%2C%2010.710881763527054%2C%2010.748136272545091%2C%2010.785390781563125%2C%2010.82264529058116%2C%2010.859899799599198%2C%2010.897154308617234%2C%2010.934408817635271%2C%2010.971663326653307%2C%2011.008917835671342%2C%2011.046172344689378%2C%2011.083426853707413%2C%2011.12068136272545%2C%2011.157935871743486%2C%2011.195190380761522%2C%2011.23244488977956%2C%2011.269699398797593%2C%2011.30695390781563%2C%2011.344208416833666%2C%2011.381462925851704%2C%2011.41871743486974%2C%2011.455971943887775%2C%2011.49322645290581%2C%2011.530480961923846%2C%2011.567735470941884%2C%2011.60498997995992%2C%2011.642244488977955%2C%2011.679498997995992%2C%2011.716753507014026%2C%2011.754008016032063%2C%2011.791262525050099%2C%2011.828517034068136%2C%2011.865771543086172%2C%2011.903026052104208%2C%2011.940280561122245%2C%2011.977535070140279%2C%2012.014789579158316%2C%2012.052044088176352%2C%2012.089298597194388%2C%2012.126553106212425%2C%2012.16380761523046%2C%2012.201062124248496%2C%2012.238316633266532%2C%2012.275571142284567%2C%2012.312825651302605%2C%2012.35008016032064%2C%2012.387334669338678%2C%2012.424589178356712%2C%2012.46184368737475%2C%2012.499098196392785%2C%2012.53635270541082%2C%2012.573607214428858%2C%2012.610861723446893%2C%2012.648116232464929%2C%2012.685370741482965%2C%2012.722625250501%2C%2012.759879759519038%2C%2012.797134268537073%2C%2012.83438877755511%2C%2012.871643286573146%2C%2012.908897795591182%2C%2012.946152304609218%2C%2012.983406813627253%2C%2013.02066132264529%2C%2013.057915831663326%2C%2013.095170340681364%2C%2013.132424849699397%2C%2013.169679358717433%2C%2013.20693386773547%2C%2013.244188376753506%2C%2013.281442885771543%2C%2013.318697394789579%2C%2013.355951903807615%2C%2013.39320641282565%2C%2013.430460921843686%2C%2013.467715430861723%2C%2013.504969939879759%2C%2013.542224448897796%2C%2013.57947895791583%2C%2013.616733466933866%2C%2013.653987975951903%2C%2013.691242484969939%2C%2013.728496993987976%2C%2013.765751503006012%2C%2013.80300601202405%2C%2013.840260521042083%2C%2013.877515030060119%2C%2013.914769539078156%2C%2013.952024048096192%2C%2013.989278557114229%2C%2014.026533066132265%2C%2014.063787575150299%2C%2014.101042084168336%2C%2014.138296593186372%2C%2014.175551102204409%2C%2014.212805611222445%2C%2014.25006012024048%2C%2014.287314629258516%2C%2014.324569138276551%2C%2014.361823647294589%2C%2014.399078156312624%2C%2014.436332665330662%2C%2014.473587174348697%2C%2014.510841683366731%2C%2014.548096192384769%2C%2014.585350701402804%2C%2014.622605210420842%2C%2014.659859719438877%2C%2014.697114228456913%2C%2014.73436873747495%2C%2014.771623246492984%2C%2014.808877755511022%2C%2014.846132264529057%2C%2014.883386773547095%2C%2014.92064128256513%2C%2014.957895791583166%2C%2014.995150300601201%2C%2015.032404809619237%2C%2015.069659318637274%2C%2015.10691382765531%2C%2015.144168336673346%2C%2015.181422845691383%2C%2015.218677354709417%2C%2015.255931863727454%2C%2015.29318637274549%2C%2015.330440881763527%2C%2015.367695390781563%2C%2015.404949899799599%2C%2015.442204408817634%2C%2015.47945891783567%2C%2015.516713426853707%2C%2015.553967935871743%2C%2015.591222444889778%2C%2015.628476953907816%2C%2015.66573146292585%2C%2015.702985971943887%2C%2015.740240480961923%2C%2015.777494989979958%2C%2015.814749498997996%2C%2015.852004008016031%2C%2015.889258517034069%2C%2015.926513026052103%2C%2015.96376753507014%2C%2016.001022044088177%2C%2016.03827655310621%2C%2016.07553106212425%2C%2016.112785571142286%2C%2016.15004008016032%2C%2016.187294589178357%2C%2016.22454909819639%2C%2016.26180360721443%2C%2016.299058116232466%2C%2016.336312625250503%2C%2016.373567134268537%2C%2016.410821643286575%2C%2016.44807615230461%2C%2016.485330661322646%2C%2016.522585170340683%2C%2016.559839679358717%2C%2016.597094188376754%2C%2016.63434869739479%2C%2016.671603206412826%2C%2016.708857715430863%2C%2016.746112224448897%2C%2016.783366733466934%2C%2016.82062124248497%2C%2016.857875751503006%2C%2016.895130260521043%2C%2016.932384769539077%2C%2016.969639278557114%2C%2017.00689378757515%2C%2017.04414829659319%2C%2017.081402805611223%2C%2017.118657314629257%2C%2017.155911823647294%2C%2017.19316633266533%2C%2017.23042084168337%2C%2017.267675350701403%2C%2017.304929859719437%2C%2017.342184368737474%2C%2017.37943887775551%2C%2017.416693386773545%2C%2017.453947895791583%2C%2017.49120240480962%2C%2017.528456913827654%2C%2017.56571142284569%2C%2017.602965931863725%2C%2017.640220440881762%2C%2017.6774749498998%2C%2017.714729458917837%2C%2017.75198396793587%2C%2017.78923847695391%2C%2017.826492985971946%2C%2017.86374749498998%2C%2017.901002004008014%2C%2017.93825651302605%2C%2017.975511022044085%2C%2018.012765531062122%2C%2018.05002004008016%2C%2018.087274549098197%2C%2018.12452905811623%2C%2018.16178356713427%2C%2018.199038076152306%2C%2018.23629258517034%2C%2018.273547094188377%2C%2018.310801603206414%2C%2018.348056112224448%2C%2018.385310621242482%2C%2018.42256513026052%2C%2018.459819639278557%2C%2018.49707414829659%2C%2018.534328657314628%2C%2018.571583166332665%2C%2018.6088376753507%2C%2018.646092184368737%2C%2018.683346693386774%2C%2018.72060120240481%2C%2018.757855711422845%2C%2018.795110220440883%2C%2018.832364729458916%2C%2018.86961923847695%2C%2018.906873747494988%2C%2018.944128256513025%2C%2018.981382765531063%2C%2019.018637274549096%2C%2019.055891783567134%2C%2019.09314629258517%2C%2019.130400801603205%2C%2019.167655310621242%2C%2019.20490981963928%2C%2019.242164328657317%2C%2019.279418837675347%2C%2019.316673346693385%2C%2019.353927855711422%2C%2019.391182364729456%2C%2019.428436873747494%2C%2019.46569138276553%2C%2019.502945891783565%2C%2019.540200400801602%2C%2019.57745490981964%2C%2019.614709418837677%2C%2019.65196392785571%2C%2019.689218436873748%2C%2019.726472945891786%2C%2019.763727454909816%2C%2019.800981963927853%2C%2019.83823647294589%2C%2019.875490981963928%2C%2019.912745490981962%2C%2019.95%5D%29%0A%20%20%20%20%20%20%20%20%20%20%20%20%20%20.range%28%5B%27%23edf8fbff%27%2C%20%27%23edf8fbff%27%2C%20%27%23edf8fbff%27%2C%20%27%23edf8fbff%27%2C%20%27%23edf8fbff%27%2C%20%27%23edf8fbff%27%2C%20%27%23edf8fbff%27%2C%20%27%23edf8fbff%27%2C%20%27%23edf8fbff%27%2C%20%27%23edf8fbff%27%2C%20%27%23edf8fbff%27%2C%20%27%23edf8fbff%27%2C%20%27%23edf8fbff%27%2C%20%27%23edf8fbff%27%2C%20%27%23edf8fbff%27%2C%20%27%23edf8fbff%27%2C%20%27%23edf8fbff%27%2C%20%27%23edf8fbff%27%2C%20%27%23edf8fbff%27%2C%20%27%23edf8fbff%27%2C%20%27%23edf8fbff%27%2C%20%27%23edf8fbff%27%2C%20%27%23edf8fbff%27%2C%20%27%23edf8fbff%27%2C%20%27%23edf8fbff%27%2C%20%27%23edf8fbff%27%2C%20%27%23edf8fbff%27%2C%20%27%23edf8fbff%27%2C%20%27%23edf8fbff%27%2C%20%27%23edf8fbff%27%2C%20%27%23edf8fbff%27%2C%20%27%23edf8fbff%27%2C%20%27%23edf8fbff%27%2C%20%27%23edf8fbff%27%2C%20%27%23edf8fbff%27%2C%20%27%23edf8fbff%27%2C%20%27%23edf8fbff%27%2C%20%27%23edf8fbff%27%2C%20%27%23edf8fbff%27%2C%20%27%23edf8fbff%27%2C%20%27%23edf8fbff%27%2C%20%27%23edf8fbff%27%2C%20%27%23edf8fbff%27%2C%20%27%23edf8fbff%27%2C%20%27%23edf8fbff%27%2C%20%27%23edf8fbff%27%2C%20%27%23edf8fbff%27%2C%20%27%23edf8fbff%27%2C%20%27%23edf8fbff%27%2C%20%27%23edf8fbff%27%2C%20%27%23edf8fbff%27%2C%20%27%23edf8fbff%27%2C%20%27%23edf8fbff%27%2C%20%27%23edf8fbff%27%2C%20%27%23edf8fbff%27%2C%20%27%23edf8fbff%27%2C%20%27%23edf8fbff%27%2C%20%27%23edf8fbff%27%2C%20%27%23edf8fbff%27%2C%20%27%23edf8fbff%27%2C%20%27%23edf8fbff%27%2C%20%27%23edf8fbff%27%2C%20%27%23edf8fbff%27%2C%20%27%23edf8fbff%27%2C%20%27%23edf8fbff%27%2C%20%27%23edf8fbff%27%2C%20%27%23edf8fbff%27%2C%20%27%23edf8fbff%27%2C%20%27%23edf8fbff%27%2C%20%27%23edf8fbff%27%2C%20%27%23edf8fbff%27%2C%20%27%23edf8fbff%27%2C%20%27%23edf8fbff%27%2C%20%27%23edf8fbff%27%2C%20%27%23edf8fbff%27%2C%20%27%23edf8fbff%27%2C%20%27%23edf8fbff%27%2C%20%27%23edf8fbff%27%2C%20%27%23edf8fbff%27%2C%20%27%23edf8fbff%27%2C%20%27%23edf8fbff%27%2C%20%27%23edf8fbff%27%2C%20%27%23edf8fbff%27%2C%20%27%23edf8fbff%27%2C%20%27%23bfd3e6ff%27%2C%20%27%23bfd3e6ff%27%2C%20%27%23bfd3e6ff%27%2C%20%27%23bfd3e6ff%27%2C%20%27%23bfd3e6ff%27%2C%20%27%23bfd3e6ff%27%2C%20%27%23bfd3e6ff%27%2C%20%27%23bfd3e6ff%27%2C%20%27%23bfd3e6ff%27%2C%20%27%23bfd3e6ff%27%2C%20%27%23bfd3e6ff%27%2C%20%27%23bfd3e6ff%27%2C%20%27%23bfd3e6ff%27%2C%20%27%23bfd3e6ff%27%2C%20%27%23bfd3e6ff%27%2C%20%27%23bfd3e6ff%27%2C%20%27%23bfd3e6ff%27%2C%20%27%23bfd3e6ff%27%2C%20%27%23bfd3e6ff%27%2C%20%27%23bfd3e6ff%27%2C%20%27%23bfd3e6ff%27%2C%20%27%23bfd3e6ff%27%2C%20%27%23bfd3e6ff%27%2C%20%27%23bfd3e6ff%27%2C%20%27%23bfd3e6ff%27%2C%20%27%23bfd3e6ff%27%2C%20%27%23bfd3e6ff%27%2C%20%27%23bfd3e6ff%27%2C%20%27%23bfd3e6ff%27%2C%20%27%23bfd3e6ff%27%2C%20%27%23bfd3e6ff%27%2C%20%27%23bfd3e6ff%27%2C%20%27%23bfd3e6ff%27%2C%20%27%23bfd3e6ff%27%2C%20%27%23bfd3e6ff%27%2C%20%27%23bfd3e6ff%27%2C%20%27%23bfd3e6ff%27%2C%20%27%23bfd3e6ff%27%2C%20%27%23bfd3e6ff%27%2C%20%27%23bfd3e6ff%27%2C%20%27%23bfd3e6ff%27%2C%20%27%23bfd3e6ff%27%2C%20%27%23bfd3e6ff%27%2C%20%27%23bfd3e6ff%27%2C%20%27%23bfd3e6ff%27%2C%20%27%23bfd3e6ff%27%2C%20%27%23bfd3e6ff%27%2C%20%27%23bfd3e6ff%27%2C%20%27%23bfd3e6ff%27%2C%20%27%23bfd3e6ff%27%2C%20%27%23bfd3e6ff%27%2C%20%27%23bfd3e6ff%27%2C%20%27%23bfd3e6ff%27%2C%20%27%23bfd3e6ff%27%2C%20%27%23bfd3e6ff%27%2C%20%27%23bfd3e6ff%27%2C%20%27%23bfd3e6ff%27%2C%20%27%23bfd3e6ff%27%2C%20%27%23bfd3e6ff%27%2C%20%27%23bfd3e6ff%27%2C%20%27%23bfd3e6ff%27%2C%20%27%23bfd3e6ff%27%2C%20%27%23bfd3e6ff%27%2C%20%27%23bfd3e6ff%27%2C%20%27%23bfd3e6ff%27%2C%20%27%23bfd3e6ff%27%2C%20%27%23bfd3e6ff%27%2C%20%27%23bfd3e6ff%27%2C%20%27%23bfd3e6ff%27%2C%20%27%23bfd3e6ff%27%2C%20%27%23bfd3e6ff%27%2C%20%27%23bfd3e6ff%27%2C%20%27%23bfd3e6ff%27%2C%20%27%23bfd3e6ff%27%2C%20%27%23bfd3e6ff%27%2C%20%27%23bfd3e6ff%27%2C%20%27%23bfd3e6ff%27%2C%20%27%23bfd3e6ff%27%2C%20%27%23bfd3e6ff%27%2C%20%27%23bfd3e6ff%27%2C%20%27%23bfd3e6ff%27%2C%20%27%23bfd3e6ff%27%2C%20%27%23bfd3e6ff%27%2C%20%27%239ebcdaff%27%2C%20%27%239ebcdaff%27%2C%20%27%239ebcdaff%27%2C%20%27%239ebcdaff%27%2C%20%27%239ebcdaff%27%2C%20%27%239ebcdaff%27%2C%20%27%239ebcdaff%27%2C%20%27%239ebcdaff%27%2C%20%27%239ebcdaff%27%2C%20%27%239ebcdaff%27%2C%20%27%239ebcdaff%27%2C%20%27%239ebcdaff%27%2C%20%27%239ebcdaff%27%2C%20%27%239ebcdaff%27%2C%20%27%239ebcdaff%27%2C%20%27%239ebcdaff%27%2C%20%27%239ebcdaff%27%2C%20%27%239ebcdaff%27%2C%20%27%239ebcdaff%27%2C%20%27%239ebcdaff%27%2C%20%27%239ebcdaff%27%2C%20%27%239ebcdaff%27%2C%20%27%239ebcdaff%27%2C%20%27%239ebcdaff%27%2C%20%27%239ebcdaff%27%2C%20%27%239ebcdaff%27%2C%20%27%239ebcdaff%27%2C%20%27%239ebcdaff%27%2C%20%27%239ebcdaff%27%2C%20%27%239ebcdaff%27%2C%20%27%239ebcdaff%27%2C%20%27%239ebcdaff%27%2C%20%27%239ebcdaff%27%2C%20%27%239ebcdaff%27%2C%20%27%239ebcdaff%27%2C%20%27%239ebcdaff%27%2C%20%27%239ebcdaff%27%2C%20%27%239ebcdaff%27%2C%20%27%239ebcdaff%27%2C%20%27%239ebcdaff%27%2C%20%27%239ebcdaff%27%2C%20%27%239ebcdaff%27%2C%20%27%239ebcdaff%27%2C%20%27%239ebcdaff%27%2C%20%27%239ebcdaff%27%2C%20%27%239ebcdaff%27%2C%20%27%239ebcdaff%27%2C%20%27%239ebcdaff%27%2C%20%27%239ebcdaff%27%2C%20%27%239ebcdaff%27%2C%20%27%239ebcdaff%27%2C%20%27%239ebcdaff%27%2C%20%27%239ebcdaff%27%2C%20%27%239ebcdaff%27%2C%20%27%239ebcdaff%27%2C%20%27%239ebcdaff%27%2C%20%27%239ebcdaff%27%2C%20%27%239ebcdaff%27%2C%20%27%239ebcdaff%27%2C%20%27%239ebcdaff%27%2C%20%27%239ebcdaff%27%2C%20%27%239ebcdaff%27%2C%20%27%239ebcdaff%27%2C%20%27%239ebcdaff%27%2C%20%27%239ebcdaff%27%2C%20%27%239ebcdaff%27%2C%20%27%239ebcdaff%27%2C%20%27%239ebcdaff%27%2C%20%27%239ebcdaff%27%2C%20%27%239ebcdaff%27%2C%20%27%239ebcdaff%27%2C%20%27%239ebcdaff%27%2C%20%27%239ebcdaff%27%2C%20%27%239ebcdaff%27%2C%20%27%239ebcdaff%27%2C%20%27%239ebcdaff%27%2C%20%27%239ebcdaff%27%2C%20%27%239ebcdaff%27%2C%20%27%239ebcdaff%27%2C%20%27%239ebcdaff%27%2C%20%27%239ebcdaff%27%2C%20%27%239ebcdaff%27%2C%20%27%239ebcdaff%27%2C%20%27%238c96c6ff%27%2C%20%27%238c96c6ff%27%2C%20%27%238c96c6ff%27%2C%20%27%238c96c6ff%27%2C%20%27%238c96c6ff%27%2C%20%27%238c96c6ff%27%2C%20%27%238c96c6ff%27%2C%20%27%238c96c6ff%27%2C%20%27%238c96c6ff%27%2C%20%27%238c96c6ff%27%2C%20%27%238c96c6ff%27%2C%20%27%238c96c6ff%27%2C%20%27%238c96c6ff%27%2C%20%27%238c96c6ff%27%2C%20%27%238c96c6ff%27%2C%20%27%238c96c6ff%27%2C%20%27%238c96c6ff%27%2C%20%27%238c96c6ff%27%2C%20%27%238c96c6ff%27%2C%20%27%238c96c6ff%27%2C%20%27%238c96c6ff%27%2C%20%27%238c96c6ff%27%2C%20%27%238c96c6ff%27%2C%20%27%238c96c6ff%27%2C%20%27%238c96c6ff%27%2C%20%27%238c96c6ff%27%2C%20%27%238c96c6ff%27%2C%20%27%238c96c6ff%27%2C%20%27%238c96c6ff%27%2C%20%27%238c96c6ff%27%2C%20%27%238c96c6ff%27%2C%20%27%238c96c6ff%27%2C%20%27%238c96c6ff%27%2C%20%27%238c96c6ff%27%2C%20%27%238c96c6ff%27%2C%20%27%238c96c6ff%27%2C%20%27%238c96c6ff%27%2C%20%27%238c96c6ff%27%2C%20%27%238c96c6ff%27%2C%20%27%238c96c6ff%27%2C%20%27%238c96c6ff%27%2C%20%27%238c96c6ff%27%2C%20%27%238c96c6ff%27%2C%20%27%238c96c6ff%27%2C%20%27%238c96c6ff%27%2C%20%27%238c96c6ff%27%2C%20%27%238c96c6ff%27%2C%20%27%238c96c6ff%27%2C%20%27%238c96c6ff%27%2C%20%27%238c96c6ff%27%2C%20%27%238c96c6ff%27%2C%20%27%238c96c6ff%27%2C%20%27%238c96c6ff%27%2C%20%27%238c96c6ff%27%2C%20%27%238c96c6ff%27%2C%20%27%238c96c6ff%27%2C%20%27%238c96c6ff%27%2C%20%27%238c96c6ff%27%2C%20%27%238c96c6ff%27%2C%20%27%238c96c6ff%27%2C%20%27%238c96c6ff%27%2C%20%27%238c96c6ff%27%2C%20%27%238c96c6ff%27%2C%20%27%238c96c6ff%27%2C%20%27%238c96c6ff%27%2C%20%27%238c96c6ff%27%2C%20%27%238c96c6ff%27%2C%20%27%238c96c6ff%27%2C%20%27%238c96c6ff%27%2C%20%27%238c96c6ff%27%2C%20%27%238c96c6ff%27%2C%20%27%238c96c6ff%27%2C%20%27%238c96c6ff%27%2C%20%27%238c96c6ff%27%2C%20%27%238c96c6ff%27%2C%20%27%238c96c6ff%27%2C%20%27%238c96c6ff%27%2C%20%27%238c96c6ff%27%2C%20%27%238c96c6ff%27%2C%20%27%238c96c6ff%27%2C%20%27%238c96c6ff%27%2C%20%27%238c96c6ff%27%2C%20%27%238c96c6ff%27%2C%20%27%238856a7ff%27%2C%20%27%238856a7ff%27%2C%20%27%238856a7ff%27%2C%20%27%238856a7ff%27%2C%20%27%238856a7ff%27%2C%20%27%238856a7ff%27%2C%20%27%238856a7ff%27%2C%20%27%238856a7ff%27%2C%20%27%238856a7ff%27%2C%20%27%238856a7ff%27%2C%20%27%238856a7ff%27%2C%20%27%238856a7ff%27%2C%20%27%238856a7ff%27%2C%20%27%238856a7ff%27%2C%20%27%238856a7ff%27%2C%20%27%238856a7ff%27%2C%20%27%238856a7ff%27%2C%20%27%238856a7ff%27%2C%20%27%238856a7ff%27%2C%20%27%238856a7ff%27%2C%20%27%238856a7ff%27%2C%20%27%238856a7ff%27%2C%20%27%238856a7ff%27%2C%20%27%238856a7ff%27%2C%20%27%238856a7ff%27%2C%20%27%238856a7ff%27%2C%20%27%238856a7ff%27%2C%20%27%238856a7ff%27%2C%20%27%238856a7ff%27%2C%20%27%238856a7ff%27%2C%20%27%238856a7ff%27%2C%20%27%238856a7ff%27%2C%20%27%238856a7ff%27%2C%20%27%238856a7ff%27%2C%20%27%238856a7ff%27%2C%20%27%238856a7ff%27%2C%20%27%238856a7ff%27%2C%20%27%238856a7ff%27%2C%20%27%238856a7ff%27%2C%20%27%238856a7ff%27%2C%20%27%238856a7ff%27%2C%20%27%238856a7ff%27%2C%20%27%238856a7ff%27%2C%20%27%238856a7ff%27%2C%20%27%238856a7ff%27%2C%20%27%238856a7ff%27%2C%20%27%238856a7ff%27%2C%20%27%238856a7ff%27%2C%20%27%238856a7ff%27%2C%20%27%238856a7ff%27%2C%20%27%238856a7ff%27%2C%20%27%238856a7ff%27%2C%20%27%238856a7ff%27%2C%20%27%238856a7ff%27%2C%20%27%238856a7ff%27%2C%20%27%238856a7ff%27%2C%20%27%238856a7ff%27%2C%20%27%238856a7ff%27%2C%20%27%238856a7ff%27%2C%20%27%238856a7ff%27%2C%20%27%238856a7ff%27%2C%20%27%238856a7ff%27%2C%20%27%238856a7ff%27%2C%20%27%238856a7ff%27%2C%20%27%238856a7ff%27%2C%20%27%238856a7ff%27%2C%20%27%238856a7ff%27%2C%20%27%238856a7ff%27%2C%20%27%238856a7ff%27%2C%20%27%238856a7ff%27%2C%20%27%238856a7ff%27%2C%20%27%238856a7ff%27%2C%20%27%238856a7ff%27%2C%20%27%238856a7ff%27%2C%20%27%238856a7ff%27%2C%20%27%238856a7ff%27%2C%20%27%238856a7ff%27%2C%20%27%238856a7ff%27%2C%20%27%238856a7ff%27%2C%20%27%238856a7ff%27%2C%20%27%238856a7ff%27%2C%20%27%238856a7ff%27%2C%20%27%238856a7ff%27%2C%20%27%23810f7cff%27%2C%20%27%23810f7cff%27%2C%20%27%23810f7cff%27%2C%20%27%23810f7cff%27%2C%20%27%23810f7cff%27%2C%20%27%23810f7cff%27%2C%20%27%23810f7cff%27%2C%20%27%23810f7cff%27%2C%20%27%23810f7cff%27%2C%20%27%23810f7cff%27%2C%20%27%23810f7cff%27%2C%20%27%23810f7cff%27%2C%20%27%23810f7cff%27%2C%20%27%23810f7cff%27%2C%20%27%23810f7cff%27%2C%20%27%23810f7cff%27%2C%20%27%23810f7cff%27%2C%20%27%23810f7cff%27%2C%20%27%23810f7cff%27%2C%20%27%23810f7cff%27%2C%20%27%23810f7cff%27%2C%20%27%23810f7cff%27%2C%20%27%23810f7cff%27%2C%20%27%23810f7cff%27%2C%20%27%23810f7cff%27%2C%20%27%23810f7cff%27%2C%20%27%23810f7cff%27%2C%20%27%23810f7cff%27%2C%20%27%23810f7cff%27%2C%20%27%23810f7cff%27%2C%20%27%23810f7cff%27%2C%20%27%23810f7cff%27%2C%20%27%23810f7cff%27%2C%20%27%23810f7cff%27%2C%20%27%23810f7cff%27%2C%20%27%23810f7cff%27%2C%20%27%23810f7cff%27%2C%20%27%23810f7cff%27%2C%20%27%23810f7cff%27%2C%20%27%23810f7cff%27%2C%20%27%23810f7cff%27%2C%20%27%23810f7cff%27%2C%20%27%23810f7cff%27%2C%20%27%23810f7cff%27%2C%20%27%23810f7cff%27%2C%20%27%23810f7cff%27%2C%20%27%23810f7cff%27%2C%20%27%23810f7cff%27%2C%20%27%23810f7cff%27%2C%20%27%23810f7cff%27%2C%20%27%23810f7cff%27%2C%20%27%23810f7cff%27%2C%20%27%23810f7cff%27%2C%20%27%23810f7cff%27%2C%20%27%23810f7cff%27%2C%20%27%23810f7cff%27%2C%20%27%23810f7cff%27%2C%20%27%23810f7cff%27%2C%20%27%23810f7cff%27%2C%20%27%23810f7cff%27%2C%20%27%23810f7cff%27%2C%20%27%23810f7cff%27%2C%20%27%23810f7cff%27%2C%20%27%23810f7cff%27%2C%20%27%23810f7cff%27%2C%20%27%23810f7cff%27%2C%20%27%23810f7cff%27%2C%20%27%23810f7cff%27%2C%20%27%23810f7cff%27%2C%20%27%23810f7cff%27%2C%20%27%23810f7cff%27%2C%20%27%23810f7cff%27%2C%20%27%23810f7cff%27%2C%20%27%23810f7cff%27%2C%20%27%23810f7cff%27%2C%20%27%23810f7cff%27%2C%20%27%23810f7cff%27%2C%20%27%23810f7cff%27%2C%20%27%23810f7cff%27%2C%20%27%23810f7cff%27%2C%20%27%23810f7cff%27%2C%20%27%23810f7cff%27%2C%20%27%23810f7cff%27%2C%20%27%23810f7cff%27%5D%29%3B%0A%20%20%20%20%0A%0A%20%20%20%20color_map_99f36715cbeb4e7d8eaa4bfa5a80c299.x%20%3D%20d3.scale.linear%28%29%0A%20%20%20%20%20%20%20%20%20%20%20%20%20%20.domain%28%5B1.36%2C%2019.95%5D%29%0A%20%20%20%20%20%20%20%20%20%20%20%20%20%20.range%28%5B0%2C%20400%5D%29%3B%0A%0A%20%20%20%20color_map_99f36715cbeb4e7d8eaa4bfa5a80c299.legend%20%3D%20L.control%28%7Bposition%3A%20%27topright%27%7D%29%3B%0A%20%20%20%20color_map_99f36715cbeb4e7d8eaa4bfa5a80c299.legend.onAdd%20%3D%20function%20%28map%29%20%7Bvar%20div%20%3D%20L.DomUtil.create%28%27div%27%2C%20%27legend%27%29%3B%20return%20div%7D%3B%0A%20%20%20%20color_map_99f36715cbeb4e7d8eaa4bfa5a80c299.legend.addTo%28map_ae16ba8d640c4f308b5960297ac35ec5%29%3B%0A%0A%20%20%20%20color_map_99f36715cbeb4e7d8eaa4bfa5a80c299.xAxis%20%3D%20d3.svg.axis%28%29%0A%20%20%20%20%20%20%20%20.scale%28color_map_99f36715cbeb4e7d8eaa4bfa5a80c299.x%29%0A%20%20%20%20%20%20%20%20.orient%28%22top%22%29%0A%20%20%20%20%20%20%20%20.tickSize%281%29%0A%20%20%20%20%20%20%20%20.tickValues%28%5B1.36%2C%204.458333333333333%2C%207.556666666666667%2C%2010.655%2C%2013.753333333333332%2C%2016.851666666666667%2C%2019.95%5D%29%3B%0A%0A%20%20%20%20color_map_99f36715cbeb4e7d8eaa4bfa5a80c299.svg%20%3D%20d3.select%28%22.legend.leaflet-control%22%29.append%28%22svg%22%29%0A%20%20%20%20%20%20%20%20.attr%28%22id%22%2C%20%27legend%27%29%0A%20%20%20%20%20%20%20%20.attr%28%22width%22%2C%20450%29%0A%20%20%20%20%20%20%20%20.attr%28%22height%22%2C%2040%29%3B%0A%0A%20%20%20%20color_map_99f36715cbeb4e7d8eaa4bfa5a80c299.g%20%3D%20color_map_99f36715cbeb4e7d8eaa4bfa5a80c299.svg.append%28%22g%22%29%0A%20%20%20%20%20%20%20%20.attr%28%22class%22%2C%20%22key%22%29%0A%20%20%20%20%20%20%20%20.attr%28%22transform%22%2C%20%22translate%2825%2C16%29%22%29%3B%0A%0A%20%20%20%20color_map_99f36715cbeb4e7d8eaa4bfa5a80c299.g.selectAll%28%22rect%22%29%0A%20%20%20%20%20%20%20%20.data%28color_map_99f36715cbeb4e7d8eaa4bfa5a80c299.color.range%28%29.map%28function%28d%2C%20i%29%20%7B%0A%20%20%20%20%20%20%20%20%20%20return%20%7B%0A%20%20%20%20%20%20%20%20%20%20%20%20x0%3A%20i%20%3F%20color_map_99f36715cbeb4e7d8eaa4bfa5a80c299.x%28color_map_99f36715cbeb4e7d8eaa4bfa5a80c299.color.domain%28%29%5Bi%20-%201%5D%29%20%3A%20color_map_99f36715cbeb4e7d8eaa4bfa5a80c299.x.range%28%29%5B0%5D%2C%0A%20%20%20%20%20%20%20%20%20%20%20%20x1%3A%20i%20%3C%20color_map_99f36715cbeb4e7d8eaa4bfa5a80c299.color.domain%28%29.length%20%3F%20color_map_99f36715cbeb4e7d8eaa4bfa5a80c299.x%28color_map_99f36715cbeb4e7d8eaa4bfa5a80c299.color.domain%28%29%5Bi%5D%29%20%3A%20color_map_99f36715cbeb4e7d8eaa4bfa5a80c299.x.range%28%29%5B1%5D%2C%0A%20%20%20%20%20%20%20%20%20%20%20%20z%3A%20d%0A%20%20%20%20%20%20%20%20%20%20%7D%3B%0A%20%20%20%20%20%20%20%20%7D%29%29%0A%20%20%20%20%20%20.enter%28%29.append%28%22rect%22%29%0A%20%20%20%20%20%20%20%20.attr%28%22height%22%2C%2010%29%0A%20%20%20%20%20%20%20%20.attr%28%22x%22%2C%20function%28d%29%20%7B%20return%20d.x0%3B%20%7D%29%0A%20%20%20%20%20%20%20%20.attr%28%22width%22%2C%20function%28d%29%20%7B%20return%20d.x1%20-%20d.x0%3B%20%7D%29%0A%20%20%20%20%20%20%20%20.style%28%22fill%22%2C%20function%28d%29%20%7B%20return%20d.z%3B%20%7D%29%3B%0A%0A%20%20%20%20color_map_99f36715cbeb4e7d8eaa4bfa5a80c299.g.call%28color_map_99f36715cbeb4e7d8eaa4bfa5a80c299.xAxis%29.append%28%22text%22%29%0A%20%20%20%20%20%20%20%20.attr%28%22class%22%2C%20%22caption%22%29%0A%20%20%20%20%20%20%20%20.attr%28%22y%22%2C%2021%29%0A%20%20%20%20%20%20%20%20.text%28%2720%EB%85%84%EC%99%B8%EA%B5%AD%EC%9D%B8cctv%EC%84%A4%EC%B9%98%EC%9C%A8%27%29%3B%0A%3C/script%3E onload=\"this.contentDocument.open();this.contentDocument.write(    decodeURIComponent(this.getAttribute('data-html')));this.contentDocument.close();\" allowfullscreen webkitallowfullscreen mozallowfullscreen></iframe></div></div>"
            ],
            "text/plain": [
              "<folium.folium.Map at 0x7f1397711110>"
            ]
          },
          "metadata": {},
          "execution_count": 64
        }
      ]
    },
    {
      "cell_type": "code",
      "metadata": {
        "id": "BddVOEAcMmwf"
      },
      "source": [
        ""
      ],
      "execution_count": null,
      "outputs": []
    }
  ]
}