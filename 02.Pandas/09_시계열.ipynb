{
  "nbformat": 4,
  "nbformat_minor": 0,
  "metadata": {
    "colab": {
      "name": "09_시계열.ipynb",
      "provenance": [],
      "collapsed_sections": []
    },
    "kernelspec": {
      "name": "python3",
      "display_name": "Python 3"
    },
    "language_info": {
      "name": "python"
    }
  },
  "cells": [
    {
      "cell_type": "code",
      "metadata": {
        "id": "XWSsXhWy2QHP"
      },
      "source": [
        "import numpy as np\n",
        "import pandas as pd\n",
        "import seaborn as sns"
      ],
      "execution_count": 1,
      "outputs": []
    },
    {
      "cell_type": "markdown",
      "metadata": {
        "id": "XaFQpFT_2RQN"
      },
      "source": [
        "# 시계열 자료 다루기"
      ]
    },
    {
      "cell_type": "markdown",
      "metadata": {
        "id": "bkqJu8Cy2TJw"
      },
      "source": [
        "## DatatimeIndex"
      ]
    },
    {
      "cell_type": "code",
      "metadata": {
        "colab": {
          "base_uri": "https://localhost:8080/"
        },
        "id": "1mOJ-P4q2JG0",
        "outputId": "aa4294f8-f1fe-4fb2-b386-23beb3f0d612"
      },
      "source": [
        "date_str = [\"2021, 8, 10\", \"2021-8-11\", \"20210812\", \"2021.8.13\", '081421', '08/15/21']\n",
        "idx = pd.to_datetime(date_str)\n",
        "idx"
      ],
      "execution_count": 8,
      "outputs": [
        {
          "output_type": "execute_result",
          "data": {
            "text/plain": [
              "DatetimeIndex(['2021-08-10', '2021-08-11', '2021-08-12', '2021-08-13',\n",
              "               '2021-08-14', '2021-08-15'],\n",
              "              dtype='datetime64[ns]', freq=None)"
            ]
          },
          "metadata": {
            "tags": []
          },
          "execution_count": 8
        }
      ]
    },
    {
      "cell_type": "code",
      "metadata": {
        "colab": {
          "base_uri": "https://localhost:8080/"
        },
        "id": "cIq6aIFN4jlM",
        "outputId": "416af21d-b9a0-424f-96dc-396176266a34"
      },
      "source": [
        "np.random.seed(2021)\n",
        "s = pd.Series(np.random.randn(6), index=idx)\n",
        "s"
      ],
      "execution_count": 9,
      "outputs": [
        {
          "output_type": "execute_result",
          "data": {
            "text/plain": [
              "2021-08-10    1.488609\n",
              "2021-08-11    0.676011\n",
              "2021-08-12   -0.418451\n",
              "2021-08-13   -0.806521\n",
              "2021-08-14    0.555876\n",
              "2021-08-15   -0.705504\n",
              "dtype: float64"
            ]
          },
          "metadata": {
            "tags": []
          },
          "execution_count": 9
        }
      ]
    },
    {
      "cell_type": "code",
      "metadata": {
        "colab": {
          "base_uri": "https://localhost:8080/"
        },
        "id": "YopIYXPc5nmP",
        "outputId": "05ebb88c-79fc-4c56-d1a7-bd12a04a18f9"
      },
      "source": [
        "pd.date_range(\"20210801\", \"2021-8-31\")"
      ],
      "execution_count": 11,
      "outputs": [
        {
          "output_type": "execute_result",
          "data": {
            "text/plain": [
              "DatetimeIndex(['2021-08-01', '2021-08-02', '2021-08-03', '2021-08-04',\n",
              "               '2021-08-05', '2021-08-06', '2021-08-07', '2021-08-08',\n",
              "               '2021-08-09', '2021-08-10', '2021-08-11', '2021-08-12',\n",
              "               '2021-08-13', '2021-08-14', '2021-08-15', '2021-08-16',\n",
              "               '2021-08-17', '2021-08-18', '2021-08-19', '2021-08-20',\n",
              "               '2021-08-21', '2021-08-22', '2021-08-23', '2021-08-24',\n",
              "               '2021-08-25', '2021-08-26', '2021-08-27', '2021-08-28',\n",
              "               '2021-08-29', '2021-08-30', '2021-08-31'],\n",
              "              dtype='datetime64[ns]', freq='D')"
            ]
          },
          "metadata": {
            "tags": []
          },
          "execution_count": 11
        }
      ]
    },
    {
      "cell_type": "code",
      "metadata": {
        "colab": {
          "base_uri": "https://localhost:8080/"
        },
        "id": "-vIsM3Zy6Paa",
        "outputId": "e264a2c6-f1e7-4ee1-d9f2-0d4c79fd4c1c"
      },
      "source": [
        "# day\n",
        "pd.date_range(start=\"2021-8-1\", periods=31)"
      ],
      "execution_count": 13,
      "outputs": [
        {
          "output_type": "execute_result",
          "data": {
            "text/plain": [
              "DatetimeIndex(['2021-08-01', '2021-08-02', '2021-08-03', '2021-08-04',\n",
              "               '2021-08-05', '2021-08-06', '2021-08-07', '2021-08-08',\n",
              "               '2021-08-09', '2021-08-10', '2021-08-11', '2021-08-12',\n",
              "               '2021-08-13', '2021-08-14', '2021-08-15', '2021-08-16',\n",
              "               '2021-08-17', '2021-08-18', '2021-08-19', '2021-08-20',\n",
              "               '2021-08-21', '2021-08-22', '2021-08-23', '2021-08-24',\n",
              "               '2021-08-25', '2021-08-26', '2021-08-27', '2021-08-28',\n",
              "               '2021-08-29', '2021-08-30', '2021-08-31'],\n",
              "              dtype='datetime64[ns]', freq='D')"
            ]
          },
          "metadata": {
            "tags": []
          },
          "execution_count": 13
        }
      ]
    },
    {
      "cell_type": "code",
      "metadata": {
        "colab": {
          "base_uri": "https://localhost:8080/"
        },
        "id": "JEzTCahW9LuQ",
        "outputId": "096b560d-1dcc-4a8e-9f9c-22ba4b64483d"
      },
      "source": [
        "# Biz - day (평일)\n",
        "pd.date_range('2021-08-01', periods=22, freq='B')"
      ],
      "execution_count": 16,
      "outputs": [
        {
          "output_type": "execute_result",
          "data": {
            "text/plain": [
              "DatetimeIndex(['2021-08-02', '2021-08-03', '2021-08-04', '2021-08-05',\n",
              "               '2021-08-06', '2021-08-09', '2021-08-10', '2021-08-11',\n",
              "               '2021-08-12', '2021-08-13', '2021-08-16', '2021-08-17',\n",
              "               '2021-08-18', '2021-08-19', '2021-08-20', '2021-08-23',\n",
              "               '2021-08-24', '2021-08-25', '2021-08-26', '2021-08-27',\n",
              "               '2021-08-30', '2021-08-31'],\n",
              "              dtype='datetime64[ns]', freq='B')"
            ]
          },
          "metadata": {
            "tags": []
          },
          "execution_count": 16
        }
      ]
    },
    {
      "cell_type": "code",
      "metadata": {
        "colab": {
          "base_uri": "https://localhost:8080/"
        },
        "id": "UnqX0GGr9a1I",
        "outputId": "46d58495-946a-48b6-9966-f3d5f1e78ccd"
      },
      "source": [
        "pd.date_range('20210801', '20210831', freq='W')"
      ],
      "execution_count": 17,
      "outputs": [
        {
          "output_type": "execute_result",
          "data": {
            "text/plain": [
              "DatetimeIndex(['2021-08-01', '2021-08-08', '2021-08-15', '2021-08-22',\n",
              "               '2021-08-29'],\n",
              "              dtype='datetime64[ns]', freq='W-SUN')"
            ]
          },
          "metadata": {
            "tags": []
          },
          "execution_count": 17
        }
      ]
    },
    {
      "cell_type": "markdown",
      "metadata": {
        "id": "ZHnD45Gc-LWT"
      },
      "source": [
        "보다 자세한 내용은 다음 웹사이트를 참조한다.\n",
        "\n",
        "https://pandas.pydata.org/pandas-docs/stable/user_guide/timeseries.html#dateoffset-objects"
      ]
    },
    {
      "cell_type": "markdown",
      "metadata": {
        "id": "nEiikzSv-ZuC"
      },
      "source": [
        "## resample 연산"
      ]
    },
    {
      "cell_type": "code",
      "metadata": {
        "colab": {
          "base_uri": "https://localhost:8080/"
        },
        "id": "-3mw1qZ198XR",
        "outputId": "977d842a-d42e-49c7-da0b-2d01ae10220a"
      },
      "source": [
        "ts = pd.Series(np.random.randn(100), index=pd.date_range(\n",
        "    \"2021-1-1\", periods=100))\n",
        "ts.tail(10)"
      ],
      "execution_count": 21,
      "outputs": [
        {
          "output_type": "execute_result",
          "data": {
            "text/plain": [
              "2021-04-01   -0.120349\n",
              "2021-04-02   -1.226517\n",
              "2021-04-03   -0.722695\n",
              "2021-04-04   -0.619026\n",
              "2021-04-05   -0.988081\n",
              "2021-04-06   -0.532415\n",
              "2021-04-07    1.182246\n",
              "2021-04-08    0.770814\n",
              "2021-04-09   -0.416720\n",
              "2021-04-10   -0.266896\n",
              "Freq: D, dtype: float64"
            ]
          },
          "metadata": {
            "tags": []
          },
          "execution_count": 21
        }
      ]
    },
    {
      "cell_type": "code",
      "metadata": {
        "colab": {
          "base_uri": "https://localhost:8080/"
        },
        "id": "lC759Bu2-fub",
        "outputId": "33abe240-5c5f-40ad-a4ac-8276997a1501"
      },
      "source": [
        "ts.resample('W').mean()"
      ],
      "execution_count": 22,
      "outputs": [
        {
          "output_type": "execute_result",
          "data": {
            "text/plain": [
              "2021-01-03   -0.783834\n",
              "2021-01-10    0.079340\n",
              "2021-01-17    0.031972\n",
              "2021-01-24    0.090227\n",
              "2021-01-31    0.494597\n",
              "2021-02-07    0.205843\n",
              "2021-02-14   -0.217821\n",
              "2021-02-21   -0.188179\n",
              "2021-02-28    0.348574\n",
              "2021-03-07    0.299712\n",
              "2021-03-14    0.480872\n",
              "2021-03-21   -0.686839\n",
              "2021-03-28    0.185799\n",
              "2021-04-04   -0.147857\n",
              "2021-04-11   -0.041842\n",
              "Freq: W-SUN, dtype: float64"
            ]
          },
          "metadata": {
            "tags": []
          },
          "execution_count": 22
        }
      ]
    },
    {
      "cell_type": "code",
      "metadata": {
        "colab": {
          "base_uri": "https://localhost:8080/"
        },
        "id": "vmuis_GM-zsm",
        "outputId": "0434e458-f517-4278-a87b-b7ff0448478c"
      },
      "source": [
        "ts.resample('M').first()"
      ],
      "execution_count": 24,
      "outputs": [
        {
          "output_type": "execute_result",
          "data": {
            "text/plain": [
              "2021-01-31   -0.387930\n",
              "2021-02-28   -2.868879\n",
              "2021-03-31   -0.185138\n",
              "2021-04-30   -0.120349\n",
              "Freq: M, dtype: float64"
            ]
          },
          "metadata": {
            "tags": []
          },
          "execution_count": 24
        }
      ]
    },
    {
      "cell_type": "code",
      "metadata": {
        "id": "o4k4O5Ea-7QN"
      },
      "source": [
        ""
      ],
      "execution_count": null,
      "outputs": []
    }
  ]
}