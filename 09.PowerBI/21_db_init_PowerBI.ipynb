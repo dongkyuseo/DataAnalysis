{
  "nbformat": 4,
  "nbformat_minor": 0,
  "metadata": {
    "colab": {
      "name": "21_db_init_PowerBI.ipynb",
      "provenance": [],
      "collapsed_sections": []
    },
    "kernelspec": {
      "name": "python3",
      "display_name": "Python 3"
    },
    "language_info": {
      "name": "python"
    }
  },
  "cells": [
    {
      "cell_type": "markdown",
      "metadata": {
        "id": "c1UDsRiLNMoZ"
      },
      "source": [
        "#  DB초기화 프로그램 - PowerBI용 데이터 생성"
      ]
    },
    {
      "cell_type": "code",
      "metadata": {
        "colab": {
          "resources": {
            "http://localhost:8080/nbextensions/google.colab/files.js": {
              "data": "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",
              "ok": true,
              "headers": [
                [
                  "content-type",
                  "application/javascript"
                ]
              ],
              "status": 200,
              "status_text": ""
            }
          },
          "base_uri": "https://localhost:8080/",
          "height": 76
        },
        "id": "jPilFQpq0I6W",
        "outputId": "9af624fc-544b-4372-e866-3e20c7b8eb68"
      },
      "source": [
        "!pip install pymysql > /dev/null #mysql 설치\n",
        "\n",
        "# mysql.json 파일 업로드\n",
        "from google.colab import files\n",
        "uploaded = files.upload()\n",
        "filename = list(uploaded.keys())[0]\n",
        "\n",
        "# json 파일 읽기, mysql 로그인 및 접속\n",
        "import json, pymysql\n",
        "with open(filename) as fp:\n",
        "  config_str = fp.read()\n",
        "config = json.loads(config_str)\n",
        "\n",
        "conn = pymysql.connect(**config)"
      ],
      "execution_count": 1,
      "outputs": [
        {
          "output_type": "display_data",
          "data": {
            "text/html": [
              "\n",
              "     <input type=\"file\" id=\"files-b07fcb59-cb61-4f72-8155-11f34e3fbaca\" name=\"files[]\" multiple disabled\n",
              "        style=\"border:none\" />\n",
              "     <output id=\"result-b07fcb59-cb61-4f72-8155-11f34e3fbaca\">\n",
              "      Upload widget is only available when the cell has been executed in the\n",
              "      current browser session. Please rerun this cell to enable.\n",
              "      </output>\n",
              "      <script src=\"/nbextensions/google.colab/files.js\"></script> "
            ],
            "text/plain": [
              "<IPython.core.display.HTML object>"
            ]
          },
          "metadata": {}
        },
        {
          "output_type": "stream",
          "name": "stdout",
          "text": [
            "Saving mysql.json to mysql.json\n"
          ]
        }
      ]
    },
    {
      "cell_type": "markdown",
      "metadata": {
        "id": "ZXvWJN0J_qmk"
      },
      "source": [
        "## product 테이블 생성"
      ]
    },
    {
      "cell_type": "code",
      "metadata": {
        "colab": {
          "base_uri": "https://localhost:8080/"
        },
        "id": "rqZpFopZ8UA4",
        "outputId": "a8148a32-1006-43bf-8a85-31bdac897f40"
      },
      "source": [
        "sql_ct_products = \"\"\"\n",
        "    create table if not exists products (\n",
        "        pid int not null auto_increment primary key,\n",
        "        pname varchar(20) not null,\n",
        "        pprice int not null,\n",
        "        pcategory varchar(40) not null,\n",
        "        pcost int not null\n",
        "        \n",
        "        )auto_increment=10001;\n",
        "    \"\"\"\n",
        "cur = conn.cursor()\n",
        "cur.execute(sql_ct_products)"
      ],
      "execution_count": 2,
      "outputs": [
        {
          "output_type": "execute_result",
          "data": {
            "text/plain": [
              "0"
            ]
          },
          "metadata": {},
          "execution_count": 2
        }
      ]
    },
    {
      "cell_type": "code",
      "metadata": {
        "id": "GUhFAxyPPS8O"
      },
      "source": [
        "p_bottom_names = ['청바지', '흑청바지', '중청바지', '면바지', '스커트']\n",
        "p_top_names = ['반팔티', '긴팔티', '후드티', '맨투맨', '셔츠']\n",
        "p_shoes_names = ['운동화', '러닝화', '구두', '부츠', '슬리퍼']"
      ],
      "execution_count": 3,
      "outputs": []
    },
    {
      "cell_type": "code",
      "metadata": {
        "id": "8TPBmK7oC8YD"
      },
      "source": [
        "def add_pds(pname, pcategory):\n",
        "  cur = conn.cursor()\n",
        "  import random\n",
        "  import pandas as pd\n",
        "  import numpy as np\n",
        "  pprice = random.randint(30000, 100000)\n",
        "  pcost = pprice * ((random.randint(20, 40)) / 100)\n",
        "\n",
        "  sql_insert = \"insert into products(pname, pprice, pcategory, pcost) values(%s, %s, %s, %s)\"\n",
        "\n",
        "  cur.execute(sql_insert, (pname, pprice, pcategory, pcost))\n",
        "  conn.commit()\n",
        "  return"
      ],
      "execution_count": 4,
      "outputs": []
    },
    {
      "cell_type": "code",
      "metadata": {
        "id": "vJKWDjQuCtC-"
      },
      "source": [
        "for i in range(1, 3):\n",
        "  for bt in p_bottom_names:\n",
        "    add_pds(f'{bt}{i}', 'bottom')\n",
        "  for tp in p_top_names:\n",
        "    add_pds(f'{tp}{i}', 'top')\n",
        "  for ss in p_shoes_names:\n",
        "    add_pds(f'{ss}{i}', 'shoes')\n"
      ],
      "execution_count": 5,
      "outputs": []
    },
    {
      "cell_type": "markdown",
      "metadata": {
        "id": "qAPXMu6dENUY"
      },
      "source": [
        "## sales 테이블 생성"
      ]
    },
    {
      "cell_type": "code",
      "metadata": {
        "colab": {
          "base_uri": "https://localhost:8080/"
        },
        "id": "nvu_WLt98Z0n",
        "outputId": "a0f8a68e-9735-4c90-dd12-cc133fcc516c"
      },
      "source": [
        "sql_ct_sales = \"\"\"\n",
        "    create table if not exists sales (\n",
        "        sid int(20) not null auto_increment primary key,\n",
        "        sdate date not null,\n",
        "        scompany varchar(40) not null,\n",
        "        spid int not null,\n",
        "        sunit int not null,\n",
        "        foreign key(spid) references products(pid)\n",
        "        )auto_increment=00101;\n",
        "    \"\"\"\n",
        "cur = conn.cursor()\n",
        "cur.execute(sql_ct_sales)"
      ],
      "execution_count": 6,
      "outputs": [
        {
          "output_type": "execute_result",
          "data": {
            "text/plain": [
              "0"
            ]
          },
          "metadata": {},
          "execution_count": 6
        }
      ]
    },
    {
      "cell_type": "code",
      "metadata": {
        "id": "vEkfCCVmDAw7"
      },
      "source": [
        "def add_sales(sdate, scompany):\n",
        "  import random\n",
        "  import pandas as pd\n",
        "  import numpy as np\n",
        "  \n",
        "  cur = conn.cursor()\n",
        "  spid = random.randint(10001, 10030)\n",
        "  sunit = random.randint(5, 10)\n",
        "\n",
        "  sql_insert = \"insert into sales(sdate, scompany, spid, sunit) values(%s, %s, %s, %s)\"\n",
        "\n",
        "  cur.execute(sql_insert, (sdate, scompany, spid, sunit))\n",
        "  conn.commit()\n",
        "  return"
      ],
      "execution_count": 7,
      "outputs": []
    },
    {
      "cell_type": "code",
      "metadata": {
        "id": "BWIOCEvyK46Y"
      },
      "source": [
        "companys = ['무신사', 'abc마트', '이마트', '롯데백화점', '현대백화점']\n",
        "import random\n",
        "for year in range(2015, 2021):\n",
        "  for i in range(1, 13):\n",
        "    x = random.randint(2, 3)\n",
        "    for k in range(x):\n",
        "      for company in companys:\n",
        "        sdate = f'{year}-{i}-{random.randint(1, 28)}'\n",
        "        add_sales(sdate, company)\n"
      ],
      "execution_count": 8,
      "outputs": []
    },
    {
      "cell_type": "markdown",
      "metadata": {
        "id": "w2er5BWcBI3g"
      },
      "source": [
        "## 두 테이블을 join 한 view 생성"
      ]
    },
    {
      "cell_type": "code",
      "metadata": {
        "colab": {
          "base_uri": "https://localhost:8080/"
        },
        "id": "PqaMkkJAAFHu",
        "outputId": "8db8d530-1449-4f6a-b18a-fbb1123e7afd"
      },
      "source": [
        "sql = \"\"\"\n",
        "    create view sales_list as\n",
        "      select sid, sdate, scompany, pid, pname, pcategory, pprice, sunit, pcost, \n",
        "      pprice*sunit as revenue, (pprice-pcost)*sunit as profit\n",
        "      from sales\n",
        "      join products\n",
        "      on sales.spid = products.pid\n",
        "      order by sdate;\n",
        "\"\"\"\n",
        "cur = conn.cursor()\n",
        "cur.execute(sql)"
      ],
      "execution_count": 9,
      "outputs": [
        {
          "output_type": "execute_result",
          "data": {
            "text/plain": [
              "0"
            ]
          },
          "metadata": {},
          "execution_count": 9
        }
      ]
    },
    {
      "cell_type": "code",
      "metadata": {
        "id": "xBfMeNnoBrXi"
      },
      "source": [
        "# 데이터 sales_list.csv로 저장\n",
        "\n",
        "sql = 'select * from sales_list'\n",
        "cur.execute(sql)\n",
        "results = cur.fetchall()"
      ],
      "execution_count": null,
      "outputs": []
    },
    {
      "cell_type": "code",
      "metadata": {
        "colab": {
          "base_uri": "https://localhost:8080/",
          "height": 419
        },
        "id": "Kw8tPCSuCEl5",
        "outputId": "22d6f690-5bab-49b3-d426-fff32d0f4c17"
      },
      "source": [
        "import pandas as pd\n",
        "\n",
        "df = pd.DataFrame(results)\n",
        "df"
      ],
      "execution_count": null,
      "outputs": [
        {
          "output_type": "execute_result",
          "data": {
            "text/html": [
              "<div>\n",
              "<style scoped>\n",
              "    .dataframe tbody tr th:only-of-type {\n",
              "        vertical-align: middle;\n",
              "    }\n",
              "\n",
              "    .dataframe tbody tr th {\n",
              "        vertical-align: top;\n",
              "    }\n",
              "\n",
              "    .dataframe thead th {\n",
              "        text-align: right;\n",
              "    }\n",
              "</style>\n",
              "<table border=\"1\" class=\"dataframe\">\n",
              "  <thead>\n",
              "    <tr style=\"text-align: right;\">\n",
              "      <th></th>\n",
              "      <th>0</th>\n",
              "      <th>1</th>\n",
              "      <th>2</th>\n",
              "      <th>3</th>\n",
              "      <th>4</th>\n",
              "      <th>5</th>\n",
              "      <th>6</th>\n",
              "      <th>7</th>\n",
              "      <th>8</th>\n",
              "      <th>9</th>\n",
              "      <th>10</th>\n",
              "    </tr>\n",
              "  </thead>\n",
              "  <tbody>\n",
              "    <tr>\n",
              "      <th>0</th>\n",
              "      <td>104</td>\n",
              "      <td>2020-01-05</td>\n",
              "      <td>롯데백화점</td>\n",
              "      <td>10014</td>\n",
              "      <td>부츠1</td>\n",
              "      <td>shoes</td>\n",
              "      <td>86873</td>\n",
              "      <td>7</td>\n",
              "      <td>26931</td>\n",
              "      <td>608111</td>\n",
              "      <td>419594</td>\n",
              "    </tr>\n",
              "    <tr>\n",
              "      <th>1</th>\n",
              "      <td>103</td>\n",
              "      <td>2020-01-05</td>\n",
              "      <td>이마트</td>\n",
              "      <td>10015</td>\n",
              "      <td>슬리퍼1</td>\n",
              "      <td>shoes</td>\n",
              "      <td>67172</td>\n",
              "      <td>10</td>\n",
              "      <td>14778</td>\n",
              "      <td>671720</td>\n",
              "      <td>523940</td>\n",
              "    </tr>\n",
              "    <tr>\n",
              "      <th>2</th>\n",
              "      <td>102</td>\n",
              "      <td>2020-01-06</td>\n",
              "      <td>abc마트</td>\n",
              "      <td>10009</td>\n",
              "      <td>맨투맨1</td>\n",
              "      <td>top</td>\n",
              "      <td>81970</td>\n",
              "      <td>9</td>\n",
              "      <td>27870</td>\n",
              "      <td>737730</td>\n",
              "      <td>486900</td>\n",
              "    </tr>\n",
              "    <tr>\n",
              "      <th>3</th>\n",
              "      <td>106</td>\n",
              "      <td>2020-01-08</td>\n",
              "      <td>무신사</td>\n",
              "      <td>10015</td>\n",
              "      <td>슬리퍼1</td>\n",
              "      <td>shoes</td>\n",
              "      <td>67172</td>\n",
              "      <td>9</td>\n",
              "      <td>14778</td>\n",
              "      <td>604548</td>\n",
              "      <td>471546</td>\n",
              "    </tr>\n",
              "    <tr>\n",
              "      <th>4</th>\n",
              "      <td>108</td>\n",
              "      <td>2020-01-13</td>\n",
              "      <td>이마트</td>\n",
              "      <td>10019</td>\n",
              "      <td>면바지2</td>\n",
              "      <td>bottom</td>\n",
              "      <td>57460</td>\n",
              "      <td>9</td>\n",
              "      <td>18387</td>\n",
              "      <td>517140</td>\n",
              "      <td>351657</td>\n",
              "    </tr>\n",
              "    <tr>\n",
              "      <th>...</th>\n",
              "      <td>...</td>\n",
              "      <td>...</td>\n",
              "      <td>...</td>\n",
              "      <td>...</td>\n",
              "      <td>...</td>\n",
              "      <td>...</td>\n",
              "      <td>...</td>\n",
              "      <td>...</td>\n",
              "      <td>...</td>\n",
              "      <td>...</td>\n",
              "      <td>...</td>\n",
              "    </tr>\n",
              "    <tr>\n",
              "      <th>130</th>\n",
              "      <td>230</td>\n",
              "      <td>2020-12-17</td>\n",
              "      <td>현대백화점</td>\n",
              "      <td>10028</td>\n",
              "      <td>구두2</td>\n",
              "      <td>shoes</td>\n",
              "      <td>44360</td>\n",
              "      <td>10</td>\n",
              "      <td>12421</td>\n",
              "      <td>443600</td>\n",
              "      <td>319390</td>\n",
              "    </tr>\n",
              "    <tr>\n",
              "      <th>131</th>\n",
              "      <td>235</td>\n",
              "      <td>2020-12-19</td>\n",
              "      <td>현대백화점</td>\n",
              "      <td>10019</td>\n",
              "      <td>면바지2</td>\n",
              "      <td>bottom</td>\n",
              "      <td>57460</td>\n",
              "      <td>9</td>\n",
              "      <td>18387</td>\n",
              "      <td>517140</td>\n",
              "      <td>351657</td>\n",
              "    </tr>\n",
              "    <tr>\n",
              "      <th>132</th>\n",
              "      <td>227</td>\n",
              "      <td>2020-12-21</td>\n",
              "      <td>abc마트</td>\n",
              "      <td>10017</td>\n",
              "      <td>흑청바지2</td>\n",
              "      <td>bottom</td>\n",
              "      <td>74516</td>\n",
              "      <td>9</td>\n",
              "      <td>17884</td>\n",
              "      <td>670644</td>\n",
              "      <td>509688</td>\n",
              "    </tr>\n",
              "    <tr>\n",
              "      <th>133</th>\n",
              "      <td>232</td>\n",
              "      <td>2020-12-25</td>\n",
              "      <td>abc마트</td>\n",
              "      <td>10014</td>\n",
              "      <td>부츠1</td>\n",
              "      <td>shoes</td>\n",
              "      <td>86873</td>\n",
              "      <td>9</td>\n",
              "      <td>26931</td>\n",
              "      <td>781857</td>\n",
              "      <td>539478</td>\n",
              "    </tr>\n",
              "    <tr>\n",
              "      <th>134</th>\n",
              "      <td>226</td>\n",
              "      <td>2020-12-26</td>\n",
              "      <td>무신사</td>\n",
              "      <td>10001</td>\n",
              "      <td>청바지1</td>\n",
              "      <td>bottom</td>\n",
              "      <td>39044</td>\n",
              "      <td>8</td>\n",
              "      <td>8199</td>\n",
              "      <td>312352</td>\n",
              "      <td>246760</td>\n",
              "    </tr>\n",
              "  </tbody>\n",
              "</table>\n",
              "<p>135 rows × 11 columns</p>\n",
              "</div>"
            ],
            "text/plain": [
              "      0           1      2      3      4   ...     6   7      8       9       10\n",
              "0    104  2020-01-05  롯데백화점  10014    부츠1  ...  86873   7  26931  608111  419594\n",
              "1    103  2020-01-05    이마트  10015   슬리퍼1  ...  67172  10  14778  671720  523940\n",
              "2    102  2020-01-06  abc마트  10009   맨투맨1  ...  81970   9  27870  737730  486900\n",
              "3    106  2020-01-08    무신사  10015   슬리퍼1  ...  67172   9  14778  604548  471546\n",
              "4    108  2020-01-13    이마트  10019   면바지2  ...  57460   9  18387  517140  351657\n",
              "..   ...         ...    ...    ...    ...  ...    ...  ..    ...     ...     ...\n",
              "130  230  2020-12-17  현대백화점  10028    구두2  ...  44360  10  12421  443600  319390\n",
              "131  235  2020-12-19  현대백화점  10019   면바지2  ...  57460   9  18387  517140  351657\n",
              "132  227  2020-12-21  abc마트  10017  흑청바지2  ...  74516   9  17884  670644  509688\n",
              "133  232  2020-12-25  abc마트  10014    부츠1  ...  86873   9  26931  781857  539478\n",
              "134  226  2020-12-26    무신사  10001   청바지1  ...  39044   8   8199  312352  246760\n",
              "\n",
              "[135 rows x 11 columns]"
            ]
          },
          "metadata": {},
          "execution_count": 40
        }
      ]
    },
    {
      "cell_type": "code",
      "metadata": {
        "id": "y60y6Pv6CLNF"
      },
      "source": [
        "del df[0]\n",
        "del df[3]"
      ],
      "execution_count": null,
      "outputs": []
    },
    {
      "cell_type": "code",
      "metadata": {
        "colab": {
          "base_uri": "https://localhost:8080/",
          "height": 419
        },
        "id": "o2uVKlKQCTDY",
        "outputId": "1179aead-0e29-4fa9-bfb1-103bcc98743c"
      },
      "source": [
        "df.columns = ['판매일자','판매처','상품명','카테고리','단가','수량','원가','매출액','이익']\n",
        "df"
      ],
      "execution_count": null,
      "outputs": [
        {
          "output_type": "execute_result",
          "data": {
            "text/html": [
              "<div>\n",
              "<style scoped>\n",
              "    .dataframe tbody tr th:only-of-type {\n",
              "        vertical-align: middle;\n",
              "    }\n",
              "\n",
              "    .dataframe tbody tr th {\n",
              "        vertical-align: top;\n",
              "    }\n",
              "\n",
              "    .dataframe thead th {\n",
              "        text-align: right;\n",
              "    }\n",
              "</style>\n",
              "<table border=\"1\" class=\"dataframe\">\n",
              "  <thead>\n",
              "    <tr style=\"text-align: right;\">\n",
              "      <th></th>\n",
              "      <th>판매일자</th>\n",
              "      <th>판매처</th>\n",
              "      <th>상품명</th>\n",
              "      <th>카테고리</th>\n",
              "      <th>단가</th>\n",
              "      <th>수량</th>\n",
              "      <th>원가</th>\n",
              "      <th>매출액</th>\n",
              "      <th>이익</th>\n",
              "    </tr>\n",
              "  </thead>\n",
              "  <tbody>\n",
              "    <tr>\n",
              "      <th>0</th>\n",
              "      <td>2020-01-05</td>\n",
              "      <td>롯데백화점</td>\n",
              "      <td>부츠1</td>\n",
              "      <td>shoes</td>\n",
              "      <td>86873</td>\n",
              "      <td>7</td>\n",
              "      <td>26931</td>\n",
              "      <td>608111</td>\n",
              "      <td>419594</td>\n",
              "    </tr>\n",
              "    <tr>\n",
              "      <th>1</th>\n",
              "      <td>2020-01-05</td>\n",
              "      <td>이마트</td>\n",
              "      <td>슬리퍼1</td>\n",
              "      <td>shoes</td>\n",
              "      <td>67172</td>\n",
              "      <td>10</td>\n",
              "      <td>14778</td>\n",
              "      <td>671720</td>\n",
              "      <td>523940</td>\n",
              "    </tr>\n",
              "    <tr>\n",
              "      <th>2</th>\n",
              "      <td>2020-01-06</td>\n",
              "      <td>abc마트</td>\n",
              "      <td>맨투맨1</td>\n",
              "      <td>top</td>\n",
              "      <td>81970</td>\n",
              "      <td>9</td>\n",
              "      <td>27870</td>\n",
              "      <td>737730</td>\n",
              "      <td>486900</td>\n",
              "    </tr>\n",
              "    <tr>\n",
              "      <th>3</th>\n",
              "      <td>2020-01-08</td>\n",
              "      <td>무신사</td>\n",
              "      <td>슬리퍼1</td>\n",
              "      <td>shoes</td>\n",
              "      <td>67172</td>\n",
              "      <td>9</td>\n",
              "      <td>14778</td>\n",
              "      <td>604548</td>\n",
              "      <td>471546</td>\n",
              "    </tr>\n",
              "    <tr>\n",
              "      <th>4</th>\n",
              "      <td>2020-01-13</td>\n",
              "      <td>이마트</td>\n",
              "      <td>면바지2</td>\n",
              "      <td>bottom</td>\n",
              "      <td>57460</td>\n",
              "      <td>9</td>\n",
              "      <td>18387</td>\n",
              "      <td>517140</td>\n",
              "      <td>351657</td>\n",
              "    </tr>\n",
              "    <tr>\n",
              "      <th>...</th>\n",
              "      <td>...</td>\n",
              "      <td>...</td>\n",
              "      <td>...</td>\n",
              "      <td>...</td>\n",
              "      <td>...</td>\n",
              "      <td>...</td>\n",
              "      <td>...</td>\n",
              "      <td>...</td>\n",
              "      <td>...</td>\n",
              "    </tr>\n",
              "    <tr>\n",
              "      <th>130</th>\n",
              "      <td>2020-12-17</td>\n",
              "      <td>현대백화점</td>\n",
              "      <td>구두2</td>\n",
              "      <td>shoes</td>\n",
              "      <td>44360</td>\n",
              "      <td>10</td>\n",
              "      <td>12421</td>\n",
              "      <td>443600</td>\n",
              "      <td>319390</td>\n",
              "    </tr>\n",
              "    <tr>\n",
              "      <th>131</th>\n",
              "      <td>2020-12-19</td>\n",
              "      <td>현대백화점</td>\n",
              "      <td>면바지2</td>\n",
              "      <td>bottom</td>\n",
              "      <td>57460</td>\n",
              "      <td>9</td>\n",
              "      <td>18387</td>\n",
              "      <td>517140</td>\n",
              "      <td>351657</td>\n",
              "    </tr>\n",
              "    <tr>\n",
              "      <th>132</th>\n",
              "      <td>2020-12-21</td>\n",
              "      <td>abc마트</td>\n",
              "      <td>흑청바지2</td>\n",
              "      <td>bottom</td>\n",
              "      <td>74516</td>\n",
              "      <td>9</td>\n",
              "      <td>17884</td>\n",
              "      <td>670644</td>\n",
              "      <td>509688</td>\n",
              "    </tr>\n",
              "    <tr>\n",
              "      <th>133</th>\n",
              "      <td>2020-12-25</td>\n",
              "      <td>abc마트</td>\n",
              "      <td>부츠1</td>\n",
              "      <td>shoes</td>\n",
              "      <td>86873</td>\n",
              "      <td>9</td>\n",
              "      <td>26931</td>\n",
              "      <td>781857</td>\n",
              "      <td>539478</td>\n",
              "    </tr>\n",
              "    <tr>\n",
              "      <th>134</th>\n",
              "      <td>2020-12-26</td>\n",
              "      <td>무신사</td>\n",
              "      <td>청바지1</td>\n",
              "      <td>bottom</td>\n",
              "      <td>39044</td>\n",
              "      <td>8</td>\n",
              "      <td>8199</td>\n",
              "      <td>312352</td>\n",
              "      <td>246760</td>\n",
              "    </tr>\n",
              "  </tbody>\n",
              "</table>\n",
              "<p>135 rows × 9 columns</p>\n",
              "</div>"
            ],
            "text/plain": [
              "           판매일자    판매처    상품명    카테고리     단가  수량     원가     매출액      이익\n",
              "0    2020-01-05  롯데백화점    부츠1   shoes  86873   7  26931  608111  419594\n",
              "1    2020-01-05    이마트   슬리퍼1   shoes  67172  10  14778  671720  523940\n",
              "2    2020-01-06  abc마트   맨투맨1     top  81970   9  27870  737730  486900\n",
              "3    2020-01-08    무신사   슬리퍼1   shoes  67172   9  14778  604548  471546\n",
              "4    2020-01-13    이마트   면바지2  bottom  57460   9  18387  517140  351657\n",
              "..          ...    ...    ...     ...    ...  ..    ...     ...     ...\n",
              "130  2020-12-17  현대백화점    구두2   shoes  44360  10  12421  443600  319390\n",
              "131  2020-12-19  현대백화점   면바지2  bottom  57460   9  18387  517140  351657\n",
              "132  2020-12-21  abc마트  흑청바지2  bottom  74516   9  17884  670644  509688\n",
              "133  2020-12-25  abc마트    부츠1   shoes  86873   9  26931  781857  539478\n",
              "134  2020-12-26    무신사   청바지1  bottom  39044   8   8199  312352  246760\n",
              "\n",
              "[135 rows x 9 columns]"
            ]
          },
          "metadata": {},
          "execution_count": 44
        }
      ]
    },
    {
      "cell_type": "code",
      "metadata": {
        "id": "c62SdiIfCXz6"
      },
      "source": [
        "df.to_csv('sales_list.csv', index=False)"
      ],
      "execution_count": null,
      "outputs": []
    },
    {
      "cell_type": "markdown",
      "metadata": {
        "id": "pKdL8P7uCctX"
      },
      "source": [
        "## 마무리"
      ]
    },
    {
      "cell_type": "code",
      "metadata": {
        "id": "3GKanSqGCdmt"
      },
      "source": [
        "cur.close()\n",
        "conn.close()"
      ],
      "execution_count": 10,
      "outputs": []
    },
    {
      "cell_type": "code",
      "metadata": {
        "id": "mByqK8LEEGMy"
      },
      "source": [
        ""
      ],
      "execution_count": null,
      "outputs": []
    }
  ]
}