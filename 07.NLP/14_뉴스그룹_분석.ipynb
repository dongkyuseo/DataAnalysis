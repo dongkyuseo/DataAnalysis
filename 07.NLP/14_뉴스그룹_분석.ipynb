{
  "nbformat": 4,
  "nbformat_minor": 0,
  "metadata": {
    "colab": {
      "name": "14_뉴스그룹_분석.ipynb",
      "provenance": [],
      "collapsed_sections": []
    },
    "kernelspec": {
      "name": "python3",
      "display_name": "Python 3"
    },
    "language_info": {
      "name": "python"
    }
  },
  "cells": [
    {
      "cell_type": "markdown",
      "metadata": {
        "id": "p7C_YQtp1Sl5"
      },
      "source": [
        "# 20 뉴스그룹 분류"
      ]
    },
    {
      "cell_type": "code",
      "metadata": {
        "id": "8hIrx0oD1PmL"
      },
      "source": [
        "import numpy as np\n",
        "import pandas as pd"
      ],
      "execution_count": 1,
      "outputs": []
    },
    {
      "cell_type": "code",
      "metadata": {
        "colab": {
          "base_uri": "https://localhost:8080/"
        },
        "id": "krxIWxEP2EAq",
        "outputId": "6987a401-fcba-4bc3-b12d-bc45e0f6fe0f"
      },
      "source": [
        "from sklearn.datasets import fetch_20newsgroups\n",
        "news = fetch_20newsgroups(subset='all', random_state=2021)"
      ],
      "execution_count": 2,
      "outputs": [
        {
          "output_type": "stream",
          "name": "stderr",
          "text": [
            "Downloading 20news dataset. This may take a few minutes.\n",
            "Downloading dataset from https://ndownloader.figshare.com/files/5975967 (14 MB)\n"
          ]
        }
      ]
    },
    {
      "cell_type": "markdown",
      "metadata": {
        "id": "Pa_ACKpw2_bk"
      },
      "source": [
        "## 데이터 탐색"
      ]
    },
    {
      "cell_type": "code",
      "metadata": {
        "colab": {
          "base_uri": "https://localhost:8080/"
        },
        "id": "8V2a7a4720YN",
        "outputId": "2646636e-834b-4100-b3da-249cbb8d9b93"
      },
      "source": [
        "news.keys()"
      ],
      "execution_count": 3,
      "outputs": [
        {
          "output_type": "execute_result",
          "data": {
            "text/plain": [
              "dict_keys(['data', 'filenames', 'target_names', 'target', 'DESCR'])"
            ]
          },
          "metadata": {},
          "execution_count": 3
        }
      ]
    },
    {
      "cell_type": "code",
      "metadata": {
        "colab": {
          "base_uri": "https://localhost:8080/"
        },
        "id": "FM-PQRcy3CPU",
        "outputId": "3325346f-c5ac-4a33-b060-e3e8facfdc83"
      },
      "source": [
        "from sklearn.datasets import load_iris\n",
        "iris = load_iris()\n",
        "iris.keys()"
      ],
      "execution_count": 4,
      "outputs": [
        {
          "output_type": "execute_result",
          "data": {
            "text/plain": [
              "dict_keys(['data', 'target', 'target_names', 'DESCR', 'feature_names', 'filename'])"
            ]
          },
          "metadata": {},
          "execution_count": 4
        }
      ]
    },
    {
      "cell_type": "code",
      "metadata": {
        "id": "tZsfD3G33L9W"
      },
      "source": [
        "          #데이터,  파일이름,    \n",
        "dict_keys(['data', 'filenames', 'target_names', 'target', 'DESCR'])\n",
        "          #데이터,  y값,      버즈니아등,    설명,     속성명,          파일이름   \n",
        "dict_keys(['data', 'target', 'target_names', 'DESCR', 'feature_names', 'filename'])"
      ],
      "execution_count": null,
      "outputs": []
    },
    {
      "cell_type": "code",
      "metadata": {
        "id": "M-idr1Fd3pma"
      },
      "source": [
        "iris.data #irist의 데이터 뽑는 방법"
      ],
      "execution_count": null,
      "outputs": []
    },
    {
      "cell_type": "code",
      "metadata": {
        "colab": {
          "base_uri": "https://localhost:8080/"
        },
        "id": "l96V6fKp3rGN",
        "outputId": "26c44124-9875-4abe-82e5-f9a2c53761c4"
      },
      "source": [
        "news.target_names"
      ],
      "execution_count": 6,
      "outputs": [
        {
          "output_type": "execute_result",
          "data": {
            "text/plain": [
              "['alt.atheism',\n",
              " 'comp.graphics',\n",
              " 'comp.os.ms-windows.misc',\n",
              " 'comp.sys.ibm.pc.hardware',\n",
              " 'comp.sys.mac.hardware',\n",
              " 'comp.windows.x',\n",
              " 'misc.forsale',\n",
              " 'rec.autos',\n",
              " 'rec.motorcycles',\n",
              " 'rec.sport.baseball',\n",
              " 'rec.sport.hockey',\n",
              " 'sci.crypt',\n",
              " 'sci.electronics',\n",
              " 'sci.med',\n",
              " 'sci.space',\n",
              " 'soc.religion.christian',\n",
              " 'talk.politics.guns',\n",
              " 'talk.politics.mideast',\n",
              " 'talk.politics.misc',\n",
              " 'talk.religion.misc']"
            ]
          },
          "metadata": {},
          "execution_count": 6
        }
      ]
    },
    {
      "cell_type": "code",
      "metadata": {
        "colab": {
          "base_uri": "https://localhost:8080/"
        },
        "id": "VBKpAWnS4C_Z",
        "outputId": "773d4ff4-f38a-47b7-b2b9-81fc12776669"
      },
      "source": [
        "pd.Series(news.target).value_counts().sort_index()"
      ],
      "execution_count": 11,
      "outputs": [
        {
          "output_type": "execute_result",
          "data": {
            "text/plain": [
              "0     799\n",
              "1     973\n",
              "2     985\n",
              "3     982\n",
              "4     963\n",
              "5     988\n",
              "6     975\n",
              "7     990\n",
              "8     996\n",
              "9     994\n",
              "10    999\n",
              "11    991\n",
              "12    984\n",
              "13    990\n",
              "14    987\n",
              "15    997\n",
              "16    910\n",
              "17    940\n",
              "18    775\n",
              "19    628\n",
              "dtype: int64"
            ]
          },
          "metadata": {},
          "execution_count": 11
        }
      ]
    },
    {
      "cell_type": "code",
      "metadata": {
        "colab": {
          "base_uri": "https://localhost:8080/"
        },
        "id": "z-dUucl148b9",
        "outputId": "10972cf4-d92e-4499-c4cd-a9ff66ec82c2"
      },
      "source": [
        "len(news.data)"
      ],
      "execution_count": 13,
      "outputs": [
        {
          "output_type": "execute_result",
          "data": {
            "text/plain": [
              "18846"
            ]
          },
          "metadata": {},
          "execution_count": 13
        }
      ]
    },
    {
      "cell_type": "code",
      "metadata": {
        "colab": {
          "base_uri": "https://localhost:8080/"
        },
        "id": "X24DsRQN5BDU",
        "outputId": "a58c6efc-9a76-4584-9fd4-59682f7f7426"
      },
      "source": [
        "print(news.data[0])"
      ],
      "execution_count": 14,
      "outputs": [
        {
          "output_type": "stream",
          "name": "stdout",
          "text": [
            "From: dagibbs@quantum.qnx.com (David Gibbs)\n",
            "Subject: Re: Countersteering sans Hands\n",
            "Organization: QNX Software Systems, Ltd.\n",
            "Lines: 22\n",
            "\n",
            "In article <1993Apr20.203344.8417@cs.cornell.edu> karr@cs.cornell.edu (David Karr) writes:\n",
            ">In article <Clarke.6.735328328@bdrc.bd.com> Clarke@bdrc.bd.com (Richard Clarke) writes:\n",
            ">>So how do I steer when my hands aren't on the bars? (Open Budweiser in left \n",
            ">>hand, Camel cigarette in the right, no feet allowed.) \n",
            ">\n",
            ">>If I lean, and the \n",
            ">>bike turns, am I countersteering?\n",
            ">\n",
            ">No, the bars would turn only *toward* the direction of turn in\n",
            ">no-hands steering.\n",
            "\n",
            "Just in case the original poster was looking for a serious answer,\n",
            "I'll supply one.\n",
            "\n",
            "Yes, even when steering no hands you do something quite similar\n",
            "to countersteering.  Basically to turn left, you to a quick wiggle\n",
            "of the bike to the right first, causing a counteracting lean to\n",
            "occur to the left.  It is a lot more difficult to do on a motorcycle\n",
            "than a bicycle though, because of the extra weight.  (Ok, so my\n",
            "motorcycle is heavy.  Maybe yous isn't.)\n",
            "\n",
            "-David\n",
            "\n"
          ]
        }
      ]
    },
    {
      "cell_type": "markdown",
      "metadata": {
        "id": "3ZVvePoJ5tQ8"
      },
      "source": [
        "## 훈련/테스트용 데이터 추출"
      ]
    },
    {
      "cell_type": "code",
      "metadata": {
        "colab": {
          "base_uri": "https://localhost:8080/"
        },
        "id": "5gcgfvCf5F9J",
        "outputId": "139a5b61-55ac-4b88-fb1d-cc171e46105e"
      },
      "source": [
        "train_news = fetch_20newsgroups(\n",
        "    subset='train', \n",
        "    random_state=2021, \n",
        "    remove=('headers', 'footers', 'quotes')\n",
        ")\n",
        "len(train_news.data)"
      ],
      "execution_count": 29,
      "outputs": [
        {
          "output_type": "execute_result",
          "data": {
            "text/plain": [
              "11314"
            ]
          },
          "metadata": {},
          "execution_count": 29
        }
      ]
    },
    {
      "cell_type": "code",
      "metadata": {
        "colab": {
          "base_uri": "https://localhost:8080/"
        },
        "id": "C0crnx2V6Geg",
        "outputId": "a7a63803-29ee-4e9a-e024-722285fff530"
      },
      "source": [
        "test_news = fetch_20newsgroups(\n",
        "    subset='test',\n",
        "    random_state=2021,\n",
        "    remove=('headers', 'footers', 'quotes')\n",
        ")\n",
        "len(test_news.data)"
      ],
      "execution_count": 19,
      "outputs": [
        {
          "output_type": "execute_result",
          "data": {
            "text/plain": [
              "7532"
            ]
          },
          "metadata": {},
          "execution_count": 19
        }
      ]
    },
    {
      "cell_type": "code",
      "metadata": {
        "colab": {
          "base_uri": "https://localhost:8080/"
        },
        "id": "zTa1Kxs46ZKJ",
        "outputId": "20664c9a-fa59-4100-bc73-a8d782d65f4a"
      },
      "source": [
        "print(train_news.data[1])    # 데이터가 전처리되지 않아 볼수 없음"
      ],
      "execution_count": 32,
      "outputs": [
        {
          "output_type": "stream",
          "name": "stdout",
          "text": [
            "]Is it possible to do a \"wheelie\" on a motorcycle with shaft-drive?\n",
            "\n",
            "yes.\n",
            "\n"
          ]
        }
      ]
    },
    {
      "cell_type": "markdown",
      "metadata": {
        "id": "fHxKuO3a6ojw"
      },
      "source": [
        "## 텍스트 데이터 전처리"
      ]
    },
    {
      "cell_type": "code",
      "metadata": {
        "id": "YhAFQOUa6iK8"
      },
      "source": [
        "train_df = pd.DataFrame({'article': train_news.data})\n",
        "test_df = pd.DataFrame({'article': test_news.data})"
      ],
      "execution_count": 33,
      "outputs": []
    },
    {
      "cell_type": "markdown",
      "metadata": {
        "id": "4YWMvsth7Ucb"
      },
      "source": [
        "- Train dataset"
      ]
    },
    {
      "cell_type": "code",
      "metadata": {
        "id": "43uEdXhf7WKm"
      },
      "source": [
        "# 특수문자 제거"
      ],
      "execution_count": 25,
      "outputs": []
    },
    {
      "cell_type": "code",
      "metadata": {
        "colab": {
          "base_uri": "https://localhost:8080/",
          "height": 35
        },
        "id": "KFMrLOmH8AcM",
        "outputId": "79d6b262-9ec4-4603-dea1-b3d54ea288b8"
      },
      "source": [
        "train_df['article'] = train_df.article.str.replace('[^A-Za-z]', ' ')\n",
        "train_df.article[1]"
      ],
      "execution_count": 34,
      "outputs": [
        {
          "output_type": "execute_result",
          "data": {
            "application/vnd.google.colaboratory.intrinsic+json": {
              "type": "string"
            },
            "text/plain": [
              "' Is it possible to do a  wheelie  on a motorcycle with shaft drive   yes  '"
            ]
          },
          "metadata": {},
          "execution_count": 34
        }
      ]
    },
    {
      "cell_type": "code",
      "metadata": {
        "id": "rGFSKxS38wHk"
      },
      "source": [
        "# 길이가 3 이하인 단어 제거"
      ],
      "execution_count": 43,
      "outputs": []
    },
    {
      "cell_type": "code",
      "metadata": {
        "colab": {
          "base_uri": "https://localhost:8080/",
          "height": 35
        },
        "id": "SaQlJyqYAhfB",
        "outputId": "eb783502-e3fe-448d-9032-f015deb4b23c"
      },
      "source": [
        "train_df['article'] = train_df.article.apply(lambda x: ' '.join([w for w in x.split() if len(w) > 3]))\n",
        "train_df.article[1]"
      ],
      "execution_count": 44,
      "outputs": [
        {
          "output_type": "execute_result",
          "data": {
            "application/vnd.google.colaboratory.intrinsic+json": {
              "type": "string"
            },
            "text/plain": [
              "'possible wheelie motorcycle with shaft drive'"
            ]
          },
          "metadata": {},
          "execution_count": 44
        }
      ]
    },
    {
      "cell_type": "code",
      "metadata": {
        "colab": {
          "base_uri": "https://localhost:8080/",
          "height": 143
        },
        "id": "nc4tNLUuBlNs",
        "outputId": "d004c1dd-159b-4adf-8059-c183f10c87ee"
      },
      "source": [
        "# 소문자로 변환\n",
        "train_df['article'] = train_df.article.apply(lambda x: x.lower())\n",
        "train_df.article[0]"
      ],
      "execution_count": 46,
      "outputs": [
        {
          "output_type": "execute_result",
          "data": {
            "application/vnd.google.colaboratory.intrinsic+json": {
              "type": "string"
            },
            "text/plain": [
              "'stop hold have problems here official history says that first accusations homosexuality came from outside nazi party long before nazis ever came power this objection herring even established history wrong this point moreover none histories read ever made mention hitler anyone else ever using homosexuality pretext purging roehm point reiterated that hitler party covered these accusations going accuse official history being fabrication should least your facts right pretext purging roehm that planning coup against hitler nowhere there mention using allegations homosexuality pretext purge justification afterwards possible that histories read have mentioned this doubt would hitler best interest admit world that former right hand homosexual anyway said before always possible that have missed references nazis making charges homosexuality against after night long knives this does prove that they were false even nazis could tell truth when their advantage case this does deal with accusations homosexuality during forgot this being posted conspiracy smell paranoia from here since nazis never officially charged roehm with homosexuality least according what read like know what tainted evidence talking about since accusations were made persons outside nazi party long before came power those accusations were common knowledge journalists others germany just would possible nazis back time plant tainted evidence exactly does doctor newspapers which were circulated around world without discrepancies being obvious what actual incidences nazi doctoring evidence this matter know about what about testimony people were involved these matters some whom were nazis what point making false accusation homosexuality publicize since point here seems discredit established history then burden proof falls revisionist revisionists better their homework before making accusations otherwise they simply look like conspiracy nuts this just about only thing agree suspect that notion that there might have been people roehm buddies were homosexuals must disturb some people feeling seems that nasty individual accused homosexuality that this must attempt bash homosexuals this fear often justified what lies behind this distrust official history seems this good justification trashing accepted accounts this subject really think that historians incompetent write them where they their sources this subject tell from their footnotes graduate student history writing professors tracking down sources time limited this specialty neither anyone else have said anything that would cast shred doubt existing evidence going waste time trying debunk someone paranoia research yourself given that already consider evidence tainted what earth would constitute concrete particulars since when have concrete particulars been considered shrewd guesses suggest that those trust popular historians irving historians writing popular audience rule provide copious footnotes should instead reading academic historians usually provide footnotes their sources immmense detail this place start looking assuming that really wants know truth folks pagan tired this subject already apologies seem have gone tangent forget which gods responsible keeping strings within appropriate newsgroup subject boundaries'"
            ]
          },
          "metadata": {},
          "execution_count": 46
        }
      ]
    },
    {
      "cell_type": "code",
      "metadata": {
        "colab": {
          "base_uri": "https://localhost:8080/",
          "height": 35
        },
        "id": "dMyASoq2DNRb",
        "outputId": "54151583-257e-4c95-fe45-17d4e068c82d"
      },
      "source": [
        "# 소문자로 변하고 길이가 3이하인 단어 제거\n",
        "train_df['article'] = train_df.article.apply(lambda x: ' '.join([w.lower() for w in x.split() if len(w) > 3]))\n",
        "train_df.article[1]"
      ],
      "execution_count": 48,
      "outputs": [
        {
          "output_type": "execute_result",
          "data": {
            "application/vnd.google.colaboratory.intrinsic+json": {
              "type": "string"
            },
            "text/plain": [
              "'possible wheelie motorcycle with shaft drive'"
            ]
          },
          "metadata": {},
          "execution_count": 48
        }
      ]
    },
    {
      "cell_type": "markdown",
      "metadata": {
        "id": "EbAccaJTEKvd"
      },
      "source": [
        "## 텍스트 변환"
      ]
    },
    {
      "cell_type": "code",
      "metadata": {
        "id": "Izz-L-A6Dltt"
      },
      "source": [
        "from sklearn.feature_extraction.text import TfidfVectorizer"
      ],
      "execution_count": 49,
      "outputs": []
    },
    {
      "cell_type": "code",
      "metadata": {
        "colab": {
          "base_uri": "https://localhost:8080/"
        },
        "id": "fNIMkbgFEcQ9",
        "outputId": "0fde3962-6366-4c05-dee0-98e4b9ace84a"
      },
      "source": [
        "tvect = TfidfVectorizer(stop_words='english')\n",
        "tvect.fit(train_df.article)"
      ],
      "execution_count": 50,
      "outputs": [
        {
          "output_type": "execute_result",
          "data": {
            "text/plain": [
              "TfidfVectorizer(analyzer='word', binary=False, decode_error='strict',\n",
              "                dtype=<class 'numpy.float64'>, encoding='utf-8',\n",
              "                input='content', lowercase=True, max_df=1.0, max_features=None,\n",
              "                min_df=1, ngram_range=(1, 1), norm='l2', preprocessor=None,\n",
              "                smooth_idf=True, stop_words='english', strip_accents=None,\n",
              "                sublinear_tf=False, token_pattern='(?u)\\\\b\\\\w\\\\w+\\\\b',\n",
              "                tokenizer=None, use_idf=True, vocabulary=None)"
            ]
          },
          "metadata": {},
          "execution_count": 50
        }
      ]
    },
    {
      "cell_type": "code",
      "metadata": {
        "colab": {
          "base_uri": "https://localhost:8080/"
        },
        "id": "ML_nvjSnE3oZ",
        "outputId": "fbae8fed-725f-4e51-fda9-d3078c7a2259"
      },
      "source": [
        "X_train = tvect.transform(train_df.article)\n",
        "X_test = tvect.transform(test_df.article)\n",
        "X_train.shape, X_test.shape"
      ],
      "execution_count": 51,
      "outputs": [
        {
          "output_type": "execute_result",
          "data": {
            "text/plain": [
              "((11314, 64133), (7532, 64133))"
            ]
          },
          "metadata": {},
          "execution_count": 51
        }
      ]
    },
    {
      "cell_type": "code",
      "metadata": {
        "id": "bWyOulruFH3A"
      },
      "source": [
        "y_train = train_news.target\n",
        "y_test = test_news.target"
      ],
      "execution_count": 52,
      "outputs": []
    },
    {
      "cell_type": "markdown",
      "metadata": {
        "id": "jp9109JcFfKe"
      },
      "source": [
        "## 훈련/예측/평가"
      ]
    },
    {
      "cell_type": "code",
      "metadata": {
        "id": "6PCpdA29GCxz"
      },
      "source": [
        "# Support Vector Machine의 Classifier 사용"
      ],
      "execution_count": 54,
      "outputs": []
    },
    {
      "cell_type": "code",
      "metadata": {
        "colab": {
          "base_uri": "https://localhost:8080/"
        },
        "id": "SMB_8I0lFWTu",
        "outputId": "96824f68-332f-4a37-9e00-89fc6e8c7dca"
      },
      "source": [
        "from sklearn.svm import SVC\n",
        "svc = SVC()\n",
        "svc.fit(X_train,y_train)"
      ],
      "execution_count": 53,
      "outputs": [
        {
          "output_type": "execute_result",
          "data": {
            "text/plain": [
              "SVC(C=1.0, break_ties=False, cache_size=200, class_weight=None, coef0=0.0,\n",
              "    decision_function_shape='ovr', degree=3, gamma='scale', kernel='rbf',\n",
              "    max_iter=-1, probability=False, random_state=None, shrinking=True,\n",
              "    tol=0.001, verbose=False)"
            ]
          },
          "metadata": {},
          "execution_count": 53
        }
      ]
    },
    {
      "cell_type": "code",
      "metadata": {
        "id": "wtgFOhvZF6Nd"
      },
      "source": [
        "pred = svc.predict(X_test)"
      ],
      "execution_count": 55,
      "outputs": []
    },
    {
      "cell_type": "code",
      "metadata": {
        "colab": {
          "base_uri": "https://localhost:8080/"
        },
        "id": "CKBLsm9BGZBG",
        "outputId": "2b07db42-0264-4929-d073-646ac00f8dc7"
      },
      "source": [
        "from sklearn.metrics import accuracy_score\n",
        "accuracy_score(y_test, pred)"
      ],
      "execution_count": 56,
      "outputs": [
        {
          "output_type": "execute_result",
          "data": {
            "text/plain": [
              "0.6485661178969729"
            ]
          },
          "metadata": {},
          "execution_count": 56
        }
      ]
    },
    {
      "cell_type": "code",
      "metadata": {
        "id": "BaXKoR86GqaS"
      },
      "source": [
        ""
      ],
      "execution_count": null,
      "outputs": []
    }
  ]
}