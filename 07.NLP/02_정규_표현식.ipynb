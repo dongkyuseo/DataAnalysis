{
  "nbformat": 4,
  "nbformat_minor": 0,
  "metadata": {
    "colab": {
      "name": "02_정규_표현식.ipynb",
      "provenance": [],
      "collapsed_sections": []
    },
    "kernelspec": {
      "name": "python3",
      "display_name": "Python 3"
    },
    "language_info": {
      "name": "python"
    }
  },
  "cells": [
    {
      "cell_type": "markdown",
      "metadata": {
        "id": "Yvc1iEiZcjX0"
      },
      "source": [
        "# 정규 표현식(Regular Expression)"
      ]
    },
    {
      "cell_type": "code",
      "metadata": {
        "id": "ylMJtg57Z45M"
      },
      "source": [
        "# re.sub('정규표현식', '바꿀문자', text)\n",
        "\n",
        "# re.compile('정규표현식')\n",
        "\n",
        "# re.sub('바꿀문자')"
      ],
      "execution_count": 2,
      "outputs": []
    },
    {
      "cell_type": "code",
      "metadata": {
        "id": "XBq5NfKoedMt"
      },
      "source": [
        "import re"
      ],
      "execution_count": 3,
      "outputs": []
    },
    {
      "cell_type": "markdown",
      "metadata": {
        "id": "CjKcyWwue84a"
      },
      "source": [
        "## 1. 정규표현식 실습"
      ]
    },
    {
      "cell_type": "code",
      "metadata": {
        "id": "_XhoSsKzerqq"
      },
      "source": [
        "re.search('a.c', 'kkk')"
      ],
      "execution_count": 4,
      "outputs": []
    },
    {
      "cell_type": "code",
      "metadata": {
        "colab": {
          "base_uri": "https://localhost:8080/"
        },
        "id": "vI_RMz8ifA0L",
        "outputId": "4f52917e-7246-4599-98b8-93f71abdfd00"
      },
      "source": [
        "re.search('a.c', 'abc'), re.search('a..c', 'abdc')"
      ],
      "execution_count": 10,
      "outputs": [
        {
          "output_type": "execute_result",
          "data": {
            "text/plain": [
              "(<re.Match object; span=(0, 3), match='abc'>,\n",
              " <re.Match object; span=(0, 4), match='abdc'>)"
            ]
          },
          "metadata": {},
          "execution_count": 10
        }
      ]
    },
    {
      "cell_type": "markdown",
      "metadata": {
        "id": "mj24JVgofWcj"
      },
      "source": [
        "- ? 기호 :  ? 앞의 문자가 존재할 수도 있고, 존재하지 않을 수도 있는 경우를 나타냄"
      ]
    },
    {
      "cell_type": "code",
      "metadata": {
        "id": "-f8SQiqifJp5"
      },
      "source": [
        "r = re.compile('ab?c')"
      ],
      "execution_count": 11,
      "outputs": []
    },
    {
      "cell_type": "code",
      "metadata": {
        "id": "uiPGQdTCfZ2L"
      },
      "source": [
        "r.search('abbc')"
      ],
      "execution_count": 12,
      "outputs": []
    },
    {
      "cell_type": "code",
      "metadata": {
        "colab": {
          "base_uri": "https://localhost:8080/"
        },
        "id": "e_-XmkxzfqJX",
        "outputId": "589d0963-7630-4c78-c5b6-64f3108ed657"
      },
      "source": [
        "r.search('abc')"
      ],
      "execution_count": 13,
      "outputs": [
        {
          "output_type": "execute_result",
          "data": {
            "text/plain": [
              "<re.Match object; span=(0, 3), match='abc'>"
            ]
          },
          "metadata": {},
          "execution_count": 13
        }
      ]
    },
    {
      "cell_type": "code",
      "metadata": {
        "colab": {
          "base_uri": "https://localhost:8080/"
        },
        "id": "jQGkJEU7fsNQ",
        "outputId": "1dafe955-db84-4e77-9018-f1c1c2fbc0c9"
      },
      "source": [
        "r.search('ac')"
      ],
      "execution_count": 14,
      "outputs": [
        {
          "output_type": "execute_result",
          "data": {
            "text/plain": [
              "<re.Match object; span=(0, 2), match='ac'>"
            ]
          },
          "metadata": {},
          "execution_count": 14
        }
      ]
    },
    {
      "cell_type": "markdown",
      "metadata": {
        "id": "H7kMdUETxRRs"
      },
      "source": [
        "- \\* 기호 : 바로 앞의 문자가 0개 이상일 경우를 나타냄"
      ]
    },
    {
      "cell_type": "code",
      "metadata": {
        "id": "msPqQd38fyvc"
      },
      "source": [
        "r=re.compile(\"ab*c\")\n",
        "r.search(\"a\") # 아무런 결과도 출력되지 않는다."
      ],
      "execution_count": 21,
      "outputs": []
    },
    {
      "cell_type": "code",
      "metadata": {
        "colab": {
          "base_uri": "https://localhost:8080/"
        },
        "id": "omSdNy8fxaEX",
        "outputId": "26020d89-ceb5-45d5-c4a0-fc9cd78faa33"
      },
      "source": [
        "r.search('ac')"
      ],
      "execution_count": 22,
      "outputs": [
        {
          "output_type": "execute_result",
          "data": {
            "text/plain": [
              "<re.Match object; span=(0, 2), match='ac'>"
            ]
          },
          "metadata": {},
          "execution_count": 22
        }
      ]
    },
    {
      "cell_type": "code",
      "metadata": {
        "colab": {
          "base_uri": "https://localhost:8080/"
        },
        "id": "urXlXp66xjjh",
        "outputId": "3a575efe-2bf4-4507-d74a-f682c611c101"
      },
      "source": [
        "r.search('abbbbc')"
      ],
      "execution_count": 23,
      "outputs": [
        {
          "output_type": "execute_result",
          "data": {
            "text/plain": [
              "<re.Match object; span=(0, 6), match='abbbbc'>"
            ]
          },
          "metadata": {},
          "execution_count": 23
        }
      ]
    },
    {
      "cell_type": "markdown",
      "metadata": {
        "id": "sqOXKDgQxsOl"
      },
      "source": [
        "- \\+ 기호 :  *와 유사하지만 다른 점은 앞의 문자가 최소 1개 이상이어야 함"
      ]
    },
    {
      "cell_type": "code",
      "metadata": {
        "id": "xFA_hxitxlGA"
      },
      "source": [
        "r=re.compile(\"ab+c\")\n",
        "r.search(\"ac\") # 아무런 결과도 출력되지 않는다."
      ],
      "execution_count": 24,
      "outputs": []
    },
    {
      "cell_type": "code",
      "metadata": {
        "colab": {
          "base_uri": "https://localhost:8080/"
        },
        "id": "nY9xvXJLx4RE",
        "outputId": "4979b432-2653-419c-afad-c6f51c670460"
      },
      "source": [
        "r.search(\"abc\") "
      ],
      "execution_count": 25,
      "outputs": [
        {
          "output_type": "execute_result",
          "data": {
            "text/plain": [
              "<re.Match object; span=(0, 3), match='abc'>"
            ]
          },
          "metadata": {},
          "execution_count": 25
        }
      ]
    },
    {
      "cell_type": "code",
      "metadata": {
        "colab": {
          "base_uri": "https://localhost:8080/"
        },
        "id": "G0FTfcI5x4hh",
        "outputId": "4a060900-cba4-49b1-c545-00cdb1e80771"
      },
      "source": [
        "r.search(\"abbbbbc\") "
      ],
      "execution_count": 27,
      "outputs": [
        {
          "output_type": "execute_result",
          "data": {
            "text/plain": [
              "<re.Match object; span=(0, 7), match='abbbbbc'>"
            ]
          },
          "metadata": {},
          "execution_count": 27
        }
      ]
    },
    {
      "cell_type": "markdown",
      "metadata": {
        "id": "_eKTBJyoyAnH"
      },
      "source": [
        "- \\^ 기호 : 시작되는 글자를 지정함, 정규표현식이 ^a라면 a로 시작되는 문자열만을 찾아냄"
      ]
    },
    {
      "cell_type": "code",
      "metadata": {
        "id": "8tWyZc1Nx6fa"
      },
      "source": [
        "re.search('^a', 'bbc')"
      ],
      "execution_count": 28,
      "outputs": []
    },
    {
      "cell_type": "code",
      "metadata": {
        "colab": {
          "base_uri": "https://localhost:8080/"
        },
        "id": "LDZ5Txh_yNM4",
        "outputId": "fa1c39fe-aa14-4985-a755-3afb457dea30"
      },
      "source": [
        "re.search('^a', 'abc')"
      ],
      "execution_count": 29,
      "outputs": [
        {
          "output_type": "execute_result",
          "data": {
            "text/plain": [
              "<re.Match object; span=(0, 1), match='a'>"
            ]
          },
          "metadata": {},
          "execution_count": 29
        }
      ]
    },
    {
      "cell_type": "code",
      "metadata": {
        "colab": {
          "base_uri": "https://localhost:8080/"
        },
        "id": "VPLGcJXpyOXG",
        "outputId": "a9177419-6ece-4873-c619-c18d6441567c"
      },
      "source": [
        "re.search('^a', 'abbbbbbbbc')"
      ],
      "execution_count": 30,
      "outputs": [
        {
          "output_type": "execute_result",
          "data": {
            "text/plain": [
              "<re.Match object; span=(0, 1), match='a'>"
            ]
          },
          "metadata": {},
          "execution_count": 30
        }
      ]
    },
    {
      "cell_type": "markdown",
      "metadata": {
        "id": "eZlUeceuyTrq"
      },
      "source": [
        "- \\{숫자} 기호 : 해당 문자를 숫자만큼 반복한 것"
      ]
    },
    {
      "cell_type": "code",
      "metadata": {
        "id": "vqsMBiMgyQ2B"
      },
      "source": [
        "r=re.compile(\"ab{2}c\")  # abbc 를 찾음\n",
        "r.search(\"ac\") # 아무런 결과도 출력되지 않는다.\n",
        "r.search(\"abc\") # 아무런 결과도 출력되지 않는다."
      ],
      "execution_count": 34,
      "outputs": []
    },
    {
      "cell_type": "code",
      "metadata": {
        "colab": {
          "base_uri": "https://localhost:8080/"
        },
        "id": "dPvI1rKcydlc",
        "outputId": "ab31ba9f-134d-4e1a-8a64-c7dcd0571da8"
      },
      "source": [
        "r.search(\"abbc\")"
      ],
      "execution_count": 35,
      "outputs": [
        {
          "output_type": "execute_result",
          "data": {
            "text/plain": [
              "<re.Match object; span=(0, 4), match='abbc'>"
            ]
          },
          "metadata": {},
          "execution_count": 35
        }
      ]
    },
    {
      "cell_type": "code",
      "metadata": {
        "id": "fDurQm_ByiN4"
      },
      "source": [
        "r.search(\"abbbbbc\") # 아무런 결과도 출력되지 않는다."
      ],
      "execution_count": 36,
      "outputs": []
    },
    {
      "cell_type": "markdown",
      "metadata": {
        "id": "RDsPLAcrytm3"
      },
      "source": [
        "- \\{숫자1, 숫자2} 기호 : 해당 문자를 숫자1 이상 숫자2 이하만큼 반복, \n",
        "- 예를 들어서 정규 표현식이 ab\\{2,8}c라면 a와 c 사이에 b가 존재하면서 b는 2개 이상 8개 이하인 문자열에 대해서 매치함"
      ]
    },
    {
      "cell_type": "code",
      "metadata": {
        "id": "d0ZIjn7xyjbI"
      },
      "source": [
        "r=re.compile(\"ab{2,8}c\")\n",
        "r.search(\"ac\") # 아무런 결과도 출력되지 않는다.\n",
        "r.search(\"abc\") # 아무런 결과도 출력되지 않는다."
      ],
      "execution_count": 37,
      "outputs": []
    },
    {
      "cell_type": "code",
      "metadata": {
        "colab": {
          "base_uri": "https://localhost:8080/"
        },
        "id": "GfwAJiNRy5WM",
        "outputId": "ee26e670-fc4a-47b8-8e3a-2db459bd7965"
      },
      "source": [
        "r.search(\"abbc\")"
      ],
      "execution_count": 38,
      "outputs": [
        {
          "output_type": "execute_result",
          "data": {
            "text/plain": [
              "<re.Match object; span=(0, 4), match='abbc'>"
            ]
          },
          "metadata": {},
          "execution_count": 38
        }
      ]
    },
    {
      "cell_type": "code",
      "metadata": {
        "colab": {
          "base_uri": "https://localhost:8080/"
        },
        "id": "0yNm3GnYy6Tt",
        "outputId": "7b31a682-913f-4313-a7b4-3a9c9cd3a3ed"
      },
      "source": [
        "r.search(\"abbbbbbbbc\")"
      ],
      "execution_count": 39,
      "outputs": [
        {
          "output_type": "execute_result",
          "data": {
            "text/plain": [
              "<re.Match object; span=(0, 10), match='abbbbbbbbc'>"
            ]
          },
          "metadata": {},
          "execution_count": 39
        }
      ]
    },
    {
      "cell_type": "markdown",
      "metadata": {
        "id": "nqeyGU1oy-aO"
      },
      "source": [
        "- \\[ ] 기호 : 그 문자들 중 한 개의 문자와 매치라는 의미\n",
        "-  예를 들어서 정규 표현식이 \\[abc]라면, a 또는 b또는 c가 들어가있는 문자열과 매치됩니다. \n",
        "- 범위를 지정도 가능, \\[a-zA-Z]는 알파벳 전부를 의미하며, \\[0-9]는 숫자 전부를 의미합니다."
      ]
    },
    {
      "cell_type": "code",
      "metadata": {
        "id": "sYg1bsWyy7eO"
      },
      "source": [
        "r=re.compile(\"[abc]\") # [abc]는 [a-c]와 같다."
      ],
      "execution_count": 40,
      "outputs": []
    },
    {
      "cell_type": "code",
      "metadata": {
        "id": "Q250gqIczOHA"
      },
      "source": [
        "r.search(\"zzz\") # 아무런 결과도 출력되지 않는다."
      ],
      "execution_count": 41,
      "outputs": []
    },
    {
      "cell_type": "code",
      "metadata": {
        "colab": {
          "base_uri": "https://localhost:8080/"
        },
        "id": "kFck2aXMzPn-",
        "outputId": "d67a2270-77e6-494e-fd60-9107ecbb7ab9"
      },
      "source": [
        "r.search(\"baac\")      "
      ],
      "execution_count": 42,
      "outputs": [
        {
          "output_type": "execute_result",
          "data": {
            "text/plain": [
              "<re.Match object; span=(0, 1), match='b'>"
            ]
          },
          "metadata": {},
          "execution_count": 42
        }
      ]
    },
    {
      "cell_type": "code",
      "metadata": {
        "colab": {
          "base_uri": "https://localhost:8080/"
        },
        "id": "jrLBBTljzREC",
        "outputId": "dc312110-6a59-45a0-ff2a-0cfb0a9df9ed"
      },
      "source": [
        "r.search(\"aaaaaaa\")     "
      ],
      "execution_count": 43,
      "outputs": [
        {
          "output_type": "execute_result",
          "data": {
            "text/plain": [
              "<re.Match object; span=(0, 1), match='a'>"
            ]
          },
          "metadata": {},
          "execution_count": 43
        }
      ]
    },
    {
      "cell_type": "code",
      "metadata": {
        "colab": {
          "base_uri": "https://localhost:8080/"
        },
        "id": "hn4rncpSzUHN",
        "outputId": "6ba0517a-91ed-4577-be28-7a2ad878aab3"
      },
      "source": [
        "r.search(\"daaaaaa\")     "
      ],
      "execution_count": 44,
      "outputs": [
        {
          "output_type": "execute_result",
          "data": {
            "text/plain": [
              "<re.Match object; span=(1, 2), match='a'>"
            ]
          },
          "metadata": {},
          "execution_count": 44
        }
      ]
    },
    {
      "cell_type": "code",
      "metadata": {
        "id": "u28XrklxzVOX"
      },
      "source": [
        "r=re.compile(\"[a-z]\") # 소문자를 찾음\n",
        "r.search(\"AAA\") # 아무런 결과도 출력되지 않는다."
      ],
      "execution_count": 45,
      "outputs": []
    },
    {
      "cell_type": "code",
      "metadata": {
        "colab": {
          "base_uri": "https://localhost:8080/"
        },
        "id": "d-_B3c8ZzaVI",
        "outputId": "a5e3a2c2-ba6f-4781-f148-29d42d273379"
      },
      "source": [
        "r.search(\"aBC\")"
      ],
      "execution_count": 46,
      "outputs": [
        {
          "output_type": "execute_result",
          "data": {
            "text/plain": [
              "<re.Match object; span=(0, 1), match='a'>"
            ]
          },
          "metadata": {},
          "execution_count": 46
        }
      ]
    },
    {
      "cell_type": "code",
      "metadata": {
        "id": "JDKeqZpQ0QqA"
      },
      "source": [
        "# 문자 또는 숫자 [0-9A-Za-z]\n",
        "re.search('[0-9A-Za-z]', '$#%')"
      ],
      "execution_count": 55,
      "outputs": []
    },
    {
      "cell_type": "code",
      "metadata": {
        "id": "vzEWIz1G0oRn"
      },
      "source": [
        "re.search('\\w', '$#%') # \\w = [0-9A-Za-z]"
      ],
      "execution_count": 57,
      "outputs": []
    },
    {
      "cell_type": "markdown",
      "metadata": {
        "id": "yZjmaHHz0EE6"
      },
      "source": [
        "- \\[^문자] 기호 : ^ 기호 뒤에 붙은 문자들을 제외한 모든 문자를 매치"
      ]
    },
    {
      "cell_type": "code",
      "metadata": {
        "id": "oGled3dPz0q_"
      },
      "source": [
        "r=re.compile(\"[^abc]\")\n",
        "r.search(\"a\") # 아무런 결과도 출력되지 않는다.\n",
        "r.search(\"ab\") # 아무런 결과도 출력되지 않는다.\n",
        "r.search(\"b\") # 아무런 결과도 출력되지 않는다."
      ],
      "execution_count": 52,
      "outputs": []
    },
    {
      "cell_type": "code",
      "metadata": {
        "colab": {
          "base_uri": "https://localhost:8080/"
        },
        "id": "3gRmLM6L0LM-",
        "outputId": "4c5535cb-2099-4926-b79a-587398e06bf9"
      },
      "source": [
        "r.search(\"d\")"
      ],
      "execution_count": 53,
      "outputs": [
        {
          "output_type": "execute_result",
          "data": {
            "text/plain": [
              "<re.Match object; span=(0, 1), match='d'>"
            ]
          },
          "metadata": {},
          "execution_count": 53
        }
      ]
    },
    {
      "cell_type": "code",
      "metadata": {
        "colab": {
          "base_uri": "https://localhost:8080/",
          "height": 35
        },
        "id": "9dNAxZzF0L_S",
        "outputId": "1a1fb939-e6c6-4569-a634-0d81c1207dc8"
      },
      "source": [
        "# 한글과 공백을 제외한 모든 문자 제거\n",
        "#re.sub('변경할규칙', '변경할텍스트', '변경대상')\n",
        "re.sub('[^ㄱ-ㅎㅏ-ㅣ가-힣 ]', '', '^ 기호 뒤에 붙은 문자.')"
      ],
      "execution_count": 59,
      "outputs": [
        {
          "output_type": "execute_result",
          "data": {
            "application/vnd.google.colaboratory.intrinsic+json": {
              "type": "string"
            },
            "text/plain": [
              "' 기호 뒤에 붙은 문자'"
            ]
          },
          "metadata": {},
          "execution_count": 59
        }
      ]
    },
    {
      "cell_type": "markdown",
      "metadata": {
        "id": "XPMgDMmg1tDw"
      },
      "source": [
        "## 2. re 모듈 함수"
      ]
    },
    {
      "cell_type": "code",
      "metadata": {
        "id": "Mn1Qg5SL1cJy"
      },
      "source": [
        "re.match('ab.', 'llllabc') # match는 처음만 같은지 찾음"
      ],
      "execution_count": 60,
      "outputs": []
    },
    {
      "cell_type": "code",
      "metadata": {
        "colab": {
          "base_uri": "https://localhost:8080/"
        },
        "id": "nOiWeNwu199P",
        "outputId": "deebd237-3b3b-49de-a132-d4c5d45fd657"
      },
      "source": [
        "re.search('ab.', 'kkkkabc') # search는 문자열중 어디든 있는지 찾음"
      ],
      "execution_count": 62,
      "outputs": [
        {
          "output_type": "execute_result",
          "data": {
            "text/plain": [
              "<re.Match object; span=(4, 7), match='abc'>"
            ]
          },
          "metadata": {},
          "execution_count": 62
        }
      ]
    },
    {
      "cell_type": "markdown",
      "metadata": {
        "id": "LmSX-jWL2JD4"
      },
      "source": [
        "- re.split()"
      ]
    },
    {
      "cell_type": "code",
      "metadata": {
        "colab": {
          "base_uri": "https://localhost:8080/"
        },
        "id": "0atfeXeN2BhO",
        "outputId": "79bdf948-4563-46ee-df32-616feb4935a6"
      },
      "source": [
        "text=\"사과 딸기 수박 메론 바나나\"\n",
        "re.split(\" \",text)"
      ],
      "execution_count": 63,
      "outputs": [
        {
          "output_type": "execute_result",
          "data": {
            "text/plain": [
              "['사과', '딸기', '수박', '메론', '바나나']"
            ]
          },
          "metadata": {},
          "execution_count": 63
        }
      ]
    },
    {
      "cell_type": "code",
      "metadata": {
        "colab": {
          "base_uri": "https://localhost:8080/"
        },
        "id": "xjAj-nho2Np-",
        "outputId": "de9a7a64-1d4e-4750-c17f-c71c5aa76961"
      },
      "source": [
        "text.split()"
      ],
      "execution_count": 64,
      "outputs": [
        {
          "output_type": "execute_result",
          "data": {
            "text/plain": [
              "['사과', '딸기', '수박', '메론', '바나나']"
            ]
          },
          "metadata": {},
          "execution_count": 64
        }
      ]
    },
    {
      "cell_type": "code",
      "metadata": {
        "id": "K1uGK2aR2PSY"
      },
      "source": [
        "text=\"\"\"사과    딸기 \n",
        "수박 \n",
        "메론       바나나\"\"\""
      ],
      "execution_count": 65,
      "outputs": []
    },
    {
      "cell_type": "code",
      "metadata": {
        "colab": {
          "base_uri": "https://localhost:8080/"
        },
        "id": "0SPGnlc02azX",
        "outputId": "0a8e1a40-6445-4f80-f3ea-827c5cbc97be"
      },
      "source": [
        "text.split()      # default값 \\s+ 이 있음"
      ],
      "execution_count": 70,
      "outputs": [
        {
          "output_type": "execute_result",
          "data": {
            "text/plain": [
              "['사과', '딸기', '수박', '메론', '바나나']"
            ]
          },
          "metadata": {},
          "execution_count": 70
        }
      ]
    },
    {
      "cell_type": "code",
      "metadata": {
        "colab": {
          "base_uri": "https://localhost:8080/"
        },
        "id": "-Z7x393A2b5H",
        "outputId": "6abecb05-318a-4087-d531-cdf126c9e019"
      },
      "source": [
        "re.split('\\s+', text)"
      ],
      "execution_count": 69,
      "outputs": [
        {
          "output_type": "execute_result",
          "data": {
            "text/plain": [
              "['사과', '딸기', '수박', '메론', '바나나']"
            ]
          },
          "metadata": {},
          "execution_count": 69
        }
      ]
    },
    {
      "cell_type": "markdown",
      "metadata": {
        "id": "ybqK9FqN3FwB"
      },
      "source": [
        "- re.findall()"
      ]
    },
    {
      "cell_type": "code",
      "metadata": {
        "colab": {
          "base_uri": "https://localhost:8080/"
        },
        "id": "OBe_jrzM2o0g",
        "outputId": "3df58c89-17c6-402a-fc0f-4e68d055b1bf"
      },
      "source": [
        "text=\"\"\"이름 : 김철수\n",
        "전화번호 : 010 - 1234 - 1234\n",
        "나이 : 30\n",
        "성별 : 남\"\"\"  \n",
        "re.findall(\"\\d+\",text)\n",
        "#         '규칙', 찾을대상"
      ],
      "execution_count": 72,
      "outputs": [
        {
          "output_type": "execute_result",
          "data": {
            "text/plain": [
              "['010', '1234', '1234', '30']"
            ]
          },
          "metadata": {},
          "execution_count": 72
        }
      ]
    },
    {
      "cell_type": "code",
      "metadata": {
        "colab": {
          "base_uri": "https://localhost:8080/"
        },
        "id": "yPIIfkw33KNg",
        "outputId": "a390c908-1f0a-4519-d2dc-d3dc0e655fe8"
      },
      "source": [
        "re.findall(\"\\d+\", '가나다')\n",
        "# 결과가 없을 경우 빈 리스트 반환"
      ],
      "execution_count": 74,
      "outputs": [
        {
          "output_type": "execute_result",
          "data": {
            "text/plain": [
              "[]"
            ]
          },
          "metadata": {},
          "execution_count": 74
        }
      ]
    },
    {
      "cell_type": "markdown",
      "metadata": {
        "id": "FULkweEP3qrc"
      },
      "source": [
        "- re.sub()"
      ]
    },
    {
      "cell_type": "code",
      "metadata": {
        "colab": {
          "base_uri": "https://localhost:8080/",
          "height": 53
        },
        "id": "eu48Ec_s3WnQ",
        "outputId": "e0db2a89-42aa-4616-d8cf-14d06e5f25ab"
      },
      "source": [
        "text=\"\"\"Regular expression : A regular expression, regex or regexp[1] \n",
        "(sometimes called a rational expression)[2][3] is, in theoretical computer \n",
        "science and formal language theory, a sequence of characters that define a search pattern.\n",
        "\"\"\"\n",
        "re.sub('[^a-zA-Z]',' ',text)\n",
        "#         규칙, 변경할문구, 대상"
      ],
      "execution_count": 77,
      "outputs": [
        {
          "output_type": "execute_result",
          "data": {
            "application/vnd.google.colaboratory.intrinsic+json": {
              "type": "string"
            },
            "text/plain": [
              "'Regular expression   A regular expression  regex or regexp      sometimes called a rational expression        is  in theoretical computer  science and formal language theory  a sequence of characters that define a search pattern  '"
            ]
          },
          "metadata": {},
          "execution_count": 77
        }
      ]
    },
    {
      "cell_type": "markdown",
      "metadata": {
        "id": "TmGkqXc14Bib"
      },
      "source": [
        "## 3. 정규표현식 텍트스 전처리 예제"
      ]
    },
    {
      "cell_type": "code",
      "metadata": {
        "colab": {
          "base_uri": "https://localhost:8080/"
        },
        "id": "KGcrky1W311G",
        "outputId": "c7959145-58b7-42dd-dba2-2a9f00ed92f3"
      },
      "source": [
        "text = \"\"\"100 John    PROF\n",
        "101 James   STUD\n",
        "102 Mac   STUD\"\"\"  \n",
        "\n",
        "re.split('\\s+', text)  "
      ],
      "execution_count": 78,
      "outputs": [
        {
          "output_type": "execute_result",
          "data": {
            "text/plain": [
              "['100', 'John', 'PROF', '101', 'James', 'STUD', '102', 'Mac', 'STUD']"
            ]
          },
          "metadata": {},
          "execution_count": 78
        }
      ]
    },
    {
      "cell_type": "code",
      "metadata": {
        "colab": {
          "base_uri": "https://localhost:8080/"
        },
        "id": "_Djg6ZDo4FrS",
        "outputId": "f6980904-ecb3-4f7a-f7fb-01d70fc923bd"
      },
      "source": [
        "text.split()"
      ],
      "execution_count": 79,
      "outputs": [
        {
          "output_type": "execute_result",
          "data": {
            "text/plain": [
              "['100', 'John', 'PROF', '101', 'James', 'STUD', '102', 'Mac', 'STUD']"
            ]
          },
          "metadata": {},
          "execution_count": 79
        }
      ]
    },
    {
      "cell_type": "code",
      "metadata": {
        "colab": {
          "base_uri": "https://localhost:8080/"
        },
        "id": "TWy_3vSD4Ieh",
        "outputId": "22f4b202-d8cd-44d3-f555-ec3bf415bd75"
      },
      "source": [
        "re.findall('\\d+', text)"
      ],
      "execution_count": 80,
      "outputs": [
        {
          "output_type": "execute_result",
          "data": {
            "text/plain": [
              "['100', '101', '102']"
            ]
          },
          "metadata": {},
          "execution_count": 80
        }
      ]
    },
    {
      "cell_type": "code",
      "metadata": {
        "colab": {
          "base_uri": "https://localhost:8080/"
        },
        "id": "ODbzrmRU4Qeq",
        "outputId": "5750e870-5627-47de-f0ac-4dc715752c62"
      },
      "source": [
        "re.findall('[A-Z]', text)"
      ],
      "execution_count": 83,
      "outputs": [
        {
          "output_type": "execute_result",
          "data": {
            "text/plain": [
              "['J', 'P', 'R', 'O', 'F', 'J', 'S', 'T', 'U', 'D', 'M', 'S', 'T', 'U', 'D']"
            ]
          },
          "metadata": {},
          "execution_count": 83
        }
      ]
    },
    {
      "cell_type": "code",
      "metadata": {
        "colab": {
          "base_uri": "https://localhost:8080/"
        },
        "id": "DKqtfy8q4T4l",
        "outputId": "a64bca09-df1a-4f6b-c249-f8da0e7cc66e"
      },
      "source": [
        "re.findall('[A-Z]+', text) # 단어단위로 찾기 위해서 +를 해야 함"
      ],
      "execution_count": 85,
      "outputs": [
        {
          "output_type": "execute_result",
          "data": {
            "text/plain": [
              "['J', 'PROF', 'J', 'STUD', 'M', 'STUD']"
            ]
          },
          "metadata": {},
          "execution_count": 85
        }
      ]
    },
    {
      "cell_type": "code",
      "metadata": {
        "colab": {
          "base_uri": "https://localhost:8080/"
        },
        "id": "SJt6jsxj4mIk",
        "outputId": "b6908f89-01b2-404a-eef1-eb47a53f7811"
      },
      "source": [
        "re.findall('[A-Z]{4}', text) # {숫자} 만큼에 해당하는 단어 찾음"
      ],
      "execution_count": 87,
      "outputs": [
        {
          "output_type": "execute_result",
          "data": {
            "text/plain": [
              "['PROF', 'STUD', 'STUD']"
            ]
          },
          "metadata": {},
          "execution_count": 87
        }
      ]
    },
    {
      "cell_type": "code",
      "metadata": {
        "colab": {
          "base_uri": "https://localhost:8080/"
        },
        "id": "X8zJgB0U4s4Q",
        "outputId": "adb13171-76fa-4ab8-8f01-4175e700fb6b"
      },
      "source": [
        "re.findall('[A-Za-z]+', text) # 영어 문장만 찾음"
      ],
      "execution_count": 94,
      "outputs": [
        {
          "output_type": "execute_result",
          "data": {
            "text/plain": [
              "['John', 'PROF', 'James', 'STUD', 'Mac', 'STUD']"
            ]
          },
          "metadata": {},
          "execution_count": 94
        }
      ]
    },
    {
      "cell_type": "code",
      "metadata": {
        "id": "uvQPiH794xoj"
      },
      "source": [
        "# [A-Z][a-z] : 첫번째 글자는 대문자, 두번째는 소문자, 글자를 2개를 매칭함\n",
        "# [A-Aa-z] : 대문자 또는 소문자, 글자를 1개만 매칭함"
      ],
      "execution_count": 97,
      "outputs": []
    }
  ]
}