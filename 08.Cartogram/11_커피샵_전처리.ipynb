{
  "nbformat": 4,
  "nbformat_minor": 0,
  "metadata": {
    "colab": {
      "name": "11_커피샵_전처리.ipynb",
      "provenance": [],
      "collapsed_sections": []
    },
    "kernelspec": {
      "name": "python3",
      "display_name": "Python 3"
    },
    "language_info": {
      "name": "python"
    }
  },
  "cells": [
    {
      "cell_type": "markdown",
      "metadata": {
        "id": "-twQTQLep2PE"
      },
      "source": [
        "## 함수"
      ]
    },
    {
      "cell_type": "code",
      "metadata": {
        "id": "x-SCsfcmp5Ai"
      },
      "source": [
        "!apt-get install -y fonts-nanum > /dev/null\n",
        "!fc-cache -fv > /dev/null\n",
        "!rm -rf ~/.cache/matplotlib > /dev/null\n",
        "# 런타임 다시시작"
      ],
      "execution_count": 6,
      "outputs": []
    },
    {
      "cell_type": "code",
      "metadata": {
        "id": "Hng8CIzQp51H"
      },
      "source": [
        "import matplotlib as mpl\n",
        "import matplotlib.pyplot as plt\n",
        "mpl.rcParams['axes.unicode_minus'] = False\n",
        "plt.rc('font', family='NanumBarunGothic')"
      ],
      "execution_count": 1,
      "outputs": []
    },
    {
      "cell_type": "code",
      "metadata": {
        "id": "Yk_fG9YHp68a"
      },
      "source": [
        "import numpy as np\n",
        "import pandas as pd\n",
        "import warnings\n",
        "warnings.filterwarnings('ignore')"
      ],
      "execution_count": 2,
      "outputs": []
    },
    {
      "cell_type": "markdown",
      "metadata": {
        "id": "82AC5_06o_RX"
      },
      "source": [
        "# 커피지수 \n",
        "## 데이터로 부터 4개 커피샵에 대한 정보 추출해서 저장하기"
      ]
    },
    {
      "cell_type": "code",
      "metadata": {
        "colab": {
          "base_uri": "https://localhost:8080/"
        },
        "id": "4EesY5yGioKz",
        "outputId": "08c5b38f-de8e-4295-ea37-7a52944ae730"
      },
      "source": [
        "from google.colab import drive\n",
        "drive.mount('/content/mnt')"
      ],
      "execution_count": 1,
      "outputs": [
        {
          "output_type": "stream",
          "name": "stdout",
          "text": [
            "Mounted at /content/mnt\n"
          ]
        }
      ]
    },
    {
      "cell_type": "code",
      "metadata": {
        "id": "VNHEupCqoD7T"
      },
      "source": [
        "data_folder = '/content/mnt/MyDrive/data/소상공인시장진흥공단'"
      ],
      "execution_count": 3,
      "outputs": []
    },
    {
      "cell_type": "code",
      "metadata": {
        "id": "Gvp_f_k0tAA3"
      },
      "source": [
        "pd.read_csv(f'{file}', encoding='euc-kr')"
      ],
      "execution_count": null,
      "outputs": []
    },
    {
      "cell_type": "code",
      "metadata": {
        "colab": {
          "base_uri": "https://localhost:8080/",
          "height": 67
        },
        "id": "b0y6pvlFoRZB",
        "outputId": "222298dc-7adb-475e-c454-84b2e1e01176"
      },
      "source": [
        "from glob import glob\n",
        "cafe_list = ['스타벅스', '이디야', '커피빈', '빽다방']\n",
        "\n",
        "df = pd.DataFrame(columns=['상호명', '지점명', '시도명', '시군구명', '도로명주소'])\n",
        "\n",
        "for file in glob(f'{data_folder}/*.csv'):\n",
        "  sample = pd.read_csv(f'{file}')\n",
        "  sample_raw = sample[sample['상권업종중분류코드'].str.contains('Q12')]\n",
        "  df_raw = sample_raw[['상호명', '지점명', '시도명', '시군구명', '도로명주소']]\n",
        "  \n",
        "  for cafe in cafe_list:\n",
        "    s_raw = df_raw[df_raw['상호명'].str.contains(cafe)]\n",
        "    \n",
        "    pd.concat([df, s_raw])\n",
        "    \n",
        "\n",
        "\n",
        "\n",
        "print(df.shape)\n",
        "df.head()\n"
      ],
      "execution_count": 79,
      "outputs": [
        {
          "output_type": "stream",
          "name": "stdout",
          "text": [
            "(0, 5)\n"
          ]
        },
        {
          "output_type": "execute_result",
          "data": {
            "text/html": [
              "<div>\n",
              "<style scoped>\n",
              "    .dataframe tbody tr th:only-of-type {\n",
              "        vertical-align: middle;\n",
              "    }\n",
              "\n",
              "    .dataframe tbody tr th {\n",
              "        vertical-align: top;\n",
              "    }\n",
              "\n",
              "    .dataframe thead th {\n",
              "        text-align: right;\n",
              "    }\n",
              "</style>\n",
              "<table border=\"1\" class=\"dataframe\">\n",
              "  <thead>\n",
              "    <tr style=\"text-align: right;\">\n",
              "      <th></th>\n",
              "      <th>상호명</th>\n",
              "      <th>지점명</th>\n",
              "      <th>시도명</th>\n",
              "      <th>시군구명</th>\n",
              "      <th>도로명주소</th>\n",
              "    </tr>\n",
              "  </thead>\n",
              "  <tbody>\n",
              "  </tbody>\n",
              "</table>\n",
              "</div>"
            ],
            "text/plain": [
              "Empty DataFrame\n",
              "Columns: [상호명, 지점명, 시도명, 시군구명, 도로명주소]\n",
              "Index: []"
            ]
          },
          "metadata": {},
          "execution_count": 79
        }
      ]
    },
    {
      "cell_type": "code",
      "metadata": {
        "colab": {
          "base_uri": "https://localhost:8080/",
          "height": 576
        },
        "id": "L4V0UfQRx32C",
        "outputId": "c2d9b74c-9059-4692-a39d-5f5e62fb4b3c"
      },
      "source": [
        "s_raw"
      ],
      "execution_count": 81,
      "outputs": [
        {
          "output_type": "execute_result",
          "data": {
            "text/html": [
              "<div>\n",
              "<style scoped>\n",
              "    .dataframe tbody tr th:only-of-type {\n",
              "        vertical-align: middle;\n",
              "    }\n",
              "\n",
              "    .dataframe tbody tr th {\n",
              "        vertical-align: top;\n",
              "    }\n",
              "\n",
              "    .dataframe thead th {\n",
              "        text-align: right;\n",
              "    }\n",
              "</style>\n",
              "<table border=\"1\" class=\"dataframe\">\n",
              "  <thead>\n",
              "    <tr style=\"text-align: right;\">\n",
              "      <th></th>\n",
              "      <th>상호명</th>\n",
              "      <th>지점명</th>\n",
              "      <th>시도명</th>\n",
              "      <th>시군구명</th>\n",
              "      <th>도로명주소</th>\n",
              "    </tr>\n",
              "  </thead>\n",
              "  <tbody>\n",
              "    <tr>\n",
              "      <th>17814</th>\n",
              "      <td>빽다방</td>\n",
              "      <td>청주오송점</td>\n",
              "      <td>충청북도</td>\n",
              "      <td>청주시 흥덕구</td>\n",
              "      <td>충청북도 청주시 흥덕구 오송읍 오송생명5로 179</td>\n",
              "    </tr>\n",
              "    <tr>\n",
              "      <th>18261</th>\n",
              "      <td>빽다방</td>\n",
              "      <td>청주금천광장점</td>\n",
              "      <td>충청북도</td>\n",
              "      <td>청주시 상당구</td>\n",
              "      <td>충청북도 청주시 상당구 산성로98번길 35</td>\n",
              "    </tr>\n",
              "    <tr>\n",
              "      <th>26143</th>\n",
              "      <td>빽다방</td>\n",
              "      <td>청주가경골드점</td>\n",
              "      <td>충청북도</td>\n",
              "      <td>청주시 흥덕구</td>\n",
              "      <td>충청북도 청주시 흥덕구 가경로 9-22</td>\n",
              "    </tr>\n",
              "    <tr>\n",
              "      <th>27313</th>\n",
              "      <td>빽다방청주산남점</td>\n",
              "      <td>청주산남점</td>\n",
              "      <td>충청북도</td>\n",
              "      <td>청주시 서원구</td>\n",
              "      <td>충청북도 청주시 서원구 산남로 64</td>\n",
              "    </tr>\n",
              "    <tr>\n",
              "      <th>29656</th>\n",
              "      <td>빽다방</td>\n",
              "      <td>청주지웰시티점</td>\n",
              "      <td>충청북도</td>\n",
              "      <td>청주시 흥덕구</td>\n",
              "      <td>충청북도 청주시 흥덕구 대농로 39</td>\n",
              "    </tr>\n",
              "    <tr>\n",
              "      <th>34774</th>\n",
              "      <td>빽다방</td>\n",
              "      <td>충북영동점</td>\n",
              "      <td>충청북도</td>\n",
              "      <td>영동군</td>\n",
              "      <td>충청북도 영동군 영동읍 계산로 3</td>\n",
              "    </tr>\n",
              "    <tr>\n",
              "      <th>36573</th>\n",
              "      <td>빽다방</td>\n",
              "      <td>청주터미널점</td>\n",
              "      <td>충청북도</td>\n",
              "      <td>청주시 흥덕구</td>\n",
              "      <td>충청북도 청주시 흥덕구 풍년로 148-1</td>\n",
              "    </tr>\n",
              "    <tr>\n",
              "      <th>48365</th>\n",
              "      <td>빽다방</td>\n",
              "      <td>충북옥천점</td>\n",
              "      <td>충청북도</td>\n",
              "      <td>옥천군</td>\n",
              "      <td>충청북도 옥천군 옥천읍 중앙로 45-1</td>\n",
              "    </tr>\n",
              "    <tr>\n",
              "      <th>59722</th>\n",
              "      <td>빽다방</td>\n",
              "      <td>청주성안롯데점</td>\n",
              "      <td>충청북도</td>\n",
              "      <td>청주시 상당구</td>\n",
              "      <td>충청북도 청주시 상당구 성안로 13</td>\n",
              "    </tr>\n",
              "    <tr>\n",
              "      <th>64062</th>\n",
              "      <td>빽다방</td>\n",
              "      <td>충주신연수리첼점</td>\n",
              "      <td>충청북도</td>\n",
              "      <td>충주시</td>\n",
              "      <td>충청북도 충주시 번영대로 216</td>\n",
              "    </tr>\n",
              "    <tr>\n",
              "      <th>65018</th>\n",
              "      <td>빽다방</td>\n",
              "      <td>청주분평중앙점</td>\n",
              "      <td>충청북도</td>\n",
              "      <td>청주시 서원구</td>\n",
              "      <td>충청북도 청주시 서원구 1순환로1107번길 20</td>\n",
              "    </tr>\n",
              "    <tr>\n",
              "      <th>65506</th>\n",
              "      <td>빽다방</td>\n",
              "      <td>청주율량중앙점</td>\n",
              "      <td>충청북도</td>\n",
              "      <td>청주시 청원구</td>\n",
              "      <td>충청북도 청주시 청원구 율량로 104</td>\n",
              "    </tr>\n",
              "    <tr>\n",
              "      <th>70264</th>\n",
              "      <td>빽다방</td>\n",
              "      <td>충북대중문점</td>\n",
              "      <td>충청북도</td>\n",
              "      <td>청주시 서원구</td>\n",
              "      <td>충청북도 청주시 서원구 내수동로 101</td>\n",
              "    </tr>\n",
              "    <tr>\n",
              "      <th>81932</th>\n",
              "      <td>빽다방</td>\n",
              "      <td>서원대점</td>\n",
              "      <td>충청북도</td>\n",
              "      <td>청주시 서원구</td>\n",
              "      <td>충청북도 청주시 서원구 서원남로 50-5</td>\n",
              "    </tr>\n",
              "    <tr>\n",
              "      <th>83276</th>\n",
              "      <td>빽다방</td>\n",
              "      <td>진천점</td>\n",
              "      <td>충청북도</td>\n",
              "      <td>진천군</td>\n",
              "      <td>충청북도 진천군 진천읍 상산로 73</td>\n",
              "    </tr>\n",
              "    <tr>\n",
              "      <th>83369</th>\n",
              "      <td>빽다방</td>\n",
              "      <td>청주강서점</td>\n",
              "      <td>충청북도</td>\n",
              "      <td>청주시 흥덕구</td>\n",
              "      <td>충청북도 청주시 흥덕구 강서로 115</td>\n",
              "    </tr>\n",
              "    <tr>\n",
              "      <th>83757</th>\n",
              "      <td>빽다방</td>\n",
              "      <td>NaN</td>\n",
              "      <td>충청북도</td>\n",
              "      <td>증평군</td>\n",
              "      <td>충청북도 증평군 증평읍 중앙로 197</td>\n",
              "    </tr>\n",
              "  </tbody>\n",
              "</table>\n",
              "</div>"
            ],
            "text/plain": [
              "            상호명       지점명   시도명     시군구명                        도로명주소\n",
              "17814       빽다방     청주오송점  충청북도  청주시 흥덕구  충청북도 청주시 흥덕구 오송읍 오송생명5로 179\n",
              "18261       빽다방   청주금천광장점  충청북도  청주시 상당구      충청북도 청주시 상당구 산성로98번길 35\n",
              "26143       빽다방   청주가경골드점  충청북도  청주시 흥덕구        충청북도 청주시 흥덕구 가경로 9-22\n",
              "27313  빽다방청주산남점     청주산남점  충청북도  청주시 서원구          충청북도 청주시 서원구 산남로 64\n",
              "29656       빽다방   청주지웰시티점  충청북도  청주시 흥덕구          충청북도 청주시 흥덕구 대농로 39\n",
              "34774       빽다방     충북영동점  충청북도      영동군           충청북도 영동군 영동읍 계산로 3\n",
              "36573       빽다방    청주터미널점  충청북도  청주시 흥덕구       충청북도 청주시 흥덕구 풍년로 148-1\n",
              "48365       빽다방     충북옥천점  충청북도      옥천군        충청북도 옥천군 옥천읍 중앙로 45-1\n",
              "59722       빽다방   청주성안롯데점  충청북도  청주시 상당구          충청북도 청주시 상당구 성안로 13\n",
              "64062       빽다방  충주신연수리첼점  충청북도      충주시            충청북도 충주시 번영대로 216\n",
              "65018       빽다방   청주분평중앙점  충청북도  청주시 서원구   충청북도 청주시 서원구 1순환로1107번길 20\n",
              "65506       빽다방   청주율량중앙점  충청북도  청주시 청원구         충청북도 청주시 청원구 율량로 104\n",
              "70264       빽다방    충북대중문점  충청북도  청주시 서원구        충청북도 청주시 서원구 내수동로 101\n",
              "81932       빽다방      서원대점  충청북도  청주시 서원구       충청북도 청주시 서원구 서원남로 50-5\n",
              "83276       빽다방       진천점  충청북도      진천군          충청북도 진천군 진천읍 상산로 73\n",
              "83369       빽다방     청주강서점  충청북도  청주시 흥덕구         충청북도 청주시 흥덕구 강서로 115\n",
              "83757       빽다방       NaN  충청북도      증평군         충청북도 증평군 증평읍 중앙로 197"
            ]
          },
          "metadata": {},
          "execution_count": 81
        }
      ]
    },
    {
      "cell_type": "code",
      "metadata": {
        "id": "6OVZZT9uvrtb"
      },
      "source": [
        ""
      ],
      "execution_count": null,
      "outputs": []
    }
  ]
}